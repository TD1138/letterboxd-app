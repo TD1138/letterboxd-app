{
 "cells": [
  {
   "cell_type": "code",
   "execution_count": 1,
   "metadata": {},
   "outputs": [],
   "source": [
    "import pandas as pd\n",
    "import json\n",
    "# from justwatch import JustWatch\n",
    "from simplejustwatchapi.justwatch import search\n",
    "import sys\n",
    "sys.path.insert(0, '../data_prep')\n",
    "from sqlite_utils import get_from_table\n",
    "from dotenv import load_dotenv\n",
    "from datetime import datetime"
   ]
  },
  {
   "cell_type": "code",
   "execution_count": 2,
   "metadata": {},
   "outputs": [
    {
     "data": {
      "text/plain": [
       "True"
      ]
     },
     "execution_count": 2,
     "metadata": {},
     "output_type": "execute_result"
    }
   ],
   "source": [
    "load_dotenv()"
   ]
  },
  {
   "cell_type": "code",
   "execution_count": 7,
   "metadata": {},
   "outputs": [
    {
     "data": {
      "text/plain": [
       "'Predestination'"
      ]
     },
     "execution_count": 7,
     "metadata": {},
     "output_type": "execute_result"
    }
   ],
   "source": []
  },
  {
   "cell_type": "code",
   "execution_count": 10,
   "metadata": {},
   "outputs": [
    {
     "name": "stdout",
     "output_type": "stream",
     "text": [
      "Noah\n"
     ]
    },
    {
     "data": {
      "text/plain": [
       "[Offer(monetization_type='FLATRATE', presentation_type='HD', url='https://disneyplus.bn5x.net/c/1206980/705874/9358?u=https%3A%2F%2Fwww.disneyplus.com%2Fmovies%2Fnoah%2F27Zp9fVPjArK&subId3=justappsvod', price_string=None, price_value=None, price_currency='GBP', name='Disney Plus', technical_name='disneyplus', icon='https://images.justwatch.com/icon/313118777/s100/disneyplus.png'),\n",
       " Offer(monetization_type='ADS', presentation_type='HD', url='https://www.rakuten.tv/uk/movies/noah', price_string=None, price_value=None, price_currency='GBP', name='Rakuten TV', technical_name='wuaki', icon='https://images.justwatch.com/icon/128599720/s100/wuaki.png'),\n",
       " Offer(monetization_type='RENT', presentation_type='HD', url='https://tv.apple.com/gb/movie/noah/umc.cmc.226hj5rl43um9qxj8dnzmb9oo?at=1000l3V2&ct=app_tv&itscg=30200&itsct=justwatch_tv_12&playableId=tvs.sbd.9001%3A880438949', price_string='£3.49', price_value=3.49, price_currency='GBP', name='Apple TV', technical_name='itunes', icon='https://images.justwatch.com/icon/190848813/s100/itunes.png'),\n",
       " Offer(monetization_type='RENT', presentation_type='HD', url='https://watch.amazon.co.uk/detail?gti=amzn1.dv.gti.74ab73b2-78d1-e9f8-32bb-a0a551da0960', price_string='£3.49', price_value=3.49, price_currency='GBP', name='Amazon Video', technical_name='amazon', icon='https://images.justwatch.com/icon/430993/s100/amazon.png'),\n",
       " Offer(monetization_type='RENT', presentation_type='HD', url='https://play.google.com/store/movies/details/Noah?gl=GB&hl=en&id=dub4d5OLsls', price_string='£3.49', price_value=3.49, price_currency='GBP', name='Google Play Movies', technical_name='play', icon='https://images.justwatch.com/icon/169478387/s100/play.png'),\n",
       " Offer(monetization_type='RENT', presentation_type='HD', url='https://www.microsoft.com/en-gb/p/noah/8d6kgwzlwp6m', price_string='£3.49', price_value=3.49, price_currency='GBP', name='Microsoft Store', technical_name='microsoft', icon='https://images.justwatch.com/icon/820542/s100/microsoft.png'),\n",
       " Offer(monetization_type='RENT', presentation_type='HD', url='https://www.youtube.com/results?search_query=Noah%2Bmovie', price_string='£3.49', price_value=3.49, price_currency='GBP', name='YouTube', technical_name='youtube', icon='https://images.justwatch.com/icon/59562423/s100/youtube.png')]"
      ]
     },
     "execution_count": 10,
     "metadata": {},
     "output_type": "execute_result"
    }
   ],
   "source": [
    "film_id = 'f_034QA'\n",
    "# with open('my_streaming_services.json', 'r') as schema:\n",
    "#     my_streaming_services = json.load(schema)\n",
    "# my_streaming_services_abbr = [x for x in set([x['technical_name'] for x in my_streaming_services]) if len(x) > 0]\n",
    "# abbr_to_full_dict = {x['technical_name']:x['streaming_service'] for x in my_streaming_services if len(x['provider_abbreviation']) > 0}\n",
    "# abbr_to_full_dict['rent'] = 'Rental'\n",
    "film_url_title = get_from_table('FILM_URL_TITLE', film_id, 'FILM_URL_TITLE')\n",
    "film_title = get_from_table('FILM_TITLE', film_id, 'FILM_TITLE')\n",
    "valid_abbr = ['none']\n",
    "valid_full = ['none']\n",
    "min_rental_price = None\n",
    "valid = 0\n",
    "if film_title:\n",
    "    print(film_title)\n",
    "    imdb_id = get_from_table('IMDB_ID', film_id, 'IMDB_ID')\n",
    "    film_release_year = get_from_table('FILM_YEAR', film_id, 'FILM_YEAR')\n",
    "    results = search(film_title, 'GB', 'en', 10, True)\n",
    "    offers = [x.offers for x in results if x.imdb_id == imdb_id]\n",
    "    if offers:\n",
    "        offers = offers[0]\n",
    "    else:\n",
    "        offers = None    \n",
    "else:\n",
    "    offers = None\n",
    "offers\n"
   ]
  },
  {
   "cell_type": "code",
   "execution_count": null,
   "metadata": {},
   "outputs": [],
   "source": [
    "if offers:\n",
    "    provider_abbreviations = list(set([x.technical_name for x in offers if x.monetization_type in ['FLATRATE', 'FREE', 'ADS']]))\n",
    "    valid_abbr = [x for x in provider_abbreviations if x in my_streaming_services_abbr]\n",
    "    min_rental_price = 0\n",
    "    valid = 1\n",
    "    if len(valid_abbr) == 0:\n",
    "        valid_abbr = ['rent']\n",
    "        rental_prices = [x.price_value for x in offers if x.monetization_type == 'RENT' and x.presentation_type == 'HD']\n",
    "        if len(rental_prices) > 0:\n",
    "            min_rental_price = min(rental_prices)\n",
    "        else:\n",
    "            min_rental_price = None\n",
    "            valid = 0\n",
    "    valid_full = [abbr_to_full_dict.get(x) for x in valid_abbr]\n",
    "        \n",
    "streaming_record = {\n",
    "    'FILM_ID': [film_id]*len(valid_abbr),\n",
    "    'STREAMING_SERVICE_ABBR': valid_abbr,\n",
    "    'STREAMING_SERVICE_FULL': valid_full,\n",
    "    'CREATED_AT': [datetime.now()]*len(valid_abbr),\n",
    "    'PRICE': [min_rental_price]*len(valid_abbr),\n",
    "    'VALID': [valid]*len(valid_abbr)\n",
    "    }\n",
    "print(streaming_record)"
   ]
  },
  {
   "cell_type": "code",
   "execution_count": 102,
   "metadata": {},
   "outputs": [
    {
     "data": {
      "text/plain": [
       "('Shame', 1968, 'tt0063611')"
      ]
     },
     "execution_count": 102,
     "metadata": {},
     "output_type": "execute_result"
    }
   ],
   "source": [
    "film_title, film_release_year, imdb_id"
   ]
  },
  {
   "cell_type": "code",
   "execution_count": 105,
   "metadata": {},
   "outputs": [],
   "source": []
  },
  {
   "cell_type": "code",
   "execution_count": 98,
   "metadata": {},
   "outputs": [
    {
     "data": {
      "text/plain": [
       "[Offer(monetization_type='RENT', presentation_type='HD', url='https://www.microsoft.com/en-gb/p/the-hunger-games-the-ballad-of-songbirds-and-snakes/8d6kgwxxsrc3', price_string='£15.99', price_value=15.99, price_currency='GBP', name='Microsoft Store', technical_name='microsoft', icon='https://images.justwatch.com/icon/820542/s100/microsoft.png')]"
      ]
     },
     "execution_count": 98,
     "metadata": {},
     "output_type": "execute_result"
    }
   ],
   "source": [
    "[x for x in offers if x.monetization_type == 'RENT' and x.presentation_type == 'HD' and x.price_value]"
   ]
  },
  {
   "cell_type": "code",
   "execution_count": 87,
   "metadata": {},
   "outputs": [
    {
     "data": {
      "text/plain": [
       "[]"
      ]
     },
     "execution_count": 87,
     "metadata": {},
     "output_type": "execute_result"
    }
   ],
   "source": [
    "search('tt0165473', 'GB', 'en', 20, True)"
   ]
  },
  {
   "cell_type": "code",
   "execution_count": 83,
   "metadata": {},
   "outputs": [
    {
     "data": {
      "text/plain": [
       "[MediaEntry(entry_id='tm127778', object_id=127778, object_type='MOVIE', title='Demons', url='https://justwatch.com/uk/movie/demons-1985', release_year=1985, release_date='1985-10-04', runtime_minutes=89, short_description='A group of people are trapped in a West Berlin movie theater infested with ravenous demons who proceed to kill and possess the humans one-by-one, thereby multiplying their numbers.', genres=['hrr', 'eur'], imdb_id='tt0089013', poster='https://images.justwatch.com/poster/241404157/s718/demons-1985.jpg', backdrops=['https://images.justwatch.com/backdrop/259026007/s1920/demons-1985.jpg', 'https://images.justwatch.com/backdrop/22335329/s1920/demons-1985.jpg', 'https://images.justwatch.com/backdrop/10912808/s1920/demons-1985.jpg', 'https://images.justwatch.com/backdrop/259026006/s1920/demons-1985.jpg', 'https://images.justwatch.com/backdrop/302248827/s1920/demons-1985.jpg'], offers=[Offer(monetization_type='FLATRATE', presentation_type='HD', url='https://www.arrow-player.com/the-dark-of-the-matinee-1/videos/demons', price_string=None, price_value=None, price_currency='GBP', name='ARROW', technical_name='arrowplayer', icon='https://images.justwatch.com/icon/241658074/s100/arrowplayer.png'), Offer(monetization_type='FLATRATE', presentation_type='HD', url='https://watch.amazon.co.uk/detail?gti=amzn1.dv.gti.f0ad4393-78b4-89cc-2e77-c17b564f25a5', price_string=None, price_value=None, price_currency='GBP', name='Arrow Video Amazon Channel', technical_name='amazonarrowvideo', icon='https://images.justwatch.com/icon/248032558/s100/amazonarrowvideo.png'), Offer(monetization_type='FLATRATE', presentation_type='HD', url='https://watch.amazon.co.uk/detail?gti=amzn1.dv.gti.f0ad4393-78b4-89cc-2e77-c17b564f25a5', price_string=None, price_value=None, price_currency='GBP', name='Shudder Amazon Channel', technical_name='amazonshudder', icon='https://images.justwatch.com/icon/241732468/s100/amazonshudder.png'), Offer(monetization_type='RENT', presentation_type='SD', url='https://watch.amazon.co.uk/detail?gti=amzn1.dv.gti.f0ad4393-78b4-89cc-2e77-c17b564f25a5', price_string='£1.99', price_value=1.99, price_currency='GBP', name='Amazon Video', technical_name='amazon', icon='https://images.justwatch.com/icon/430993/s100/amazon.png'), Offer(monetization_type='RENT', presentation_type='SD', url='https://play.google.com/store/movies/details/Demons?gl=GB&hl=en&id=gfUKS4XhHL8', price_string='£2.49', price_value=2.49, price_currency='GBP', name='Google Play Movies', technical_name='play', icon='https://images.justwatch.com/icon/169478387/s100/play.png'), Offer(monetization_type='RENT', presentation_type='SD', url='https://www.youtube.com/results?search_query=Demons%2Bmovie', price_string='£2.49', price_value=2.49, price_currency='GBP', name='YouTube', technical_name='youtube', icon='https://images.justwatch.com/icon/59562423/s100/youtube.png'), Offer(monetization_type='RENT', presentation_type='_4K', url='https://tv.apple.com/gb/movie/demons/umc.cmc.w8bbsyewfhhqx6qhulbsy7fl?playableId=tvs.sbd.9001%3A594146214', price_string='£3.49', price_value=3.49, price_currency='GBP', name='Apple TV', technical_name='itunes', icon='https://images.justwatch.com/icon/190848813/s100/itunes.png'), Offer(monetization_type='RENT', presentation_type='HD', url='https://www.rakuten.tv/uk/movies/demons', price_string='£3.49', price_value=3.49, price_currency='GBP', name='Rakuten TV', technical_name='wuaki', icon='https://images.justwatch.com/icon/128599720/s100/wuaki.png')]),\n",
       " MediaEntry(entry_id='ts17414', object_id=17414, object_type='SHOW', title='Demons', url='https://justwatch.com/uk/tv-series/demons', release_year=2009, release_date='2009-01-03', runtime_minutes=55, short_description=\"Luke Rutherford is your average teenager - until his dead father's best friend, Rupert Galvin turns up to reveal his secret destiny: he's the great-grandson of Abraham Van Helsing, the infamous vampire hunter. Luke is set to inherit the family mantle as a warrior against the supernatural entities that lie deep beneath the streets of modern-day London.\", genres=['scf', 'drm', 'fml', 'fnt', 'trl'], imdb_id='tt1157595', poster='https://images.justwatch.com/poster/245796315/s718/demons.jpg', backdrops=['https://images.justwatch.com/backdrop/310234549/s1920/demons.jpg'], offers=[]),\n",
       " MediaEntry(entry_id='tm353138', object_id=353138, object_type='MOVIE', title='Demons', url='https://justwatch.com/uk/movie/demons-2017', release_year=2017, release_date='2017-10-06', runtime_minutes=105, short_description='Celebrated fiction writer and former priest, Colin Hampstead, and his wife, Kayleigh, are tormented by the ghost of her late sister, as the details of her grisly death are slowly uncovered.', genres=['hrr'], imdb_id='tt6175486', poster='https://images.justwatch.com/poster/24466959/s718/demons-2017.jpg', backdrops=['https://images.justwatch.com/backdrop/24466960/s1920/demons-2017.jpg'], offers=[Offer(monetization_type='RENT', presentation_type='HD', url='https://watch.amazon.co.uk/detail?gti=amzn1.dv.gti.d6ba20e6-0299-2dea-c43e-d76aeb49b2c5', price_string='£1.99', price_value=1.99, price_currency='GBP', name='Amazon Video', technical_name='amazon', icon='https://images.justwatch.com/icon/430993/s100/amazon.png'), Offer(monetization_type='RENT', presentation_type='HD', url='https://tv.apple.com/gb/movie/demons/umc.cmc.1p2i5dhb8eize3v1rej3oaic9?playableId=tvs.sbd.9001%3A1281950140', price_string='£2.49', price_value=2.49, price_currency='GBP', name='Apple TV', technical_name='itunes', icon='https://images.justwatch.com/icon/190848813/s100/itunes.png')]),\n",
       " MediaEntry(entry_id='tm221644', object_id=221644, object_type='MOVIE', title='Demon', url='https://justwatch.com/uk/movie/demon', release_year=2015, release_date='2015-09-09', runtime_minutes=94, short_description='A bridegroom is possessed by an unquiet spirit in the midst of his own wedding celebration, in this clever take on the Jewish legend of the dybbuk.', genres=['trl', 'drm', 'hrr', 'eur', 'cmy', 'fnt'], imdb_id='tt4935158', poster='https://images.justwatch.com/poster/127640508/s718/demon.jpg', backdrops=['https://images.justwatch.com/backdrop/9348729/s1920/demon.jpg', 'https://images.justwatch.com/backdrop/9348730/s1920/demon.jpg'], offers=[]),\n",
       " MediaEntry(entry_id='tm438418', object_id=438418, object_type='MOVIE', title='Demons', url='https://justwatch.com/uk/movie/demons-2018', release_year=2018, release_date='2018-10-06', runtime_minutes=83, short_description='A role in a new production seems lucky for young actress Vicki until the torture that awaits her is revealed. Vicki refuses to be agonized in this satiric horror film about power, abuse and the hidden violence of creativity that contemplates the price of art.', genres=['hrr', 'cmy'], imdb_id='tt8452036', poster='https://images.justwatch.com/poster/172905237/s718/demons-2018.jpg', backdrops=['https://images.justwatch.com/backdrop/171082509/s1920/demons-2018.jpg'], offers=[]),\n",
       " MediaEntry(entry_id='tm194564', object_id=194564, object_type='MOVIE', title='Demons', url='https://justwatch.com/uk/movie/demons', release_year=2012, release_date='2012-11-09', runtime_minutes=118, short_description=\"When Joko, Ants and Reeda, all in their own good reasons, first enter a casino, they can't possibly be aware of the very existence of the demons inside them. Soon enough, they will know. But then it is already too late and their lives are suddenly caught in a fatal vortex.\", genres=['drm', 'eur'], imdb_id='tt2225324', poster='https://images.justwatch.com/poster/139131702/s718/demons.jpg', backdrops=['https://images.justwatch.com/backdrop/302712869/s1920/demons.jpg', 'https://images.justwatch.com/backdrop/199641377/s1920/demons.jpg'], offers=[]),\n",
       " MediaEntry(entry_id='tm227749', object_id=227749, object_type='MOVIE', title='Demons', url='https://justwatch.com/uk/movie/demons-2014', release_year=2014, release_date='2014-09-21', runtime_minutes=90, short_description='A young rock band visits a deserted house to record their new album but things take a nightmarish turn when their Satanist manager attempts to open the gates of Hell.', genres=['drm', 'hrr'], imdb_id='tt5359414', poster='https://images.justwatch.com/poster/142272096/s718/demons-2014.jpg', backdrops=[], offers=[]),\n",
       " MediaEntry(entry_id='tm842683', object_id=842683, object_type='MOVIE', title='Demon Slayer -Kimetsu no Yaiba- The Movie: Mugen Train', url='https://justwatch.com/uk/movie/demon-slayer-kimetsu-no-yaiba-the-movie-mugen-train', release_year=2020, release_date='2020-10-16', runtime_minutes=117, short_description=\"Tanjiro Kamado, joined with Inosuke Hashibira, a boy raised by boars who wears a boar's head, and Zenitsu Agatsuma, a scared boy who reveals his true power when he sleeps, boards the Infinity Train on a new mission with the Fire Hashira, Kyojuro Rengoku, to defeat a demon who has been tormenting the people and killing the demon slayers who oppose it!\", genres=['act', 'fnt', 'trl', 'ani'], imdb_id='tt11032374', poster='https://images.justwatch.com/poster/176260460/s718/demon-slayer-kimetsu-no-yaiba-the-movie-mugen-train.jpg', backdrops=['https://images.justwatch.com/backdrop/156704724/s1920/demon-slayer-kimetsu-no-yaiba-the-movie-mugen-train.jpg', 'https://images.justwatch.com/backdrop/244855876/s1920/demon-slayer-kimetsu-no-yaiba-the-movie-mugen-train.jpg', 'https://images.justwatch.com/backdrop/244629392/s1920/demon-slayer-kimetsu-no-yaiba-the-movie-mugen-train.jpg', 'https://images.justwatch.com/backdrop/244646564/s1920/demon-slayer-kimetsu-no-yaiba-the-movie-mugen-train.jpg', 'https://images.justwatch.com/backdrop/244855875/s1920/demon-slayer-kimetsu-no-yaiba-the-movie-mugen-train.jpg'], offers=[Offer(monetization_type='FLATRATE', presentation_type='HD', url='https://watch.amazon.co.uk/detail?gti=amzn1.dv.gti.c228be14-5d39-42c2-b5a9-9ec80505a81e', price_string=None, price_value=None, price_currency='GBP', name='Crunchyroll Amazon Channel', technical_name='amazoncrunchyroll', icon='https://images.justwatch.com/icon/309070534/s100/amazoncrunchyroll.png'), Offer(monetization_type='FLATRATE', presentation_type='HD', url='https://www.funimation.com/v/demon-slayer-kimetsu-no-yaiba/demon-slayer-kimetsu-no-yaiba-the-movie-mugen-train', price_string=None, price_value=None, price_currency='', name='Funimation Now', technical_name='funimationnow', icon='https://images.justwatch.com/icon/133139893/s100/funimationnow.png'), Offer(monetization_type='RENT', presentation_type='SD', url='https://watch.amazon.co.uk/detail?gti=amzn1.dv.gti.865dacf8-82ae-47bd-ae5f-38e002f7f5a2', price_string='£3.49', price_value=3.49, price_currency='GBP', name='Amazon Video', technical_name='amazon', icon='https://images.justwatch.com/icon/430993/s100/amazon.png'), Offer(monetization_type='RENT', presentation_type='SD', url='https://www.microsoft.com/en-gb/p/demon-slayer-kimetsu-no-yaiba-the-movie-mugen-train/8d6kgwxn8l9b', price_string='£3.49', price_value=3.49, price_currency='GBP', name='Microsoft Store', technical_name='microsoft', icon='https://images.justwatch.com/icon/820542/s100/microsoft.png'), Offer(monetization_type='RENT', presentation_type='SD', url='https://play.google.com/store/movies/details/Demon_Slayer_Kimetsu_no_Yaiba_the_Movie_Mugen_Trai?gl=GB&hl=en&id=bpzNBlywG4s.P', price_string='£4.49', price_value=4.49, price_currency='GBP', name='Google Play Movies', technical_name='play', icon='https://images.justwatch.com/icon/169478387/s100/play.png'), Offer(monetization_type='RENT', presentation_type='SD', url='https://www.youtube.com/results?search_query=Demon+Slayer%3A+Kimetsu+no+Yaiba+the+Movie%3A+Mugen+Train%2Bmovie', price_string='£4.49', price_value=4.49, price_currency='GBP', name='YouTube', technical_name='youtube', icon='https://images.justwatch.com/icon/59562423/s100/youtube.png'), Offer(monetization_type='RENT', presentation_type='HD', url='https://tv.apple.com/gb/movie/demon-slayer-the-movie-mugen-train/umc.cmc.3w12m80vzkxhxqcgnxwt1jxqd?playableId=tvs.sbd.9001%3A1576209856', price_string='£5.49', price_value=5.49, price_currency='GBP', name='Apple TV', technical_name='itunes', icon='https://images.justwatch.com/icon/190848813/s100/itunes.png'), Offer(monetization_type='BUY', presentation_type='HD', url='https://www.skystore.com/product/demon-slayer-the-movie-mugen-train/436cba3f-09d1-49b9-ada2-d5504bfd6a7d', price_string='£5.99', price_value=5.99, price_currency='GBP', name='Sky Store', technical_name='skystore', icon='https://images.justwatch.com/icon/208571850/s100/skystore.png')]),\n",
       " MediaEntry(entry_id='ts87466', object_id=87466, object_type='SHOW', title='Demon Slayer: Kimetsu no Yaiba', url='https://justwatch.com/uk/tv-series/demon-slayer-kimetsu-no-yaiba', release_year=2019, release_date='2019-04-06', runtime_minutes=26, short_description='A family is attacked by demons and only two members survive - Tanjiro and his sister Nezuko, who is turning into a demon slowly. Tanjiro sets out to become a demon slayer to avenge his family and cure his sister.', genres=['fnt', 'trl', 'ani', 'act', 'scf'], imdb_id='tt9335498', poster='https://images.justwatch.com/poster/255390803/s718/demon-slayer-kimetsu-no-yaiba.jpg', backdrops=['https://images.justwatch.com/backdrop/123738550/s1920/demon-slayer-kimetsu-no-yaiba.jpg', 'https://images.justwatch.com/backdrop/158967614/s1920/demon-slayer-kimetsu-no-yaiba.jpg', 'https://images.justwatch.com/backdrop/304924114/s1920/demon-slayer-kimetsu-no-yaiba.jpg', 'https://images.justwatch.com/backdrop/260482451/s1920/demon-slayer-kimetsu-no-yaiba.jpg', 'https://images.justwatch.com/backdrop/301978530/s1920/demon-slayer-kimetsu-no-yaiba.jpg'], offers=[Offer(monetization_type='FLATRATE', presentation_type='HD', url='http://www.netflix.com/title/81091393', price_string=None, price_value=None, price_currency='GBP', name='Netflix', technical_name='netflix', icon='https://images.justwatch.com/icon/207360008/s100/netflix.png'), Offer(monetization_type='FLATRATE', presentation_type='HD', url='https://www.funimation.com/v/demon-slayer-kimetsu-no-yaiba/cruelty', price_string=None, price_value=None, price_currency='', name='Funimation Now', technical_name='funimationnow', icon='https://images.justwatch.com/icon/133139893/s100/funimationnow.png'), Offer(monetization_type='FLATRATE', presentation_type='HD', url='http://www.netflix.com/title/81091393', price_string=None, price_value=None, price_currency='GBP', name='Netflix basic with Ads', technical_name='netflixbasicwithads', icon='https://images.justwatch.com/icon/301462744/s100/netflixbasicwithads.png'), Offer(monetization_type='FLATRATE', presentation_type='HD', url='https://www.crunchyroll.com/watch/GRG5JD92R/cruelty', price_string=None, price_value=None, price_currency='GBP', name='Crunchyroll', technical_name='crunchyroll', icon='https://images.justwatch.com/icon/127445869/s100/crunchyroll.png'), Offer(monetization_type='FLATRATE', presentation_type='HD', url='https://watch.amazon.co.uk/detail?gti=amzn1.dv.gti.0aeb3773-33f6-49ab-b02d-4e7b35490762', price_string=None, price_value=None, price_currency='GBP', name='Crunchyroll Amazon Channel', technical_name='amazoncrunchyroll', icon='https://images.justwatch.com/icon/309070534/s100/amazoncrunchyroll.png'), Offer(monetization_type='BUY', presentation_type='SD', url='https://play.google.com/store/tv/show?cdid=tvseason-IUJzo-BfQJY.P&gl=GB&hl=en&id=_Nx9fDn50d0.P', price_string='£54.49', price_value=54.49, price_currency='GBP', name='Google Play Movies', technical_name='play', icon='https://images.justwatch.com/icon/169478387/s100/play.png'), Offer(monetization_type='BUY', presentation_type='HD', url='https://tv.apple.com/gb/show/demon-slayer-kimetsu-no-yaiba/umc.cmc.1lfa5s90fe9hsizlhvvkcpxiq', price_string='£54.99', price_value=54.99, price_currency='GBP', name='Apple TV', technical_name='itunes', icon='https://images.justwatch.com/icon/190848813/s100/itunes.png'), Offer(monetization_type='BUY', presentation_type='HD', url='https://watch.amazon.co.uk/detail?gti=amzn1.dv.gti.bffe57e7-7084-401c-91e5-e7da0001bc8a', price_string='£54.99', price_value=54.99, price_currency='GBP', name='Amazon Video', technical_name='amazon', icon='https://images.justwatch.com/icon/430993/s100/amazon.png'), Offer(monetization_type='BUY', presentation_type='HD', url='https://www.microsoft.com/en-gb/p/series-1/8d6kgwxn8707', price_string='£64.74', price_value=64.73, price_currency='GBP', name='Microsoft Store', technical_name='microsoft', icon='https://images.justwatch.com/icon/820542/s100/microsoft.png')]),\n",
       " MediaEntry(entry_id='tm468019', object_id=468019, object_type='MOVIE', title='A Purgatory Story', url='https://justwatch.com/uk/movie/a-purgatory-story', release_year=2019, release_date='2019-04-12', runtime_minutes=16, short_description='A demon stuck with spirit board duty falls for a girl on the other side.', genres=['fnt', 'cmy', 'rma'], imdb_id=None, poster='https://images.justwatch.com/poster/191712726/s718/a-purgatory-story.jpg', backdrops=['https://images.justwatch.com/backdrop/191712728/s1920/a-purgatory-story.jpg'], offers=[])]"
      ]
     },
     "execution_count": 83,
     "metadata": {},
     "output_type": "execute_result"
    }
   ],
   "source": [
    "results"
   ]
  },
  {
   "cell_type": "code",
   "execution_count": 68,
   "metadata": {},
   "outputs": [
    {
     "data": {
      "text/plain": [
       "[['Mad Max 2: The Road Warrior',\n",
       "  'Mad Max 2',\n",
       "  [Offer(monetization_type='RENT', presentation_type='_4K', url='https://tv.apple.com/gb/movie/mad-max-2-the-road-warrior/umc.cmc.6eaxo321g6k6dqcgyg00jmrfn?playableId=tvs.sbd.9001%3A283086872', price_string='£3.49', price_value=3.49, price_currency='GBP', name='Apple TV', technical_name='itunes', icon='https://images.justwatch.com/icon/190848813/s100/itunes.png'),\n",
       "   Offer(monetization_type='RENT', presentation_type='HD', url='https://watch.amazon.co.uk/detail?gti=amzn1.dv.gti.4ca9f65c-b70a-6529-a688-6fa3780b059d', price_string='£3.49', price_value=3.49, price_currency='GBP', name='Amazon Video', technical_name='amazon', icon='https://images.justwatch.com/icon/430993/s100/amazon.png'),\n",
       "   Offer(monetization_type='RENT', presentation_type='SD', url='https://play.google.com/store/movies/details/Mad_Max_2_The_Road_Warrior?gl=GB&hl=en&id=TmYDBHfz3Q8.P', price_string='£3.49', price_value=3.49, price_currency='GBP', name='Google Play Movies', technical_name='play', icon='https://images.justwatch.com/icon/169478387/s100/play.png'),\n",
       "   Offer(monetization_type='RENT', presentation_type='HD', url='https://www.skystore.com/product/mad-max-2-the-road-warrior/4f8bade3-86f5-4d93-88bf-3d1444f1b917', price_string='£3.49', price_value=3.49, price_currency='GBP', name='Sky Store', technical_name='skystore', icon='https://images.justwatch.com/icon/208571850/s100/skystore.png'),\n",
       "   Offer(monetization_type='RENT', presentation_type='_4K', url='https://www.microsoft.com/en-gb/p/mad-max-2-the-road-warrior/8d6kgwzl4zdf', price_string='£3.49', price_value=3.49, price_currency='GBP', name='Microsoft Store', technical_name='microsoft', icon='https://images.justwatch.com/icon/820542/s100/microsoft.png'),\n",
       "   Offer(monetization_type='RENT', presentation_type='SD', url='https://www.youtube.com/results?search_query=Mad+Max+2%3A+The+Road+Warrior%2Bmovie', price_string='£3.49', price_value=3.49, price_currency='GBP', name='YouTube', technical_name='youtube', icon='https://images.justwatch.com/icon/59562423/s100/youtube.png'),\n",
       "   Offer(monetization_type='RENT', presentation_type='HD', url='https://www.rakuten.tv/uk/movies/mad-max-2-the-road-warrior', price_string='£3.49', price_value=3.49, price_currency='GBP', name='Rakuten TV', technical_name='wuaki', icon='https://images.justwatch.com/icon/128599720/s100/wuaki.png')],\n",
       "  0],\n",
       " ['Mad Max',\n",
       "  'Mad Max 2',\n",
       "  [Offer(monetization_type='FLATRATE', presentation_type='HD', url='https://www.sky.com/watch/sky-go/all?uuid=343d29e6-ec0c-413d-a9cf-e9ed17ab14fd&videoId=A5EK6sKrAaydCVQguZER7', price_string=None, price_value=None, price_currency='GBP', name='Sky Go', technical_name='skygo', icon='https://images.justwatch.com/icon/246622422/s100/skygo.png'),\n",
       "   Offer(monetization_type='RENT', presentation_type='_4K', url='https://tv.apple.com/gb/movie/mad-max/umc.cmc.55tkmr9z7c6wgu8ylbuai4w3i?playableId=tvs.sbd.9001%3A1580805077', price_string='£3.49', price_value=3.49, price_currency='GBP', name='Apple TV', technical_name='itunes', icon='https://images.justwatch.com/icon/190848813/s100/itunes.png'),\n",
       "   Offer(monetization_type='RENT', presentation_type='SD', url='https://play.google.com/store/movies/details/Mad_Max_1979?gl=GB&hl=en&id=tnZqOV-FMDA', price_string='£3.49', price_value=3.49, price_currency='GBP', name='Google Play Movies', technical_name='play', icon='https://images.justwatch.com/icon/169478387/s100/play.png'),\n",
       "   Offer(monetization_type='RENT', presentation_type='HD', url='https://www.skystore.com/product/mad-max/5f7105d8-3954-4121-9ddc-9bcd6b80fb4d', price_string='£3.49', price_value=3.49, price_currency='GBP', name='Sky Store', technical_name='skystore', icon='https://images.justwatch.com/icon/208571850/s100/skystore.png'),\n",
       "   Offer(monetization_type='RENT', presentation_type='_4K', url='https://www.microsoft.com/en-gb/p/mad-max/8d6kgwzl5w85', price_string='£3.49', price_value=3.49, price_currency='GBP', name='Microsoft Store', technical_name='microsoft', icon='https://images.justwatch.com/icon/820542/s100/microsoft.png'),\n",
       "   Offer(monetization_type='RENT', presentation_type='SD', url='https://www.youtube.com/results?search_query=Mad+Max+%281979%29%2Bmovie', price_string='£3.49', price_value=3.49, price_currency='GBP', name='YouTube', technical_name='youtube', icon='https://images.justwatch.com/icon/59562423/s100/youtube.png'),\n",
       "   Offer(monetization_type='RENT', presentation_type='HD', url='https://www.rakuten.tv/uk/movies/mad-max', price_string='£3.49', price_value=3.49, price_currency='GBP', name='Rakuten TV', technical_name='wuaki', icon='https://images.justwatch.com/icon/128599720/s100/wuaki.png'),\n",
       "   Offer(monetization_type='BUY', presentation_type='HD', url='https://watch.amazon.co.uk/detail?gti=amzn1.dv.gti.c4a9f665-96e2-acd0-0945-3dbe2094c69f', price_string='£7.99', price_value=7.99, price_currency='GBP', name='Amazon Video', technical_name='amazon', icon='https://images.justwatch.com/icon/430993/s100/amazon.png')],\n",
       "  2],\n",
       " ['Mad Max Beyond Thunderdome',\n",
       "  'Mad Max 2',\n",
       "  [Offer(monetization_type='RENT', presentation_type='_4K', url='https://tv.apple.com/gb/movie/mad-max-beyond-thunderdome/umc.cmc.4a239tboiph2lc6wl023qvord?playableId=tvs.sbd.9001%3A1590570642', price_string='£3.49', price_value=3.49, price_currency='GBP', name='Apple TV', technical_name='itunes', icon='https://images.justwatch.com/icon/190848813/s100/itunes.png'),\n",
       "   Offer(monetization_type='RENT', presentation_type='HD', url='https://watch.amazon.co.uk/detail?gti=amzn1.dv.gti.3aa9f69e-a8e1-40bc-fa6f-3a4859f69c85', price_string='£3.49', price_value=3.49, price_currency='GBP', name='Amazon Video', technical_name='amazon', icon='https://images.justwatch.com/icon/430993/s100/amazon.png'),\n",
       "   Offer(monetization_type='RENT', presentation_type='SD', url='https://play.google.com/store/movies/details/Mad_Max_3_Beyond_Thunderdome?gl=GB&hl=en&id=coHwxO4qpfI.P', price_string='£3.49', price_value=3.49, price_currency='GBP', name='Google Play Movies', technical_name='play', icon='https://images.justwatch.com/icon/169478387/s100/play.png'),\n",
       "   Offer(monetization_type='RENT', presentation_type='HD', url='https://www.skystore.com/product/mad-max-beyond-thunderdome/24c27dcc-8100-44e7-96c8-2bb13fd26f75', price_string='£3.49', price_value=3.49, price_currency='GBP', name='Sky Store', technical_name='skystore', icon='https://images.justwatch.com/icon/208571850/s100/skystore.png'),\n",
       "   Offer(monetization_type='RENT', presentation_type='_4K', url='https://www.microsoft.com/en-gb/p/mad-max-3-beyond-thunderdome/8d6kgwzl58qb', price_string='£3.49', price_value=3.49, price_currency='GBP', name='Microsoft Store', technical_name='microsoft', icon='https://images.justwatch.com/icon/820542/s100/microsoft.png'),\n",
       "   Offer(monetization_type='RENT', presentation_type='SD', url='https://www.youtube.com/results?search_query=Mad+Max+3%3A+Beyond+Thunderdome%2Bmovie', price_string='£3.49', price_value=3.49, price_currency='GBP', name='YouTube', technical_name='youtube', icon='https://images.justwatch.com/icon/59562423/s100/youtube.png'),\n",
       "   Offer(monetization_type='RENT', presentation_type='HD', url='https://www.rakuten.tv/uk/movies/mad-max-beyond-thunderdome', price_string='£3.49', price_value=3.49, price_currency='GBP', name='Rakuten TV', technical_name='wuaki', icon='https://images.justwatch.com/icon/128599720/s100/wuaki.png')],\n",
       "  4],\n",
       " ['Mad Max: Fury Road',\n",
       "  'Mad Max 2',\n",
       "  [Offer(monetization_type='FLATRATE', presentation_type='HD', url='https://www.sky.com/watch/sky-go/all?uuid=38108067-e128-407f-a1f2-0b2d527af66a&videoId=A5EK6sKrAaydCVTZrx4yd', price_string=None, price_value=None, price_currency='GBP', name='Sky Go', technical_name='skygo', icon='https://images.justwatch.com/icon/246622422/s100/skygo.png'),\n",
       "   Offer(monetization_type='FLATRATE', presentation_type='HD', url='https://www.nowtv.com/watch/mad-max-fury-road-2015/A5EK6sKrAaydCVTZrx4yd', price_string=None, price_value=None, price_currency='GBP', name='Now TV Cinema', technical_name='nowtvcinema', icon='https://images.justwatch.com/icon/246949331/s100/nowtvcinema.png'),\n",
       "   Offer(monetization_type='RENT', presentation_type='_4K', url='https://tv.apple.com/gb/movie/mad-max-fury-road/umc.cmc.6xerenwn1999cjd2y6421r2ex?playableId=tvs.sbd.9001%3A990549112', price_string='£3.49', price_value=3.49, price_currency='GBP', name='Apple TV', technical_name='itunes', icon='https://images.justwatch.com/icon/190848813/s100/itunes.png'),\n",
       "   Offer(monetization_type='RENT', presentation_type='HD', url='https://watch.amazon.co.uk/detail?gti=amzn1.dv.gti.d4a9f697-7131-672d-d6c5-cb0e148d7980', price_string='£3.49', price_value=3.49, price_currency='GBP', name='Amazon Video', technical_name='amazon', icon='https://images.justwatch.com/icon/430993/s100/amazon.png'),\n",
       "   Offer(monetization_type='RENT', presentation_type='SD', url='https://play.google.com/store/movies/details/Mad_Max_Fury_Road?gl=GB&hl=en&id=NOpIn7-JfNQ.P', price_string='£3.49', price_value=3.49, price_currency='GBP', name='Google Play Movies', technical_name='play', icon='https://images.justwatch.com/icon/169478387/s100/play.png'),\n",
       "   Offer(monetization_type='RENT', presentation_type='HD', url='https://www.skystore.com/product/mad-max-fury-road/79f2cd97-49e0-4a6e-8395-8a51c3ba725e', price_string='£3.49', price_value=3.49, price_currency='GBP', name='Sky Store', technical_name='skystore', icon='https://images.justwatch.com/icon/208571850/s100/skystore.png'),\n",
       "   Offer(monetization_type='RENT', presentation_type='_4K', url='https://www.microsoft.com/en-gb/p/mad-max-fury-road/8d6kgx01hh42', price_string='£3.49', price_value=3.49, price_currency='GBP', name='Microsoft Store', technical_name='microsoft', icon='https://images.justwatch.com/icon/820542/s100/microsoft.png'),\n",
       "   Offer(monetization_type='RENT', presentation_type='SD', url='https://www.youtube.com/results?search_query=Mad+Max%3A+Fury+Road%2Bmovie', price_string='£3.49', price_value=3.49, price_currency='GBP', name='YouTube', technical_name='youtube', icon='https://images.justwatch.com/icon/59562423/s100/youtube.png'),\n",
       "   Offer(monetization_type='RENT', presentation_type='_4K', url='https://www.rakuten.tv/uk/movies/mad-max-fury-road', price_string='£3.49', price_value=3.49, price_currency='GBP', name='Rakuten TV', technical_name='wuaki', icon='https://images.justwatch.com/icon/128599720/s100/wuaki.png')],\n",
       "  34],\n",
       " ['Furiosa: A Mad Max Saga', 'Mad Max 2', [], 43]]"
      ]
     },
     "execution_count": 68,
     "metadata": {},
     "output_type": "execute_result"
    }
   ],
   "source": [
    "[[x.title.replace('-', '–'), film_title, x.offers, abs(x.release_year-film_release_year)] for x in results]"
   ]
  },
  {
   "cell_type": "code",
   "execution_count": 53,
   "metadata": {},
   "outputs": [
    {
     "data": {
      "text/plain": [
       "[MediaEntry(entry_id='tm186297', object_id=186297, object_type='MOVIE', title='Three Colors: Blue', url='https://justwatch.com/uk/movie/three-colors-blue', release_year=1993, release_date='1993-09-08', runtime_minutes=98, short_description='The wife of a famous composer survives a car accident that kills her husband and daughter. Now alone, she shakes off her old identity and explores her newfound freedom but finds that she is unbreakably bound to other humans, including her husband’s mistress, whose existence she never suspected.', genres=['drm', 'eur', 'msc', 'rma'], imdb_id='tt0108394', poster='https://images.justwatch.com/poster/249418014/s718/three-colors-blue.jpg', backdrops=['https://images.justwatch.com/backdrop/161615880/s1920/three-colors-blue.jpg', 'https://images.justwatch.com/backdrop/176974274/s1920/three-colors-blue.jpg', 'https://images.justwatch.com/backdrop/241404165/s1920/three-colors-blue.jpg', 'https://images.justwatch.com/backdrop/166181724/s1920/three-colors-blue.jpg', 'https://images.justwatch.com/backdrop/166181715/s1920/three-colors-blue.jpg'], offers=[Offer(monetization_type='FLATRATE', presentation_type='HD', url='https://watch.amazon.co.uk/detail?gti=amzn1.dv.gti.b2a9f69d-dca0-449a-ffb3-5dbef816e548', price_string=None, price_value=None, price_currency='GBP', name='Curzon Amazon Channel', technical_name='amazoncurzon', icon='https://images.justwatch.com/icon/292999360/s100/amazoncurzon.png'), Offer(monetization_type='RENT', presentation_type='SD', url='https://www.rakuten.tv/uk/movies/three-colours-blue', price_string='£1.99', price_value=1.99, price_currency='GBP', name='Rakuten TV', technical_name='wuaki', icon='https://images.justwatch.com/icon/128599720/s100/wuaki.png'), Offer(monetization_type='RENT', presentation_type='SD', url='https://watch.amazon.co.uk/detail?gti=amzn1.dv.gti.b2a9f69d-dca0-449a-ffb3-5dbef816e548', price_string='£2.49', price_value=2.49, price_currency='GBP', name='Amazon Video', technical_name='amazon', icon='https://images.justwatch.com/icon/430993/s100/amazon.png'), Offer(monetization_type='RENT', presentation_type='HD', url='https://tv.apple.com/gb/movie/three-colours-blue/umc.cmc.4crn4v7ed9f33ng7e168126kt?playableId=tvs.sbd.9001%3A471585932', price_string='£3.49', price_value=3.49, price_currency='GBP', name='Apple TV', technical_name='itunes', icon='https://images.justwatch.com/icon/190848813/s100/itunes.png'), Offer(monetization_type='RENT', presentation_type='SD', url='https://play.google.com/store/movies/details/Three_Colours_Blue?gl=GB&hl=en&id=GfagHgIhi1E', price_string='£3.49', price_value=3.49, price_currency='GBP', name='Google Play Movies', technical_name='play', icon='https://images.justwatch.com/icon/169478387/s100/play.png'), Offer(monetization_type='RENT', presentation_type='SD', url='https://www.youtube.com/results?search_query=Three+Colours+Blue%2Bmovie', price_string='£3.49', price_value=3.49, price_currency='GBP', name='YouTube', technical_name='youtube', icon='https://images.justwatch.com/icon/59562423/s100/youtube.png'), Offer(monetization_type='RENT', presentation_type='HD', url='https://homecinema.curzon.com/film/three-colours-blue/', price_string='£4.00', price_value=4, price_currency='GBP', name='Curzon Home Cinema', technical_name='curzonhomecinema', icon='https://images.justwatch.com/icon/301536333/s100/curzonhomecinema.png')]),\n",
       " MediaEntry(entry_id='ts10722', object_id=10722, object_type='SHOW', title='Blue Bloods', url='https://justwatch.com/uk/tv-series/blue-bloods', release_year=2010, release_date='2010-09-24', runtime_minutes=42, short_description='A drama about a multi-generational family of cops dedicated to New York City law enforcement. Frank Reagan is the New York Police Commissioner and heads both the police force and the Reagan brood. He runs his department as diplomatically as he runs his family, even when dealing with the politics that plagued his unapologetically bold father, Henry, during his stint as Chief.', genres=['drm', 'crm', 'trl'], imdb_id='tt1595859', poster='https://images.justwatch.com/poster/250978615/s718/blue-bloods.jpg', backdrops=['https://images.justwatch.com/backdrop/300826493/s1920/blue-bloods.jpg', 'https://images.justwatch.com/backdrop/305928492/s1920/blue-bloods.jpg', 'https://images.justwatch.com/backdrop/239555009/s1920/blue-bloods.jpg', 'https://images.justwatch.com/backdrop/305928500/s1920/blue-bloods.jpg', 'https://images.justwatch.com/backdrop/305928497/s1920/blue-bloods.jpg'], offers=[Offer(monetization_type='BUY', presentation_type='HD', url='https://watch.amazon.co.uk/detail?gti=amzn1.dv.gti.aca9f665-8450-da9f-0074-cc772a2e635e', price_string='£249.87', price_value=249.87, price_currency='GBP', name='Amazon Video', technical_name='amazon', icon='https://images.justwatch.com/icon/430993/s100/amazon.png'), Offer(monetization_type='BUY', presentation_type='HD', url='https://tv.apple.com/gb/show/blue-bloods/umc.cmc.84g6qbryan15hhgtkq4o82r0', price_string='£300.87', price_value=300.87, price_currency='GBP', name='Apple TV', technical_name='itunes', icon='https://images.justwatch.com/icon/190848813/s100/itunes.png'), Offer(monetization_type='BUY', presentation_type='SD', url='https://play.google.com/store/tv/show?cdid=tvseason-b9nHysJ6Mluawceg62zyJg&gl=GB&hl=en&id=sohSBN1YR3s.P', price_string='£283.88', price_value=283.88, price_currency='GBP', name='Google Play Movies', technical_name='play', icon='https://images.justwatch.com/icon/169478387/s100/play.png'), Offer(monetization_type='FLATRATE', presentation_type='HD', url='https://www.paramountplus.com/shows/blue_bloods/video/1598643872/blue-bloods-pilot?searchReferral=', price_string=None, price_value=None, price_currency='GBP', name='Paramount Plus', technical_name='paramountplus', icon='https://images.justwatch.com/icon/242706661/s100/paramountplus.png'), Offer(monetization_type='FLATRATE', presentation_type='HD', url='https://watch.amazon.co.uk/detail?gti=amzn1.dv.gti.56a9f69b-7c0c-8ea7-988a-fc2a82c55531', price_string=None, price_value=None, price_currency='GBP', name='Paramount+ Amazon Channel', technical_name='amazonparamountplus', icon='https://images.justwatch.com/icon/246478651/s100/amazonparamountplus.png'), Offer(monetization_type='FLATRATE', presentation_type='HD', url='https://tv.apple.com', price_string=None, price_value=None, price_currency='GBP', name='Paramount Plus Apple TV Channel ', technical_name='appletvparamountplus', icon='https://images.justwatch.com/icon/303391391/s100/appletvparamountplus.png'), Offer(monetization_type='FLATRATE', presentation_type='HD', url='https://www.sky.com/watch/sky-go/all?uuid=e83c14be-be54-4a9b-90a1-fb75d2eade2f&videoId=9938718', price_string=None, price_value=None, price_currency='GBP', name='Sky Go', technical_name='skygo', icon='https://images.justwatch.com/icon/246622422/s100/skygo.png'), Offer(monetization_type='FLATRATE', presentation_type='HD', url='https://www.nowtv.com/watch/blue-bloods/iYEQYZDoViN8NdM2KjCpko/seasons/11/episodes/1/A5EK4hNSMYgNYjA1XyP7q', price_string=None, price_value=None, price_currency='GBP', name='Now TV', technical_name='nowtv', icon='https://images.justwatch.com/icon/243753092/s100/nowtv.png'), Offer(monetization_type='ADS', presentation_type='HD', url='https://www.my5.tv/blue-bloods/season-4/unwritten-rules', price_string=None, price_value=None, price_currency='GBP', name='My5', technical_name='my5', icon='https://images.justwatch.com/icon/146470618/s100/my5.png'), Offer(monetization_type='BUY', presentation_type='HD', url='https://www.skystore.com/product/blue-bloods-season-12/26f61386-430e-49c4-a293-3b079f6f0f18', price_string='£19.99', price_value=19.98, price_currency='GBP', name='Sky Store', technical_name='skystore', icon='https://images.justwatch.com/icon/208571850/s100/skystore.png')]),\n",
       " MediaEntry(entry_id='tm452641', object_id=452641, object_type='MOVIE', title='Blue Beetle', url='https://justwatch.com/uk/movie/blue-beetle', release_year=2023, release_date='2023-08-16', runtime_minutes=128, short_description='Recent college grad Jaime Reyes returns home full of aspirations for his future, only to find that home is not quite as he left it. As he searches to find his purpose in the world, fate intervenes when Jaime unexpectedly finds himself in possession of an ancient relic of alien biotechnology: the Scarab.', genres=['act', 'scf', 'trl'], imdb_id='tt9362930', poster='https://images.justwatch.com/poster/307630150/s718/blue-beetle.jpg', backdrops=['https://images.justwatch.com/backdrop/309559729/s1920/blue-beetle.jpg', 'https://images.justwatch.com/backdrop/306969906/s1920/blue-beetle.jpg', 'https://images.justwatch.com/backdrop/306861340/s1920/blue-beetle.jpg', 'https://images.justwatch.com/backdrop/310324192/s1920/blue-beetle.jpg', 'https://images.justwatch.com/backdrop/307711956/s1920/blue-beetle.jpg'], offers=[Offer(monetization_type='RENT', presentation_type='_4K', url='https://tv.apple.com/gb/movie/blue-beetle/umc.cmc.58xznkv7akesqjfosszk8vzlc?playableId=tvs.sbd.9001%3A1697382333', price_string='£4.99', price_value=4.99, price_currency='GBP', name='Apple TV', technical_name='itunes', icon='https://images.justwatch.com/icon/190848813/s100/itunes.png'), Offer(monetization_type='RENT', presentation_type='_4K', url='https://watch.amazon.co.uk/detail?gti=amzn1.dv.gti.434deeba-aba1-4f21-a1a7-56da6fb29cdc', price_string='£4.99', price_value=4.99, price_currency='GBP', name='Amazon Video', technical_name='amazon', icon='https://images.justwatch.com/icon/430993/s100/amazon.png'), Offer(monetization_type='RENT', presentation_type='SD', url='https://play.google.com/store/movies/details/Blue_Beetle?gl=GB&hl=en&id=MCnykBpfRoQ.P', price_string='£4.99', price_value=4.99, price_currency='GBP', name='Google Play Movies', technical_name='play', icon='https://images.justwatch.com/icon/169478387/s100/play.png'), Offer(monetization_type='RENT', presentation_type='HD', url='https://www.skystore.com/product/blue-beetle/9feaed02-88ca-4e38-8bb9-2c8dcd1c8ed6', price_string='£4.99', price_value=4.99, price_currency='GBP', name='Sky Store', technical_name='skystore', icon='https://images.justwatch.com/icon/208571850/s100/skystore.png'), Offer(monetization_type='RENT', presentation_type='SD', url='https://www.youtube.com/results?search_query=Blue+Beetle%2Bmovie', price_string='£4.99', price_value=4.99, price_currency='GBP', name='YouTube', technical_name='youtube', icon='https://images.justwatch.com/icon/59562423/s100/youtube.png'), Offer(monetization_type='RENT', presentation_type='_4K', url='https://www.microsoft.com/en-gb/p/blue-beetle/8d6kgwxxhnfh', price_string='£5.49', price_value=5.49, price_currency='GBP', name='Microsoft Store', technical_name='microsoft', icon='https://images.justwatch.com/icon/820542/s100/microsoft.png'), Offer(monetization_type='RENT', presentation_type='_4K', url='https://www.rakuten.tv/uk/movies/blue-beetle', price_string='£5.49', price_value=5.49, price_currency='GBP', name='Rakuten TV', technical_name='wuaki', icon='https://images.justwatch.com/icon/128599720/s100/wuaki.png')]),\n",
       " MediaEntry(entry_id='ts30735', object_id=30735, object_type='SHOW', title='NYPD Blue', url='https://justwatch.com/uk/tv-series/nypd-blue', release_year=1993, release_date='1993-09-21', runtime_minutes=46, short_description='Police drama set in New York City, exploring the internal and external struggles of the fictional 15th precinct of Manhattan. Each episode typically intertwined several plots involving an ensemble cast.', genres=['drm', 'trl', 'crm'], imdb_id='tt0106079', poster='https://images.justwatch.com/poster/241307281/s718/nypd-blue.jpg', backdrops=['https://images.justwatch.com/backdrop/307617287/s1920/nypd-blue.jpg', 'https://images.justwatch.com/backdrop/261398963/s1920/nypd-blue.jpg', 'https://images.justwatch.com/backdrop/174587818/s1920/nypd-blue.jpg', 'https://images.justwatch.com/backdrop/302759920/s1920/nypd-blue.jpg', 'https://images.justwatch.com/backdrop/304423737/s1920/nypd-blue.jpg'], offers=[Offer(monetization_type='FLATRATE', presentation_type='HD', url='https://disneyplus.bn5x.net/c/1206980/705874/9358?u=https%3A%2F%2Fwww.disneyplus.com%2Fseries%2Fnypd-blue%2F3iyjcJG3SQQR&subId3=justappsvod', price_string=None, price_value=None, price_currency='GBP', name='Disney Plus', technical_name='disneyplus', icon='https://images.justwatch.com/icon/147638351/s100/disneyplus.png'), Offer(monetization_type='BUY', presentation_type='SD', url='https://tv.apple.com/gb/show/nypd-blue/umc.cmc.1s5kt2zcrv2tnfphyy3t6dcih', price_string='£114.95', price_value=114.95, price_currency='GBP', name='Apple TV', technical_name='itunes', icon='https://images.justwatch.com/icon/190848813/s100/itunes.png'), Offer(monetization_type='BUY', presentation_type='HD', url='https://watch.amazon.co.uk/detail?gti=amzn1.dv.gti.c6a9f65f-5e5f-d82a-3b5e-aae44703d748', price_string='£122.45', price_value=122.45, price_currency='GBP', name='Amazon Video', technical_name='amazon', icon='https://images.justwatch.com/icon/430993/s100/amazon.png')]),\n",
       " MediaEntry(entry_id='ts257461', object_id=257461, object_type='SHOW', title='Blue Eye Samurai', url='https://justwatch.com/uk/tv-series/blue-eye-samurai', release_year=2023, release_date='2023-11-03', runtime_minutes=47, short_description='Driven by a dream of revenge against those who made her an outcast in Edo-period Japan, a young warrior cuts a bloody path toward her destiny.', genres=['ani', 'act', 'drm', 'hst', 'trl'], imdb_id='tt13309742', poster='https://images.justwatch.com/poster/307712985/s718/blue-eye-samurai.jpg', backdrops=['https://images.justwatch.com/backdrop/309876947/s1920/blue-eye-samurai.jpg', 'https://images.justwatch.com/backdrop/309164368/s1920/blue-eye-samurai.jpg', 'https://images.justwatch.com/backdrop/308675996/s1920/blue-eye-samurai.jpg', 'https://images.justwatch.com/backdrop/309164369/s1920/blue-eye-samurai.jpg', 'https://images.justwatch.com/backdrop/309876945/s1920/blue-eye-samurai.jpg'], offers=[Offer(monetization_type='FLATRATE', presentation_type='HD', url='http://www.netflix.com/title/81144203', price_string=None, price_value=None, price_currency='GBP', name='Netflix', technical_name='netflix', icon='https://images.justwatch.com/icon/207360008/s100/netflix.png'), Offer(monetization_type='FLATRATE', presentation_type='HD', url='http://www.netflix.com/title/81144203', price_string=None, price_value=None, price_currency='GBP', name='Netflix basic with Ads', technical_name='netflixbasicwithads', icon='https://images.justwatch.com/icon/301462744/s100/netflixbasicwithads.png')])]"
      ]
     },
     "execution_count": 53,
     "metadata": {},
     "output_type": "execute_result"
    }
   ],
   "source": [
    "results"
   ]
  },
  {
   "cell_type": "code",
   "execution_count": 33,
   "metadata": {},
   "outputs": [
    {
     "name": "stdout",
     "output_type": "stream",
     "text": [
      "S S True\n",
      "t t True\n",
      "a a True\n",
      "r r True\n",
      "    True\n",
      "W W True\n",
      "a a True\n",
      "r r True\n",
      "s s True\n",
      ": : True\n",
      "    True\n",
      "E E True\n",
      "p p True\n",
      "i i True\n",
      "s s True\n",
      "o o True\n",
      "d d True\n",
      "e e True\n",
      "    True\n",
      "I I True\n",
      "    True\n",
      "– – True\n",
      "    True\n",
      "T T True\n",
      "h h True\n",
      "e e True\n",
      "    True\n",
      "P P True\n",
      "h h True\n",
      "a a True\n",
      "n n True\n",
      "t t True\n",
      "o o True\n",
      "m m True\n",
      "    True\n",
      "M M True\n",
      "e e True\n",
      "n n True\n",
      "a a True\n",
      "c c True\n",
      "e e True\n"
     ]
    }
   ],
   "source": [
    "for a, b in zip([x.title.replace('-', '–') for x in results if x.release_year == film_release_year][0], film_title):\n",
    "    print(a, b, a==b)"
   ]
  },
  {
   "cell_type": "code",
   "execution_count": 12,
   "metadata": {},
   "outputs": [
    {
     "data": {
      "text/plain": [
       "False"
      ]
     },
     "execution_count": 12,
     "metadata": {},
     "output_type": "execute_result"
    }
   ],
   "source": [
    "'Star Wars: Episode I - The Phantom Menace' == film_title"
   ]
  },
  {
   "cell_type": "code",
   "execution_count": 6,
   "metadata": {},
   "outputs": [
    {
     "data": {
      "text/plain": [
       "[MediaEntry(entry_id='tm4', object_id=4, object_type='MOVIE', title='Star Wars: Episode I - The Phantom Menace', url='https://justwatch.com/uk/movie/star-wars-episode-i-the-phantom-menace', release_year=1999, release_date='1999-05-19', runtime_minutes=136, short_description='Anakin Skywalker, a young slave strong with the Force, is discovered on Tatooine. Meanwhile, the evil Sith have returned, enacting their plot for revenge against the Jedi.', genres=['scf', 'act', 'fnt'], imdb_id='tt0120915', poster='https://images.justwatch.com/poster/94015576/s718/star-wars-episode-i-the-phantom-menace.jpg', backdrops=['https://images.justwatch.com/backdrop/301558330/s1920/star-wars-episode-i-the-phantom-menace.jpg', 'https://images.justwatch.com/backdrop/304023697/s1920/star-wars-episode-i-the-phantom-menace.jpg', 'https://images.justwatch.com/backdrop/198407625/s1920/star-wars-episode-i-the-phantom-menace.jpg', 'https://images.justwatch.com/backdrop/8667086/s1920/star-wars-episode-i-the-phantom-menace.jpg', 'https://images.justwatch.com/backdrop/301605795/s1920/star-wars-episode-i-the-phantom-menace.jpg'], offers=[Offer(monetization_type='FLATRATE', presentation_type='_4K', url='https://disneyplus.bn5x.net/c/1206980/705874/9358?u=https%3A%2F%2Fwww.disneyplus.com%2Fmovies%2Fstar-wars-the-phantom-menace-episode-i%2F2ezYynkgW1AH&subId3=justappsvod', price_string=None, price_value=None, price_currency='GBP', name='Disney Plus', technical_name='disneyplus', icon='https://images.justwatch.com/icon/147638351/s100/disneyplus.png'), Offer(monetization_type='RENT', presentation_type='HD', url='https://www.rakuten.tv/uk/movies/star-wars-episode-i-the-phantom-menace-1999', price_string='£3.45', price_value=3.45, price_currency='GBP', name='Rakuten TV', technical_name='wuaki', icon='https://images.justwatch.com/icon/128599720/s100/wuaki.png'), Offer(monetization_type='RENT', presentation_type='_4K', url='https://tv.apple.com/gb/movie/star-wars-the-phantom-menace/umc.cmc.1x8mput5lh4l0u6vue0hbmhs3?playableId=tvs.sbd.9001%3A975080816', price_string='£3.49', price_value=3.49, price_currency='GBP', name='Apple TV', technical_name='itunes', icon='https://images.justwatch.com/icon/190848813/s100/itunes.png'), Offer(monetization_type='RENT', presentation_type='_4K', url='https://watch.amazon.co.uk/detail?gti=amzn1.dv.gti.5aa9f681-d222-8fdf-c896-91a84dd6cd45', price_string='£3.49', price_value=3.49, price_currency='GBP', name='Amazon Video', technical_name='amazon', icon='https://images.justwatch.com/icon/430993/s100/amazon.png'), Offer(monetization_type='RENT', presentation_type='SD', url='https://play.google.com/store/movies/details/Star_Wars_The_Phantom_Menace?gl=GB&hl=en&id=QcfWnVeOtJo', price_string='£3.49', price_value=3.49, price_currency='GBP', name='Google Play Movies', technical_name='play', icon='https://images.justwatch.com/icon/169478387/s100/play.png'), Offer(monetization_type='RENT', presentation_type='HD', url='https://www.skystore.com/product/star-wars-episode-i-the-phantom-menace/c9fefb6c-79d9-4005-91c2-52b4a98a89c8', price_string='£3.49', price_value=3.49, price_currency='GBP', name='Sky Store', technical_name='skystore', icon='https://images.justwatch.com/icon/208571850/s100/skystore.png'), Offer(monetization_type='RENT', presentation_type='_4K', url='https://www.microsoft.com/en-gb/p/star-wars-the-phantom-menace/8d6kgwzz55j8', price_string='£3.49', price_value=3.49, price_currency='GBP', name='Microsoft Store', technical_name='microsoft', icon='https://images.justwatch.com/icon/820542/s100/microsoft.png'), Offer(monetization_type='RENT', presentation_type='SD', url='https://www.youtube.com/results?search_query=Star+Wars%3A+The+Phantom+Menace%2Bmovie', price_string='£3.49', price_value=3.49, price_currency='GBP', name='YouTube', technical_name='youtube', icon='https://images.justwatch.com/icon/59562423/s100/youtube.png')]),\n",
       " MediaEntry(entry_id='ts1', object_id=1, object_type='SHOW', title='Star Wars: The Clone Wars', url='https://justwatch.com/uk/tv-series/star-wars-the-clone-wars', release_year=2008, release_date='2008-10-03', runtime_minutes=23, short_description='Yoda, Obi-Wan Kenobi, Anakin Skywalker, Mace Windu and other Jedi Knights lead the Grand Army of the Republic against the droid army of the Separatists.', genres=['scf', 'act', 'ani', 'drm', 'fnt'], imdb_id='tt0458290', poster='https://images.justwatch.com/poster/182754926/s718/star-wars-the-clone-wars.jpg', backdrops=['https://images.justwatch.com/backdrop/8592092/s1920/star-wars-the-clone-wars.jpg', 'https://images.justwatch.com/backdrop/182754945/s1920/star-wars-the-clone-wars.jpg', 'https://images.justwatch.com/backdrop/182754942/s1920/star-wars-the-clone-wars.jpg', 'https://images.justwatch.com/backdrop/306332299/s1920/star-wars-the-clone-wars.jpg', 'https://images.justwatch.com/backdrop/306332298/s1920/star-wars-the-clone-wars.jpg'], offers=[Offer(monetization_type='BUY', presentation_type='HD', url='https://tv.apple.com/gb/show/star-wars-the-clone-wars/umc.cmc.pipey73n3wfe96uwbg7eunec', price_string='£83.94', price_value=83.94, price_currency='GBP', name='Apple TV', technical_name='itunes', icon='https://images.justwatch.com/icon/190848813/s100/itunes.png'), Offer(monetization_type='BUY', presentation_type='SD', url='https://play.google.com/store/tv/show?cdid=tvseason-SqWhURsvq96NMmx7KV_1FQ&gl=GB&hl=en&id=nIQH9HoNw4w', price_string='£84.94', price_value=84.94, price_currency='GBP', name='Google Play Movies', technical_name='play', icon='https://images.justwatch.com/icon/169478387/s100/play.png'), Offer(monetization_type='BUY', presentation_type='HD', url='https://watch.amazon.co.uk/detail?gti=amzn1.dv.gti.e0b14c4e-27fc-5bb7-b1fb-06baecd206dc', price_string='£68.95', price_value=68.95, price_currency='GBP', name='Amazon Video', technical_name='amazon', icon='https://images.justwatch.com/icon/430993/s100/amazon.png'), Offer(monetization_type='FLATRATE', presentation_type='_4K', url='https://disneyplus.bn5x.net/c/1206980/705874/9358?u=https%3A%2F%2Fwww.disneyplus.com%2Fseries%2Fstar-wars-the-clone-wars%2F1wYXzjabXGVZ&subId3=justappsvod', price_string=None, price_value=None, price_currency='GBP', name='Disney Plus', technical_name='disneyplus', icon='https://images.justwatch.com/icon/147638351/s100/disneyplus.png')]),\n",
       " MediaEntry(entry_id='tm8', object_id=8, object_type='MOVIE', title='Star Wars: The Last Jedi', url='https://justwatch.com/uk/movie/star-wars-the-last-jedi', release_year=2017, release_date='2017-12-13', runtime_minutes=150, short_description='Rey develops her newly discovered abilities with the guidance of Luke Skywalker, who is unsettled by the strength of her powers. Meanwhile, the Resistance prepares to do battle with the First Order.', genres=['scf', 'act', 'fnt'], imdb_id='tt2527336', poster='https://images.justwatch.com/poster/35695883/s718/star-wars-the-last-jedi.jpg', backdrops=['https://images.justwatch.com/backdrop/33503814/s1920/star-wars-the-last-jedi.jpg', 'https://images.justwatch.com/backdrop/13806999/s1920/star-wars-the-last-jedi.jpg', 'https://images.justwatch.com/backdrop/13151959/s1920/star-wars-the-last-jedi.jpg', 'https://images.justwatch.com/backdrop/35448186/s1920/star-wars-the-last-jedi.jpg', 'https://images.justwatch.com/backdrop/35737966/s1920/star-wars-the-last-jedi.jpg'], offers=[Offer(monetization_type='FLATRATE', presentation_type='_4K', url='https://disneyplus.bn5x.net/c/1206980/705874/9358?u=https%3A%2F%2Fwww.disneyplus.com%2Fmovies%2Fstar-wars-the-last-jedi-episode-viii%2F1nCWFK1pmAI0&subId3=justappsvod', price_string=None, price_value=None, price_currency='GBP', name='Disney Plus', technical_name='disneyplus', icon='https://images.justwatch.com/icon/147638351/s100/disneyplus.png'), Offer(monetization_type='RENT', presentation_type='HD', url='https://www.rakuten.tv/uk/movies/star-wars-the-last-jedi', price_string='£3.45', price_value=3.45, price_currency='GBP', name='Rakuten TV', technical_name='wuaki', icon='https://images.justwatch.com/icon/128599720/s100/wuaki.png'), Offer(monetization_type='RENT', presentation_type='HD', url='https://watch.amazon.co.uk/detail?gti=amzn1.dv.gti.70af854a-b035-e280-f313-e264c9c04f06', price_string='£3.49', price_value=3.49, price_currency='GBP', name='Amazon Video', technical_name='amazon', icon='https://images.justwatch.com/icon/430993/s100/amazon.png'), Offer(monetization_type='RENT', presentation_type='HD', url='https://www.skystore.com/product/star-wars-the-last-jedi/031cccfb-9253-41d3-8fdf-f1e41d9ccb98', price_string='£3.49', price_value=3.49, price_currency='GBP', name='Sky Store', technical_name='skystore', icon='https://images.justwatch.com/icon/208571850/s100/skystore.png'), Offer(monetization_type='RENT', presentation_type='_4K', url='https://www.microsoft.com/en-gb/p/star-wars-the-last-jedi/8d6kgwxk7kbt', price_string='£3.49', price_value=3.49, price_currency='GBP', name='Microsoft Store', technical_name='microsoft', icon='https://images.justwatch.com/icon/820542/s100/microsoft.png'), Offer(monetization_type='RENT', presentation_type='_4K', url='https://tv.apple.com/gb/movie/star-wars-the-last-jedi/umc.cmc.7f19yhpg0i8vk8of1ydhs7g1v?playableId=tvs.sbd.9001%3A1316597872', price_string='£4.99', price_value=4.99, price_currency='GBP', name='Apple TV', technical_name='itunes', icon='https://images.justwatch.com/icon/190848813/s100/itunes.png'), Offer(monetization_type='BUY', presentation_type='SD', url='https://play.google.com/store/movies/details/Star_Wars_The_Last_Jedi?gl=GB&hl=en&id=tVegqRwQA6M', price_string='£13.99', price_value=13.99, price_currency='GBP', name='Google Play Movies', technical_name='play', icon='https://images.justwatch.com/icon/169478387/s100/play.png'), Offer(monetization_type='BUY', presentation_type='SD', url='https://www.youtube.com/results?search_query=Star+Wars%3A+The+Last+Jedi%2Bmovie', price_string='£13.99', price_value=13.99, price_currency='GBP', name='YouTube', technical_name='youtube', icon='https://images.justwatch.com/icon/59562423/s100/youtube.png')]),\n",
       " MediaEntry(entry_id='tm9', object_id=9, object_type='MOVIE', title='Star Wars: The Rise of Skywalker', url='https://justwatch.com/uk/movie/star-wars-episode-ix', release_year=2019, release_date='2019-12-18', runtime_minutes=142, short_description='The surviving Resistance faces the First Order once again as the journey of Rey, Finn and Poe Dameron continues. With the power and knowledge of generations behind them, the final battle begins.', genres=['act', 'scf', 'drm', 'fnt', 'eur'], imdb_id='tt2527338', poster='https://images.justwatch.com/poster/178536888/s718/star-wars-episode-ix.jpg', backdrops=['https://images.justwatch.com/backdrop/125034859/s1920/star-wars-episode-ix.jpg', 'https://images.justwatch.com/backdrop/124509966/s1920/star-wars-episode-ix.jpg', 'https://images.justwatch.com/backdrop/124469956/s1920/star-wars-episode-ix.jpg', 'https://images.justwatch.com/backdrop/124509962/s1920/star-wars-episode-ix.jpg', 'https://images.justwatch.com/backdrop/124401256/s1920/star-wars-episode-ix.jpg'], offers=[Offer(monetization_type='FLATRATE', presentation_type='_4K', url='https://disneyplus.bn5x.net/c/1206980/705874/9358?u=https%3A%2F%2Fwww.disneyplus.com%2Fmovies%2Fstar-wars-the-rise-of-skywalker-episode-ix%2F5e8JThYwCYgw&subId3=justappsvod', price_string=None, price_value=None, price_currency='GBP', name='Disney Plus', technical_name='disneyplus', icon='https://images.justwatch.com/icon/147638351/s100/disneyplus.png'), Offer(monetization_type='RENT', presentation_type='_4K', url='https://www.rakuten.tv/uk/movies/star-wars-the-rise-of-skywalker', price_string='£3.45', price_value=3.45, price_currency='GBP', name='Rakuten TV', technical_name='wuaki', icon='https://images.justwatch.com/icon/128599720/s100/wuaki.png'), Offer(monetization_type='RENT', presentation_type='HD', url='https://www.skystore.com/product/star-wars-the-rise-of-skywalker/92caa62f-2a3b-4420-8cc9-f0119d7fc2aa', price_string='£3.49', price_value=3.49, price_currency='GBP', name='Sky Store', technical_name='skystore', icon='https://images.justwatch.com/icon/208571850/s100/skystore.png'), Offer(monetization_type='RENT', presentation_type='_4K', url='https://tv.apple.com/gb/movie/star-wars-the-rise-of-skywalker/umc.cmc.71hlilqgd8utz8c4nlpl6ol7m?playableId=tvs.sbd.9001%3A1490366967', price_string='£4.99', price_value=4.99, price_currency='GBP', name='Apple TV', technical_name='itunes', icon='https://images.justwatch.com/icon/190848813/s100/itunes.png'), Offer(monetization_type='BUY', presentation_type='SD', url='https://watch.amazon.co.uk/detail?gti=amzn1.dv.gti.5ab8d715-a5dc-a437-2fdd-66aedfb5e67e', price_string='£9.99', price_value=9.99, price_currency='GBP', name='Amazon Video', technical_name='amazon', icon='https://images.justwatch.com/icon/430993/s100/amazon.png'), Offer(monetization_type='BUY', presentation_type='SD', url='https://www.microsoft.com/en-gb/p/star-wars-the-rise-of-skywalker-bonus/8d6kgwxn1rfp', price_string='£9.99', price_value=9.99, price_currency='GBP', name='Microsoft Store', technical_name='microsoft', icon='https://images.justwatch.com/icon/820542/s100/microsoft.png'), Offer(monetization_type='BUY', presentation_type='SD', url='https://play.google.com/store/movies/details/Star_Wars_The_Rise_of_Skywalker_Episode_IX?gl=GB&hl=en&id=E1zDraWV6xQ', price_string='£13.99', price_value=13.99, price_currency='GBP', name='Google Play Movies', technical_name='play', icon='https://images.justwatch.com/icon/169478387/s100/play.png'), Offer(monetization_type='BUY', presentation_type='SD', url='https://www.youtube.com/results?search_query=Star+Wars%3A+The+Rise+of+Skywalker+%28Episode+IX%29%2Bmovie', price_string='£13.99', price_value=13.99, price_currency='GBP', name='YouTube', technical_name='youtube', icon='https://images.justwatch.com/icon/59562423/s100/youtube.png')]),\n",
       " MediaEntry(entry_id='tm5', object_id=5, object_type='MOVIE', title='Star Wars: Episode II - Attack of the Clones', url='https://justwatch.com/uk/movie/star-wars-episode-ii-attack-of-the-clones', release_year=2002, release_date='2002-05-15', runtime_minutes=142, short_description='Following an assassination attempt on Senator Padmé Amidala, Jedi Knights Anakin Skywalker and Obi-Wan Kenobi investigate a mysterious plot that could change the galaxy forever.', genres=['act', 'scf', 'fnt'], imdb_id='tt0121765', poster='https://images.justwatch.com/poster/49856629/s718/star-wars-episode-ii-attack-of-the-clones.jpg', backdrops=['https://images.justwatch.com/backdrop/304021757/s1920/star-wars-episode-ii-attack-of-the-clones.jpg', 'https://images.justwatch.com/backdrop/301607730/s1920/star-wars-episode-ii-attack-of-the-clones.jpg', 'https://images.justwatch.com/backdrop/122656850/s1920/star-wars-episode-ii-attack-of-the-clones.jpg', 'https://images.justwatch.com/backdrop/306776641/s1920/star-wars-episode-ii-attack-of-the-clones.jpg', 'https://images.justwatch.com/backdrop/92458046/s1920/star-wars-episode-ii-attack-of-the-clones.jpg'], offers=[Offer(monetization_type='FLATRATE', presentation_type='_4K', url='https://disneyplus.bn5x.net/c/1206980/705874/9358?u=https%3A%2F%2Fwww.disneyplus.com%2Fmovies%2Fstar-wars-attack-of-the-clones-episode-ii%2FmgpYHGnzZW6N&subId3=justappsvod', price_string=None, price_value=None, price_currency='GBP', name='Disney Plus', technical_name='disneyplus', icon='https://images.justwatch.com/icon/147638351/s100/disneyplus.png'), Offer(monetization_type='RENT', presentation_type='HD', url='https://www.rakuten.tv/uk/movies/star-wars-episode-ii-attack-of-the-clones', price_string='£3.45', price_value=3.45, price_currency='GBP', name='Rakuten TV', technical_name='wuaki', icon='https://images.justwatch.com/icon/128599720/s100/wuaki.png'), Offer(monetization_type='RENT', presentation_type='_4K', url='https://tv.apple.com/gb/movie/star-wars-attack-of-the-clones/umc.cmc.27tj6w4r4fpeziazh0cyza2bq?playableId=tvs.sbd.9001%3A975101586', price_string='£3.49', price_value=3.49, price_currency='GBP', name='Apple TV', technical_name='itunes', icon='https://images.justwatch.com/icon/190848813/s100/itunes.png'), Offer(monetization_type='RENT', presentation_type='_4K', url='https://watch.amazon.co.uk/detail?gti=amzn1.dv.gti.40a9f691-0502-dde7-98ba-24db4f8389e0', price_string='£3.49', price_value=3.49, price_currency='GBP', name='Amazon Video', technical_name='amazon', icon='https://images.justwatch.com/icon/430993/s100/amazon.png'), Offer(monetization_type='RENT', presentation_type='SD', url='https://play.google.com/store/movies/details/Star_Wars_Attack_of_the_Clones?gl=GB&hl=en&id=IA93YO0lrNY', price_string='£3.49', price_value=3.49, price_currency='GBP', name='Google Play Movies', technical_name='play', icon='https://images.justwatch.com/icon/169478387/s100/play.png'), Offer(monetization_type='RENT', presentation_type='HD', url='https://www.skystore.com/product/star-wars-episode-ii-attack-of-the-clones/2e2c8ed4-aad3-4c3d-841f-b2b120e05ff7', price_string='£3.49', price_value=3.49, price_currency='GBP', name='Sky Store', technical_name='skystore', icon='https://images.justwatch.com/icon/208571850/s100/skystore.png'), Offer(monetization_type='RENT', presentation_type='_4K', url='https://www.microsoft.com/en-gb/p/star-wars-attack-of-the-clones/8d6kgwzz55j7', price_string='£3.49', price_value=3.49, price_currency='GBP', name='Microsoft Store', technical_name='microsoft', icon='https://images.justwatch.com/icon/820542/s100/microsoft.png'), Offer(monetization_type='RENT', presentation_type='SD', url='https://www.youtube.com/results?search_query=Star+Wars%3A+Attack+of+the+Clones%2Bmovie', price_string='£3.49', price_value=3.49, price_currency='GBP', name='YouTube', technical_name='youtube', icon='https://images.justwatch.com/icon/59562423/s100/youtube.png')])]"
      ]
     },
     "execution_count": 6,
     "metadata": {},
     "output_type": "execute_result"
    }
   ],
   "source": [
    "results"
   ]
  },
  {
   "cell_type": "code",
   "execution_count": 53,
   "metadata": {},
   "outputs": [
    {
     "data": {
      "text/plain": [
       "[[Offer(monetization_type='FLATRATE', presentation_type='HD', url='https://watch.amazon.co.uk/detail?gti=amzn1.dv.gti.44b5c028-a140-9d98-e2b9-51ed15a67e69', price_string=None, price_value=None, price_currency='GBP', name='Amazon Prime Video', technical_name='amazonprime', icon='https://images.justwatch.com/icon/52449539/s100/amazonprime.png'),\n",
       "  Offer(monetization_type='FREE', presentation_type='HD', url='http://www.bbc.co.uk/iplayer/episode/m00196f6', price_string=None, price_value=None, price_currency='GBP', name='BBC iPlayer', technical_name='bbc', icon='https://images.justwatch.com/icon/694553/s100/bbc.png'),\n",
       "  Offer(monetization_type='RENT', presentation_type='HD', url='https://tv.apple.com/gb/movie/thelma--louise/umc.cmc.1zpnty036xkmvzt7rgkeg6v21?playableId=tvs.sbd.9001%3A761968530', price_string='£3.49', price_value=3.49, price_currency='GBP', name='Apple TV', technical_name='itunes', icon='https://images.justwatch.com/icon/190848813/s100/itunes.png'),\n",
       "  Offer(monetization_type='RENT', presentation_type='HD', url='https://watch.amazon.co.uk/detail?gti=amzn1.dv.gti.caa9f65b-2c08-d6b7-75f7-c2f31d7cd89e', price_string='£3.49', price_value=3.49, price_currency='GBP', name='Amazon Video', technical_name='amazon', icon='https://images.justwatch.com/icon/430993/s100/amazon.png'),\n",
       "  Offer(monetization_type='BUY', presentation_type='SD', url='https://play.google.com/store/movies/details/Thelma_Louise?gl=GB&hl=en&id=sUdls6m_3pU.P', price_string='£5.99', price_value=5.99, price_currency='GBP', name='Google Play Movies', technical_name='play', icon='https://images.justwatch.com/icon/169478387/s100/play.png'),\n",
       "  Offer(monetization_type='BUY', presentation_type='HD', url='https://www.skystore.com/product/thelma-louise/c7e302bb-5bda-4abf-a49b-30bbbe998d15', price_string='£5.99', price_value=5.99, price_currency='GBP', name='Sky Store', technical_name='skystore', icon='https://images.justwatch.com/icon/208571850/s100/skystore.png'),\n",
       "  Offer(monetization_type='BUY', presentation_type='SD', url='https://www.youtube.com/results?search_query=Thelma+%26+Louise%2Bmovie', price_string='£5.99', price_value=5.99, price_currency='GBP', name='YouTube', technical_name='youtube', icon='https://images.justwatch.com/icon/59562423/s100/youtube.png')]]"
      ]
     },
     "execution_count": 53,
     "metadata": {},
     "output_type": "execute_result"
    }
   ],
   "source": [
    "offers"
   ]
  },
  {
   "cell_type": "code",
   "execution_count": null,
   "metadata": {},
   "outputs": [],
   "source": [
    "if len(results['items']) > 0:\n",
    "    first_result = results['items'][0]\n",
    "    if first_result.get('title') == get_from_table('FILM_TITLE', film_id, 'FILM_TITLE'):\n",
    "        provider_abbreviations = list(set([x['package_short_name'] for x in first_result.get('offers', []) if x['monetization_type'] in ['flatrate', 'free', 'ads']]))\n",
    "        valid_abbr = [x for x in provider_abbreviations if x in my_streaming_services_abbr]\n",
    "        min_rental_price = 0\n",
    "        valid = 1\n",
    "        if len(valid_abbr) == 0:\n",
    "            valid_abbr = ['rent']\n",
    "            rental_prices = [x['retail_price'] for x in first_result.get('offers', []) if x['monetization_type'] == 'rent' and x['presentation_type'] == 'hd' and x.get('retail_price', False)]\n",
    "            if len(rental_prices) > 0:\n",
    "                min_rental_price = min(rental_prices)\n",
    "            else:\n",
    "                min_rental_price = None\n",
    "                valid = 0\n",
    "        valid_full = [abbr_to_full_dict.get(x) for x in valid_abbr]\n",
    "        streaming_record = {\n",
    "            'FILM_ID': [film_id]*len(valid_abbr),\n",
    "            'STREAMING_SERVICE_ABBR': valid_abbr,\n",
    "            'STREAMING_SERVICE_FULL': valid_full,\n",
    "            'CREATED_AT': [datetime.now()]*len(valid_abbr),\n",
    "            'PRICE': [min_rental_price]*len(valid_abbr),\n",
    "            'VALID': [valid]*len(valid_abbr)\n",
    "            }\n",
    "        # film_streaming_services_df = pd.DataFrame(index=range(len(valid_abbr)))\n",
    "        # film_streaming_services_df['FILM_ID'] = film_id\n",
    "        # film_streaming_services_df['STREAMING_SERVICE_ABBR'] = valid_abbr\n",
    "        # film_streaming_services_df['STREAMING_SERVICE_FULL'] = valid_full\n",
    "        # film_streaming_services_df['CREATED_AT'] = datetime.now()\n",
    "        # film_streaming_services_df['PRICE'] = min_rental_price\n",
    "        # film_streaming_services_df['VALID'] = valid\n",
    "        # df_to_table(pd.DataFrame(streaming_record), 'FILM_STREAMING_SERVICES', replace_append='append', verbose=verbose)"
   ]
  },
  {
   "cell_type": "code",
   "execution_count": null,
   "metadata": {},
   "outputs": [],
   "source": []
  },
  {
   "cell_type": "code",
   "execution_count": null,
   "metadata": {},
   "outputs": [],
   "source": []
  },
  {
   "cell_type": "code",
   "execution_count": 22,
   "metadata": {},
   "outputs": [],
   "source": [
    "film_id = 'f_0jxmG'"
   ]
  },
  {
   "cell_type": "code",
   "execution_count": 23,
   "metadata": {},
   "outputs": [],
   "source": [
    "with open('../data_prep/my_streaming_services.json', 'r') as schema:\n",
    "    my_streaming_services = json.load(schema)\n",
    "my_streaming_services_abbr = [x for x in set([x['provider_abbreviation'] for x in my_streaming_services]) if len(x) > 0]\n",
    "abbr_to_full_dict = {x['provider_abbreviation']:x['streaming_service'] for x in my_streaming_services if len(x['provider_abbreviation']) > 0}\n",
    "abbr_to_full_dict['rent'] = 'Rental'\n",
    "just_watch = JustWatch(country='GB')\n",
    "film_url_title = get_from_table('FILM_URL_TITLE', film_id, 'FILM_URL_TITLE')\n"
   ]
  },
  {
   "cell_type": "code",
   "execution_count": 24,
   "metadata": {},
   "outputs": [],
   "source": [
    "if film_url_title == '':\n",
    "    film_url_title = get_from_table('FILM_TITLE', film_id, 'FILM_TITLE')\n",
    "film_release_year = get_from_table('FILM_YEAR', film_id, 'FILM_YEAR')\n",
    "# import ipdb; ipdb.set_trace()\n"
   ]
  },
  {
   "cell_type": "code",
   "execution_count": 28,
   "metadata": {},
   "outputs": [
    {
     "data": {
      "text/plain": [
       "{'jw_entity_id': 'tm939539',\n",
       " 'id': 939539,\n",
       " 'title': 'M3GAN',\n",
       " 'full_path': '/uk/movie/m3gan',\n",
       " 'full_paths': {'MOVIE_DETAIL_OVERVIEW': '/uk/movie/m3gan'},\n",
       " 'poster': '/poster/302253576/{profile}',\n",
       " 'poster_blur_hash': 'TqINjc-=XT~Wx^xu-;bwayxuWCM|',\n",
       " 'original_release_year': 2022,\n",
       " 'object_type': 'movie',\n",
       " 'offers': [{'jw_entity_id': 'tm939539',\n",
       "   'monetization_type': 'buy',\n",
       "   'provider_id': 2,\n",
       "   'package_short_name': 'itu',\n",
       "   'retail_price': 13.99,\n",
       "   'currency': 'GBP',\n",
       "   'urls': {'standard_web': 'https://tv.apple.com/gb/movie/m3gan/umc.cmc.5rwomfz98u19czniaz4pdm5pc?playableId=tvs.sbd.9001%3A1668065018',\n",
       "    'deeplink_android_tv': 'intent://tv.apple.com/gb/movie/m3gan/umc.cmc.5rwomfz98u19czniaz4pdm5pc?playableId=tvs.sbd.9001%3A1668065018#Intent;launchFlags=0x00800000;scheme=https;end',\n",
       "    'deeplink_fire_tv': 'intent://tv.apple.com/gb/movie/m3gan/umc.cmc.5rwomfz98u19czniaz4pdm5pc?playableId=tvs.sbd.9001%3A1668065018#Intent;launchFlags=0x00800000;scheme=https;end',\n",
       "    'deeplink_tvos': 'https://tv.apple.com/gb/movie/m3gan/umc.cmc.5rwomfz98u19czniaz4pdm5pc?playableId=tvs.sbd.9001%3A1668065018',\n",
       "    'deeplink_tizenos': '{\"id\":\"com.samsung.tv.aria-video\",\"action_data\":\"https://tv.apple.com/gb/movie/m3gan/umc.cmc.5rwomfz98u19czniaz4pdm5pc?playableId=tvs.sbd.9001%3A1668065018\"}',\n",
       "    'deeplink_webos': '{\"id\":\"com.apple.appletv\",\"params\":{\"contentTarget\":\"https://tv.apple.com/gb/movie/m3gan/umc.cmc.5rwomfz98u19czniaz4pdm5pc?playableId=tvs.sbd.9001%3A1668065018\"}}',\n",
       "    'deeplink_xbox': 'appletv://tv.apple.com/gb/movie/m3gan/umc.cmc.5rwomfz98u19czniaz4pdm5pc?playableId=tvs.sbd.9001%3A1668065018',\n",
       "    'deeplink_rokuos': 'launch/551012?contentID=https%3A%2F%2Ftv.apple.com%2Fgb%2Fmovie%2Fm3gan%2Fumc.cmc.5rwomfz98u19czniaz4pdm5pc%3FplayableId%3Dtvs.sbd.9001%253A1668065018&MediaType=movie'},\n",
       "   'presentation_type': '4k',\n",
       "   'country': 'GB'},\n",
       "  {'jw_entity_id': 'tm939539',\n",
       "   'monetization_type': 'buy',\n",
       "   'provider_id': 2,\n",
       "   'package_short_name': 'itu',\n",
       "   'retail_price': 13.99,\n",
       "   'currency': 'GBP',\n",
       "   'urls': {'standard_web': 'https://tv.apple.com/gb/movie/m3gan/umc.cmc.5rwomfz98u19czniaz4pdm5pc?playableId=tvs.sbd.9001%3A1668065018',\n",
       "    'deeplink_android_tv': 'intent://tv.apple.com/gb/movie/m3gan/umc.cmc.5rwomfz98u19czniaz4pdm5pc?playableId=tvs.sbd.9001%3A1668065018#Intent;launchFlags=0x00800000;scheme=https;end',\n",
       "    'deeplink_fire_tv': 'intent://tv.apple.com/gb/movie/m3gan/umc.cmc.5rwomfz98u19czniaz4pdm5pc?playableId=tvs.sbd.9001%3A1668065018#Intent;launchFlags=0x00800000;scheme=https;end',\n",
       "    'deeplink_tvos': 'https://tv.apple.com/gb/movie/m3gan/umc.cmc.5rwomfz98u19czniaz4pdm5pc?playableId=tvs.sbd.9001%3A1668065018',\n",
       "    'deeplink_tizenos': '{\"id\":\"com.samsung.tv.aria-video\",\"action_data\":\"https://tv.apple.com/gb/movie/m3gan/umc.cmc.5rwomfz98u19czniaz4pdm5pc?playableId=tvs.sbd.9001%3A1668065018\"}',\n",
       "    'deeplink_webos': '{\"id\":\"com.apple.appletv\",\"params\":{\"contentTarget\":\"https://tv.apple.com/gb/movie/m3gan/umc.cmc.5rwomfz98u19czniaz4pdm5pc?playableId=tvs.sbd.9001%3A1668065018\"}}',\n",
       "    'deeplink_xbox': 'appletv://tv.apple.com/gb/movie/m3gan/umc.cmc.5rwomfz98u19czniaz4pdm5pc?playableId=tvs.sbd.9001%3A1668065018',\n",
       "    'deeplink_rokuos': 'launch/551012?contentID=https%3A%2F%2Ftv.apple.com%2Fgb%2Fmovie%2Fm3gan%2Fumc.cmc.5rwomfz98u19czniaz4pdm5pc%3FplayableId%3Dtvs.sbd.9001%253A1668065018&MediaType=movie'},\n",
       "   'presentation_type': 'hd',\n",
       "   'country': 'GB'},\n",
       "  {'jw_entity_id': 'tm939539',\n",
       "   'monetization_type': 'buy',\n",
       "   'provider_id': 2,\n",
       "   'package_short_name': 'itu',\n",
       "   'retail_price': 13.99,\n",
       "   'currency': 'GBP',\n",
       "   'urls': {'standard_web': 'https://tv.apple.com/gb/movie/m3gan/umc.cmc.5rwomfz98u19czniaz4pdm5pc?playableId=tvs.sbd.9001%3A1668065018',\n",
       "    'deeplink_android_tv': 'intent://tv.apple.com/gb/movie/m3gan/umc.cmc.5rwomfz98u19czniaz4pdm5pc?playableId=tvs.sbd.9001%3A1668065018#Intent;launchFlags=0x00800000;scheme=https;end',\n",
       "    'deeplink_fire_tv': 'intent://tv.apple.com/gb/movie/m3gan/umc.cmc.5rwomfz98u19czniaz4pdm5pc?playableId=tvs.sbd.9001%3A1668065018#Intent;launchFlags=0x00800000;scheme=https;end',\n",
       "    'deeplink_tvos': 'https://tv.apple.com/gb/movie/m3gan/umc.cmc.5rwomfz98u19czniaz4pdm5pc?playableId=tvs.sbd.9001%3A1668065018',\n",
       "    'deeplink_tizenos': '{\"id\":\"com.samsung.tv.aria-video\",\"action_data\":\"https://tv.apple.com/gb/movie/m3gan/umc.cmc.5rwomfz98u19czniaz4pdm5pc?playableId=tvs.sbd.9001%3A1668065018\"}',\n",
       "    'deeplink_webos': '{\"id\":\"com.apple.appletv\",\"params\":{\"contentTarget\":\"https://tv.apple.com/gb/movie/m3gan/umc.cmc.5rwomfz98u19czniaz4pdm5pc?playableId=tvs.sbd.9001%3A1668065018\"}}',\n",
       "    'deeplink_xbox': 'appletv://tv.apple.com/gb/movie/m3gan/umc.cmc.5rwomfz98u19czniaz4pdm5pc?playableId=tvs.sbd.9001%3A1668065018',\n",
       "    'deeplink_rokuos': 'launch/551012?contentID=https%3A%2F%2Ftv.apple.com%2Fgb%2Fmovie%2Fm3gan%2Fumc.cmc.5rwomfz98u19czniaz4pdm5pc%3FplayableId%3Dtvs.sbd.9001%253A1668065018&MediaType=movie'},\n",
       "   'presentation_type': 'sd',\n",
       "   'country': 'GB'},\n",
       "  {'jw_entity_id': 'tm939539',\n",
       "   'monetization_type': 'rent',\n",
       "   'provider_id': 2,\n",
       "   'package_short_name': 'itu',\n",
       "   'retail_price': 4.99,\n",
       "   'currency': 'GBP',\n",
       "   'urls': {'standard_web': 'https://tv.apple.com/gb/movie/m3gan/umc.cmc.5rwomfz98u19czniaz4pdm5pc?playableId=tvs.sbd.9001%3A1668065018',\n",
       "    'deeplink_android_tv': 'intent://tv.apple.com/gb/movie/m3gan/umc.cmc.5rwomfz98u19czniaz4pdm5pc?playableId=tvs.sbd.9001%3A1668065018#Intent;launchFlags=0x00800000;scheme=https;end',\n",
       "    'deeplink_fire_tv': 'intent://tv.apple.com/gb/movie/m3gan/umc.cmc.5rwomfz98u19czniaz4pdm5pc?playableId=tvs.sbd.9001%3A1668065018#Intent;launchFlags=0x00800000;scheme=https;end',\n",
       "    'deeplink_tvos': 'https://tv.apple.com/gb/movie/m3gan/umc.cmc.5rwomfz98u19czniaz4pdm5pc?playableId=tvs.sbd.9001%3A1668065018',\n",
       "    'deeplink_tizenos': '{\"id\":\"com.samsung.tv.aria-video\",\"action_data\":\"https://tv.apple.com/gb/movie/m3gan/umc.cmc.5rwomfz98u19czniaz4pdm5pc?playableId=tvs.sbd.9001%3A1668065018\"}',\n",
       "    'deeplink_webos': '{\"id\":\"com.apple.appletv\",\"params\":{\"contentTarget\":\"https://tv.apple.com/gb/movie/m3gan/umc.cmc.5rwomfz98u19czniaz4pdm5pc?playableId=tvs.sbd.9001%3A1668065018\"}}',\n",
       "    'deeplink_xbox': 'appletv://tv.apple.com/gb/movie/m3gan/umc.cmc.5rwomfz98u19czniaz4pdm5pc?playableId=tvs.sbd.9001%3A1668065018',\n",
       "    'deeplink_rokuos': 'launch/551012?contentID=https%3A%2F%2Ftv.apple.com%2Fgb%2Fmovie%2Fm3gan%2Fumc.cmc.5rwomfz98u19czniaz4pdm5pc%3FplayableId%3Dtvs.sbd.9001%253A1668065018&MediaType=movie'},\n",
       "   'presentation_type': '4k',\n",
       "   'country': 'GB'},\n",
       "  {'jw_entity_id': 'tm939539',\n",
       "   'monetization_type': 'rent',\n",
       "   'provider_id': 2,\n",
       "   'package_short_name': 'itu',\n",
       "   'retail_price': 4.99,\n",
       "   'currency': 'GBP',\n",
       "   'urls': {'standard_web': 'https://tv.apple.com/gb/movie/m3gan/umc.cmc.5rwomfz98u19czniaz4pdm5pc?playableId=tvs.sbd.9001%3A1668065018',\n",
       "    'deeplink_android_tv': 'intent://tv.apple.com/gb/movie/m3gan/umc.cmc.5rwomfz98u19czniaz4pdm5pc?playableId=tvs.sbd.9001%3A1668065018#Intent;launchFlags=0x00800000;scheme=https;end',\n",
       "    'deeplink_fire_tv': 'intent://tv.apple.com/gb/movie/m3gan/umc.cmc.5rwomfz98u19czniaz4pdm5pc?playableId=tvs.sbd.9001%3A1668065018#Intent;launchFlags=0x00800000;scheme=https;end',\n",
       "    'deeplink_tvos': 'https://tv.apple.com/gb/movie/m3gan/umc.cmc.5rwomfz98u19czniaz4pdm5pc?playableId=tvs.sbd.9001%3A1668065018',\n",
       "    'deeplink_tizenos': '{\"id\":\"com.samsung.tv.aria-video\",\"action_data\":\"https://tv.apple.com/gb/movie/m3gan/umc.cmc.5rwomfz98u19czniaz4pdm5pc?playableId=tvs.sbd.9001%3A1668065018\"}',\n",
       "    'deeplink_webos': '{\"id\":\"com.apple.appletv\",\"params\":{\"contentTarget\":\"https://tv.apple.com/gb/movie/m3gan/umc.cmc.5rwomfz98u19czniaz4pdm5pc?playableId=tvs.sbd.9001%3A1668065018\"}}',\n",
       "    'deeplink_xbox': 'appletv://tv.apple.com/gb/movie/m3gan/umc.cmc.5rwomfz98u19czniaz4pdm5pc?playableId=tvs.sbd.9001%3A1668065018',\n",
       "    'deeplink_rokuos': 'launch/551012?contentID=https%3A%2F%2Ftv.apple.com%2Fgb%2Fmovie%2Fm3gan%2Fumc.cmc.5rwomfz98u19czniaz4pdm5pc%3FplayableId%3Dtvs.sbd.9001%253A1668065018&MediaType=movie'},\n",
       "   'presentation_type': 'hd',\n",
       "   'country': 'GB'},\n",
       "  {'jw_entity_id': 'tm939539',\n",
       "   'monetization_type': 'rent',\n",
       "   'provider_id': 2,\n",
       "   'package_short_name': 'itu',\n",
       "   'retail_price': 4.99,\n",
       "   'currency': 'GBP',\n",
       "   'urls': {'standard_web': 'https://tv.apple.com/gb/movie/m3gan/umc.cmc.5rwomfz98u19czniaz4pdm5pc?playableId=tvs.sbd.9001%3A1668065018',\n",
       "    'deeplink_android_tv': 'intent://tv.apple.com/gb/movie/m3gan/umc.cmc.5rwomfz98u19czniaz4pdm5pc?playableId=tvs.sbd.9001%3A1668065018#Intent;launchFlags=0x00800000;scheme=https;end',\n",
       "    'deeplink_fire_tv': 'intent://tv.apple.com/gb/movie/m3gan/umc.cmc.5rwomfz98u19czniaz4pdm5pc?playableId=tvs.sbd.9001%3A1668065018#Intent;launchFlags=0x00800000;scheme=https;end',\n",
       "    'deeplink_tvos': 'https://tv.apple.com/gb/movie/m3gan/umc.cmc.5rwomfz98u19czniaz4pdm5pc?playableId=tvs.sbd.9001%3A1668065018',\n",
       "    'deeplink_tizenos': '{\"id\":\"com.samsung.tv.aria-video\",\"action_data\":\"https://tv.apple.com/gb/movie/m3gan/umc.cmc.5rwomfz98u19czniaz4pdm5pc?playableId=tvs.sbd.9001%3A1668065018\"}',\n",
       "    'deeplink_webos': '{\"id\":\"com.apple.appletv\",\"params\":{\"contentTarget\":\"https://tv.apple.com/gb/movie/m3gan/umc.cmc.5rwomfz98u19czniaz4pdm5pc?playableId=tvs.sbd.9001%3A1668065018\"}}',\n",
       "    'deeplink_xbox': 'appletv://tv.apple.com/gb/movie/m3gan/umc.cmc.5rwomfz98u19czniaz4pdm5pc?playableId=tvs.sbd.9001%3A1668065018',\n",
       "    'deeplink_rokuos': 'launch/551012?contentID=https%3A%2F%2Ftv.apple.com%2Fgb%2Fmovie%2Fm3gan%2Fumc.cmc.5rwomfz98u19czniaz4pdm5pc%3FplayableId%3Dtvs.sbd.9001%253A1668065018&MediaType=movie'},\n",
       "   'presentation_type': 'sd',\n",
       "   'country': 'GB'},\n",
       "  {'jw_entity_id': 'tm939539',\n",
       "   'monetization_type': 'buy',\n",
       "   'provider_id': 3,\n",
       "   'package_short_name': 'ply',\n",
       "   'retail_price': 13.99,\n",
       "   'currency': 'GBP',\n",
       "   'urls': {'standard_web': 'https://play.google.com/store/movies/details/M3GAN?gl=GB&hl=en&id=JvBz4e-QxGA.P',\n",
       "    'deeplink_android_tv': 'intent://play.google.com/movies/movies?v=JvBz4e-QxGA.P#Intent;launchFlags=0x00800000;scheme=https;end',\n",
       "    'deeplink_tizenos': '{\"id\":\"QizQxC7CUf.PlayMovies\",\"action_data\":\"yt:movie:JvBz4e-QxGA.P\"}',\n",
       "    'deeplink_webos': '{ \"id\": \"googleplaymovieswebos\", \"params\": { \"contentTarget\": \"https://play.google.com/store/movies/details/M3GAN?gl=GB&hl=en&id=JvBz4e-QxGA.P\" }}'},\n",
       "   'presentation_type': 'hd',\n",
       "   'country': 'GB'},\n",
       "  {'jw_entity_id': 'tm939539',\n",
       "   'monetization_type': 'rent',\n",
       "   'provider_id': 3,\n",
       "   'package_short_name': 'ply',\n",
       "   'retail_price': 5.49,\n",
       "   'last_change_retail_price': 4.99,\n",
       "   'last_change_difference': 0.5,\n",
       "   'last_change_percent': 10.0200405,\n",
       "   'last_change_date': '2023-05-23',\n",
       "   'last_change_date_provider_id': '2023-05-23_3',\n",
       "   'currency': 'GBP',\n",
       "   'urls': {'standard_web': 'https://play.google.com/store/movies/details/M3GAN?gl=GB&hl=en&id=JvBz4e-QxGA.P',\n",
       "    'deeplink_android_tv': 'intent://play.google.com/movies/movies?v=JvBz4e-QxGA.P#Intent;launchFlags=0x00800000;scheme=https;end',\n",
       "    'deeplink_tizenos': '{\"id\":\"QizQxC7CUf.PlayMovies\",\"action_data\":\"yt:movie:JvBz4e-QxGA.P\"}',\n",
       "    'deeplink_webos': '{ \"id\": \"googleplaymovieswebos\", \"params\": { \"contentTarget\": \"https://play.google.com/store/movies/details/M3GAN?gl=GB&hl=en&id=JvBz4e-QxGA.P\" }}'},\n",
       "   'presentation_type': 'hd',\n",
       "   'country': 'GB'},\n",
       "  {'jw_entity_id': 'tm939539',\n",
       "   'monetization_type': 'rent',\n",
       "   'provider_id': 3,\n",
       "   'package_short_name': 'ply',\n",
       "   'retail_price': 3.49,\n",
       "   'currency': 'GBP',\n",
       "   'urls': {'standard_web': 'https://play.google.com/store/movies/details/M3GAN?gl=GB&hl=en&id=JvBz4e-QxGA.P',\n",
       "    'deeplink_android_tv': 'intent://play.google.com/movies/movies?v=JvBz4e-QxGA.P#Intent;launchFlags=0x00800000;scheme=https;end',\n",
       "    'deeplink_tizenos': '{\"id\":\"QizQxC7CUf.PlayMovies\",\"action_data\":\"yt:movie:JvBz4e-QxGA.P\"}',\n",
       "    'deeplink_webos': '{ \"id\": \"googleplaymovieswebos\", \"params\": { \"contentTarget\": \"https://play.google.com/store/movies/details/M3GAN?gl=GB&hl=en&id=JvBz4e-QxGA.P\" }}'},\n",
       "   'presentation_type': 'sd',\n",
       "   'country': 'GB'},\n",
       "  {'jw_entity_id': 'tm939539',\n",
       "   'monetization_type': 'buy',\n",
       "   'provider_id': 10,\n",
       "   'package_short_name': 'amz',\n",
       "   'retail_price': 13.99,\n",
       "   'currency': 'GBP',\n",
       "   'urls': {'standard_web': 'https://watch.amazon.co.uk/detail?gti=amzn1.dv.gti.57164413-e9c5-4bdd-a46c-42e29aceb2f9',\n",
       "    'deeplink_web': 'https://watch.amazon.co.uk/watch?gti=amzn1.dv.gti.57164413-e9c5-4bdd-a46c-42e29aceb2f9',\n",
       "    'deeplink_android_tv': 'intent://watch.amazon.co.uk/watch?asin=B0B65HYB1M&time=0&territory=GB#Intent;package=com.amazon.amazonvideo.livingroom;scheme=https;end',\n",
       "    'deeplink_fire_tv': 'intent://com.amazon.tv.launcher/detail?provider=aiv&providerId=B0B65HYB1M#Intent;package=com.amazon.tv.launcher;scheme=amzn;end',\n",
       "    'deeplink_tvos': 'aiv://aiv/watch?gti=amzn1.dv.gti.57164413-e9c5-4bdd-a46c-42e29aceb2f9&territory=GB&time=auto',\n",
       "    'deeplink_tizenos': '{\"id\":\"org.tizen.primevideo\",\"action_data\":\"amzn1.dv.gti.57164413-e9c5-4bdd-a46c-42e29aceb2f9\"}',\n",
       "    'deeplink_webos': '{ \"id\": \"amazon\", \"params\": { \"contentTarget\": \"amzn1.dv.gti.57164413-e9c5-4bdd-a46c-42e29aceb2f9\" }}',\n",
       "    'deeplink_rokuos': 'launch/13?contentID=B0B65HYB1M&MediaType=movie'},\n",
       "   'presentation_type': '4k',\n",
       "   'country': 'GB'},\n",
       "  {'jw_entity_id': 'tm939539',\n",
       "   'monetization_type': 'buy',\n",
       "   'provider_id': 10,\n",
       "   'package_short_name': 'amz',\n",
       "   'retail_price': 13.99,\n",
       "   'currency': 'GBP',\n",
       "   'urls': {'standard_web': 'https://watch.amazon.co.uk/detail?gti=amzn1.dv.gti.57164413-e9c5-4bdd-a46c-42e29aceb2f9',\n",
       "    'deeplink_web': 'https://watch.amazon.co.uk/watch?gti=amzn1.dv.gti.57164413-e9c5-4bdd-a46c-42e29aceb2f9',\n",
       "    'deeplink_android_tv': 'intent://watch.amazon.co.uk/watch?asin=B0B65HYB1M&time=0&territory=GB#Intent;package=com.amazon.amazonvideo.livingroom;scheme=https;end',\n",
       "    'deeplink_fire_tv': 'intent://com.amazon.tv.launcher/detail?provider=aiv&providerId=B0B65HYB1M#Intent;package=com.amazon.tv.launcher;scheme=amzn;end',\n",
       "    'deeplink_tvos': 'aiv://aiv/watch?gti=amzn1.dv.gti.57164413-e9c5-4bdd-a46c-42e29aceb2f9&territory=GB&time=auto',\n",
       "    'deeplink_tizenos': '{\"id\":\"org.tizen.primevideo\",\"action_data\":\"amzn1.dv.gti.57164413-e9c5-4bdd-a46c-42e29aceb2f9\"}',\n",
       "    'deeplink_webos': '{ \"id\": \"amazon\", \"params\": { \"contentTarget\": \"amzn1.dv.gti.57164413-e9c5-4bdd-a46c-42e29aceb2f9\" }}',\n",
       "    'deeplink_rokuos': 'launch/13?contentID=B0B65HYB1M&MediaType=movie'},\n",
       "   'presentation_type': 'hd',\n",
       "   'country': 'GB'},\n",
       "  {'jw_entity_id': 'tm939539',\n",
       "   'monetization_type': 'buy',\n",
       "   'provider_id': 10,\n",
       "   'package_short_name': 'amz',\n",
       "   'retail_price': 13.99,\n",
       "   'last_change_retail_price': 9.99,\n",
       "   'last_change_difference': 4,\n",
       "   'last_change_percent': 40.04004,\n",
       "   'last_change_date': '2023-04-03',\n",
       "   'last_change_date_provider_id': '2023-04-03_10',\n",
       "   'currency': 'GBP',\n",
       "   'urls': {'standard_web': 'https://watch.amazon.co.uk/detail?gti=amzn1.dv.gti.57164413-e9c5-4bdd-a46c-42e29aceb2f9',\n",
       "    'deeplink_web': 'https://watch.amazon.co.uk/watch?gti=amzn1.dv.gti.57164413-e9c5-4bdd-a46c-42e29aceb2f9',\n",
       "    'deeplink_android_tv': 'intent://watch.amazon.co.uk/watch?asin=B0B65HYB1M&time=0&territory=GB#Intent;package=com.amazon.amazonvideo.livingroom;scheme=https;end',\n",
       "    'deeplink_fire_tv': 'intent://com.amazon.tv.launcher/detail?provider=aiv&providerId=B0B65HYB1M#Intent;package=com.amazon.tv.launcher;scheme=amzn;end',\n",
       "    'deeplink_tvos': 'aiv://aiv/watch?gti=amzn1.dv.gti.57164413-e9c5-4bdd-a46c-42e29aceb2f9&territory=GB&time=auto',\n",
       "    'deeplink_tizenos': '{\"id\":\"org.tizen.primevideo\",\"action_data\":\"amzn1.dv.gti.57164413-e9c5-4bdd-a46c-42e29aceb2f9\"}',\n",
       "    'deeplink_webos': '{ \"id\": \"amazon\", \"params\": { \"contentTarget\": \"amzn1.dv.gti.57164413-e9c5-4bdd-a46c-42e29aceb2f9\" }}',\n",
       "    'deeplink_rokuos': 'launch/13?contentID=B0B65HYB1M&MediaType=movie'},\n",
       "   'presentation_type': 'sd',\n",
       "   'country': 'GB'},\n",
       "  {'jw_entity_id': 'tm939539',\n",
       "   'monetization_type': 'rent',\n",
       "   'provider_id': 10,\n",
       "   'package_short_name': 'amz',\n",
       "   'retail_price': 4.99,\n",
       "   'currency': 'GBP',\n",
       "   'urls': {'standard_web': 'https://watch.amazon.co.uk/detail?gti=amzn1.dv.gti.57164413-e9c5-4bdd-a46c-42e29aceb2f9',\n",
       "    'deeplink_web': 'https://watch.amazon.co.uk/watch?gti=amzn1.dv.gti.57164413-e9c5-4bdd-a46c-42e29aceb2f9',\n",
       "    'deeplink_android_tv': 'intent://watch.amazon.co.uk/watch?asin=B0B65HYB1M&time=0&territory=GB#Intent;package=com.amazon.amazonvideo.livingroom;scheme=https;end',\n",
       "    'deeplink_fire_tv': 'intent://com.amazon.tv.launcher/detail?provider=aiv&providerId=B0B65HYB1M#Intent;package=com.amazon.tv.launcher;scheme=amzn;end',\n",
       "    'deeplink_tvos': 'aiv://aiv/watch?gti=amzn1.dv.gti.57164413-e9c5-4bdd-a46c-42e29aceb2f9&territory=GB&time=auto',\n",
       "    'deeplink_tizenos': '{\"id\":\"org.tizen.primevideo\",\"action_data\":\"amzn1.dv.gti.57164413-e9c5-4bdd-a46c-42e29aceb2f9\"}',\n",
       "    'deeplink_webos': '{ \"id\": \"amazon\", \"params\": { \"contentTarget\": \"amzn1.dv.gti.57164413-e9c5-4bdd-a46c-42e29aceb2f9\" }}',\n",
       "    'deeplink_rokuos': 'launch/13?contentID=B0B65HYB1M&MediaType=movie'},\n",
       "   'presentation_type': '4k',\n",
       "   'country': 'GB'},\n",
       "  {'jw_entity_id': 'tm939539',\n",
       "   'monetization_type': 'rent',\n",
       "   'provider_id': 10,\n",
       "   'package_short_name': 'amz',\n",
       "   'retail_price': 4.99,\n",
       "   'last_change_retail_price': 4.49,\n",
       "   'last_change_difference': 0.5,\n",
       "   'last_change_percent': 11.135858,\n",
       "   'last_change_date': '2023-04-20',\n",
       "   'last_change_date_provider_id': '2023-04-20_10',\n",
       "   'currency': 'GBP',\n",
       "   'urls': {'standard_web': 'https://watch.amazon.co.uk/detail?gti=amzn1.dv.gti.57164413-e9c5-4bdd-a46c-42e29aceb2f9',\n",
       "    'deeplink_web': 'https://watch.amazon.co.uk/watch?gti=amzn1.dv.gti.57164413-e9c5-4bdd-a46c-42e29aceb2f9',\n",
       "    'deeplink_android_tv': 'intent://watch.amazon.co.uk/watch?asin=B0B65HYB1M&time=0&territory=GB#Intent;package=com.amazon.amazonvideo.livingroom;scheme=https;end',\n",
       "    'deeplink_fire_tv': 'intent://com.amazon.tv.launcher/detail?provider=aiv&providerId=B0B65HYB1M#Intent;package=com.amazon.tv.launcher;scheme=amzn;end',\n",
       "    'deeplink_tvos': 'aiv://aiv/watch?gti=amzn1.dv.gti.57164413-e9c5-4bdd-a46c-42e29aceb2f9&territory=GB&time=auto',\n",
       "    'deeplink_tizenos': '{\"id\":\"org.tizen.primevideo\",\"action_data\":\"amzn1.dv.gti.57164413-e9c5-4bdd-a46c-42e29aceb2f9\"}',\n",
       "    'deeplink_webos': '{ \"id\": \"amazon\", \"params\": { \"contentTarget\": \"amzn1.dv.gti.57164413-e9c5-4bdd-a46c-42e29aceb2f9\" }}',\n",
       "    'deeplink_rokuos': 'launch/13?contentID=B0B65HYB1M&MediaType=movie'},\n",
       "   'presentation_type': 'hd',\n",
       "   'country': 'GB'},\n",
       "  {'jw_entity_id': 'tm939539',\n",
       "   'monetization_type': 'rent',\n",
       "   'provider_id': 10,\n",
       "   'package_short_name': 'amz',\n",
       "   'retail_price': 3.49,\n",
       "   'currency': 'GBP',\n",
       "   'urls': {'standard_web': 'https://watch.amazon.co.uk/detail?gti=amzn1.dv.gti.57164413-e9c5-4bdd-a46c-42e29aceb2f9',\n",
       "    'deeplink_web': 'https://watch.amazon.co.uk/watch?gti=amzn1.dv.gti.57164413-e9c5-4bdd-a46c-42e29aceb2f9',\n",
       "    'deeplink_android_tv': 'intent://watch.amazon.co.uk/watch?asin=B0B65HYB1M&time=0&territory=GB#Intent;package=com.amazon.amazonvideo.livingroom;scheme=https;end',\n",
       "    'deeplink_fire_tv': 'intent://com.amazon.tv.launcher/detail?provider=aiv&providerId=B0B65HYB1M#Intent;package=com.amazon.tv.launcher;scheme=amzn;end',\n",
       "    'deeplink_tvos': 'aiv://aiv/watch?gti=amzn1.dv.gti.57164413-e9c5-4bdd-a46c-42e29aceb2f9&territory=GB&time=auto',\n",
       "    'deeplink_tizenos': '{\"id\":\"org.tizen.primevideo\",\"action_data\":\"amzn1.dv.gti.57164413-e9c5-4bdd-a46c-42e29aceb2f9\"}',\n",
       "    'deeplink_webos': '{ \"id\": \"amazon\", \"params\": { \"contentTarget\": \"amzn1.dv.gti.57164413-e9c5-4bdd-a46c-42e29aceb2f9\" }}',\n",
       "    'deeplink_rokuos': 'launch/13?contentID=B0B65HYB1M&MediaType=movie'},\n",
       "   'presentation_type': 'sd',\n",
       "   'country': 'GB'},\n",
       "  {'jw_entity_id': 'tm939539',\n",
       "   'monetization_type': 'buy',\n",
       "   'provider_id': 35,\n",
       "   'package_short_name': 'wki',\n",
       "   'retail_price': 13.99,\n",
       "   'currency': 'GBP',\n",
       "   'urls': {'standard_web': 'https://rakuten.tv/uk/movies/m3gan',\n",
       "    'deeplink_android_tv': 'intent://rakuten.tv/movies/m3gan#Intent;launchFlags=0x00800000;scheme=tv.wuaki.apptv;component=tv.wuaki.apptv/.activity.TVLaunchActivity;end',\n",
       "    'deeplink_tizenos': '{\"id\":\"vbUQClczfR.Wuakitv\",\"action_data\":\"{ \\\\\"assetId\\\\\": \\\\\"167967\\\\\" }\"}',\n",
       "    'deeplink_webos': '{ \"id\": \"ui30\", \"params\": { \"contentTarget\": \"\" }}'},\n",
       "   'presentation_type': '4k',\n",
       "   'country': 'GB'},\n",
       "  {'jw_entity_id': 'tm939539',\n",
       "   'monetization_type': 'buy',\n",
       "   'provider_id': 35,\n",
       "   'package_short_name': 'wki',\n",
       "   'retail_price': 13.99,\n",
       "   'currency': 'GBP',\n",
       "   'urls': {'standard_web': 'https://rakuten.tv/uk/movies/m3gan',\n",
       "    'deeplink_android_tv': 'intent://rakuten.tv/movies/m3gan#Intent;launchFlags=0x00800000;scheme=tv.wuaki.apptv;component=tv.wuaki.apptv/.activity.TVLaunchActivity;end',\n",
       "    'deeplink_tizenos': '{\"id\":\"vbUQClczfR.Wuakitv\",\"action_data\":\"{ \\\\\"assetId\\\\\": \\\\\"167967\\\\\" }\"}',\n",
       "    'deeplink_webos': '{ \"id\": \"ui30\", \"params\": { \"contentTarget\": \"\" }}'},\n",
       "   'presentation_type': 'hd',\n",
       "   'country': 'GB'},\n",
       "  {'jw_entity_id': 'tm939539',\n",
       "   'monetization_type': 'buy',\n",
       "   'provider_id': 35,\n",
       "   'package_short_name': 'wki',\n",
       "   'retail_price': 13.99,\n",
       "   'currency': 'GBP',\n",
       "   'urls': {'standard_web': 'https://rakuten.tv/uk/movies/m3gan',\n",
       "    'deeplink_android_tv': 'intent://rakuten.tv/movies/m3gan#Intent;launchFlags=0x00800000;scheme=tv.wuaki.apptv;component=tv.wuaki.apptv/.activity.TVLaunchActivity;end',\n",
       "    'deeplink_tizenos': '{\"id\":\"vbUQClczfR.Wuakitv\",\"action_data\":\"{ \\\\\"assetId\\\\\": \\\\\"167967\\\\\" }\"}',\n",
       "    'deeplink_webos': '{ \"id\": \"ui30\", \"params\": { \"contentTarget\": \"\" }}'},\n",
       "   'presentation_type': 'sd',\n",
       "   'country': 'GB'},\n",
       "  {'jw_entity_id': 'tm939539',\n",
       "   'monetization_type': 'rent',\n",
       "   'provider_id': 35,\n",
       "   'package_short_name': 'wki',\n",
       "   'retail_price': 5.49,\n",
       "   'currency': 'GBP',\n",
       "   'urls': {'standard_web': 'https://rakuten.tv/uk/movies/m3gan',\n",
       "    'deeplink_android_tv': 'intent://rakuten.tv/movies/m3gan#Intent;launchFlags=0x00800000;scheme=tv.wuaki.apptv;component=tv.wuaki.apptv/.activity.TVLaunchActivity;end',\n",
       "    'deeplink_tizenos': '{\"id\":\"vbUQClczfR.Wuakitv\",\"action_data\":\"{ \\\\\"assetId\\\\\": \\\\\"167967\\\\\" }\"}',\n",
       "    'deeplink_webos': '{ \"id\": \"ui30\", \"params\": { \"contentTarget\": \"\" }}'},\n",
       "   'presentation_type': '4k',\n",
       "   'country': 'GB'},\n",
       "  {'jw_entity_id': 'tm939539',\n",
       "   'monetization_type': 'rent',\n",
       "   'provider_id': 35,\n",
       "   'package_short_name': 'wki',\n",
       "   'retail_price': 4.99,\n",
       "   'currency': 'GBP',\n",
       "   'urls': {'standard_web': 'https://rakuten.tv/uk/movies/m3gan',\n",
       "    'deeplink_android_tv': 'intent://rakuten.tv/movies/m3gan#Intent;launchFlags=0x00800000;scheme=tv.wuaki.apptv;component=tv.wuaki.apptv/.activity.TVLaunchActivity;end',\n",
       "    'deeplink_tizenos': '{\"id\":\"vbUQClczfR.Wuakitv\",\"action_data\":\"{ \\\\\"assetId\\\\\": \\\\\"167967\\\\\" }\"}',\n",
       "    'deeplink_webos': '{ \"id\": \"ui30\", \"params\": { \"contentTarget\": \"\" }}'},\n",
       "   'presentation_type': 'hd',\n",
       "   'country': 'GB'},\n",
       "  {'jw_entity_id': 'tm939539',\n",
       "   'monetization_type': 'rent',\n",
       "   'provider_id': 35,\n",
       "   'package_short_name': 'wki',\n",
       "   'retail_price': 4.49,\n",
       "   'currency': 'GBP',\n",
       "   'urls': {'standard_web': 'https://rakuten.tv/uk/movies/m3gan',\n",
       "    'deeplink_android_tv': 'intent://rakuten.tv/movies/m3gan#Intent;launchFlags=0x00800000;scheme=tv.wuaki.apptv;component=tv.wuaki.apptv/.activity.TVLaunchActivity;end',\n",
       "    'deeplink_tizenos': '{\"id\":\"vbUQClczfR.Wuakitv\",\"action_data\":\"{ \\\\\"assetId\\\\\": \\\\\"167967\\\\\" }\"}',\n",
       "    'deeplink_webos': '{ \"id\": \"ui30\", \"params\": { \"contentTarget\": \"\" }}'},\n",
       "   'presentation_type': 'sd',\n",
       "   'country': 'GB'},\n",
       "  {'jw_entity_id': 'tm939539',\n",
       "   'monetization_type': 'buy',\n",
       "   'provider_id': 68,\n",
       "   'package_short_name': 'msf',\n",
       "   'retail_price': 13.99,\n",
       "   'currency': 'GBP',\n",
       "   'urls': {'standard_web': 'https://www.microsoft.com/en-gb/p/m3gan/8d6kgwxz2cj9'},\n",
       "   'presentation_type': 'hd',\n",
       "   'country': 'GB'},\n",
       "  {'jw_entity_id': 'tm939539',\n",
       "   'monetization_type': 'buy',\n",
       "   'provider_id': 68,\n",
       "   'package_short_name': 'msf',\n",
       "   'retail_price': 13.99,\n",
       "   'currency': 'GBP',\n",
       "   'urls': {'standard_web': 'https://www.microsoft.com/en-gb/p/m3gan/8d6kgwxz2cj9'},\n",
       "   'presentation_type': 'sd',\n",
       "   'country': 'GB'},\n",
       "  {'jw_entity_id': 'tm939539',\n",
       "   'monetization_type': 'rent',\n",
       "   'provider_id': 68,\n",
       "   'package_short_name': 'msf',\n",
       "   'retail_price': 4.49,\n",
       "   'currency': 'GBP',\n",
       "   'urls': {'standard_web': 'https://www.microsoft.com/en-gb/p/m3gan/8d6kgwxz2cj9'},\n",
       "   'presentation_type': 'hd',\n",
       "   'country': 'GB'},\n",
       "  {'jw_entity_id': 'tm939539',\n",
       "   'monetization_type': 'rent',\n",
       "   'provider_id': 68,\n",
       "   'package_short_name': 'msf',\n",
       "   'retail_price': 3.49,\n",
       "   'currency': 'GBP',\n",
       "   'urls': {'standard_web': 'https://www.microsoft.com/en-gb/p/m3gan/8d6kgwxz2cj9'},\n",
       "   'presentation_type': 'sd',\n",
       "   'country': 'GB'},\n",
       "  {'jw_entity_id': 'tm939539',\n",
       "   'monetization_type': 'buy',\n",
       "   'provider_id': 130,\n",
       "   'package_short_name': 'sks',\n",
       "   'retail_price': 17.99,\n",
       "   'currency': 'GBP',\n",
       "   'urls': {'standard_web': 'https://www.skystore.com/product/m3gan/a1a4bc0e-5b2c-4196-9bae-3462f61d8df3',\n",
       "    'deeplink_webos': '{\"id\": \"com.bskyb.skystore\",\"params\":{\"contentTarget\":\"\"}}'},\n",
       "   'presentation_type': 'bluray',\n",
       "   'country': 'GB'},\n",
       "  {'jw_entity_id': 'tm939539',\n",
       "   'monetization_type': 'buy',\n",
       "   'provider_id': 130,\n",
       "   'package_short_name': 'sks',\n",
       "   'retail_price': 15.99,\n",
       "   'currency': 'GBP',\n",
       "   'urls': {'standard_web': 'https://www.skystore.com/product/m3gan/a1a4bc0e-5b2c-4196-9bae-3462f61d8df3',\n",
       "    'deeplink_webos': '{\"id\": \"com.bskyb.skystore\",\"params\":{\"contentTarget\":\"\"}}'},\n",
       "   'presentation_type': 'dvd',\n",
       "   'country': 'GB'},\n",
       "  {'jw_entity_id': 'tm939539',\n",
       "   'monetization_type': 'buy',\n",
       "   'provider_id': 130,\n",
       "   'package_short_name': 'sks',\n",
       "   'retail_price': 13.99,\n",
       "   'currency': 'GBP',\n",
       "   'urls': {'standard_web': 'https://www.skystore.com/product/m3gan/a1a4bc0e-5b2c-4196-9bae-3462f61d8df3',\n",
       "    'deeplink_webos': '{\"id\": \"com.bskyb.skystore\",\"params\":{\"contentTarget\":\"\"}}'},\n",
       "   'presentation_type': 'hd',\n",
       "   'country': 'GB'},\n",
       "  {'jw_entity_id': 'tm939539',\n",
       "   'monetization_type': 'rent',\n",
       "   'provider_id': 130,\n",
       "   'package_short_name': 'sks',\n",
       "   'last_change_retail_price': 5.49,\n",
       "   'last_change_difference': -5.49,\n",
       "   'last_change_percent': -100,\n",
       "   'last_change_date': '2023-05-25',\n",
       "   'last_change_date_provider_id': '2023-05-25_130',\n",
       "   'currency': 'GBP',\n",
       "   'urls': {'standard_web': 'https://www.skystore.com/product/m3gan-sneak-peek/5f6bc1cc-1236-4dba-bde2-ce0adc17cd19',\n",
       "    'deeplink_webos': '{\"id\": \"com.bskyb.skystore\",\"params\":{\"contentTarget\":\"\"}}'},\n",
       "   'presentation_type': 'hd',\n",
       "   'country': 'GB'},\n",
       "  {'jw_entity_id': 'tm939539',\n",
       "   'monetization_type': 'buy',\n",
       "   'provider_id': 192,\n",
       "   'package_short_name': 'yot',\n",
       "   'retail_price': 13.99,\n",
       "   'currency': 'GBP',\n",
       "   'urls': {'standard_web': 'https://www.youtube.com/results?search_query=M3GAN%2Bmovie',\n",
       "    'deeplink_android_tv': 'intent://www.youtube.com/results?search_query=M3GAN%2Bmovie#Intent;launchFlags=0x00800000;scheme=https;end',\n",
       "    'deeplink_fire_tv': 'intent://www.youtube.com/results?search_query=M3GAN%2Bmovie#Intent;launchFlags=0x00800000;scheme=https;end'},\n",
       "   'presentation_type': 'hd',\n",
       "   'country': 'GB'},\n",
       "  {'jw_entity_id': 'tm939539',\n",
       "   'monetization_type': 'rent',\n",
       "   'provider_id': 192,\n",
       "   'package_short_name': 'yot',\n",
       "   'retail_price': 5.49,\n",
       "   'last_change_retail_price': 4.99,\n",
       "   'last_change_difference': 0.5,\n",
       "   'last_change_percent': 10.0200405,\n",
       "   'last_change_date': '2023-05-23',\n",
       "   'last_change_date_provider_id': '2023-05-23_192',\n",
       "   'currency': 'GBP',\n",
       "   'urls': {'standard_web': 'https://www.youtube.com/results?search_query=M3GAN%2Bmovie',\n",
       "    'deeplink_android_tv': 'intent://www.youtube.com/results?search_query=M3GAN%2Bmovie#Intent;launchFlags=0x00800000;scheme=https;end',\n",
       "    'deeplink_fire_tv': 'intent://www.youtube.com/results?search_query=M3GAN%2Bmovie#Intent;launchFlags=0x00800000;scheme=https;end'},\n",
       "   'presentation_type': 'hd',\n",
       "   'country': 'GB'},\n",
       "  {'jw_entity_id': 'tm939539',\n",
       "   'monetization_type': 'rent',\n",
       "   'provider_id': 192,\n",
       "   'package_short_name': 'yot',\n",
       "   'retail_price': 3.49,\n",
       "   'currency': 'GBP',\n",
       "   'urls': {'standard_web': 'https://www.youtube.com/results?search_query=M3GAN%2Bmovie',\n",
       "    'deeplink_android_tv': 'intent://www.youtube.com/results?search_query=M3GAN%2Bmovie#Intent;launchFlags=0x00800000;scheme=https;end',\n",
       "    'deeplink_fire_tv': 'intent://www.youtube.com/results?search_query=M3GAN%2Bmovie#Intent;launchFlags=0x00800000;scheme=https;end'},\n",
       "   'presentation_type': 'sd',\n",
       "   'country': 'GB'}],\n",
       " 'scoring': [{'provider_type': 'tmdb:votes', 'value': 2630},\n",
       "  {'provider_type': 'tmdb:popularity', 'value': 393.409},\n",
       "  {'provider_type': 'jw:trending_7_day', 'value': 318.71},\n",
       "  {'provider_type': 'jw:popular_180_day', 'value': 509.89},\n",
       "  {'provider_type': 'tmdb:id', 'value': 536554},\n",
       "  {'provider_type': 'imdb:votes', 'value': 101345},\n",
       "  {'provider_type': 'jw:popular_7_day', 'value': 386.99},\n",
       "  {'provider_type': 'jw:viral', 'value': 0.05},\n",
       "  {'provider_type': 'jw:popular_1_day', 'value': 208.55},\n",
       "  {'provider_type': 'imdb:multiplied', 'value': 648608},\n",
       "  {'provider_type': 'imdb:score', 'value': 6.4},\n",
       "  {'provider_type': 'jw:popular_30_day', 'value': 632.2},\n",
       "  {'provider_type': 'tmdb:score', 'value': 7.343}]}"
      ]
     },
     "execution_count": 28,
     "metadata": {},
     "output_type": "execute_result"
    }
   ],
   "source": [
    "results = just_watch.search_for_item(query=film_url_title, release_year_from=film_release_year-1, release_year_until=film_release_year+1, page_size=1)\n",
    "first_result = results['items'][0]\n",
    "first_result"
   ]
  },
  {
   "cell_type": "code",
   "execution_count": 37,
   "metadata": {},
   "outputs": [
    {
     "name": "stdout",
     "output_type": "stream",
     "text": [
      "[]\n",
      "['rent']\n"
     ]
    }
   ],
   "source": [
    "provider_abbreviations = list(set([x['package_short_name'] for x in first_result.get('offers', []) if x['monetization_type'] in ['flatrate', 'free', 'ads']]))\n",
    "print(provider_abbreviations)\n",
    "valid_abbr = [x for x in provider_abbreviations if x in my_streaming_services_abbr]\n",
    "valid_abbr.append('rent')\n",
    "print(valid_abbr)\n"
   ]
  },
  {
   "cell_type": "code",
   "execution_count": 41,
   "metadata": {},
   "outputs": [
    {
     "data": {
      "text/plain": [
       "[4.99, 5.49, 4.99, 4.99, 4.49, 5.49]"
      ]
     },
     "execution_count": 41,
     "metadata": {},
     "output_type": "execute_result"
    }
   ],
   "source": [
    "[x['retail_price'] for x in first_result.get('offers', []) if x['monetization_type'] == 'rent' and x['presentation_type'] == 'hd' and x.get('retail_price', False)]"
   ]
  },
  {
   "cell_type": "code",
   "execution_count": null,
   "metadata": {},
   "outputs": [],
   "source": [
    "\n",
    "if len(results['items']) > 0:\n",
    "    first_result = results['items'][0]\n",
    "    if first_result.get('title') == get_from_table('FILM_TITLE', film_id, 'FILM_TITLE'):\n",
    "        provider_abbreviations = list(set([x['package_short_name'] for x in first_result.get('offers', []) if x['monetization_type'] in ['flatrate', 'free', 'ads']]))\n",
    "        valid_abbr = [x for x in provider_abbreviations if x in my_streaming_services_abbr]\n",
    "        valid_abbr.append('rent')\n",
    "        rental_prices = [x['retail_price'] for x in first_result.get('offers', []) if x['monetization_type'] == 'rent' and x['presentation_type'] == 'hd']\n",
    "        if len(rental_prices) > 0:\n",
    "            min_rental_price = min(rental_prices)\n",
    "        else:\n",
    "            min_rental_price = None\n",
    "        valid_full = [abbr_to_full_dict.get(x) for x in valid_abbr]\n",
    "        film_streaming_services_df = pd.DataFrame(index=range(len(valid_abbr)))\n",
    "        film_streaming_services_df['FILM_ID'] = film_id\n",
    "        film_streaming_services_df['STREAMING_SERVICE_ABBR'] = valid_abbr\n",
    "        film_streaming_services_df['STREAMING_SERVICE_FULL'] = valid_full\n",
    "        film_streaming_services_df['PRICE'] = np.where(film_streaming_services_df['STREAMING_SERVICE_ABBR']=='rent', min_rental_price, 0)\n",
    "        film_streaming_services_df['CREATED_AT'] = datetime.now()"
   ]
  },
  {
   "cell_type": "code",
   "execution_count": 35,
   "metadata": {},
   "outputs": [
    {
     "data": {
      "text/plain": [
       "{'jw_entity_id': 'tm3293',\n",
       " 'id': 3293,\n",
       " 'title': 'The Passion of Joan of Arc',\n",
       " 'full_path': '/uk/movie/the-passion-of-joan-of-arc',\n",
       " 'full_paths': {'MOVIE_DETAIL_OVERVIEW': '/uk/movie/the-passion-of-joan-of-arc'},\n",
       " 'poster': '/poster/35904680/{profile}',\n",
       " 'poster_blur_hash': 'TRIOhGt7_3~qM{WBD%WBD%-;t7xu',\n",
       " 'original_release_year': 1928,\n",
       " 'object_type': 'movie',\n",
       " 'offers': [{'jw_entity_id': 'tm3293',\n",
       "   'monetization_type': 'flatrate',\n",
       "   'provider_id': 224,\n",
       "   'package_short_name': 'bfi',\n",
       "   'currency': 'GBP',\n",
       "   'urls': {'standard_web': 'https://player.bfi.org.uk/subscription/film/watch-the-passion-of-joan-of-arc-1928-online',\n",
       "    'deeplink_tizenos': '{\"id\":\"Rf144dmTlp.dist\",\"action_data\":\"0cb52d1a-698b-5a1d-b826-f16390a89c7e\"}'},\n",
       "   'presentation_type': 'sd',\n",
       "   'country': 'GB'},\n",
       "  {'jw_entity_id': 'tm3293',\n",
       "   'monetization_type': 'flatrate',\n",
       "   'provider_id': 287,\n",
       "   'package_short_name': 'abf',\n",
       "   'currency': 'GBP',\n",
       "   'urls': {'standard_web': 'https://watch.amazon.co.uk/detail?gti=amzn1.dv.gti.14b064e1-ea62-606e-cb50-d1cbf9a4d0e5',\n",
       "    'deeplink_web': 'https://watch.amazon.co.uk/watch?gti=amzn1.dv.gti.14b064e1-ea62-606e-cb50-d1cbf9a4d0e5',\n",
       "    'deeplink_android_tv': 'intent://watch.amazon.co.uk/watch?asin=B078TZ5KRX&time=0&territory=GB#Intent;package=com.amazon.amazonvideo.livingroom;scheme=https;end',\n",
       "    'deeplink_fire_tv': 'intent://com.amazon.tv.launcher/detail?provider=aiv&providerId=B078TZ5KRX#Intent;package=com.amazon.tv.launcher;scheme=amzn;end',\n",
       "    'deeplink_tvos': 'aiv://aiv/watch?gti=amzn1.dv.gti.14b064e1-ea62-606e-cb50-d1cbf9a4d0e5&territory=GB&time=auto',\n",
       "    'deeplink_tizenos': '{\"id\":\"org.tizen.primevideo\",\"action_data\":\"amzn1.dv.gti.14b064e1-ea62-606e-cb50-d1cbf9a4d0e5\"}',\n",
       "    'deeplink_webos': '{ \"id\": \"amazon\", \"params\": { \"contentTarget\": \"amzn1.dv.gti.14b064e1-ea62-606e-cb50-d1cbf9a4d0e5\" }}',\n",
       "    'deeplink_rokuos': 'launch/13?contentID=B078TZ5KRX&MediaType=movie'},\n",
       "   'available_to': '2023-09-29',\n",
       "   'presentation_type': 'hd',\n",
       "   'country': 'GB'},\n",
       "  {'jw_entity_id': 'tm3293',\n",
       "   'monetization_type': 'flatrate',\n",
       "   'provider_id': 287,\n",
       "   'package_short_name': 'abf',\n",
       "   'currency': 'GBP',\n",
       "   'urls': {'standard_web': 'https://watch.amazon.co.uk/detail?gti=amzn1.dv.gti.14b064e1-ea62-606e-cb50-d1cbf9a4d0e5',\n",
       "    'deeplink_web': 'https://watch.amazon.co.uk/watch?gti=amzn1.dv.gti.14b064e1-ea62-606e-cb50-d1cbf9a4d0e5',\n",
       "    'deeplink_android_tv': 'intent://watch.amazon.co.uk/watch?asin=B078TZ5KRX&time=0&territory=GB#Intent;package=com.amazon.amazonvideo.livingroom;scheme=https;end',\n",
       "    'deeplink_fire_tv': 'intent://com.amazon.tv.launcher/detail?provider=aiv&providerId=B078TZ5KRX#Intent;package=com.amazon.tv.launcher;scheme=amzn;end',\n",
       "    'deeplink_tvos': 'aiv://aiv/watch?gti=amzn1.dv.gti.14b064e1-ea62-606e-cb50-d1cbf9a4d0e5&territory=GB&time=auto',\n",
       "    'deeplink_tizenos': '{\"id\":\"org.tizen.primevideo\",\"action_data\":\"amzn1.dv.gti.14b064e1-ea62-606e-cb50-d1cbf9a4d0e5\"}',\n",
       "    'deeplink_webos': '{ \"id\": \"amazon\", \"params\": { \"contentTarget\": \"amzn1.dv.gti.14b064e1-ea62-606e-cb50-d1cbf9a4d0e5\" }}',\n",
       "    'deeplink_rokuos': 'launch/13?contentID=B078TZ5KRX&MediaType=movie'},\n",
       "   'available_to': '2023-09-29',\n",
       "   'presentation_type': 'sd',\n",
       "   'country': 'GB'},\n",
       "  {'jw_entity_id': 'tm3293',\n",
       "   'monetization_type': 'ads',\n",
       "   'provider_id': 613,\n",
       "   'package_short_name': 'aim',\n",
       "   'currency': 'GBP',\n",
       "   'urls': {'standard_web': 'https://watch.amazon.co.uk/detail?gti=amzn1.dv.gti.421b6c1a-1f33-4197-84ac-017c886c1193',\n",
       "    'deeplink_web': 'https://watch.amazon.co.uk/watch?gti=amzn1.dv.gti.421b6c1a-1f33-4197-84ac-017c886c1193',\n",
       "    'deeplink_android_tv': 'intent://watch.amazon.co.uk/watch?asin=B09ZY9137Y&time=0&territory=GB#Intent;package=com.amazon.amazonvideo.livingroom;scheme=https;end',\n",
       "    'deeplink_fire_tv': 'intent://com.amazon.tv.launcher/detail?provider=aiv&providerId=B09ZY9137Y#Intent;package=com.amazon.tv.launcher;scheme=amzn;end',\n",
       "    'deeplink_tvos': 'aiv://aiv/watch?gti=amzn1.dv.gti.421b6c1a-1f33-4197-84ac-017c886c1193&territory=GB&time=auto',\n",
       "    'deeplink_tizenos': '{\"id\":\"org.tizen.primevideo\",\"action_data\":\"amzn1.dv.gti.421b6c1a-1f33-4197-84ac-017c886c1193\"}',\n",
       "    'deeplink_webos': '{ \"id\": \"amazon\", \"params\": { \"contentTarget\": \"amzn1.dv.gti.421b6c1a-1f33-4197-84ac-017c886c1193\" }}',\n",
       "    'deeplink_rokuos': 'launch/13?contentID=B09ZY9137Y&MediaType=movie'},\n",
       "   'presentation_type': 'hd',\n",
       "   'country': 'GB'},\n",
       "  {'jw_entity_id': 'tm3293',\n",
       "   'monetization_type': 'ads',\n",
       "   'provider_id': 613,\n",
       "   'package_short_name': 'aim',\n",
       "   'currency': 'GBP',\n",
       "   'urls': {'standard_web': 'https://watch.amazon.co.uk/detail?gti=amzn1.dv.gti.421b6c1a-1f33-4197-84ac-017c886c1193',\n",
       "    'deeplink_web': 'https://watch.amazon.co.uk/watch?gti=amzn1.dv.gti.421b6c1a-1f33-4197-84ac-017c886c1193',\n",
       "    'deeplink_android_tv': 'intent://watch.amazon.co.uk/watch?asin=B09ZY9137Y&time=0&territory=GB#Intent;package=com.amazon.amazonvideo.livingroom;scheme=https;end',\n",
       "    'deeplink_fire_tv': 'intent://com.amazon.tv.launcher/detail?provider=aiv&providerId=B09ZY9137Y#Intent;package=com.amazon.tv.launcher;scheme=amzn;end',\n",
       "    'deeplink_tvos': 'aiv://aiv/watch?gti=amzn1.dv.gti.421b6c1a-1f33-4197-84ac-017c886c1193&territory=GB&time=auto',\n",
       "    'deeplink_tizenos': '{\"id\":\"org.tizen.primevideo\",\"action_data\":\"amzn1.dv.gti.421b6c1a-1f33-4197-84ac-017c886c1193\"}',\n",
       "    'deeplink_webos': '{ \"id\": \"amazon\", \"params\": { \"contentTarget\": \"amzn1.dv.gti.421b6c1a-1f33-4197-84ac-017c886c1193\" }}',\n",
       "    'deeplink_rokuos': 'launch/13?contentID=B09ZY9137Y&MediaType=movie'},\n",
       "   'presentation_type': 'sd',\n",
       "   'country': 'GB'}],\n",
       " 'scoring': [{'provider_type': 'imdb:popularity', 'value': 3935},\n",
       "  {'provider_type': 'jw:popular_30_day', 'value': 3.48},\n",
       "  {'provider_type': 'imdb:multiplied', 'value': 469187.6},\n",
       "  {'provider_type': 'jw:popular_7_day', 'value': 0.59},\n",
       "  {'provider_type': 'tmdb:popularity', 'value': 9.644},\n",
       "  {'provider_type': 'tmdb:votes', 'value': 778},\n",
       "  {'provider_type': 'imdb:score', 'value': 8.2},\n",
       "  {'provider_type': 'jw:popular_180_day', 'value': 8.79},\n",
       "  {'provider_type': 'tmdb:id', 'value': 780},\n",
       "  {'provider_type': 'jw:popular_1_day', 'value': 0.58},\n",
       "  {'provider_type': 'imdb:votes', 'value': 57218},\n",
       "  {'provider_type': 'jw:trending_7_day', 'value': 0.6},\n",
       "  {'provider_type': 'tmdb:score', 'value': 8.058}]}"
      ]
     },
     "execution_count": 35,
     "metadata": {},
     "output_type": "execute_result"
    }
   ],
   "source": [
    "first_result = results['items'][0]\n",
    "first_result"
   ]
  },
  {
   "cell_type": "code",
   "execution_count": 36,
   "metadata": {},
   "outputs": [
    {
     "data": {
      "text/plain": [
       "[{'jw_entity_id': 'tm3293',\n",
       "  'monetization_type': 'flatrate',\n",
       "  'provider_id': 224,\n",
       "  'package_short_name': 'bfi',\n",
       "  'currency': 'GBP',\n",
       "  'urls': {'standard_web': 'https://player.bfi.org.uk/subscription/film/watch-the-passion-of-joan-of-arc-1928-online',\n",
       "   'deeplink_tizenos': '{\"id\":\"Rf144dmTlp.dist\",\"action_data\":\"0cb52d1a-698b-5a1d-b826-f16390a89c7e\"}'},\n",
       "  'presentation_type': 'sd',\n",
       "  'country': 'GB'},\n",
       " {'jw_entity_id': 'tm3293',\n",
       "  'monetization_type': 'flatrate',\n",
       "  'provider_id': 287,\n",
       "  'package_short_name': 'abf',\n",
       "  'currency': 'GBP',\n",
       "  'urls': {'standard_web': 'https://watch.amazon.co.uk/detail?gti=amzn1.dv.gti.14b064e1-ea62-606e-cb50-d1cbf9a4d0e5',\n",
       "   'deeplink_web': 'https://watch.amazon.co.uk/watch?gti=amzn1.dv.gti.14b064e1-ea62-606e-cb50-d1cbf9a4d0e5',\n",
       "   'deeplink_android_tv': 'intent://watch.amazon.co.uk/watch?asin=B078TZ5KRX&time=0&territory=GB#Intent;package=com.amazon.amazonvideo.livingroom;scheme=https;end',\n",
       "   'deeplink_fire_tv': 'intent://com.amazon.tv.launcher/detail?provider=aiv&providerId=B078TZ5KRX#Intent;package=com.amazon.tv.launcher;scheme=amzn;end',\n",
       "   'deeplink_tvos': 'aiv://aiv/watch?gti=amzn1.dv.gti.14b064e1-ea62-606e-cb50-d1cbf9a4d0e5&territory=GB&time=auto',\n",
       "   'deeplink_tizenos': '{\"id\":\"org.tizen.primevideo\",\"action_data\":\"amzn1.dv.gti.14b064e1-ea62-606e-cb50-d1cbf9a4d0e5\"}',\n",
       "   'deeplink_webos': '{ \"id\": \"amazon\", \"params\": { \"contentTarget\": \"amzn1.dv.gti.14b064e1-ea62-606e-cb50-d1cbf9a4d0e5\" }}',\n",
       "   'deeplink_rokuos': 'launch/13?contentID=B078TZ5KRX&MediaType=movie'},\n",
       "  'available_to': '2023-09-29',\n",
       "  'presentation_type': 'hd',\n",
       "  'country': 'GB'},\n",
       " {'jw_entity_id': 'tm3293',\n",
       "  'monetization_type': 'flatrate',\n",
       "  'provider_id': 287,\n",
       "  'package_short_name': 'abf',\n",
       "  'currency': 'GBP',\n",
       "  'urls': {'standard_web': 'https://watch.amazon.co.uk/detail?gti=amzn1.dv.gti.14b064e1-ea62-606e-cb50-d1cbf9a4d0e5',\n",
       "   'deeplink_web': 'https://watch.amazon.co.uk/watch?gti=amzn1.dv.gti.14b064e1-ea62-606e-cb50-d1cbf9a4d0e5',\n",
       "   'deeplink_android_tv': 'intent://watch.amazon.co.uk/watch?asin=B078TZ5KRX&time=0&territory=GB#Intent;package=com.amazon.amazonvideo.livingroom;scheme=https;end',\n",
       "   'deeplink_fire_tv': 'intent://com.amazon.tv.launcher/detail?provider=aiv&providerId=B078TZ5KRX#Intent;package=com.amazon.tv.launcher;scheme=amzn;end',\n",
       "   'deeplink_tvos': 'aiv://aiv/watch?gti=amzn1.dv.gti.14b064e1-ea62-606e-cb50-d1cbf9a4d0e5&territory=GB&time=auto',\n",
       "   'deeplink_tizenos': '{\"id\":\"org.tizen.primevideo\",\"action_data\":\"amzn1.dv.gti.14b064e1-ea62-606e-cb50-d1cbf9a4d0e5\"}',\n",
       "   'deeplink_webos': '{ \"id\": \"amazon\", \"params\": { \"contentTarget\": \"amzn1.dv.gti.14b064e1-ea62-606e-cb50-d1cbf9a4d0e5\" }}',\n",
       "   'deeplink_rokuos': 'launch/13?contentID=B078TZ5KRX&MediaType=movie'},\n",
       "  'available_to': '2023-09-29',\n",
       "  'presentation_type': 'sd',\n",
       "  'country': 'GB'},\n",
       " {'jw_entity_id': 'tm3293',\n",
       "  'monetization_type': 'ads',\n",
       "  'provider_id': 613,\n",
       "  'package_short_name': 'aim',\n",
       "  'currency': 'GBP',\n",
       "  'urls': {'standard_web': 'https://watch.amazon.co.uk/detail?gti=amzn1.dv.gti.421b6c1a-1f33-4197-84ac-017c886c1193',\n",
       "   'deeplink_web': 'https://watch.amazon.co.uk/watch?gti=amzn1.dv.gti.421b6c1a-1f33-4197-84ac-017c886c1193',\n",
       "   'deeplink_android_tv': 'intent://watch.amazon.co.uk/watch?asin=B09ZY9137Y&time=0&territory=GB#Intent;package=com.amazon.amazonvideo.livingroom;scheme=https;end',\n",
       "   'deeplink_fire_tv': 'intent://com.amazon.tv.launcher/detail?provider=aiv&providerId=B09ZY9137Y#Intent;package=com.amazon.tv.launcher;scheme=amzn;end',\n",
       "   'deeplink_tvos': 'aiv://aiv/watch?gti=amzn1.dv.gti.421b6c1a-1f33-4197-84ac-017c886c1193&territory=GB&time=auto',\n",
       "   'deeplink_tizenos': '{\"id\":\"org.tizen.primevideo\",\"action_data\":\"amzn1.dv.gti.421b6c1a-1f33-4197-84ac-017c886c1193\"}',\n",
       "   'deeplink_webos': '{ \"id\": \"amazon\", \"params\": { \"contentTarget\": \"amzn1.dv.gti.421b6c1a-1f33-4197-84ac-017c886c1193\" }}',\n",
       "   'deeplink_rokuos': 'launch/13?contentID=B09ZY9137Y&MediaType=movie'},\n",
       "  'presentation_type': 'hd',\n",
       "  'country': 'GB'},\n",
       " {'jw_entity_id': 'tm3293',\n",
       "  'monetization_type': 'ads',\n",
       "  'provider_id': 613,\n",
       "  'package_short_name': 'aim',\n",
       "  'currency': 'GBP',\n",
       "  'urls': {'standard_web': 'https://watch.amazon.co.uk/detail?gti=amzn1.dv.gti.421b6c1a-1f33-4197-84ac-017c886c1193',\n",
       "   'deeplink_web': 'https://watch.amazon.co.uk/watch?gti=amzn1.dv.gti.421b6c1a-1f33-4197-84ac-017c886c1193',\n",
       "   'deeplink_android_tv': 'intent://watch.amazon.co.uk/watch?asin=B09ZY9137Y&time=0&territory=GB#Intent;package=com.amazon.amazonvideo.livingroom;scheme=https;end',\n",
       "   'deeplink_fire_tv': 'intent://com.amazon.tv.launcher/detail?provider=aiv&providerId=B09ZY9137Y#Intent;package=com.amazon.tv.launcher;scheme=amzn;end',\n",
       "   'deeplink_tvos': 'aiv://aiv/watch?gti=amzn1.dv.gti.421b6c1a-1f33-4197-84ac-017c886c1193&territory=GB&time=auto',\n",
       "   'deeplink_tizenos': '{\"id\":\"org.tizen.primevideo\",\"action_data\":\"amzn1.dv.gti.421b6c1a-1f33-4197-84ac-017c886c1193\"}',\n",
       "   'deeplink_webos': '{ \"id\": \"amazon\", \"params\": { \"contentTarget\": \"amzn1.dv.gti.421b6c1a-1f33-4197-84ac-017c886c1193\" }}',\n",
       "   'deeplink_rokuos': 'launch/13?contentID=B09ZY9137Y&MediaType=movie'},\n",
       "  'presentation_type': 'sd',\n",
       "  'country': 'GB'}]"
      ]
     },
     "execution_count": 36,
     "metadata": {},
     "output_type": "execute_result"
    }
   ],
   "source": [
    "first_result.get('offers', [])"
   ]
  },
  {
   "cell_type": "code",
   "execution_count": 37,
   "metadata": {},
   "outputs": [
    {
     "ename": "ValueError",
     "evalue": "min() arg is an empty sequence",
     "output_type": "error",
     "traceback": [
      "\u001b[1;31m---------------------------------------------------------------------------\u001b[0m",
      "\u001b[1;31mValueError\u001b[0m                                Traceback (most recent call last)",
      "Cell \u001b[1;32mIn[37], line 8\u001b[0m\n\u001b[0;32m      6\u001b[0m film_streaming_services_df[\u001b[39m'\u001b[39m\u001b[39mSTREAMING_SERVICE_ABBR\u001b[39m\u001b[39m'\u001b[39m] \u001b[39m=\u001b[39m valid_abbr\n\u001b[0;32m      7\u001b[0m film_streaming_services_df[\u001b[39m'\u001b[39m\u001b[39mSTREAMING_SERVICE_FULL\u001b[39m\u001b[39m'\u001b[39m] \u001b[39m=\u001b[39m valid_full\n\u001b[1;32m----> 8\u001b[0m min_rental_price \u001b[39m=\u001b[39m \u001b[39mmin\u001b[39m([x[\u001b[39m'\u001b[39m\u001b[39mretail_price\u001b[39m\u001b[39m'\u001b[39m] \u001b[39mfor\u001b[39;00m x \u001b[39min\u001b[39;00m first_result[\u001b[39m'\u001b[39m\u001b[39moffers\u001b[39m\u001b[39m'\u001b[39m] \u001b[39mif\u001b[39;00m x[\u001b[39m'\u001b[39m\u001b[39mmonetization_type\u001b[39m\u001b[39m'\u001b[39m] \u001b[39m==\u001b[39m \u001b[39m'\u001b[39m\u001b[39mrent\u001b[39m\u001b[39m'\u001b[39m \u001b[39mand\u001b[39;00m x[\u001b[39m'\u001b[39m\u001b[39mpresentation_type\u001b[39m\u001b[39m'\u001b[39m] \u001b[39m==\u001b[39m \u001b[39m'\u001b[39m\u001b[39mhd\u001b[39m\u001b[39m'\u001b[39m])\n\u001b[0;32m      9\u001b[0m min_rental_price\n",
      "\u001b[1;31mValueError\u001b[0m: min() arg is an empty sequence"
     ]
    }
   ],
   "source": [
    "provider_abbreviations = list(set([x['package_short_name'] for x in first_result.get('offers', []) if x['monetization_type'] in ['flatrate', 'free', 'ads']]))\n",
    "valid_abbr = [x for x in provider_abbreviations if x in my_streaming_services_abbr]\n",
    "valid_full = [abbr_to_full_dict.get(x) for x in valid_abbr]\n",
    "film_streaming_services_df = pd.DataFrame(index=range(len(valid_abbr)))\n",
    "film_streaming_services_df['FILM_ID'] = film_id\n",
    "film_streaming_services_df['STREAMING_SERVICE_ABBR'] = valid_abbr\n",
    "film_streaming_services_df['STREAMING_SERVICE_FULL'] = valid_full\n",
    "min_rental_price = min([x['retail_price'] for x in first_result['offers'] if x['monetization_type'] == 'rent' and x['presentation_type'] == 'hd'])\n",
    "min_rental_price"
   ]
  },
  {
   "cell_type": "code",
   "execution_count": 20,
   "metadata": {},
   "outputs": [
    {
     "ename": "ValueError",
     "evalue": "min() arg is an empty sequence",
     "output_type": "error",
     "traceback": [
      "\u001b[1;31m---------------------------------------------------------------------------\u001b[0m",
      "\u001b[1;31mValueError\u001b[0m                                Traceback (most recent call last)",
      "Cell \u001b[1;32mIn[20], line 1\u001b[0m\n\u001b[1;32m----> 1\u001b[0m \u001b[39mmin\u001b[39m([x[\u001b[39m'\u001b[39m\u001b[39mretail_price\u001b[39m\u001b[39m'\u001b[39m] \u001b[39mfor\u001b[39;00m x \u001b[39min\u001b[39;00m first_result[\u001b[39m'\u001b[39m\u001b[39moffers\u001b[39m\u001b[39m'\u001b[39m] \u001b[39mif\u001b[39;00m x[\u001b[39m'\u001b[39m\u001b[39mmonetization_type\u001b[39m\u001b[39m'\u001b[39m] \u001b[39m==\u001b[39m \u001b[39m'\u001b[39m\u001b[39mrent\u001b[39m\u001b[39m'\u001b[39m \u001b[39mand\u001b[39;00m x[\u001b[39m'\u001b[39m\u001b[39mpresentation_type\u001b[39m\u001b[39m'\u001b[39m] \u001b[39m==\u001b[39m \u001b[39m'\u001b[39m\u001b[39mhd\u001b[39m\u001b[39m'\u001b[39m])\n",
      "\u001b[1;31mValueError\u001b[0m: min() arg is an empty sequence"
     ]
    }
   ],
   "source": [
    "min([x['retail_price'] for x in first_result['offers'] if x['monetization_type'] == 'rent' and x['presentation_type'] == 'hd'])"
   ]
  },
  {
   "cell_type": "code",
   "execution_count": 17,
   "metadata": {},
   "outputs": [],
   "source": [
    "\n",
    "# delete_records('FILM_STREAMING_SERVICES', film_id)\n",
    "if len(results['items']) > 0:\n",
    "    first_result = results['items'][0]\n",
    "    if first_result.get('title') == get_from_table('FILM_TITLE', film_id, 'FILM_TITLE'):\n",
    "        provider_abbreviations = list(set([x['package_short_name'] for x in first_result.get('offers', []) if x['monetization_type'] in ['flatrate', 'free', 'ads']]))\n",
    "        valid_abbr = [x for x in provider_abbreviations if x in my_streaming_services_abbr]\n",
    "        if len(valid_abbr) > 0:\n",
    "            valid_full = [abbr_to_full_dict.get(x) for x in valid_abbr]\n",
    "            film_streaming_services_df = pd.DataFrame(index=range(len(valid_abbr)))\n",
    "            film_streaming_services_df['FILM_ID'] = film_id\n",
    "            film_streaming_services_df['STREAMING_SERVICE_ABBR'] = valid_abbr\n",
    "            film_streaming_services_df['STREAMING_SERVICE_FULL'] = valid_full\n",
    "            # film_streaming_services_df['CREATED_AT'] = datetime.now()\n",
    "            # df_to_table(film_streaming_services_df, 'FILM_STREAMING_SERVICES', replace_append='append', verbose=False)"
   ]
  },
  {
   "cell_type": "code",
   "execution_count": 39,
   "metadata": {},
   "outputs": [],
   "source": [
    "min_rental_price = min([x['retail_price'] for x in first_result['offers'] if x['monetization_type'] == 'rent' and x['presentation_type'] == 'hd'])"
   ]
  },
  {
   "cell_type": "code",
   "execution_count": 23,
   "metadata": {},
   "outputs": [
    {
     "data": {
      "text/plain": [
       "[{'jw_entity_id': 'tm35196',\n",
       "  'monetization_type': 'flatrate',\n",
       "  'provider_id': 194,\n",
       "  'package_short_name': 'ast',\n",
       "  'currency': 'GBP',\n",
       "  'urls': {'standard_web': 'https://watch.amazon.co.uk/detail?gti=amzn1.dv.gti.b2a9f67f-683c-b79b-091e-66476824f38d',\n",
       "   'deeplink_web': 'https://watch.amazon.co.uk/watch?gti=amzn1.dv.gti.b2a9f67f-683c-b79b-091e-66476824f38d',\n",
       "   'deeplink_android_tv': 'intent://watch.amazon.co.uk/watch?asin=B00L2OBRT6&time=0&territory=GB#Intent;package=com.amazon.amazonvideo.livingroom;scheme=https;end',\n",
       "   'deeplink_fire_tv': 'intent://com.amazon.tv.launcher/detail?provider=aiv&providerId=B00L2OBRT6#Intent;package=com.amazon.tv.launcher;scheme=amzn;end',\n",
       "   'deeplink_tvos': 'aiv://aiv/watch?gti=amzn1.dv.gti.b2a9f67f-683c-b79b-091e-66476824f38d&territory=GB&time=auto',\n",
       "   'deeplink_tizenos': '{\"id\":\"org.tizen.primevideo\",\"action_data\":\"amzn1.dv.gti.b2a9f67f-683c-b79b-091e-66476824f38d\"}',\n",
       "   'deeplink_webos': '{ \"id\": \"amazon\", \"params\": { \"contentTarget\": \"amzn1.dv.gti.b2a9f67f-683c-b79b-091e-66476824f38d\" }}',\n",
       "   'deeplink_rokuos': 'launch/13?contentID=B00L2OBRT6&MediaType=movie'},\n",
       "  'available_to': '2023-10-01',\n",
       "  'presentation_type': 'hd',\n",
       "  'country': 'GB'},\n",
       " {'jw_entity_id': 'tm35196',\n",
       "  'monetization_type': 'flatrate',\n",
       "  'provider_id': 194,\n",
       "  'package_short_name': 'ast',\n",
       "  'currency': 'GBP',\n",
       "  'urls': {'standard_web': 'https://watch.amazon.co.uk/detail?gti=amzn1.dv.gti.b2a9f67f-683c-b79b-091e-66476824f38d',\n",
       "   'deeplink_web': 'https://watch.amazon.co.uk/watch?gti=amzn1.dv.gti.b2a9f67f-683c-b79b-091e-66476824f38d',\n",
       "   'deeplink_android_tv': 'intent://watch.amazon.co.uk/watch?asin=B00L2OBRT6&time=0&territory=GB#Intent;package=com.amazon.amazonvideo.livingroom;scheme=https;end',\n",
       "   'deeplink_fire_tv': 'intent://com.amazon.tv.launcher/detail?provider=aiv&providerId=B00L2OBRT6#Intent;package=com.amazon.tv.launcher;scheme=amzn;end',\n",
       "   'deeplink_tvos': 'aiv://aiv/watch?gti=amzn1.dv.gti.b2a9f67f-683c-b79b-091e-66476824f38d&territory=GB&time=auto',\n",
       "   'deeplink_tizenos': '{\"id\":\"org.tizen.primevideo\",\"action_data\":\"amzn1.dv.gti.b2a9f67f-683c-b79b-091e-66476824f38d\"}',\n",
       "   'deeplink_webos': '{ \"id\": \"amazon\", \"params\": { \"contentTarget\": \"amzn1.dv.gti.b2a9f67f-683c-b79b-091e-66476824f38d\" }}',\n",
       "   'deeplink_rokuos': 'launch/13?contentID=B00L2OBRT6&MediaType=movie'},\n",
       "  'available_to': '2023-10-01',\n",
       "  'presentation_type': 'sd',\n",
       "  'country': 'GB'},\n",
       " {'jw_entity_id': 'tm35196',\n",
       "  'monetization_type': 'flatrate',\n",
       "  'provider_id': 1790,\n",
       "  'package_short_name': 'lgu',\n",
       "  'currency': 'GBP',\n",
       "  'urls': {'standard_web': 'https://www.lionsgateplus.com/gb/en/movies/49699',\n",
       "   'deeplink_android_tv': 'intent://movies/49699#Intent;scheme=lionsgateplus;end',\n",
       "   'deeplink_fire_tv': 'intent://www.lionsgateplus.com/gb/en/movies/49699#Intent;launchFlags=0x00800000;scheme=https;end',\n",
       "   'deeplink_tvos': 'starz://open/49699'},\n",
       "  'presentation_type': 'hd',\n",
       "  'country': 'GB'},\n",
       " {'jw_entity_id': 'tm35196',\n",
       "  'monetization_type': 'flatrate',\n",
       "  'provider_id': 1790,\n",
       "  'package_short_name': 'lgu',\n",
       "  'currency': 'GBP',\n",
       "  'urls': {'standard_web': 'https://www.lionsgateplus.com/gb/en/movies/49699',\n",
       "   'deeplink_android_tv': 'intent://movies/49699#Intent;scheme=lionsgateplus;end',\n",
       "   'deeplink_fire_tv': 'intent://www.lionsgateplus.com/gb/en/movies/49699#Intent;launchFlags=0x00800000;scheme=https;end',\n",
       "   'deeplink_tvos': 'starz://open/49699'},\n",
       "  'presentation_type': 'sd',\n",
       "  'country': 'GB'}]"
      ]
     },
     "execution_count": 23,
     "metadata": {},
     "output_type": "execute_result"
    }
   ],
   "source": [
    "[x for x in first_result.get('offers', []) if x['monetization_type'] in ['flatrate', 'free', 'ads']]"
   ]
  }
 ],
 "metadata": {
  "kernelspec": {
   "display_name": "letterboxd-env",
   "language": "python",
   "name": "python3"
  },
  "language_info": {
   "codemirror_mode": {
    "name": "ipython",
    "version": 3
   },
   "file_extension": ".py",
   "mimetype": "text/x-python",
   "name": "python",
   "nbconvert_exporter": "python",
   "pygments_lexer": "ipython3",
   "version": "3.10.11"
  },
  "orig_nbformat": 4
 },
 "nbformat": 4,
 "nbformat_minor": 2
}
