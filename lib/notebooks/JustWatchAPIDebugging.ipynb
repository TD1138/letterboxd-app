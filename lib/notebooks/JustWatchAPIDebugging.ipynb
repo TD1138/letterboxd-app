{
 "cells": [
  {
   "cell_type": "code",
   "execution_count": 21,
   "metadata": {},
   "outputs": [],
   "source": [
    "import pandas as pd\n",
    "import json\n",
    "from justwatch import JustWatch\n",
    "import sys\n",
    "sys.path.insert(0, '../data_prep')\n",
    "from sqlite_utils import get_from_table\n",
    "from dotenv import load_dotenv\n"
   ]
  },
  {
   "cell_type": "code",
   "execution_count": 22,
   "metadata": {},
   "outputs": [
    {
     "data": {
      "text/plain": [
       "True"
      ]
     },
     "execution_count": 22,
     "metadata": {},
     "output_type": "execute_result"
    }
   ],
   "source": [
    "load_dotenv()"
   ]
  },
  {
   "cell_type": "code",
   "execution_count": 31,
   "metadata": {},
   "outputs": [],
   "source": [
    "film_id = 'f_029DO'"
   ]
  },
  {
   "cell_type": "code",
   "execution_count": 32,
   "metadata": {},
   "outputs": [
    {
     "data": {
      "text/plain": [
       "{'amp': 'Amazon Prime Video',\n",
       " 'nfx': 'Netflix',\n",
       " 'bbc': 'BBC iPlayer',\n",
       " 'al4': 'All4',\n",
       " 'ntc': 'NowTV',\n",
       " 'dnp': 'Disney+',\n",
       " 'asd': 'Shudder',\n",
       " 'ast': 'Lionsgate+',\n",
       " 'plx': 'Plex',\n",
       " 'ptv': 'PlutoTV',\n",
       " 'myf': 'My5',\n",
       " 'aim': 'Freevee',\n",
       " 'itv': 'ITVX'}"
      ]
     },
     "execution_count": 32,
     "metadata": {},
     "output_type": "execute_result"
    }
   ],
   "source": [
    "with open('../data_prep/my_streaming_services.json', 'r') as schema:\n",
    "    my_streaming_services = json.load(schema)\n",
    "my_streaming_services_abbr = [x for x in set([x['provider_abbreviation'] for x in my_streaming_services]) if len(x) > 0]\n",
    "abbr_to_full_dict = {x['provider_abbreviation']:x['streaming_service'] for x in my_streaming_services if len(x['provider_abbreviation']) > 0}\n",
    "abbr_to_full_dict"
   ]
  },
  {
   "cell_type": "code",
   "execution_count": 33,
   "metadata": {},
   "outputs": [
    {
     "name": "stdout",
     "output_type": "stream",
     "text": [
      "Film ID is \"f_029DO\", film title is \"The Passion of Joan of Arc\", film_url_title is \"The Passion of Joan of Arc\", film release year is \"1928\" and url is https://boxd.it/29DO\n"
     ]
    }
   ],
   "source": [
    "film_title = get_from_table('FILM_TITLE', film_id, 'FILM_TITLE')\n",
    "film_url_title = get_from_table('FILM_TITLE', film_id, 'FILM_URL_TITLE')\n",
    "if film_url_title == '':\n",
    "    film_url_title = get_from_table('FILM_TITLE', film_id, 'FILM_TITLE')\n",
    "film_release_year = get_from_table('FILM_YEAR', film_id, 'FILM_YEAR')\n",
    "letterboxd_url = get_from_table('FILM_TITLE', film_id, 'LETTERBOXD_URL')\n",
    "print('Film ID is \"{}\", film title is \"{}\", film_url_title is \"{}\", film release year is \"{}\" and url is {}'.format(film_id, film_title, film_url_title, film_release_year, letterboxd_url))"
   ]
  },
  {
   "cell_type": "code",
   "execution_count": 34,
   "metadata": {},
   "outputs": [
    {
     "data": {
      "text/plain": [
       "{'page': 1,\n",
       " 'page_size': 1,\n",
       " 'total_pages': 8,\n",
       " 'total_results': 8,\n",
       " 'items': [{'jw_entity_id': 'tm3293',\n",
       "   'id': 3293,\n",
       "   'title': 'The Passion of Joan of Arc',\n",
       "   'full_path': '/uk/movie/the-passion-of-joan-of-arc',\n",
       "   'full_paths': {'MOVIE_DETAIL_OVERVIEW': '/uk/movie/the-passion-of-joan-of-arc'},\n",
       "   'poster': '/poster/35904680/{profile}',\n",
       "   'poster_blur_hash': 'TRIOhGt7_3~qM{WBD%WBD%-;t7xu',\n",
       "   'original_release_year': 1928,\n",
       "   'object_type': 'movie',\n",
       "   'offers': [{'jw_entity_id': 'tm3293',\n",
       "     'monetization_type': 'flatrate',\n",
       "     'provider_id': 224,\n",
       "     'package_short_name': 'bfi',\n",
       "     'currency': 'GBP',\n",
       "     'urls': {'standard_web': 'https://player.bfi.org.uk/subscription/film/watch-the-passion-of-joan-of-arc-1928-online',\n",
       "      'deeplink_tizenos': '{\"id\":\"Rf144dmTlp.dist\",\"action_data\":\"0cb52d1a-698b-5a1d-b826-f16390a89c7e\"}'},\n",
       "     'presentation_type': 'sd',\n",
       "     'country': 'GB'},\n",
       "    {'jw_entity_id': 'tm3293',\n",
       "     'monetization_type': 'flatrate',\n",
       "     'provider_id': 287,\n",
       "     'package_short_name': 'abf',\n",
       "     'currency': 'GBP',\n",
       "     'urls': {'standard_web': 'https://watch.amazon.co.uk/detail?gti=amzn1.dv.gti.14b064e1-ea62-606e-cb50-d1cbf9a4d0e5',\n",
       "      'deeplink_web': 'https://watch.amazon.co.uk/watch?gti=amzn1.dv.gti.14b064e1-ea62-606e-cb50-d1cbf9a4d0e5',\n",
       "      'deeplink_android_tv': 'intent://watch.amazon.co.uk/watch?asin=B078TZ5KRX&time=0&territory=GB#Intent;package=com.amazon.amazonvideo.livingroom;scheme=https;end',\n",
       "      'deeplink_fire_tv': 'intent://com.amazon.tv.launcher/detail?provider=aiv&providerId=B078TZ5KRX#Intent;package=com.amazon.tv.launcher;scheme=amzn;end',\n",
       "      'deeplink_tvos': 'aiv://aiv/watch?gti=amzn1.dv.gti.14b064e1-ea62-606e-cb50-d1cbf9a4d0e5&territory=GB&time=auto',\n",
       "      'deeplink_tizenos': '{\"id\":\"org.tizen.primevideo\",\"action_data\":\"amzn1.dv.gti.14b064e1-ea62-606e-cb50-d1cbf9a4d0e5\"}',\n",
       "      'deeplink_webos': '{ \"id\": \"amazon\", \"params\": { \"contentTarget\": \"amzn1.dv.gti.14b064e1-ea62-606e-cb50-d1cbf9a4d0e5\" }}',\n",
       "      'deeplink_rokuos': 'launch/13?contentID=B078TZ5KRX&MediaType=movie'},\n",
       "     'available_to': '2023-09-29',\n",
       "     'presentation_type': 'hd',\n",
       "     'country': 'GB'},\n",
       "    {'jw_entity_id': 'tm3293',\n",
       "     'monetization_type': 'flatrate',\n",
       "     'provider_id': 287,\n",
       "     'package_short_name': 'abf',\n",
       "     'currency': 'GBP',\n",
       "     'urls': {'standard_web': 'https://watch.amazon.co.uk/detail?gti=amzn1.dv.gti.14b064e1-ea62-606e-cb50-d1cbf9a4d0e5',\n",
       "      'deeplink_web': 'https://watch.amazon.co.uk/watch?gti=amzn1.dv.gti.14b064e1-ea62-606e-cb50-d1cbf9a4d0e5',\n",
       "      'deeplink_android_tv': 'intent://watch.amazon.co.uk/watch?asin=B078TZ5KRX&time=0&territory=GB#Intent;package=com.amazon.amazonvideo.livingroom;scheme=https;end',\n",
       "      'deeplink_fire_tv': 'intent://com.amazon.tv.launcher/detail?provider=aiv&providerId=B078TZ5KRX#Intent;package=com.amazon.tv.launcher;scheme=amzn;end',\n",
       "      'deeplink_tvos': 'aiv://aiv/watch?gti=amzn1.dv.gti.14b064e1-ea62-606e-cb50-d1cbf9a4d0e5&territory=GB&time=auto',\n",
       "      'deeplink_tizenos': '{\"id\":\"org.tizen.primevideo\",\"action_data\":\"amzn1.dv.gti.14b064e1-ea62-606e-cb50-d1cbf9a4d0e5\"}',\n",
       "      'deeplink_webos': '{ \"id\": \"amazon\", \"params\": { \"contentTarget\": \"amzn1.dv.gti.14b064e1-ea62-606e-cb50-d1cbf9a4d0e5\" }}',\n",
       "      'deeplink_rokuos': 'launch/13?contentID=B078TZ5KRX&MediaType=movie'},\n",
       "     'available_to': '2023-09-29',\n",
       "     'presentation_type': 'sd',\n",
       "     'country': 'GB'},\n",
       "    {'jw_entity_id': 'tm3293',\n",
       "     'monetization_type': 'ads',\n",
       "     'provider_id': 613,\n",
       "     'package_short_name': 'aim',\n",
       "     'currency': 'GBP',\n",
       "     'urls': {'standard_web': 'https://watch.amazon.co.uk/detail?gti=amzn1.dv.gti.421b6c1a-1f33-4197-84ac-017c886c1193',\n",
       "      'deeplink_web': 'https://watch.amazon.co.uk/watch?gti=amzn1.dv.gti.421b6c1a-1f33-4197-84ac-017c886c1193',\n",
       "      'deeplink_android_tv': 'intent://watch.amazon.co.uk/watch?asin=B09ZY9137Y&time=0&territory=GB#Intent;package=com.amazon.amazonvideo.livingroom;scheme=https;end',\n",
       "      'deeplink_fire_tv': 'intent://com.amazon.tv.launcher/detail?provider=aiv&providerId=B09ZY9137Y#Intent;package=com.amazon.tv.launcher;scheme=amzn;end',\n",
       "      'deeplink_tvos': 'aiv://aiv/watch?gti=amzn1.dv.gti.421b6c1a-1f33-4197-84ac-017c886c1193&territory=GB&time=auto',\n",
       "      'deeplink_tizenos': '{\"id\":\"org.tizen.primevideo\",\"action_data\":\"amzn1.dv.gti.421b6c1a-1f33-4197-84ac-017c886c1193\"}',\n",
       "      'deeplink_webos': '{ \"id\": \"amazon\", \"params\": { \"contentTarget\": \"amzn1.dv.gti.421b6c1a-1f33-4197-84ac-017c886c1193\" }}',\n",
       "      'deeplink_rokuos': 'launch/13?contentID=B09ZY9137Y&MediaType=movie'},\n",
       "     'presentation_type': 'hd',\n",
       "     'country': 'GB'},\n",
       "    {'jw_entity_id': 'tm3293',\n",
       "     'monetization_type': 'ads',\n",
       "     'provider_id': 613,\n",
       "     'package_short_name': 'aim',\n",
       "     'currency': 'GBP',\n",
       "     'urls': {'standard_web': 'https://watch.amazon.co.uk/detail?gti=amzn1.dv.gti.421b6c1a-1f33-4197-84ac-017c886c1193',\n",
       "      'deeplink_web': 'https://watch.amazon.co.uk/watch?gti=amzn1.dv.gti.421b6c1a-1f33-4197-84ac-017c886c1193',\n",
       "      'deeplink_android_tv': 'intent://watch.amazon.co.uk/watch?asin=B09ZY9137Y&time=0&territory=GB#Intent;package=com.amazon.amazonvideo.livingroom;scheme=https;end',\n",
       "      'deeplink_fire_tv': 'intent://com.amazon.tv.launcher/detail?provider=aiv&providerId=B09ZY9137Y#Intent;package=com.amazon.tv.launcher;scheme=amzn;end',\n",
       "      'deeplink_tvos': 'aiv://aiv/watch?gti=amzn1.dv.gti.421b6c1a-1f33-4197-84ac-017c886c1193&territory=GB&time=auto',\n",
       "      'deeplink_tizenos': '{\"id\":\"org.tizen.primevideo\",\"action_data\":\"amzn1.dv.gti.421b6c1a-1f33-4197-84ac-017c886c1193\"}',\n",
       "      'deeplink_webos': '{ \"id\": \"amazon\", \"params\": { \"contentTarget\": \"amzn1.dv.gti.421b6c1a-1f33-4197-84ac-017c886c1193\" }}',\n",
       "      'deeplink_rokuos': 'launch/13?contentID=B09ZY9137Y&MediaType=movie'},\n",
       "     'presentation_type': 'sd',\n",
       "     'country': 'GB'}],\n",
       "   'scoring': [{'provider_type': 'imdb:popularity', 'value': 3935},\n",
       "    {'provider_type': 'jw:popular_30_day', 'value': 3.48},\n",
       "    {'provider_type': 'imdb:multiplied', 'value': 469187.6},\n",
       "    {'provider_type': 'jw:popular_7_day', 'value': 0.59},\n",
       "    {'provider_type': 'tmdb:popularity', 'value': 9.644},\n",
       "    {'provider_type': 'tmdb:votes', 'value': 778},\n",
       "    {'provider_type': 'imdb:score', 'value': 8.2},\n",
       "    {'provider_type': 'jw:popular_180_day', 'value': 8.79},\n",
       "    {'provider_type': 'tmdb:id', 'value': 780},\n",
       "    {'provider_type': 'jw:popular_1_day', 'value': 0.58},\n",
       "    {'provider_type': 'imdb:votes', 'value': 57218},\n",
       "    {'provider_type': 'jw:trending_7_day', 'value': 0.6},\n",
       "    {'provider_type': 'tmdb:score', 'value': 8.058}]}]}"
      ]
     },
     "execution_count": 34,
     "metadata": {},
     "output_type": "execute_result"
    }
   ],
   "source": [
    "just_watch = JustWatch(country='GB')\n",
    "results = just_watch.search_for_item(query=film_url_title, release_year_from=film_release_year-1, release_year_until=film_release_year+1, page_size=1)\n",
    "results"
   ]
  },
  {
   "cell_type": "code",
   "execution_count": 35,
   "metadata": {},
   "outputs": [
    {
     "data": {
      "text/plain": [
       "{'jw_entity_id': 'tm3293',\n",
       " 'id': 3293,\n",
       " 'title': 'The Passion of Joan of Arc',\n",
       " 'full_path': '/uk/movie/the-passion-of-joan-of-arc',\n",
       " 'full_paths': {'MOVIE_DETAIL_OVERVIEW': '/uk/movie/the-passion-of-joan-of-arc'},\n",
       " 'poster': '/poster/35904680/{profile}',\n",
       " 'poster_blur_hash': 'TRIOhGt7_3~qM{WBD%WBD%-;t7xu',\n",
       " 'original_release_year': 1928,\n",
       " 'object_type': 'movie',\n",
       " 'offers': [{'jw_entity_id': 'tm3293',\n",
       "   'monetization_type': 'flatrate',\n",
       "   'provider_id': 224,\n",
       "   'package_short_name': 'bfi',\n",
       "   'currency': 'GBP',\n",
       "   'urls': {'standard_web': 'https://player.bfi.org.uk/subscription/film/watch-the-passion-of-joan-of-arc-1928-online',\n",
       "    'deeplink_tizenos': '{\"id\":\"Rf144dmTlp.dist\",\"action_data\":\"0cb52d1a-698b-5a1d-b826-f16390a89c7e\"}'},\n",
       "   'presentation_type': 'sd',\n",
       "   'country': 'GB'},\n",
       "  {'jw_entity_id': 'tm3293',\n",
       "   'monetization_type': 'flatrate',\n",
       "   'provider_id': 287,\n",
       "   'package_short_name': 'abf',\n",
       "   'currency': 'GBP',\n",
       "   'urls': {'standard_web': 'https://watch.amazon.co.uk/detail?gti=amzn1.dv.gti.14b064e1-ea62-606e-cb50-d1cbf9a4d0e5',\n",
       "    'deeplink_web': 'https://watch.amazon.co.uk/watch?gti=amzn1.dv.gti.14b064e1-ea62-606e-cb50-d1cbf9a4d0e5',\n",
       "    'deeplink_android_tv': 'intent://watch.amazon.co.uk/watch?asin=B078TZ5KRX&time=0&territory=GB#Intent;package=com.amazon.amazonvideo.livingroom;scheme=https;end',\n",
       "    'deeplink_fire_tv': 'intent://com.amazon.tv.launcher/detail?provider=aiv&providerId=B078TZ5KRX#Intent;package=com.amazon.tv.launcher;scheme=amzn;end',\n",
       "    'deeplink_tvos': 'aiv://aiv/watch?gti=amzn1.dv.gti.14b064e1-ea62-606e-cb50-d1cbf9a4d0e5&territory=GB&time=auto',\n",
       "    'deeplink_tizenos': '{\"id\":\"org.tizen.primevideo\",\"action_data\":\"amzn1.dv.gti.14b064e1-ea62-606e-cb50-d1cbf9a4d0e5\"}',\n",
       "    'deeplink_webos': '{ \"id\": \"amazon\", \"params\": { \"contentTarget\": \"amzn1.dv.gti.14b064e1-ea62-606e-cb50-d1cbf9a4d0e5\" }}',\n",
       "    'deeplink_rokuos': 'launch/13?contentID=B078TZ5KRX&MediaType=movie'},\n",
       "   'available_to': '2023-09-29',\n",
       "   'presentation_type': 'hd',\n",
       "   'country': 'GB'},\n",
       "  {'jw_entity_id': 'tm3293',\n",
       "   'monetization_type': 'flatrate',\n",
       "   'provider_id': 287,\n",
       "   'package_short_name': 'abf',\n",
       "   'currency': 'GBP',\n",
       "   'urls': {'standard_web': 'https://watch.amazon.co.uk/detail?gti=amzn1.dv.gti.14b064e1-ea62-606e-cb50-d1cbf9a4d0e5',\n",
       "    'deeplink_web': 'https://watch.amazon.co.uk/watch?gti=amzn1.dv.gti.14b064e1-ea62-606e-cb50-d1cbf9a4d0e5',\n",
       "    'deeplink_android_tv': 'intent://watch.amazon.co.uk/watch?asin=B078TZ5KRX&time=0&territory=GB#Intent;package=com.amazon.amazonvideo.livingroom;scheme=https;end',\n",
       "    'deeplink_fire_tv': 'intent://com.amazon.tv.launcher/detail?provider=aiv&providerId=B078TZ5KRX#Intent;package=com.amazon.tv.launcher;scheme=amzn;end',\n",
       "    'deeplink_tvos': 'aiv://aiv/watch?gti=amzn1.dv.gti.14b064e1-ea62-606e-cb50-d1cbf9a4d0e5&territory=GB&time=auto',\n",
       "    'deeplink_tizenos': '{\"id\":\"org.tizen.primevideo\",\"action_data\":\"amzn1.dv.gti.14b064e1-ea62-606e-cb50-d1cbf9a4d0e5\"}',\n",
       "    'deeplink_webos': '{ \"id\": \"amazon\", \"params\": { \"contentTarget\": \"amzn1.dv.gti.14b064e1-ea62-606e-cb50-d1cbf9a4d0e5\" }}',\n",
       "    'deeplink_rokuos': 'launch/13?contentID=B078TZ5KRX&MediaType=movie'},\n",
       "   'available_to': '2023-09-29',\n",
       "   'presentation_type': 'sd',\n",
       "   'country': 'GB'},\n",
       "  {'jw_entity_id': 'tm3293',\n",
       "   'monetization_type': 'ads',\n",
       "   'provider_id': 613,\n",
       "   'package_short_name': 'aim',\n",
       "   'currency': 'GBP',\n",
       "   'urls': {'standard_web': 'https://watch.amazon.co.uk/detail?gti=amzn1.dv.gti.421b6c1a-1f33-4197-84ac-017c886c1193',\n",
       "    'deeplink_web': 'https://watch.amazon.co.uk/watch?gti=amzn1.dv.gti.421b6c1a-1f33-4197-84ac-017c886c1193',\n",
       "    'deeplink_android_tv': 'intent://watch.amazon.co.uk/watch?asin=B09ZY9137Y&time=0&territory=GB#Intent;package=com.amazon.amazonvideo.livingroom;scheme=https;end',\n",
       "    'deeplink_fire_tv': 'intent://com.amazon.tv.launcher/detail?provider=aiv&providerId=B09ZY9137Y#Intent;package=com.amazon.tv.launcher;scheme=amzn;end',\n",
       "    'deeplink_tvos': 'aiv://aiv/watch?gti=amzn1.dv.gti.421b6c1a-1f33-4197-84ac-017c886c1193&territory=GB&time=auto',\n",
       "    'deeplink_tizenos': '{\"id\":\"org.tizen.primevideo\",\"action_data\":\"amzn1.dv.gti.421b6c1a-1f33-4197-84ac-017c886c1193\"}',\n",
       "    'deeplink_webos': '{ \"id\": \"amazon\", \"params\": { \"contentTarget\": \"amzn1.dv.gti.421b6c1a-1f33-4197-84ac-017c886c1193\" }}',\n",
       "    'deeplink_rokuos': 'launch/13?contentID=B09ZY9137Y&MediaType=movie'},\n",
       "   'presentation_type': 'hd',\n",
       "   'country': 'GB'},\n",
       "  {'jw_entity_id': 'tm3293',\n",
       "   'monetization_type': 'ads',\n",
       "   'provider_id': 613,\n",
       "   'package_short_name': 'aim',\n",
       "   'currency': 'GBP',\n",
       "   'urls': {'standard_web': 'https://watch.amazon.co.uk/detail?gti=amzn1.dv.gti.421b6c1a-1f33-4197-84ac-017c886c1193',\n",
       "    'deeplink_web': 'https://watch.amazon.co.uk/watch?gti=amzn1.dv.gti.421b6c1a-1f33-4197-84ac-017c886c1193',\n",
       "    'deeplink_android_tv': 'intent://watch.amazon.co.uk/watch?asin=B09ZY9137Y&time=0&territory=GB#Intent;package=com.amazon.amazonvideo.livingroom;scheme=https;end',\n",
       "    'deeplink_fire_tv': 'intent://com.amazon.tv.launcher/detail?provider=aiv&providerId=B09ZY9137Y#Intent;package=com.amazon.tv.launcher;scheme=amzn;end',\n",
       "    'deeplink_tvos': 'aiv://aiv/watch?gti=amzn1.dv.gti.421b6c1a-1f33-4197-84ac-017c886c1193&territory=GB&time=auto',\n",
       "    'deeplink_tizenos': '{\"id\":\"org.tizen.primevideo\",\"action_data\":\"amzn1.dv.gti.421b6c1a-1f33-4197-84ac-017c886c1193\"}',\n",
       "    'deeplink_webos': '{ \"id\": \"amazon\", \"params\": { \"contentTarget\": \"amzn1.dv.gti.421b6c1a-1f33-4197-84ac-017c886c1193\" }}',\n",
       "    'deeplink_rokuos': 'launch/13?contentID=B09ZY9137Y&MediaType=movie'},\n",
       "   'presentation_type': 'sd',\n",
       "   'country': 'GB'}],\n",
       " 'scoring': [{'provider_type': 'imdb:popularity', 'value': 3935},\n",
       "  {'provider_type': 'jw:popular_30_day', 'value': 3.48},\n",
       "  {'provider_type': 'imdb:multiplied', 'value': 469187.6},\n",
       "  {'provider_type': 'jw:popular_7_day', 'value': 0.59},\n",
       "  {'provider_type': 'tmdb:popularity', 'value': 9.644},\n",
       "  {'provider_type': 'tmdb:votes', 'value': 778},\n",
       "  {'provider_type': 'imdb:score', 'value': 8.2},\n",
       "  {'provider_type': 'jw:popular_180_day', 'value': 8.79},\n",
       "  {'provider_type': 'tmdb:id', 'value': 780},\n",
       "  {'provider_type': 'jw:popular_1_day', 'value': 0.58},\n",
       "  {'provider_type': 'imdb:votes', 'value': 57218},\n",
       "  {'provider_type': 'jw:trending_7_day', 'value': 0.6},\n",
       "  {'provider_type': 'tmdb:score', 'value': 8.058}]}"
      ]
     },
     "execution_count": 35,
     "metadata": {},
     "output_type": "execute_result"
    }
   ],
   "source": [
    "first_result = results['items'][0]\n",
    "first_result"
   ]
  },
  {
   "cell_type": "code",
   "execution_count": 36,
   "metadata": {},
   "outputs": [
    {
     "data": {
      "text/plain": [
       "[{'jw_entity_id': 'tm3293',\n",
       "  'monetization_type': 'flatrate',\n",
       "  'provider_id': 224,\n",
       "  'package_short_name': 'bfi',\n",
       "  'currency': 'GBP',\n",
       "  'urls': {'standard_web': 'https://player.bfi.org.uk/subscription/film/watch-the-passion-of-joan-of-arc-1928-online',\n",
       "   'deeplink_tizenos': '{\"id\":\"Rf144dmTlp.dist\",\"action_data\":\"0cb52d1a-698b-5a1d-b826-f16390a89c7e\"}'},\n",
       "  'presentation_type': 'sd',\n",
       "  'country': 'GB'},\n",
       " {'jw_entity_id': 'tm3293',\n",
       "  'monetization_type': 'flatrate',\n",
       "  'provider_id': 287,\n",
       "  'package_short_name': 'abf',\n",
       "  'currency': 'GBP',\n",
       "  'urls': {'standard_web': 'https://watch.amazon.co.uk/detail?gti=amzn1.dv.gti.14b064e1-ea62-606e-cb50-d1cbf9a4d0e5',\n",
       "   'deeplink_web': 'https://watch.amazon.co.uk/watch?gti=amzn1.dv.gti.14b064e1-ea62-606e-cb50-d1cbf9a4d0e5',\n",
       "   'deeplink_android_tv': 'intent://watch.amazon.co.uk/watch?asin=B078TZ5KRX&time=0&territory=GB#Intent;package=com.amazon.amazonvideo.livingroom;scheme=https;end',\n",
       "   'deeplink_fire_tv': 'intent://com.amazon.tv.launcher/detail?provider=aiv&providerId=B078TZ5KRX#Intent;package=com.amazon.tv.launcher;scheme=amzn;end',\n",
       "   'deeplink_tvos': 'aiv://aiv/watch?gti=amzn1.dv.gti.14b064e1-ea62-606e-cb50-d1cbf9a4d0e5&territory=GB&time=auto',\n",
       "   'deeplink_tizenos': '{\"id\":\"org.tizen.primevideo\",\"action_data\":\"amzn1.dv.gti.14b064e1-ea62-606e-cb50-d1cbf9a4d0e5\"}',\n",
       "   'deeplink_webos': '{ \"id\": \"amazon\", \"params\": { \"contentTarget\": \"amzn1.dv.gti.14b064e1-ea62-606e-cb50-d1cbf9a4d0e5\" }}',\n",
       "   'deeplink_rokuos': 'launch/13?contentID=B078TZ5KRX&MediaType=movie'},\n",
       "  'available_to': '2023-09-29',\n",
       "  'presentation_type': 'hd',\n",
       "  'country': 'GB'},\n",
       " {'jw_entity_id': 'tm3293',\n",
       "  'monetization_type': 'flatrate',\n",
       "  'provider_id': 287,\n",
       "  'package_short_name': 'abf',\n",
       "  'currency': 'GBP',\n",
       "  'urls': {'standard_web': 'https://watch.amazon.co.uk/detail?gti=amzn1.dv.gti.14b064e1-ea62-606e-cb50-d1cbf9a4d0e5',\n",
       "   'deeplink_web': 'https://watch.amazon.co.uk/watch?gti=amzn1.dv.gti.14b064e1-ea62-606e-cb50-d1cbf9a4d0e5',\n",
       "   'deeplink_android_tv': 'intent://watch.amazon.co.uk/watch?asin=B078TZ5KRX&time=0&territory=GB#Intent;package=com.amazon.amazonvideo.livingroom;scheme=https;end',\n",
       "   'deeplink_fire_tv': 'intent://com.amazon.tv.launcher/detail?provider=aiv&providerId=B078TZ5KRX#Intent;package=com.amazon.tv.launcher;scheme=amzn;end',\n",
       "   'deeplink_tvos': 'aiv://aiv/watch?gti=amzn1.dv.gti.14b064e1-ea62-606e-cb50-d1cbf9a4d0e5&territory=GB&time=auto',\n",
       "   'deeplink_tizenos': '{\"id\":\"org.tizen.primevideo\",\"action_data\":\"amzn1.dv.gti.14b064e1-ea62-606e-cb50-d1cbf9a4d0e5\"}',\n",
       "   'deeplink_webos': '{ \"id\": \"amazon\", \"params\": { \"contentTarget\": \"amzn1.dv.gti.14b064e1-ea62-606e-cb50-d1cbf9a4d0e5\" }}',\n",
       "   'deeplink_rokuos': 'launch/13?contentID=B078TZ5KRX&MediaType=movie'},\n",
       "  'available_to': '2023-09-29',\n",
       "  'presentation_type': 'sd',\n",
       "  'country': 'GB'},\n",
       " {'jw_entity_id': 'tm3293',\n",
       "  'monetization_type': 'ads',\n",
       "  'provider_id': 613,\n",
       "  'package_short_name': 'aim',\n",
       "  'currency': 'GBP',\n",
       "  'urls': {'standard_web': 'https://watch.amazon.co.uk/detail?gti=amzn1.dv.gti.421b6c1a-1f33-4197-84ac-017c886c1193',\n",
       "   'deeplink_web': 'https://watch.amazon.co.uk/watch?gti=amzn1.dv.gti.421b6c1a-1f33-4197-84ac-017c886c1193',\n",
       "   'deeplink_android_tv': 'intent://watch.amazon.co.uk/watch?asin=B09ZY9137Y&time=0&territory=GB#Intent;package=com.amazon.amazonvideo.livingroom;scheme=https;end',\n",
       "   'deeplink_fire_tv': 'intent://com.amazon.tv.launcher/detail?provider=aiv&providerId=B09ZY9137Y#Intent;package=com.amazon.tv.launcher;scheme=amzn;end',\n",
       "   'deeplink_tvos': 'aiv://aiv/watch?gti=amzn1.dv.gti.421b6c1a-1f33-4197-84ac-017c886c1193&territory=GB&time=auto',\n",
       "   'deeplink_tizenos': '{\"id\":\"org.tizen.primevideo\",\"action_data\":\"amzn1.dv.gti.421b6c1a-1f33-4197-84ac-017c886c1193\"}',\n",
       "   'deeplink_webos': '{ \"id\": \"amazon\", \"params\": { \"contentTarget\": \"amzn1.dv.gti.421b6c1a-1f33-4197-84ac-017c886c1193\" }}',\n",
       "   'deeplink_rokuos': 'launch/13?contentID=B09ZY9137Y&MediaType=movie'},\n",
       "  'presentation_type': 'hd',\n",
       "  'country': 'GB'},\n",
       " {'jw_entity_id': 'tm3293',\n",
       "  'monetization_type': 'ads',\n",
       "  'provider_id': 613,\n",
       "  'package_short_name': 'aim',\n",
       "  'currency': 'GBP',\n",
       "  'urls': {'standard_web': 'https://watch.amazon.co.uk/detail?gti=amzn1.dv.gti.421b6c1a-1f33-4197-84ac-017c886c1193',\n",
       "   'deeplink_web': 'https://watch.amazon.co.uk/watch?gti=amzn1.dv.gti.421b6c1a-1f33-4197-84ac-017c886c1193',\n",
       "   'deeplink_android_tv': 'intent://watch.amazon.co.uk/watch?asin=B09ZY9137Y&time=0&territory=GB#Intent;package=com.amazon.amazonvideo.livingroom;scheme=https;end',\n",
       "   'deeplink_fire_tv': 'intent://com.amazon.tv.launcher/detail?provider=aiv&providerId=B09ZY9137Y#Intent;package=com.amazon.tv.launcher;scheme=amzn;end',\n",
       "   'deeplink_tvos': 'aiv://aiv/watch?gti=amzn1.dv.gti.421b6c1a-1f33-4197-84ac-017c886c1193&territory=GB&time=auto',\n",
       "   'deeplink_tizenos': '{\"id\":\"org.tizen.primevideo\",\"action_data\":\"amzn1.dv.gti.421b6c1a-1f33-4197-84ac-017c886c1193\"}',\n",
       "   'deeplink_webos': '{ \"id\": \"amazon\", \"params\": { \"contentTarget\": \"amzn1.dv.gti.421b6c1a-1f33-4197-84ac-017c886c1193\" }}',\n",
       "   'deeplink_rokuos': 'launch/13?contentID=B09ZY9137Y&MediaType=movie'},\n",
       "  'presentation_type': 'sd',\n",
       "  'country': 'GB'}]"
      ]
     },
     "execution_count": 36,
     "metadata": {},
     "output_type": "execute_result"
    }
   ],
   "source": [
    "first_result.get('offers', [])"
   ]
  },
  {
   "cell_type": "code",
   "execution_count": 37,
   "metadata": {},
   "outputs": [
    {
     "ename": "ValueError",
     "evalue": "min() arg is an empty sequence",
     "output_type": "error",
     "traceback": [
      "\u001b[1;31m---------------------------------------------------------------------------\u001b[0m",
      "\u001b[1;31mValueError\u001b[0m                                Traceback (most recent call last)",
      "Cell \u001b[1;32mIn[37], line 8\u001b[0m\n\u001b[0;32m      6\u001b[0m film_streaming_services_df[\u001b[39m'\u001b[39m\u001b[39mSTREAMING_SERVICE_ABBR\u001b[39m\u001b[39m'\u001b[39m] \u001b[39m=\u001b[39m valid_abbr\n\u001b[0;32m      7\u001b[0m film_streaming_services_df[\u001b[39m'\u001b[39m\u001b[39mSTREAMING_SERVICE_FULL\u001b[39m\u001b[39m'\u001b[39m] \u001b[39m=\u001b[39m valid_full\n\u001b[1;32m----> 8\u001b[0m min_rental_price \u001b[39m=\u001b[39m \u001b[39mmin\u001b[39m([x[\u001b[39m'\u001b[39m\u001b[39mretail_price\u001b[39m\u001b[39m'\u001b[39m] \u001b[39mfor\u001b[39;00m x \u001b[39min\u001b[39;00m first_result[\u001b[39m'\u001b[39m\u001b[39moffers\u001b[39m\u001b[39m'\u001b[39m] \u001b[39mif\u001b[39;00m x[\u001b[39m'\u001b[39m\u001b[39mmonetization_type\u001b[39m\u001b[39m'\u001b[39m] \u001b[39m==\u001b[39m \u001b[39m'\u001b[39m\u001b[39mrent\u001b[39m\u001b[39m'\u001b[39m \u001b[39mand\u001b[39;00m x[\u001b[39m'\u001b[39m\u001b[39mpresentation_type\u001b[39m\u001b[39m'\u001b[39m] \u001b[39m==\u001b[39m \u001b[39m'\u001b[39m\u001b[39mhd\u001b[39m\u001b[39m'\u001b[39m])\n\u001b[0;32m      9\u001b[0m min_rental_price\n",
      "\u001b[1;31mValueError\u001b[0m: min() arg is an empty sequence"
     ]
    }
   ],
   "source": [
    "provider_abbreviations = list(set([x['package_short_name'] for x in first_result.get('offers', []) if x['monetization_type'] in ['flatrate', 'free', 'ads']]))\n",
    "valid_abbr = [x for x in provider_abbreviations if x in my_streaming_services_abbr]\n",
    "valid_full = [abbr_to_full_dict.get(x) for x in valid_abbr]\n",
    "film_streaming_services_df = pd.DataFrame(index=range(len(valid_abbr)))\n",
    "film_streaming_services_df['FILM_ID'] = film_id\n",
    "film_streaming_services_df['STREAMING_SERVICE_ABBR'] = valid_abbr\n",
    "film_streaming_services_df['STREAMING_SERVICE_FULL'] = valid_full\n",
    "min_rental_price = min([x['retail_price'] for x in first_result['offers'] if x['monetization_type'] == 'rent' and x['presentation_type'] == 'hd'])\n",
    "min_rental_price"
   ]
  },
  {
   "cell_type": "code",
   "execution_count": 20,
   "metadata": {},
   "outputs": [
    {
     "ename": "ValueError",
     "evalue": "min() arg is an empty sequence",
     "output_type": "error",
     "traceback": [
      "\u001b[1;31m---------------------------------------------------------------------------\u001b[0m",
      "\u001b[1;31mValueError\u001b[0m                                Traceback (most recent call last)",
      "Cell \u001b[1;32mIn[20], line 1\u001b[0m\n\u001b[1;32m----> 1\u001b[0m \u001b[39mmin\u001b[39m([x[\u001b[39m'\u001b[39m\u001b[39mretail_price\u001b[39m\u001b[39m'\u001b[39m] \u001b[39mfor\u001b[39;00m x \u001b[39min\u001b[39;00m first_result[\u001b[39m'\u001b[39m\u001b[39moffers\u001b[39m\u001b[39m'\u001b[39m] \u001b[39mif\u001b[39;00m x[\u001b[39m'\u001b[39m\u001b[39mmonetization_type\u001b[39m\u001b[39m'\u001b[39m] \u001b[39m==\u001b[39m \u001b[39m'\u001b[39m\u001b[39mrent\u001b[39m\u001b[39m'\u001b[39m \u001b[39mand\u001b[39;00m x[\u001b[39m'\u001b[39m\u001b[39mpresentation_type\u001b[39m\u001b[39m'\u001b[39m] \u001b[39m==\u001b[39m \u001b[39m'\u001b[39m\u001b[39mhd\u001b[39m\u001b[39m'\u001b[39m])\n",
      "\u001b[1;31mValueError\u001b[0m: min() arg is an empty sequence"
     ]
    }
   ],
   "source": [
    "min([x['retail_price'] for x in first_result['offers'] if x['monetization_type'] == 'rent' and x['presentation_type'] == 'hd'])"
   ]
  },
  {
   "cell_type": "code",
   "execution_count": 17,
   "metadata": {},
   "outputs": [],
   "source": [
    "\n",
    "# delete_records('FILM_STREAMING_SERVICES', film_id)\n",
    "if len(results['items']) > 0:\n",
    "    first_result = results['items'][0]\n",
    "    if first_result.get('title') == get_from_table('FILM_TITLE', film_id, 'FILM_TITLE'):\n",
    "        provider_abbreviations = list(set([x['package_short_name'] for x in first_result.get('offers', []) if x['monetization_type'] in ['flatrate', 'free', 'ads']]))\n",
    "        valid_abbr = [x for x in provider_abbreviations if x in my_streaming_services_abbr]\n",
    "        if len(valid_abbr) > 0:\n",
    "            valid_full = [abbr_to_full_dict.get(x) for x in valid_abbr]\n",
    "            film_streaming_services_df = pd.DataFrame(index=range(len(valid_abbr)))\n",
    "            film_streaming_services_df['FILM_ID'] = film_id\n",
    "            film_streaming_services_df['STREAMING_SERVICE_ABBR'] = valid_abbr\n",
    "            film_streaming_services_df['STREAMING_SERVICE_FULL'] = valid_full\n",
    "            # film_streaming_services_df['CREATED_AT'] = datetime.now()\n",
    "            # df_to_table(film_streaming_services_df, 'FILM_STREAMING_SERVICES', replace_append='append', verbose=False)"
   ]
  },
  {
   "cell_type": "code",
   "execution_count": 39,
   "metadata": {},
   "outputs": [],
   "source": [
    "min_rental_price = min([x['retail_price'] for x in first_result['offers'] if x['monetization_type'] == 'rent' and x['presentation_type'] == 'hd'])"
   ]
  },
  {
   "cell_type": "code",
   "execution_count": 23,
   "metadata": {},
   "outputs": [
    {
     "data": {
      "text/plain": [
       "[{'jw_entity_id': 'tm35196',\n",
       "  'monetization_type': 'flatrate',\n",
       "  'provider_id': 194,\n",
       "  'package_short_name': 'ast',\n",
       "  'currency': 'GBP',\n",
       "  'urls': {'standard_web': 'https://watch.amazon.co.uk/detail?gti=amzn1.dv.gti.b2a9f67f-683c-b79b-091e-66476824f38d',\n",
       "   'deeplink_web': 'https://watch.amazon.co.uk/watch?gti=amzn1.dv.gti.b2a9f67f-683c-b79b-091e-66476824f38d',\n",
       "   'deeplink_android_tv': 'intent://watch.amazon.co.uk/watch?asin=B00L2OBRT6&time=0&territory=GB#Intent;package=com.amazon.amazonvideo.livingroom;scheme=https;end',\n",
       "   'deeplink_fire_tv': 'intent://com.amazon.tv.launcher/detail?provider=aiv&providerId=B00L2OBRT6#Intent;package=com.amazon.tv.launcher;scheme=amzn;end',\n",
       "   'deeplink_tvos': 'aiv://aiv/watch?gti=amzn1.dv.gti.b2a9f67f-683c-b79b-091e-66476824f38d&territory=GB&time=auto',\n",
       "   'deeplink_tizenos': '{\"id\":\"org.tizen.primevideo\",\"action_data\":\"amzn1.dv.gti.b2a9f67f-683c-b79b-091e-66476824f38d\"}',\n",
       "   'deeplink_webos': '{ \"id\": \"amazon\", \"params\": { \"contentTarget\": \"amzn1.dv.gti.b2a9f67f-683c-b79b-091e-66476824f38d\" }}',\n",
       "   'deeplink_rokuos': 'launch/13?contentID=B00L2OBRT6&MediaType=movie'},\n",
       "  'available_to': '2023-10-01',\n",
       "  'presentation_type': 'hd',\n",
       "  'country': 'GB'},\n",
       " {'jw_entity_id': 'tm35196',\n",
       "  'monetization_type': 'flatrate',\n",
       "  'provider_id': 194,\n",
       "  'package_short_name': 'ast',\n",
       "  'currency': 'GBP',\n",
       "  'urls': {'standard_web': 'https://watch.amazon.co.uk/detail?gti=amzn1.dv.gti.b2a9f67f-683c-b79b-091e-66476824f38d',\n",
       "   'deeplink_web': 'https://watch.amazon.co.uk/watch?gti=amzn1.dv.gti.b2a9f67f-683c-b79b-091e-66476824f38d',\n",
       "   'deeplink_android_tv': 'intent://watch.amazon.co.uk/watch?asin=B00L2OBRT6&time=0&territory=GB#Intent;package=com.amazon.amazonvideo.livingroom;scheme=https;end',\n",
       "   'deeplink_fire_tv': 'intent://com.amazon.tv.launcher/detail?provider=aiv&providerId=B00L2OBRT6#Intent;package=com.amazon.tv.launcher;scheme=amzn;end',\n",
       "   'deeplink_tvos': 'aiv://aiv/watch?gti=amzn1.dv.gti.b2a9f67f-683c-b79b-091e-66476824f38d&territory=GB&time=auto',\n",
       "   'deeplink_tizenos': '{\"id\":\"org.tizen.primevideo\",\"action_data\":\"amzn1.dv.gti.b2a9f67f-683c-b79b-091e-66476824f38d\"}',\n",
       "   'deeplink_webos': '{ \"id\": \"amazon\", \"params\": { \"contentTarget\": \"amzn1.dv.gti.b2a9f67f-683c-b79b-091e-66476824f38d\" }}',\n",
       "   'deeplink_rokuos': 'launch/13?contentID=B00L2OBRT6&MediaType=movie'},\n",
       "  'available_to': '2023-10-01',\n",
       "  'presentation_type': 'sd',\n",
       "  'country': 'GB'},\n",
       " {'jw_entity_id': 'tm35196',\n",
       "  'monetization_type': 'flatrate',\n",
       "  'provider_id': 1790,\n",
       "  'package_short_name': 'lgu',\n",
       "  'currency': 'GBP',\n",
       "  'urls': {'standard_web': 'https://www.lionsgateplus.com/gb/en/movies/49699',\n",
       "   'deeplink_android_tv': 'intent://movies/49699#Intent;scheme=lionsgateplus;end',\n",
       "   'deeplink_fire_tv': 'intent://www.lionsgateplus.com/gb/en/movies/49699#Intent;launchFlags=0x00800000;scheme=https;end',\n",
       "   'deeplink_tvos': 'starz://open/49699'},\n",
       "  'presentation_type': 'hd',\n",
       "  'country': 'GB'},\n",
       " {'jw_entity_id': 'tm35196',\n",
       "  'monetization_type': 'flatrate',\n",
       "  'provider_id': 1790,\n",
       "  'package_short_name': 'lgu',\n",
       "  'currency': 'GBP',\n",
       "  'urls': {'standard_web': 'https://www.lionsgateplus.com/gb/en/movies/49699',\n",
       "   'deeplink_android_tv': 'intent://movies/49699#Intent;scheme=lionsgateplus;end',\n",
       "   'deeplink_fire_tv': 'intent://www.lionsgateplus.com/gb/en/movies/49699#Intent;launchFlags=0x00800000;scheme=https;end',\n",
       "   'deeplink_tvos': 'starz://open/49699'},\n",
       "  'presentation_type': 'sd',\n",
       "  'country': 'GB'}]"
      ]
     },
     "execution_count": 23,
     "metadata": {},
     "output_type": "execute_result"
    }
   ],
   "source": [
    "[x for x in first_result.get('offers', []) if x['monetization_type'] in ['flatrate', 'free', 'ads']]"
   ]
  }
 ],
 "metadata": {
  "kernelspec": {
   "display_name": "letterboxd-env",
   "language": "python",
   "name": "python3"
  },
  "language_info": {
   "codemirror_mode": {
    "name": "ipython",
    "version": 3
   },
   "file_extension": ".py",
   "mimetype": "text/x-python",
   "name": "python",
   "nbconvert_exporter": "python",
   "pygments_lexer": "ipython3",
   "version": "3.11.2"
  },
  "orig_nbformat": 4
 },
 "nbformat": 4,
 "nbformat_minor": 2
}
