{
 "cells": [
  {
   "cell_type": "code",
   "execution_count": 1,
   "metadata": {},
   "outputs": [],
   "source": [
    "import pandas as pd\n",
    "import json\n",
    "from justwatch import JustWatch\n",
    "import sys\n",
    "sys.path.insert(0, '../data_prep')\n",
    "from sqlite_utils import get_from_table\n",
    "from dotenv import load_dotenv\n"
   ]
  },
  {
   "cell_type": "code",
   "execution_count": 2,
   "metadata": {},
   "outputs": [
    {
     "data": {
      "text/plain": [
       "True"
      ]
     },
     "execution_count": 2,
     "metadata": {},
     "output_type": "execute_result"
    }
   ],
   "source": [
    "load_dotenv()"
   ]
  },
  {
   "cell_type": "code",
   "execution_count": 3,
   "metadata": {},
   "outputs": [],
   "source": [
    "film_id = 'f_02s8K'"
   ]
  },
  {
   "cell_type": "code",
   "execution_count": 4,
   "metadata": {},
   "outputs": [
    {
     "data": {
      "text/plain": [
       "{'amp': 'Amazon Prime Video',\n",
       " 'nfx': 'Netflix',\n",
       " 'bbc': 'BBC iPlayer',\n",
       " 'al4': 'All4',\n",
       " 'ntc': 'NowTV',\n",
       " 'dnp': 'Disney+',\n",
       " 'asd': 'Shudder',\n",
       " 'ast': 'Lionsgate+',\n",
       " 'plx': 'Plex',\n",
       " 'ptv': 'PlutoTV',\n",
       " 'myf': 'My5',\n",
       " 'aim': 'Freevee',\n",
       " 'itv': 'ITVX'}"
      ]
     },
     "execution_count": 4,
     "metadata": {},
     "output_type": "execute_result"
    }
   ],
   "source": [
    "with open('../data_prep/my_streaming_services.json', 'r') as schema:\n",
    "    my_streaming_services = json.load(schema)\n",
    "my_streaming_services_abbr = [x for x in set([x['provider_abbreviation'] for x in my_streaming_services]) if len(x) > 0]\n",
    "abbr_to_full_dict = {x['provider_abbreviation']:x['streaming_service'] for x in my_streaming_services if len(x['provider_abbreviation']) > 0}\n",
    "abbr_to_full_dict"
   ]
  },
  {
   "cell_type": "code",
   "execution_count": 5,
   "metadata": {},
   "outputs": [
    {
     "name": "stdout",
     "output_type": "stream",
     "text": [
      "Film ID is \"f_02s8K\", film title is \"Silent Night, Deadly Night 5: The Toy Maker\", film_url_title is \"Silent Night, Deadly Night 5: The Toy Maker\", film release year is \"1991\" and url is https://boxd.it/2s8K\n"
     ]
    }
   ],
   "source": [
    "film_title = get_from_table('FILM_TITLE', film_id, 'FILM_TITLE')\n",
    "film_url_title = get_from_table('FILM_TITLE', film_id, 'FILM_URL_TITLE')\n",
    "if film_url_title == '':\n",
    "    film_url_title = get_from_table('FILM_TITLE', film_id, 'FILM_TITLE')\n",
    "film_release_year = get_from_table('FILM_YEAR', film_id, 'FILM_YEAR')\n",
    "letterboxd_url = get_from_table('FILM_TITLE', film_id, 'LETTERBOXD_URL')\n",
    "print('Film ID is \"{}\", film title is \"{}\", film_url_title is \"{}\", film release year is \"{}\" and url is {}'.format(film_id, film_title, film_url_title, film_release_year, letterboxd_url))"
   ]
  },
  {
   "cell_type": "code",
   "execution_count": 6,
   "metadata": {},
   "outputs": [
    {
     "data": {
      "text/plain": [
       "{'page': 1,\n",
       " 'page_size': 1,\n",
       " 'total_pages': 1,\n",
       " 'total_results': 1,\n",
       " 'items': [{'jw_entity_id': 'tm9214',\n",
       "   'id': 9214,\n",
       "   'title': 'Silent Night, Deadly Night 5: The Toy Maker',\n",
       "   'full_path': '/uk/movie/silent-night-deadly-night-5-the-toy-maker',\n",
       "   'full_paths': {'MOVIE_DETAIL_OVERVIEW': '/uk/movie/silent-night-deadly-night-5-the-toy-maker'},\n",
       "   'poster': '/poster/138233299/{profile}',\n",
       "   'poster_blur_hash': 'TCC}%?,-n2r;xbEg149^0}x^R%w[',\n",
       "   'original_release_year': 1991,\n",
       "   'object_type': 'movie',\n",
       "   'offers': [{'jw_entity_id': 'tm9214',\n",
       "     'monetization_type': 'free',\n",
       "     'provider_id': 538,\n",
       "     'package_short_name': 'plx',\n",
       "     'currency': 'GBP',\n",
       "     'urls': {'standard_web': 'https://watch.plex.tv/movie/silent-night-deadly-night-5-the-toy-maker?autoplay=1&utm_content=60bfff37c63765002dbaea87&utm_medium=deeplink&utm_source=justWatch-catalog',\n",
       "      'deeplink_android_tv': 'intent://watch.plex.tv/movie/silent-night-deadly-night-5-the-toy-maker?autoplay=1&utm_content=60bfff37c63765002dbaea87&utm_medium=deeplink&utm_source=justWatch-catalog#Intent;launchFlags=0x00800000;scheme=https;end',\n",
       "      'deeplink_fire_tv': 'intent://watch.plex.tv/movie/silent-night-deadly-night-5-the-toy-maker?autoplay=1&utm_content=60bfff37c63765002dbaea87&utm_medium=deeplink&utm_source=justWatch-catalog#Intent;launchFlags=0x00800000;scheme=https;end',\n",
       "      'deeplink_tvos': 'https://watch.plex.tv/movie/silent-night-deadly-night-5-the-toy-maker?autoplay=1&utm_content=60bfff37c63765002dbaea87&utm_medium=deeplink&utm_source=justWatch-catalog',\n",
       "      'deeplink_tizenos': '{\"id\":\"kIciSQlYEM.plex\",\"action_data\":\"{\\\\\"assetId\\\\\":\\\\\"https://watch.plex.tv/movie/silent-night-deadly-night-5-the-toy-maker?autoplay=1&utm_content=60bfff37c63765002dbaea87&utm_medium=deeplink&utm_source=justWatch-catalog\\\\\"}\"}',\n",
       "      'deeplink_rokuos': 'launch/13535?contentID=https%3A%2F%2Fwatch.plex.tv%2Fmovie%2Fsilent-night-deadly-night-5-the-toy-maker%3Fautoplay%3D1%26utm_content%3D60bfff37c63765002dbaea87%26utm_medium%3Ddeeplink%26utm_source%3DjustWatch-catalog&MediaType=movie'},\n",
       "     'available_to': '2024-01-01',\n",
       "     'presentation_type': 'hd',\n",
       "     'country': 'GB'},\n",
       "    {'jw_entity_id': 'tm9214',\n",
       "     'monetization_type': 'free',\n",
       "     'provider_id': 538,\n",
       "     'package_short_name': 'plx',\n",
       "     'currency': 'GBP',\n",
       "     'urls': {'standard_web': 'https://watch.plex.tv/movie/silent-night-deadly-night-5-the-toy-maker?autoplay=1&utm_content=60bfff37c63765002dbaea87&utm_medium=deeplink&utm_source=justWatch-catalog',\n",
       "      'deeplink_android_tv': 'intent://watch.plex.tv/movie/silent-night-deadly-night-5-the-toy-maker?autoplay=1&utm_content=60bfff37c63765002dbaea87&utm_medium=deeplink&utm_source=justWatch-catalog#Intent;launchFlags=0x00800000;scheme=https;end',\n",
       "      'deeplink_fire_tv': 'intent://watch.plex.tv/movie/silent-night-deadly-night-5-the-toy-maker?autoplay=1&utm_content=60bfff37c63765002dbaea87&utm_medium=deeplink&utm_source=justWatch-catalog#Intent;launchFlags=0x00800000;scheme=https;end',\n",
       "      'deeplink_tvos': 'https://watch.plex.tv/movie/silent-night-deadly-night-5-the-toy-maker?autoplay=1&utm_content=60bfff37c63765002dbaea87&utm_medium=deeplink&utm_source=justWatch-catalog',\n",
       "      'deeplink_tizenos': '{\"id\":\"kIciSQlYEM.plex\",\"action_data\":\"{\\\\\"assetId\\\\\":\\\\\"https://watch.plex.tv/movie/silent-night-deadly-night-5-the-toy-maker?autoplay=1&utm_content=60bfff37c63765002dbaea87&utm_medium=deeplink&utm_source=justWatch-catalog\\\\\"}\"}',\n",
       "      'deeplink_rokuos': 'launch/13535?contentID=https%3A%2F%2Fwatch.plex.tv%2Fmovie%2Fsilent-night-deadly-night-5-the-toy-maker%3Fautoplay%3D1%26utm_content%3D60bfff37c63765002dbaea87%26utm_medium%3Ddeeplink%26utm_source%3DjustWatch-catalog&MediaType=movie'},\n",
       "     'available_to': '2024-01-01',\n",
       "     'presentation_type': 'sd',\n",
       "     'country': 'GB'}],\n",
       "   'scoring': [{'provider_type': 'tmdb:popularity', 'value': 6.741},\n",
       "    {'provider_type': 'tmdb:id', 'value': 70984},\n",
       "    {'provider_type': 'tmdb:score', 'value': 4.988},\n",
       "    {'provider_type': 'tmdb:votes', 'value': 42}]}]}"
      ]
     },
     "execution_count": 6,
     "metadata": {},
     "output_type": "execute_result"
    }
   ],
   "source": [
    "just_watch = JustWatch(country='GB')\n",
    "results = just_watch.search_for_item(query=film_url_title, release_year_from=film_release_year-1, release_year_until=film_release_year+1, page_size=1)\n",
    "results"
   ]
  },
  {
   "cell_type": "code",
   "execution_count": 9,
   "metadata": {},
   "outputs": [
    {
     "name": "stdout",
     "output_type": "stream",
     "text": [
      "y\n"
     ]
    }
   ],
   "source": [
    "first_result = results['items'][0]"
   ]
  },
  {
   "cell_type": "code",
   "execution_count": 18,
   "metadata": {},
   "outputs": [
    {
     "ename": "ValueError",
     "evalue": "min() arg is an empty sequence",
     "output_type": "error",
     "traceback": [
      "\u001b[1;31m---------------------------------------------------------------------------\u001b[0m",
      "\u001b[1;31mValueError\u001b[0m                                Traceback (most recent call last)",
      "Cell \u001b[1;32mIn[18], line 8\u001b[0m\n\u001b[0;32m      6\u001b[0m film_streaming_services_df[\u001b[39m'\u001b[39m\u001b[39mSTREAMING_SERVICE_ABBR\u001b[39m\u001b[39m'\u001b[39m] \u001b[39m=\u001b[39m valid_abbr\n\u001b[0;32m      7\u001b[0m film_streaming_services_df[\u001b[39m'\u001b[39m\u001b[39mSTREAMING_SERVICE_FULL\u001b[39m\u001b[39m'\u001b[39m] \u001b[39m=\u001b[39m valid_full\n\u001b[1;32m----> 8\u001b[0m min_rental_price \u001b[39m=\u001b[39m \u001b[39mmin\u001b[39m([x[\u001b[39m'\u001b[39m\u001b[39mretail_price\u001b[39m\u001b[39m'\u001b[39m] \u001b[39mfor\u001b[39;00m x \u001b[39min\u001b[39;00m first_result[\u001b[39m'\u001b[39m\u001b[39moffers\u001b[39m\u001b[39m'\u001b[39m] \u001b[39mif\u001b[39;00m x[\u001b[39m'\u001b[39m\u001b[39mmonetization_type\u001b[39m\u001b[39m'\u001b[39m] \u001b[39m==\u001b[39m \u001b[39m'\u001b[39m\u001b[39mrent\u001b[39m\u001b[39m'\u001b[39m \u001b[39mand\u001b[39;00m x[\u001b[39m'\u001b[39m\u001b[39mpresentation_type\u001b[39m\u001b[39m'\u001b[39m] \u001b[39m==\u001b[39m \u001b[39m'\u001b[39m\u001b[39mhd\u001b[39m\u001b[39m'\u001b[39m])\n\u001b[0;32m      9\u001b[0m min_rental_price\n",
      "\u001b[1;31mValueError\u001b[0m: min() arg is an empty sequence"
     ]
    }
   ],
   "source": [
    "provider_abbreviations = list(set([x['package_short_name'] for x in first_result.get('offers', []) if x['monetization_type'] in ['flatrate', 'free', 'ads']]))\n",
    "valid_abbr = [x for x in provider_abbreviations if x in my_streaming_services_abbr]\n",
    "valid_full = [abbr_to_full_dict.get(x) for x in valid_abbr]\n",
    "film_streaming_services_df = pd.DataFrame(index=range(len(valid_abbr)))\n",
    "film_streaming_services_df['FILM_ID'] = film_id\n",
    "film_streaming_services_df['STREAMING_SERVICE_ABBR'] = valid_abbr\n",
    "film_streaming_services_df['STREAMING_SERVICE_FULL'] = valid_full\n",
    "min_rental_price = min([x['retail_price'] for x in first_result['offers'] if x['monetization_type'] == 'rent' and x['presentation_type'] == 'hd'])\n",
    "min_rental_price"
   ]
  },
  {
   "cell_type": "code",
   "execution_count": 20,
   "metadata": {},
   "outputs": [
    {
     "ename": "ValueError",
     "evalue": "min() arg is an empty sequence",
     "output_type": "error",
     "traceback": [
      "\u001b[1;31m---------------------------------------------------------------------------\u001b[0m",
      "\u001b[1;31mValueError\u001b[0m                                Traceback (most recent call last)",
      "Cell \u001b[1;32mIn[20], line 1\u001b[0m\n\u001b[1;32m----> 1\u001b[0m \u001b[39mmin\u001b[39m([x[\u001b[39m'\u001b[39m\u001b[39mretail_price\u001b[39m\u001b[39m'\u001b[39m] \u001b[39mfor\u001b[39;00m x \u001b[39min\u001b[39;00m first_result[\u001b[39m'\u001b[39m\u001b[39moffers\u001b[39m\u001b[39m'\u001b[39m] \u001b[39mif\u001b[39;00m x[\u001b[39m'\u001b[39m\u001b[39mmonetization_type\u001b[39m\u001b[39m'\u001b[39m] \u001b[39m==\u001b[39m \u001b[39m'\u001b[39m\u001b[39mrent\u001b[39m\u001b[39m'\u001b[39m \u001b[39mand\u001b[39;00m x[\u001b[39m'\u001b[39m\u001b[39mpresentation_type\u001b[39m\u001b[39m'\u001b[39m] \u001b[39m==\u001b[39m \u001b[39m'\u001b[39m\u001b[39mhd\u001b[39m\u001b[39m'\u001b[39m])\n",
      "\u001b[1;31mValueError\u001b[0m: min() arg is an empty sequence"
     ]
    }
   ],
   "source": [
    "min([x['retail_price'] for x in first_result['offers'] if x['monetization_type'] == 'rent' and x['presentation_type'] == 'hd'])"
   ]
  },
  {
   "cell_type": "code",
   "execution_count": 17,
   "metadata": {},
   "outputs": [],
   "source": [
    "\n",
    "# delete_records('FILM_STREAMING_SERVICES', film_id)\n",
    "if len(results['items']) > 0:\n",
    "    first_result = results['items'][0]\n",
    "    if first_result.get('title') == get_from_table('FILM_TITLE', film_id, 'FILM_TITLE'):\n",
    "        provider_abbreviations = list(set([x['package_short_name'] for x in first_result.get('offers', []) if x['monetization_type'] in ['flatrate', 'free', 'ads']]))\n",
    "        valid_abbr = [x for x in provider_abbreviations if x in my_streaming_services_abbr]\n",
    "        if len(valid_abbr) > 0:\n",
    "            valid_full = [abbr_to_full_dict.get(x) for x in valid_abbr]\n",
    "            film_streaming_services_df = pd.DataFrame(index=range(len(valid_abbr)))\n",
    "            film_streaming_services_df['FILM_ID'] = film_id\n",
    "            film_streaming_services_df['STREAMING_SERVICE_ABBR'] = valid_abbr\n",
    "            film_streaming_services_df['STREAMING_SERVICE_FULL'] = valid_full\n",
    "            # film_streaming_services_df['CREATED_AT'] = datetime.now()\n",
    "            # df_to_table(film_streaming_services_df, 'FILM_STREAMING_SERVICES', replace_append='append', verbose=False)"
   ]
  },
  {
   "cell_type": "code",
   "execution_count": 39,
   "metadata": {},
   "outputs": [],
   "source": [
    "min_rental_price = min([x['retail_price'] for x in first_result['offers'] if x['monetization_type'] == 'rent' and x['presentation_type'] == 'hd'])"
   ]
  },
  {
   "cell_type": "code",
   "execution_count": 23,
   "metadata": {},
   "outputs": [
    {
     "data": {
      "text/plain": [
       "[{'jw_entity_id': 'tm35196',\n",
       "  'monetization_type': 'flatrate',\n",
       "  'provider_id': 194,\n",
       "  'package_short_name': 'ast',\n",
       "  'currency': 'GBP',\n",
       "  'urls': {'standard_web': 'https://watch.amazon.co.uk/detail?gti=amzn1.dv.gti.b2a9f67f-683c-b79b-091e-66476824f38d',\n",
       "   'deeplink_web': 'https://watch.amazon.co.uk/watch?gti=amzn1.dv.gti.b2a9f67f-683c-b79b-091e-66476824f38d',\n",
       "   'deeplink_android_tv': 'intent://watch.amazon.co.uk/watch?asin=B00L2OBRT6&time=0&territory=GB#Intent;package=com.amazon.amazonvideo.livingroom;scheme=https;end',\n",
       "   'deeplink_fire_tv': 'intent://com.amazon.tv.launcher/detail?provider=aiv&providerId=B00L2OBRT6#Intent;package=com.amazon.tv.launcher;scheme=amzn;end',\n",
       "   'deeplink_tvos': 'aiv://aiv/watch?gti=amzn1.dv.gti.b2a9f67f-683c-b79b-091e-66476824f38d&territory=GB&time=auto',\n",
       "   'deeplink_tizenos': '{\"id\":\"org.tizen.primevideo\",\"action_data\":\"amzn1.dv.gti.b2a9f67f-683c-b79b-091e-66476824f38d\"}',\n",
       "   'deeplink_webos': '{ \"id\": \"amazon\", \"params\": { \"contentTarget\": \"amzn1.dv.gti.b2a9f67f-683c-b79b-091e-66476824f38d\" }}',\n",
       "   'deeplink_rokuos': 'launch/13?contentID=B00L2OBRT6&MediaType=movie'},\n",
       "  'available_to': '2023-10-01',\n",
       "  'presentation_type': 'hd',\n",
       "  'country': 'GB'},\n",
       " {'jw_entity_id': 'tm35196',\n",
       "  'monetization_type': 'flatrate',\n",
       "  'provider_id': 194,\n",
       "  'package_short_name': 'ast',\n",
       "  'currency': 'GBP',\n",
       "  'urls': {'standard_web': 'https://watch.amazon.co.uk/detail?gti=amzn1.dv.gti.b2a9f67f-683c-b79b-091e-66476824f38d',\n",
       "   'deeplink_web': 'https://watch.amazon.co.uk/watch?gti=amzn1.dv.gti.b2a9f67f-683c-b79b-091e-66476824f38d',\n",
       "   'deeplink_android_tv': 'intent://watch.amazon.co.uk/watch?asin=B00L2OBRT6&time=0&territory=GB#Intent;package=com.amazon.amazonvideo.livingroom;scheme=https;end',\n",
       "   'deeplink_fire_tv': 'intent://com.amazon.tv.launcher/detail?provider=aiv&providerId=B00L2OBRT6#Intent;package=com.amazon.tv.launcher;scheme=amzn;end',\n",
       "   'deeplink_tvos': 'aiv://aiv/watch?gti=amzn1.dv.gti.b2a9f67f-683c-b79b-091e-66476824f38d&territory=GB&time=auto',\n",
       "   'deeplink_tizenos': '{\"id\":\"org.tizen.primevideo\",\"action_data\":\"amzn1.dv.gti.b2a9f67f-683c-b79b-091e-66476824f38d\"}',\n",
       "   'deeplink_webos': '{ \"id\": \"amazon\", \"params\": { \"contentTarget\": \"amzn1.dv.gti.b2a9f67f-683c-b79b-091e-66476824f38d\" }}',\n",
       "   'deeplink_rokuos': 'launch/13?contentID=B00L2OBRT6&MediaType=movie'},\n",
       "  'available_to': '2023-10-01',\n",
       "  'presentation_type': 'sd',\n",
       "  'country': 'GB'},\n",
       " {'jw_entity_id': 'tm35196',\n",
       "  'monetization_type': 'flatrate',\n",
       "  'provider_id': 1790,\n",
       "  'package_short_name': 'lgu',\n",
       "  'currency': 'GBP',\n",
       "  'urls': {'standard_web': 'https://www.lionsgateplus.com/gb/en/movies/49699',\n",
       "   'deeplink_android_tv': 'intent://movies/49699#Intent;scheme=lionsgateplus;end',\n",
       "   'deeplink_fire_tv': 'intent://www.lionsgateplus.com/gb/en/movies/49699#Intent;launchFlags=0x00800000;scheme=https;end',\n",
       "   'deeplink_tvos': 'starz://open/49699'},\n",
       "  'presentation_type': 'hd',\n",
       "  'country': 'GB'},\n",
       " {'jw_entity_id': 'tm35196',\n",
       "  'monetization_type': 'flatrate',\n",
       "  'provider_id': 1790,\n",
       "  'package_short_name': 'lgu',\n",
       "  'currency': 'GBP',\n",
       "  'urls': {'standard_web': 'https://www.lionsgateplus.com/gb/en/movies/49699',\n",
       "   'deeplink_android_tv': 'intent://movies/49699#Intent;scheme=lionsgateplus;end',\n",
       "   'deeplink_fire_tv': 'intent://www.lionsgateplus.com/gb/en/movies/49699#Intent;launchFlags=0x00800000;scheme=https;end',\n",
       "   'deeplink_tvos': 'starz://open/49699'},\n",
       "  'presentation_type': 'sd',\n",
       "  'country': 'GB'}]"
      ]
     },
     "execution_count": 23,
     "metadata": {},
     "output_type": "execute_result"
    }
   ],
   "source": [
    "[x for x in first_result.get('offers', []) if x['monetization_type'] in ['flatrate', 'free', 'ads']]"
   ]
  }
 ],
 "metadata": {
  "kernelspec": {
   "display_name": "letterboxd-env",
   "language": "python",
   "name": "python3"
  },
  "language_info": {
   "codemirror_mode": {
    "name": "ipython",
    "version": 3
   },
   "file_extension": ".py",
   "mimetype": "text/x-python",
   "name": "python",
   "nbconvert_exporter": "python",
   "pygments_lexer": "ipython3",
   "version": "3.11.2"
  },
  "orig_nbformat": 4
 },
 "nbformat": 4,
 "nbformat_minor": 2
}
