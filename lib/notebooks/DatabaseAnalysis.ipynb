{
 "cells": [
  {
   "cell_type": "code",
   "execution_count": 3,
   "id": "fe533e44-e521-4f96-8b73-bc64e4288f9e",
   "metadata": {},
   "outputs": [],
   "source": [
    "import numpy as np, pandas as pd\n",
    "import sqlite3 as sql\n",
    "from dotenv import load_dotenv"
   ]
  },
  {
   "cell_type": "code",
   "execution_count": 4,
   "id": "7eb5e687-bf17-448b-bd47-64ca23aba8d8",
   "metadata": {},
   "outputs": [
    {
     "data": {
      "text/plain": [
       "True"
      ]
     },
     "execution_count": 4,
     "metadata": {},
     "output_type": "execute_result"
    }
   ],
   "source": [
    "load_dotenv()"
   ]
  },
  {
   "cell_type": "code",
   "execution_count": 5,
   "id": "b1da3c62-2e99-487c-b299-96c616d25f5f",
   "metadata": {},
   "outputs": [],
   "source": [
    "db_path = 'C:\\\\Users\\\\User\\\\Desktop\\\\dev\\\\personal\\\\letterboxd-app\\\\db\\\\lb-film.db'"
   ]
  },
  {
   "cell_type": "code",
   "execution_count": 12,
   "id": "7f654737-bddd-41f2-b833-afe1d498ce12",
   "metadata": {},
   "outputs": [],
   "source": [
    "def db_info(db_path):\n",
    "    '''\n",
    "    prints out all of the columns of every table in db\n",
    "    '''\n",
    "    db_conn = sql.connect(db_path)\n",
    "    tables = db_conn.cursor().execute(\"SELECT name FROM sqlite_master WHERE type='table';\").fetchall()\n",
    "    for table_name in tables:\n",
    "        table_name = table_name[0] # tables is a list of single item tuples\n",
    "        table = pd.read_sql_query(\"SELECT * from {} LIMIT 0\".format(table_name), db_conn)\n",
    "        print(table_name)\n",
    "        for col in table.columns:\n",
    "            print('\\t' + col)\n",
    "    db_conn.close()"
   ]
  },
  {
   "cell_type": "code",
   "execution_count": 15,
   "id": "96034beb-7232-4eb8-ad59-b08988a0a733",
   "metadata": {},
   "outputs": [],
   "source": [
    "def get_list_of_tables(db_path):\n",
    "    db_conn = sql.connect(db_path)\n",
    "    tables = db_conn.cursor().execute(\"SELECT name FROM sqlite_master WHERE type='table';\").fetchall()\n",
    "    db_conn.close()\n",
    "    tables = [table[0] for table in tables]\n",
    "    return tables"
   ]
  },
  {
   "cell_type": "code",
   "execution_count": 19,
   "id": "1d845651-b5a3-497b-ae0b-3980dfc4eb08",
   "metadata": {},
   "outputs": [
    {
     "name": "stdout",
     "output_type": "stream",
     "text": [
      "FILM_YEAR :\n"
     ]
    },
    {
     "data": {
      "text/html": [
       "<div>\n",
       "<style scoped>\n",
       "    .dataframe tbody tr th:only-of-type {\n",
       "        vertical-align: middle;\n",
       "    }\n",
       "\n",
       "    .dataframe tbody tr th {\n",
       "        vertical-align: top;\n",
       "    }\n",
       "\n",
       "    .dataframe thead th {\n",
       "        text-align: right;\n",
       "    }\n",
       "</style>\n",
       "<table border=\"1\" class=\"dataframe\">\n",
       "  <thead>\n",
       "    <tr style=\"text-align: right;\">\n",
       "      <th></th>\n",
       "      <th>FILM_ID</th>\n",
       "      <th>FILM_YEAR</th>\n",
       "      <th>FILM_DECADE</th>\n",
       "    </tr>\n",
       "  </thead>\n",
       "  <tbody>\n",
       "    <tr>\n",
       "      <th>0</th>\n",
       "      <td>f_01ZLI</td>\n",
       "      <td>1995</td>\n",
       "      <td>1990s</td>\n",
       "    </tr>\n",
       "  </tbody>\n",
       "</table>\n",
       "</div>"
      ],
      "text/plain": [
       "   FILM_ID  FILM_YEAR FILM_DECADE\n",
       "0  f_01ZLI       1995       1990s"
      ]
     },
     "metadata": {},
     "output_type": "display_data"
    },
    {
     "name": "stdout",
     "output_type": "stream",
     "text": [
      "PERSONAL_RATING :\n"
     ]
    },
    {
     "data": {
      "text/html": [
       "<div>\n",
       "<style scoped>\n",
       "    .dataframe tbody tr th:only-of-type {\n",
       "        vertical-align: middle;\n",
       "    }\n",
       "\n",
       "    .dataframe tbody tr th {\n",
       "        vertical-align: top;\n",
       "    }\n",
       "\n",
       "    .dataframe thead th {\n",
       "        text-align: right;\n",
       "    }\n",
       "</style>\n",
       "<table border=\"1\" class=\"dataframe\">\n",
       "  <thead>\n",
       "    <tr style=\"text-align: right;\">\n",
       "      <th></th>\n",
       "      <th>FILM_ID</th>\n",
       "      <th>FILM_RATING_BASIC</th>\n",
       "      <th>FILM_RATING_SCALED</th>\n",
       "      <th>FILM_RATING_PERCENT</th>\n",
       "    </tr>\n",
       "  </thead>\n",
       "  <tbody>\n",
       "  </tbody>\n",
       "</table>\n",
       "</div>"
      ],
      "text/plain": [
       "Empty DataFrame\n",
       "Columns: [FILM_ID, FILM_RATING_BASIC, FILM_RATING_SCALED, FILM_RATING_PERCENT]\n",
       "Index: []"
      ]
     },
     "metadata": {},
     "output_type": "display_data"
    },
    {
     "name": "stdout",
     "output_type": "stream",
     "text": [
      "FILM_LETTERBOXD_STATS :\n"
     ]
    },
    {
     "data": {
      "text/html": [
       "<div>\n",
       "<style scoped>\n",
       "    .dataframe tbody tr th:only-of-type {\n",
       "        vertical-align: middle;\n",
       "    }\n",
       "\n",
       "    .dataframe tbody tr th {\n",
       "        vertical-align: top;\n",
       "    }\n",
       "\n",
       "    .dataframe thead th {\n",
       "        text-align: right;\n",
       "    }\n",
       "</style>\n",
       "<table border=\"1\" class=\"dataframe\">\n",
       "  <thead>\n",
       "    <tr style=\"text-align: right;\">\n",
       "      <th></th>\n",
       "      <th>FILM_ID</th>\n",
       "      <th>FILM_WATCH_COUNT</th>\n",
       "      <th>FILM_FAN_COUNT</th>\n",
       "      <th>FILM_LIKES_COUNT</th>\n",
       "      <th>FILM_REVIEW_COUNT</th>\n",
       "      <th>FILM_LIST_COUNT</th>\n",
       "      <th>FILM_TOP_250</th>\n",
       "      <th>FILM_RATING</th>\n",
       "      <th>FILM_RATING_COUNT</th>\n",
       "    </tr>\n",
       "  </thead>\n",
       "  <tbody>\n",
       "    <tr>\n",
       "      <th>0</th>\n",
       "      <td>f_01ZLI</td>\n",
       "      <td>642074</td>\n",
       "      <td>536</td>\n",
       "      <td>114993</td>\n",
       "      <td>9893</td>\n",
       "      <td>35679</td>\n",
       "      <td>None</td>\n",
       "      <td>3.56</td>\n",
       "      <td>274561</td>\n",
       "    </tr>\n",
       "  </tbody>\n",
       "</table>\n",
       "</div>"
      ],
      "text/plain": [
       "   FILM_ID  FILM_WATCH_COUNT  FILM_FAN_COUNT  FILM_LIKES_COUNT  \\\n",
       "0  f_01ZLI            642074             536            114993   \n",
       "\n",
       "   FILM_REVIEW_COUNT  FILM_LIST_COUNT FILM_TOP_250  FILM_RATING  \\\n",
       "0               9893            35679         None         3.56   \n",
       "\n",
       "   FILM_RATING_COUNT  \n",
       "0             274561  "
      ]
     },
     "metadata": {},
     "output_type": "display_data"
    },
    {
     "name": "stdout",
     "output_type": "stream",
     "text": [
      "FILM_AVAILABILITY :\n"
     ]
    },
    {
     "data": {
      "text/html": [
       "<div>\n",
       "<style scoped>\n",
       "    .dataframe tbody tr th:only-of-type {\n",
       "        vertical-align: middle;\n",
       "    }\n",
       "\n",
       "    .dataframe tbody tr th {\n",
       "        vertical-align: top;\n",
       "    }\n",
       "\n",
       "    .dataframe thead th {\n",
       "        text-align: right;\n",
       "    }\n",
       "</style>\n",
       "<table border=\"1\" class=\"dataframe\">\n",
       "  <thead>\n",
       "    <tr style=\"text-align: right;\">\n",
       "      <th></th>\n",
       "      <th>FILM_ID</th>\n",
       "      <th>FILM_AVAILABLE</th>\n",
       "      <th>STREAMING_SERVICE</th>\n",
       "    </tr>\n",
       "  </thead>\n",
       "  <tbody>\n",
       "  </tbody>\n",
       "</table>\n",
       "</div>"
      ],
      "text/plain": [
       "Empty DataFrame\n",
       "Columns: [FILM_ID, FILM_AVAILABLE, STREAMING_SERVICE]\n",
       "Index: []"
      ]
     },
     "metadata": {},
     "output_type": "display_data"
    },
    {
     "name": "stdout",
     "output_type": "stream",
     "text": [
      "FILM_GENRE :\n"
     ]
    },
    {
     "data": {
      "text/html": [
       "<div>\n",
       "<style scoped>\n",
       "    .dataframe tbody tr th:only-of-type {\n",
       "        vertical-align: middle;\n",
       "    }\n",
       "\n",
       "    .dataframe tbody tr th {\n",
       "        vertical-align: top;\n",
       "    }\n",
       "\n",
       "    .dataframe thead th {\n",
       "        text-align: right;\n",
       "    }\n",
       "</style>\n",
       "<table border=\"1\" class=\"dataframe\">\n",
       "  <thead>\n",
       "    <tr style=\"text-align: right;\">\n",
       "      <th></th>\n",
       "      <th>FILM_ID</th>\n",
       "      <th>FILM_GENRE</th>\n",
       "    </tr>\n",
       "  </thead>\n",
       "  <tbody>\n",
       "  </tbody>\n",
       "</table>\n",
       "</div>"
      ],
      "text/plain": [
       "Empty DataFrame\n",
       "Columns: [FILM_ID, FILM_GENRE]\n",
       "Index: []"
      ]
     },
     "metadata": {},
     "output_type": "display_data"
    },
    {
     "name": "stdout",
     "output_type": "stream",
     "text": [
      "DIARY :\n"
     ]
    },
    {
     "data": {
      "text/html": [
       "<div>\n",
       "<style scoped>\n",
       "    .dataframe tbody tr th:only-of-type {\n",
       "        vertical-align: middle;\n",
       "    }\n",
       "\n",
       "    .dataframe tbody tr th {\n",
       "        vertical-align: top;\n",
       "    }\n",
       "\n",
       "    .dataframe thead th {\n",
       "        text-align: right;\n",
       "    }\n",
       "</style>\n",
       "<table border=\"1\" class=\"dataframe\">\n",
       "  <thead>\n",
       "    <tr style=\"text-align: right;\">\n",
       "      <th></th>\n",
       "      <th>FILM_ID</th>\n",
       "      <th>DIARY_DATE</th>\n",
       "      <th>FILM_RATING</th>\n",
       "      <th>TAGS</th>\n",
       "      <th>FIRST_TIME_WATCH</th>\n",
       "    </tr>\n",
       "  </thead>\n",
       "  <tbody>\n",
       "  </tbody>\n",
       "</table>\n",
       "</div>"
      ],
      "text/plain": [
       "Empty DataFrame\n",
       "Columns: [FILM_ID, DIARY_DATE, FILM_RATING, TAGS, FIRST_TIME_WATCH]\n",
       "Index: []"
      ]
     },
     "metadata": {},
     "output_type": "display_data"
    },
    {
     "name": "stdout",
     "output_type": "stream",
     "text": [
      "INGESTED :\n"
     ]
    },
    {
     "data": {
      "text/html": [
       "<div>\n",
       "<style scoped>\n",
       "    .dataframe tbody tr th:only-of-type {\n",
       "        vertical-align: middle;\n",
       "    }\n",
       "\n",
       "    .dataframe tbody tr th {\n",
       "        vertical-align: top;\n",
       "    }\n",
       "\n",
       "    .dataframe thead th {\n",
       "        text-align: right;\n",
       "    }\n",
       "</style>\n",
       "<table border=\"1\" class=\"dataframe\">\n",
       "  <thead>\n",
       "    <tr style=\"text-align: right;\">\n",
       "      <th></th>\n",
       "      <th>FILM_ID</th>\n",
       "      <th>INGESTION_DATE</th>\n",
       "    </tr>\n",
       "  </thead>\n",
       "  <tbody>\n",
       "  </tbody>\n",
       "</table>\n",
       "</div>"
      ],
      "text/plain": [
       "Empty DataFrame\n",
       "Columns: [FILM_ID, INGESTION_DATE]\n",
       "Index: []"
      ]
     },
     "metadata": {},
     "output_type": "display_data"
    },
    {
     "name": "stdout",
     "output_type": "stream",
     "text": [
      "WATCHED :\n"
     ]
    },
    {
     "data": {
      "text/html": [
       "<div>\n",
       "<style scoped>\n",
       "    .dataframe tbody tr th:only-of-type {\n",
       "        vertical-align: middle;\n",
       "    }\n",
       "\n",
       "    .dataframe tbody tr th {\n",
       "        vertical-align: top;\n",
       "    }\n",
       "\n",
       "    .dataframe thead th {\n",
       "        text-align: right;\n",
       "    }\n",
       "</style>\n",
       "<table border=\"1\" class=\"dataframe\">\n",
       "  <thead>\n",
       "    <tr style=\"text-align: right;\">\n",
       "      <th></th>\n",
       "      <th>FILM_ID</th>\n",
       "    </tr>\n",
       "  </thead>\n",
       "  <tbody>\n",
       "    <tr>\n",
       "      <th>0</th>\n",
       "      <td>f_01ZLI</td>\n",
       "    </tr>\n",
       "    <tr>\n",
       "      <th>1</th>\n",
       "      <td>f_01UTC</td>\n",
       "    </tr>\n",
       "    <tr>\n",
       "      <th>2</th>\n",
       "      <td>f_020E4</td>\n",
       "    </tr>\n",
       "    <tr>\n",
       "      <th>3</th>\n",
       "      <td>f_01TBi</td>\n",
       "    </tr>\n",
       "    <tr>\n",
       "      <th>4</th>\n",
       "      <td>f_03z48</td>\n",
       "    </tr>\n",
       "    <tr>\n",
       "      <th>5</th>\n",
       "      <td>f_0t4EQ</td>\n",
       "    </tr>\n",
       "    <tr>\n",
       "      <th>6</th>\n",
       "      <td>f_0099A</td>\n",
       "    </tr>\n",
       "    <tr>\n",
       "      <th>7</th>\n",
       "      <td>f_023zw</td>\n",
       "    </tr>\n",
       "    <tr>\n",
       "      <th>8</th>\n",
       "      <td>f_0lac8</td>\n",
       "    </tr>\n",
       "    <tr>\n",
       "      <th>9</th>\n",
       "      <td>f_020Z2</td>\n",
       "    </tr>\n",
       "  </tbody>\n",
       "</table>\n",
       "</div>"
      ],
      "text/plain": [
       "   FILM_ID\n",
       "0  f_01ZLI\n",
       "1  f_01UTC\n",
       "2  f_020E4\n",
       "3  f_01TBi\n",
       "4  f_03z48\n",
       "5  f_0t4EQ\n",
       "6  f_0099A\n",
       "7  f_023zw\n",
       "8  f_0lac8\n",
       "9  f_020Z2"
      ]
     },
     "metadata": {},
     "output_type": "display_data"
    },
    {
     "name": "stdout",
     "output_type": "stream",
     "text": [
      "WATCHLIST :\n"
     ]
    },
    {
     "data": {
      "text/html": [
       "<div>\n",
       "<style scoped>\n",
       "    .dataframe tbody tr th:only-of-type {\n",
       "        vertical-align: middle;\n",
       "    }\n",
       "\n",
       "    .dataframe tbody tr th {\n",
       "        vertical-align: top;\n",
       "    }\n",
       "\n",
       "    .dataframe thead th {\n",
       "        text-align: right;\n",
       "    }\n",
       "</style>\n",
       "<table border=\"1\" class=\"dataframe\">\n",
       "  <thead>\n",
       "    <tr style=\"text-align: right;\">\n",
       "      <th></th>\n",
       "      <th>FILM_ID</th>\n",
       "      <th>ADDED_DATE</th>\n",
       "    </tr>\n",
       "  </thead>\n",
       "  <tbody>\n",
       "    <tr>\n",
       "      <th>0</th>\n",
       "      <td>f_02aGO</td>\n",
       "      <td>2021-01-13</td>\n",
       "    </tr>\n",
       "    <tr>\n",
       "      <th>1</th>\n",
       "      <td>f_029q6</td>\n",
       "      <td>2021-01-13</td>\n",
       "    </tr>\n",
       "    <tr>\n",
       "      <th>2</th>\n",
       "      <td>f_01WVK</td>\n",
       "      <td>2021-01-13</td>\n",
       "    </tr>\n",
       "    <tr>\n",
       "      <th>3</th>\n",
       "      <td>f_01WhU</td>\n",
       "      <td>2021-01-13</td>\n",
       "    </tr>\n",
       "    <tr>\n",
       "      <th>4</th>\n",
       "      <td>f_01Yzm</td>\n",
       "      <td>2021-01-13</td>\n",
       "    </tr>\n",
       "    <tr>\n",
       "      <th>5</th>\n",
       "      <td>f_0207Y</td>\n",
       "      <td>2021-01-13</td>\n",
       "    </tr>\n",
       "    <tr>\n",
       "      <th>6</th>\n",
       "      <td>f_01icK</td>\n",
       "      <td>2021-01-13</td>\n",
       "    </tr>\n",
       "    <tr>\n",
       "      <th>7</th>\n",
       "      <td>f_01MUW</td>\n",
       "      <td>2021-01-13</td>\n",
       "    </tr>\n",
       "    <tr>\n",
       "      <th>8</th>\n",
       "      <td>f_01Ori</td>\n",
       "      <td>2021-01-13</td>\n",
       "    </tr>\n",
       "    <tr>\n",
       "      <th>9</th>\n",
       "      <td>f_01Kce</td>\n",
       "      <td>2021-01-15</td>\n",
       "    </tr>\n",
       "  </tbody>\n",
       "</table>\n",
       "</div>"
      ],
      "text/plain": [
       "   FILM_ID  ADDED_DATE\n",
       "0  f_02aGO  2021-01-13\n",
       "1  f_029q6  2021-01-13\n",
       "2  f_01WVK  2021-01-13\n",
       "3  f_01WhU  2021-01-13\n",
       "4  f_01Yzm  2021-01-13\n",
       "5  f_0207Y  2021-01-13\n",
       "6  f_01icK  2021-01-13\n",
       "7  f_01MUW  2021-01-13\n",
       "8  f_01Ori  2021-01-13\n",
       "9  f_01Kce  2021-01-15"
      ]
     },
     "metadata": {},
     "output_type": "display_data"
    },
    {
     "name": "stdout",
     "output_type": "stream",
     "text": [
      "FILM_TITLE :\n"
     ]
    },
    {
     "data": {
      "text/html": [
       "<div>\n",
       "<style scoped>\n",
       "    .dataframe tbody tr th:only-of-type {\n",
       "        vertical-align: middle;\n",
       "    }\n",
       "\n",
       "    .dataframe tbody tr th {\n",
       "        vertical-align: top;\n",
       "    }\n",
       "\n",
       "    .dataframe thead th {\n",
       "        text-align: right;\n",
       "    }\n",
       "</style>\n",
       "<table border=\"1\" class=\"dataframe\">\n",
       "  <thead>\n",
       "    <tr style=\"text-align: right;\">\n",
       "      <th></th>\n",
       "      <th>FILM_ID</th>\n",
       "      <th>FILM_TITLE</th>\n",
       "      <th>FILM_URL_TITLE</th>\n",
       "      <th>LETTERBOXD_URL</th>\n",
       "    </tr>\n",
       "  </thead>\n",
       "  <tbody>\n",
       "    <tr>\n",
       "      <th>0</th>\n",
       "      <td>f_01ZLI</td>\n",
       "      <td>Jumanji</td>\n",
       "      <td></td>\n",
       "      <td>https://boxd.it/1ZLI</td>\n",
       "    </tr>\n",
       "    <tr>\n",
       "      <th>1</th>\n",
       "      <td>f_01UTC</td>\n",
       "      <td>Fatal Attraction</td>\n",
       "      <td></td>\n",
       "      <td>https://boxd.it/1UTC</td>\n",
       "    </tr>\n",
       "    <tr>\n",
       "      <th>2</th>\n",
       "      <td>f_020E4</td>\n",
       "      <td>Punch-Drunk Love</td>\n",
       "      <td></td>\n",
       "      <td>https://boxd.it/20E4</td>\n",
       "    </tr>\n",
       "    <tr>\n",
       "      <th>3</th>\n",
       "      <td>f_01TBi</td>\n",
       "      <td>Altered States</td>\n",
       "      <td></td>\n",
       "      <td>https://boxd.it/1TBi</td>\n",
       "    </tr>\n",
       "    <tr>\n",
       "      <th>4</th>\n",
       "      <td>f_03z48</td>\n",
       "      <td>The Fear of God: 25 Years of The Exorcist</td>\n",
       "      <td></td>\n",
       "      <td>https://boxd.it/3z48</td>\n",
       "    </tr>\n",
       "    <tr>\n",
       "      <th>5</th>\n",
       "      <td>f_0t4EQ</td>\n",
       "      <td>Death to 2020</td>\n",
       "      <td></td>\n",
       "      <td>https://boxd.it/t4EQ</td>\n",
       "    </tr>\n",
       "    <tr>\n",
       "      <th>6</th>\n",
       "      <td>f_0099A</td>\n",
       "      <td>The Skin I Live In</td>\n",
       "      <td></td>\n",
       "      <td>https://boxd.it/99A</td>\n",
       "    </tr>\n",
       "    <tr>\n",
       "      <th>7</th>\n",
       "      <td>f_023zw</td>\n",
       "      <td>Synecdoche, New York</td>\n",
       "      <td></td>\n",
       "      <td>https://boxd.it/23zw</td>\n",
       "    </tr>\n",
       "    <tr>\n",
       "      <th>8</th>\n",
       "      <td>f_0lac8</td>\n",
       "      <td>Bait</td>\n",
       "      <td></td>\n",
       "      <td>https://boxd.it/lac8</td>\n",
       "    </tr>\n",
       "    <tr>\n",
       "      <th>9</th>\n",
       "      <td>f_020Z2</td>\n",
       "      <td>There Will Be Blood</td>\n",
       "      <td></td>\n",
       "      <td>https://boxd.it/20Z2</td>\n",
       "    </tr>\n",
       "  </tbody>\n",
       "</table>\n",
       "</div>"
      ],
      "text/plain": [
       "   FILM_ID                                 FILM_TITLE FILM_URL_TITLE  \\\n",
       "0  f_01ZLI                                    Jumanji                  \n",
       "1  f_01UTC                           Fatal Attraction                  \n",
       "2  f_020E4                           Punch-Drunk Love                  \n",
       "3  f_01TBi                             Altered States                  \n",
       "4  f_03z48  The Fear of God: 25 Years of The Exorcist                  \n",
       "5  f_0t4EQ                              Death to 2020                  \n",
       "6  f_0099A                         The Skin I Live In                  \n",
       "7  f_023zw                       Synecdoche, New York                  \n",
       "8  f_0lac8                                       Bait                  \n",
       "9  f_020Z2                        There Will Be Blood                  \n",
       "\n",
       "         LETTERBOXD_URL  \n",
       "0  https://boxd.it/1ZLI  \n",
       "1  https://boxd.it/1UTC  \n",
       "2  https://boxd.it/20E4  \n",
       "3  https://boxd.it/1TBi  \n",
       "4  https://boxd.it/3z48  \n",
       "5  https://boxd.it/t4EQ  \n",
       "6   https://boxd.it/99A  \n",
       "7  https://boxd.it/23zw  \n",
       "8  https://boxd.it/lac8  \n",
       "9  https://boxd.it/20Z2  "
      ]
     },
     "metadata": {},
     "output_type": "display_data"
    }
   ],
   "source": [
    "db_conn = sql.connect(db_path)\n",
    "for t in get_list_of_tables(db_path):\n",
    "    print(t, ':')\n",
    "    display(pd.read_sql_query(\"SELECT * from {} LIMIT 10\".format(t), db_conn))"
   ]
  },
  {
   "cell_type": "code",
   "execution_count": 20,
   "id": "837175d5-47f9-4cac-a654-e77309dac56b",
   "metadata": {},
   "outputs": [],
   "source": [
    "db_conn.close()"
   ]
  }
 ],
 "metadata": {
  "kernelspec": {
   "display_name": "letterboxd-env",
   "language": "python",
   "name": "letterboxd-env"
  },
  "language_info": {
   "codemirror_mode": {
    "name": "ipython",
    "version": 3
   },
   "file_extension": ".py",
   "mimetype": "text/x-python",
   "name": "python",
   "nbconvert_exporter": "python",
   "pygments_lexer": "ipython3",
   "version": "3.9.0"
  }
 },
 "nbformat": 4,
 "nbformat_minor": 5
}
