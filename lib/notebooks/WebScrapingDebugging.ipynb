{
 "cells": [
  {
   "cell_type": "code",
   "execution_count": 9,
   "metadata": {},
   "outputs": [],
   "source": [
    "import requests\n",
    "import re\n",
    "import json\n",
    "import numpy as np\n",
    "from datetime import datetime\n",
    "from bs4 import BeautifulSoup\n",
    "import sys\n",
    "sys.path.insert(0, '../data_prep')\n",
    "from sqlite_utils import get_from_table"
   ]
  },
  {
   "cell_type": "code",
   "execution_count": 10,
   "metadata": {},
   "outputs": [
    {
     "name": "stdout",
     "output_type": "stream",
     "text": [
      "Film ID is \"f_023Uu\", film title is \"Southland Tales\", and url is https://boxd.it/23Uu\n"
     ]
    }
   ],
   "source": [
    "film_id = 'f_023Uu'\n",
    "film_title = get_from_table('FILM_TITLE', film_id, 'FILM_TITLE')\n",
    "letterboxd_url = get_from_table('FILM_TITLE', film_id, 'LETTERBOXD_URL')\n",
    "print('Film ID is \"{}\", film title is \"{}\", and url is {}'.format(film_id, film_title, letterboxd_url))"
   ]
  },
  {
   "cell_type": "code",
   "execution_count": 11,
   "metadata": {},
   "outputs": [],
   "source": [
    "r = requests.get(letterboxd_url)\n",
    "redirected_url = r.url\n",
    "if letterboxd_url != redirected_url:\n",
    "    r = requests.get(redirected_url)\n",
    "soup = BeautifulSoup(r.content, 'lxml')"
   ]
  },
  {
   "cell_type": "code",
   "execution_count": 12,
   "metadata": {},
   "outputs": [],
   "source": [
    "og_url = soup.find('meta', {'property': 'og:url'}).get('content')\n",
    "film = og_url.split('/')[-2]"
   ]
  },
  {
   "cell_type": "code",
   "execution_count": 14,
   "metadata": {},
   "outputs": [
    {
     "data": {
      "text/plain": [
       "['science-fiction', 'thriller', 'comedy']"
      ]
     },
     "execution_count": 14,
     "metadata": {},
     "output_type": "execute_result"
    }
   ],
   "source": [
    "# genre_list = \n",
    "[x.get('href').replace('/films/genre/', '').replace('/', '') for x in soup.findAll('a', {'class':'text-slug'}) if 'genre' in str(x.get('href'))]"
   ]
  },
  {
   "cell_type": "code",
   "execution_count": 7,
   "metadata": {},
   "outputs": [
    {
     "data": {
      "text/plain": [
       "'https://www.themoviedb.org/movie/101669/'"
      ]
     },
     "execution_count": 7,
     "metadata": {},
     "output_type": "execute_result"
    }
   ],
   "source": [
    "tmdb_url = soup.find('a', {'data-track-action': 'TMDb'}).get('href')\n",
    "tmdb_url"
   ]
  },
  {
   "cell_type": "code",
   "execution_count": 8,
   "metadata": {},
   "outputs": [
    {
     "name": "stdout",
     "output_type": "stream",
     "text": [
      "http://www.imdb.com/title/tt1434435/maindetails tt1434435\n"
     ]
    }
   ],
   "source": [
    "imdb_url = soup.find('a', {'data-track-action': 'IMDb'}).get('href')\n",
    "imdb_id = imdb_url.replace('http://www.imdb.com/title/', '').replace('/maindetails', '')\n",
    "print(imdb_url, imdb_id)"
   ]
  },
  {
   "cell_type": "code",
   "execution_count": 9,
   "metadata": {},
   "outputs": [
    {
     "data": {
      "text/plain": [
       "'-event\" data-track-action=\"IMDb\" href=\"http://www.imdb.com/title/tt1434435/maindetails\" target=\"_blank\">IMDb</a>\\n<a class=\"micro-button track-event\" d'"
      ]
     },
     "execution_count": 9,
     "metadata": {},
     "output_type": "execute_result"
    }
   ],
   "source": [
    "pos = str(soup).find('imdb')\n",
    "str(soup)[pos-50:pos+100]"
   ]
  },
  {
   "cell_type": "code",
   "execution_count": null,
   "metadata": {},
   "outputs": [],
   "source": [
    "if tmdb_url[27:32] == 'movie':\n",
    "    tmdb_id = tmdb_url.replace('https://www.themoviedb.org/movie/', '').replace('/', '')\n",
    "    content_type = 'movie'\n",
    "elif tmdb_url[27:29] == 'tv':\n",
    "    tmdb_id = tmdb_url.replace('https://www.themoviedb.org/tv/', '').replace('/', '')\n",
    "    content_type = 'tv'\n",
    "else:\n",
    "    return\n",
    "tmdb_dict = {\n",
    "    'FILM_ID': film_id,\n",
    "    'TMDB_ID':tmdb_id\n",
    "}"
   ]
  },
  {
   "cell_type": "code",
   "execution_count": null,
   "metadata": {},
   "outputs": [],
   "source": [
    "if imdb_url[27:32] == 'movie':\n",
    "    tmdb_id = tmdb_url.replace('https://www.themoviedb.org/movie/', '').replace('/', '')\n",
    "    content_type = 'movie'\n",
    "elif tmdb_url[27:29] == 'tv':\n",
    "    tmdb_id = tmdb_url.replace('https://www.themoviedb.org/tv/', '').replace('/', '')\n",
    "    content_type = 'tv'\n",
    "else:\n",
    "    return\n",
    "tmdb_dict = {\n",
    "    'FILM_ID': film_id,\n",
    "    'TMDB_ID':tmdb_id\n",
    "}"
   ]
  },
  {
   "cell_type": "code",
   "execution_count": null,
   "metadata": {},
   "outputs": [],
   "source": []
  },
  {
   "cell_type": "code",
   "execution_count": 37,
   "metadata": {},
   "outputs": [],
   "source": [
    "letterboxd_url = get_from_table('FILM_TITLE', film_id, 'LETTERBOXD_URL')\n",
    "r = requests.get(letterboxd_url)\n",
    "if r.status_code != 200:\n",
    "    print('STATUS CODE NOT 200')\n",
    "redirected_url = r.url\n",
    "if letterboxd_url != redirected_url:\n",
    "    r = requests.get(redirected_url)\n",
    "soup = BeautifulSoup(r.content, 'lxml')\n",
    "tmdb_url = soup.find('a', {'data-track-action': 'TMDb'}).get('href')"
   ]
  },
  {
   "cell_type": "code",
   "execution_count": 38,
   "metadata": {},
   "outputs": [
    {
     "data": {
      "text/plain": [
       "'https://www.themoviedb.org/tv/79788/'"
      ]
     },
     "execution_count": 38,
     "metadata": {},
     "output_type": "execute_result"
    }
   ],
   "source": [
    "tmdb_url"
   ]
  },
  {
   "cell_type": "code",
   "execution_count": 41,
   "metadata": {},
   "outputs": [],
   "source": [
    "if tmdb_url[27:32] == 'movie':\n",
    "    tmdb_id = tmdb_url.replace('https://www.themoviedb.org/movie/', '').replace('/', '')\n",
    "    content_type = 'movie'\n",
    "elif tmdb_url[27:29] == 'tv':\n",
    "    tmdb_id = tmdb_url.replace('https://www.themoviedb.org/tv/', '').replace('/', '')\n",
    "    content_type = 'tv'"
   ]
  },
  {
   "cell_type": "code",
   "execution_count": 42,
   "metadata": {},
   "outputs": [
    {
     "name": "stdout",
     "output_type": "stream",
     "text": [
      "tv 79788\n"
     ]
    }
   ],
   "source": [
    "print(content_type, tmdb_id)"
   ]
  },
  {
   "cell_type": "code",
   "execution_count": null,
   "metadata": {},
   "outputs": [],
   "source": [
    "tmdb_id = tmdb_url.replace('https://www.themoviedb.org/movie/', '').replace('/', '')\n",
    "tmdb_dict = {\n",
    "    'FILM_ID': film_id,\n",
    "    'TMDB_ID':tmdb_id\n",
    "}\n",
    "# insert_record_into_table(tmdb_dict, 'TMDB_ID')"
   ]
  },
  {
   "cell_type": "code",
   "execution_count": 5,
   "metadata": {},
   "outputs": [
    {
     "data": {
      "text/plain": [
       "<Response [200]>"
      ]
     },
     "execution_count": 5,
     "metadata": {},
     "output_type": "execute_result"
    }
   ],
   "source": [
    "r = requests.get(letterboxd_url)\n",
    "r"
   ]
  },
  {
   "cell_type": "code",
   "execution_count": 6,
   "metadata": {},
   "outputs": [],
   "source": [
    "redirected_url = r.url\n",
    "if letterboxd_url != redirected_url:\n",
    "    r = requests.get(redirected_url)"
   ]
  },
  {
   "cell_type": "code",
   "execution_count": 7,
   "metadata": {},
   "outputs": [],
   "source": [
    "soup = BeautifulSoup(r.content, 'lxml')"
   ]
  },
  {
   "cell_type": "code",
   "execution_count": 8,
   "metadata": {},
   "outputs": [],
   "source": [
    "tmdb_url = soup.find('a', {'data-track-action': 'TMDb'}).get('href')\n",
    "tmdb_id = tmdb_url.replace('https://www.themoviedb.org/movie/', '').replace('/', '')"
   ]
  },
  {
   "cell_type": "code",
   "execution_count": 32,
   "metadata": {},
   "outputs": [],
   "source": [
    "og_url = soup.find('meta', {'property': 'og:url'}).get('content')\n",
    "film = og_url.split('/')[-2]\n",
    "try:\n",
    "    year = int(list(re.search(r'\\((.*?)\\)', soup.find('meta', {'property': 'og:title'}).get('content')).groups())[0])\n",
    "except:\n",
    "    year = int(datetime.now().strftime('%Y')) + 2\n",
    "genre_list = [x.get('href').replace('/films/genre/', '').replace('/', '') for x in soup.findAll('a', {'class':'text-slug'}) if 'genre' in str(x.get('href'))]\n",
    "\n",
    "rating_dict = json.loads(soup.find('script', {'type':\"application/ld+json\"}).string.split('\\n')[2]).get('aggregateRating')\n",
    "try:\n",
    "    rating_mean = rating_dict.get('ratingValue')\n",
    "except:\n",
    "    rating_mean = np.nan\n",
    "try:\n",
    "    rating_count = rating_dict.get('ratingCount')\n",
    "except:\n",
    "    rating_count = np.nan"
   ]
  },
  {
   "cell_type": "code",
   "execution_count": 33,
   "metadata": {},
   "outputs": [
    {
     "data": {
      "text/plain": [
       "[]"
      ]
     },
     "execution_count": 33,
     "metadata": {},
     "output_type": "execute_result"
    }
   ],
   "source": [
    "genre_list"
   ]
  },
  {
   "cell_type": "code",
   "execution_count": 11,
   "metadata": {},
   "outputs": [],
   "source": [
    "r = requests.get('https://letterboxd.com/film/{}/members/rated/.5-5/'.format(film))"
   ]
  },
  {
   "cell_type": "code",
   "execution_count": 12,
   "metadata": {},
   "outputs": [],
   "source": [
    "soup = BeautifulSoup(r.content, 'lxml')"
   ]
  },
  {
   "cell_type": "code",
   "execution_count": 13,
   "metadata": {},
   "outputs": [],
   "source": [
    "metrics_dict = {}\n",
    "for i in ['members', 'fans', 'likes', 'reviews', 'lists']:\n",
    "    href_str = '/film/{}/{}/'.format(film, i)\n",
    "    try:\n",
    "        metric_string = soup.find('a', {'class': 'tooltip', 'href':href_str}).get('title')\n",
    "        metric = int(metric_string[:metric_string.find('\\xa0')].replace(',', ''))\n",
    "    except:\n",
    "        metric = 0\n",
    "    metrics_dict[i] = metric"
   ]
  },
  {
   "cell_type": "code",
   "execution_count": 14,
   "metadata": {},
   "outputs": [
    {
     "data": {
      "text/plain": [
       "{'members': 1746806,\n",
       " 'fans': 22197,\n",
       " 'likes': 600578,\n",
       " 'reviews': 91071,\n",
       " 'lists': 188382}"
      ]
     },
     "execution_count": 14,
     "metadata": {},
     "output_type": "execute_result"
    }
   ],
   "source": [
    "metrics_dict"
   ]
  },
  {
   "cell_type": "code",
   "execution_count": 15,
   "metadata": {},
   "outputs": [],
   "source": [
    "r = requests.get('https://letterboxd.com/esi/film/{}/stats/'.format(film))\n",
    "soup = BeautifulSoup(r.content, 'lxml')"
   ]
  },
  {
   "cell_type": "code",
   "execution_count": 16,
   "metadata": {},
   "outputs": [
    {
     "data": {
      "text/plain": [
       "{'FILM_ID': 'f_02a1m',\n",
       " 'FILM_WATCH_COUNT': 1746806,\n",
       " 'FILM_FAN_COUNT': 22197,\n",
       " 'FILM_LIKES_COUNT': 600578,\n",
       " 'FILM_REVIEW_COUNT': 91071,\n",
       " 'FILM_LIST_COUNT': 188382,\n",
       " 'FILM_TOP_250': None,\n",
       " 'FILM_RATING': 4.15,\n",
       " 'FILM_RATING_COUNT': 993625}"
      ]
     },
     "execution_count": 16,
     "metadata": {},
     "output_type": "execute_result"
    }
   ],
   "source": [
    "try:\n",
    "    top_ = int(soup.find('a', {'class': 'has-icon icon-top250 icon-16 tooltip'}).text)\n",
    "except:\n",
    "    top_ = None\n",
    "letterboxd_info_dict = {\n",
    "    'FILM_ID': film_id,\n",
    "    'FILM_WATCH_COUNT': metrics_dict['members'],\n",
    "    'FILM_FAN_COUNT': metrics_dict['fans'],\n",
    "    'FILM_LIKES_COUNT': metrics_dict['likes'],\n",
    "    'FILM_REVIEW_COUNT': metrics_dict['reviews'],\n",
    "    'FILM_LIST_COUNT': metrics_dict['lists'],\n",
    "    'FILM_TOP_250': top_,\n",
    "    'FILM_RATING': rating_mean,\n",
    "    'FILM_RATING_COUNT': rating_count,\n",
    "}\n",
    "letterboxd_info_dict"
   ]
  },
  {
   "cell_type": "code",
   "execution_count": 34,
   "metadata": {},
   "outputs": [
    {
     "ename": "IndexError",
     "evalue": "list index out of range",
     "output_type": "error",
     "traceback": [
      "\u001b[1;31m---------------------------------------------------------------------------\u001b[0m",
      "\u001b[1;31mIndexError\u001b[0m                                Traceback (most recent call last)",
      "Cell \u001b[1;32mIn[34], line 3\u001b[0m\n\u001b[0;32m      1\u001b[0m film_genre_dict \u001b[39m=\u001b[39m {\n\u001b[0;32m      2\u001b[0m         \u001b[39m'\u001b[39m\u001b[39mFILM_ID\u001b[39m\u001b[39m'\u001b[39m: film_id,\n\u001b[1;32m----> 3\u001b[0m         \u001b[39m'\u001b[39m\u001b[39mFILM_GENRE\u001b[39m\u001b[39m'\u001b[39m:genre_list[\u001b[39m0\u001b[39m],\n\u001b[0;32m      4\u001b[0m         \u001b[39m'\u001b[39m\u001b[39mALL_FILM_GENRES\u001b[39m\u001b[39m'\u001b[39m: \u001b[39m'\u001b[39m\u001b[39m/\u001b[39m\u001b[39m'\u001b[39m\u001b[39m.\u001b[39mjoin(genre_list)\n\u001b[0;32m      5\u001b[0m     }\n\u001b[0;32m      6\u001b[0m film_genre_dict\n",
      "\u001b[1;31mIndexError\u001b[0m: list index out of range"
     ]
    }
   ],
   "source": [
    "film_genre_dict = {\n",
    "        'FILM_ID': film_id,\n",
    "        'FILM_GENRE':genre_list[0],\n",
    "        'ALL_FILM_GENRES': '/'.join(genre_list)\n",
    "    }\n",
    "film_genre_dict"
   ]
  },
  {
   "cell_type": "code",
   "execution_count": 18,
   "metadata": {},
   "outputs": [],
   "source": [
    "from justwatch import JustWatch\n",
    "# Update streaming info function:\n",
    "just_watch = JustWatch(country='GB')\n",
    "film_url_title = get_from_table('FILM_TITLE', film_id, 'FILM_URL_TITLE')\n",
    "film_release_year = get_from_table('FILM_YEAR', film_id, 'FILM_YEAR')\n",
    "results = just_watch.search_for_item(query=film_url_title, release_year_from=film_release_year-1, release_year_until=film_release_year+1)\n",
    "first_result = results['items'][0]\n"
   ]
  },
  {
   "cell_type": "code",
   "execution_count": 19,
   "metadata": {},
   "outputs": [
    {
     "data": {
      "text/plain": [
       "{'jw_entity_id': 'ts20995',\n",
       " 'id': 20995,\n",
       " 'title': 'The Sopranos',\n",
       " 'full_path': '/uk/tv-series/the-sopranos',\n",
       " 'full_paths': {'SHOW_DETAIL_OVERVIEW': '/uk/tv-series/the-sopranos'},\n",
       " 'poster': '/poster/9077158/{profile}',\n",
       " 'poster_blur_hash': 'TnF#,f%Mbb_NxuoL-;j[WCwdWBWV',\n",
       " 'object_type': 'show',\n",
       " 'scoring': [{'provider_type': 'imdb:popularity', 'value': 20},\n",
       "  {'provider_type': 'jw:popular_7_day', 'value': 428},\n",
       "  {'provider_type': 'imdb:score', 'value': 9.2},\n",
       "  {'provider_type': 'imdb:multiplied', 'value': 3839776.4},\n",
       "  {'provider_type': 'tmdb:popularity', 'value': 188.439},\n",
       "  {'provider_type': 'jw:trending_7_day', 'value': 391.81},\n",
       "  {'provider_type': 'jw:popular_180_day', 'value': 528.75},\n",
       "  {'provider_type': 'jw:popular_1_day', 'value': 752.8},\n",
       "  {'provider_type': 'jw:viral', 'value': 0.12},\n",
       "  {'provider_type': 'tmdb:score', 'value': 8.6},\n",
       "  {'provider_type': 'imdb:votes', 'value': 417367},\n",
       "  {'provider_type': 'jw:popular_30_day', 'value': 394.31},\n",
       "  {'provider_type': 'tmdb:votes', 'value': 2106}]}"
      ]
     },
     "execution_count": 19,
     "metadata": {},
     "output_type": "execute_result"
    }
   ],
   "source": [
    "first_result"
   ]
  },
  {
   "cell_type": "code",
   "execution_count": 45,
   "metadata": {},
   "outputs": [
    {
     "data": {
      "text/plain": [
       "dict_keys(['jw_entity_id', 'id', 'title', 'full_path', 'full_paths', 'poster', 'poster_blur_hash', 'original_release_year', 'object_type', 'offers', 'scoring', 'cinema_release_date'])"
      ]
     },
     "execution_count": 45,
     "metadata": {},
     "output_type": "execute_result"
    }
   ],
   "source": [
    "results2 = just_watch.search_for_item(query='jumanji', release_year_from=1995, release_year_until=1995)\n",
    "first_result2 = results2['items'][0]\n"
   ]
  },
  {
   "cell_type": "code",
   "execution_count": 49,
   "metadata": {},
   "outputs": [
    {
     "data": {
      "text/plain": [
       "[]"
      ]
     },
     "execution_count": 49,
     "metadata": {},
     "output_type": "execute_result"
    }
   ],
   "source": []
  },
  {
   "cell_type": "code",
   "execution_count": 50,
   "metadata": {},
   "outputs": [],
   "source": [
    "if first_result.get('title') == get_from_table('FILM_TITLE', film_id, 'FILM_TITLE'):\n",
    "    provider_abbreviations = list(set([x['package_short_name'] for x in first_result.get('offers', []) if x['monetization_type'] in ['flatrate', 'free', 'ads']]))"
   ]
  },
  {
   "cell_type": "code",
   "execution_count": 24,
   "metadata": {},
   "outputs": [
    {
     "data": {
      "text/plain": [
       "dict_keys(['jw_entity_id', 'id', 'title', 'full_path', 'full_paths', 'poster', 'poster_blur_hash', 'original_release_year', 'object_type', 'scoring'])"
      ]
     },
     "execution_count": 24,
     "metadata": {},
     "output_type": "execute_result"
    }
   ],
   "source": [
    "first_result.keys()"
   ]
  },
  {
   "cell_type": "code",
   "execution_count": null,
   "metadata": {},
   "outputs": [],
   "source": [
    "if first_result.get('title') == get_from_table('FILM_TITLE', film_id, 'FILM_TITLE'):\n",
    "    provider_abbreviations = list(set([x['package_short_name'] for x in first_result['offers'] if x['monetization_type'] in ['flatrate', 'free', 'ads']]))\n",
    "    valid_abbr = [x for x in provider_abbreviations if x in my_streaming_services_abbr]\n",
    "    if len(valid_abbr) > 0:\n",
    "        valid_full = [abbr_to_full_dict.get(x) for x in valid_abbr]\n",
    "        film_streaming_services_df = pd.DataFrame(index=range(len(valid_abbr)))\n",
    "        film_streaming_services_df['FILM_ID'] = film_id\n",
    "        film_streaming_services_df['STREAMING_SERVICE_ABBR'] = valid_abbr\n",
    "        film_streaming_services_df['STREAMING_SERVICE_FULL'] = valid_full\n",
    "        df_to_table(film_streaming_services_df, 'FILM_STREAMING_SERVICES', replace_append='append', verbose=True)"
   ]
  }
 ],
 "metadata": {
  "kernelspec": {
   "display_name": "letterboxd-env",
   "language": "python",
   "name": "python3"
  },
  "language_info": {
   "codemirror_mode": {
    "name": "ipython",
    "version": 3
   },
   "file_extension": ".py",
   "mimetype": "text/x-python",
   "name": "python",
   "nbconvert_exporter": "python",
   "pygments_lexer": "ipython3",
   "version": "3.11.2"
  },
  "orig_nbformat": 4
 },
 "nbformat": 4,
 "nbformat_minor": 2
}
