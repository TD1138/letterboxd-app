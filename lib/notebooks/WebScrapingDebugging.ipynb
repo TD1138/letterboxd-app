{
 "cells": [
  {
   "cell_type": "code",
   "execution_count": 7,
   "metadata": {},
   "outputs": [],
   "source": [
    "import requests\n",
    "from bs4 import BeautifulSoup"
   ]
  },
  {
   "cell_type": "code",
   "execution_count": 3,
   "metadata": {},
   "outputs": [],
   "source": [
    "film = 'minotaur'\n",
    "letterboxd_url = 'https://boxd.it/1Gae'"
   ]
  },
  {
   "cell_type": "code",
   "execution_count": 4,
   "metadata": {},
   "outputs": [],
   "source": [
    "r = requests.get('https://letterboxd.com/film/{}/members/rated/.5-5/'.format(film))"
   ]
  },
  {
   "cell_type": "code",
   "execution_count": 8,
   "metadata": {},
   "outputs": [],
   "source": [
    "soup = BeautifulSoup(r.content, 'lxml')"
   ]
  },
  {
   "cell_type": "code",
   "execution_count": 11,
   "metadata": {},
   "outputs": [],
   "source": [
    "metrics_dict = {}\n",
    "for i in ['members', 'fans', 'likes', 'reviews', 'lists']:\n",
    "    href_str = '/film/{}/{}/'.format(film, i)\n",
    "    try:\n",
    "        metric_string = soup.find('a', {'class': 'tooltip', 'href':href_str}).get('title')\n",
    "        metric = int(metric_string[:metric_string.find('\\xa0')].replace(',', ''))\n",
    "    except:\n",
    "        metric = 0\n",
    "    metrics_dict[i] = metric"
   ]
  },
  {
   "cell_type": "code",
   "execution_count": 12,
   "metadata": {},
   "outputs": [
    {
     "data": {
      "text/plain": [
       "{'members': 1648, 'fans': 0, 'likes': 61, 'reviews': 143, 'lists': 533}"
      ]
     },
     "execution_count": 12,
     "metadata": {},
     "output_type": "execute_result"
    }
   ],
   "source": [
    "metrics_dict"
   ]
  }
 ],
 "metadata": {
  "kernelspec": {
   "display_name": "letterboxd-env",
   "language": "python",
   "name": "python3"
  },
  "language_info": {
   "codemirror_mode": {
    "name": "ipython",
    "version": 3
   },
   "file_extension": ".py",
   "mimetype": "text/x-python",
   "name": "python",
   "nbconvert_exporter": "python",
   "pygments_lexer": "ipython3",
   "version": "3.11.2"
  },
  "orig_nbformat": 4
 },
 "nbformat": 4,
 "nbformat_minor": 2
}
