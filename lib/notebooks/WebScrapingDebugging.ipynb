{
 "cells": [
  {
   "cell_type": "code",
   "execution_count": 31,
   "metadata": {},
   "outputs": [],
   "source": [
    "import requests\n",
    "import re\n",
    "import json\n",
    "import numpy as np\n",
    "from datetime import datetime\n",
    "from bs4 import BeautifulSoup"
   ]
  },
  {
   "cell_type": "code",
   "execution_count": 34,
   "metadata": {},
   "outputs": [],
   "source": [
    "film_id = 'f_0B8sq'\n",
    "letterboxd_url = 'https://boxd.it/3ETA'"
   ]
  },
  {
   "cell_type": "code",
   "execution_count": 35,
   "metadata": {},
   "outputs": [
    {
     "data": {
      "text/plain": [
       "<Response [200]>"
      ]
     },
     "execution_count": 35,
     "metadata": {},
     "output_type": "execute_result"
    }
   ],
   "source": [
    "r = requests.get(letterboxd_url)\n",
    "r\n"
   ]
  },
  {
   "cell_type": "code",
   "execution_count": 36,
   "metadata": {},
   "outputs": [],
   "source": [
    "redirected_url = r.url\n",
    "if letterboxd_url != redirected_url:\n",
    "    r = requests.get(redirected_url)"
   ]
  },
  {
   "cell_type": "code",
   "execution_count": 37,
   "metadata": {},
   "outputs": [],
   "source": [
    "soup = BeautifulSoup(r.content, 'lxml')"
   ]
  },
  {
   "cell_type": "code",
   "execution_count": 38,
   "metadata": {},
   "outputs": [],
   "source": [
    "og_url = soup.find('meta', {'property': 'og:url'}).get('content')\n",
    "film = og_url.split('/')[-2]\n",
    "try:\n",
    "    year = int(list(re.search(r'\\((.*?)\\)', soup.find('meta', {'property': 'og:title'}).get('content')).groups())[0])\n",
    "except:\n",
    "    year = int(datetime.now().strftime('%Y')) + 2\n",
    "genre_list = [x.get('href').replace('/films/genre/', '').replace('/', '') for x in soup.findAll('a', {'class':'text-slug'}) if 'genre' in str(x.get('href'))]\n",
    "\n",
    "rating_dict = json.loads(soup.find('script', {'type':\"application/ld+json\"}).string.split('\\n')[2]).get('aggregateRating')\n",
    "try:\n",
    "    rating_mean = rating_dict.get('ratingValue')\n",
    "except:\n",
    "    rating_mean = np.nan\n",
    "try:\n",
    "    rating_count = rating_dict.get('ratingCount')\n",
    "except:\n",
    "    rating_count = np.nan"
   ]
  },
  {
   "cell_type": "code",
   "execution_count": 58,
   "metadata": {},
   "outputs": [],
   "source": []
  },
  {
   "cell_type": "code",
   "execution_count": 45,
   "metadata": {},
   "outputs": [
    {
     "data": {
      "text/plain": [
       "1074"
      ]
     },
     "execution_count": 45,
     "metadata": {},
     "output_type": "execute_result"
    }
   ],
   "source": [
    "rating_count"
   ]
  },
  {
   "cell_type": "code",
   "execution_count": 46,
   "metadata": {},
   "outputs": [],
   "source": [
    "r = requests.get('https://letterboxd.com/film/{}/members/rated/.5-5/'.format(film))"
   ]
  },
  {
   "cell_type": "code",
   "execution_count": 47,
   "metadata": {},
   "outputs": [],
   "source": [
    "soup = BeautifulSoup(r.content, 'lxml')"
   ]
  },
  {
   "cell_type": "code",
   "execution_count": 48,
   "metadata": {},
   "outputs": [],
   "source": [
    "metrics_dict = {}\n",
    "for i in ['members', 'fans', 'likes', 'reviews', 'lists']:\n",
    "    href_str = '/film/{}/{}/'.format(film, i)\n",
    "    try:\n",
    "        metric_string = soup.find('a', {'class': 'tooltip', 'href':href_str}).get('title')\n",
    "        metric = int(metric_string[:metric_string.find('\\xa0')].replace(',', ''))\n",
    "    except:\n",
    "        metric = 0\n",
    "    metrics_dict[i] = metric"
   ]
  },
  {
   "cell_type": "code",
   "execution_count": 49,
   "metadata": {},
   "outputs": [
    {
     "data": {
      "text/plain": [
       "{'members': 2348, 'fans': 0, 'likes': 447, 'reviews': 316, 'lists': 501}"
      ]
     },
     "execution_count": 49,
     "metadata": {},
     "output_type": "execute_result"
    }
   ],
   "source": [
    "metrics_dict"
   ]
  },
  {
   "cell_type": "code",
   "execution_count": 50,
   "metadata": {},
   "outputs": [],
   "source": [
    "r = requests.get('https://letterboxd.com/esi/film/{}/stats/'.format(film))\n",
    "soup = BeautifulSoup(r.content, 'lxml')"
   ]
  },
  {
   "cell_type": "code",
   "execution_count": 52,
   "metadata": {},
   "outputs": [],
   "source": [
    "try:\n",
    "    top_ = int(soup.find('a', {'class': 'has-icon icon-top250 icon-16 tooltip'}).text)\n",
    "except:\n",
    "    top_ = None\n",
    "letterboxd_info_dict = {\n",
    "    'FILM_ID': film_id,\n",
    "    'FILM_WATCH_COUNT': metrics_dict['members'],\n",
    "    'FILM_FAN_COUNT': metrics_dict['fans'],\n",
    "    'FILM_LIKES_COUNT': metrics_dict['likes'],\n",
    "    'FILM_REVIEW_COUNT': metrics_dict['reviews'],\n",
    "    'FILM_LIST_COUNT': metrics_dict['lists'],\n",
    "    'FILM_TOP_250': top_,\n",
    "    'FILM_RATING': rating_mean,\n",
    "    'FILM_RATING_COUNT': rating_count,\n",
    "}"
   ]
  },
  {
   "cell_type": "code",
   "execution_count": 54,
   "metadata": {},
   "outputs": [
    {
     "ename": "IndexError",
     "evalue": "list index out of range",
     "output_type": "error",
     "traceback": [
      "\u001b[1;31m---------------------------------------------------------------------------\u001b[0m",
      "\u001b[1;31mIndexError\u001b[0m                                Traceback (most recent call last)",
      "Cell \u001b[1;32mIn[54], line 3\u001b[0m\n\u001b[0;32m      1\u001b[0m film_genre_dict \u001b[39m=\u001b[39m {\n\u001b[0;32m      2\u001b[0m         \u001b[39m'\u001b[39m\u001b[39mFILM_ID\u001b[39m\u001b[39m'\u001b[39m: film_id,\n\u001b[1;32m----> 3\u001b[0m         \u001b[39m'\u001b[39m\u001b[39mFILM_GENRE\u001b[39m\u001b[39m'\u001b[39m:genre_list[\u001b[39m0\u001b[39m],\n\u001b[0;32m      4\u001b[0m         \u001b[39m'\u001b[39m\u001b[39mALL_FILM_GENRES\u001b[39m\u001b[39m'\u001b[39m: \u001b[39m'\u001b[39m\u001b[39m/\u001b[39m\u001b[39m'\u001b[39m\u001b[39m.\u001b[39mjoin(genre_list)\n\u001b[0;32m      5\u001b[0m     }\n",
      "\u001b[1;31mIndexError\u001b[0m: list index out of range"
     ]
    }
   ],
   "source": [
    "film_genre_dict = {\n",
    "        'FILM_ID': film_id,\n",
    "        'FILM_GENRE':genre_list[0],\n",
    "        'ALL_FILM_GENRES': '/'.join(genre_list)\n",
    "    }\n"
   ]
  }
 ],
 "metadata": {
  "kernelspec": {
   "display_name": "letterboxd-env",
   "language": "python",
   "name": "python3"
  },
  "language_info": {
   "codemirror_mode": {
    "name": "ipython",
    "version": 3
   },
   "file_extension": ".py",
   "mimetype": "text/x-python",
   "name": "python",
   "nbconvert_exporter": "python",
   "pygments_lexer": "ipython3",
   "version": "3.11.2"
  },
  "orig_nbformat": 4
 },
 "nbformat": 4,
 "nbformat_minor": 2
}
