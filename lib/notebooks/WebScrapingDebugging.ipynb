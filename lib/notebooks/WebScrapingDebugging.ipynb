{
 "cells": [
  {
   "cell_type": "code",
   "execution_count": 1,
   "metadata": {},
   "outputs": [],
   "source": [
    "import requests\n",
    "import re\n",
    "import json\n",
    "import numpy as np\n",
    "from datetime import datetime\n",
    "from bs4 import BeautifulSoup\n",
    "import sys\n",
    "sys.path.insert(0, '../data_prep')\n",
    "from sqlite_utils import get_from_table"
   ]
  },
  {
   "cell_type": "code",
   "execution_count": 2,
   "metadata": {},
   "outputs": [
    {
     "name": "stdout",
     "output_type": "stream",
     "text": [
      "Film ID is \"f_0tSXS\", film title is \"Sudden Death\", and url is https://boxd.it/tSXS\n"
     ]
    }
   ],
   "source": [
    "film_id = 'f_0tSXS'\n",
    "film_title = get_from_table('FILM_TITLE', film_id, 'FILM_TITLE')\n",
    "letterboxd_url = get_from_table('FILM_TITLE', film_id, 'LETTERBOXD_URL')\n",
    "print('Film ID is \"{}\", film title is \"{}\", and url is {}'.format(film_id, film_title, letterboxd_url))"
   ]
  },
  {
   "cell_type": "code",
   "execution_count": 3,
   "metadata": {},
   "outputs": [
    {
     "data": {
      "text/plain": [
       "<Response [404]>"
      ]
     },
     "execution_count": 3,
     "metadata": {},
     "output_type": "execute_result"
    }
   ],
   "source": [
    "r = requests.get(letterboxd_url)\n",
    "r"
   ]
  },
  {
   "cell_type": "code",
   "execution_count": 12,
   "metadata": {},
   "outputs": [
    {
     "data": {
      "text/plain": [
       "True"
      ]
     },
     "execution_count": 12,
     "metadata": {},
     "output_type": "execute_result"
    }
   ],
   "source": []
  },
  {
   "cell_type": "code",
   "execution_count": 62,
   "metadata": {},
   "outputs": [],
   "source": [
    "redirected_url = r.url\n",
    "if letterboxd_url != redirected_url:\n",
    "    r = requests.get(redirected_url)"
   ]
  },
  {
   "cell_type": "code",
   "execution_count": 63,
   "metadata": {},
   "outputs": [],
   "source": [
    "soup = BeautifulSoup(r.content, 'lxml')"
   ]
  },
  {
   "cell_type": "code",
   "execution_count": 67,
   "metadata": {},
   "outputs": [],
   "source": [
    "tmdb_url = soup.find('a', {'data-track-action': 'TMDb'}).get('href')\n",
    "tmdb_id = tmdb_url.replace('https://www.themoviedb.org/movie/', '').replace('/', '')"
   ]
  },
  {
   "cell_type": "code",
   "execution_count": 73,
   "metadata": {},
   "outputs": [
    {
     "data": {
      "text/plain": [
       "'17473'"
      ]
     },
     "execution_count": 73,
     "metadata": {},
     "output_type": "execute_result"
    }
   ],
   "source": []
  },
  {
   "cell_type": "code",
   "execution_count": null,
   "metadata": {},
   "outputs": [],
   "source": [
    "<a href=\"https://www.themoviedb.org/movie/104846/\" class=\"micro-button track-event\" data-track-action=\"TMDb\">TMDb</a>"
   ]
  },
  {
   "cell_type": "code",
   "execution_count": 6,
   "metadata": {},
   "outputs": [],
   "source": [
    "og_url = soup.find('meta', {'property': 'og:url'}).get('content')\n",
    "film = og_url.split('/')[-2]\n",
    "try:\n",
    "    year = int(list(re.search(r'\\((.*?)\\)', soup.find('meta', {'property': 'og:title'}).get('content')).groups())[0])\n",
    "except:\n",
    "    year = int(datetime.now().strftime('%Y')) + 2\n",
    "genre_list = [x.get('href').replace('/films/genre/', '').replace('/', '') for x in soup.findAll('a', {'class':'text-slug'}) if 'genre' in str(x.get('href'))]\n",
    "\n",
    "rating_dict = json.loads(soup.find('script', {'type':\"application/ld+json\"}).string.split('\\n')[2]).get('aggregateRating')\n",
    "try:\n",
    "    rating_mean = rating_dict.get('ratingValue')\n",
    "except:\n",
    "    rating_mean = np.nan\n",
    "try:\n",
    "    rating_count = rating_dict.get('ratingCount')\n",
    "except:\n",
    "    rating_count = np.nan"
   ]
  },
  {
   "cell_type": "code",
   "execution_count": 7,
   "metadata": {},
   "outputs": [
    {
     "data": {
      "text/plain": [
       "426"
      ]
     },
     "execution_count": 7,
     "metadata": {},
     "output_type": "execute_result"
    }
   ],
   "source": [
    "rating_count"
   ]
  },
  {
   "cell_type": "code",
   "execution_count": 8,
   "metadata": {},
   "outputs": [],
   "source": [
    "r = requests.get('https://letterboxd.com/film/{}/members/rated/.5-5/'.format(film))"
   ]
  },
  {
   "cell_type": "code",
   "execution_count": 9,
   "metadata": {},
   "outputs": [],
   "source": [
    "soup = BeautifulSoup(r.content, 'lxml')"
   ]
  },
  {
   "cell_type": "code",
   "execution_count": 10,
   "metadata": {},
   "outputs": [],
   "source": [
    "metrics_dict = {}\n",
    "for i in ['members', 'fans', 'likes', 'reviews', 'lists']:\n",
    "    href_str = '/film/{}/{}/'.format(film, i)\n",
    "    try:\n",
    "        metric_string = soup.find('a', {'class': 'tooltip', 'href':href_str}).get('title')\n",
    "        metric = int(metric_string[:metric_string.find('\\xa0')].replace(',', ''))\n",
    "    except:\n",
    "        metric = 0\n",
    "    metrics_dict[i] = metric"
   ]
  },
  {
   "cell_type": "code",
   "execution_count": 11,
   "metadata": {},
   "outputs": [
    {
     "data": {
      "text/plain": [
       "{'members': 582, 'fans': 0, 'likes': 72, 'reviews': 80, 'lists': 432}"
      ]
     },
     "execution_count": 11,
     "metadata": {},
     "output_type": "execute_result"
    }
   ],
   "source": [
    "metrics_dict"
   ]
  },
  {
   "cell_type": "code",
   "execution_count": 12,
   "metadata": {},
   "outputs": [],
   "source": [
    "r = requests.get('https://letterboxd.com/esi/film/{}/stats/'.format(film))\n",
    "soup = BeautifulSoup(r.content, 'lxml')"
   ]
  },
  {
   "cell_type": "code",
   "execution_count": 14,
   "metadata": {},
   "outputs": [
    {
     "data": {
      "text/plain": [
       "{'FILM_ID': 'f_016QI',\n",
       " 'FILM_WATCH_COUNT': 582,\n",
       " 'FILM_FAN_COUNT': 0,\n",
       " 'FILM_LIKES_COUNT': 72,\n",
       " 'FILM_REVIEW_COUNT': 80,\n",
       " 'FILM_LIST_COUNT': 432,\n",
       " 'FILM_TOP_250': None,\n",
       " 'FILM_RATING': 2.62,\n",
       " 'FILM_RATING_COUNT': 426}"
      ]
     },
     "execution_count": 14,
     "metadata": {},
     "output_type": "execute_result"
    }
   ],
   "source": [
    "try:\n",
    "    top_ = int(soup.find('a', {'class': 'has-icon icon-top250 icon-16 tooltip'}).text)\n",
    "except:\n",
    "    top_ = None\n",
    "letterboxd_info_dict = {\n",
    "    'FILM_ID': film_id,\n",
    "    'FILM_WATCH_COUNT': metrics_dict['members'],\n",
    "    'FILM_FAN_COUNT': metrics_dict['fans'],\n",
    "    'FILM_LIKES_COUNT': metrics_dict['likes'],\n",
    "    'FILM_REVIEW_COUNT': metrics_dict['reviews'],\n",
    "    'FILM_LIST_COUNT': metrics_dict['lists'],\n",
    "    'FILM_TOP_250': top_,\n",
    "    'FILM_RATING': rating_mean,\n",
    "    'FILM_RATING_COUNT': rating_count,\n",
    "}\n",
    "letterboxd_info_dict"
   ]
  },
  {
   "cell_type": "code",
   "execution_count": 15,
   "metadata": {},
   "outputs": [
    {
     "data": {
      "text/plain": [
       "{'FILM_ID': 'f_016QI', 'FILM_GENRE': 'horror', 'ALL_FILM_GENRES': 'horror'}"
      ]
     },
     "execution_count": 15,
     "metadata": {},
     "output_type": "execute_result"
    }
   ],
   "source": [
    "film_genre_dict = {\n",
    "        'FILM_ID': film_id,\n",
    "        'FILM_GENRE':genre_list[0],\n",
    "        'ALL_FILM_GENRES': '/'.join(genre_list)\n",
    "    }\n",
    "film_genre_dict"
   ]
  },
  {
   "cell_type": "code",
   "execution_count": 57,
   "metadata": {},
   "outputs": [],
   "source": [
    "from justwatch import JustWatch\n",
    "# Update streaming info function:\n",
    "just_watch = JustWatch(country='GB')\n",
    "film_url_title = get_from_table('FILM_TITLE', film_id, 'FILM_URL_TITLE')\n",
    "film_release_year = get_from_table('FILM_YEAR', film_id, 'FILM_YEAR')\n",
    "results = just_watch.search_for_item(query=film_url_title, release_year_from=film_release_year-1, release_year_until=film_release_year+1)\n",
    "first_result = results['items'][0]\n"
   ]
  },
  {
   "cell_type": "code",
   "execution_count": 58,
   "metadata": {},
   "outputs": [
    {
     "data": {
      "text/plain": [
       "{'jw_entity_id': 'tm137445',\n",
       " 'id': 137445,\n",
       " 'title': 'The Room',\n",
       " 'full_path': '/uk/movie/the-room-2003',\n",
       " 'full_paths': {'MOVIE_DETAIL_OVERVIEW': '/uk/movie/the-room-2003'},\n",
       " 'poster': '/poster/176218423/{profile}',\n",
       " 'poster_blur_hash': 'TRBzg^tQ4Ug2t7MyaLV[x[DjWBx[',\n",
       " 'original_release_year': 2003,\n",
       " 'object_type': 'movie',\n",
       " 'scoring': [{'provider_type': 'jw:popular_1_day', 'value': 3.34},\n",
       "  {'provider_type': 'imdb:votes', 'value': 91334},\n",
       "  {'provider_type': 'tmdb:score', 'value': 4.024},\n",
       "  {'provider_type': 'jw:popular_7_day', 'value': 3.28},\n",
       "  {'provider_type': 'jw:popular_30_day', 'value': 11.47},\n",
       "  {'provider_type': 'imdb:multiplied', 'value': 328802.4},\n",
       "  {'provider_type': 'tmdb:votes', 'value': 1219},\n",
       "  {'provider_type': 'imdb:popularity', 'value': 1633},\n",
       "  {'provider_type': 'tmdb:popularity', 'value': 10.898},\n",
       "  {'provider_type': 'jw:trending_7_day', 'value': 3.04},\n",
       "  {'provider_type': 'tmdb:id', 'value': 17473},\n",
       "  {'provider_type': 'jw:popular_180_day', 'value': 23.41},\n",
       "  {'provider_type': 'imdb:score', 'value': 3.6}],\n",
       " 'cinema_release_date': '2009-08-18'}"
      ]
     },
     "execution_count": 58,
     "metadata": {},
     "output_type": "execute_result"
    }
   ],
   "source": [
    "first_result"
   ]
  },
  {
   "cell_type": "code",
   "execution_count": 45,
   "metadata": {},
   "outputs": [
    {
     "data": {
      "text/plain": [
       "dict_keys(['jw_entity_id', 'id', 'title', 'full_path', 'full_paths', 'poster', 'poster_blur_hash', 'original_release_year', 'object_type', 'offers', 'scoring', 'cinema_release_date'])"
      ]
     },
     "execution_count": 45,
     "metadata": {},
     "output_type": "execute_result"
    }
   ],
   "source": [
    "results2 = just_watch.search_for_item(query='jumanji', release_year_from=1995, release_year_until=1995)\n",
    "first_result2 = results2['items'][0]\n"
   ]
  },
  {
   "cell_type": "code",
   "execution_count": 49,
   "metadata": {},
   "outputs": [
    {
     "data": {
      "text/plain": [
       "[]"
      ]
     },
     "execution_count": 49,
     "metadata": {},
     "output_type": "execute_result"
    }
   ],
   "source": []
  },
  {
   "cell_type": "code",
   "execution_count": 50,
   "metadata": {},
   "outputs": [],
   "source": [
    "if first_result.get('title') == get_from_table('FILM_TITLE', film_id, 'FILM_TITLE'):\n",
    "    provider_abbreviations = list(set([x['package_short_name'] for x in first_result.get('offers', []) if x['monetization_type'] in ['flatrate', 'free', 'ads']]))"
   ]
  },
  {
   "cell_type": "code",
   "execution_count": 24,
   "metadata": {},
   "outputs": [
    {
     "data": {
      "text/plain": [
       "dict_keys(['jw_entity_id', 'id', 'title', 'full_path', 'full_paths', 'poster', 'poster_blur_hash', 'original_release_year', 'object_type', 'scoring'])"
      ]
     },
     "execution_count": 24,
     "metadata": {},
     "output_type": "execute_result"
    }
   ],
   "source": [
    "first_result.keys()"
   ]
  },
  {
   "cell_type": "code",
   "execution_count": null,
   "metadata": {},
   "outputs": [],
   "source": [
    "if first_result.get('title') == get_from_table('FILM_TITLE', film_id, 'FILM_TITLE'):\n",
    "    provider_abbreviations = list(set([x['package_short_name'] for x in first_result['offers'] if x['monetization_type'] in ['flatrate', 'free', 'ads']]))\n",
    "    valid_abbr = [x for x in provider_abbreviations if x in my_streaming_services_abbr]\n",
    "    if len(valid_abbr) > 0:\n",
    "        insert_record_into_table({'FILM_ID':film_id}, 'FILMS_AVAILABLE_TO_STREAM')\n",
    "        valid_full = [abbr_to_full_dict.get(x) for x in valid_abbr]\n",
    "        film_streaming_services_df = pd.DataFrame(index=range(len(valid_abbr)))\n",
    "        film_streaming_services_df['FILM_ID'] = film_id\n",
    "        film_streaming_services_df['STREAMING_SERVICE_ABBR'] = valid_abbr\n",
    "        film_streaming_services_df['STREAMING_SERVICE_FULL'] = valid_full\n",
    "        df_to_table(film_streaming_services_df, 'FILM_STREAMING_SERVICES', replace_append='append', verbose=True)"
   ]
  }
 ],
 "metadata": {
  "kernelspec": {
   "display_name": "letterboxd-env",
   "language": "python",
   "name": "python3"
  },
  "language_info": {
   "codemirror_mode": {
    "name": "ipython",
    "version": 3
   },
   "file_extension": ".py",
   "mimetype": "text/x-python",
   "name": "python",
   "nbconvert_exporter": "python",
   "pygments_lexer": "ipython3",
   "version": "3.11.2"
  },
  "orig_nbformat": 4
 },
 "nbformat": 4,
 "nbformat_minor": 2
}
