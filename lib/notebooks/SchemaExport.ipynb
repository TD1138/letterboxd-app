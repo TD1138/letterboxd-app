{
 "cells": [
  {
   "cell_type": "code",
   "execution_count": 1,
   "id": "c5529183",
   "metadata": {},
   "outputs": [],
   "source": [
    "import sqlite3 as sql\n",
    "import os\n",
    "import dotenv\n",
    "\n",
    "dotenv.load_dotenv(override=True)\n",
    "db_conn = sql.connect(os.getenv('WORKING_DB'))\n",
    "cursor = db_conn.cursor()\n",
    "cursor.execute(\"SELECT sql FROM sqlite_master WHERE type IN ('table', 'view') AND sql NOT NULL;\")\n",
    "with open(\"schema.sql\", \"w\", encoding=\"utf-8\") as f:\n",
    "    for row in cursor.fetchall():\n",
    "        f.write(row[0] + \";\\n\\n\")"
   ]
  }
 ],
 "metadata": {
  "kernelspec": {
   "display_name": "letterboxd-env",
   "language": "python",
   "name": "python3"
  },
  "language_info": {
   "codemirror_mode": {
    "name": "ipython",
    "version": 3
   },
   "file_extension": ".py",
   "mimetype": "text/x-python",
   "name": "python",
   "nbconvert_exporter": "python",
   "pygments_lexer": "ipython3",
   "version": "3.10.11"
  }
 },
 "nbformat": 4,
 "nbformat_minor": 5
}
