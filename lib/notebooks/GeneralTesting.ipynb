{
 "cells": [
  {
   "cell_type": "code",
   "execution_count": 28,
   "metadata": {},
   "outputs": [],
   "source": [
    "import numpy as np\n",
    "from datetime import datetime\n",
    "from dotenv import load_dotenv\n",
    "import sys\n",
    "sys.path.insert(0, '../data_prep')\n",
    "from export_utils import get_all_export_folders, cleanup_exports_folder"
   ]
  },
  {
   "cell_type": "code",
   "execution_count": 4,
   "metadata": {},
   "outputs": [
    {
     "data": {
      "text/plain": [
       "True"
      ]
     },
     "execution_count": 4,
     "metadata": {},
     "output_type": "execute_result"
    }
   ],
   "source": [
    "load_dotenv()"
   ]
  },
  {
   "cell_type": "code",
   "execution_count": 6,
   "metadata": {},
   "outputs": [
    {
     "data": {
      "text/plain": [
       "['letterboxd-td1138-2023-04-05-09-18-utc',\n",
       " 'letterboxd-td1138-2023-06-02-14-42-utc',\n",
       " 'letterboxd-td1138-2023-06-13-16-42-utc',\n",
       " 'letterboxd-td1138-2023-06-30-14-36-utc',\n",
       " 'letterboxd-td1138-2023-07-13-09-10-utc',\n",
       " 'letterboxd-td1138-2023-07-31-23-48-utc',\n",
       " 'letterboxd-td1138-2023-08-11-16-01-utc',\n",
       " 'letterboxd-td1138-2023-08-31-09-05-utc',\n",
       " 'letterboxd-td1138-2023-09-14-23-07-utc',\n",
       " 'letterboxd-td1138-2023-09-28-16-50-utc',\n",
       " 'letterboxd-td1138-2023-10-21-21-19-utc',\n",
       " 'letterboxd-td1138-2023-11-07-17-07-utc',\n",
       " 'letterboxd-td1138-2024-01-03-17-10-utc',\n",
       " 'letterboxd-td1138-2024-02-01-23-30-utc',\n",
       " 'letterboxd-td1138-2024-02-06-09-23-utc',\n",
       " 'letterboxd-td1138-2024-02-12-08-30-utc',\n",
       " 'letterboxd-td1138-2024-02-19-08-30-utc',\n",
       " 'letterboxd-td1138-2024-02-20-08-33-utc',\n",
       " 'letterboxd-td1138-2024-02-21-08-32-utc',\n",
       " 'letterboxd-td1138-2024-02-22-08-32-utc',\n",
       " 'letterboxd-td1138-2024-02-23-08-33-utc']"
      ]
     },
     "execution_count": 6,
     "metadata": {},
     "output_type": "execute_result"
    }
   ],
   "source": [
    "all_export_folders = get_all_export_folders()\n",
    "all_export_folders"
   ]
  },
  {
   "cell_type": "code",
   "execution_count": 31,
   "metadata": {},
   "outputs": [
    {
     "data": {
      "text/plain": [
       "[datetime.datetime(2023, 4, 5, 0, 0),\n",
       " datetime.datetime(2023, 6, 2, 0, 0),\n",
       " datetime.datetime(2023, 6, 13, 0, 0),\n",
       " datetime.datetime(2023, 6, 30, 0, 0),\n",
       " datetime.datetime(2023, 7, 13, 0, 0),\n",
       " datetime.datetime(2023, 7, 31, 0, 0),\n",
       " datetime.datetime(2023, 8, 11, 0, 0),\n",
       " datetime.datetime(2023, 8, 31, 0, 0),\n",
       " datetime.datetime(2023, 9, 14, 0, 0),\n",
       " datetime.datetime(2023, 9, 28, 0, 0),\n",
       " datetime.datetime(2023, 10, 21, 0, 0),\n",
       " datetime.datetime(2023, 11, 7, 0, 0),\n",
       " datetime.datetime(2024, 1, 3, 0, 0),\n",
       " datetime.datetime(2024, 2, 1, 0, 0),\n",
       " datetime.datetime(2024, 2, 6, 0, 0),\n",
       " datetime.datetime(2024, 2, 12, 0, 0),\n",
       " datetime.datetime(2024, 2, 19, 0, 0),\n",
       " datetime.datetime(2024, 2, 20, 0, 0),\n",
       " datetime.datetime(2024, 2, 21, 0, 0),\n",
       " datetime.datetime(2024, 2, 22, 0, 0),\n",
       " datetime.datetime(2024, 2, 23, 0, 0)]"
      ]
     },
     "execution_count": 31,
     "metadata": {},
     "output_type": "execute_result"
    }
   ],
   "source": [
    "all_dates = [x.replace('letterboxd-td1138-', '')[:10] for x in all_export_folders]\n",
    "all_dates = [datetime.strptime(x, '%Y-%m-%d') for x in all_dates]\n",
    "all_dates"
   ]
  },
  {
   "cell_type": "code",
   "execution_count": 77,
   "metadata": {},
   "outputs": [],
   "source": []
  },
  {
   "cell_type": "code",
   "execution_count": 83,
   "metadata": {},
   "outputs": [
    {
     "data": {
      "text/plain": [
       "[58, 11, 17, 13, 18, 11, 20, 14, 14, 23, 17, 57, 29, 5, 6, 7, 1, 1, 1, 1]"
      ]
     },
     "execution_count": 83,
     "metadata": {},
     "output_type": "execute_result"
    }
   ],
   "source": [
    "diffs"
   ]
  },
  {
   "cell_type": "code",
   "execution_count": 87,
   "metadata": {},
   "outputs": [
    {
     "name": "stdout",
     "output_type": "stream",
     "text": [
      "[58, 11, 17, 13, 18, 11, 20, 14, 14, 23, 17, 57, 34, 6, 7, 1, 1, 1, 1]\n",
      "[datetime.datetime(2023, 4, 5, 0, 0), datetime.datetime(2023, 6, 2, 0, 0), datetime.datetime(2023, 6, 13, 0, 0), datetime.datetime(2023, 6, 30, 0, 0), datetime.datetime(2023, 7, 13, 0, 0), datetime.datetime(2023, 7, 31, 0, 0), datetime.datetime(2023, 8, 11, 0, 0), datetime.datetime(2023, 8, 31, 0, 0), datetime.datetime(2023, 9, 14, 0, 0), datetime.datetime(2023, 9, 28, 0, 0), datetime.datetime(2023, 10, 21, 0, 0), datetime.datetime(2023, 11, 7, 0, 0), datetime.datetime(2024, 1, 3, 0, 0), datetime.datetime(2024, 2, 6, 0, 0), datetime.datetime(2024, 2, 12, 0, 0), datetime.datetime(2024, 2, 19, 0, 0), datetime.datetime(2024, 2, 20, 0, 0), datetime.datetime(2024, 2, 21, 0, 0), datetime.datetime(2024, 2, 22, 0, 0), datetime.datetime(2024, 2, 23, 0, 0)]\n",
      "[58, 11, 17, 13, 18, 11, 20, 14, 14, 23, 17, 57, 40, 7, 1, 1, 1, 1]\n",
      "[datetime.datetime(2023, 4, 5, 0, 0), datetime.datetime(2023, 6, 2, 0, 0), datetime.datetime(2023, 6, 13, 0, 0), datetime.datetime(2023, 6, 30, 0, 0), datetime.datetime(2023, 7, 13, 0, 0), datetime.datetime(2023, 7, 31, 0, 0), datetime.datetime(2023, 8, 11, 0, 0), datetime.datetime(2023, 8, 31, 0, 0), datetime.datetime(2023, 9, 14, 0, 0), datetime.datetime(2023, 9, 28, 0, 0), datetime.datetime(2023, 10, 21, 0, 0), datetime.datetime(2023, 11, 7, 0, 0), datetime.datetime(2024, 1, 3, 0, 0), datetime.datetime(2024, 2, 12, 0, 0), datetime.datetime(2024, 2, 19, 0, 0), datetime.datetime(2024, 2, 20, 0, 0), datetime.datetime(2024, 2, 21, 0, 0), datetime.datetime(2024, 2, 22, 0, 0), datetime.datetime(2024, 2, 23, 0, 0)]\n",
      "[58, 11, 17, 13, 18, 11, 20, 14, 14, 23, 17, 57, 40, 8, 1, 1, 1]\n",
      "[datetime.datetime(2023, 4, 5, 0, 0), datetime.datetime(2023, 6, 2, 0, 0), datetime.datetime(2023, 6, 13, 0, 0), datetime.datetime(2023, 6, 30, 0, 0), datetime.datetime(2023, 7, 13, 0, 0), datetime.datetime(2023, 7, 31, 0, 0), datetime.datetime(2023, 8, 11, 0, 0), datetime.datetime(2023, 8, 31, 0, 0), datetime.datetime(2023, 9, 14, 0, 0), datetime.datetime(2023, 9, 28, 0, 0), datetime.datetime(2023, 10, 21, 0, 0), datetime.datetime(2023, 11, 7, 0, 0), datetime.datetime(2024, 1, 3, 0, 0), datetime.datetime(2024, 2, 12, 0, 0), datetime.datetime(2024, 2, 20, 0, 0), datetime.datetime(2024, 2, 21, 0, 0), datetime.datetime(2024, 2, 22, 0, 0), datetime.datetime(2024, 2, 23, 0, 0)]\n",
      "[58, 11, 17, 13, 18, 11, 20, 14, 14, 23, 17, 57, 40, 9, 1, 1]\n",
      "[datetime.datetime(2023, 4, 5, 0, 0), datetime.datetime(2023, 6, 2, 0, 0), datetime.datetime(2023, 6, 13, 0, 0), datetime.datetime(2023, 6, 30, 0, 0), datetime.datetime(2023, 7, 13, 0, 0), datetime.datetime(2023, 7, 31, 0, 0), datetime.datetime(2023, 8, 11, 0, 0), datetime.datetime(2023, 8, 31, 0, 0), datetime.datetime(2023, 9, 14, 0, 0), datetime.datetime(2023, 9, 28, 0, 0), datetime.datetime(2023, 10, 21, 0, 0), datetime.datetime(2023, 11, 7, 0, 0), datetime.datetime(2024, 1, 3, 0, 0), datetime.datetime(2024, 2, 12, 0, 0), datetime.datetime(2024, 2, 21, 0, 0), datetime.datetime(2024, 2, 22, 0, 0), datetime.datetime(2024, 2, 23, 0, 0)]\n",
      "[58, 11, 17, 13, 18, 11, 20, 14, 14, 23, 17, 57, 40, 10, 1]\n",
      "[datetime.datetime(2023, 4, 5, 0, 0), datetime.datetime(2023, 6, 2, 0, 0), datetime.datetime(2023, 6, 13, 0, 0), datetime.datetime(2023, 6, 30, 0, 0), datetime.datetime(2023, 7, 13, 0, 0), datetime.datetime(2023, 7, 31, 0, 0), datetime.datetime(2023, 8, 11, 0, 0), datetime.datetime(2023, 8, 31, 0, 0), datetime.datetime(2023, 9, 14, 0, 0), datetime.datetime(2023, 9, 28, 0, 0), datetime.datetime(2023, 10, 21, 0, 0), datetime.datetime(2023, 11, 7, 0, 0), datetime.datetime(2024, 1, 3, 0, 0), datetime.datetime(2024, 2, 12, 0, 0), datetime.datetime(2024, 2, 22, 0, 0), datetime.datetime(2024, 2, 23, 0, 0)]\n",
      "[58, 11, 17, 13, 18, 11, 20, 14, 14, 23, 17, 57, 40, 11]\n",
      "[datetime.datetime(2023, 4, 5, 0, 0), datetime.datetime(2023, 6, 2, 0, 0), datetime.datetime(2023, 6, 13, 0, 0), datetime.datetime(2023, 6, 30, 0, 0), datetime.datetime(2023, 7, 13, 0, 0), datetime.datetime(2023, 7, 31, 0, 0), datetime.datetime(2023, 8, 11, 0, 0), datetime.datetime(2023, 8, 31, 0, 0), datetime.datetime(2023, 9, 14, 0, 0), datetime.datetime(2023, 9, 28, 0, 0), datetime.datetime(2023, 10, 21, 0, 0), datetime.datetime(2023, 11, 7, 0, 0), datetime.datetime(2024, 1, 3, 0, 0), datetime.datetime(2024, 2, 12, 0, 0), datetime.datetime(2024, 2, 23, 0, 0)]\n"
     ]
    }
   ],
   "source": [
    "\n",
    "new_all_dates = all_dates.copy()\n",
    "diffs = [(new_all_dates[n+1]-x).days for n, x in enumerate(new_all_dates) if n+1 < len(new_all_dates)]\n",
    "\n",
    "while max([1 if x <7 else 0 for x in diffs]) >0:\n",
    "    new_all_dates.pop(min([n for n, i in enumerate(diffs) if i < 7]))\n",
    "    diffs = [(new_all_dates[n+1]-x).days for n, x in enumerate(new_all_dates) if n+1 < len(new_all_dates)]\n",
    "    print(diffs)\n",
    "    print(new_all_dates)"
   ]
  },
  {
   "cell_type": "code",
   "execution_count": 89,
   "metadata": {},
   "outputs": [
    {
     "data": {
      "text/plain": [
       "[(datetime.datetime(2023, 4, 5, 0, 0), 58),\n",
       " (datetime.datetime(2023, 6, 2, 0, 0), 11),\n",
       " (datetime.datetime(2023, 6, 13, 0, 0), 17),\n",
       " (datetime.datetime(2023, 6, 30, 0, 0), 13),\n",
       " (datetime.datetime(2023, 7, 13, 0, 0), 18),\n",
       " (datetime.datetime(2023, 7, 31, 0, 0), 11),\n",
       " (datetime.datetime(2023, 8, 11, 0, 0), 20),\n",
       " (datetime.datetime(2023, 8, 31, 0, 0), 14),\n",
       " (datetime.datetime(2023, 9, 14, 0, 0), 14),\n",
       " (datetime.datetime(2023, 9, 28, 0, 0), 23),\n",
       " (datetime.datetime(2023, 10, 21, 0, 0), 17),\n",
       " (datetime.datetime(2023, 11, 7, 0, 0), 57),\n",
       " (datetime.datetime(2024, 1, 3, 0, 0), 40),\n",
       " (datetime.datetime(2024, 2, 12, 0, 0), 11)]"
      ]
     },
     "execution_count": 89,
     "metadata": {},
     "output_type": "execute_result"
    }
   ],
   "source": [
    "[(x, y) for x, y in zip(new_all_dates, diffs)]"
   ]
  },
  {
   "cell_type": "code",
   "execution_count": 92,
   "metadata": {},
   "outputs": [
    {
     "data": {
      "text/plain": [
       "[(datetime.datetime(2023, 4, 5, 0, 0), 58),\n",
       " (datetime.datetime(2023, 6, 2, 0, 0), 11),\n",
       " (datetime.datetime(2023, 6, 13, 0, 0), 17),\n",
       " (datetime.datetime(2023, 6, 30, 0, 0), 13),\n",
       " (datetime.datetime(2023, 7, 13, 0, 0), 18),\n",
       " (datetime.datetime(2023, 7, 31, 0, 0), 11),\n",
       " (datetime.datetime(2023, 8, 11, 0, 0), 20),\n",
       " (datetime.datetime(2023, 8, 31, 0, 0), 14),\n",
       " (datetime.datetime(2023, 9, 14, 0, 0), 14),\n",
       " (datetime.datetime(2023, 9, 28, 0, 0), 23),\n",
       " (datetime.datetime(2023, 10, 21, 0, 0), 17),\n",
       " (datetime.datetime(2023, 11, 7, 0, 0), 57),\n",
       " (datetime.datetime(2024, 1, 3, 0, 0), 29),\n",
       " (datetime.datetime(2024, 2, 1, 0, 0), 5),\n",
       " (datetime.datetime(2024, 2, 6, 0, 0), 6),\n",
       " (datetime.datetime(2024, 2, 12, 0, 0), 7),\n",
       " (datetime.datetime(2024, 2, 19, 0, 0), 1),\n",
       " (datetime.datetime(2024, 2, 20, 0, 0), 1),\n",
       " (datetime.datetime(2024, 2, 21, 0, 0), 1),\n",
       " (datetime.datetime(2024, 2, 22, 0, 0), 1)]"
      ]
     },
     "execution_count": 92,
     "metadata": {},
     "output_type": "execute_result"
    }
   ],
   "source": [
    "diffs_og = [(all_dates[n+1]-x).days for n, x in enumerate(all_dates) if n+1 < len(all_dates)]\n",
    "\n",
    "[(x, y) for x, y in zip(all_dates, diffs_og)]"
   ]
  }
 ],
 "metadata": {
  "kernelspec": {
   "display_name": "letterboxd-env",
   "language": "python",
   "name": "python3"
  },
  "language_info": {
   "codemirror_mode": {
    "name": "ipython",
    "version": 3
   },
   "file_extension": ".py",
   "mimetype": "text/x-python",
   "name": "python",
   "nbconvert_exporter": "python",
   "pygments_lexer": "ipython3",
   "version": "3.11.2"
  },
  "orig_nbformat": 4
 },
 "nbformat": 4,
 "nbformat_minor": 2
}
