{
 "cells": [
  {
   "cell_type": "code",
   "execution_count": 120,
   "metadata": {},
   "outputs": [
    {
     "data": {
      "text/plain": [
       "True"
      ]
     },
     "execution_count": 120,
     "metadata": {},
     "output_type": "execute_result"
    }
   ],
   "source": [
    "import os\n",
    "import pandas as pd\n",
    "import sys\n",
    "sys.path.insert(0, '../data_prep')\n",
    "from tmdbv3api import TMDb\n",
    "from tmdbv3api import Movie, TV\n",
    "from sqlite_utils import get_from_table, delete_records, insert_record_into_table, df_to_table\n",
    "from dotenv import load_dotenv\n",
    "\n",
    "load_dotenv()"
   ]
  },
  {
   "cell_type": "code",
   "execution_count": 121,
   "metadata": {},
   "outputs": [],
   "source": [
    "tmdb_api_key = os.getenv('TMDB_API_KEY')\n",
    "tmdb = TMDb()\n",
    "tmdb.api_key = tmdb_api_key"
   ]
  },
  {
   "cell_type": "code",
   "execution_count": 122,
   "metadata": {},
   "outputs": [],
   "source": [
    "attrs = {\n",
    "    'belongs_to_collection': None,\n",
    "    'budget': None,\n",
    "    'original_language': 'languages',\n",
    "    'popularity': 'popularity',\n",
    "    'release_date': 'first_air_date',\n",
    "    'revenue': None,\n",
    "    'runtime': ['episode_run_time', 'number_of_episodes'],\n",
    "    'status': 'status',\n",
    "    'vote_average': 'vote_average',\n",
    "    'vote_count': 'vote_count',\n",
    "    'keywords': 'keywords',\n",
    "    'casts': 'credits'\n",
    "}"
   ]
  },
  {
   "cell_type": "code",
   "execution_count": 125,
   "metadata": {},
   "outputs": [],
   "source": [
    "def create_movie_metadata_dict(film_id):\n",
    "    film_title = get_from_table('FILM_TITLE', film_id, 'FILM_TITLE')\n",
    "    tmdb_id = get_from_table('TMDB_ID', film_id, 'TMDB_ID')\n",
    "    content_type = get_from_table('CONTENT_TYPE', film_id, 'CONTENT_TYPE')\n",
    "    print('Film ID is \"{}\", title is \"{}\", and TMDB id is \"{}\", while content type is \"{}\"'.format(film_id, film_title, tmdb_id, content_type))\n",
    "    movie_metadata_dict = {'FILM_ID': film_id}\n",
    "    if content_type == 'movie':\n",
    "        movie = Movie()\n",
    "        try:\n",
    "            details = movie.details(tmdb_id)\n",
    "            for k in attrs:\n",
    "                movie_metadata_dict[k] = details.get(k, None)\n",
    "        except:\n",
    "            None\n",
    "    elif content_type == 'tv':\n",
    "        tv = TV()\n",
    "        details = tv.details(tmdb_id, 'credits,keywords')\n",
    "        for k in attrs:\n",
    "            if type(attrs[k]) == list:\n",
    "                movie_metadata_dict[k] = [details.get(x, None) for x in attrs[k]]\n",
    "            else:\n",
    "                movie_metadata_dict[k] = details.get(attrs[k], None)\n",
    "        movie_metadata_dict['original_language'] = movie_metadata_dict['original_language'][0]\n",
    "        movie_metadata_dict['runtime'] = movie_metadata_dict['runtime'][0][0] * movie_metadata_dict['runtime'][1]\n",
    "        movie_metadata_dict['status'] = movie_metadata_dict['status'].replace('Returning Series', 'Released').replace('Ended', 'Released')\n",
    "    else:\n",
    "        details = {}\n",
    "    return {'film_title': film_title, 'tmdb_id': tmdb_id, 'content_type':content_type, 'movie_metadata_dict': movie_metadata_dict, 'details': details}"
   ]
  },
  {
   "cell_type": "code",
   "execution_count": 127,
   "metadata": {},
   "outputs": [
    {
     "name": "stdout",
     "output_type": "stream",
     "text": [
      "Film ID is \"f_0q3Fi\", title is \"Cursed Films\", and TMDB id is \"101137\", while content type is \"tv\"\n"
     ]
    },
    {
     "data": {
      "text/plain": [
       "{'film_title': 'Cursed Films',\n",
       " 'tmdb_id': '101137',\n",
       " 'content_type': 'tv',\n",
       " 'movie_metadata_dict': {'FILM_ID': 'f_0q3Fi',\n",
       "  'belongs_to_collection': None,\n",
       "  'budget': None,\n",
       "  'original_language': 'en',\n",
       "  'popularity': 4.02,\n",
       "  'release_date': '2020-04-02',\n",
       "  'revenue': None,\n",
       "  'runtime': 290,\n",
       "  'status': 'Returning Series',\n",
       "  'vote_average': 7.517,\n",
       "  'vote_count': 29,\n",
       "  'keywords': {'results': []},\n",
       "  'casts': {'cast': [], 'crew': [{'adult': False, 'gender': 2, 'id': 937311, 'known_for_department': 'Directing', 'name': 'Jay Cheel', 'original_name': 'Jay Cheel', 'popularity': 0.652, 'profile_path': '/zGywxWJ1gpwIeyXSCa8ow3b42gV.jpg', 'credit_id': '609628fc54508d003d0cb715', 'department': 'Directing', 'job': 'Director'}, {'adult': False, 'gender': 2, 'id': 937311, 'known_for_department': 'Directing', 'name': 'Jay Cheel', 'original_name': 'Jay Cheel', 'popularity': 0.652, 'profile_path': '/zGywxWJ1gpwIeyXSCa8ow3b42gV.jpg', 'credit_id': '609629c2dd2589003cebc2ca', 'department': 'Editing', 'job': 'Editor'}, {'adult': False, 'gender': 2, 'id': 937311, 'known_for_department': 'Directing', 'name': 'Jay Cheel', 'original_name': 'Jay Cheel', 'popularity': 0.652, 'profile_path': '/zGywxWJ1gpwIeyXSCa8ow3b42gV.jpg', 'credit_id': '627de254b0cd20004fab2095', 'department': 'Writing', 'job': 'Writer'}, {'adult': False, 'gender': 2, 'id': 1273512, 'known_for_department': 'Production', 'name': 'Jared Raab', 'original_name': 'Jared Raab', 'popularity': 0.6, 'profile_path': None, 'credit_id': '6281d2f920e6a57aa3744ca7', 'department': 'Crew', 'job': 'Cinematography'}]}},\n",
       " 'details': {'adult': False, 'backdrop_path': '/mh0b9zgvRcaKfKcWgA6faplisR4.jpg', 'created_by': [{'id': 937311, 'credit_id': '5e9ca21dd18fb9001d90c943', 'name': 'Jay Cheel', 'gender': 2, 'profile_path': '/zGywxWJ1gpwIeyXSCa8ow3b42gV.jpg'}], 'episode_run_time': [29], 'first_air_date': '2020-04-02', 'genres': [{'id': 99, 'name': 'Documentary'}], 'homepage': 'https://www.shudder.com/series/watch/cursed-films/62bd7871627dfc6b', 'id': 101137, 'in_production': True, 'languages': ['en'], 'last_air_date': '2022-05-05', 'last_episode_to_air': {'id': 3662255, 'name': 'Cannibal Holocaust', 'overview': 'A look into the making of what is arguably the most controversial films ever produced: Cannibal Holocaust.', 'vote_average': 0.0, 'vote_count': 0, 'air_date': '2022-05-05', 'episode_number': 5, 'production_code': '', 'runtime': 44, 'season_number': 2, 'show_id': 101137, 'still_path': None}, 'name': 'Cursed Films', 'next_episode_to_air': None, 'networks': [{'id': 2949, 'logo_path': '/Ap2jtXPy3QlLMi1GYLtasq7VoN3.png', 'name': 'Shudder', 'origin_country': 'US'}], 'number_of_episodes': 10, 'number_of_seasons': 2, 'origin_country': ['US'], 'original_language': 'en', 'original_name': 'Cursed Films', 'overview': 'A documentary series exploring the myths and legends behind some of Hollywood’s notoriously “cursed” horror film productions. From plane accidents and bombings during the making of The Omen, to the rumored use of real human skeletons on the set of Poltergeist, these stories are legendary amongst film fans and filmmakers alike. But where does the truth lie?', 'popularity': 4.02, 'poster_path': '/qrdhQ2jVx8Ewu33ahp7HbhT1hHn.jpg', 'production_companies': [{'id': 16038, 'logo_path': None, 'name': 'First Love Films', 'origin_country': ''}], 'production_countries': [{'iso_3166_1': 'US', 'name': 'United States of America'}], 'seasons': [{'air_date': '2020-04-02', 'episode_count': 5, 'id': 146324, 'name': 'Season 1', 'overview': '', 'poster_path': '/zWMSeZhvTXW6j5WvLQjWR1c696l.jpg', 'season_number': 1}, {'air_date': '2022-04-07', 'episode_count': 5, 'id': 287512, 'name': 'Season 2', 'overview': '', 'poster_path': '/1gNQDY7PZXfqdRgTH6VKYhPGoja.jpg', 'season_number': 2}], 'spoken_languages': [{'english_name': 'English', 'iso_639_1': 'en', 'name': 'English'}], 'status': 'Returning Series', 'tagline': '', 'type': 'Documentary', 'vote_average': 7.517, 'vote_count': 29, 'credits': {'cast': [], 'crew': [{'adult': False, 'gender': 2, 'id': 937311, 'known_for_department': 'Directing', 'name': 'Jay Cheel', 'original_name': 'Jay Cheel', 'popularity': 0.652, 'profile_path': '/zGywxWJ1gpwIeyXSCa8ow3b42gV.jpg', 'credit_id': '609628fc54508d003d0cb715', 'department': 'Directing', 'job': 'Director'}, {'adult': False, 'gender': 2, 'id': 937311, 'known_for_department': 'Directing', 'name': 'Jay Cheel', 'original_name': 'Jay Cheel', 'popularity': 0.652, 'profile_path': '/zGywxWJ1gpwIeyXSCa8ow3b42gV.jpg', 'credit_id': '609629c2dd2589003cebc2ca', 'department': 'Editing', 'job': 'Editor'}, {'adult': False, 'gender': 2, 'id': 937311, 'known_for_department': 'Directing', 'name': 'Jay Cheel', 'original_name': 'Jay Cheel', 'popularity': 0.652, 'profile_path': '/zGywxWJ1gpwIeyXSCa8ow3b42gV.jpg', 'credit_id': '627de254b0cd20004fab2095', 'department': 'Writing', 'job': 'Writer'}, {'adult': False, 'gender': 2, 'id': 1273512, 'known_for_department': 'Production', 'name': 'Jared Raab', 'original_name': 'Jared Raab', 'popularity': 0.6, 'profile_path': None, 'credit_id': '6281d2f920e6a57aa3744ca7', 'department': 'Crew', 'job': 'Cinematography'}]}, 'keywords': {'results': []}}}"
      ]
     },
     "execution_count": 127,
     "metadata": {},
     "output_type": "execute_result"
    }
   ],
   "source": [
    "f_0q3Fi = create_movie_metadata_dict('f_0q3Fi')\n",
    "f_0q3Fi"
   ]
  },
  {
   "cell_type": "code",
   "execution_count": 87,
   "metadata": {},
   "outputs": [
    {
     "data": {
      "text/plain": [
       "'en'"
      ]
     },
     "execution_count": 87,
     "metadata": {},
     "output_type": "execute_result"
    }
   ],
   "source": [
    "f_01UTC['details']['original_language']"
   ]
  },
  {
   "cell_type": "code",
   "execution_count": 88,
   "metadata": {},
   "outputs": [
    {
     "name": "stdout",
     "output_type": "stream",
     "text": [
      "adult\n",
      "backdrop_path\n",
      "belongs_to_collection\n",
      "budget\n",
      "genres\n",
      "homepage\n",
      "id\n",
      "imdb_id\n",
      "original_language\n",
      "original_title\n",
      "overview\n",
      "popularity\n",
      "poster_path\n",
      "production_companies\n",
      "production_countries\n",
      "release_date\n",
      "revenue\n",
      "runtime\n",
      "spoken_languages\n",
      "status\n",
      "tagline\n",
      "title\n",
      "video\n",
      "vote_average\n",
      "vote_count\n",
      "videos\n",
      "trailers\n",
      "images\n",
      "casts\n",
      "translations\n",
      "keywords\n",
      "release_dates\n"
     ]
    }
   ],
   "source": [
    "for i in f_01UTC['details']:\n",
    "    print(i)"
   ]
  },
  {
   "cell_type": "code",
   "execution_count": 89,
   "metadata": {},
   "outputs": [
    {
     "data": {
      "text/plain": [
       "['en']"
      ]
     },
     "execution_count": 89,
     "metadata": {},
     "output_type": "execute_result"
    }
   ],
   "source": [
    "f_01U58['details']['languages']"
   ]
  },
  {
   "cell_type": "code",
   "execution_count": 118,
   "metadata": {},
   "outputs": [
    {
     "name": "stdout",
     "output_type": "stream",
     "text": [
      "Film ID is \"f_01U58\", title is \"Salem's Lot\", and TMDB id is \"16118\", while content type is \"tv\"\n"
     ]
    }
   ],
   "source": [
    "f_01U58_2 = create_movie_metadata_dict('f_01U58')"
   ]
  },
  {
   "cell_type": "code",
   "execution_count": 119,
   "metadata": {},
   "outputs": [
    {
     "data": {
      "text/plain": [
       "{'FILM_ID': 'f_01U58',\n",
       " 'belongs_to_collection': None,\n",
       " 'budget': None,\n",
       " 'original_language': 'en',\n",
       " 'popularity': 20.037,\n",
       " 'release_date': '1979-11-17',\n",
       " 'revenue': None,\n",
       " 'runtime': 184,\n",
       " 'status': 'Ended',\n",
       " 'vote_average': 6.9,\n",
       " 'vote_count': 383,\n",
       " 'keywords': {'results': [{'name': 'based on novel or book', 'id': 818}, {'name': 'vampire', 'id': 3133}, {'name': 'home', 'id': 1526}, {'name': 'return', 'id': 1571}, {'name': 'menace', 'id': 2250}, {'name': 'antiquary', 'id': 3095}, {'name': 'house', 'id': 6095}, {'name': 'miniseries', 'id': 11162}, {'name': 'writer', 'id': 13028}, {'name': 'new england', 'id': 41393}, {'name': 'hometown', 'id': 155808}, {'name': 'horror', 'id': 315058}]},\n",
       " 'casts': {'cast': [{'adult': False, 'gender': 2, 'id': 15956, 'known_for_department': 'Acting', 'name': 'David Soul', 'original_name': 'David Soul', 'popularity': 8.281, 'profile_path': '/y7fW77RzeqgBYeoTswsMfwy8FwI.jpg', 'character': 'Ben Mears', 'credit_id': '52584c96760ee34661008d4c', 'order': 0}, {'adult': False, 'gender': 2, 'id': 2091, 'known_for_department': 'Acting', 'name': 'James Mason', 'original_name': 'James Mason', 'popularity': 12.507, 'profile_path': '/ivmJl4jLgYoxI93EPgBehund505.jpg', 'character': 'Richard K. Straker', 'credit_id': '52584c96760ee34661008d3c', 'order': 1}, {'adult': False, 'gender': 2, 'id': 69070, 'known_for_department': 'Acting', 'name': 'Lance Kerwin', 'original_name': 'Lance Kerwin', 'popularity': 3.758, 'profile_path': '/3yg2UrvHsg7szu50kl7OggUIi2Y.jpg', 'character': 'Mark Petrie', 'credit_id': '52584c96760ee34661008dbc', 'order': 2}, {'adult': False, 'gender': 1, 'id': 7673, 'known_for_department': 'Acting', 'name': 'Bonnie Bedelia', 'original_name': 'Bonnie Bedelia', 'popularity': 15.365, 'profile_path': '/10JhoIaKHQGG0DNbQECTI4gHNn9.jpg', 'character': 'Susan Norton', 'credit_id': '52584c96760ee34661008d6c', 'order': 3}, {'adult': False, 'gender': 2, 'id': 2007, 'known_for_department': 'Acting', 'name': 'Lew Ayres', 'original_name': 'Lew Ayres', 'popularity': 3.566, 'profile_path': '/nNinKMWvSxrhiNMnMkbpUd4HEZO.jpg', 'character': 'Jason Burke', 'credit_id': '52584c96760ee34661008dac', 'order': 4}, {'adult': False, 'gender': 1, 'id': 121041, 'known_for_department': 'Acting', 'name': 'Julie Cobb', 'original_name': 'Julie Cobb', 'popularity': 3.023, 'profile_path': '/prvcvAH0v40WpdPdPBedTvEGqIA.jpg', 'character': 'Bonnie Sawyer', 'credit_id': '5a95f0179251417bd3000eca', 'order': 5}, {'adult': False, 'gender': 2, 'id': 3339, 'known_for_department': 'Acting', 'name': 'Elisha Cook Jr.', 'original_name': 'Elisha Cook Jr.', 'popularity': 2.421, 'profile_path': '/iOjQEbio1Asn19IDJqt08voTif0.jpg', 'character': \"Gordon 'Weasel' Phillips\", 'credit_id': '5a95f0179251417bd3000ecc', 'order': 6}, {'adult': False, 'gender': 2, 'id': 10477, 'known_for_department': 'Acting', 'name': 'George Dzundza', 'original_name': 'George Dzundza', 'popularity': 7.256, 'profile_path': '/wmnQQn0dFygl90M2N8tlWlpGHzV.jpg', 'character': 'Cully Sawyer', 'credit_id': '5a95f0179251417bd3000ece', 'order': 7}, {'adult': False, 'gender': 2, 'id': 70746, 'known_for_department': 'Acting', 'name': 'Ed Flanders', 'original_name': 'Ed Flanders', 'popularity': 2.061, 'profile_path': '/x88lHaesbu1ItCKIDnXn7VT8aTb.jpg', 'character': 'Dr. Bill Norton', 'credit_id': '52584c96760ee34661008d9c', 'order': 8}, {'adult': False, 'gender': 1, 'id': 124884, 'known_for_department': 'Acting', 'name': 'Clarissa Kaye-Mason', 'original_name': 'Clarissa Kaye-Mason', 'popularity': 2.222, 'profile_path': '/wlrvXursaxeqq2yGHWBBwHx5sOS.jpg', 'character': 'Majorie Glick', 'credit_id': '5a95f0179251417bd3000ed0', 'order': 9}, {'adult': False, 'gender': 2, 'id': 18071, 'known_for_department': 'Acting', 'name': 'Geoffrey Lewis', 'original_name': 'Geoffrey Lewis', 'popularity': 10.83, 'profile_path': '/codb8rrsNqnsq3e0MHkH3kAAJwg.jpg', 'character': 'Mike Ryerson', 'credit_id': '52584c96760ee34661008d8c', 'order': 10}, {'adult': False, 'gender': 2, 'id': 124885, 'known_for_department': 'Acting', 'name': 'Barney McFadden', 'original_name': 'Barney McFadden', 'popularity': 0.6, 'profile_path': None, 'character': 'Ned Tibbets', 'credit_id': '5a95f0179251417bd3000ed2', 'order': 11}, {'adult': False, 'gender': 2, 'id': 12521, 'known_for_department': 'Acting', 'name': 'Kenneth McMillan', 'original_name': 'Kenneth McMillan', 'popularity': 2.851, 'profile_path': '/iGRcxZOLPMCsgg06kYW1aVfxGqi.jpg', 'character': 'Constable Parkins Gillespie', 'credit_id': '52584c96760ee34661008d5c', 'order': 12}, {'adult': False, 'gender': 2, 'id': 20753, 'known_for_department': 'Acting', 'name': 'Fred Willard', 'original_name': 'Fred Willard', 'popularity': 4.115, 'profile_path': '/sHgg2W09DEdXB9W7bVYNGpHdLNE.jpg', 'character': 'Larry Crockett', 'credit_id': '5a95f0179251417bd3000ed4', 'order': 13}, {'adult': False, 'gender': 1, 'id': 3340, 'known_for_department': 'Acting', 'name': 'Marie Windsor', 'original_name': 'Marie Windsor', 'popularity': 8.063, 'profile_path': '/rBSWxRt3cbpg3IpCLCAiHy05DRL.jpg', 'character': 'Eva Miller', 'credit_id': '5a95f0179251417bd3000ed6', 'order': 14}, {'adult': False, 'gender': 2, 'id': 15972, 'known_for_department': 'Acting', 'name': 'Reggie Nalder', 'original_name': 'Reggie Nalder', 'popularity': 3.483, 'profile_path': '/qoBbcBYcH07KrnJ4p7CIe9BKuFM.jpg', 'character': 'Kurt Barlow', 'credit_id': '52584c96760ee34661008d7c', 'order': 15}, {'adult': False, 'gender': 1, 'id': 15746, 'known_for_department': 'Acting', 'name': 'Barbara Babcock', 'original_name': 'Barbara Babcock', 'popularity': 9.104, 'profile_path': '/wOB6OSPgFlyI3V1PtCTg7q8vrdW.jpg', 'character': 'June Petrie', 'credit_id': '63ade10bbe4b3600919ff8ed', 'order': 16}, {'adult': False, 'gender': 1, 'id': 32479, 'known_for_department': 'Acting', 'name': 'Bonnie Bartlett', 'original_name': 'Bonnie Bartlett', 'popularity': 4.533, 'profile_path': '/yz1MdbrxCAs5N1o0FouhnDWDAA7.jpg', 'character': 'Ann Norton', 'credit_id': '63ade1171f748b00c8b75726', 'order': 17}, {'adult': False, 'gender': 2, 'id': 119854, 'known_for_department': 'Acting', 'name': 'Joshua Bryant', 'original_name': 'Joshua Bryant', 'popularity': 1.914, 'profile_path': '/3BCGIAqpuoKyKHMhTlHpy7ZrJaW.jpg', 'character': 'Ted Petrie', 'credit_id': '63ade1258741c400bfdf1881', 'order': 18}, {'adult': False, 'gender': 2, 'id': 1339111, 'known_for_department': 'Acting', 'name': 'James Gallery', 'original_name': 'James Gallery', 'popularity': 0.6, 'profile_path': None, 'character': 'Father Donald Callahan', 'credit_id': '63ade1447ef3811f60859048', 'order': 19}, {'adult': False, 'gender': 2, 'id': 1392000, 'known_for_department': 'Acting', 'name': 'Robert Lussier', 'original_name': 'Robert Lussier', 'popularity': 0.756, 'profile_path': None, 'character': 'Deputy Constable Nolly Gardner', 'credit_id': '63ade15122af3e00b67d951f', 'order': 20}, {'adult': False, 'gender': 2, 'id': 19737, 'known_for_department': 'Acting', 'name': 'Brad Savage', 'original_name': 'Brad Savage', 'popularity': 4.386, 'profile_path': '/um1eexiXGXZESamRwP7omvlQHu4.jpg', 'character': 'Danny Glick', 'credit_id': '627452d151c01f005098ff3d', 'order': 21}, {'adult': False, 'gender': 2, 'id': 1217520, 'known_for_department': 'Acting', 'name': 'Ronnie Scribner', 'original_name': 'Ronnie Scribner', 'popularity': 1.96, 'profile_path': '/71ipKMJX3o9MuYWbkxEzy99fhw4.jpg', 'character': 'Ralphie Glick', 'credit_id': '63ade1605ad76b007dc69b8f', 'order': 22}, {'adult': False, 'gender': 2, 'id': 158944, 'known_for_department': 'Acting', 'name': 'Ned Wilson', 'original_name': 'Ned Wilson', 'popularity': 0.6, 'profile_path': None, 'character': 'Henry Glick', 'credit_id': '63ade16ec56d2d00f30e2acb', 'order': 23}], 'crew': [{'adult': False, 'gender': 2, 'id': 63905, 'known_for_department': 'Production', 'name': 'Richard Kobritz', 'original_name': 'Richard Kobritz', 'popularity': 0.6, 'profile_path': None, 'credit_id': '5a95f0189251417bd3000edd', 'department': 'Production', 'job': 'Producer'}, {'adult': False, 'gender': 2, 'id': 6779, 'known_for_department': 'Writing', 'name': 'Stirling Silliphant', 'original_name': 'Stirling Silliphant', 'popularity': 1.806, 'profile_path': '/iJ5AJl2CiNuSsxb94NhjFgvZDAu.jpg', 'credit_id': '5a95f0189251417bd3000edf', 'department': 'Production', 'job': 'Executive Producer'}, {'adult': False, 'gender': 2, 'id': 67492, 'known_for_department': 'Camera', 'name': 'Jules Brenner', 'original_name': 'Jules Brenner', 'popularity': 1.4, 'profile_path': None, 'credit_id': '5a95f0189251417bd3000ee3', 'department': 'Camera', 'job': 'Director of Photography'}, {'adult': False, 'gender': 0, 'id': 69071, 'known_for_department': 'Editing', 'name': 'Tom Pryor', 'original_name': 'Tom Pryor', 'popularity': 0.6, 'profile_path': None, 'credit_id': '5a95f0189251417bd3000ee5', 'department': 'Editing', 'job': 'Editor'}, {'adult': False, 'gender': 0, 'id': 46332, 'known_for_department': 'Editing', 'name': 'Carroll Sax', 'original_name': 'Carroll Sax', 'popularity': 0.6, 'profile_path': None, 'credit_id': '5a95f0189251417bd3000ee7', 'department': 'Editing', 'job': 'Editor'}, {'adult': False, 'gender': 2, 'id': 9579, 'known_for_department': 'Writing', 'name': 'Paul Monash', 'original_name': 'Paul Monash', 'popularity': 2.185, 'profile_path': None, 'credit_id': '604d775189f74900688e498d', 'department': 'Writing', 'job': 'Writer'}, {'adult': False, 'gender': 0, 'id': 1258116, 'known_for_department': 'Production', 'name': 'Anna Cottle', 'original_name': 'Anna Cottle', 'popularity': 0.6, 'profile_path': None, 'credit_id': '604d77b74284ea0028ffb50d', 'department': 'Production', 'job': 'Associate Producer'}, {'adult': False, 'gender': 0, 'id': 29330, 'known_for_department': 'Sound', 'name': 'Harry Sukman', 'original_name': 'Harry Sukman', 'popularity': 0.6, 'profile_path': None, 'credit_id': '604d77c7c3aa3f0029e77af9', 'department': 'Sound', 'job': 'Music'}, {'adult': False, 'gender': 0, 'id': 1424784, 'known_for_department': 'Art', 'name': 'Mort Rabinowitz', 'original_name': 'Mort Rabinowitz', 'popularity': 0.6, 'profile_path': None, 'credit_id': '604d77dafdf8b7004189c3e0', 'department': 'Art', 'job': 'Production Design'}, {'adult': False, 'gender': 2, 'id': 1344252, 'known_for_department': 'Art', 'name': 'Jerry Adams', 'original_name': 'Jerry Adams', 'popularity': 0.6, 'profile_path': None, 'credit_id': '604d77ed22e480006ad3c8d1', 'department': 'Art', 'job': 'Set Decoration'}, {'adult': False, 'gender': 2, 'id': 3027, 'known_for_department': 'Writing', 'name': 'Stephen King', 'original_name': 'Stephen King', 'popularity': 19.586, 'profile_path': '/7r5nEzNanuEhmxtpsKE1uCBU5Jd.jpg', 'credit_id': '5a95f0189251417bd3000ed9', 'department': 'Writing', 'job': 'Novel'}]}}"
      ]
     },
     "execution_count": 119,
     "metadata": {},
     "output_type": "execute_result"
    }
   ],
   "source": [
    "f_01U58_2['movie_metadata_dict']#['original_language']"
   ]
  },
  {
   "cell_type": "code",
   "execution_count": 90,
   "metadata": {},
   "outputs": [
    {
     "name": "stdout",
     "output_type": "stream",
     "text": [
      "Film ID is \"f_01U58\", title is \"Salem's Lot\", and TMDB id is \"16118\", while content type is \"tv\"\n",
      "adult\n",
      "backdrop_path\n",
      "created_by\n",
      "episode_run_time\n",
      "first_air_date\n",
      "genres\n",
      "homepage\n",
      "id\n",
      "in_production\n",
      "languages\n",
      "last_air_date\n",
      "last_episode_to_air\n",
      "name\n",
      "next_episode_to_air\n",
      "networks\n",
      "number_of_episodes\n",
      "number_of_seasons\n",
      "origin_country\n",
      "original_language\n",
      "original_name\n",
      "overview\n",
      "popularity\n",
      "poster_path\n",
      "production_companies\n",
      "production_countries\n",
      "seasons\n",
      "spoken_languages\n",
      "status\n",
      "tagline\n",
      "type\n",
      "vote_average\n",
      "vote_count\n",
      "credits\n",
      "keywords\n"
     ]
    }
   ],
   "source": [
    "f_01U58 = create_movie_metadata_dict('f_01U58')\n",
    "for i in f_01U58['details']:\n",
    "    print(i)"
   ]
  },
  {
   "cell_type": "code",
   "execution_count": 72,
   "metadata": {},
   "outputs": [
    {
     "data": {
      "text/plain": [
       "184"
      ]
     },
     "execution_count": 72,
     "metadata": {},
     "output_type": "execute_result"
    }
   ],
   "source": [
    "f_01U58['details']['episode_run_time'][0] * f_01U58['details']['number_of_episodes']"
   ]
  },
  {
   "cell_type": "code",
   "execution_count": 91,
   "metadata": {},
   "outputs": [
    {
     "data": {
      "text/plain": [
       "{'results': [{'name': 'based on novel or book', 'id': 818}, {'name': 'vampire', 'id': 3133}, {'name': 'home', 'id': 1526}, {'name': 'return', 'id': 1571}, {'name': 'menace', 'id': 2250}, {'name': 'antiquary', 'id': 3095}, {'name': 'house', 'id': 6095}, {'name': 'miniseries', 'id': 11162}, {'name': 'writer', 'id': 13028}, {'name': 'new england', 'id': 41393}, {'name': 'hometown', 'id': 155808}, {'name': 'horror', 'id': 315058}]}"
      ]
     },
     "execution_count": 91,
     "metadata": {},
     "output_type": "execute_result"
    }
   ],
   "source": [
    "f_01U58['details']['keywords']"
   ]
  },
  {
   "cell_type": "code",
   "execution_count": 48,
   "metadata": {},
   "outputs": [
    {
     "name": "stdout",
     "output_type": "stream",
     "text": [
      "Film ID is \"f_01U58\", title is \"Salem's Lot\", and TMDB id is \"16118\", while content type is \"tv\"\n"
     ]
    }
   ],
   "source": [
    "film_id = 'f_01U58'\n",
    "film_title = get_from_table('FILM_TITLE', film_id, 'FILM_TITLE')\n",
    "tmdb_id = get_from_table('TMDB_ID', film_id, 'TMDB_ID')\n",
    "content_type = get_from_table('CONTENT_TYPE', film_id, 'CONTENT_TYPE')\n",
    "print('Film ID is \"{}\", title is \"{}\", and TMDB id is \"{}\", while content type is \"{}\"'.format(film_id, film_title, tmdb_id, content_type))"
   ]
  },
  {
   "cell_type": "code",
   "execution_count": 92,
   "metadata": {},
   "outputs": [
    {
     "ename": "TMDbException",
     "evalue": "The resource you requested could not be found.",
     "output_type": "error",
     "traceback": [
      "\u001b[1;31m---------------------------------------------------------------------------\u001b[0m",
      "\u001b[1;31mTMDbException\u001b[0m                             Traceback (most recent call last)",
      "Cell \u001b[1;32mIn[92], line 2\u001b[0m\n\u001b[0;32m      1\u001b[0m tv \u001b[39m=\u001b[39m TV()\n\u001b[1;32m----> 2\u001b[0m details \u001b[39m=\u001b[39m tv\u001b[39m.\u001b[39mdetails(\u001b[39m'\u001b[39m\u001b[39mf_01U58\u001b[39m\u001b[39m'\u001b[39m, \u001b[39m'\u001b[39m\u001b[39mcredits,keywords,budget\u001b[39m\u001b[39m'\u001b[39m)\n",
      "File \u001b[1;32mc:\\Users\\tomdevine\\Desktop\\dev\\PersonalProjects\\letterboxd-app\\letterboxd-env\\Lib\\site-packages\\tmdbv3api\\objs\\tv.py:38\u001b[0m, in \u001b[0;36mTV.details\u001b[1;34m(self, show_id, append_to_response)\u001b[0m\n\u001b[0;32m     29\u001b[0m \u001b[39mdef\u001b[39;00m \u001b[39mdetails\u001b[39m(\n\u001b[0;32m     30\u001b[0m     \u001b[39mself\u001b[39m, show_id, append_to_response\u001b[39m=\u001b[39m\u001b[39m\"\u001b[39m\u001b[39mvideos,trailers,images,credits,translations\u001b[39m\u001b[39m\"\u001b[39m\n\u001b[0;32m     31\u001b[0m ):\n\u001b[0;32m     32\u001b[0m     \u001b[39m\"\"\"\u001b[39;00m\n\u001b[0;32m     33\u001b[0m \u001b[39m    Get the primary TV show details by id.\u001b[39;00m\n\u001b[0;32m     34\u001b[0m \u001b[39m    :param show_id:\u001b[39;00m\n\u001b[0;32m     35\u001b[0m \u001b[39m    :param append_to_response:\u001b[39;00m\n\u001b[0;32m     36\u001b[0m \u001b[39m    :return:\u001b[39;00m\n\u001b[0;32m     37\u001b[0m \u001b[39m    \"\"\"\u001b[39;00m\n\u001b[1;32m---> 38\u001b[0m     \u001b[39mreturn\u001b[39;00m AsObj(\n\u001b[0;32m     39\u001b[0m         \u001b[39m*\u001b[39m\u001b[39m*\u001b[39m\u001b[39mself\u001b[39m\u001b[39m.\u001b[39m_call(\n\u001b[0;32m     40\u001b[0m             \u001b[39mself\u001b[39m\u001b[39m.\u001b[39m_urls[\u001b[39m\"\u001b[39m\u001b[39mdetails\u001b[39m\u001b[39m\"\u001b[39m] \u001b[39m%\u001b[39m \u001b[39mstr\u001b[39m(show_id),\n\u001b[0;32m     41\u001b[0m             \u001b[39m\"\u001b[39m\u001b[39mappend_to_response=\u001b[39m\u001b[39m\"\u001b[39m \u001b[39m+\u001b[39m append_to_response,\n\u001b[0;32m     42\u001b[0m         )\n\u001b[0;32m     43\u001b[0m     )\n",
      "File \u001b[1;32mc:\\Users\\tomdevine\\Desktop\\dev\\PersonalProjects\\letterboxd-app\\letterboxd-env\\Lib\\site-packages\\tmdbv3api\\as_obj.py:9\u001b[0m, in \u001b[0;36mAsObj.__init__\u001b[1;34m(self, **entries)\u001b[0m\n\u001b[0;32m      7\u001b[0m \u001b[39mdef\u001b[39;00m \u001b[39m__init__\u001b[39m(\u001b[39mself\u001b[39m, \u001b[39m*\u001b[39m\u001b[39m*\u001b[39mentries):\n\u001b[0;32m      8\u001b[0m     \u001b[39mif\u001b[39;00m \u001b[39m\"\u001b[39m\u001b[39msuccess\u001b[39m\u001b[39m\"\u001b[39m \u001b[39min\u001b[39;00m entries \u001b[39mand\u001b[39;00m entries[\u001b[39m\"\u001b[39m\u001b[39msuccess\u001b[39m\u001b[39m\"\u001b[39m] \u001b[39mis\u001b[39;00m \u001b[39mFalse\u001b[39;00m:\n\u001b[1;32m----> 9\u001b[0m         \u001b[39mraise\u001b[39;00m TMDbException(entries[\u001b[39m\"\u001b[39m\u001b[39mstatus_message\u001b[39m\u001b[39m\"\u001b[39m])\n\u001b[0;32m     10\u001b[0m     \u001b[39mfor\u001b[39;00m key, value \u001b[39min\u001b[39;00m entries\u001b[39m.\u001b[39mitems():\n\u001b[0;32m     11\u001b[0m         \u001b[39mif\u001b[39;00m \u001b[39misinstance\u001b[39m(value, \u001b[39mlist\u001b[39m):\n",
      "\u001b[1;31mTMDbException\u001b[0m: The resource you requested could not be found."
     ]
    }
   ],
   "source": [
    "tv = TV()\n",
    "details = tv.details('f_01U58', 'credits,keywords,budget')"
   ]
  },
  {
   "cell_type": "code",
   "execution_count": null,
   "metadata": {},
   "outputs": [],
   "source": []
  }
 ],
 "metadata": {
  "kernelspec": {
   "display_name": "letterboxd-env",
   "language": "python",
   "name": "python3"
  },
  "language_info": {
   "codemirror_mode": {
    "name": "ipython",
    "version": 3
   },
   "file_extension": ".py",
   "mimetype": "text/x-python",
   "name": "python",
   "nbconvert_exporter": "python",
   "pygments_lexer": "ipython3",
   "version": "3.11.2"
  },
  "orig_nbformat": 4
 },
 "nbformat": 4,
 "nbformat_minor": 2
}
