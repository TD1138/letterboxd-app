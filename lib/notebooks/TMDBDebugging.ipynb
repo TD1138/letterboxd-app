{
 "cells": [
  {
   "cell_type": "code",
   "execution_count": 56,
   "metadata": {},
   "outputs": [
    {
     "data": {
      "text/plain": [
       "True"
      ]
     },
     "execution_count": 56,
     "metadata": {},
     "output_type": "execute_result"
    }
   ],
   "source": [
    "import os\n",
    "import pandas as pd\n",
    "import sys\n",
    "sys.path.insert(0, '../data_prep')\n",
    "from tmdbv3api import TMDb\n",
    "from tmdbv3api import Movie, TV, Collection, Person\n",
    "from sqlite_utils import get_from_table, delete_records, insert_record_into_table, df_to_table\n",
    "from dotenv import load_dotenv\n",
    "\n",
    "load_dotenv()"
   ]
  },
  {
   "cell_type": "code",
   "execution_count": 55,
   "metadata": {},
   "outputs": [],
   "source": [
    "tmdb_api_key = os.getenv('TMDB_API_KEY')\n",
    "tmdb = TMDb()\n",
    "tmdb.api_key = tmdb_api_key"
   ]
  },
  {
   "cell_type": "code",
   "execution_count": 46,
   "metadata": {},
   "outputs": [
    {
     "name": "stdout",
     "output_type": "stream",
     "text": [
      "Film ID is \"f_020Z2\", film title is \"There Will Be Blood\", tmdb_id is \"7345\" and url is https://boxd.it/20Z2\n"
     ]
    }
   ],
   "source": [
    "film_id = 'f_020Z2'\n",
    "film_title = get_from_table('FILM_TITLE', film_id, 'FILM_TITLE')\n",
    "tmdb_id = get_from_table('TMDB_ID', film_id, 'TMDB_ID')\n",
    "letterboxd_url = get_from_table('FILM_TITLE', film_id, 'LETTERBOXD_URL')\n",
    "print('Film ID is \"{}\", film title is \"{}\", tmdb_id is \"{}\" and url is {}'.format(film_id, film_title, tmdb_id, letterboxd_url))"
   ]
  },
  {
   "cell_type": "code",
   "execution_count": 47,
   "metadata": {},
   "outputs": [
    {
     "data": {
      "text/plain": [
       "{'adult': False, 'backdrop_path': '/8LRcCJjbQI552BMCuGgYqph8USS.jpg', 'belongs_to_collection': None, 'budget': 25000000, 'genres': [{'id': 18, 'name': 'Drama'}], 'homepage': '', 'id': 7345, 'imdb_id': 'tt0469494', 'original_language': 'en', 'original_title': 'There Will Be Blood', 'overview': \"Ruthless silver miner, turned oil prospector, Daniel Plainview, moves to oil-rich California. Using his son to project a trustworthy, family-man image, Plainview cons local landowners into selling him their valuable properties for a pittance. However, local preacher Eli Sunday suspects Plainview's motives and intentions, starting a slow-burning feud that threatens both their lives.\", 'popularity': 23.656, 'poster_path': '/fa0RDkAlCec0STeMNAhPaF89q6U.jpg', 'production_companies': [{'id': 838, 'logo_path': '/tcW3UqV46Mdq6GyaS1ydEDocEDF.png', 'name': 'Paramount Vantage', 'origin_country': 'US'}, {'id': 14, 'logo_path': '/m6AHu84oZQxvq7n1rsvMNJIAsMu.png', 'name': 'Miramax', 'origin_country': 'US'}, {'id': 178, 'logo_path': None, 'name': 'Ghoulardi Film Company', 'origin_country': 'US'}], 'production_countries': [{'iso_3166_1': 'US', 'name': 'United States of America'}], 'release_date': '2007-12-26', 'revenue': 77208711, 'runtime': 158, 'spoken_languages': [{'english_name': 'English', 'iso_639_1': 'en', 'name': 'English'}], 'status': 'Released', 'tagline': 'There Will Be Greed. There Will Be Vengeance.', 'title': 'There Will Be Blood', 'video': False, 'vote_average': 8.095, 'vote_count': 5708, 'videos': {'results': [{'iso_639_1': 'en', 'iso_3166_1': 'US', 'name': 'Official Trailer', 'key': '0FIm5ATyAY0', 'published_at': '2016-07-22T14:00:01.000Z', 'site': 'YouTube', 'size': 1080, 'type': 'Trailer', 'official': True, 'id': '5bb9cac0c3a3682418025d6d'}]}, 'trailers': {'quicktime': [], 'youtube': [{'name': 'Official Trailer', 'size': 'HD', 'source': '0FIm5ATyAY0', 'type': 'Trailer'}]}, 'images': {'backdrops': [], 'logos': [], 'posters': []}, 'casts': {'cast': [{'adult': False, 'gender': 2, 'id': 11856, 'known_for_department': 'Acting', 'name': 'Daniel Day-Lewis', 'original_name': 'Daniel Day-Lewis', 'popularity': 12.954, 'profile_path': '/3kNA9VcmymoEwT0btQ4bvMYxzcP.jpg', 'cast_id': 2, 'character': 'Daniel Plainview', 'credit_id': '52fe447bc3a36847f8098a27', 'order': 0}, {'adult': False, 'gender': 2, 'id': 17142, 'known_for_department': 'Acting', 'name': 'Paul Dano', 'original_name': 'Paul Dano', 'popularity': 32.95, 'profile_path': '/hGWZBC5dNrQJkcJ0JuhGp07eG6n.jpg', 'cast_id': 12, 'character': 'Paul Sunday / Eli Sunday', 'credit_id': '52fe447bc3a36847f8098a61', 'order': 1}, {'adult': False, 'gender': 2, 'id': 18916, 'known_for_department': 'Acting', 'name': \"Kevin J. O'Connor\", 'original_name': \"Kevin J. O'Connor\", 'popularity': 8.48, 'profile_path': '/1q5MnllB6jbwCgMaGistJ917RQL.jpg', 'cast_id': 13, 'character': 'Henry', 'credit_id': '52fe447bc3a36847f8098a65', 'order': 2}, {'adult': False, 'gender': 2, 'id': 8785, 'known_for_department': 'Acting', 'name': 'Ciarán Hinds', 'original_name': 'Ciarán Hinds', 'popularity': 14.883, 'profile_path': '/d8wLIX9VYgwXRGSp1gmUdUxmApv.jpg', 'cast_id': 14, 'character': 'Fletcher Hamilton', 'credit_id': '52fe447bc3a36847f8098a69', 'order': 3}, {'adult': False, 'gender': 2, 'id': 52564, 'known_for_department': 'Acting', 'name': 'Dillon Freasier', 'original_name': 'Dillon Freasier', 'popularity': 2.783, 'profile_path': '/pTm23xcMB2oLu6Mc5LNXkrXVdla.jpg', 'cast_id': 15, 'character': 'H.W. Plainview', 'credit_id': '52fe447bc3a36847f8098a6d', 'order': 4}, {'adult': False, 'gender': 0, 'id': 52565, 'known_for_department': 'Acting', 'name': 'Hope Elizabeth Reeves', 'original_name': 'Hope Elizabeth Reeves', 'popularity': 1.4, 'profile_path': '/bejWpYL6CZpahu1ZsPeu1gr60yE.jpg', 'cast_id': 16, 'character': 'Elizabeth', 'credit_id': '52fe447bc3a36847f8098a71', 'order': 5}, {'adult': False, 'gender': 1, 'id': 52566, 'known_for_department': 'Acting', 'name': 'Colleen Foy', 'original_name': 'Colleen Foy', 'popularity': 1.34, 'profile_path': '/A1TBRUWcicNpbyJWUIof5b9JoYB.jpg', 'cast_id': 17, 'character': 'Mary Sunday', 'credit_id': '52fe447bc3a36847f8098a75', 'order': 6}, {'adult': False, 'gender': 2, 'id': 8214, 'known_for_department': 'Acting', 'name': 'Barry Del Sherman', 'original_name': 'Barry Del Sherman', 'popularity': 5.293, 'profile_path': '/zXLTW52g9BW9CCQ5fzxoGNLDe8P.jpg', 'cast_id': 18, 'character': 'H. B. Ailman', 'credit_id': '52fe447bc3a36847f8098a79', 'order': 7}, {'adult': False, 'gender': 2, 'id': 53668, 'known_for_department': 'Acting', 'name': 'David Willis', 'original_name': 'David Willis', 'popularity': 2.145, 'profile_path': '/4OT7d0uTl1xU5fEDB4ogUYqhHKW.jpg', 'cast_id': 19, 'character': 'Abel Sunday', 'credit_id': '52fe447bc3a36847f8098a7d', 'order': 8}, {'adult': False, 'gender': 2, 'id': 53669, 'known_for_department': 'Acting', 'name': 'Hans Howes', 'original_name': 'Hans Howes', 'popularity': 1.856, 'profile_path': None, 'cast_id': 20, 'character': 'Mr. Bandy', 'credit_id': '52fe447bc3a36847f8098a81', 'order': 9}, {'adult': False, 'gender': 1, 'id': 53670, 'known_for_department': 'Acting', 'name': 'Sydney McCallister', 'original_name': 'Sydney McCallister', 'popularity': 1.094, 'profile_path': None, 'cast_id': 21, 'character': 'Mary Sunday (young)', 'credit_id': '52fe447bc3a36847f8098a85', 'order': 10}, {'adult': False, 'gender': 2, 'id': 1219029, 'known_for_department': 'Acting', 'name': 'Paul F. Tompkins', 'original_name': 'Paul F. Tompkins', 'popularity': 7.756, 'profile_path': '/nWAfT0mY4uTzQpZnPcMxRHnICCy.jpg', 'cast_id': 23, 'character': 'Prescott', 'credit_id': '53353aeec3a3682a940044a7', 'order': 11}, {'adult': False, 'gender': 2, 'id': 54711, 'known_for_department': 'Acting', 'name': 'Kevin Breznahan', 'original_name': 'Kevin Breznahan', 'popularity': 2.597, 'profile_path': '/4xQvli0Zks7ICEDzYwcljWbfxaT.jpg', 'cast_id': 40, 'character': 'Signal Hill Man (uncredited)', 'credit_id': '5810e9449251414f9b00b8de', 'order': 12}, {'adult': False, 'gender': 2, 'id': 30697, 'known_for_department': 'Acting', 'name': 'Jim Meskimen', 'original_name': 'Jim Meskimen', 'popularity': 4.526, 'profile_path': '/913aYSudoetrtOIA8tZPjOj9dTo.jpg', 'cast_id': 41, 'character': 'Signal Hill Married Man (uncredited)', 'credit_id': '5810e96c925141571e00b98a', 'order': 13}, {'adult': False, 'gender': 1, 'id': 1505845, 'known_for_department': 'Acting', 'name': 'Erica Sullivan', 'original_name': 'Erica Sullivan', 'popularity': 2.423, 'profile_path': '/mP3JpqkBeEwsRj6JTmAFXI7AKmx.jpg', 'cast_id': 42, 'character': 'Signal Hill Woman (uncredited)', 'credit_id': '5810e997c3a3687aa000bedf', 'order': 14}, {'adult': False, 'gender': 2, 'id': 164652, 'known_for_department': 'Acting', 'name': 'Randall Carver', 'original_name': 'Randall Carver', 'popularity': 2.559, 'profile_path': '/wefalQyOtJtqABYM93qBATqgZra.jpg', 'cast_id': 43, 'character': 'Mr. Bankside (uncredited)', 'credit_id': '5810e9cd9251414f9b00b947', 'order': 15}, {'adult': False, 'gender': 0, 'id': 1441776, 'known_for_department': 'Acting', 'name': 'James Downey', 'original_name': 'James Downey', 'popularity': 1.538, 'profile_path': '/yfQfIIC9h32ChUJSznFauSgg4m9.jpg', 'cast_id': 44, 'character': 'Al Rose (uncredited)', 'credit_id': '5810ead8c3a368798d00a71f', 'order': 16}, {'adult': False, 'gender': 2, 'id': 37204, 'known_for_department': 'Acting', 'name': 'David Warshofsky', 'original_name': 'David Warshofsky', 'popularity': 5.657, 'profile_path': '/pLABX1wyaVE4CcEZVmoM2Y5XbQU.jpg', 'cast_id': 45, 'character': 'H.M. Tilford (uncredited)', 'credit_id': '5810eb67c3a368747700a26c', 'order': 17}, {'adult': False, 'gender': 0, 'id': 1510796, 'known_for_department': 'Acting', 'name': 'Charles Thomas Doyle', 'original_name': 'Charles Thomas Doyle', 'popularity': 0.6, 'profile_path': None, 'cast_id': 46, 'character': 'J.J. Carter (uncredited)', 'credit_id': '5810eb8fc3a3687a9d00bcfa', 'order': 18}, {'adult': False, 'gender': 2, 'id': 221082, 'known_for_department': 'Acting', 'name': 'Russell Harvard', 'original_name': 'Russell Harvard', 'popularity': 1.379, 'profile_path': '/bSLWTNljHxOZYVCngWZLxpu3InV.jpg', 'cast_id': 47, 'character': 'Adult H.W. Plainview (uncredited)', 'credit_id': '5810ebef9251414f9b00ba88', 'order': 19}, {'adult': False, 'gender': 2, 'id': 131426, 'known_for_department': 'Acting', 'name': 'Beau Smith', 'original_name': 'Beau Smith', 'popularity': 0.695, 'profile_path': '/7QEmMKpa8UJ50sNe8IazhdD36c.jpg', 'cast_id': 51, 'character': 'Blacksmith (uncredited)', 'credit_id': '5810ece9c3a3687a8d00b622', 'order': 20}, {'adult': False, 'gender': 1, 'id': 1658095, 'known_for_department': 'Acting', 'name': 'Mary Elizabeth Barrett', 'original_name': 'Mary Elizabeth Barrett', 'popularity': 0.828, 'profile_path': '/6urcBw1zTNHE7ftOXWtLzBYUQGD.jpg', 'cast_id': 48, 'character': 'Fanny Clark (uncredited)', 'credit_id': '5810ec38c3a3687a9d00bd5d', 'order': 21}, {'adult': False, 'gender': 2, 'id': 60849, 'known_for_department': 'Acting', 'name': 'Brad Carr', 'original_name': 'Brad Carr', 'popularity': 0.828, 'profile_path': None, 'cast_id': 49, 'character': 'Signal Hill Man (uncredited)', 'credit_id': '5810ec7bc3a3687a8d00b5e1', 'order': 22}, {'adult': False, 'gender': 0, 'id': 1472400, 'known_for_department': 'Acting', 'name': 'Rhonda Reeves', 'original_name': 'Rhonda Reeves', 'popularity': 0.6, 'profile_path': None, 'cast_id': 50, 'character': \"Elizabeth's Mother (uncredited)\", 'credit_id': '5810ecbfc3a3687b1800ac4d', 'order': 23}, {'adult': False, 'gender': 1, 'id': 1733285, 'known_for_department': 'Acting', 'name': 'Coco Leigh', 'original_name': 'Coco Leigh', 'popularity': 0.84, 'profile_path': '/6YlRHMltTMDcTGrQqNIPIDC1bkf.jpg', 'cast_id': 83, 'character': 'Mrs. Bankside (uncredited)', 'credit_id': '63e150f5a313b8007cec6bc1', 'order': 24}], 'crew': [{'adult': False, 'gender': 2, 'id': 1809, 'known_for_department': 'Editing', 'name': 'Dylan Tichenor', 'original_name': 'Dylan Tichenor', 'popularity': 0.667, 'profile_path': None, 'credit_id': '52fe447bc3a36847f8098a39', 'department': 'Editing', 'job': 'Editor'}, {'adult': False, 'gender': 2, 'id': 2950, 'known_for_department': 'Camera', 'name': 'Robert Elswit', 'original_name': 'Robert Elswit', 'popularity': 3.042, 'profile_path': '/5urU681Z1ZyJxfjEGp6qY6XYXg1.jpg', 'credit_id': '52fe447bc3a36847f8098a33', 'department': 'Camera', 'job': 'Director of Photography'}, {'adult': False, 'gender': 2, 'id': 2997, 'known_for_department': 'Production', 'name': 'Scott Rudin', 'original_name': 'Scott Rudin', 'popularity': 3.975, 'profile_path': '/zIeKeFgBERBHmabgmqZFmgcxqvO.jpg', 'credit_id': '58114c7292514152d500ee2e', 'department': 'Production', 'job': 'Executive Producer'}, {'adult': False, 'gender': 2, 'id': 3996, 'known_for_department': 'Sound', 'name': 'Tom Johnson', 'original_name': 'Tom Johnson', 'popularity': 1.96, 'profile_path': '/joF3OdCBQjzQ2keyQ9l7uhcZafo.jpg', 'credit_id': '5b377f80c3a3685326040cec', 'department': 'Sound', 'job': 'Sound Re-Recording Mixer'}, {'adult': False, 'gender': 0, 'id': 4718, 'known_for_department': 'Crew', 'name': 'Larry M. Shorts', 'original_name': 'Larry M. Shorts', 'popularity': 1.22, 'profile_path': None, 'credit_id': '64121eb9fe6c1800bb65ee4e', 'department': 'Crew', 'job': 'Stunts'}, {'adult': False, 'gender': 2, 'id': 4762, 'known_for_department': 'Directing', 'name': 'Paul Thomas Anderson', 'original_name': 'Paul Thomas Anderson', 'popularity': 7.012, 'profile_path': '/29DHpRKddqTwo2NU162Y49JoQYa.jpg', 'credit_id': '52fe447bc3a36847f8098a23', 'department': 'Writing', 'job': 'Screenplay'}, {'adult': False, 'gender': 2, 'id': 4762, 'known_for_department': 'Directing', 'name': 'Paul Thomas Anderson', 'original_name': 'Paul Thomas Anderson', 'popularity': 7.012, 'profile_path': '/29DHpRKddqTwo2NU162Y49JoQYa.jpg', 'credit_id': '52fe447bc3a36847f8098a5d', 'department': 'Directing', 'job': 'Director'}, {'adult': False, 'gender': 2, 'id': 4762, 'known_for_department': 'Directing', 'name': 'Paul Thomas Anderson', 'original_name': 'Paul Thomas Anderson', 'popularity': 7.012, 'profile_path': '/29DHpRKddqTwo2NU162Y49JoQYa.jpg', 'credit_id': '52fe447bc3a36847f8098a51', 'department': 'Production', 'job': 'Producer'}, {'adult': False, 'gender': 2, 'id': 4769, 'known_for_department': 'Production', 'name': 'Daniel Lupi', 'original_name': 'Daniel Lupi', 'popularity': 1.176, 'profile_path': '/qvbWiy6zJF6RwjNNbLkAriRrf9M.jpg', 'credit_id': '52fe447bc3a36847f8098a57', 'department': 'Production', 'job': 'Producer'}, {'adult': False, 'gender': 1, 'id': 4770, 'known_for_department': 'Production', 'name': 'JoAnne Sellar', 'original_name': 'JoAnne Sellar', 'popularity': 2.112, 'profile_path': '/1Z3PwpavLD7aRtaYCGiExwJz1B5.jpg', 'credit_id': '52fe447bc3a36847f8098a4b', 'department': 'Production', 'job': 'Producer'}, {'adult': False, 'gender': 1, 'id': 4772, 'known_for_department': 'Production', 'name': 'Cassandra Kulukundis', 'original_name': 'Cassandra Kulukundis', 'popularity': 1.094, 'profile_path': None, 'credit_id': '52fe447bc3a36847f8098a8b', 'department': 'Production', 'job': 'Casting'}, {'adult': False, 'gender': 2, 'id': 5632, 'known_for_department': 'Art', 'name': 'Jack Fisk', 'original_name': 'Jack Fisk', 'popularity': 3.77, 'profile_path': '/oMavtJiW91SGAhtHNUPpFYo1h0p.jpg', 'credit_id': '52fe447bc3a36847f8098a45', 'department': 'Art', 'job': 'Production Design'}, {'adult': False, 'gender': 2, 'id': 8680, 'known_for_department': 'Art', 'name': 'Jim Erickson', 'original_name': 'Jim Erickson', 'popularity': 1.094, 'profile_path': None, 'credit_id': '563b331ac3a3681b5c025f23', 'department': 'Art', 'job': 'Set Decoration'}, {'adult': False, 'gender': 2, 'id': 9624, 'known_for_department': 'Crew', 'name': 'Jeff Habberstad', 'original_name': 'Jeff Habberstad', 'popularity': 1.111, 'profile_path': '/idZDMv2dVRxttymSJLSBQsbjS9N.jpg', 'credit_id': '563b34bdc3a3681b5c025f79', 'department': 'Crew', 'job': 'Stunt Coordinator'}, {'adult': False, 'gender': 2, 'id': 16574, 'known_for_department': 'Crew', 'name': 'Jay King', 'original_name': 'Jay King', 'popularity': 0.828, 'profile_path': None, 'credit_id': '6412200926677800ec6962bd', 'department': 'Crew', 'job': 'Special Effects Technician'}, {'adult': False, 'gender': 1, 'id': 17863, 'known_for_department': 'Sound', 'name': 'Linda Cohen', 'original_name': 'Linda Cohen', 'popularity': 2.042, 'profile_path': None, 'credit_id': '563b32d5c3a3681b610253f4', 'department': 'Sound', 'job': 'Music Supervisor'}, {'adult': False, 'gender': 2, 'id': 20230, 'known_for_department': 'Sound', 'name': 'Arvo Pärt', 'original_name': 'Arvo Pärt', 'popularity': 1.4, 'profile_path': '/bq7OliFL8gf9ERIck9jhPivfv7z.jpg', 'credit_id': '641c7d9ef9aa4700e2fac2fa', 'department': 'Sound', 'job': 'Additional Soundtrack'}, {'adult': False, 'gender': 0, 'id': 34854, 'known_for_department': 'Production', 'name': 'Jose Ludlow', 'original_name': 'Jose Ludlow', 'popularity': 0.6, 'profile_path': None, 'credit_id': '58114fd6c3a3687a8d00e63d', 'department': 'Crew', 'job': 'Thanks'}, {'adult': False, 'gender': 2, 'id': 40471, 'known_for_department': 'Costume & Make-Up', 'name': 'Mark Bridges', 'original_name': 'Mark Bridges', 'popularity': 1.4, 'profile_path': '/mw2M3u5WtvBcbL3QdudnaWlWjiV.jpg', 'credit_id': '563b32ec9251414cc9003e6f', 'department': 'Costume & Make-Up', 'job': 'Costume Design'}, {'adult': False, 'gender': 2, 'id': 52563, 'known_for_department': 'Writing', 'name': 'Upton Sinclair', 'original_name': 'Upton Sinclair', 'popularity': 0.6, 'profile_path': '/jxNEMow3GD34TKJbT37kczgUJC1.jpg', 'credit_id': '52fe447bc3a36847f8098a2d', 'department': 'Writing', 'job': 'Novel'}, {'adult': False, 'gender': 2, 'id': 54758, 'known_for_department': 'Writing', 'name': 'Eric Schlosser', 'original_name': 'Eric Schlosser', 'popularity': 0.6, 'profile_path': None, 'credit_id': '58114cc4925141579e00e70d', 'department': 'Production', 'job': 'Executive Producer'}, {'adult': False, 'gender': 0, 'id': 67695, 'known_for_department': 'Sound', 'name': 'Paul Rabjohns', 'original_name': 'Paul Rabjohns', 'popularity': 0.98, 'profile_path': None, 'credit_id': '563b3503c3a3681b52024197', 'department': 'Sound', 'job': 'Music Editor'}, {'adult': False, 'gender': 2, 'id': 71536, 'known_for_department': 'Sound', 'name': 'Matthew Wood', 'original_name': 'Matthew Wood', 'popularity': 2.694, 'profile_path': '/u1UjHLTeS5Dregg85A3GICf7Nkf.jpg', 'credit_id': '5b377f450e0a263ff003b4e8', 'department': 'Sound', 'job': 'Supervising Sound Editor'}, {'adult': False, 'gender': 2, 'id': 74333, 'known_for_department': 'Sound', 'name': 'Jonny Greenwood', 'original_name': 'Jonny Greenwood', 'popularity': 3.129, 'profile_path': '/wDzFkChTvghv8Wrt3hZIYtC3uhV.jpg', 'credit_id': '59558c759251412b3105a8ee', 'department': 'Sound', 'job': 'Original Music Composer'}, {'adult': False, 'gender': 2, 'id': 83372, 'known_for_department': 'Acting', 'name': 'Mark Muñoz', 'original_name': 'Mark Muñoz', 'popularity': 1.96, 'profile_path': '/fxLNE9tMt30J4EIbqPkDJkghjdO.jpg', 'credit_id': '64121ea3b42242008a2f43e7', 'department': 'Crew', 'job': 'Stunts'}, {'adult': False, 'gender': 0, 'id': 91133, 'known_for_department': 'Crew', 'name': 'Mark Graziano', 'original_name': 'Mark Graziano', 'popularity': 0.828, 'profile_path': None, 'credit_id': '58114f66925141579e00e8cb', 'department': 'Crew', 'job': 'Thanks'}, {'adult': False, 'gender': 0, 'id': 90148, 'known_for_department': 'Sound', 'name': 'Rick Canelli', 'original_name': 'Rick Canelli', 'popularity': 1.22, 'profile_path': None, 'credit_id': '64121d8fe18e3f07d055d5c1', 'department': 'Sound', 'job': 'ADR Recordist'}, {'adult': False, 'gender': 1, 'id': 137176, 'known_for_department': 'Costume & Make-Up', 'name': 'Kathy Kiatta', 'original_name': 'Kathy Kiatta', 'popularity': 0.98, 'profile_path': None, 'credit_id': '64121bdf6a3448007ba67c52', 'department': 'Costume & Make-Up', 'job': 'Key Costumer'}, {'adult': False, 'gender': 2, 'id': 159264, 'known_for_department': 'Acting', 'name': 'Denney Pierce', 'original_name': 'Denney Pierce', 'popularity': 3.209, 'profile_path': '/3mDO0AzrQwNIIalHXyfI22Dcd5N.jpg', 'credit_id': '64121eaea6c1040079068a05', 'department': 'Crew', 'job': 'Stunts'}, {'adult': False, 'gender': 2, 'id': 159936, 'known_for_department': 'Crew', 'name': 'Shawn Patrick Lane', 'original_name': 'Shawn Patrick Lane', 'popularity': 0.98, 'profile_path': '/s4HQnz4dbnJcVnyjbZceBqk9B25.jpg', 'credit_id': '64121e4bb4224200826f5035', 'department': 'Crew', 'job': 'Stunts'}, {'adult': False, 'gender': 1, 'id': 587803, 'known_for_department': 'Costume & Make-Up', 'name': 'Kimberly Adams', 'original_name': 'Kimberly Adams', 'popularity': 1.708, 'profile_path': '/hf94FYY3ggQiCi1gDuxOlx3zlA4.jpg', 'credit_id': '64121bd3a6c104009aff5353', 'department': 'Costume & Make-Up', 'job': 'Assistant Costume Designer'}, {'adult': False, 'gender': 2, 'id': 958921, 'known_for_department': 'Art', 'name': 'David Crank', 'original_name': 'David Crank', 'popularity': 0.6, 'profile_path': None, 'credit_id': '563b35229251414ab702245f', 'department': 'Art', 'job': 'Art Direction'}, {'adult': False, 'gender': 2, 'id': 1050930, 'known_for_department': 'Sound', 'name': 'Hugo Weng', 'original_name': 'Hugo Weng', 'popularity': 0.6, 'profile_path': None, 'credit_id': '64121cbaa6c1040082537629', 'department': 'Sound', 'job': 'Dialogue Editor'}, {'adult': False, 'gender': 2, 'id': 1102140, 'known_for_department': 'Production', 'name': 'Adam Somner', 'original_name': 'Adam Somner', 'popularity': 2.44, 'profile_path': None, 'credit_id': '58114dfdc3a3687a8d00e4d7', 'department': 'Directing', 'job': 'Assistant Director'}, {'adult': False, 'gender': 0, 'id': 1125158, 'known_for_department': 'Production', 'name': 'Will Weiske', 'original_name': 'Will Weiske', 'popularity': 0.98, 'profile_path': None, 'credit_id': '58114dc3c3a368798d00d3dd', 'department': 'Production', 'job': 'Production Supervisor'}, {'adult': False, 'gender': 2, 'id': 1177850, 'known_for_department': 'Camera', 'name': 'François Duhamel', 'original_name': 'François Duhamel', 'popularity': 1.659, 'profile_path': '/3N3pFKYflQxxo3b0aRXh8adwVIU.jpg', 'credit_id': '563b34779251414ab7022445', 'department': 'Camera', 'job': 'Still Photographer'}, {'adult': False, 'gender': 0, 'id': 1227173, 'known_for_department': 'Sound', 'name': 'Robin Harlan', 'original_name': 'Robin Harlan', 'popularity': 1.27, 'profile_path': None, 'credit_id': '64121d73b42242008a2f439b', 'department': 'Sound', 'job': 'Foley Artist'}, {'adult': False, 'gender': 2, 'id': 1274309, 'known_for_department': 'Sound', 'name': 'Randy Singer', 'original_name': 'Randy Singer', 'popularity': 1.4, 'profile_path': None, 'credit_id': '64121ccea6c104009aff5377', 'department': 'Sound', 'job': 'Foley Mixer'}, {'adult': False, 'gender': 2, 'id': 1311507, 'known_for_department': 'Crew', 'name': 'Steve Cremin', 'original_name': 'Steve Cremin', 'popularity': 0.6, 'profile_path': None, 'credit_id': '64121fb7a6c1040079068a48', 'department': 'Crew', 'job': 'Special Effects Coordinator'}, {'adult': False, 'gender': 1, 'id': 1324652, 'known_for_department': 'Camera', 'name': 'Melinda Sue Gordon', 'original_name': 'Melinda Sue Gordon', 'popularity': 0.6, 'profile_path': None, 'credit_id': '563b3453c3a3681b5c025f65', 'department': 'Camera', 'job': 'Still Photographer'}, {'adult': False, 'gender': 0, 'id': 1329417, 'known_for_department': 'Costume & Make-Up', 'name': 'John Blake', 'original_name': 'John Blake', 'popularity': 0.63, 'profile_path': None, 'credit_id': '563b336c9251414c70003ee8', 'department': 'Costume & Make-Up', 'job': 'Makeup Department Head'}, {'adult': False, 'gender': 1, 'id': 1339432, 'known_for_department': 'Crew', 'name': 'Erica Frauman', 'original_name': 'Erica Frauman', 'popularity': 0.648, 'profile_path': None, 'credit_id': '58114d70c3a3687a8d00e47e', 'department': 'Crew', 'job': 'Post Production Supervisor'}, {'adult': False, 'gender': 2, 'id': 1341414, 'known_for_department': 'Sound', 'name': 'David M. Roberts', 'original_name': 'David M. Roberts', 'popularity': 0.6, 'profile_path': None, 'credit_id': '64121cda323eba00a2a88c5a', 'department': 'Sound', 'job': 'Boom Operator'}, {'adult': False, 'gender': 0, 'id': 1341860, 'known_for_department': 'Costume & Make-Up', 'name': 'Eden Clark Coblenz', 'original_name': 'Eden Clark Coblenz', 'popularity': 0.828, 'profile_path': None, 'credit_id': '563b34099251414cc9003e94', 'department': 'Costume & Make-Up', 'job': 'Costume Supervisor'}, {'adult': False, 'gender': 1, 'id': 1345635, 'known_for_department': 'Directing', 'name': 'Anna Rane', 'original_name': 'Anna Rane', 'popularity': 1.201, 'profile_path': None, 'credit_id': '563b33809251414ab7022422', 'department': 'Directing', 'job': 'Script Supervisor'}, {'adult': False, 'gender': 0, 'id': 1360101, 'known_for_department': 'Sound', 'name': 'Sarah Monat', 'original_name': 'Sarah Monat', 'popularity': 0.6, 'profile_path': None, 'credit_id': '64121cfc266778007cbce40f', 'department': 'Sound', 'job': 'Foley Artist'}, {'adult': False, 'gender': 2, 'id': 1362911, 'known_for_department': 'Crew', 'name': 'Keii Johnston', 'original_name': 'Keii Johnston', 'popularity': 1.873, 'profile_path': '/eEqiypi1EfbuDdvG0URLG9RTKL4.jpg', 'credit_id': '64121e342667780081e4f4c6', 'department': 'Crew', 'job': 'Stunts'}, {'adult': False, 'gender': 0, 'id': 1373432, 'known_for_department': 'Visual Effects', 'name': 'Christina Graff', 'original_name': 'Christina Graff', 'popularity': 0.694, 'profile_path': None, 'credit_id': '61d840afa055ef0019973b6c', 'department': 'Visual Effects', 'job': 'Visual Effects Producer'}, {'adult': False, 'gender': 0, 'id': 1373433, 'known_for_department': 'Visual Effects', 'name': 'Paul Graff', 'original_name': 'Paul Graff', 'popularity': 3.685, 'profile_path': None, 'credit_id': '61d840bae039f100422cad6e', 'department': 'Visual Effects', 'job': 'Visual Effects Supervisor'}, {'adult': False, 'gender': 2, 'id': 1378613, 'known_for_department': 'Crew', 'name': 'Frank Lloyd', 'original_name': 'Frank Lloyd', 'popularity': 1.4, 'profile_path': '/pmkHYm8wbef2nVCvrlqR40cZ86W.jpg', 'credit_id': '64121e57e18e3f07d055d5f4', 'department': 'Crew', 'job': 'Stunts'}, {'adult': False, 'gender': 2, 'id': 1378828, 'known_for_department': 'Sound', 'name': 'Michael Semanick', 'original_name': 'Michael Semanick', 'popularity': 1.705, 'profile_path': '/poGaVc3vdZmkZCvSLNIkkIsxffj.jpg', 'credit_id': '5b377f959251413cb30365f5', 'department': 'Sound', 'job': 'Sound Re-Recording Mixer'}, {'adult': False, 'gender': 0, 'id': 1394129, 'known_for_department': 'Sound', 'name': 'Tim Nielsen', 'original_name': 'Tim Nielsen', 'popularity': 0.656, 'profile_path': None, 'credit_id': '61d84073cf1afd001c63f791', 'department': 'Sound', 'job': 'Sound Effects Editor'}, {'adult': False, 'gender': 2, 'id': 1395902, 'known_for_department': 'Camera', 'name': 'Robby Baumgartner', 'original_name': 'Robby Baumgartner', 'popularity': 0.714, 'profile_path': None, 'credit_id': '581150a4925141568000f18f', 'department': 'Lighting', 'job': 'Lighting Technician'}, {'adult': False, 'gender': 0, 'id': 1397854, 'known_for_department': 'Costume & Make-Up', 'name': 'Yvonne Wilburn', 'original_name': 'Yvonne Wilburn', 'popularity': 0.6, 'profile_path': None, 'credit_id': '64121bf66a344800a2e868d4', 'department': 'Costume & Make-Up', 'job': 'Costumer'}, {'adult': False, 'gender': 2, 'id': 1400906, 'known_for_department': 'Sound', 'name': 'Christopher Scarabosio', 'original_name': 'Christopher Scarabosio', 'popularity': 1.614, 'profile_path': '/9lOLuw52TKHXbzOzzlOsTYS3UEu.jpg', 'credit_id': '5b377f4ec3a368530e03cef3', 'department': 'Sound', 'job': 'Sound Designer'}, {'adult': False, 'gender': 0, 'id': 1403388, 'known_for_department': 'Costume & Make-Up', 'name': 'Kim Ayers', 'original_name': 'Kim Ayers', 'popularity': 1.38, 'profile_path': None, 'credit_id': '64121c2eb42242007d726750', 'department': 'Costume & Make-Up', 'job': 'Makeup Artist'}, {'adult': False, 'gender': 2, 'id': 1403458, 'known_for_department': 'Visual Effects', 'name': 'Grady Cofer', 'original_name': 'Grady Cofer', 'popularity': 0.728, 'profile_path': None, 'credit_id': '61d8409fcf1afd00929b6edc', 'department': 'Visual Effects', 'job': 'Visual Effects Supervisor'}, {'adult': False, 'gender': 0, 'id': 1406389, 'known_for_department': 'Sound', 'name': 'Bruce Tanis', 'original_name': 'Bruce Tanis', 'popularity': 0.605, 'profile_path': None, 'credit_id': '64121cc4266778007cbce403', 'department': 'Sound', 'job': 'Foley Editor'}, {'adult': False, 'gender': 2, 'id': 1407228, 'known_for_department': 'Crew', 'name': 'Scott Sproule', 'original_name': 'Scott Sproule', 'popularity': 0.84, 'profile_path': None, 'credit_id': '64121ecd323eba00a2a88caa', 'department': 'Crew', 'job': 'Stunts'}, {'adult': False, 'gender': 0, 'id': 1408293, 'known_for_department': 'Costume & Make-Up', 'name': 'Linda D. Flowers', 'original_name': 'Linda D. Flowers', 'popularity': 1.665, 'profile_path': None, 'credit_id': '563b3351c3a3681b6102540b', 'department': 'Costume & Make-Up', 'job': 'Hair Department Head'}, {'adult': False, 'gender': 1, 'id': 1412767, 'known_for_department': 'Costume & Make-Up', 'name': 'Yeşim \"Shimmy\" Osman', 'original_name': 'Yeşim \"Shimmy\" Osman', 'popularity': 0.6, 'profile_path': None, 'credit_id': '64121c64a6c10400d8d85e63', 'department': 'Costume & Make-Up', 'job': 'Key Hair Stylist'}, {'adult': False, 'gender': 0, 'id': 1414177, 'known_for_department': 'Sound', 'name': 'J.R. Grubbs', 'original_name': 'J.R. Grubbs', 'popularity': 1.018, 'profile_path': None, 'credit_id': '61d840647d2bc1004324d315', 'department': 'Sound', 'job': 'Sound Effects Editor'}, {'adult': False, 'gender': 2, 'id': 1417516, 'known_for_department': 'Sound', 'name': 'Jeff Sawyer', 'original_name': 'Jeff Sawyer', 'popularity': 0.6, 'profile_path': None, 'credit_id': '61d84084a3e4ba0019a31f38', 'department': 'Sound', 'job': 'Sound Effects Editor'}, {'adult': False, 'gender': 0, 'id': 1422060, 'known_for_department': 'Art', 'name': 'Carl J. Stensel', 'original_name': 'Carl J. Stensel', 'popularity': 0.6, 'profile_path': None, 'credit_id': '61d8412ded96bc00671dbfcc', 'department': 'Art', 'job': 'Set Designer'}, {'adult': False, 'gender': 1, 'id': 1425343, 'known_for_department': 'Sound', 'name': 'Vanessa Lapato', 'original_name': 'Vanessa Lapato', 'popularity': 1.094, 'profile_path': None, 'credit_id': '64121d0cb4224200826f5007', 'department': 'Sound', 'job': 'Dialogue Editor'}, {'adult': False, 'gender': 2, 'id': 1439431, 'known_for_department': 'Editing', 'name': 'Kenny Becker', 'original_name': 'Kenny Becker', 'popularity': 0.6, 'profile_path': None, 'credit_id': '58115047925141568000f15c', 'department': 'Editing', 'job': 'Color Timer'}, {'adult': False, 'gender': 0, 'id': 1447601, 'known_for_department': 'Sound', 'name': 'Andrew Bock', 'original_name': 'Andrew Bock', 'popularity': 0.6, 'profile_path': None, 'credit_id': '64121d9be18e3f07ac535be5', 'department': 'Sound', 'job': 'Sound Assistant'}, {'adult': False, 'gender': 0, 'id': 1463287, 'known_for_department': 'Directing', 'name': 'Eric Richard Lasko', 'original_name': 'Eric Richard Lasko', 'popularity': 0.6, 'profile_path': None, 'credit_id': '58114e78c3a368798a00e7c7', 'department': 'Directing', 'job': 'Assistant Director'}, {'adult': False, 'gender': 0, 'id': 1463434, 'known_for_department': 'Crew', 'name': 'Douglas D. Ziegler', 'original_name': 'Douglas D. Ziegler', 'popularity': 0.694, 'profile_path': None, 'credit_id': '64122039a6c1040079068a70', 'department': 'Crew', 'job': 'Special Effects Technician'}, {'adult': False, 'gender': 0, 'id': 1525955, 'known_for_department': 'Costume & Make-Up', 'name': 'Michelle Elaine Teague', 'original_name': 'Michelle Elaine Teague', 'popularity': 0.6, 'profile_path': None, 'credit_id': '64121bebede1b028a2b85d12', 'department': 'Costume & Make-Up', 'job': 'Costumer'}, {'adult': False, 'gender': 0, 'id': 1531362, 'known_for_department': 'Lighting', 'name': 'Mark Manthey', 'original_name': 'Mark Manthey', 'popularity': 0.6, 'profile_path': None, 'credit_id': '563b343cc3a3681b5202416a', 'department': 'Lighting', 'job': 'Rigging Gaffer'}, {'adult': False, 'gender': 2, 'id': 1531865, 'known_for_department': 'Crew', 'name': 'Myke Schwartz', 'original_name': 'Myke Schwartz', 'popularity': 1.4, 'profile_path': None, 'credit_id': '563b34cdc3a3681b5902383c', 'department': 'Crew', 'job': 'Stunt Coordinator'}, {'adult': False, 'gender': 0, 'id': 1536554, 'known_for_department': 'Visual Effects', 'name': 'Susan Greenhow', 'original_name': 'Susan Greenhow', 'popularity': 0.84, 'profile_path': None, 'credit_id': '61d840c4a3e4ba0019a31fac', 'department': 'Visual Effects', 'job': 'Visual Effects Producer'}, {'adult': False, 'gender': 2, 'id': 1546442, 'known_for_department': 'Sound', 'name': 'John Pritchett', 'original_name': 'John Pritchett', 'popularity': 1.583, 'profile_path': None, 'credit_id': '64121ce426677800b85a5f7a', 'department': 'Sound', 'job': 'Sound Mixer'}, {'adult': False, 'gender': 2, 'id': 1552521, 'known_for_department': 'Crew', 'name': 'Brian Avery', 'original_name': 'Brian Avery', 'popularity': 0.6, 'profile_path': '/qaqwXMyhcRpJFS4hkowrrCpqMO4.jpg', 'credit_id': '5692c83a92514142570008ce', 'department': 'Crew', 'job': 'Stunts'}, {'adult': False, 'gender': 0, 'id': 1576850, 'known_for_department': 'Costume & Make-Up', 'name': 'Catherine Conrad', 'original_name': 'Catherine Conrad', 'popularity': 0.6, 'profile_path': None, 'credit_id': '61d84042a3e4ba0040d4d4be', 'department': 'Costume & Make-Up', 'job': 'Makeup Artist'}, {'adult': False, 'gender': 0, 'id': 1606670, 'known_for_department': 'Visual Effects', 'name': 'Brandon K. McLaughlin', 'original_name': 'Brandon K. McLaughlin', 'popularity': 0.6, 'profile_path': None, 'credit_id': '6412202126677800d70667bc', 'department': 'Crew', 'job': 'Special Effects Technician'}, {'adult': False, 'gender': 0, 'id': 1638527, 'known_for_department': 'Crew', 'name': 'Adam Watkins', 'original_name': 'Adam Watkins', 'popularity': 0.6, 'profile_path': None, 'credit_id': '64121ef0b4224200b973f04a', 'department': 'Crew', 'job': 'CG Supervisor'}, {'adult': False, 'gender': 2, 'id': 1648134, 'known_for_department': 'Art', 'name': 'Dan Perri', 'original_name': 'Dan Perri', 'popularity': 0.84, 'profile_path': None, 'credit_id': '5c1533e00e0a26038b3ca73c', 'department': 'Art', 'job': 'Title Designer'}, {'adult': False, 'gender': 0, 'id': 1651762, 'known_for_department': 'Crew', 'name': 'Jamey Pryde', 'original_name': 'Jamey Pryde', 'popularity': 0.6, 'profile_path': None, 'credit_id': '58114d99c3a368798d00d3b9', 'department': 'Crew', 'job': 'Post Production Supervisor'}, {'adult': False, 'gender': 0, 'id': 1745942, 'known_for_department': 'Directing', 'name': 'Richard Oswald', 'original_name': 'Richard Oswald', 'popularity': 0.694, 'profile_path': None, 'credit_id': '6412206dfe6c1800bb65ee96', 'department': 'Directing', 'job': 'Second Assistant Director'}, {'adult': False, 'gender': 2, 'id': 1790647, 'known_for_department': 'Crew', 'name': 'Ryan Happy', 'original_name': 'Ryan Happy', 'popularity': 0.98, 'profile_path': '/84QUN1P2AA5e8zz0Pjvnbr4TiaS.jpg', 'credit_id': '64121e2ab4224200f7919b0b', 'department': 'Crew', 'job': 'Stunts'}, {'adult': False, 'gender': 0, 'id': 1851797, 'known_for_department': 'Art', 'name': 'Mark Hanks', 'original_name': 'Mark Hanks', 'popularity': 0.6, 'profile_path': None, 'credit_id': '61d84119160e73004198318a', 'department': 'Art', 'job': 'Set Dresser'}, {'adult': False, 'gender': 0, 'id': 1868798, 'known_for_department': 'Sound', 'name': 'David L. Horton Jr.', 'original_name': 'David L. Horton Jr.', 'popularity': 0.6, 'profile_path': None, 'credit_id': '64121d692667780099a18a55', 'department': 'Sound', 'job': 'Foley Editor'}, {'adult': False, 'gender': 0, 'id': 1976191, 'known_for_department': 'Sound', 'name': 'Coya Elliott', 'original_name': 'Coya Elliott', 'popularity': 1.094, 'profile_path': None, 'credit_id': '64121d8126677800b85a5f95', 'department': 'Sound', 'job': 'First Assistant Sound Editor'}, {'adult': False, 'gender': 2, 'id': 1994224, 'known_for_department': 'Sound', 'name': \"Thomas J. O'Connell\", 'original_name': \"Thomas J. O'Connell\", 'popularity': 1.706, 'profile_path': None, 'credit_id': '64121cf06a3448007ba67c83', 'department': 'Sound', 'job': 'ADR Mixer'}, {'adult': False, 'gender': 0, 'id': 2153898, 'known_for_department': 'Crew', 'name': 'Christian Eubank', 'original_name': 'Christian Eubank', 'popularity': 0.6, 'profile_path': None, 'credit_id': '64121fc3e18e3f07e9545c83', 'department': 'Crew', 'job': 'Special Effects Technician'}, {'adult': False, 'gender': 0, 'id': 2161449, 'known_for_department': 'Art', 'name': 'Brad Blei', 'original_name': 'Brad Blei', 'popularity': 0.6, 'profile_path': None, 'credit_id': '61d840ddf6787a00423475ce', 'department': 'Art', 'job': 'Set Dresser'}, {'adult': False, 'gender': 0, 'id': 2268117, 'known_for_department': 'Directing', 'name': 'Ian Stone', 'original_name': 'Ian Stone', 'popularity': 0.84, 'profile_path': None, 'credit_id': '641220596a344800a2e869d1', 'department': 'Directing', 'job': 'Second Assistant Director'}, {'adult': False, 'gender': 0, 'id': 2274724, 'known_for_department': 'Crew', 'name': 'Paul Sklar', 'original_name': 'Paul Sklar', 'popularity': 1.4, 'profile_path': None, 'credit_id': '64121ec3ede1b028c5981542', 'department': 'Crew', 'job': 'Stunts'}, {'adult': False, 'gender': 0, 'id': 2612513, 'known_for_department': 'Costume & Make-Up', 'name': 'Shanon Ely', 'original_name': 'Shanon Ely', 'popularity': 0.6, 'profile_path': None, 'credit_id': '64121c51e18e3f07ac535bac', 'department': 'Costume & Make-Up', 'job': 'Hairstylist'}, {'adult': False, 'gender': 0, 'id': 2689984, 'known_for_department': 'Art', 'name': 'Jack Colmenero', 'original_name': 'Jack Colmenero', 'popularity': 0.6, 'profile_path': None, 'credit_id': '61d84104a35c8e001c46fc63', 'department': 'Art', 'job': 'Set Dresser'}, {'adult': False, 'gender': 2, 'id': 2715095, 'known_for_department': 'Acting', 'name': 'Joel Corry', 'original_name': 'Joel Corry', 'popularity': 1.4, 'profile_path': '/cPkkhyoEg1o72hkEiK4vHwJoAj3.jpg', 'credit_id': '624f41127739410fee88736f', 'department': 'Crew', 'job': 'Intern'}, {'adult': False, 'gender': 0, 'id': 2754358, 'known_for_department': 'Acting', 'name': 'Jake Lombard', 'original_name': 'Jake Lombard', 'popularity': 0.6, 'profile_path': None, 'credit_id': '64121e68a6c10400c0c63b9d', 'department': 'Crew', 'job': 'Stunts'}]}, 'translations': {'translations': [{'iso_3166_1': 'SA', 'iso_639_1': 'ar', 'name': 'العربية', 'english_name': 'Arabic', 'data': {'homepage': '', 'overview': 'سيكون هناك جشع. سيكون هناك انتقام.\\r ينتقل عامل منجم الفضة الذي لا يرحم ، والذي تحول إلى منقب عن النفط ، دانيال بلينفيو ، إلى كاليفورنيا الغنية بالنفط. باستخدام ابنه لعرض صورة جديرة بالثقة ، رجل الأسرة ، يخدع بلينفيو ملاك الأراضي المحليين لبيعه ممتلكاتهم القيمة مقابل مبلغ زهيد. ومع ذلك ، يشتبه الواعظ المحلي إيلي صنداي في دوافع ونوايا بلينفيو ، مما يؤدي إلى بدء عداء بطيء الاحتراق يهدد حياتهما.', 'runtime': 0, 'tagline': 'سيكون هناك جشع. سيكون هناك انتقام.', 'title': ''}}, {'iso_3166_1': 'BG', 'iso_639_1': 'bg', 'name': 'български език', 'english_name': 'Bulgarian', 'data': {'homepage': '', 'overview': 'В края на XIX век в САЩ треската за злато утихва за сметка на новото съкровище, на което са богати американските земи – петрола. Даниъл Плейнвю е един от първите, които усещат накъде духа вятъра и бързо се снабдява с нефтено находище. При един от сондажите загива работник от групата и Плейнвю решава да осинови малкото момче, което остава сирак. Възпитаван строго в правилата на бизнеса, малкият става свидетел на бързото замогване на доведения си баща.', 'runtime': 151, 'tagline': 'Ще се лее лакомия. Ще се лее отмъщение.', 'title': 'Ще се лее кръв'}}, {'iso_3166_1': 'ES', 'iso_639_1': 'ca', 'name': 'Català', 'english_name': 'Catalan', 'data': {'homepage': '', 'overview': 'Texas, principis del segle XX. Una història sobre la família, l\\'avarícia i la religió. Daniel Plainview (Daniel Day-Lewis) es trasllada a una miserable ciutat amb el propòsit de fer fortuna, però a mesura que es va enriquint, els seus principis i valors desapareixen i acaba dominat per l\\'ambició. Després de trobar un ric jaciment de petroli el 1902, es converteix en un acabalat magnat. Quan, anys després, intenta apoderar-se d\\'un nou jaciment, s\\'ha d\\'enfrontar al predicador Eli Sunday (Paul Dano). Adaptació de la novel·la d\\'Upton Sinclair \"Petroli\", escrita el 1927.', 'runtime': 0, 'tagline': \"Quan l'ambició es creua amb la fe\", 'title': \"Pous d'ambició\"}}, {'iso_3166_1': 'CZ', 'iso_639_1': 'cs', 'name': 'Český', 'english_name': 'Czech', 'data': {'homepage': '', 'overview': 'Film Až na krev se odehrává v Kalifornii na přelomu století, v období ropného boomu. Příběh dokumentuje vzestup Daniela Plainviewa, osamělého otce, který se z živořícího horníka ve stříbrném dole vypracuje na pozici ropného magnáta.Když Plainview dostane záhadný tip, že směrem na západ leží městečko, ve kterém prýští ze země oceán nafty, vydá se se svým synem H.W. zkusit štěstí v zaprášených ulicích města Little Boston. V tomto nuzném městě, jehož hlavní atrakcí je kostel s charismatickým kazatelem Elim Sundayem, se pokoušejí prolomit dosavadní smůlu. Ale i když se jim začíná dařit, nedokáží uniknout konfliktům, ve kterých jsou veškeré základní hodnoty - láska, naděje, pospolitost, víra, ambice a dokonce i pouto mezi otcem a synem - ohrožovány korupcí, podvody a proudy ropy...', 'runtime': 158, 'tagline': 'Když se ambice snoubí s vírou.', 'title': 'Až na krev'}}, {'iso_3166_1': 'DK', 'iso_639_1': 'da', 'name': 'Dansk', 'english_name': 'Danish', 'data': {'homepage': '', 'overview': 'Det er omkring århundredeskiftet og da Daniel Plainview får et tip om, at der er olie lige under ørkensandet i den californiske flække Little Boston, rejser han derud med sin lille søn for at søge lykken. Men en ung præst prøver at spænde ben for dem, og udfordrer far og søn i deres ambitioner. Små konflikter vokser sig større og mens magten tager over forsvinder alle menneskelige værdier som kærlighed, håb, sammenhold og drømme.', 'runtime': 0, 'tagline': '', 'title': ''}}, {'iso_3166_1': 'DE', 'iso_639_1': 'de', 'name': 'Deutsch', 'english_name': 'German', 'data': {'homepage': '', 'overview': 'Daniel Plainview versucht Ende des 19. Jahrhunderts sein Glück als Schürfer auf der Suche nach Silber, doch er entdeckt bei der harten Arbeit eines Tages eine Ölquelle. Für den nur auf Profit eingestellten Einzelgänger erschließt sich eine neue Obsession und schon bald beginnt er seine Arbeit im Ölgeschäft. Schon früh kommt sein Partner zu Tode, woraufhin Daniel sich dessen Sohnes annimmt, der als Waise zurück blieb. Doch auch diesen Schritt wählt Daniel nur, um sich Vorteile zu erschleichen und so steigt er durch Rücksichtslosigkeit, Betrug und harte eigene Arbeit zu einem schwerreichen Ölbaron auf. Sein Ziehsohn H.W. dagegen verliert sein Gehör bei einem Unfall an der Ölpumpe. Im Laufe der Jahre wächst Daniels Vermögen und mit ihm sein grenzenloser Hass auf die Menschen\\xa0…', 'runtime': 158, 'tagline': 'Wenn Gier und Glaube aufeinander treffen', 'title': ''}}, {'iso_3166_1': 'GR', 'iso_639_1': 'el', 'name': 'ελληνικά', 'english_name': 'Greek', 'data': {'homepage': 'http://www.miramax.com/movie/there-will-be-blood', 'overview': 'Όταν ο Πλέινβιου πληροφορείται μυστηριωδώς ότι σε μια μικρή πόλη κάπου στα δυτικά αναβλύζουν τόνοι πετρελαίου, αποφασίζει να πάρει την τύχη στα χέρια του και μετακομίζει μαζί με το γιο του H.W. στη σκονισμένη Little Boston. Σε αυτή την πόλη, όπου το κέντρο της ζωής των κατοίκων είναι η εκκλησία του χαρισματικού ιεροκήρυκα Έλι Σάντεϊ, o Πλέινβιου και ο H.W. «πιάνουν την καλή». Ωστόσο, αν και όλοι πλουτίζουν χάρη στην πετρελαιοπηγή, τα πάντα αλλάζουν καθώς οι συγκρούσεις κλιμακώνονται και κάθε ανθρώπινη αξία απειλούνται από τη διαφθορά, την απάτη και τη ροή του πετρελαίου.', 'runtime': 158, 'tagline': 'Η ώρα της απληστίας... Η ώρα της εκδίκησης', 'title': 'Θα Χυθεί Αίμα'}}, {'iso_3166_1': 'US', 'iso_639_1': 'en', 'name': 'English', 'english_name': 'English', 'data': {'homepage': '', 'overview': \"Ruthless silver miner, turned oil prospector, Daniel Plainview, moves to oil-rich California. Using his son to project a trustworthy, family-man image, Plainview cons local landowners into selling him their valuable properties for a pittance. However, local preacher Eli Sunday suspects Plainview's motives and intentions, starting a slow-burning feud that threatens both their lives.\", 'runtime': 158, 'tagline': 'There Will Be Greed. There Will Be Vengeance.', 'title': ''}}, {'iso_3166_1': 'ES', 'iso_639_1': 'es', 'name': 'Español', 'english_name': 'Spanish', 'data': {'homepage': '', 'overview': 'Texas, principios del siglo XX. Una historia sobre la familia, la avaricia y la religión. Daniel Plainview (Daniel Day-Lewis) se traslada a una miserable ciudad con el propósito de hacer fortuna, pero, a medida que se va enriqueciendo, sus principios y valores desaparecen y acaba dominado por la ambición. Tras encontrar un rico yacimiento de petróleo en 1902, se convierte en un acaudalado magnate. Cuando, años después, intenta apoderarse de un nuevo yacimiento, tiene que enfrentarse al predicador Eli Sunday (Paul Dano). Adaptación de la novela de Upton Sinclair \"Petróleo\", escrita en 1927.', 'runtime': 158, 'tagline': 'Cuando la ambición se cruza con la fe', 'title': 'Pozos de ambición'}}, {'iso_3166_1': 'MX', 'iso_639_1': 'es', 'name': 'Español', 'english_name': 'Spanish', 'data': {'homepage': '', 'overview': 'Texas, principios del siglo XX. Una historia sobre la familia, la avaricia y la religión. Daniel Plainview (Daniel Day-Lewis) se traslada a una miserable ciudad con el propósito de hacer fortuna, pero, a medida que se va enriqueciendo, sus principios y valores desaparecen y acaba dominado por la ambición. Tras encontrar un rico yacimiento de petróleo en 1902, se convierte en un acaudalado magnate. Cuando, años después, intenta apoderarse de un nuevo yacimiento, tiene que enfrentarse al predicador Eli Sunday (Paul Dano). Adaptación de la novela de Upton Sinclair «Petróleo», escrita en 1927.', 'runtime': 158, 'tagline': '', 'title': 'Petróleo Sangriento'}}, {'iso_3166_1': 'EE', 'iso_639_1': 'et', 'name': 'Eesti', 'english_name': 'Estonian', 'data': {'homepage': '', 'overview': 'Draama, mis räägib perekonnast, ahnusest, võimust ja naftast. Loo keskmes on mees nimega Daniel Plainview, kellest saab võimas naftamagnaat. Mehe majandusliku edukuse taga ei peitu aga õnn. Aina kasvav rikkus ja võim seab ohtu armastuse, lootuse, usu, ambitsioonid ning isa ja poja suhted.', 'runtime': 0, 'tagline': '', 'title': 'Veri hakkab voolama'}}, {'iso_3166_1': 'IR', 'iso_639_1': 'fa', 'name': 'فارسی', 'english_name': 'Persian', 'data': {'homepage': '', 'overview': 'وقتی دانیل پلانیو اطلاع پیدا می کند که در شهر کوچکی در غرب، دریایی از نفت در حال تراوش از زمین است، فوری دست پسرش را می گیرد و به آنجا می رود تا شانسش را در گرد و خاک بوستن امتحان کند. دنیل که از کودکی تجربه\\u200cهای بدی با زندگی و انسان\\u200cها داشته، رفته\\u200c رفته از نوع بشر تنفر پیدا کرده و قصد دارد با به دست آوردن ثروتی کلان زندگی\\u200cای ترتیب دهد تا دیگر به نوع بشر و تعامل با آن نیازی نداشته\\u200c باشد. با وجود این طرز فکر، او به پسرخوانده\\u200cای که دست تقدیر بر سر راهش قرار داده و دنیل ابتدا از او در جهت دروغ خانواده\\u200cدار بودن و برای تسهیل مذاکرات تجاری\\u200cاش استفاده می\\u200cکند دل می\\u200cبندد. این پسرخوانده ناسپاس از آب در می\\u200cآید و دنیل در تجربهٔ دیگری با شخصی روبرو می\\u200cشود که خود را به دروغ، برادر گمشده\\u200cای از او معرفی می\\u200cکند. این بار هم دنیل به نوع بشر شانس دیگری می\\u200cدهد و به این “برادر” دل می\\u200cبندد. بعداً او متوجه این دروغ نیز می\\u200cشود و وی را می\\u200cکشد. هر تجربه بد او را خشن\\u200cتر می\\u200cکند تا جایی\\u200c که دیگر از رنجاندن فجیع ناسپاسان و کشتن ریاکارانی که به سراغش می\\u200cآیند ابایی ندارد و فیلم پایان خونینی دارد…', 'runtime': 0, 'tagline': '', 'title': 'خون به پا خواهد شد'}}, {'iso_3166_1': 'FI', 'iso_639_1': 'fi', 'name': 'suomi', 'english_name': 'Finnish', 'data': {'homepage': '', 'overview': 'Eletään 1900-luvun alkua, ja Daniel Plainview poikansa kanssa etsii öljyä Kaliforniasta. Mutta nuori saarnaaja, Eli Sunday, pistää kapuloita heidän rattaisiinsa ja haastaa heidät henkiseen voimainmittelöön. Tästä taistelusta tulee pelottava, synkkä matka hulluuteen.', 'runtime': 0, 'tagline': '', 'title': ''}}, {'iso_3166_1': 'CA', 'iso_639_1': 'fr', 'name': 'Français', 'english_name': 'French', 'data': {'homepage': '', 'overview': 'Lorsque Daniel Plainview entend parler d’une petite ville de Californie où l’on dit qu’un océan de pétrole coulerait littéralement du sol, il décide d’aller tenter sa chance et part avec son fils H.W. à Little Boston. Dans cet endroit perdu où chacun lutte pour survivre et où l’unique distraction est l’église animée par le charismatique prêtre Eli Sunday, Plainview et son fils voient le sort leur sourire. Même si le pétrole comble leurs attentes et fait leur fortune, plus rien ne sera comme avant\\xa0: les tensions s’intensifient, les conflits éclatent et les valeurs humaines comme l’amour, l’espoir, le sens de la communauté, les croyances, l’ambition et même les liens entre père et fils sont mis en péril par la corruption, la trahison… Et le pétrole.', 'runtime': 0, 'tagline': '', 'title': 'Il y aura du sang'}}, {'iso_3166_1': 'FR', 'iso_639_1': 'fr', 'name': 'Français', 'english_name': 'French', 'data': {'homepage': '', 'overview': 'Lorsque Daniel Plainview entend parler d’une petite ville de Californie où l’on dit qu’un océan de pétrole coulerait littéralement du sol, il décide d’aller tenter sa chance et part avec son fils H.W. à Little Boston. Dans cet endroit perdu où chacun lutte pour survivre et où l’unique distraction est l’église animée par le charismatique prêtre Eli Sunday, Plainview et son fils voient le sort leur sourire. Même si le pétrole comble leurs attentes et fait leur fortune, plus rien ne sera comme avant\\xa0: les tensions s’intensifient, les conflits éclatent et les valeurs humaines comme l’amour, l’espoir, le sens de la communauté, les croyances, l’ambition et même les liens entre père et fils sont mis en péril par la corruption, la trahison… Et le pétrole.', 'runtime': 158, 'tagline': 'Il y aura de l’avidité. Il y aura de la vengeance.', 'title': ''}}, {'iso_3166_1': 'IL', 'iso_639_1': 'he', 'name': 'עִבְרִית', 'english_name': 'Hebrew', 'data': {'homepage': '', 'overview': 'מבוסס על הרומן הרומנטי של אפטון סינקלר \"דלק\" משנת 1927. סיפור על משפחה, תאוות בצע, דת ודלק, המתמקד על בחור פשוט מטקסס, שמחפש אוצרות טבע בעבודות כרייה ונקלע להזדמנות חייו כבר בתחילת דרכו במקצוע . כעבור שנים אותו בחור עממי הופך לאיש עסקים עשיר וחסר רחמים שיעשה הכול כדי להשיג את מטרותיו.', 'runtime': 0, 'tagline': '', 'title': 'זה יגמר בדם'}}, {'iso_3166_1': 'HR', 'iso_639_1': 'hr', 'name': 'Hrvatski', 'english_name': 'Croatian', 'data': {'homepage': '', 'overview': 'Film prati život i djelo Daniela Plainviewa koji od klonulog rudara iz rudnika srebra vlastitim trudom postaje naftni magnat tijekom kalifornijskog naftnog procvata na prijelazu iz 19. u 20. stoljeće.', 'runtime': 0, 'tagline': '', 'title': 'Bit će krvi'}}, {'iso_3166_1': 'HU', 'iso_639_1': 'hu', 'name': 'Magyar', 'english_name': 'Hungarian', 'data': {'homepage': '', 'overview': 'Az 1900-as évek elején minden az olajról szól az amerikai határvidéken. Amikor Daniel Plainview hírét veszi, hogy van egy kisváros nyugaton, amely szinte fürdik az olajban, felkerekedik és a fiával együtt útnak indul Kaliforniába. Számítását siker koronázza, megcsinálja a szerencséjét, gazdag emberré válik. Ám a kitermelt olaj mennyiségével egyenes arányban növekszik a konfliktusok száma. Az olajbányászat velejárója a korrupció, a csalás, a pénz, a gazdagság ígérete elvakítja az embereket, veszélybe kerülnek a hagyományos értékek.', 'runtime': 0, 'tagline': '', 'title': 'Vérző olaj'}}, {'iso_3166_1': 'IT', 'iso_639_1': 'it', 'name': 'Italiano', 'english_name': 'Italian', 'data': {'homepage': '', 'overview': \"Daniel Plainview è un cercatore d'argento che, alla fine dell'800 trova il petrolio nell'Ovest degli Stati Uniti. La sua ricchezza diventa considerevole, ma l'uomo, sempre più accecato da una misantropia assoluta, allontanerà da sé anche il figlio, precipitando sempre più nell'avidità del possesso.\", 'runtime': 158, 'tagline': \"Quando l'ambizione incontra la fede.\", 'title': 'Il petroliere'}}, {'iso_3166_1': 'JP', 'iso_639_1': 'ja', 'name': '日本語', 'english_name': 'Japanese', 'data': {'homepage': '', 'overview': '石油ブームに沸く20世紀初頭のカリフォルニア。鉱山労働者のプレインビューは、石油が沸く源泉があるという情報を耳にする。息子とともに石油採掘事業に乗り出したプレインビューは、異様なまでの欲望で富と権力を手にしていく。', 'runtime': 158, 'tagline': '欲望と言う名の黒い血が 彼を《怪物》に変えていく…。', 'title': 'ゼア・ウィル・ビー・ブラッド'}}, {'iso_3166_1': 'KR', 'iso_639_1': 'ko', 'name': '한국어/조선말', 'english_name': 'Korean', 'data': {'homepage': '', 'overview': '은을 찾아 땅속으로 내려갔다 올라오길 반복하는 남자 다니엘 플레인뷰는 갑작스런 사고로 다리를 다친다. 이후 그는 또 다른 사고로 목숨을 잃은 동료의 아들과 함께 산다. 석유가 있는 곳을 찾아 미국의 서부를 오가는 그는 리틀 보스턴에 석유가 있다는 엘라이의 제보에 아들과 함께 리틀 보스턴으로 향한다. 리틀 보스턴은 목사 엘라이를 중심으로 한 광신도적 교인들이 주민의 대부분이다. 다니엘은 주민들의 반대에 부딪히며 땅을 사고, 유정탑을 쌓으며, 배송관을 만들어 석유 발굴에 나서는데...', 'runtime': 158, 'tagline': '석유업계의 거물이 세상의 밖으로 사라지기까지', 'title': '데어 윌 비 블러드'}}, {'iso_3166_1': 'LT', 'iso_639_1': 'lt', 'name': 'Lietuvių', 'english_name': 'Lithuanian', 'data': {'homepage': '', 'overview': 'Danielis su sūnumi yra nepriklausomi naftininkai, XIX-tojo amžiaus pabaigoje pradedantys ieškoti naftos Kalifornijoje. Naudodamasis savo įsūniu, kad sukurtų patikimo šeimos vyro įvaizdį, arogantiškasis naftos ieškotojas palengva užima visas miestelio žemes tačiau miestelio kunigas, įtardamams jų nedorus ketinimus, užkuria jiems pirtį.', 'runtime': 0, 'tagline': '', 'title': 'Bus kraujo'}}, {'iso_3166_1': 'LV', 'iso_639_1': 'lv', 'name': 'Latviešu', 'english_name': 'Latvian', 'data': {'homepage': '', 'overview': '', 'runtime': 0, 'tagline': '', 'title': 'Plūdīs asinis'}}, {'iso_3166_1': 'NO', 'iso_639_1': 'nb', 'name': 'Bokmål', 'english_name': 'Norwegian Bokmål', 'data': {'homepage': '', 'overview': '', 'runtime': 0, 'tagline': '', 'title': ''}}, {'iso_3166_1': 'NL', 'iso_639_1': 'nl', 'name': 'Nederlands', 'english_name': 'Dutch', 'data': {'homepage': '', 'overview': 'Eind 19de eeuw. Wanneer Daniel Plainview een mysterieuze tip krijgt over een klein stadje in het Westen waar de olie letterlijk uit de grond zou spuiten, gaat hij met zijn zoontje H.W. op avontuur, op weg naar het stoffige Little Boston.', 'runtime': 158, 'tagline': '', 'title': ''}}, {'iso_3166_1': 'PL', 'iso_639_1': 'pl', 'name': 'Polski', 'english_name': 'Polish', 'data': {'homepage': '', 'overview': 'Biznes to wojna. I to taka, w której nie bierze się jeńców. Aby zgromadzić wielki majątek, trzeba być bezwzględnym i gotowym na wszystko. Takim właśnie człowiekiem był Daniel Plainview (Daniel Day-Lewis). Na przełomie XIX i XX wieku udało mu się odkryć złoża ropy naftowej w Nowym Meksyku. Umiejętnie inwestując kapitał, Plainview dorobił się całkiem pokaźnej fortuny. Sukces miał jednak swoją cenę - Daniel stał się potworem znienawidzonym przez wszystkich. Nie cofał się przed niczym, nawet jeśli w grę wchodził szantaż czy zabójstwo. W swoim dziele reżyser (Paul Thomas Anderson) pokazał brutalne narodziny wielkiego, amerykańskiego kapitału.', 'runtime': 158, 'tagline': 'Historia o rodzinie, chciwości, religii i ropie naftowej,', 'title': 'Aż poleje się krew'}}, {'iso_3166_1': 'BR', 'iso_639_1': 'pt', 'name': 'Português', 'english_name': 'Portuguese', 'data': {'homepage': '', 'overview': 'Daniel Plainview e seu filho são caçadores de petróleo, que perfuram poços na Califórnia no início do século XX. Eles são desafiados por um jovem pastor, Eli Sunday, cuja ambição pessoal é confrontada por Plainview. A luta entre os dois é o centro dessa conflitante, trágica e histórica jornada ao abismo da loucura causada pela corrupção, fraude e petróleo.', 'runtime': 158, 'tagline': 'Haverá ganância. Haverá Vingança.', 'title': 'Sangue Negro'}}, {'iso_3166_1': 'PT', 'iso_639_1': 'pt', 'name': 'Português', 'english_name': 'Portuguese', 'data': {'homepage': '', 'overview': 'Quando Plainview recebe uma misteriosa dica de que numa pequena cidade do Oeste um oceano de petróleo está revelar-se à superfície, dirige-se até lá com o seu filho, H.W., para tentar a sua sorte na pequena e pobre Little Boston. Nesta miserável cidade onde a maior atenção está nos fervorosos seguidores da igreja do carismático pregador Eli Sunday, Daniel Plainview e H.W. ganham a sorte grande comprando terras e descobrindo mais e mais poços de petróleo por explorar. Com o decorrer do tempo e o aumento da fortuna, nada se mantém igual e à medida que os conflitos vão aumentando todos os valores humanos – amor, esperança, comunidade, fé, ambição e mesmo os laços que unem pais e filhos – são ameaçados pela corrupção, pela decepção, ao ritmo dos fluxos de petróleo.', 'runtime': 158, 'tagline': 'Quando a ambição encontra o destino.', 'title': 'Haverá Sangue'}}, {'iso_3166_1': 'RO', 'iso_639_1': 'ro', 'name': 'Română', 'english_name': 'Romanian', 'data': {'homepage': '', 'overview': 'Daniel Plainview își încearcă norocul ca prospector la sfârșitul secolului al XIX-lea în căutarea de argint, dar într-o zi, în timp ce muncește din greu, descoperă un puț de petrol. O nouă obsesie se dezvoltă pentru singuratic, care este concentrat doar pe profit și, în scurt timp, începe să lucreze în afacerea cu petrol. Partenerul său moare devreme, după care Daniel are grijă de fiul său, care a rămas orfan. Dar Daniel alege acest pas doar pentru a câștiga avantaje și astfel se ridică prin înșelăciune și muncă grea pentru a deveni un baron al petrolului foarte bogat. Fiul său adoptiv H.W. pe de altă parte, își pierde auzul într-un accident la o pompă de ulei. Pe măsură ce anii au trecut, averea lui Daniel a crescut și, odată cu ea, ura lui nemărginită față de oameni...', 'runtime': 158, 'tagline': 'Va fi lăcomie. Va fi răzbunare.', 'title': 'Va curge sânge'}}, {'iso_3166_1': 'RU', 'iso_639_1': 'ru', 'name': 'Pусский', 'english_name': 'Russian', 'data': {'homepage': '', 'overview': 'Экранизация романа «Нефть» классика американской литературы Эптона Синклера. Действие книги происходит в конце 1920-х в Калифорнии и описывает взлет нефтедобывающей компании, принадлежащей амбициозному и бездушному магнату Плейнвью.', 'runtime': 0, 'tagline': '', 'title': 'Нефть'}}, {'iso_3166_1': 'SK', 'iso_639_1': 'sk', 'name': 'Slovenčina', 'english_name': 'Slovak', 'data': {'homepage': '', 'overview': 'Film Až na krv sa odohráva v Kalifornii na prelome storočia, v období ropného boomu. Príbeh dokumentuje vzostup Daniela Plainviewa, osamelého otca, ktorý sa z živoriaceho baníka v striebornej bani vypracuje na pozícii ropného magnáta. Keď Plainview dostane záhadný tip, že smerom na západ leží mestečko, v ktorom prýšti zo zeme oceán nafty, vydá sa so svojím synom H.W. skúsiť šťastie v zaprášených uliciach mesta Little Boston. Plainview a H.W. sa v tomto chudobnom meste, ktorého hlavnou atrakciou je kostol s charizmatickým kazateľom Elim Sundayom, pokúšajú prelomiť doterajšiu smolu. Ale aj keď sa im začína dariť, nedokážu uniknúť konfliktom, v ktorých sú všetky základné hodnoty – láska, nádej, pospolitosť, viera, ambície a dokonca aj puto medzi otcom a synom – ohrozované korupciou, podvodmi a prúdmi ropy.', 'runtime': 152, 'tagline': '', 'title': 'Čierna krv'}}, {'iso_3166_1': 'SI', 'iso_639_1': 'sl', 'name': 'Slovenščina', 'english_name': 'Slovenian', 'data': {'homepage': '', 'overview': 'Epska zgodba in družinska drama spremlja ljudi, ki so iskali srečo in bogastvo v času naftne mrzlice v Kaliforniji na prelomu 20. stoletja. Kronološko niza osebne dogodke iz življenja Daniela Plainviewa. Pred gledalčevimi očmi se odvija Danielova prepričljiva in srhljiva preobrazba iz revnega garaškega iskalca srebra, ki sam skrbi za sina, v samoniklega naftnega mogotca, zaslepljenega od črnega zlata – v tolikšni meri, da v njem nihče, ki mu je blizu, kmalu ne prepozna več niti za trohico človeškega. Med tistimi, ki so hodili z njim ali mu stopili na pot, sta najtežje breme njegove razčlovečenosti nosila njegov gluhonemi sin G. W. ter mladi pridigar Eli Sunday. Slednji predstavlja drugo vrsto obsedenosti in poblaznelosti, ki danes razkraja svet še bolj kot kdajkoli – obsedenost od institucionalizirane vere in resničnega pohlepa, ki ga sprenevedavo prikriva. Ko taka človeka trčita v navzkrižju interesov ter nasprotju ideologij, bo poleg nafte tekla tudi kri.', 'runtime': 152, 'tagline': '', 'title': 'Tekla bo kri'}}, {'iso_3166_1': 'SE', 'iso_639_1': 'sv', 'name': 'svenska', 'english_name': 'Swedish', 'data': {'homepage': '', 'overview': 'Kaliforniens oljeuppsving i början av 1900-talet. Filmen är en krönika om den misslyckade silverletaren Daniel Plainview som ensam uppfostrar sin son, men också om hans förvandling på egen hand till hårdför oljepamp När Plainview får ett tips att det finns en liten stad ute i västern, där ett hav av olja rinner fram ur marken, tar han med sig sin son H.W. och reser till dammiga Little Boston. I denna strävsamma stad, där det mest spännande som händer är när karismatiske prästen Eli Sunday predikar, hittar Plainview och H.W. bokstavligt talat en svart guldåder. Plainview och hans son blir rika, men ingenting kommer längre att vara det samma. Snart riskerar varje mänskligt värde som kärlek, hopp, samhälle, tro, ambition och även bandet mellan far och son att krossas av korruption, bedrägeri och strömmen av olja...', 'runtime': 0, 'tagline': '', 'title': ''}}, {'iso_3166_1': 'TH', 'iso_639_1': 'th', 'name': 'ภาษาไทย', 'english_name': 'Thai', 'data': {'homepage': '', 'overview': 'แดเนียล เพลนวิว (แดเนียล เดย์-ลูวิส) ผันตัวเองจากนักทำเหมืองเงินที่สิ้นเนื้อประดาตัวมาเป็นนักธุรกิจน้ำมันผู้ร่ำรวย เมื่อ แดเนียล ได้รู้ความลับว่าเมืองเล็ก ๆ ที่ออกไปทางตะวันตกนั้นมีแหล่งที่มีน้ำมันปริมาณมหาศาลไหลซึมออกมาจากพื้นดิน เขาจึงพาลูกชายของเขา เอช ดับเบิ้ลยู (แมทท์ ดิลลอน) นั้นมุ่งหน้าไปที่ ลิตเติลบอสตัน', 'runtime': 0, 'tagline': '', 'title': 'ศรัทธาฝังเลือด'}}, {'iso_3166_1': 'TR', 'iso_639_1': 'tr', 'name': 'Türkçe', 'english_name': 'Turkish', 'data': {'homepage': '', 'overview': 'Upton Sinclair’in “Petrol-Oil!” adlı romanından uyarlanan filmin konusu, 20. yüzyılın başlarında geçer. Aile çiftliği arazisinde petrol çıkartma haklarını almasıyla birlikte servetini hızla katlayan bir işadamı ile (Daniel Day-Lewis), kısa sürede gelişip kalkınan kasabanın karizmatik genç rahibinin (Paul Dano) paralel öyküsü anlatılır. Güney Kaliforniya’da petrol bulunmasının ardından ortaya çıkan tablo, daha önceki yıllardaki “Altına Hücum” olgusunun eşdeğeridir. İşadamının Amerikan Rüyası kavramının farkına varması ve Amerikan Rüyası tarafından yok edilmesiyle birlikte filmin öyküsü hırs ve inançların irdelemesine dönüşür.', 'runtime': 158, 'tagline': 'Hırs olacak.  İntikam olacak.', 'title': 'Kan Dökülecek'}}, {'iso_3166_1': 'UA', 'iso_639_1': 'uk', 'name': 'Український', 'english_name': 'Ukrainian', 'data': {'homepage': '', 'overview': 'Події розгортаються у 1898 році. Головний герой – цілеспрямований старатель Деніел Плейнв’ю, який з кайлом в руках сам працює в шахті. Він сам знаходить нафту і через кілька років стає потужним нафтопромисловцем. Деніел поступово розширює бізнес, скуповуючи за безцінь ділянки, на яких можна побудувати свердловини. Але його конкуренти не сплять, а різні аферисти та здирники шукають способів випросити у підприємця грошей. Втім, Плейнв’ю ніколи не любив людей, а статки роблять його схожим на справжнє чудовисько…', 'runtime': 0, 'tagline': '', 'title': 'Нафта'}}, {'iso_3166_1': 'VN', 'iso_639_1': 'vi', 'name': 'Tiếng Việt', 'english_name': 'Vietnamese', 'data': {'homepage': '', 'overview': 'Bộ phim dựa trên tiểu thuyết Oil (Dầu mỏ) nổi tiếng của nhà văn Upton Sinclair viết năm năm 1927 kể về cuộc đời của tay buôn dầu mỏ Daniel Plainview, cuộc đời ấy đã thay đổi do những tham vọng và để đạt được giấc mơ Mỹ, bàn tay anh bắt đầu nhúng chàm... Sẽ có Tham lam. Sẽ Có Báo Thù.', 'runtime': 0, 'tagline': '', 'title': 'Máu Sẽ Phải Đổ'}}, {'iso_3166_1': 'CN', 'iso_639_1': 'zh', 'name': '普通话', 'english_name': 'Mandarin', 'data': {'homepage': '', 'overview': '1898年，银矿工丹尼尔·普莱恩惟尤（丹尼尔·戴·刘易斯 Daniel Day Lewis 饰）因井下作业事故摔断了腿，但他因祸得福了解到秘密的石油信息。他利用领养的孤儿HW（狄龙·弗雷泽尔 Dillon Freasier 饰）欺骗乡民赢得了石油地盘，从此飞黄腾达。但是， 成为 石油大亨的他并不快乐，在一次意外事故中H.W不幸失聪， HW对他的怨恨与日俱增，他唯一认亲的兄弟居然也是冒牌货。传教士伊莱·桑迪不过是个借宗教蛊惑人心的小人。在一次采矿事故中，丹尼尔的工人不幸丧生。正当他希望伊莱（保罗·达诺 Paul Dano 饰）施以援手时，对方羞辱了他，两人从此开始明争暗斗……', 'runtime': 158, 'tagline': '21世纪最好的电影', 'title': '血色将至'}}, {'iso_3166_1': 'HK', 'iso_639_1': 'zh', 'name': '普通话', 'english_name': 'Mandarin', 'data': {'homepage': '', 'overview': '', 'runtime': 0, 'tagline': '', 'title': '黑金風雲'}}, {'iso_3166_1': 'TW', 'iso_639_1': 'zh', 'name': '普通话', 'english_name': 'Mandarin', 'data': {'homepage': '', 'overview': '本片獲得2008奧斯卡8項提名，《戀愛雞尾酒》導演保羅湯瑪斯安德森，自編自導第五部作品，丹尼爾戴路易斯（Daniel Day Lewis）主演，改編自Upton Sinclair的著作OIL!(1927)。在二十世紀初，早期石油未普遍開採的時代，無名小卒採銀礦工丹尼爾普蘭攸(丹尼爾戴路易斯飾)，帶著身家財產及僅有的一切，與兒子來到小波士頓區偏遠的鄉間，在牧師伊萊（Paul Dano 飾）協助下，挖到了油脈而嘗到一夜致富的滋味。從此丹尼爾心目中只有探油與開發新油點，他冷血與無情，對付競爭對手絕不留情，讓他成為一輩子也夢想不到的大富翁，29年過去，丹尼爾終於成為石油大亨，但這一場黑金追逐的人生金錢遊戲，誰能成為真正的贏家？從石油大亨丹尼爾與家族的興起到敗落，展現貪婪、腐敗以及對美國夢的追求。', 'runtime': 0, 'tagline': '', 'title': '黑金企業'}}]}, 'keywords': {'keywords': [{'id': 380, 'name': 'sibling relationship'}, {'id': 387, 'name': 'california'}, {'id': 592, 'name': 'capitalism'}, {'id': 818, 'name': 'based on novel or book'}, {'id': 1499, 'name': 'pastor'}, {'id': 1635, 'name': 'deaf-mute'}, {'id': 2355, 'name': 'american dream'}, {'id': 3419, 'name': 'fanatic'}, {'id': 5175, 'name': 'petrol'}, {'id': 5651, 'name': 'baptism'}, {'id': 5905, 'name': 'father'}, {'id': 9622, 'name': 'misanthrophy'}, {'id': 10590, 'name': 'oil'}, {'id': 10594, 'name': 'money'}, {'id': 11001, 'name': 'religion'}, {'id': 14765, 'name': 'church'}, {'id': 15127, 'name': 'killer'}, {'id': 33457, 'name': 'alcoholic'}, {'id': 157291, 'name': 'narcissism'}, {'id': 164186, 'name': 'character study'}, {'id': 174916, 'name': 'bowling alley'}, {'id': 188953, 'name': 'sign languages'}, {'id': 209051, 'name': 'adopted son'}, {'id': 236170, 'name': 'early 1900s'}]}, 'release_dates': {'results': [{'iso_3166_1': 'AU', 'release_dates': [{'certification': 'M', 'descriptors': [], 'iso_639_1': '', 'note': '', 'release_date': '2008-02-04T00:00:00.000Z', 'type': 3}]}, {'iso_3166_1': 'CZ', 'release_dates': [{'certification': '15', 'descriptors': [], 'iso_639_1': '', 'note': '', 'release_date': '2008-03-27T00:00:00.000Z', 'type': 3}]}, {'iso_3166_1': 'KR', 'release_dates': [{'certification': '15', 'descriptors': [], 'iso_639_1': '', 'note': '', 'release_date': '2008-03-06T00:00:00.000Z', 'type': 3}]}, {'iso_3166_1': 'NL', 'release_dates': [{'certification': '16', 'descriptors': [], 'iso_639_1': '', 'note': '', 'release_date': '2008-02-28T00:00:00.000Z', 'type': 3}, {'certification': '16', 'descriptors': [], 'iso_639_1': '', 'note': 'DVD', 'release_date': '2012-10-24T00:00:00.000Z', 'type': 5}, {'certification': '16', 'descriptors': [], 'iso_639_1': '', 'note': 'Blu ray', 'release_date': '2011-09-07T00:00:00.000Z', 'type': 5}, {'certification': '16', 'descriptors': [], 'iso_639_1': '', 'note': 'Nederland 3', 'release_date': '2013-04-13T00:00:00.000Z', 'type': 6}]}, {'iso_3166_1': 'US', 'release_dates': [{'certification': '', 'descriptors': [], 'iso_639_1': '', 'note': 'Fantastic Fest', 'release_date': '2007-09-27T00:00:00.000Z', 'type': 1}, {'certification': '', 'descriptors': [], 'iso_639_1': '', 'note': 'New York City, New York', 'release_date': '2007-12-10T00:00:00.000Z', 'type': 1}, {'certification': 'R', 'descriptors': [], 'iso_639_1': '', 'note': '', 'release_date': '2007-12-26T00:00:00.000Z', 'type': 2}, {'certification': 'R', 'descriptors': [], 'iso_639_1': '', 'note': '', 'release_date': '2008-01-25T00:00:00.000Z', 'type': 3}]}, {'iso_3166_1': 'IT', 'release_dates': [{'certification': 'T', 'descriptors': [], 'iso_639_1': 'it', 'note': '', 'release_date': '2008-02-15T00:00:00.000Z', 'type': 3}]}, {'iso_3166_1': 'DK', 'release_dates': [{'certification': '15', 'descriptors': [], 'iso_639_1': '', 'note': '', 'release_date': '2008-01-25T00:00:00.000Z', 'type': 3}]}, {'iso_3166_1': 'DE', 'release_dates': [{'certification': '', 'descriptors': [], 'iso_639_1': '', 'note': 'Berlin International Film Festival', 'release_date': '2008-02-08T00:00:00.000Z', 'type': 1}, {'certification': '12', 'descriptors': [], 'iso_639_1': '', 'note': '', 'release_date': '2008-02-14T00:00:00.000Z', 'type': 3}]}, {'iso_3166_1': 'CA', 'release_dates': [{'certification': '14A', 'descriptors': [], 'iso_639_1': '', 'note': '', 'release_date': '2008-01-04T00:00:00.000Z', 'type': 3}]}, {'iso_3166_1': 'GB', 'release_dates': [{'certification': '15', 'descriptors': [], 'iso_639_1': '', 'note': '', 'release_date': '2008-02-15T00:00:00.000Z', 'type': 3}]}, {'iso_3166_1': 'FR', 'release_dates': [{'certification': '12', 'descriptors': [], 'iso_639_1': '', 'note': '', 'release_date': '2008-02-27T00:00:00.000Z', 'type': 3}]}, {'iso_3166_1': 'IE', 'release_dates': [{'certification': '15A', 'descriptors': [], 'iso_639_1': '', 'note': '', 'release_date': '2008-02-15T00:00:00.000Z', 'type': 3}]}, {'iso_3166_1': 'PT', 'release_dates': [{'certification': 'M/12', 'descriptors': [], 'iso_639_1': '', 'note': '', 'release_date': '2008-02-14T00:00:00.000Z', 'type': 3}]}, {'iso_3166_1': 'GR', 'release_dates': [{'certification': '', 'descriptors': [], 'iso_639_1': '', 'release_date': '2008-02-21T00:00:00.000Z', 'type': 3}]}, {'iso_3166_1': 'RO', 'release_dates': [{'certification': '', 'descriptors': [], 'iso_639_1': '', 'note': '', 'release_date': '2008-03-21T00:00:00.000Z', 'type': 3}]}]}}"
      ]
     },
     "execution_count": 47,
     "metadata": {},
     "output_type": "execute_result"
    }
   ],
   "source": [
    "movie = Movie()\n",
    "details = movie.details(tmdb_id)\n",
    "details"
   ]
  },
  {
   "cell_type": "code",
   "execution_count": 48,
   "metadata": {},
   "outputs": [],
   "source": [
    "crew = [\n",
    "    'Director',\n",
    "    'Director of Photography',\n",
    "    'Original Music Composer',\n",
    "    'Screenplay',\n",
    "    'Writer'\n",
    "]"
   ]
  },
  {
   "cell_type": "code",
   "execution_count": 53,
   "metadata": {},
   "outputs": [
    {
     "data": {
      "text/plain": [
       "[{'adult': False, 'gender': 2, 'id': 2950, 'known_for_department': 'Camera', 'name': 'Robert Elswit', 'original_name': 'Robert Elswit', 'popularity': 3.042, 'profile_path': '/5urU681Z1ZyJxfjEGp6qY6XYXg1.jpg', 'credit_id': '52fe447bc3a36847f8098a33', 'department': 'Camera', 'job': 'Director of Photography'},\n",
       " {'adult': False, 'gender': 2, 'id': 4762, 'known_for_department': 'Directing', 'name': 'Paul Thomas Anderson', 'original_name': 'Paul Thomas Anderson', 'popularity': 7.012, 'profile_path': '/29DHpRKddqTwo2NU162Y49JoQYa.jpg', 'credit_id': '52fe447bc3a36847f8098a23', 'department': 'Writing', 'job': 'Screenplay'},\n",
       " {'adult': False, 'gender': 2, 'id': 4762, 'known_for_department': 'Directing', 'name': 'Paul Thomas Anderson', 'original_name': 'Paul Thomas Anderson', 'popularity': 7.012, 'profile_path': '/29DHpRKddqTwo2NU162Y49JoQYa.jpg', 'credit_id': '52fe447bc3a36847f8098a5d', 'department': 'Directing', 'job': 'Director'},\n",
       " {'adult': False, 'gender': 2, 'id': 74333, 'known_for_department': 'Sound', 'name': 'Jonny Greenwood', 'original_name': 'Jonny Greenwood', 'popularity': 3.129, 'profile_path': '/wDzFkChTvghv8Wrt3hZIYtC3uhV.jpg', 'credit_id': '59558c759251412b3105a8ee', 'department': 'Sound', 'job': 'Original Music Composer'}]"
      ]
     },
     "execution_count": 53,
     "metadata": {},
     "output_type": "execute_result"
    }
   ],
   "source": [
    "[x for x in details['casts']['crew'] if x['job'] in crew]"
   ]
  },
  {
   "cell_type": "code",
   "execution_count": 57,
   "metadata": {},
   "outputs": [],
   "source": [
    "person = Person()"
   ]
  },
  {
   "cell_type": "code",
   "execution_count": 58,
   "metadata": {},
   "outputs": [],
   "source": [
    "person_test = person.details('138')"
   ]
  },
  {
   "cell_type": "code",
   "execution_count": 60,
   "metadata": {},
   "outputs": [
    {
     "data": {
      "text/plain": [
       "dict_keys(['adult', 'also_known_as', 'biography', 'birthday', 'deathday', 'gender', 'homepage', 'id', 'imdb_id', 'known_for_department', 'name', 'place_of_birth', 'popularity', 'profile_path', 'images'])"
      ]
     },
     "execution_count": 60,
     "metadata": {},
     "output_type": "execute_result"
    }
   ],
   "source": [
    "person_test.keys()"
   ]
  },
  {
   "cell_type": "code",
   "execution_count": 69,
   "metadata": {},
   "outputs": [],
   "source": [
    "person_attrs = [\n",
    "    'id',\n",
    "    'name',\n",
    "    'imdb_id',\n",
    "    'gender',\n",
    "    'birthday',\n",
    "    'deathday',\n",
    "    'known_for_department',\n",
    "    'place_of_birth',\n",
    "    'popularity'\n",
    "]"
   ]
  },
  {
   "cell_type": "code",
   "execution_count": 70,
   "metadata": {},
   "outputs": [
    {
     "name": "stdout",
     "output_type": "stream",
     "text": [
      "id  =  138\n",
      "name  =  Quentin Tarantino\n",
      "imdb_id  =  nm0000233\n",
      "gender  =  2\n",
      "birthday  =  1963-03-27\n",
      "deathday  =  None\n",
      "known_for_department  =  Directing\n",
      "place_of_birth  =  Knoxville, Tennessee, USA\n",
      "popularity  =  20.438\n"
     ]
    }
   ],
   "source": [
    "for attr in person_attrs:\n",
    "    print(attr, ' = ', person_test.get(attr))"
   ]
  },
  {
   "cell_type": "code",
   "execution_count": 3,
   "metadata": {},
   "outputs": [],
   "source": [
    "attrs = {\n",
    "    'belongs_to_collection': None,\n",
    "    'budget': None,\n",
    "    'original_language': 'languages',\n",
    "    'popularity': 'popularity',\n",
    "    'release_date': 'first_air_date',\n",
    "    'revenue': None,\n",
    "    'runtime': ['episode_run_time', 'number_of_episodes'],\n",
    "    'status': 'status',\n",
    "    'vote_average': 'vote_average',\n",
    "    'vote_count': 'vote_count',\n",
    "    'keywords': 'keywords',\n",
    "    'casts': 'credits'\n",
    "}"
   ]
  },
  {
   "cell_type": "code",
   "execution_count": null,
   "metadata": {},
   "outputs": [],
   "source": []
  },
  {
   "cell_type": "code",
   "execution_count": 4,
   "metadata": {},
   "outputs": [],
   "source": [
    "def create_movie_metadata_dict(film_id):\n",
    "    film_title = get_from_table('FILM_TITLE', film_id, 'FILM_TITLE')\n",
    "    tmdb_id = get_from_table('TMDB_ID', film_id, 'TMDB_ID')\n",
    "    content_type = get_from_table('CONTENT_TYPE', film_id, 'CONTENT_TYPE')\n",
    "    print('Film ID is \"{}\", title is \"{}\", and TMDB id is \"{}\", while content type is \"{}\"'.format(film_id, film_title, tmdb_id, content_type))\n",
    "    movie_metadata_dict = {'FILM_ID': film_id}\n",
    "    if content_type == 'movie':\n",
    "        movie = Movie()\n",
    "        try:\n",
    "            details = movie.details(tmdb_id)\n",
    "            for k in attrs:\n",
    "                movie_metadata_dict[k] = details.get(k, None)\n",
    "        except:\n",
    "            None\n",
    "    elif content_type == 'tv':\n",
    "        tv = TV()\n",
    "        details = tv.details(tmdb_id, 'credits,keywords')\n",
    "        for k in attrs:\n",
    "            if type(attrs[k]) == list:\n",
    "                movie_metadata_dict[k] = [details.get(x, None) for x in attrs[k]]\n",
    "            else:\n",
    "                movie_metadata_dict[k] = details.get(attrs[k], None)\n",
    "        movie_metadata_dict['original_language'] = movie_metadata_dict['original_language'][0]\n",
    "        movie_metadata_dict['runtime'] = movie_metadata_dict['runtime'][0][0] * movie_metadata_dict['runtime'][1]\n",
    "        movie_metadata_dict['status'] = movie_metadata_dict['status'].replace('Returning Series', 'Released').replace('Ended', 'Released')\n",
    "        if len(movie_metadata_dict.get('keywords', {'keywords': []}).get('keywords')) == 0:\n",
    "               movie_metadata_dict['keywords']['keywords'] = [{'id': -1, 'name': 'none'}]\n",
    "    else:\n",
    "        details = {}\n",
    "    return {'film_title': film_title, 'tmdb_id': tmdb_id, 'content_type':content_type, 'movie_metadata_dict': movie_metadata_dict, 'details': details}"
   ]
  },
  {
   "cell_type": "code",
   "execution_count": 5,
   "metadata": {},
   "outputs": [
    {
     "name": "stdout",
     "output_type": "stream",
     "text": [
      "Film ID is \"f_097fO\", title is \"Wyrmwood: Road of the Dead\", and TMDB id is \"290999\", while content type is \"movie\"\n"
     ]
    },
    {
     "data": {
      "text/plain": [
       "{'film_title': 'Wyrmwood: Road of the Dead',\n",
       " 'tmdb_id': '290999',\n",
       " 'content_type': 'movie',\n",
       " 'movie_metadata_dict': {'FILM_ID': 'f_097fO',\n",
       "  'belongs_to_collection': {'id': 927812, 'name': 'Wyrmwood Collection', 'poster_path': '/tRSNW8dte5P9L8vZPaCFFkjAOnI.jpg', 'backdrop_path': '/drstxfAEQ8tR1qf9Axzg6ZnhGxn.jpg'},\n",
       "  'budget': 0,\n",
       "  'original_language': 'en',\n",
       "  'popularity': 11.539,\n",
       "  'release_date': '2014-09-19',\n",
       "  'revenue': 0,\n",
       "  'runtime': 98,\n",
       "  'status': 'Released',\n",
       "  'vote_average': 6.089,\n",
       "  'vote_count': 384,\n",
       "  'keywords': {'keywords': [{'id': 12377, 'name': 'zombie'}, {'id': 186565, 'name': 'zombie apocalypse'}]},\n",
       "  'casts': {'cast': [{'adult': False, 'gender': 0, 'id': 1262388, 'known_for_department': 'Acting', 'name': 'Jay Gallagher', 'original_name': 'Jay Gallagher', 'popularity': 1.757, 'profile_path': '/ppwekPN23qcJER0Wiih5sQi1JwW.jpg', 'cast_id': 1, 'character': 'Barry', 'credit_id': '540bbc1dc3a368799f0027f7', 'order': 0}, {'adult': False, 'gender': 1, 'id': 1326440, 'known_for_department': 'Acting', 'name': 'Bianca Bradey', 'original_name': 'Bianca Bradey', 'popularity': 2.908, 'profile_path': '/njh8eYOn052EtHoHLcU1scsahyJ.jpg', 'cast_id': 2, 'character': 'Brooke', 'credit_id': '540bbc29c3a368799f0027fa', 'order': 1}, {'adult': False, 'gender': 0, 'id': 124573, 'known_for_department': 'Acting', 'name': 'Leon Burchill', 'original_name': 'Leon Burchill', 'popularity': 0.6, 'profile_path': '/uaIHGQtIrkmpR0pkYGSYTPX6HBY.jpg', 'cast_id': 3, 'character': 'Benny', 'credit_id': '540bbc34c3a36879ab002796', 'order': 2}, {'adult': False, 'gender': 2, 'id': 1361549, 'known_for_department': 'Acting', 'name': 'Luke McKenzie', 'original_name': 'Luke McKenzie', 'popularity': 1.96, 'profile_path': '/uZWHe3vwoL7LrAZYUMgNqoCEOA5.jpg', 'cast_id': 4, 'character': 'The Captain', 'credit_id': '540bbc43c3a368799f0027ff', 'order': 3}, {'adult': False, 'gender': 2, 'id': 1361556, 'known_for_department': 'Acting', 'name': 'Yure Covich', 'original_name': 'Yure Covich', 'popularity': 1.294, 'profile_path': '/e7T3bI9mCNZPbPuMcAPvR575nn8.jpg', 'cast_id': 7, 'character': 'Chalker', 'credit_id': '540bc208c3a36879a2002aeb', 'order': 4}, {'adult': False, 'gender': 0, 'id': 1361557, 'known_for_department': 'Acting', 'name': 'Catherine Terracini', 'original_name': 'Catherine Terracini', 'popularity': 0.98, 'profile_path': None, 'cast_id': 8, 'character': 'Annie', 'credit_id': '540bc215c3a368799f0028df', 'order': 5}, {'adult': False, 'gender': 0, 'id': 88381, 'known_for_department': 'Acting', 'name': 'Keith Agius', 'original_name': 'Keith Agius', 'popularity': 1.0, 'profile_path': '/xVQbagPdPdG3S3M34cLWVqwK1RH.jpg', 'cast_id': 9, 'character': 'Frank', 'credit_id': '540bc222c3a36879ae002713', 'order': 6}, {'adult': False, 'gender': 0, 'id': 1361558, 'known_for_department': 'Acting', 'name': 'Berryn Schwerdt', 'original_name': 'Berryn Schwerdt', 'popularity': 0.6, 'profile_path': None, 'cast_id': 10, 'character': 'The Doctor', 'credit_id': '540bc230c3a36879b2002635', 'order': 7}, {'adult': False, 'gender': 2, 'id': 1361559, 'known_for_department': 'Acting', 'name': 'Cain Thompson', 'original_name': 'Cain Thompson', 'popularity': 1.425, 'profile_path': '/6Lw8MGCtcc7dIca5GUjtzUjzuvj.jpg', 'cast_id': 11, 'character': 'McGaughlin', 'credit_id': '540bc23fc3a368799c0028f9', 'order': 8}, {'adult': False, 'gender': 1, 'id': 1361560, 'known_for_department': 'Acting', 'name': 'Beth Aubrey', 'original_name': 'Beth Aubrey', 'popularity': 0.6, 'profile_path': '/xTi9UcGY0aUhejvzmqPlxYGcYf2.jpg', 'cast_id': 12, 'character': 'Charlotte', 'credit_id': '540bc24cc3a36879a800285f', 'order': 9}, {'adult': False, 'gender': 0, 'id': 1361561, 'known_for_department': 'Acting', 'name': 'Sheridan Harbridge', 'original_name': 'Sheridan Harbridge', 'popularity': 0.6, 'profile_path': None, 'cast_id': 13, 'character': 'Sherri', 'credit_id': '540bc257c3a368799c0028ff', 'order': 10}, {'adult': False, 'gender': 0, 'id': 1361562, 'known_for_department': 'Acting', 'name': 'Damian Dyke', 'original_name': 'Damian Dyke', 'popularity': 0.6, 'profile_path': None, 'cast_id': 14, 'character': 'Thompson', 'credit_id': '540bc262c3a36879b2002640', 'order': 11}, {'adult': False, 'gender': 0, 'id': 1361564, 'known_for_department': 'Acting', 'name': 'John Michael Burdon', 'original_name': 'John Michael Burdon', 'popularity': 0.6, 'profile_path': None, 'cast_id': 15, 'character': 'Zombie', 'credit_id': '540bc271c3a36879a2002af6', 'order': 12}, {'adult': False, 'gender': 0, 'id': 1861509, 'known_for_department': 'Crew', 'name': 'Jesse Rowles', 'original_name': 'Jesse Rowles', 'popularity': 1.285, 'profile_path': None, 'cast_id': 33, 'character': 'Zombie', 'credit_id': '60882732cabfe4002950a389', 'order': 13}], 'crew': [{'adult': False, 'gender': 2, 'id': 1014694, 'known_for_department': 'Sound', 'name': 'Michael Lira', 'original_name': 'Michael Lira', 'popularity': 0.6, 'profile_path': '/fQyKbUASuD3F7kv3pZZR7h8SX0v.jpg', 'credit_id': '5540b08cc3a3681da00015c6', 'department': 'Sound', 'job': 'Original Music Composer'}, {'adult': False, 'gender': 0, 'id': 1262388, 'known_for_department': 'Acting', 'name': 'Jay Gallagher', 'original_name': 'Jay Gallagher', 'popularity': 1.757, 'profile_path': '/ppwekPN23qcJER0Wiih5sQi1JwW.jpg', 'credit_id': '540bc2d1c3a36879a2002b0f', 'department': 'Production', 'job': 'Casting'}, {'adult': False, 'gender': 2, 'id': 1361546, 'known_for_department': 'Directing', 'name': 'Kiah Roache-Turner', 'original_name': 'Kiah Roache-Turner', 'popularity': 1.054, 'profile_path': '/1y2ZVFfxtKC4SR3s6IMiZB7WpnE.jpg', 'credit_id': '540bc1e9c3a36879a2002ae3', 'department': 'Writing', 'job': 'Screenplay'}, {'adult': False, 'gender': 2, 'id': 1361546, 'known_for_department': 'Directing', 'name': 'Kiah Roache-Turner', 'original_name': 'Kiah Roache-Turner', 'popularity': 1.054, 'profile_path': '/1y2ZVFfxtKC4SR3s6IMiZB7WpnE.jpg', 'credit_id': '540bbc10c3a36879ab00278f', 'department': 'Directing', 'job': 'Director'}, {'adult': False, 'gender': 2, 'id': 1361546, 'known_for_department': 'Directing', 'name': 'Kiah Roache-Turner', 'original_name': 'Kiah Roache-Turner', 'popularity': 1.054, 'profile_path': '/1y2ZVFfxtKC4SR3s6IMiZB7WpnE.jpg', 'credit_id': '5540b09cc3a3681dab00169f', 'department': 'Editing', 'job': 'Editor'}, {'adult': False, 'gender': 2, 'id': 1361546, 'known_for_department': 'Directing', 'name': 'Kiah Roache-Turner', 'original_name': 'Kiah Roache-Turner', 'popularity': 1.054, 'profile_path': '/1y2ZVFfxtKC4SR3s6IMiZB7WpnE.jpg', 'credit_id': '5540b0a99251414af900156e', 'department': 'Art', 'job': 'Production Design'}, {'adult': False, 'gender': 2, 'id': 1361546, 'known_for_department': 'Directing', 'name': 'Kiah Roache-Turner', 'original_name': 'Kiah Roache-Turner', 'popularity': 1.054, 'profile_path': '/1y2ZVFfxtKC4SR3s6IMiZB7WpnE.jpg', 'credit_id': '5540b0599251414af3001646', 'department': 'Production', 'job': 'Executive Producer'}, {'adult': False, 'gender': 0, 'id': 1361555, 'known_for_department': 'Production', 'name': 'Tristan Roache-Turner', 'original_name': 'Tristan Roache-Turner', 'popularity': 0.629, 'profile_path': None, 'credit_id': '540bc1f5c3a36879ab00284a', 'department': 'Writing', 'job': 'Screenplay'}, {'adult': False, 'gender': 0, 'id': 1361555, 'known_for_department': 'Production', 'name': 'Tristan Roache-Turner', 'original_name': 'Tristan Roache-Turner', 'popularity': 0.629, 'profile_path': None, 'credit_id': '5540b0b59251414af300164d', 'department': 'Art', 'job': 'Production Design'}, {'adult': False, 'gender': 0, 'id': 1361555, 'known_for_department': 'Production', 'name': 'Tristan Roache-Turner', 'original_name': 'Tristan Roache-Turner', 'popularity': 0.629, 'profile_path': None, 'credit_id': '5540b06e9251414af6001541', 'department': 'Production', 'job': 'Producer'}, {'adult': False, 'gender': 0, 'id': 1361555, 'known_for_department': 'Production', 'name': 'Tristan Roache-Turner', 'original_name': 'Tristan Roache-Turner', 'popularity': 0.629, 'profile_path': None, 'credit_id': '5540b067c3a36829e50012ac', 'department': 'Production', 'job': 'Executive Producer'}, {'adult': False, 'gender': 0, 'id': 1361565, 'known_for_department': 'Production', 'name': 'Jamie Hilton', 'original_name': 'Jamie Hilton', 'popularity': 0.6, 'profile_path': None, 'credit_id': '540bc292c3a368799c002909', 'department': 'Production', 'job': 'Executive Producer'}, {'adult': False, 'gender': 0, 'id': 1361566, 'known_for_department': 'Production', 'name': 'Ciaran Jordan', 'original_name': 'Ciaran Jordan', 'popularity': 0.6, 'profile_path': None, 'credit_id': '540bc29ec3a36879a2002b06', 'department': 'Production', 'job': 'Line Producer'}, {'adult': False, 'gender': 0, 'id': 1361567, 'known_for_department': 'Production', 'name': 'Josh Pomeranz', 'original_name': 'Josh Pomeranz', 'popularity': 0.98, 'profile_path': None, 'credit_id': '5540b04a9251414ae600164e', 'department': 'Production', 'job': 'Executive Producer'}, {'adult': False, 'gender': 2, 'id': 1361568, 'known_for_department': 'Camera', 'name': 'Tim Nagle', 'original_name': 'Tim Nagle', 'popularity': 0.6, 'profile_path': None, 'credit_id': '5540b07d9251413d6d001200', 'department': 'Camera', 'job': 'Director of Photography'}, {'adult': False, 'gender': 0, 'id': 1861509, 'known_for_department': 'Crew', 'name': 'Jesse Rowles', 'original_name': 'Jesse Rowles', 'popularity': 1.285, 'profile_path': None, 'credit_id': '60882a1a904f6d00587fc7af', 'department': 'Crew', 'job': 'Stunts'}, {'adult': False, 'gender': 0, 'id': 1861509, 'known_for_department': 'Crew', 'name': 'Jesse Rowles', 'original_name': 'Jesse Rowles', 'popularity': 1.285, 'profile_path': None, 'credit_id': '608825e1904f6d002a178dfa', 'department': 'Production', 'job': 'Production Coordinator'}, {'adult': False, 'gender': 2, 'id': 1871657, 'known_for_department': 'Crew', 'name': 'Spike Cherrie', 'original_name': 'Spike Cherrie', 'popularity': 1.38, 'profile_path': None, 'credit_id': '62729daf29c626187d93ae8d', 'department': 'Crew', 'job': 'Stunt Coordinator'}, {'adult': False, 'gender': 2, 'id': 2787154, 'known_for_department': 'Production', 'name': 'Matt Wilson', 'original_name': 'Matt Wilson', 'popularity': 0.6, 'profile_path': '/6tPCybKSmHKZzlX7GugYpqxIxAs.jpg', 'credit_id': '5f68e7dac1ffbd0035d29b12', 'department': 'Production', 'job': 'Production Assistant'}]}},\n",
       " 'details': {'adult': False, 'backdrop_path': '/k1KP47cnuscBPS4yYTJJ6S4PDho.jpg', 'belongs_to_collection': {'id': 927812, 'name': 'Wyrmwood Collection', 'poster_path': '/tRSNW8dte5P9L8vZPaCFFkjAOnI.jpg', 'backdrop_path': '/drstxfAEQ8tR1qf9Axzg6ZnhGxn.jpg'}, 'budget': 0, 'genres': [{'id': 27, 'name': 'Horror'}, {'id': 28, 'name': 'Action'}, {'id': 35, 'name': 'Comedy'}], 'homepage': '', 'id': 290999, 'imdb_id': 'tt2535470', 'original_language': 'en', 'original_title': 'Wyrmwood: Road of the Dead', 'overview': 'Barry is a talented mechanic and family man whose life is torn apart on the eve of a zombie apocalypse. His sister, Brooke, is kidnapped by a sinister team of gas-mask wearing soldiers & experimented on by a psychotic doctor. While Brooke plans her escape Barry goes out on the road to find her & teams up with Benny, a fellow survivor - together they must arm themselves and prepare to battle their way through hordes of flesh-eating monsters in a harsh Australian bushland.', 'popularity': 11.539, 'poster_path': '/oyF0zNkTfvodHvkSEs9E88jvQRi.jpg', 'production_companies': [{'id': 32400, 'logo_path': None, 'name': 'Guerilla Films', 'origin_country': 'AU'}], 'production_countries': [{'iso_3166_1': 'AU', 'name': 'Australia'}], 'release_date': '2014-09-19', 'revenue': 0, 'runtime': 98, 'spoken_languages': [{'english_name': 'English', 'iso_639_1': 'en', 'name': 'English'}], 'status': 'Released', 'tagline': 'Mad Max meets Dawn Of The Dead', 'title': 'Wyrmwood: Road of the Dead', 'video': False, 'vote_average': 6.089, 'vote_count': 384, 'videos': {'results': [{'iso_639_1': 'en', 'iso_3166_1': 'US', 'name': 'Wyrmwood Official Trailer 1 (2015) - Horror Movie HD', 'key': 'oJoRHFn7QRw', 'published_at': '2015-01-09T21:49:24.000Z', 'site': 'YouTube', 'size': 720, 'type': 'Trailer', 'official': False, 'id': '54b181d1925141746c00242c'}]}, 'trailers': {'quicktime': [], 'youtube': [{'name': 'Wyrmwood Official Trailer 1 (2015) - Horror Movie HD', 'size': 'HD', 'source': 'oJoRHFn7QRw', 'type': 'Trailer'}]}, 'images': {'backdrops': [], 'logos': [], 'posters': []}, 'casts': {'cast': [{'adult': False, 'gender': 0, 'id': 1262388, 'known_for_department': 'Acting', 'name': 'Jay Gallagher', 'original_name': 'Jay Gallagher', 'popularity': 1.757, 'profile_path': '/ppwekPN23qcJER0Wiih5sQi1JwW.jpg', 'cast_id': 1, 'character': 'Barry', 'credit_id': '540bbc1dc3a368799f0027f7', 'order': 0}, {'adult': False, 'gender': 1, 'id': 1326440, 'known_for_department': 'Acting', 'name': 'Bianca Bradey', 'original_name': 'Bianca Bradey', 'popularity': 2.908, 'profile_path': '/njh8eYOn052EtHoHLcU1scsahyJ.jpg', 'cast_id': 2, 'character': 'Brooke', 'credit_id': '540bbc29c3a368799f0027fa', 'order': 1}, {'adult': False, 'gender': 0, 'id': 124573, 'known_for_department': 'Acting', 'name': 'Leon Burchill', 'original_name': 'Leon Burchill', 'popularity': 0.6, 'profile_path': '/uaIHGQtIrkmpR0pkYGSYTPX6HBY.jpg', 'cast_id': 3, 'character': 'Benny', 'credit_id': '540bbc34c3a36879ab002796', 'order': 2}, {'adult': False, 'gender': 2, 'id': 1361549, 'known_for_department': 'Acting', 'name': 'Luke McKenzie', 'original_name': 'Luke McKenzie', 'popularity': 1.96, 'profile_path': '/uZWHe3vwoL7LrAZYUMgNqoCEOA5.jpg', 'cast_id': 4, 'character': 'The Captain', 'credit_id': '540bbc43c3a368799f0027ff', 'order': 3}, {'adult': False, 'gender': 2, 'id': 1361556, 'known_for_department': 'Acting', 'name': 'Yure Covich', 'original_name': 'Yure Covich', 'popularity': 1.294, 'profile_path': '/e7T3bI9mCNZPbPuMcAPvR575nn8.jpg', 'cast_id': 7, 'character': 'Chalker', 'credit_id': '540bc208c3a36879a2002aeb', 'order': 4}, {'adult': False, 'gender': 0, 'id': 1361557, 'known_for_department': 'Acting', 'name': 'Catherine Terracini', 'original_name': 'Catherine Terracini', 'popularity': 0.98, 'profile_path': None, 'cast_id': 8, 'character': 'Annie', 'credit_id': '540bc215c3a368799f0028df', 'order': 5}, {'adult': False, 'gender': 0, 'id': 88381, 'known_for_department': 'Acting', 'name': 'Keith Agius', 'original_name': 'Keith Agius', 'popularity': 1.0, 'profile_path': '/xVQbagPdPdG3S3M34cLWVqwK1RH.jpg', 'cast_id': 9, 'character': 'Frank', 'credit_id': '540bc222c3a36879ae002713', 'order': 6}, {'adult': False, 'gender': 0, 'id': 1361558, 'known_for_department': 'Acting', 'name': 'Berryn Schwerdt', 'original_name': 'Berryn Schwerdt', 'popularity': 0.6, 'profile_path': None, 'cast_id': 10, 'character': 'The Doctor', 'credit_id': '540bc230c3a36879b2002635', 'order': 7}, {'adult': False, 'gender': 2, 'id': 1361559, 'known_for_department': 'Acting', 'name': 'Cain Thompson', 'original_name': 'Cain Thompson', 'popularity': 1.425, 'profile_path': '/6Lw8MGCtcc7dIca5GUjtzUjzuvj.jpg', 'cast_id': 11, 'character': 'McGaughlin', 'credit_id': '540bc23fc3a368799c0028f9', 'order': 8}, {'adult': False, 'gender': 1, 'id': 1361560, 'known_for_department': 'Acting', 'name': 'Beth Aubrey', 'original_name': 'Beth Aubrey', 'popularity': 0.6, 'profile_path': '/xTi9UcGY0aUhejvzmqPlxYGcYf2.jpg', 'cast_id': 12, 'character': 'Charlotte', 'credit_id': '540bc24cc3a36879a800285f', 'order': 9}, {'adult': False, 'gender': 0, 'id': 1361561, 'known_for_department': 'Acting', 'name': 'Sheridan Harbridge', 'original_name': 'Sheridan Harbridge', 'popularity': 0.6, 'profile_path': None, 'cast_id': 13, 'character': 'Sherri', 'credit_id': '540bc257c3a368799c0028ff', 'order': 10}, {'adult': False, 'gender': 0, 'id': 1361562, 'known_for_department': 'Acting', 'name': 'Damian Dyke', 'original_name': 'Damian Dyke', 'popularity': 0.6, 'profile_path': None, 'cast_id': 14, 'character': 'Thompson', 'credit_id': '540bc262c3a36879b2002640', 'order': 11}, {'adult': False, 'gender': 0, 'id': 1361564, 'known_for_department': 'Acting', 'name': 'John Michael Burdon', 'original_name': 'John Michael Burdon', 'popularity': 0.6, 'profile_path': None, 'cast_id': 15, 'character': 'Zombie', 'credit_id': '540bc271c3a36879a2002af6', 'order': 12}, {'adult': False, 'gender': 0, 'id': 1861509, 'known_for_department': 'Crew', 'name': 'Jesse Rowles', 'original_name': 'Jesse Rowles', 'popularity': 1.285, 'profile_path': None, 'cast_id': 33, 'character': 'Zombie', 'credit_id': '60882732cabfe4002950a389', 'order': 13}], 'crew': [{'adult': False, 'gender': 2, 'id': 1014694, 'known_for_department': 'Sound', 'name': 'Michael Lira', 'original_name': 'Michael Lira', 'popularity': 0.6, 'profile_path': '/fQyKbUASuD3F7kv3pZZR7h8SX0v.jpg', 'credit_id': '5540b08cc3a3681da00015c6', 'department': 'Sound', 'job': 'Original Music Composer'}, {'adult': False, 'gender': 0, 'id': 1262388, 'known_for_department': 'Acting', 'name': 'Jay Gallagher', 'original_name': 'Jay Gallagher', 'popularity': 1.757, 'profile_path': '/ppwekPN23qcJER0Wiih5sQi1JwW.jpg', 'credit_id': '540bc2d1c3a36879a2002b0f', 'department': 'Production', 'job': 'Casting'}, {'adult': False, 'gender': 2, 'id': 1361546, 'known_for_department': 'Directing', 'name': 'Kiah Roache-Turner', 'original_name': 'Kiah Roache-Turner', 'popularity': 1.054, 'profile_path': '/1y2ZVFfxtKC4SR3s6IMiZB7WpnE.jpg', 'credit_id': '540bc1e9c3a36879a2002ae3', 'department': 'Writing', 'job': 'Screenplay'}, {'adult': False, 'gender': 2, 'id': 1361546, 'known_for_department': 'Directing', 'name': 'Kiah Roache-Turner', 'original_name': 'Kiah Roache-Turner', 'popularity': 1.054, 'profile_path': '/1y2ZVFfxtKC4SR3s6IMiZB7WpnE.jpg', 'credit_id': '540bbc10c3a36879ab00278f', 'department': 'Directing', 'job': 'Director'}, {'adult': False, 'gender': 2, 'id': 1361546, 'known_for_department': 'Directing', 'name': 'Kiah Roache-Turner', 'original_name': 'Kiah Roache-Turner', 'popularity': 1.054, 'profile_path': '/1y2ZVFfxtKC4SR3s6IMiZB7WpnE.jpg', 'credit_id': '5540b09cc3a3681dab00169f', 'department': 'Editing', 'job': 'Editor'}, {'adult': False, 'gender': 2, 'id': 1361546, 'known_for_department': 'Directing', 'name': 'Kiah Roache-Turner', 'original_name': 'Kiah Roache-Turner', 'popularity': 1.054, 'profile_path': '/1y2ZVFfxtKC4SR3s6IMiZB7WpnE.jpg', 'credit_id': '5540b0a99251414af900156e', 'department': 'Art', 'job': 'Production Design'}, {'adult': False, 'gender': 2, 'id': 1361546, 'known_for_department': 'Directing', 'name': 'Kiah Roache-Turner', 'original_name': 'Kiah Roache-Turner', 'popularity': 1.054, 'profile_path': '/1y2ZVFfxtKC4SR3s6IMiZB7WpnE.jpg', 'credit_id': '5540b0599251414af3001646', 'department': 'Production', 'job': 'Executive Producer'}, {'adult': False, 'gender': 0, 'id': 1361555, 'known_for_department': 'Production', 'name': 'Tristan Roache-Turner', 'original_name': 'Tristan Roache-Turner', 'popularity': 0.629, 'profile_path': None, 'credit_id': '540bc1f5c3a36879ab00284a', 'department': 'Writing', 'job': 'Screenplay'}, {'adult': False, 'gender': 0, 'id': 1361555, 'known_for_department': 'Production', 'name': 'Tristan Roache-Turner', 'original_name': 'Tristan Roache-Turner', 'popularity': 0.629, 'profile_path': None, 'credit_id': '5540b0b59251414af300164d', 'department': 'Art', 'job': 'Production Design'}, {'adult': False, 'gender': 0, 'id': 1361555, 'known_for_department': 'Production', 'name': 'Tristan Roache-Turner', 'original_name': 'Tristan Roache-Turner', 'popularity': 0.629, 'profile_path': None, 'credit_id': '5540b06e9251414af6001541', 'department': 'Production', 'job': 'Producer'}, {'adult': False, 'gender': 0, 'id': 1361555, 'known_for_department': 'Production', 'name': 'Tristan Roache-Turner', 'original_name': 'Tristan Roache-Turner', 'popularity': 0.629, 'profile_path': None, 'credit_id': '5540b067c3a36829e50012ac', 'department': 'Production', 'job': 'Executive Producer'}, {'adult': False, 'gender': 0, 'id': 1361565, 'known_for_department': 'Production', 'name': 'Jamie Hilton', 'original_name': 'Jamie Hilton', 'popularity': 0.6, 'profile_path': None, 'credit_id': '540bc292c3a368799c002909', 'department': 'Production', 'job': 'Executive Producer'}, {'adult': False, 'gender': 0, 'id': 1361566, 'known_for_department': 'Production', 'name': 'Ciaran Jordan', 'original_name': 'Ciaran Jordan', 'popularity': 0.6, 'profile_path': None, 'credit_id': '540bc29ec3a36879a2002b06', 'department': 'Production', 'job': 'Line Producer'}, {'adult': False, 'gender': 0, 'id': 1361567, 'known_for_department': 'Production', 'name': 'Josh Pomeranz', 'original_name': 'Josh Pomeranz', 'popularity': 0.98, 'profile_path': None, 'credit_id': '5540b04a9251414ae600164e', 'department': 'Production', 'job': 'Executive Producer'}, {'adult': False, 'gender': 2, 'id': 1361568, 'known_for_department': 'Camera', 'name': 'Tim Nagle', 'original_name': 'Tim Nagle', 'popularity': 0.6, 'profile_path': None, 'credit_id': '5540b07d9251413d6d001200', 'department': 'Camera', 'job': 'Director of Photography'}, {'adult': False, 'gender': 0, 'id': 1861509, 'known_for_department': 'Crew', 'name': 'Jesse Rowles', 'original_name': 'Jesse Rowles', 'popularity': 1.285, 'profile_path': None, 'credit_id': '60882a1a904f6d00587fc7af', 'department': 'Crew', 'job': 'Stunts'}, {'adult': False, 'gender': 0, 'id': 1861509, 'known_for_department': 'Crew', 'name': 'Jesse Rowles', 'original_name': 'Jesse Rowles', 'popularity': 1.285, 'profile_path': None, 'credit_id': '608825e1904f6d002a178dfa', 'department': 'Production', 'job': 'Production Coordinator'}, {'adult': False, 'gender': 2, 'id': 1871657, 'known_for_department': 'Crew', 'name': 'Spike Cherrie', 'original_name': 'Spike Cherrie', 'popularity': 1.38, 'profile_path': None, 'credit_id': '62729daf29c626187d93ae8d', 'department': 'Crew', 'job': 'Stunt Coordinator'}, {'adult': False, 'gender': 2, 'id': 2787154, 'known_for_department': 'Production', 'name': 'Matt Wilson', 'original_name': 'Matt Wilson', 'popularity': 0.6, 'profile_path': '/6tPCybKSmHKZzlX7GugYpqxIxAs.jpg', 'credit_id': '5f68e7dac1ffbd0035d29b12', 'department': 'Production', 'job': 'Production Assistant'}]}, 'translations': {'translations': [{'iso_3166_1': 'SA', 'iso_639_1': 'ar', 'name': 'العربية', 'english_name': 'Arabic', 'data': {'homepage': '', 'overview': 'مع بدء ظهور الموتى اﻷحياء، تتحطم حياة باري الميكانيكي الموهوب ورب العائلة، وذلك بعد اختطاف شقيقته بروك على يد مجموعة من الجنود الملثمين من أجل إجراء تجارب عليها على يد طبيب مهووس، وبينما تحاول بروك الهرب، يخطط باري لانقاذها مع رفيقه بيني.', 'runtime': 0, 'tagline': '', 'title': ''}}, {'iso_3166_1': 'CZ', 'iso_639_1': 'cs', 'name': 'Český', 'english_name': 'Czech', 'data': {'homepage': '', 'overview': 'Když se Benny (Leon Burchill) vypravil do buše se svými bratry lovit divoká prasata, cítil v povětří, kterým se neslo zlověstné, mrtvé ticho, něco zvláštního. Později noční oblohu rozzářil roj padajících hvězd a když se ráno Benny probudil u vyhaslého ohniště, po jeho dvou bratrech nebylo ani stopy. V ten den se Země probudila do apokalyptického rána, terorizována podivným druhem zombie, který má neuvěřitelné schopnosti. V totéž ráno Barry (Jay Gallagher) ještě netušil, že bude muset chladnokrevně popravit svou manželku s dcerou a spolu s Bennym a dvěma dalšími chlapy, se kterými vytvořili tým, vysvobodit svou unesenou sestru Brooke (Bianca Bradet) ze spárů vědce maniaka a jeho komanda v plynových maskách.', 'runtime': 0, 'tagline': '', 'title': 'Noc oživlých protinožců'}}, {'iso_3166_1': 'DK', 'iso_639_1': 'da', 'name': 'Dansk', 'english_name': 'Danish', 'data': {'homepage': '', 'overview': 'Midt i den igangværende dommedag, bliver Barry’s søster kidnappet af en gruppe soldater iført gasmasker. Barry vil selvfølgelig prøve at befri hende, men vejene er fyldt med kødædende monstre og andre lige så desperate overlevende. Velkommen til helvede på jorden!', 'runtime': 98, 'tagline': '', 'title': ''}}, {'iso_3166_1': 'DE', 'iso_639_1': 'de', 'name': 'Deutsch', 'english_name': 'German', 'data': {'homepage': '', 'overview': 'Mit dem Ausbruch einer globalen Zombie-Apokalypse hat der Mechaniker Barry so ziemlich alles außer seiner Schwester Brooke verloren. Als die eines Tages jedoch von einer Bande Maskierter entführt wird, ist Barry am Boden zerstört. Doch er beschließt, nicht untätig zu bleiben und sich auf die Suche nach ihr zu machen. Einen Verbündeten findet er in dem Draufgänger Benny, mit dem er sich durch eine Welt schlägt, in der nicht nur die wandelnden Toten, sondern auch die Überlebenden eine Bedrohung sind – schuld ist der Streit um die knappen Ressourcen. Bis an die Zähne bewaffnet, kämpfen sich Barry und Benny durch schier endlose Zombie-Horden, um Brooke aus den Fängen eines psychopathischen Arztes zu retten, der grausame Experimente durchführt, an Menschen und Zombies gleichermaßen…', 'runtime': 98, 'tagline': '', 'title': 'Wyrmwood: Road of the Dead'}}, {'iso_3166_1': 'GR', 'iso_639_1': 'el', 'name': 'ελληνικά', 'english_name': 'Greek', 'data': {'homepage': '', 'overview': 'Ο Barry είναι ένας ταλαντούχος μηχανικός και οικογενειάρχης του οποίου η ζωή διαλύεται την παραμονή του ξυπνήματος των ζόμπι. Η αδελφή του, Brooke, έχει απαχθεί από μια ομάδα στρατιωτών με μάσκες αερίων, με σκοπό να την παραδώσουν σε έναν ψυχωτικό γιατρό για πειραματόζωο. Ενώ η Brooke σχεδιάζει την απόδραση της, ο Barry ψάχνει να τη βρει και συνεργάζεται με τον Benny, έναν ακόμη επιζώντα. Μαζί πρέπει να εξοπλιστούν και να προετοιμαστούν για μάχη με τις ορδές των σαρκοφάγων τεράτων στην αχανή έρημο της Αυστραλίας.', 'runtime': 0, 'tagline': '', 'title': ''}}, {'iso_3166_1': 'US', 'iso_639_1': 'en', 'name': 'English', 'english_name': 'English', 'data': {'homepage': '', 'overview': 'Barry is a talented mechanic and family man whose life is torn apart on the eve of a zombie apocalypse. His sister, Brooke, is kidnapped by a sinister team of gas-mask wearing soldiers & experimented on by a psychotic doctor. While Brooke plans her escape Barry goes out on the road to find her & teams up with Benny, a fellow survivor - together they must arm themselves and prepare to battle their way through hordes of flesh-eating monsters in a harsh Australian bushland.', 'runtime': 98, 'tagline': 'Mad Max meets Dawn Of The Dead', 'title': ''}}, {'iso_3166_1': 'ES', 'iso_639_1': 'es', 'name': 'Español', 'english_name': 'Spanish', 'data': {'homepage': '', 'overview': 'La vida de Barry da un giro radical cuando su hermana es secuestrada por un científico loco, justo en el momento en que se desencadena un Apocalipsis zombi. Buscando aliados entre los supervivientes, el protagonista atravesará Australia para rescatar a su hermana, dando forma a una trepidante cinta de horror y acción que ha sido definida como un cruce entre Zombi y Mad Max.', 'runtime': 92, 'tagline': '', 'title': 'Wyrmwood: La carretera de los muertos'}}, {'iso_3166_1': 'MX', 'iso_639_1': 'es', 'name': 'Español', 'english_name': 'Spanish', 'data': {'homepage': '', 'overview': 'La vida de Barry da un giro radical cuando su hermana es secuestrada por un científico loco, justo en el momento en que se desencadena un Apocalipsis zombi. Buscando aliados entre los supervivientes, el protagonista atravesará Australia para rescatar a su hermana, dando forma a una trepidante cinta de horror y acción que ha sido definida como un cruce entre Zombi y Mad Max.', 'runtime': 0, 'tagline': '', 'title': 'El camino de la muerte Wyrmwood'}}, {'iso_3166_1': 'FI', 'iso_639_1': 'fi', 'name': 'suomi', 'english_name': 'Finnish', 'data': {'homepage': '', 'overview': 'Australian takamailla puhkeaa zombi-epidemia ja kaiken kukkaraksi autotkin lakkaavat toimimasta, joilla olisi kätevä huristella pakoon. Mutta ei hätää, kyllä kekseliäs mekaanikko ja jokapaikanhöylä Barry, aina keinot löytää. Maailmanlopun tapahtumien ollessa käsillä ja kaikkien - myös Barryn vaimon ja tyttären - muuttuessa zombeiksi, hän aseistaa itsensä hampaisiin asti, lastaa autonsa ja lähtee tien päälle pelastaakseen siskonsa hullun lääkärin käsistä.', 'runtime': 98, 'tagline': '', 'title': ''}}, {'iso_3166_1': 'FR', 'iso_639_1': 'fr', 'name': 'Français', 'english_name': 'French', 'data': {'homepage': '', 'overview': 'Une météorite s’est écrasée sur la planète. Elle est à l’origine d’une épidémie qui a transformé la population en zombies. Barry et sa sœur Brooke font partie des survivants. Elle se fait kidnapper par un groupe de paramilitaires. Barry part à sa recherche à travers le désert infesté de morts-vivants, au volant de sa voiture de combat.', 'runtime': 98, 'tagline': '', 'title': 'Wyrmwood: Road of the Dead'}}, {'iso_3166_1': 'HU', 'iso_639_1': 'hu', 'name': 'Magyar', 'english_name': 'Hungarian', 'data': {'homepage': '', 'overview': 'Élőholtak árasztják el az ausztrál vidéket. A családos, viszonylag nyugodt életet élő Barry is kizökken a normál kerékvágásból. Lánya és felesége is áldozatul esik. Barry talpig felfegyverzi magát, megbütyköl egy terepjárót és útnak indul. Feladata is akad, meg kell mentenie húgát egy őrült karmai közül.', 'runtime': 89, 'tagline': '', 'title': 'Wyrmwood: Road Of The Dead'}}, {'iso_3166_1': 'IT', 'iso_639_1': 'it', 'name': 'Italiano', 'english_name': 'Italian', 'data': {'homepage': '', 'overview': 'Barry, talentuoso meccanico e padre di famiglia, alla vigilia di una apocalisse zombie ha la vita sconvolta. La sorella Brooke è rapita da un gruppo di soldati che indossano maschere antigas per gli esperimenti di un medico psicotico. Mentre Brooke progetta di fuggire in qualche modo, Barry si mette alla sua ricerca alleandosi con Benny, insieme a cui dovrà combattere le orde di zombie che infestano il paesaggio australiano.', 'runtime': 92, 'tagline': '', 'title': 'Road of the Dead - Wyrmwood'}}, {'iso_3166_1': 'KR', 'iso_639_1': 'ko', 'name': '한국어/조선말', 'english_name': 'Korean', 'data': {'homepage': '', 'overview': '“좀비 필요해요? 불러 드릴게요”  갑작스러운 좀비들의 공격으로 아내와 딸을 잃은 베리(제이 갤러거)는 생존자 일행과 함께 좀비가 뿜어내는 메탄가스를 동력으로 한 전차를 만들어 동생 브룩(비앙카 브레디)을 찾아 나선다. 한편, 브룩은 군인과 미치광이 의사의 실험대상이 되어 좀비의 피를 수혈 받게 되고, 의사가 알지 못하는 사이 좀비들을 다스릴 수 있는 힘을 키워가게 된다.', 'runtime': 0, 'tagline': '극한 액션 콤비! 좀비퀸과 좀비헌터가 온다!', 'title': '웜우드 : 분노의 좀비 도로'}}, {'iso_3166_1': 'NL', 'iso_639_1': 'nl', 'name': 'Nederlands', 'english_name': 'Dutch', 'data': {'homepage': '', 'overview': 'Barry is een doodgewone automonteur die overdag werkt en de avonden doorbrengt met zijn vrouw Annie en hun dochter Meganne. Het is een rustig bestaan dat wordt omgegooid wanneer zijn zus Brooke belt met de mededeling dat er een uitbraak van zombies plaatsvindt. Een ware zombie-apocalyps is begonnen en Barry zal drastische maatregelen moeten nemen om in leven te blijven.', 'runtime': 0, 'tagline': '', 'title': ''}}, {'iso_3166_1': 'PL', 'iso_639_1': 'pl', 'name': 'Polski', 'english_name': 'Polish', 'data': {'homepage': '', 'overview': \"Mechanik samochodowy Barry (Jay Gallagher) mieszka z żoną Annie (Catherine Terracini) i córką Meganne (Meganne West) w australijskim buszu. Jego życie nieodwracalnie zmienia apokalipsa zombi. Barry traci najbliższych, a jego siostra Brooke (Bianca Bradey) zostaje porwana. Kobieta jest przetrzymywana przez szalonego naukowca (Berynn Schwerdt), który przeprowadza budzące grozę eksperymenty. Mechanik śpieszy jej na ratunek. Po drodze przyłącza się do innych ocalałych osób, w tym Benny'ego (Leon Burchill). Czeka ich mordercza walka z krwiożerczymi istotami, które zagrażają całej ludzkości. Niepozbawiony humoru obraz Kiaha Roache'a-Turnera i jego brata Tristana.\", 'runtime': 0, 'tagline': '', 'title': 'Wyrmwood: Droga do żywych trupów'}}, {'iso_3166_1': 'BR', 'iso_639_1': 'pt', 'name': 'Português', 'english_name': 'Portuguese', 'data': {'homepage': '', 'overview': 'Barry é um mecânico talentoso e homem de família que tem sua vida despedaçada às vésperas de um apocalipse zumbi. Sua irmã, Brooke, é sequestrada por um grupo sinistro que usa máscaras de gás de soldados e, é levada para um experimento de um médico psicótico. Enquanto Brooke planeja sua fuga, Barry parte para a estrada para achá-la e junta-se à Benny, um colega sobrevivente, juntos eles devem conseguir armas e preparar-se para sobreviver na mata nativa australiana em meio a vários zumbis canibais.', 'runtime': 98, 'tagline': '', 'title': ''}}, {'iso_3166_1': 'PT', 'iso_639_1': 'pt', 'name': 'Português', 'english_name': 'Portuguese', 'data': {'homepage': '', 'overview': 'MAD MAX misturado com DAWN OF THE DEAD.  Barry é um talentoso mecânico e homem de família cuja vida está despedaçada na véspera de um apocalipse zumbi. Sua irmã, Brooke, é sequestrada por uma equipe sinistra de soldados vestindo máscaras de gás &amp; experimentada por um médico psicótico. Enquanto Brooke planeja sua fuga, Barry sai na estrada para encontrá-la e se junta com Benny, um sobrevivente companheiro - juntos eles devem armar-se e preparar-se para batalhar seu caminho através de hordas de monstros comedores de carne em uma àspera mata nativa australiana.', 'runtime': 98, 'tagline': 'Estrada da Morte', 'title': 'Wyrmwood'}}, {'iso_3166_1': 'RU', 'iso_639_1': 'ru', 'name': 'Pусский', 'english_name': 'Russian', 'data': {'homepage': '', 'overview': 'Барри был талантливым механиком и семейным человеком, пока его жизнь не была разрушена в канун зомби-апокалипсиса. В дороге он объединяется с ещё одним выжившим, Чалкером, и вместе они вооружают себя, чтобы противостоять на своём пути орде плотоядных монстров, рыщущих в суровых австралийских зарослях.', 'runtime': 99, 'tagline': '', 'title': 'Полынь: Дорога мёртвых'}}, {'iso_3166_1': 'SE', 'iso_639_1': 'sv', 'name': 'svenska', 'english_name': 'Swedish', 'data': {'homepage': '', 'overview': 'Jorden har blivit träffad av en komet och en zombie-epidemi har brutit ut. Endast en liten skara har klarat sig men de måste agera snabbt för att inte bli offer för dessa köttätande monster. Utan bränsle är deras flyktchanser lika med noll, men när de upptäcker att de odöda andas ut metangas kläcks idén att skapa ett zombiesäkert fordon drivet av zombiegas.', 'runtime': 98, 'tagline': '', 'title': ''}}, {'iso_3166_1': 'TR', 'iso_639_1': 'tr', 'name': 'Türkçe', 'english_name': 'Turkish', 'data': {'homepage': '', 'overview': 'Barry yetenekli bir tamirci ve iyi bir aile adamıdır, fakat zombi kıyametiyle hayatı paramparça olur. Kız kardeşi Brooke gaz maskeli asker kıyafetli üzerinde psikolojik deneyler yapılmış adamlarca kaçırılır. Barry kaçış planı hazırlarken Barry’de hayatta kalan arkadaşı Benny ile bir takım oluşturarak Avusturalya’nın zorlu ormanlarında bir savaş vermeye hazırlanmaktadır.', 'runtime': 0, 'tagline': '', 'title': 'Ölüm Yolu'}}, {'iso_3166_1': 'CN', 'iso_639_1': 'zh', 'name': '普通话', 'english_name': 'Mandarin', 'data': {'homepage': '', 'overview': '机械工程师巴瑞（Jay Gallagher 饰）原本和妻子安妮（Catherine Terracini 饰）、女儿梅根（Meganne West 饰） 过着快乐无忧的生活，但在一个不祥之夜，他们的人生发生了翻天覆地的巨变。沉睡中的巴瑞突然接到妹妹布鲁克（Bianca Bradey 饰）的电话，妹妹声称朋友们毫无征兆的情况下甚至错乱，变成了凶恶残暴、嗜血如命的恐怖丧尸。话音未落之际，巴瑞一家也遭到丧尸们的袭击。夜幕退去，曙光降临。布鲁克被两名全副武装的士兵解救，随后则被打晕带走。与此同时，逃难中的巴瑞则不得不面对妻子女儿尸变的悲惨一幕。  \\u3000\\u3000途中他遇到了其他的幸存者，为了搭救被困的妹妹，巴瑞选择穿越丧尸群集的恐怖地带……', 'runtime': 0, 'tagline': '', 'title': '僵尸来袭'}}, {'iso_3166_1': 'TW', 'iso_639_1': 'zh', 'name': '普通话', 'english_name': 'Mandarin', 'data': {'homepage': '', 'overview': '機械工程師巴瑞（Jay Gallagher飾）原本和妻子安妮（Catherine Terracini飾）、女兒梅根（Meganne West飾）過著快樂無憂的生活，但在一個不祥之夜，他們的人生髮生了翻天覆地的巨變。沉睡中的巴瑞突然接到妹妹布魯克（Bianca Bradey飾）的電話，妹妹聲稱朋友們毫無徵兆的情況下甚至錯亂，變成了兇惡殘暴、嗜血如命的恐怖喪屍。話音未落之際，巴瑞一家也遭到喪屍們的襲擊。夜幕退去，曙光降臨。布魯克被兩名全副武裝的士兵解救，隨後則被打暈帶走。與此同時，逃難中的巴瑞則不得不面對妻子女兒屍變的悲慘一幕。  \\u3000\\u3000途中他遇到了其他的倖存者，為了搭救被困的妹妹，巴瑞選擇穿越喪屍群集的恐怖地帶……', 'runtime': 0, 'tagline': '', 'title': '殭屍來襲'}}]}, 'keywords': {'keywords': [{'id': 12377, 'name': 'zombie'}, {'id': 186565, 'name': 'zombie apocalypse'}]}, 'release_dates': {'results': [{'iso_3166_1': 'GB', 'release_dates': [{'certification': '', 'descriptors': [], 'iso_639_1': '', 'note': '', 'release_date': '2015-05-08T00:00:00.000Z', 'type': 3}]}, {'iso_3166_1': 'DE', 'release_dates': [{'certification': '18', 'descriptors': [], 'iso_639_1': '', 'note': '', 'release_date': '2015-08-06T00:00:00.000Z', 'type': 3}]}, {'iso_3166_1': 'US', 'release_dates': [{'certification': '', 'descriptors': [], 'iso_639_1': '', 'note': '', 'release_date': '2014-09-19T00:00:00.000Z', 'type': 3}]}, {'iso_3166_1': 'AU', 'release_dates': [{'certification': 'MA15+', 'descriptors': [], 'iso_639_1': '', 'note': '', 'release_date': '2015-02-13T00:00:00.000Z', 'type': 3}]}]}}}"
      ]
     },
     "execution_count": 5,
     "metadata": {},
     "output_type": "execute_result"
    }
   ],
   "source": [
    "f_097fO = create_movie_metadata_dict('f_097fO')\n",
    "f_097fO"
   ]
  },
  {
   "cell_type": "code",
   "execution_count": 9,
   "metadata": {},
   "outputs": [
    {
     "data": {
      "text/plain": [
       "{'adult': False, 'backdrop_path': '/k1KP47cnuscBPS4yYTJJ6S4PDho.jpg', 'belongs_to_collection': {'id': 927812, 'name': 'Wyrmwood Collection', 'poster_path': '/tRSNW8dte5P9L8vZPaCFFkjAOnI.jpg', 'backdrop_path': '/drstxfAEQ8tR1qf9Axzg6ZnhGxn.jpg'}, 'budget': 0, 'genres': [{'id': 27, 'name': 'Horror'}, {'id': 28, 'name': 'Action'}, {'id': 35, 'name': 'Comedy'}], 'homepage': '', 'id': 290999, 'imdb_id': 'tt2535470', 'original_language': 'en', 'original_title': 'Wyrmwood: Road of the Dead', 'overview': 'Barry is a talented mechanic and family man whose life is torn apart on the eve of a zombie apocalypse. His sister, Brooke, is kidnapped by a sinister team of gas-mask wearing soldiers & experimented on by a psychotic doctor. While Brooke plans her escape Barry goes out on the road to find her & teams up with Benny, a fellow survivor - together they must arm themselves and prepare to battle their way through hordes of flesh-eating monsters in a harsh Australian bushland.', 'popularity': 11.539, 'poster_path': '/oyF0zNkTfvodHvkSEs9E88jvQRi.jpg', 'production_companies': [{'id': 32400, 'logo_path': None, 'name': 'Guerilla Films', 'origin_country': 'AU'}], 'production_countries': [{'iso_3166_1': 'AU', 'name': 'Australia'}], 'release_date': '2014-09-19', 'revenue': 0, 'runtime': 98, 'spoken_languages': [{'english_name': 'English', 'iso_639_1': 'en', 'name': 'English'}], 'status': 'Released', 'tagline': 'Mad Max meets Dawn Of The Dead', 'title': 'Wyrmwood: Road of the Dead', 'video': False, 'vote_average': 6.089, 'vote_count': 384, 'videos': {'results': [{'iso_639_1': 'en', 'iso_3166_1': 'US', 'name': 'Wyrmwood Official Trailer 1 (2015) - Horror Movie HD', 'key': 'oJoRHFn7QRw', 'published_at': '2015-01-09T21:49:24.000Z', 'site': 'YouTube', 'size': 720, 'type': 'Trailer', 'official': False, 'id': '54b181d1925141746c00242c'}]}, 'trailers': {'quicktime': [], 'youtube': [{'name': 'Wyrmwood Official Trailer 1 (2015) - Horror Movie HD', 'size': 'HD', 'source': 'oJoRHFn7QRw', 'type': 'Trailer'}]}, 'images': {'backdrops': [], 'logos': [], 'posters': []}, 'casts': {'cast': [{'adult': False, 'gender': 0, 'id': 1262388, 'known_for_department': 'Acting', 'name': 'Jay Gallagher', 'original_name': 'Jay Gallagher', 'popularity': 1.757, 'profile_path': '/ppwekPN23qcJER0Wiih5sQi1JwW.jpg', 'cast_id': 1, 'character': 'Barry', 'credit_id': '540bbc1dc3a368799f0027f7', 'order': 0}, {'adult': False, 'gender': 1, 'id': 1326440, 'known_for_department': 'Acting', 'name': 'Bianca Bradey', 'original_name': 'Bianca Bradey', 'popularity': 2.908, 'profile_path': '/njh8eYOn052EtHoHLcU1scsahyJ.jpg', 'cast_id': 2, 'character': 'Brooke', 'credit_id': '540bbc29c3a368799f0027fa', 'order': 1}, {'adult': False, 'gender': 0, 'id': 124573, 'known_for_department': 'Acting', 'name': 'Leon Burchill', 'original_name': 'Leon Burchill', 'popularity': 0.6, 'profile_path': '/uaIHGQtIrkmpR0pkYGSYTPX6HBY.jpg', 'cast_id': 3, 'character': 'Benny', 'credit_id': '540bbc34c3a36879ab002796', 'order': 2}, {'adult': False, 'gender': 2, 'id': 1361549, 'known_for_department': 'Acting', 'name': 'Luke McKenzie', 'original_name': 'Luke McKenzie', 'popularity': 1.96, 'profile_path': '/uZWHe3vwoL7LrAZYUMgNqoCEOA5.jpg', 'cast_id': 4, 'character': 'The Captain', 'credit_id': '540bbc43c3a368799f0027ff', 'order': 3}, {'adult': False, 'gender': 2, 'id': 1361556, 'known_for_department': 'Acting', 'name': 'Yure Covich', 'original_name': 'Yure Covich', 'popularity': 1.294, 'profile_path': '/e7T3bI9mCNZPbPuMcAPvR575nn8.jpg', 'cast_id': 7, 'character': 'Chalker', 'credit_id': '540bc208c3a36879a2002aeb', 'order': 4}, {'adult': False, 'gender': 0, 'id': 1361557, 'known_for_department': 'Acting', 'name': 'Catherine Terracini', 'original_name': 'Catherine Terracini', 'popularity': 0.98, 'profile_path': None, 'cast_id': 8, 'character': 'Annie', 'credit_id': '540bc215c3a368799f0028df', 'order': 5}, {'adult': False, 'gender': 0, 'id': 88381, 'known_for_department': 'Acting', 'name': 'Keith Agius', 'original_name': 'Keith Agius', 'popularity': 1.0, 'profile_path': '/xVQbagPdPdG3S3M34cLWVqwK1RH.jpg', 'cast_id': 9, 'character': 'Frank', 'credit_id': '540bc222c3a36879ae002713', 'order': 6}, {'adult': False, 'gender': 0, 'id': 1361558, 'known_for_department': 'Acting', 'name': 'Berryn Schwerdt', 'original_name': 'Berryn Schwerdt', 'popularity': 0.6, 'profile_path': None, 'cast_id': 10, 'character': 'The Doctor', 'credit_id': '540bc230c3a36879b2002635', 'order': 7}, {'adult': False, 'gender': 2, 'id': 1361559, 'known_for_department': 'Acting', 'name': 'Cain Thompson', 'original_name': 'Cain Thompson', 'popularity': 1.425, 'profile_path': '/6Lw8MGCtcc7dIca5GUjtzUjzuvj.jpg', 'cast_id': 11, 'character': 'McGaughlin', 'credit_id': '540bc23fc3a368799c0028f9', 'order': 8}, {'adult': False, 'gender': 1, 'id': 1361560, 'known_for_department': 'Acting', 'name': 'Beth Aubrey', 'original_name': 'Beth Aubrey', 'popularity': 0.6, 'profile_path': '/xTi9UcGY0aUhejvzmqPlxYGcYf2.jpg', 'cast_id': 12, 'character': 'Charlotte', 'credit_id': '540bc24cc3a36879a800285f', 'order': 9}, {'adult': False, 'gender': 0, 'id': 1361561, 'known_for_department': 'Acting', 'name': 'Sheridan Harbridge', 'original_name': 'Sheridan Harbridge', 'popularity': 0.6, 'profile_path': None, 'cast_id': 13, 'character': 'Sherri', 'credit_id': '540bc257c3a368799c0028ff', 'order': 10}, {'adult': False, 'gender': 0, 'id': 1361562, 'known_for_department': 'Acting', 'name': 'Damian Dyke', 'original_name': 'Damian Dyke', 'popularity': 0.6, 'profile_path': None, 'cast_id': 14, 'character': 'Thompson', 'credit_id': '540bc262c3a36879b2002640', 'order': 11}, {'adult': False, 'gender': 0, 'id': 1361564, 'known_for_department': 'Acting', 'name': 'John Michael Burdon', 'original_name': 'John Michael Burdon', 'popularity': 0.6, 'profile_path': None, 'cast_id': 15, 'character': 'Zombie', 'credit_id': '540bc271c3a36879a2002af6', 'order': 12}, {'adult': False, 'gender': 0, 'id': 1861509, 'known_for_department': 'Crew', 'name': 'Jesse Rowles', 'original_name': 'Jesse Rowles', 'popularity': 1.285, 'profile_path': None, 'cast_id': 33, 'character': 'Zombie', 'credit_id': '60882732cabfe4002950a389', 'order': 13}], 'crew': [{'adult': False, 'gender': 2, 'id': 1014694, 'known_for_department': 'Sound', 'name': 'Michael Lira', 'original_name': 'Michael Lira', 'popularity': 0.6, 'profile_path': '/fQyKbUASuD3F7kv3pZZR7h8SX0v.jpg', 'credit_id': '5540b08cc3a3681da00015c6', 'department': 'Sound', 'job': 'Original Music Composer'}, {'adult': False, 'gender': 0, 'id': 1262388, 'known_for_department': 'Acting', 'name': 'Jay Gallagher', 'original_name': 'Jay Gallagher', 'popularity': 1.757, 'profile_path': '/ppwekPN23qcJER0Wiih5sQi1JwW.jpg', 'credit_id': '540bc2d1c3a36879a2002b0f', 'department': 'Production', 'job': 'Casting'}, {'adult': False, 'gender': 2, 'id': 1361546, 'known_for_department': 'Directing', 'name': 'Kiah Roache-Turner', 'original_name': 'Kiah Roache-Turner', 'popularity': 1.054, 'profile_path': '/1y2ZVFfxtKC4SR3s6IMiZB7WpnE.jpg', 'credit_id': '540bc1e9c3a36879a2002ae3', 'department': 'Writing', 'job': 'Screenplay'}, {'adult': False, 'gender': 2, 'id': 1361546, 'known_for_department': 'Directing', 'name': 'Kiah Roache-Turner', 'original_name': 'Kiah Roache-Turner', 'popularity': 1.054, 'profile_path': '/1y2ZVFfxtKC4SR3s6IMiZB7WpnE.jpg', 'credit_id': '540bbc10c3a36879ab00278f', 'department': 'Directing', 'job': 'Director'}, {'adult': False, 'gender': 2, 'id': 1361546, 'known_for_department': 'Directing', 'name': 'Kiah Roache-Turner', 'original_name': 'Kiah Roache-Turner', 'popularity': 1.054, 'profile_path': '/1y2ZVFfxtKC4SR3s6IMiZB7WpnE.jpg', 'credit_id': '5540b09cc3a3681dab00169f', 'department': 'Editing', 'job': 'Editor'}, {'adult': False, 'gender': 2, 'id': 1361546, 'known_for_department': 'Directing', 'name': 'Kiah Roache-Turner', 'original_name': 'Kiah Roache-Turner', 'popularity': 1.054, 'profile_path': '/1y2ZVFfxtKC4SR3s6IMiZB7WpnE.jpg', 'credit_id': '5540b0a99251414af900156e', 'department': 'Art', 'job': 'Production Design'}, {'adult': False, 'gender': 2, 'id': 1361546, 'known_for_department': 'Directing', 'name': 'Kiah Roache-Turner', 'original_name': 'Kiah Roache-Turner', 'popularity': 1.054, 'profile_path': '/1y2ZVFfxtKC4SR3s6IMiZB7WpnE.jpg', 'credit_id': '5540b0599251414af3001646', 'department': 'Production', 'job': 'Executive Producer'}, {'adult': False, 'gender': 0, 'id': 1361555, 'known_for_department': 'Production', 'name': 'Tristan Roache-Turner', 'original_name': 'Tristan Roache-Turner', 'popularity': 0.629, 'profile_path': None, 'credit_id': '540bc1f5c3a36879ab00284a', 'department': 'Writing', 'job': 'Screenplay'}, {'adult': False, 'gender': 0, 'id': 1361555, 'known_for_department': 'Production', 'name': 'Tristan Roache-Turner', 'original_name': 'Tristan Roache-Turner', 'popularity': 0.629, 'profile_path': None, 'credit_id': '5540b0b59251414af300164d', 'department': 'Art', 'job': 'Production Design'}, {'adult': False, 'gender': 0, 'id': 1361555, 'known_for_department': 'Production', 'name': 'Tristan Roache-Turner', 'original_name': 'Tristan Roache-Turner', 'popularity': 0.629, 'profile_path': None, 'credit_id': '5540b06e9251414af6001541', 'department': 'Production', 'job': 'Producer'}, {'adult': False, 'gender': 0, 'id': 1361555, 'known_for_department': 'Production', 'name': 'Tristan Roache-Turner', 'original_name': 'Tristan Roache-Turner', 'popularity': 0.629, 'profile_path': None, 'credit_id': '5540b067c3a36829e50012ac', 'department': 'Production', 'job': 'Executive Producer'}, {'adult': False, 'gender': 0, 'id': 1361565, 'known_for_department': 'Production', 'name': 'Jamie Hilton', 'original_name': 'Jamie Hilton', 'popularity': 0.6, 'profile_path': None, 'credit_id': '540bc292c3a368799c002909', 'department': 'Production', 'job': 'Executive Producer'}, {'adult': False, 'gender': 0, 'id': 1361566, 'known_for_department': 'Production', 'name': 'Ciaran Jordan', 'original_name': 'Ciaran Jordan', 'popularity': 0.6, 'profile_path': None, 'credit_id': '540bc29ec3a36879a2002b06', 'department': 'Production', 'job': 'Line Producer'}, {'adult': False, 'gender': 0, 'id': 1361567, 'known_for_department': 'Production', 'name': 'Josh Pomeranz', 'original_name': 'Josh Pomeranz', 'popularity': 0.98, 'profile_path': None, 'credit_id': '5540b04a9251414ae600164e', 'department': 'Production', 'job': 'Executive Producer'}, {'adult': False, 'gender': 2, 'id': 1361568, 'known_for_department': 'Camera', 'name': 'Tim Nagle', 'original_name': 'Tim Nagle', 'popularity': 0.6, 'profile_path': None, 'credit_id': '5540b07d9251413d6d001200', 'department': 'Camera', 'job': 'Director of Photography'}, {'adult': False, 'gender': 0, 'id': 1861509, 'known_for_department': 'Crew', 'name': 'Jesse Rowles', 'original_name': 'Jesse Rowles', 'popularity': 1.285, 'profile_path': None, 'credit_id': '60882a1a904f6d00587fc7af', 'department': 'Crew', 'job': 'Stunts'}, {'adult': False, 'gender': 0, 'id': 1861509, 'known_for_department': 'Crew', 'name': 'Jesse Rowles', 'original_name': 'Jesse Rowles', 'popularity': 1.285, 'profile_path': None, 'credit_id': '608825e1904f6d002a178dfa', 'department': 'Production', 'job': 'Production Coordinator'}, {'adult': False, 'gender': 2, 'id': 1871657, 'known_for_department': 'Crew', 'name': 'Spike Cherrie', 'original_name': 'Spike Cherrie', 'popularity': 1.38, 'profile_path': None, 'credit_id': '62729daf29c626187d93ae8d', 'department': 'Crew', 'job': 'Stunt Coordinator'}, {'adult': False, 'gender': 2, 'id': 2787154, 'known_for_department': 'Production', 'name': 'Matt Wilson', 'original_name': 'Matt Wilson', 'popularity': 0.6, 'profile_path': '/6tPCybKSmHKZzlX7GugYpqxIxAs.jpg', 'credit_id': '5f68e7dac1ffbd0035d29b12', 'department': 'Production', 'job': 'Production Assistant'}]}, 'translations': {'translations': [{'iso_3166_1': 'SA', 'iso_639_1': 'ar', 'name': 'العربية', 'english_name': 'Arabic', 'data': {'homepage': '', 'overview': 'مع بدء ظهور الموتى اﻷحياء، تتحطم حياة باري الميكانيكي الموهوب ورب العائلة، وذلك بعد اختطاف شقيقته بروك على يد مجموعة من الجنود الملثمين من أجل إجراء تجارب عليها على يد طبيب مهووس، وبينما تحاول بروك الهرب، يخطط باري لانقاذها مع رفيقه بيني.', 'runtime': 0, 'tagline': '', 'title': ''}}, {'iso_3166_1': 'CZ', 'iso_639_1': 'cs', 'name': 'Český', 'english_name': 'Czech', 'data': {'homepage': '', 'overview': 'Když se Benny (Leon Burchill) vypravil do buše se svými bratry lovit divoká prasata, cítil v povětří, kterým se neslo zlověstné, mrtvé ticho, něco zvláštního. Později noční oblohu rozzářil roj padajících hvězd a když se ráno Benny probudil u vyhaslého ohniště, po jeho dvou bratrech nebylo ani stopy. V ten den se Země probudila do apokalyptického rána, terorizována podivným druhem zombie, který má neuvěřitelné schopnosti. V totéž ráno Barry (Jay Gallagher) ještě netušil, že bude muset chladnokrevně popravit svou manželku s dcerou a spolu s Bennym a dvěma dalšími chlapy, se kterými vytvořili tým, vysvobodit svou unesenou sestru Brooke (Bianca Bradet) ze spárů vědce maniaka a jeho komanda v plynových maskách.', 'runtime': 0, 'tagline': '', 'title': 'Noc oživlých protinožců'}}, {'iso_3166_1': 'DK', 'iso_639_1': 'da', 'name': 'Dansk', 'english_name': 'Danish', 'data': {'homepage': '', 'overview': 'Midt i den igangværende dommedag, bliver Barry’s søster kidnappet af en gruppe soldater iført gasmasker. Barry vil selvfølgelig prøve at befri hende, men vejene er fyldt med kødædende monstre og andre lige så desperate overlevende. Velkommen til helvede på jorden!', 'runtime': 98, 'tagline': '', 'title': ''}}, {'iso_3166_1': 'DE', 'iso_639_1': 'de', 'name': 'Deutsch', 'english_name': 'German', 'data': {'homepage': '', 'overview': 'Mit dem Ausbruch einer globalen Zombie-Apokalypse hat der Mechaniker Barry so ziemlich alles außer seiner Schwester Brooke verloren. Als die eines Tages jedoch von einer Bande Maskierter entführt wird, ist Barry am Boden zerstört. Doch er beschließt, nicht untätig zu bleiben und sich auf die Suche nach ihr zu machen. Einen Verbündeten findet er in dem Draufgänger Benny, mit dem er sich durch eine Welt schlägt, in der nicht nur die wandelnden Toten, sondern auch die Überlebenden eine Bedrohung sind – schuld ist der Streit um die knappen Ressourcen. Bis an die Zähne bewaffnet, kämpfen sich Barry und Benny durch schier endlose Zombie-Horden, um Brooke aus den Fängen eines psychopathischen Arztes zu retten, der grausame Experimente durchführt, an Menschen und Zombies gleichermaßen…', 'runtime': 98, 'tagline': '', 'title': 'Wyrmwood: Road of the Dead'}}, {'iso_3166_1': 'GR', 'iso_639_1': 'el', 'name': 'ελληνικά', 'english_name': 'Greek', 'data': {'homepage': '', 'overview': 'Ο Barry είναι ένας ταλαντούχος μηχανικός και οικογενειάρχης του οποίου η ζωή διαλύεται την παραμονή του ξυπνήματος των ζόμπι. Η αδελφή του, Brooke, έχει απαχθεί από μια ομάδα στρατιωτών με μάσκες αερίων, με σκοπό να την παραδώσουν σε έναν ψυχωτικό γιατρό για πειραματόζωο. Ενώ η Brooke σχεδιάζει την απόδραση της, ο Barry ψάχνει να τη βρει και συνεργάζεται με τον Benny, έναν ακόμη επιζώντα. Μαζί πρέπει να εξοπλιστούν και να προετοιμαστούν για μάχη με τις ορδές των σαρκοφάγων τεράτων στην αχανή έρημο της Αυστραλίας.', 'runtime': 0, 'tagline': '', 'title': ''}}, {'iso_3166_1': 'US', 'iso_639_1': 'en', 'name': 'English', 'english_name': 'English', 'data': {'homepage': '', 'overview': 'Barry is a talented mechanic and family man whose life is torn apart on the eve of a zombie apocalypse. His sister, Brooke, is kidnapped by a sinister team of gas-mask wearing soldiers & experimented on by a psychotic doctor. While Brooke plans her escape Barry goes out on the road to find her & teams up with Benny, a fellow survivor - together they must arm themselves and prepare to battle their way through hordes of flesh-eating monsters in a harsh Australian bushland.', 'runtime': 98, 'tagline': 'Mad Max meets Dawn Of The Dead', 'title': ''}}, {'iso_3166_1': 'ES', 'iso_639_1': 'es', 'name': 'Español', 'english_name': 'Spanish', 'data': {'homepage': '', 'overview': 'La vida de Barry da un giro radical cuando su hermana es secuestrada por un científico loco, justo en el momento en que se desencadena un Apocalipsis zombi. Buscando aliados entre los supervivientes, el protagonista atravesará Australia para rescatar a su hermana, dando forma a una trepidante cinta de horror y acción que ha sido definida como un cruce entre Zombi y Mad Max.', 'runtime': 92, 'tagline': '', 'title': 'Wyrmwood: La carretera de los muertos'}}, {'iso_3166_1': 'MX', 'iso_639_1': 'es', 'name': 'Español', 'english_name': 'Spanish', 'data': {'homepage': '', 'overview': 'La vida de Barry da un giro radical cuando su hermana es secuestrada por un científico loco, justo en el momento en que se desencadena un Apocalipsis zombi. Buscando aliados entre los supervivientes, el protagonista atravesará Australia para rescatar a su hermana, dando forma a una trepidante cinta de horror y acción que ha sido definida como un cruce entre Zombi y Mad Max.', 'runtime': 0, 'tagline': '', 'title': 'El camino de la muerte Wyrmwood'}}, {'iso_3166_1': 'FI', 'iso_639_1': 'fi', 'name': 'suomi', 'english_name': 'Finnish', 'data': {'homepage': '', 'overview': 'Australian takamailla puhkeaa zombi-epidemia ja kaiken kukkaraksi autotkin lakkaavat toimimasta, joilla olisi kätevä huristella pakoon. Mutta ei hätää, kyllä kekseliäs mekaanikko ja jokapaikanhöylä Barry, aina keinot löytää. Maailmanlopun tapahtumien ollessa käsillä ja kaikkien - myös Barryn vaimon ja tyttären - muuttuessa zombeiksi, hän aseistaa itsensä hampaisiin asti, lastaa autonsa ja lähtee tien päälle pelastaakseen siskonsa hullun lääkärin käsistä.', 'runtime': 98, 'tagline': '', 'title': ''}}, {'iso_3166_1': 'FR', 'iso_639_1': 'fr', 'name': 'Français', 'english_name': 'French', 'data': {'homepage': '', 'overview': 'Une météorite s’est écrasée sur la planète. Elle est à l’origine d’une épidémie qui a transformé la population en zombies. Barry et sa sœur Brooke font partie des survivants. Elle se fait kidnapper par un groupe de paramilitaires. Barry part à sa recherche à travers le désert infesté de morts-vivants, au volant de sa voiture de combat.', 'runtime': 98, 'tagline': '', 'title': 'Wyrmwood: Road of the Dead'}}, {'iso_3166_1': 'HU', 'iso_639_1': 'hu', 'name': 'Magyar', 'english_name': 'Hungarian', 'data': {'homepage': '', 'overview': 'Élőholtak árasztják el az ausztrál vidéket. A családos, viszonylag nyugodt életet élő Barry is kizökken a normál kerékvágásból. Lánya és felesége is áldozatul esik. Barry talpig felfegyverzi magát, megbütyköl egy terepjárót és útnak indul. Feladata is akad, meg kell mentenie húgát egy őrült karmai közül.', 'runtime': 89, 'tagline': '', 'title': 'Wyrmwood: Road Of The Dead'}}, {'iso_3166_1': 'IT', 'iso_639_1': 'it', 'name': 'Italiano', 'english_name': 'Italian', 'data': {'homepage': '', 'overview': 'Barry, talentuoso meccanico e padre di famiglia, alla vigilia di una apocalisse zombie ha la vita sconvolta. La sorella Brooke è rapita da un gruppo di soldati che indossano maschere antigas per gli esperimenti di un medico psicotico. Mentre Brooke progetta di fuggire in qualche modo, Barry si mette alla sua ricerca alleandosi con Benny, insieme a cui dovrà combattere le orde di zombie che infestano il paesaggio australiano.', 'runtime': 92, 'tagline': '', 'title': 'Road of the Dead - Wyrmwood'}}, {'iso_3166_1': 'KR', 'iso_639_1': 'ko', 'name': '한국어/조선말', 'english_name': 'Korean', 'data': {'homepage': '', 'overview': '“좀비 필요해요? 불러 드릴게요”  갑작스러운 좀비들의 공격으로 아내와 딸을 잃은 베리(제이 갤러거)는 생존자 일행과 함께 좀비가 뿜어내는 메탄가스를 동력으로 한 전차를 만들어 동생 브룩(비앙카 브레디)을 찾아 나선다. 한편, 브룩은 군인과 미치광이 의사의 실험대상이 되어 좀비의 피를 수혈 받게 되고, 의사가 알지 못하는 사이 좀비들을 다스릴 수 있는 힘을 키워가게 된다.', 'runtime': 0, 'tagline': '극한 액션 콤비! 좀비퀸과 좀비헌터가 온다!', 'title': '웜우드 : 분노의 좀비 도로'}}, {'iso_3166_1': 'NL', 'iso_639_1': 'nl', 'name': 'Nederlands', 'english_name': 'Dutch', 'data': {'homepage': '', 'overview': 'Barry is een doodgewone automonteur die overdag werkt en de avonden doorbrengt met zijn vrouw Annie en hun dochter Meganne. Het is een rustig bestaan dat wordt omgegooid wanneer zijn zus Brooke belt met de mededeling dat er een uitbraak van zombies plaatsvindt. Een ware zombie-apocalyps is begonnen en Barry zal drastische maatregelen moeten nemen om in leven te blijven.', 'runtime': 0, 'tagline': '', 'title': ''}}, {'iso_3166_1': 'PL', 'iso_639_1': 'pl', 'name': 'Polski', 'english_name': 'Polish', 'data': {'homepage': '', 'overview': \"Mechanik samochodowy Barry (Jay Gallagher) mieszka z żoną Annie (Catherine Terracini) i córką Meganne (Meganne West) w australijskim buszu. Jego życie nieodwracalnie zmienia apokalipsa zombi. Barry traci najbliższych, a jego siostra Brooke (Bianca Bradey) zostaje porwana. Kobieta jest przetrzymywana przez szalonego naukowca (Berynn Schwerdt), który przeprowadza budzące grozę eksperymenty. Mechanik śpieszy jej na ratunek. Po drodze przyłącza się do innych ocalałych osób, w tym Benny'ego (Leon Burchill). Czeka ich mordercza walka z krwiożerczymi istotami, które zagrażają całej ludzkości. Niepozbawiony humoru obraz Kiaha Roache'a-Turnera i jego brata Tristana.\", 'runtime': 0, 'tagline': '', 'title': 'Wyrmwood: Droga do żywych trupów'}}, {'iso_3166_1': 'BR', 'iso_639_1': 'pt', 'name': 'Português', 'english_name': 'Portuguese', 'data': {'homepage': '', 'overview': 'Barry é um mecânico talentoso e homem de família que tem sua vida despedaçada às vésperas de um apocalipse zumbi. Sua irmã, Brooke, é sequestrada por um grupo sinistro que usa máscaras de gás de soldados e, é levada para um experimento de um médico psicótico. Enquanto Brooke planeja sua fuga, Barry parte para a estrada para achá-la e junta-se à Benny, um colega sobrevivente, juntos eles devem conseguir armas e preparar-se para sobreviver na mata nativa australiana em meio a vários zumbis canibais.', 'runtime': 98, 'tagline': '', 'title': ''}}, {'iso_3166_1': 'PT', 'iso_639_1': 'pt', 'name': 'Português', 'english_name': 'Portuguese', 'data': {'homepage': '', 'overview': 'MAD MAX misturado com DAWN OF THE DEAD.  Barry é um talentoso mecânico e homem de família cuja vida está despedaçada na véspera de um apocalipse zumbi. Sua irmã, Brooke, é sequestrada por uma equipe sinistra de soldados vestindo máscaras de gás &amp; experimentada por um médico psicótico. Enquanto Brooke planeja sua fuga, Barry sai na estrada para encontrá-la e se junta com Benny, um sobrevivente companheiro - juntos eles devem armar-se e preparar-se para batalhar seu caminho através de hordas de monstros comedores de carne em uma àspera mata nativa australiana.', 'runtime': 98, 'tagline': 'Estrada da Morte', 'title': 'Wyrmwood'}}, {'iso_3166_1': 'RU', 'iso_639_1': 'ru', 'name': 'Pусский', 'english_name': 'Russian', 'data': {'homepage': '', 'overview': 'Барри был талантливым механиком и семейным человеком, пока его жизнь не была разрушена в канун зомби-апокалипсиса. В дороге он объединяется с ещё одним выжившим, Чалкером, и вместе они вооружают себя, чтобы противостоять на своём пути орде плотоядных монстров, рыщущих в суровых австралийских зарослях.', 'runtime': 99, 'tagline': '', 'title': 'Полынь: Дорога мёртвых'}}, {'iso_3166_1': 'SE', 'iso_639_1': 'sv', 'name': 'svenska', 'english_name': 'Swedish', 'data': {'homepage': '', 'overview': 'Jorden har blivit träffad av en komet och en zombie-epidemi har brutit ut. Endast en liten skara har klarat sig men de måste agera snabbt för att inte bli offer för dessa köttätande monster. Utan bränsle är deras flyktchanser lika med noll, men när de upptäcker att de odöda andas ut metangas kläcks idén att skapa ett zombiesäkert fordon drivet av zombiegas.', 'runtime': 98, 'tagline': '', 'title': ''}}, {'iso_3166_1': 'TR', 'iso_639_1': 'tr', 'name': 'Türkçe', 'english_name': 'Turkish', 'data': {'homepage': '', 'overview': 'Barry yetenekli bir tamirci ve iyi bir aile adamıdır, fakat zombi kıyametiyle hayatı paramparça olur. Kız kardeşi Brooke gaz maskeli asker kıyafetli üzerinde psikolojik deneyler yapılmış adamlarca kaçırılır. Barry kaçış planı hazırlarken Barry’de hayatta kalan arkadaşı Benny ile bir takım oluşturarak Avusturalya’nın zorlu ormanlarında bir savaş vermeye hazırlanmaktadır.', 'runtime': 0, 'tagline': '', 'title': 'Ölüm Yolu'}}, {'iso_3166_1': 'CN', 'iso_639_1': 'zh', 'name': '普通话', 'english_name': 'Mandarin', 'data': {'homepage': '', 'overview': '机械工程师巴瑞（Jay Gallagher 饰）原本和妻子安妮（Catherine Terracini 饰）、女儿梅根（Meganne West 饰） 过着快乐无忧的生活，但在一个不祥之夜，他们的人生发生了翻天覆地的巨变。沉睡中的巴瑞突然接到妹妹布鲁克（Bianca Bradey 饰）的电话，妹妹声称朋友们毫无征兆的情况下甚至错乱，变成了凶恶残暴、嗜血如命的恐怖丧尸。话音未落之际，巴瑞一家也遭到丧尸们的袭击。夜幕退去，曙光降临。布鲁克被两名全副武装的士兵解救，随后则被打晕带走。与此同时，逃难中的巴瑞则不得不面对妻子女儿尸变的悲惨一幕。  \\u3000\\u3000途中他遇到了其他的幸存者，为了搭救被困的妹妹，巴瑞选择穿越丧尸群集的恐怖地带……', 'runtime': 0, 'tagline': '', 'title': '僵尸来袭'}}, {'iso_3166_1': 'TW', 'iso_639_1': 'zh', 'name': '普通话', 'english_name': 'Mandarin', 'data': {'homepage': '', 'overview': '機械工程師巴瑞（Jay Gallagher飾）原本和妻子安妮（Catherine Terracini飾）、女兒梅根（Meganne West飾）過著快樂無憂的生活，但在一個不祥之夜，他們的人生髮生了翻天覆地的巨變。沉睡中的巴瑞突然接到妹妹布魯克（Bianca Bradey飾）的電話，妹妹聲稱朋友們毫無徵兆的情況下甚至錯亂，變成了兇惡殘暴、嗜血如命的恐怖喪屍。話音未落之際，巴瑞一家也遭到喪屍們的襲擊。夜幕退去，曙光降臨。布魯克被兩名全副武裝的士兵解救，隨後則被打暈帶走。與此同時，逃難中的巴瑞則不得不面對妻子女兒屍變的悲慘一幕。  \\u3000\\u3000途中他遇到了其他的倖存者，為了搭救被困的妹妹，巴瑞選擇穿越喪屍群集的恐怖地帶……', 'runtime': 0, 'tagline': '', 'title': '殭屍來襲'}}]}, 'keywords': {'keywords': [{'id': 12377, 'name': 'zombie'}, {'id': 186565, 'name': 'zombie apocalypse'}]}, 'release_dates': {'results': [{'iso_3166_1': 'GB', 'release_dates': [{'certification': '', 'descriptors': [], 'iso_639_1': '', 'note': '', 'release_date': '2015-05-08T00:00:00.000Z', 'type': 3}]}, {'iso_3166_1': 'DE', 'release_dates': [{'certification': '18', 'descriptors': [], 'iso_639_1': '', 'note': '', 'release_date': '2015-08-06T00:00:00.000Z', 'type': 3}]}, {'iso_3166_1': 'US', 'release_dates': [{'certification': '', 'descriptors': [], 'iso_639_1': '', 'note': '', 'release_date': '2014-09-19T00:00:00.000Z', 'type': 3}]}, {'iso_3166_1': 'AU', 'release_dates': [{'certification': 'MA15+', 'descriptors': [], 'iso_639_1': '', 'note': '', 'release_date': '2015-02-13T00:00:00.000Z', 'type': 3}]}]}}"
      ]
     },
     "execution_count": 9,
     "metadata": {},
     "output_type": "execute_result"
    }
   ],
   "source": [
    "f_097fO['details']"
   ]
  },
  {
   "cell_type": "code",
   "execution_count": 20,
   "metadata": {},
   "outputs": [],
   "source": []
  },
  {
   "cell_type": "code",
   "execution_count": 21,
   "metadata": {},
   "outputs": [
    {
     "data": {
      "text/html": [
       "<div>\n",
       "<style scoped>\n",
       "    .dataframe tbody tr th:only-of-type {\n",
       "        vertical-align: middle;\n",
       "    }\n",
       "\n",
       "    .dataframe tbody tr th {\n",
       "        vertical-align: top;\n",
       "    }\n",
       "\n",
       "    .dataframe thead th {\n",
       "        text-align: right;\n",
       "    }\n",
       "</style>\n",
       "<table border=\"1\" class=\"dataframe\">\n",
       "  <thead>\n",
       "    <tr style=\"text-align: right;\">\n",
       "      <th></th>\n",
       "      <th>COLLECTION_ID</th>\n",
       "      <th>TMDB_ID</th>\n",
       "      <th>FILM_TITLE</th>\n",
       "    </tr>\n",
       "  </thead>\n",
       "  <tbody>\n",
       "    <tr>\n",
       "      <th>0</th>\n",
       "      <td>927812</td>\n",
       "      <td>290999</td>\n",
       "      <td>Wyrmwood: Road of the Dead</td>\n",
       "    </tr>\n",
       "    <tr>\n",
       "      <th>1</th>\n",
       "      <td>927812</td>\n",
       "      <td>879957</td>\n",
       "      <td>Wyrmwood: Apocalypse</td>\n",
       "    </tr>\n",
       "  </tbody>\n",
       "</table>\n",
       "</div>"
      ],
      "text/plain": [
       "  COLLECTION_ID  TMDB_ID                  FILM_TITLE\n",
       "0        927812   290999  Wyrmwood: Road of the Dead\n",
       "1        927812   879957        Wyrmwood: Apocalypse"
      ]
     },
     "execution_count": 21,
     "metadata": {},
     "output_type": "execute_result"
    }
   ],
   "source": []
  },
  {
   "cell_type": "code",
   "execution_count": 145,
   "metadata": {},
   "outputs": [
    {
     "ename": "KeyError",
     "evalue": "3",
     "output_type": "error",
     "traceback": [
      "\u001b[1;31m---------------------------------------------------------------------------\u001b[0m",
      "\u001b[1;31mKeyError\u001b[0m                                  Traceback (most recent call last)",
      "Cell \u001b[1;32mIn[145], line 1\u001b[0m\n\u001b[1;32m----> 1\u001b[0m keywords \u001b[39m=\u001b[39m f_0lrky[\u001b[39m3\u001b[39m]\u001b[39m.\u001b[39mget(\u001b[39m'\u001b[39m\u001b[39mkeywords\u001b[39m\u001b[39m'\u001b[39m, {\u001b[39m'\u001b[39m\u001b[39mkeywords\u001b[39m\u001b[39m'\u001b[39m: [{\u001b[39m'\u001b[39m\u001b[39mid\u001b[39m\u001b[39m'\u001b[39m: \u001b[39m-\u001b[39m\u001b[39m1\u001b[39m, \u001b[39m'\u001b[39m\u001b[39mname\u001b[39m\u001b[39m'\u001b[39m: \u001b[39m'\u001b[39m\u001b[39mnone\u001b[39m\u001b[39m'\u001b[39m}]})\n\u001b[0;32m      2\u001b[0m keywords\n",
      "\u001b[1;31mKeyError\u001b[0m: 3"
     ]
    }
   ],
   "source": [
    "keywords = f_0lrky[3].get('keywords', {'keywords': [{'id': -1, 'name': 'none'}]})\n",
    "keywords\n"
   ]
  },
  {
   "cell_type": "code",
   "execution_count": null,
   "metadata": {},
   "outputs": [],
   "source": [
    "if keywords:\n",
    "    keywords = keywords.get('keywords')\n",
    "    keyword_df = pd.DataFrame({\n",
    "        'FILM_ID': [film_id]*len(keywords),\n",
    "        'KEYWORD_ID':[x.get('id') for x in keywords],\n",
    "        'KEYWORD':[x.get('name') for x in keywords],\n",
    "        'CREATED_AT': [datetime.now()]*len(keywords)\n",
    "                                })"
   ]
  },
  {
   "cell_type": "code",
   "execution_count": 136,
   "metadata": {},
   "outputs": [],
   "source": [
    "tv = TV()\n",
    "details = tv.details('5195', 'credits,keywords')"
   ]
  },
  {
   "cell_type": "code",
   "execution_count": 137,
   "metadata": {},
   "outputs": [
    {
     "data": {
      "text/plain": [
       "{'adult': False, 'backdrop_path': '/m8ksGiX010NWJt79iTPEuAzvHbt.jpg', 'created_by': [{'id': 5602, 'credit_id': '592ede95925141312000f4d0', 'name': 'David Lynch', 'gender': 2, 'profile_path': '/b6TnSpuqeOlbq7aHH9G4inmQ1v9.jpg'}], 'episode_run_time': [], 'first_air_date': '2002-01-01', 'genres': [{'id': 16, 'name': 'Animation'}, {'id': 35, 'name': 'Comedy'}], 'homepage': '', 'id': 5195, 'in_production': False, 'languages': ['en'], 'last_air_date': '2002-01-01', 'last_episode_to_air': {'id': 1432630, 'name': 'The Neighbor', 'overview': '', 'vote_average': 0.0, 'vote_count': 0, 'air_date': '2002-01-01', 'episode_number': 1, 'production_code': '', 'runtime': None, 'season_number': 1, 'show_id': 5195, 'still_path': None}, 'name': 'DumbLand', 'next_episode_to_air': None, 'networks': [], 'number_of_episodes': 8, 'number_of_seasons': 1, 'origin_country': ['US'], 'original_language': 'en', 'original_name': 'DumbLand', 'overview': 'A series of eight crudely animated shorts written, directed, and voiced by director David Lynch in 2002. The series details the daily routines of a dull-witted white trash man. The man lives in a house along with his frazzled wife and squeaky-voiced child, both of whom are nameless as is the man in the shows.', 'popularity': 2.449, 'poster_path': '/4Ue7tiq1DxOiO2fMhhYBVEYFxzH.jpg', 'production_companies': [{'id': 94704, 'logo_path': None, 'name': 'davidlynch.com', 'origin_country': 'US'}], 'production_countries': [{'iso_3166_1': 'US', 'name': 'United States of America'}], 'seasons': [{'air_date': '2002-01-01', 'episode_count': 8, 'id': 88852, 'name': 'Miniseries', 'overview': 'The series details the daily routines of a dull-witted white trash man. The man lives in a house along with his frazzled wife and squeaky-voiced child, both of whom are nameless as is the man in the shows.', 'poster_path': None, 'season_number': 1}], 'spoken_languages': [{'english_name': 'English', 'iso_639_1': 'en', 'name': 'English'}], 'status': 'Ended', 'tagline': '', 'type': 'Scripted', 'vote_average': 6.48, 'vote_count': 49, 'credits': {'cast': [{'adult': False, 'gender': 2, 'id': 5602, 'known_for_department': 'Directing', 'name': 'David Lynch', 'original_name': 'David Lynch', 'popularity': 21.042, 'profile_path': '/b6TnSpuqeOlbq7aHH9G4inmQ1v9.jpg', 'character': 'Randy / Wife / Sparky (voice)', 'credit_id': '5e2fb8c9c56d2d001a4eda0b', 'order': 0}], 'crew': [{'adult': False, 'gender': 2, 'id': 5602, 'known_for_department': 'Directing', 'name': 'David Lynch', 'original_name': 'David Lynch', 'popularity': 21.042, 'profile_path': '/b6TnSpuqeOlbq7aHH9G4inmQ1v9.jpg', 'credit_id': '5a959739925141563900276d', 'department': 'Writing', 'job': 'Writer'}]}, 'keywords': {'results': []}}"
      ]
     },
     "execution_count": 137,
     "metadata": {},
     "output_type": "execute_result"
    }
   ],
   "source": [
    "details"
   ]
  },
  {
   "cell_type": "code",
   "execution_count": 87,
   "metadata": {},
   "outputs": [
    {
     "data": {
      "text/plain": [
       "'en'"
      ]
     },
     "execution_count": 87,
     "metadata": {},
     "output_type": "execute_result"
    }
   ],
   "source": [
    "f_01UTC['details']['original_language']"
   ]
  },
  {
   "cell_type": "code",
   "execution_count": 88,
   "metadata": {},
   "outputs": [
    {
     "name": "stdout",
     "output_type": "stream",
     "text": [
      "adult\n",
      "backdrop_path\n",
      "belongs_to_collection\n",
      "budget\n",
      "genres\n",
      "homepage\n",
      "id\n",
      "imdb_id\n",
      "original_language\n",
      "original_title\n",
      "overview\n",
      "popularity\n",
      "poster_path\n",
      "production_companies\n",
      "production_countries\n",
      "release_date\n",
      "revenue\n",
      "runtime\n",
      "spoken_languages\n",
      "status\n",
      "tagline\n",
      "title\n",
      "video\n",
      "vote_average\n",
      "vote_count\n",
      "videos\n",
      "trailers\n",
      "images\n",
      "casts\n",
      "translations\n",
      "keywords\n",
      "release_dates\n"
     ]
    }
   ],
   "source": [
    "for i in f_01UTC['details']:\n",
    "    print(i)"
   ]
  },
  {
   "cell_type": "code",
   "execution_count": 89,
   "metadata": {},
   "outputs": [
    {
     "data": {
      "text/plain": [
       "['en']"
      ]
     },
     "execution_count": 89,
     "metadata": {},
     "output_type": "execute_result"
    }
   ],
   "source": [
    "f_01U58['details']['languages']"
   ]
  },
  {
   "cell_type": "code",
   "execution_count": 118,
   "metadata": {},
   "outputs": [
    {
     "name": "stdout",
     "output_type": "stream",
     "text": [
      "Film ID is \"f_01U58\", title is \"Salem's Lot\", and TMDB id is \"16118\", while content type is \"tv\"\n"
     ]
    }
   ],
   "source": [
    "f_01U58_2 = create_movie_metadata_dict('f_01U58')"
   ]
  },
  {
   "cell_type": "code",
   "execution_count": 119,
   "metadata": {},
   "outputs": [
    {
     "data": {
      "text/plain": [
       "{'FILM_ID': 'f_01U58',\n",
       " 'belongs_to_collection': None,\n",
       " 'budget': None,\n",
       " 'original_language': 'en',\n",
       " 'popularity': 20.037,\n",
       " 'release_date': '1979-11-17',\n",
       " 'revenue': None,\n",
       " 'runtime': 184,\n",
       " 'status': 'Ended',\n",
       " 'vote_average': 6.9,\n",
       " 'vote_count': 383,\n",
       " 'keywords': {'results': [{'name': 'based on novel or book', 'id': 818}, {'name': 'vampire', 'id': 3133}, {'name': 'home', 'id': 1526}, {'name': 'return', 'id': 1571}, {'name': 'menace', 'id': 2250}, {'name': 'antiquary', 'id': 3095}, {'name': 'house', 'id': 6095}, {'name': 'miniseries', 'id': 11162}, {'name': 'writer', 'id': 13028}, {'name': 'new england', 'id': 41393}, {'name': 'hometown', 'id': 155808}, {'name': 'horror', 'id': 315058}]},\n",
       " 'casts': {'cast': [{'adult': False, 'gender': 2, 'id': 15956, 'known_for_department': 'Acting', 'name': 'David Soul', 'original_name': 'David Soul', 'popularity': 8.281, 'profile_path': '/y7fW77RzeqgBYeoTswsMfwy8FwI.jpg', 'character': 'Ben Mears', 'credit_id': '52584c96760ee34661008d4c', 'order': 0}, {'adult': False, 'gender': 2, 'id': 2091, 'known_for_department': 'Acting', 'name': 'James Mason', 'original_name': 'James Mason', 'popularity': 12.507, 'profile_path': '/ivmJl4jLgYoxI93EPgBehund505.jpg', 'character': 'Richard K. Straker', 'credit_id': '52584c96760ee34661008d3c', 'order': 1}, {'adult': False, 'gender': 2, 'id': 69070, 'known_for_department': 'Acting', 'name': 'Lance Kerwin', 'original_name': 'Lance Kerwin', 'popularity': 3.758, 'profile_path': '/3yg2UrvHsg7szu50kl7OggUIi2Y.jpg', 'character': 'Mark Petrie', 'credit_id': '52584c96760ee34661008dbc', 'order': 2}, {'adult': False, 'gender': 1, 'id': 7673, 'known_for_department': 'Acting', 'name': 'Bonnie Bedelia', 'original_name': 'Bonnie Bedelia', 'popularity': 15.365, 'profile_path': '/10JhoIaKHQGG0DNbQECTI4gHNn9.jpg', 'character': 'Susan Norton', 'credit_id': '52584c96760ee34661008d6c', 'order': 3}, {'adult': False, 'gender': 2, 'id': 2007, 'known_for_department': 'Acting', 'name': 'Lew Ayres', 'original_name': 'Lew Ayres', 'popularity': 3.566, 'profile_path': '/nNinKMWvSxrhiNMnMkbpUd4HEZO.jpg', 'character': 'Jason Burke', 'credit_id': '52584c96760ee34661008dac', 'order': 4}, {'adult': False, 'gender': 1, 'id': 121041, 'known_for_department': 'Acting', 'name': 'Julie Cobb', 'original_name': 'Julie Cobb', 'popularity': 3.023, 'profile_path': '/prvcvAH0v40WpdPdPBedTvEGqIA.jpg', 'character': 'Bonnie Sawyer', 'credit_id': '5a95f0179251417bd3000eca', 'order': 5}, {'adult': False, 'gender': 2, 'id': 3339, 'known_for_department': 'Acting', 'name': 'Elisha Cook Jr.', 'original_name': 'Elisha Cook Jr.', 'popularity': 2.421, 'profile_path': '/iOjQEbio1Asn19IDJqt08voTif0.jpg', 'character': \"Gordon 'Weasel' Phillips\", 'credit_id': '5a95f0179251417bd3000ecc', 'order': 6}, {'adult': False, 'gender': 2, 'id': 10477, 'known_for_department': 'Acting', 'name': 'George Dzundza', 'original_name': 'George Dzundza', 'popularity': 7.256, 'profile_path': '/wmnQQn0dFygl90M2N8tlWlpGHzV.jpg', 'character': 'Cully Sawyer', 'credit_id': '5a95f0179251417bd3000ece', 'order': 7}, {'adult': False, 'gender': 2, 'id': 70746, 'known_for_department': 'Acting', 'name': 'Ed Flanders', 'original_name': 'Ed Flanders', 'popularity': 2.061, 'profile_path': '/x88lHaesbu1ItCKIDnXn7VT8aTb.jpg', 'character': 'Dr. Bill Norton', 'credit_id': '52584c96760ee34661008d9c', 'order': 8}, {'adult': False, 'gender': 1, 'id': 124884, 'known_for_department': 'Acting', 'name': 'Clarissa Kaye-Mason', 'original_name': 'Clarissa Kaye-Mason', 'popularity': 2.222, 'profile_path': '/wlrvXursaxeqq2yGHWBBwHx5sOS.jpg', 'character': 'Majorie Glick', 'credit_id': '5a95f0179251417bd3000ed0', 'order': 9}, {'adult': False, 'gender': 2, 'id': 18071, 'known_for_department': 'Acting', 'name': 'Geoffrey Lewis', 'original_name': 'Geoffrey Lewis', 'popularity': 10.83, 'profile_path': '/codb8rrsNqnsq3e0MHkH3kAAJwg.jpg', 'character': 'Mike Ryerson', 'credit_id': '52584c96760ee34661008d8c', 'order': 10}, {'adult': False, 'gender': 2, 'id': 124885, 'known_for_department': 'Acting', 'name': 'Barney McFadden', 'original_name': 'Barney McFadden', 'popularity': 0.6, 'profile_path': None, 'character': 'Ned Tibbets', 'credit_id': '5a95f0179251417bd3000ed2', 'order': 11}, {'adult': False, 'gender': 2, 'id': 12521, 'known_for_department': 'Acting', 'name': 'Kenneth McMillan', 'original_name': 'Kenneth McMillan', 'popularity': 2.851, 'profile_path': '/iGRcxZOLPMCsgg06kYW1aVfxGqi.jpg', 'character': 'Constable Parkins Gillespie', 'credit_id': '52584c96760ee34661008d5c', 'order': 12}, {'adult': False, 'gender': 2, 'id': 20753, 'known_for_department': 'Acting', 'name': 'Fred Willard', 'original_name': 'Fred Willard', 'popularity': 4.115, 'profile_path': '/sHgg2W09DEdXB9W7bVYNGpHdLNE.jpg', 'character': 'Larry Crockett', 'credit_id': '5a95f0179251417bd3000ed4', 'order': 13}, {'adult': False, 'gender': 1, 'id': 3340, 'known_for_department': 'Acting', 'name': 'Marie Windsor', 'original_name': 'Marie Windsor', 'popularity': 8.063, 'profile_path': '/rBSWxRt3cbpg3IpCLCAiHy05DRL.jpg', 'character': 'Eva Miller', 'credit_id': '5a95f0179251417bd3000ed6', 'order': 14}, {'adult': False, 'gender': 2, 'id': 15972, 'known_for_department': 'Acting', 'name': 'Reggie Nalder', 'original_name': 'Reggie Nalder', 'popularity': 3.483, 'profile_path': '/qoBbcBYcH07KrnJ4p7CIe9BKuFM.jpg', 'character': 'Kurt Barlow', 'credit_id': '52584c96760ee34661008d7c', 'order': 15}, {'adult': False, 'gender': 1, 'id': 15746, 'known_for_department': 'Acting', 'name': 'Barbara Babcock', 'original_name': 'Barbara Babcock', 'popularity': 9.104, 'profile_path': '/wOB6OSPgFlyI3V1PtCTg7q8vrdW.jpg', 'character': 'June Petrie', 'credit_id': '63ade10bbe4b3600919ff8ed', 'order': 16}, {'adult': False, 'gender': 1, 'id': 32479, 'known_for_department': 'Acting', 'name': 'Bonnie Bartlett', 'original_name': 'Bonnie Bartlett', 'popularity': 4.533, 'profile_path': '/yz1MdbrxCAs5N1o0FouhnDWDAA7.jpg', 'character': 'Ann Norton', 'credit_id': '63ade1171f748b00c8b75726', 'order': 17}, {'adult': False, 'gender': 2, 'id': 119854, 'known_for_department': 'Acting', 'name': 'Joshua Bryant', 'original_name': 'Joshua Bryant', 'popularity': 1.914, 'profile_path': '/3BCGIAqpuoKyKHMhTlHpy7ZrJaW.jpg', 'character': 'Ted Petrie', 'credit_id': '63ade1258741c400bfdf1881', 'order': 18}, {'adult': False, 'gender': 2, 'id': 1339111, 'known_for_department': 'Acting', 'name': 'James Gallery', 'original_name': 'James Gallery', 'popularity': 0.6, 'profile_path': None, 'character': 'Father Donald Callahan', 'credit_id': '63ade1447ef3811f60859048', 'order': 19}, {'adult': False, 'gender': 2, 'id': 1392000, 'known_for_department': 'Acting', 'name': 'Robert Lussier', 'original_name': 'Robert Lussier', 'popularity': 0.756, 'profile_path': None, 'character': 'Deputy Constable Nolly Gardner', 'credit_id': '63ade15122af3e00b67d951f', 'order': 20}, {'adult': False, 'gender': 2, 'id': 19737, 'known_for_department': 'Acting', 'name': 'Brad Savage', 'original_name': 'Brad Savage', 'popularity': 4.386, 'profile_path': '/um1eexiXGXZESamRwP7omvlQHu4.jpg', 'character': 'Danny Glick', 'credit_id': '627452d151c01f005098ff3d', 'order': 21}, {'adult': False, 'gender': 2, 'id': 1217520, 'known_for_department': 'Acting', 'name': 'Ronnie Scribner', 'original_name': 'Ronnie Scribner', 'popularity': 1.96, 'profile_path': '/71ipKMJX3o9MuYWbkxEzy99fhw4.jpg', 'character': 'Ralphie Glick', 'credit_id': '63ade1605ad76b007dc69b8f', 'order': 22}, {'adult': False, 'gender': 2, 'id': 158944, 'known_for_department': 'Acting', 'name': 'Ned Wilson', 'original_name': 'Ned Wilson', 'popularity': 0.6, 'profile_path': None, 'character': 'Henry Glick', 'credit_id': '63ade16ec56d2d00f30e2acb', 'order': 23}], 'crew': [{'adult': False, 'gender': 2, 'id': 63905, 'known_for_department': 'Production', 'name': 'Richard Kobritz', 'original_name': 'Richard Kobritz', 'popularity': 0.6, 'profile_path': None, 'credit_id': '5a95f0189251417bd3000edd', 'department': 'Production', 'job': 'Producer'}, {'adult': False, 'gender': 2, 'id': 6779, 'known_for_department': 'Writing', 'name': 'Stirling Silliphant', 'original_name': 'Stirling Silliphant', 'popularity': 1.806, 'profile_path': '/iJ5AJl2CiNuSsxb94NhjFgvZDAu.jpg', 'credit_id': '5a95f0189251417bd3000edf', 'department': 'Production', 'job': 'Executive Producer'}, {'adult': False, 'gender': 2, 'id': 67492, 'known_for_department': 'Camera', 'name': 'Jules Brenner', 'original_name': 'Jules Brenner', 'popularity': 1.4, 'profile_path': None, 'credit_id': '5a95f0189251417bd3000ee3', 'department': 'Camera', 'job': 'Director of Photography'}, {'adult': False, 'gender': 0, 'id': 69071, 'known_for_department': 'Editing', 'name': 'Tom Pryor', 'original_name': 'Tom Pryor', 'popularity': 0.6, 'profile_path': None, 'credit_id': '5a95f0189251417bd3000ee5', 'department': 'Editing', 'job': 'Editor'}, {'adult': False, 'gender': 0, 'id': 46332, 'known_for_department': 'Editing', 'name': 'Carroll Sax', 'original_name': 'Carroll Sax', 'popularity': 0.6, 'profile_path': None, 'credit_id': '5a95f0189251417bd3000ee7', 'department': 'Editing', 'job': 'Editor'}, {'adult': False, 'gender': 2, 'id': 9579, 'known_for_department': 'Writing', 'name': 'Paul Monash', 'original_name': 'Paul Monash', 'popularity': 2.185, 'profile_path': None, 'credit_id': '604d775189f74900688e498d', 'department': 'Writing', 'job': 'Writer'}, {'adult': False, 'gender': 0, 'id': 1258116, 'known_for_department': 'Production', 'name': 'Anna Cottle', 'original_name': 'Anna Cottle', 'popularity': 0.6, 'profile_path': None, 'credit_id': '604d77b74284ea0028ffb50d', 'department': 'Production', 'job': 'Associate Producer'}, {'adult': False, 'gender': 0, 'id': 29330, 'known_for_department': 'Sound', 'name': 'Harry Sukman', 'original_name': 'Harry Sukman', 'popularity': 0.6, 'profile_path': None, 'credit_id': '604d77c7c3aa3f0029e77af9', 'department': 'Sound', 'job': 'Music'}, {'adult': False, 'gender': 0, 'id': 1424784, 'known_for_department': 'Art', 'name': 'Mort Rabinowitz', 'original_name': 'Mort Rabinowitz', 'popularity': 0.6, 'profile_path': None, 'credit_id': '604d77dafdf8b7004189c3e0', 'department': 'Art', 'job': 'Production Design'}, {'adult': False, 'gender': 2, 'id': 1344252, 'known_for_department': 'Art', 'name': 'Jerry Adams', 'original_name': 'Jerry Adams', 'popularity': 0.6, 'profile_path': None, 'credit_id': '604d77ed22e480006ad3c8d1', 'department': 'Art', 'job': 'Set Decoration'}, {'adult': False, 'gender': 2, 'id': 3027, 'known_for_department': 'Writing', 'name': 'Stephen King', 'original_name': 'Stephen King', 'popularity': 19.586, 'profile_path': '/7r5nEzNanuEhmxtpsKE1uCBU5Jd.jpg', 'credit_id': '5a95f0189251417bd3000ed9', 'department': 'Writing', 'job': 'Novel'}]}}"
      ]
     },
     "execution_count": 119,
     "metadata": {},
     "output_type": "execute_result"
    }
   ],
   "source": [
    "f_01U58_2['movie_metadata_dict']#['original_language']"
   ]
  },
  {
   "cell_type": "code",
   "execution_count": 90,
   "metadata": {},
   "outputs": [
    {
     "name": "stdout",
     "output_type": "stream",
     "text": [
      "Film ID is \"f_01U58\", title is \"Salem's Lot\", and TMDB id is \"16118\", while content type is \"tv\"\n",
      "adult\n",
      "backdrop_path\n",
      "created_by\n",
      "episode_run_time\n",
      "first_air_date\n",
      "genres\n",
      "homepage\n",
      "id\n",
      "in_production\n",
      "languages\n",
      "last_air_date\n",
      "last_episode_to_air\n",
      "name\n",
      "next_episode_to_air\n",
      "networks\n",
      "number_of_episodes\n",
      "number_of_seasons\n",
      "origin_country\n",
      "original_language\n",
      "original_name\n",
      "overview\n",
      "popularity\n",
      "poster_path\n",
      "production_companies\n",
      "production_countries\n",
      "seasons\n",
      "spoken_languages\n",
      "status\n",
      "tagline\n",
      "type\n",
      "vote_average\n",
      "vote_count\n",
      "credits\n",
      "keywords\n"
     ]
    }
   ],
   "source": [
    "f_01U58 = create_movie_metadata_dict('f_01U58')\n",
    "for i in f_01U58['details']:\n",
    "    print(i)"
   ]
  },
  {
   "cell_type": "code",
   "execution_count": 72,
   "metadata": {},
   "outputs": [
    {
     "data": {
      "text/plain": [
       "184"
      ]
     },
     "execution_count": 72,
     "metadata": {},
     "output_type": "execute_result"
    }
   ],
   "source": [
    "f_01U58['details']['episode_run_time'][0] * f_01U58['details']['number_of_episodes']"
   ]
  },
  {
   "cell_type": "code",
   "execution_count": 91,
   "metadata": {},
   "outputs": [
    {
     "data": {
      "text/plain": [
       "{'results': [{'name': 'based on novel or book', 'id': 818}, {'name': 'vampire', 'id': 3133}, {'name': 'home', 'id': 1526}, {'name': 'return', 'id': 1571}, {'name': 'menace', 'id': 2250}, {'name': 'antiquary', 'id': 3095}, {'name': 'house', 'id': 6095}, {'name': 'miniseries', 'id': 11162}, {'name': 'writer', 'id': 13028}, {'name': 'new england', 'id': 41393}, {'name': 'hometown', 'id': 155808}, {'name': 'horror', 'id': 315058}]}"
      ]
     },
     "execution_count": 91,
     "metadata": {},
     "output_type": "execute_result"
    }
   ],
   "source": [
    "f_01U58['details']['keywords']"
   ]
  },
  {
   "cell_type": "code",
   "execution_count": 48,
   "metadata": {},
   "outputs": [
    {
     "name": "stdout",
     "output_type": "stream",
     "text": [
      "Film ID is \"f_01U58\", title is \"Salem's Lot\", and TMDB id is \"16118\", while content type is \"tv\"\n"
     ]
    }
   ],
   "source": [
    "film_id = 'f_01U58'\n",
    "film_title = get_from_table('FILM_TITLE', film_id, 'FILM_TITLE')\n",
    "tmdb_id = get_from_table('TMDB_ID', film_id, 'TMDB_ID')\n",
    "content_type = get_from_table('CONTENT_TYPE', film_id, 'CONTENT_TYPE')\n",
    "print('Film ID is \"{}\", title is \"{}\", and TMDB id is \"{}\", while content type is \"{}\"'.format(film_id, film_title, tmdb_id, content_type))"
   ]
  },
  {
   "cell_type": "code",
   "execution_count": 92,
   "metadata": {},
   "outputs": [
    {
     "ename": "TMDbException",
     "evalue": "The resource you requested could not be found.",
     "output_type": "error",
     "traceback": [
      "\u001b[1;31m---------------------------------------------------------------------------\u001b[0m",
      "\u001b[1;31mTMDbException\u001b[0m                             Traceback (most recent call last)",
      "Cell \u001b[1;32mIn[92], line 2\u001b[0m\n\u001b[0;32m      1\u001b[0m tv \u001b[39m=\u001b[39m TV()\n\u001b[1;32m----> 2\u001b[0m details \u001b[39m=\u001b[39m tv\u001b[39m.\u001b[39mdetails(\u001b[39m'\u001b[39m\u001b[39mf_01U58\u001b[39m\u001b[39m'\u001b[39m, \u001b[39m'\u001b[39m\u001b[39mcredits,keywords,budget\u001b[39m\u001b[39m'\u001b[39m)\n",
      "File \u001b[1;32mc:\\Users\\tomdevine\\Desktop\\dev\\PersonalProjects\\letterboxd-app\\letterboxd-env\\Lib\\site-packages\\tmdbv3api\\objs\\tv.py:38\u001b[0m, in \u001b[0;36mTV.details\u001b[1;34m(self, show_id, append_to_response)\u001b[0m\n\u001b[0;32m     29\u001b[0m \u001b[39mdef\u001b[39;00m \u001b[39mdetails\u001b[39m(\n\u001b[0;32m     30\u001b[0m     \u001b[39mself\u001b[39m, show_id, append_to_response\u001b[39m=\u001b[39m\u001b[39m\"\u001b[39m\u001b[39mvideos,trailers,images,credits,translations\u001b[39m\u001b[39m\"\u001b[39m\n\u001b[0;32m     31\u001b[0m ):\n\u001b[0;32m     32\u001b[0m     \u001b[39m\"\"\"\u001b[39;00m\n\u001b[0;32m     33\u001b[0m \u001b[39m    Get the primary TV show details by id.\u001b[39;00m\n\u001b[0;32m     34\u001b[0m \u001b[39m    :param show_id:\u001b[39;00m\n\u001b[0;32m     35\u001b[0m \u001b[39m    :param append_to_response:\u001b[39;00m\n\u001b[0;32m     36\u001b[0m \u001b[39m    :return:\u001b[39;00m\n\u001b[0;32m     37\u001b[0m \u001b[39m    \"\"\"\u001b[39;00m\n\u001b[1;32m---> 38\u001b[0m     \u001b[39mreturn\u001b[39;00m AsObj(\n\u001b[0;32m     39\u001b[0m         \u001b[39m*\u001b[39m\u001b[39m*\u001b[39m\u001b[39mself\u001b[39m\u001b[39m.\u001b[39m_call(\n\u001b[0;32m     40\u001b[0m             \u001b[39mself\u001b[39m\u001b[39m.\u001b[39m_urls[\u001b[39m\"\u001b[39m\u001b[39mdetails\u001b[39m\u001b[39m\"\u001b[39m] \u001b[39m%\u001b[39m \u001b[39mstr\u001b[39m(show_id),\n\u001b[0;32m     41\u001b[0m             \u001b[39m\"\u001b[39m\u001b[39mappend_to_response=\u001b[39m\u001b[39m\"\u001b[39m \u001b[39m+\u001b[39m append_to_response,\n\u001b[0;32m     42\u001b[0m         )\n\u001b[0;32m     43\u001b[0m     )\n",
      "File \u001b[1;32mc:\\Users\\tomdevine\\Desktop\\dev\\PersonalProjects\\letterboxd-app\\letterboxd-env\\Lib\\site-packages\\tmdbv3api\\as_obj.py:9\u001b[0m, in \u001b[0;36mAsObj.__init__\u001b[1;34m(self, **entries)\u001b[0m\n\u001b[0;32m      7\u001b[0m \u001b[39mdef\u001b[39;00m \u001b[39m__init__\u001b[39m(\u001b[39mself\u001b[39m, \u001b[39m*\u001b[39m\u001b[39m*\u001b[39mentries):\n\u001b[0;32m      8\u001b[0m     \u001b[39mif\u001b[39;00m \u001b[39m\"\u001b[39m\u001b[39msuccess\u001b[39m\u001b[39m\"\u001b[39m \u001b[39min\u001b[39;00m entries \u001b[39mand\u001b[39;00m entries[\u001b[39m\"\u001b[39m\u001b[39msuccess\u001b[39m\u001b[39m\"\u001b[39m] \u001b[39mis\u001b[39;00m \u001b[39mFalse\u001b[39;00m:\n\u001b[1;32m----> 9\u001b[0m         \u001b[39mraise\u001b[39;00m TMDbException(entries[\u001b[39m\"\u001b[39m\u001b[39mstatus_message\u001b[39m\u001b[39m\"\u001b[39m])\n\u001b[0;32m     10\u001b[0m     \u001b[39mfor\u001b[39;00m key, value \u001b[39min\u001b[39;00m entries\u001b[39m.\u001b[39mitems():\n\u001b[0;32m     11\u001b[0m         \u001b[39mif\u001b[39;00m \u001b[39misinstance\u001b[39m(value, \u001b[39mlist\u001b[39m):\n",
      "\u001b[1;31mTMDbException\u001b[0m: The resource you requested could not be found."
     ]
    }
   ],
   "source": [
    "tv = TV()\n",
    "details = tv.details('f_01U58', 'credits,keywords,budget')"
   ]
  },
  {
   "cell_type": "code",
   "execution_count": 161,
   "metadata": {},
   "outputs": [],
   "source": [
    "from justwatch import JustWatch\n",
    "\n",
    "just_watch = JustWatch(country='GB')\n"
   ]
  },
  {
   "cell_type": "code",
   "execution_count": null,
   "metadata": {},
   "outputs": [],
   "source": [
    "total_pages = just_watch.search_for_item(providers=['nfx'], content_types=['movie']).get('total_pages')"
   ]
  },
  {
   "cell_type": "code",
   "execution_count": 164,
   "metadata": {},
   "outputs": [
    {
     "data": {
      "text/plain": [
       "[{'jw_entity_id': 'tm860276',\n",
       "  'id': 860276,\n",
       "  'title': 'Nobody',\n",
       "  'full_path': '/uk/movie/nobody',\n",
       "  'full_paths': {'MOVIE_DETAIL_OVERVIEW': '/uk/movie/nobody'},\n",
       "  'poster': '/poster/239506757/{profile}',\n",
       "  'poster_blur_hash': 'TE9?:,WW0errayI;tRofni9aof-o',\n",
       "  'object_type': 'movie',\n",
       "  'scoring': [{'provider_type': 'jw:popular_1_day', 'value': 377.67},\n",
       "   {'provider_type': 'imdb:votes', 'value': 280493},\n",
       "   {'provider_type': 'jw:popular_180_day', 'value': 412.99},\n",
       "   {'provider_type': 'jw:viral', 'value': 0.07},\n",
       "   {'provider_type': 'imdb:score', 'value': 7.4},\n",
       "   {'provider_type': 'tmdb:votes', 'value': 5813},\n",
       "   {'provider_type': 'tmdb:id', 'value': 615457},\n",
       "   {'provider_type': 'imdb:multiplied', 'value': 2075648.2000000002},\n",
       "   {'provider_type': 'tmdb:score', 'value': 8.055},\n",
       "   {'provider_type': 'tmdb:popularity', 'value': 83.242},\n",
       "   {'provider_type': 'imdb:popularity', 'value': 35},\n",
       "   {'provider_type': 'jw:popular_7_day', 'value': 478.3},\n",
       "   {'provider_type': 'jw:popular_30_day', 'value': 1115.23},\n",
       "   {'provider_type': 'jw:trending_7_day', 'value': 89.36}],\n",
       "  'cinema_release_date': '2021-01-29'},\n",
       " {'jw_entity_id': 'tm1307813',\n",
       "  'id': 1307813,\n",
       "  'title': 'The Last Kingdom: Seven Kings Must Die',\n",
       "  'full_path': '/uk/movie/seven-kings-must-die',\n",
       "  'full_paths': {'MOVIE_DETAIL_OVERVIEW': '/uk/movie/seven-kings-must-die'},\n",
       "  'poster': '/poster/305015413/{profile}',\n",
       "  'poster_blur_hash': 'TD9G]c%1-P_1xZs,E3WCIp0MWCI[',\n",
       "  'object_type': 'movie',\n",
       "  'scoring': [{'provider_type': 'tmdb:votes', 'value': 342},\n",
       "   {'provider_type': 'tmdb:id', 'value': 948713},\n",
       "   {'provider_type': 'imdb:multiplied', 'value': 146118},\n",
       "   {'provider_type': 'jw:viral', 'value': 0.07},\n",
       "   {'provider_type': 'jw:popular_30_day', 'value': 343.03},\n",
       "   {'provider_type': 'tmdb:popularity', 'value': 1061.049},\n",
       "   {'provider_type': 'jw:popular_7_day', 'value': 149.58},\n",
       "   {'provider_type': 'imdb:score', 'value': 7},\n",
       "   {'provider_type': 'tmdb:score', 'value': 7.278},\n",
       "   {'provider_type': 'jw:trending_7_day', 'value': 68.11},\n",
       "   {'provider_type': 'jw:popular_180_day', 'value': 87.3},\n",
       "   {'provider_type': 'imdb:votes', 'value': 20874},\n",
       "   {'provider_type': 'jw:popular_1_day', 'value': 197.05}]},\n",
       " {'jw_entity_id': 'tm205861',\n",
       "  'id': 205861,\n",
       "  'title': 'Arrival',\n",
       "  'full_path': '/uk/movie/arrival-2016',\n",
       "  'full_paths': {'MOVIE_DETAIL_OVERVIEW': '/uk/movie/arrival-2016'},\n",
       "  'poster': '/poster/8709095/{profile}',\n",
       "  'poster_blur_hash': 'TNF~gd0L~pJERjbI0L%0D%^+WBxZ',\n",
       "  'object_type': 'movie',\n",
       "  'scoring': [{'provider_type': 'imdb:votes', 'value': 715844},\n",
       "   {'provider_type': 'tmdb:score', 'value': 7.581},\n",
       "   {'provider_type': 'jw:trending_7_day', 'value': 176.57},\n",
       "   {'provider_type': 'imdb:popularity', 'value': 399},\n",
       "   {'provider_type': 'imdb:multiplied', 'value': 5655167.600000001},\n",
       "   {'provider_type': 'tmdb:votes', 'value': 16132},\n",
       "   {'provider_type': 'jw:viral', 'value': 0.12},\n",
       "   {'provider_type': 'tmdb:id', 'value': 329865},\n",
       "   {'provider_type': 'jw:popular_7_day', 'value': 292.93},\n",
       "   {'provider_type': 'tmdb:popularity', 'value': 68.876},\n",
       "   {'provider_type': 'imdb:score', 'value': 7.9},\n",
       "   {'provider_type': 'jw:popular_30_day', 'value': 346.88},\n",
       "   {'provider_type': 'jw:popular_1_day', 'value': 369.46},\n",
       "   {'provider_type': 'jw:popular_180_day', 'value': 267.16}],\n",
       "  'cinema_release_date': '2016-11-11'},\n",
       " {'jw_entity_id': 'tm431186',\n",
       "  'id': 431186,\n",
       "  'title': 'A Quiet Place Part II',\n",
       "  'full_path': '/uk/movie/a-quiet-place-part-ii',\n",
       "  'full_paths': {'MOVIE_DETAIL_OVERVIEW': '/uk/movie/a-quiet-place-part-ii'},\n",
       "  'poster': '/poster/250619161/{profile}',\n",
       "  'poster_blur_hash': 'TABU:v}YNG;g$jNHI;NHWWJ7NuNt',\n",
       "  'object_type': 'movie',\n",
       "  'scoring': [{'provider_type': 'tmdb:score', 'value': 7.527},\n",
       "   {'provider_type': 'imdb:multiplied', 'value': 1768600.8},\n",
       "   {'provider_type': 'jw:trending_7_day', 'value': 88.51},\n",
       "   {'provider_type': 'jw:popular_30_day', 'value': 326.51},\n",
       "   {'provider_type': 'imdb:popularity', 'value': 14},\n",
       "   {'provider_type': 'tmdb:popularity', 'value': 68.348},\n",
       "   {'provider_type': 'imdb:score', 'value': 7.2},\n",
       "   {'provider_type': 'tmdb:votes', 'value': 5334},\n",
       "   {'provider_type': 'jw:popular_180_day', 'value': 251.7},\n",
       "   {'provider_type': 'imdb:votes', 'value': 245639},\n",
       "   {'provider_type': 'jw:popular_7_day', 'value': 198.6},\n",
       "   {'provider_type': 'tmdb:id', 'value': 520763},\n",
       "   {'provider_type': 'jw:viral', 'value': 0.06},\n",
       "   {'provider_type': 'jw:popular_1_day', 'value': 151.89}],\n",
       "  'cinema_release_date': '2020-03-20'},\n",
       " {'jw_entity_id': 'tm915749',\n",
       "  'id': 915749,\n",
       "  'title': 'Glass Onion: A Knives Out Mystery',\n",
       "  'full_path': '/uk/movie/knives-out-2',\n",
       "  'full_paths': {'MOVIE_DETAIL_OVERVIEW': '/uk/movie/knives-out-2'},\n",
       "  'poster': '/poster/301342724/{profile}',\n",
       "  'poster_blur_hash': 'TPD,c*RNR$J@ngRl8^o#j_:}g4o2',\n",
       "  'object_type': 'movie',\n",
       "  'scoring': [{'provider_type': 'jw:popular_30_day', 'value': 323.66},\n",
       "   {'provider_type': 'tmdb:popularity', 'value': 131.918},\n",
       "   {'provider_type': 'jw:popular_1_day', 'value': 131.36},\n",
       "   {'provider_type': 'jw:popular_7_day', 'value': 151.37},\n",
       "   {'provider_type': 'imdb:score', 'value': 7.1},\n",
       "   {'provider_type': 'tmdb:id', 'value': 661374},\n",
       "   {'provider_type': 'tmdb:score', 'value': 7.078},\n",
       "   {'provider_type': 'jw:popular_180_day', 'value': 731.68},\n",
       "   {'provider_type': 'tmdb:votes', 'value': 4021},\n",
       "   {'provider_type': 'jw:trending_7_day', 'value': 26.89},\n",
       "   {'provider_type': 'imdb:multiplied', 'value': 2735977.9},\n",
       "   {'provider_type': 'jw:viral', 'value': 0.05},\n",
       "   {'provider_type': 'imdb:votes', 'value': 385349}]},\n",
       " {'jw_entity_id': 'tm11005',\n",
       "  'id': 11005,\n",
       "  'title': 'Heat',\n",
       "  'full_path': '/uk/movie/heat',\n",
       "  'full_paths': {'MOVIE_DETAIL_OVERVIEW': '/uk/movie/heat'},\n",
       "  'poster': '/poster/239897076/{profile}',\n",
       "  'poster_blur_hash': 'TA6[,dMbDhDNo$xuVVtmkDyEVqR.',\n",
       "  'object_type': 'movie',\n",
       "  'scoring': [{'provider_type': 'jw:popular_1_day', 'value': 143.68},\n",
       "   {'provider_type': 'tmdb:votes', 'value': 6234},\n",
       "   {'provider_type': 'tmdb:id', 'value': 949},\n",
       "   {'provider_type': 'jw:popular_7_day', 'value': 172.13},\n",
       "   {'provider_type': 'imdb:score', 'value': 8.3},\n",
       "   {'provider_type': 'imdb:votes', 'value': 670417},\n",
       "   {'provider_type': 'jw:popular_30_day', 'value': 326.57},\n",
       "   {'provider_type': 'jw:popular_180_day', 'value': 193.24},\n",
       "   {'provider_type': 'imdb:popularity', 'value': 260},\n",
       "   {'provider_type': 'imdb:multiplied', 'value': 5564461.100000001},\n",
       "   {'provider_type': 'tmdb:score', 'value': 7.9},\n",
       "   {'provider_type': 'jw:viral', 'value': 0.06},\n",
       "   {'provider_type': 'tmdb:popularity', 'value': 52.491}]},\n",
       " {'jw_entity_id': 'tm266641',\n",
       "  'id': 266641,\n",
       "  'title': 'Ad Astra',\n",
       "  'full_path': '/uk/movie/ad-astra',\n",
       "  'full_paths': {'MOVIE_DETAIL_OVERVIEW': '/uk/movie/ad-astra'},\n",
       "  'poster': '/poster/155519320/{profile}',\n",
       "  'poster_blur_hash': 'TjO|hERQ_Ns9R%%MW?R%M{.8s;M_',\n",
       "  'object_type': 'movie',\n",
       "  'scoring': [{'provider_type': 'tmdb:votes', 'value': 5953},\n",
       "   {'provider_type': 'tmdb:id', 'value': 419704},\n",
       "   {'provider_type': 'jw:trending_7_day', 'value': 1066.87},\n",
       "   {'provider_type': 'tmdb:popularity', 'value': 12.771},\n",
       "   {'provider_type': 'jw:popular_1_day', 'value': 492.61},\n",
       "   {'provider_type': 'jw:popular_30_day', 'value': 326.13},\n",
       "   {'provider_type': 'imdb:multiplied', 'value': 1453731.5},\n",
       "   {'provider_type': 'tmdb:score', 'value': 6.097},\n",
       "   {'provider_type': 'imdb:popularity', 'value': 832},\n",
       "   {'provider_type': 'jw:popular_180_day', 'value': 95.84},\n",
       "   {'provider_type': 'jw:viral', 'value': 0.16},\n",
       "   {'provider_type': 'imdb:votes', 'value': 223651},\n",
       "   {'provider_type': 'jw:popular_7_day', 'value': 942.64},\n",
       "   {'provider_type': 'imdb:score', 'value': 6.5}],\n",
       "  'cinema_release_date': '2019-09-20'},\n",
       " {'jw_entity_id': 'tm1196209',\n",
       "  'id': 1196209,\n",
       "  'title': 'Moonage Daydream',\n",
       "  'full_path': '/uk/movie/moonage-daydream',\n",
       "  'full_paths': {'MOVIE_DETAIL_OVERVIEW': '/uk/movie/moonage-daydream'},\n",
       "  'poster': '/poster/302423000/{profile}',\n",
       "  'poster_blur_hash': 'TcG@+1rGxu2tXmJmvNK#M|j:Vtt6',\n",
       "  'object_type': 'movie',\n",
       "  'scoring': [{'provider_type': 'imdb:multiplied', 'value': 83891.5},\n",
       "   {'provider_type': 'tmdb:score', 'value': 7.915},\n",
       "   {'provider_type': 'jw:popular_30_day', 'value': 319.43},\n",
       "   {'provider_type': 'jw:popular_180_day', 'value': 260.45},\n",
       "   {'provider_type': 'tmdb:id', 'value': 957457},\n",
       "   {'provider_type': 'jw:viral', 'value': 0.05},\n",
       "   {'provider_type': 'jw:popular_1_day', 'value': 123.15},\n",
       "   {'provider_type': 'tmdb:popularity', 'value': 9.931},\n",
       "   {'provider_type': 'imdb:votes', 'value': 10895},\n",
       "   {'provider_type': 'jw:trending_7_day', 'value': 33.96},\n",
       "   {'provider_type': 'jw:popular_7_day', 'value': 135.4},\n",
       "   {'provider_type': 'imdb:score', 'value': 7.7},\n",
       "   {'provider_type': 'tmdb:votes', 'value': 106}]},\n",
       " {'jw_entity_id': 'tm112130',\n",
       "  'id': 112130,\n",
       "  'title': 'Pulp Fiction',\n",
       "  'full_path': '/uk/movie/pulp-fiction',\n",
       "  'full_paths': {'MOVIE_DETAIL_OVERVIEW': '/uk/movie/pulp-fiction'},\n",
       "  'poster': '/poster/122820908/{profile}',\n",
       "  'poster_blur_hash': 'TSHJ~tVrI[=Y%1r?}qNGnj]#t7S5',\n",
       "  'object_type': 'movie',\n",
       "  'scoring': [{'provider_type': 'jw:popular_30_day', 'value': 309.06},\n",
       "   {'provider_type': 'imdb:votes', 'value': 2100081},\n",
       "   {'provider_type': 'jw:popular_7_day', 'value': 197.08},\n",
       "   {'provider_type': 'tmdb:votes', 'value': 25126},\n",
       "   {'provider_type': 'jw:popular_1_day', 'value': 201.15},\n",
       "   {'provider_type': 'tmdb:score', 'value': 8.491},\n",
       "   {'provider_type': 'jw:trending_7_day', 'value': 75.4},\n",
       "   {'provider_type': 'imdb:multiplied', 'value': 18690720.900000002},\n",
       "   {'provider_type': 'imdb:score', 'value': 8.9},\n",
       "   {'provider_type': 'imdb:popularity', 'value': 93},\n",
       "   {'provider_type': 'jw:viral', 'value': 0.08},\n",
       "   {'provider_type': 'jw:popular_180_day', 'value': 315.88},\n",
       "   {'provider_type': 'tmdb:id', 'value': 680},\n",
       "   {'provider_type': 'tmdb:popularity', 'value': 61.972}],\n",
       "  'cinema_release_date': '2014-05-20'},\n",
       " {'jw_entity_id': 'tm441050',\n",
       "  'id': 441050,\n",
       "  'title': 'The Gentlemen',\n",
       "  'full_path': '/uk/movie/the-gentlemen',\n",
       "  'full_paths': {'MOVIE_DETAIL_OVERVIEW': '/uk/movie/the-gentlemen'},\n",
       "  'poster': '/poster/166839313/{profile}',\n",
       "  'poster_blur_hash': 'T,M7idWCxu-;ofay~qWBWBM{j[bH',\n",
       "  'object_type': 'movie',\n",
       "  'scoring': [{'provider_type': 'tmdb:id', 'value': 522627},\n",
       "   {'provider_type': 'jw:popular_180_day', 'value': 197.8},\n",
       "   {'provider_type': 'tmdb:score', 'value': 7.684},\n",
       "   {'provider_type': 'jw:popular_1_day', 'value': 172.41},\n",
       "   {'provider_type': 'tmdb:votes', 'value': 4847},\n",
       "   {'provider_type': 'jw:viral', 'value': 0.07},\n",
       "   {'provider_type': 'imdb:score', 'value': 7.8},\n",
       "   {'provider_type': 'imdb:popularity', 'value': 137},\n",
       "   {'provider_type': 'imdb:multiplied', 'value': 2795933.4},\n",
       "   {'provider_type': 'imdb:votes', 'value': 358453},\n",
       "   {'provider_type': 'jw:popular_30_day', 'value': 304.83},\n",
       "   {'provider_type': 'jw:trending_7_day', 'value': 38.8},\n",
       "   {'provider_type': 'jw:popular_7_day', 'value': 182.82},\n",
       "   {'provider_type': 'tmdb:popularity', 'value': 39.698}],\n",
       "  'cinema_release_date': '2020-01-01'},\n",
       " {'jw_entity_id': 'tm435901',\n",
       "  'id': 435901,\n",
       "  'title': 'Freaky',\n",
       "  'full_path': '/uk/movie/freaky',\n",
       "  'full_paths': {'MOVIE_DETAIL_OVERVIEW': '/uk/movie/freaky'},\n",
       "  'poster': '/poster/235058992/{profile}',\n",
       "  'poster_blur_hash': 'TFCX]Ioz5QGFoLr?0ejFxu+vSgSg',\n",
       "  'object_type': 'movie',\n",
       "  'scoring': [{'provider_type': 'imdb:multiplied', 'value': 401347.8},\n",
       "   {'provider_type': 'imdb:votes', 'value': 63706},\n",
       "   {'provider_type': 'imdb:popularity', 'value': 461},\n",
       "   {'provider_type': 'jw:popular_1_day', 'value': 197.05},\n",
       "   {'provider_type': 'jw:popular_30_day', 'value': 300.99},\n",
       "   {'provider_type': 'tmdb:popularity', 'value': 18.646},\n",
       "   {'provider_type': 'jw:viral', 'value': 0.08},\n",
       "   {'provider_type': 'jw:popular_180_day', 'value': 86.78},\n",
       "   {'provider_type': 'tmdb:votes', 'value': 1313},\n",
       "   {'provider_type': 'tmdb:id', 'value': 551804},\n",
       "   {'provider_type': 'imdb:score', 'value': 6.3},\n",
       "   {'provider_type': 'jw:popular_7_day', 'value': 241.93},\n",
       "   {'provider_type': 'tmdb:score', 'value': 6.598}],\n",
       "  'cinema_release_date': '2020-11-27'},\n",
       " {'jw_entity_id': 'tm1221988',\n",
       "  'id': 1221988,\n",
       "  'title': 'Fall',\n",
       "  'full_path': '/uk/movie/fall-2022',\n",
       "  'full_paths': {'MOVIE_DETAIL_OVERVIEW': '/uk/movie/fall-2022'},\n",
       "  'poster': '/poster/284148754/{profile}',\n",
       "  'poster_blur_hash': 'TvJu},-5og0.pJj[VDRkjYs:V@ae',\n",
       "  'object_type': 'movie',\n",
       "  'scoring': [{'provider_type': 'jw:popular_30_day', 'value': 275.34},\n",
       "   {'provider_type': 'imdb:votes', 'value': 78299},\n",
       "   {'provider_type': 'jw:viral', 'value': 0.04},\n",
       "   {'provider_type': 'imdb:multiplied', 'value': 501113.60000000003},\n",
       "   {'provider_type': 'tmdb:popularity', 'value': 322.496},\n",
       "   {'provider_type': 'jw:trending_7_day', 'value': 78.36},\n",
       "   {'provider_type': 'jw:popular_1_day', 'value': 82.1},\n",
       "   {'provider_type': 'tmdb:id', 'value': 985939},\n",
       "   {'provider_type': 'jw:popular_180_day', 'value': 403.78},\n",
       "   {'provider_type': 'jw:popular_7_day', 'value': 171.35},\n",
       "   {'provider_type': 'tmdb:score', 'value': 7.282},\n",
       "   {'provider_type': 'imdb:score', 'value': 6.4},\n",
       "   {'provider_type': 'tmdb:votes', 'value': 2843}]},\n",
       " {'jw_entity_id': 'tm432043',\n",
       "  'id': 432043,\n",
       "  'title': 'Knives Out',\n",
       "  'full_path': '/uk/movie/knives-out',\n",
       "  'full_paths': {'MOVIE_DETAIL_OVERVIEW': '/uk/movie/knives-out'},\n",
       "  'poster': '/poster/154373248/{profile}',\n",
       "  'poster_blur_hash': 'TIDu9xS{5D?VxGIr0zw{xVD;Na$|',\n",
       "  'object_type': 'movie',\n",
       "  'scoring': [{'provider_type': 'jw:popular_180_day', 'value': 705.99},\n",
       "   {'provider_type': 'jw:trending_7_day', 'value': 42.09},\n",
       "   {'provider_type': 'imdb:score', 'value': 7.9},\n",
       "   {'provider_type': 'jw:viral', 'value': 0.05},\n",
       "   {'provider_type': 'jw:popular_1_day', 'value': 102.63},\n",
       "   {'provider_type': 'imdb:popularity', 'value': 131},\n",
       "   {'provider_type': 'tmdb:score', 'value': 7.852},\n",
       "   {'provider_type': 'tmdb:votes', 'value': 10677},\n",
       "   {'provider_type': 'tmdb:id', 'value': 546554},\n",
       "   {'provider_type': 'imdb:votes', 'value': 724044},\n",
       "   {'provider_type': 'tmdb:popularity', 'value': 42.316},\n",
       "   {'provider_type': 'imdb:multiplied', 'value': 5719947.600000001},\n",
       "   {'provider_type': 'jw:popular_7_day', 'value': 139.93},\n",
       "   {'provider_type': 'jw:popular_30_day', 'value': 280.43}],\n",
       "  'cinema_release_date': '2019-11-29'},\n",
       " {'jw_entity_id': 'tm458468',\n",
       "  'id': 458468,\n",
       "  'title': 'I See You',\n",
       "  'full_path': '/uk/movie/i-see-you-2019',\n",
       "  'full_paths': {'MOVIE_DETAIL_OVERVIEW': '/uk/movie/i-see-you-2019'},\n",
       "  'poster': '/poster/166095369/{profile}',\n",
       "  'poster_blur_hash': 'T54xlC9FIU00?bt7_3D%WB9Gxuxu',\n",
       "  'object_type': 'movie',\n",
       "  'scoring': [{'provider_type': 'jw:popular_1_day', 'value': 35.23},\n",
       "   {'provider_type': 'tmdb:votes', 'value': 1171},\n",
       "   {'provider_type': 'jw:popular_7_day', 'value': 129.57},\n",
       "   {'provider_type': 'imdb:score', 'value': 6.8},\n",
       "   {'provider_type': 'tmdb:popularity', 'value': 35.073},\n",
       "   {'provider_type': 'imdb:popularity', 'value': 800},\n",
       "   {'provider_type': 'jw:popular_180_day', 'value': 101.04},\n",
       "   {'provider_type': 'imdb:votes', 'value': 56356},\n",
       "   {'provider_type': 'jw:popular_30_day', 'value': 277.32},\n",
       "   {'provider_type': 'jw:trending_7_day', 'value': 34.3},\n",
       "   {'provider_type': 'imdb:multiplied', 'value': 383220.8},\n",
       "   {'provider_type': 'tmdb:score', 'value': 7.034},\n",
       "   {'provider_type': 'tmdb:id', 'value': 524251},\n",
       "   {'provider_type': 'jw:viral', 'value': 0.02}]},\n",
       " {'jw_entity_id': 'tm19313',\n",
       "  'id': 19313,\n",
       "  'title': 'Memento',\n",
       "  'full_path': '/uk/movie/memento',\n",
       "  'full_paths': {'MOVIE_DETAIL_OVERVIEW': '/uk/movie/memento'},\n",
       "  'poster': '/poster/8711516/{profile}',\n",
       "  'poster_blur_hash': 'TPKT}Sq[xa}?IAR-g4x]D*Xnx[ae',\n",
       "  'object_type': 'movie',\n",
       "  'scoring': [{'provider_type': 'jw:trending_7_day', 'value': 31.62},\n",
       "   {'provider_type': 'jw:popular_180_day', 'value': 243.1},\n",
       "   {'provider_type': 'jw:popular_1_day', 'value': 160.1},\n",
       "   {'provider_type': 'tmdb:popularity', 'value': 24.667},\n",
       "   {'provider_type': 'jw:popular_7_day', 'value': 171.81},\n",
       "   {'provider_type': 'imdb:popularity', 'value': 439},\n",
       "   {'provider_type': 'jw:popular_30_day', 'value': 277.05},\n",
       "   {'provider_type': 'imdb:multiplied', 'value': 10577145.6},\n",
       "   {'provider_type': 'jw:viral', 'value': 0.07},\n",
       "   {'provider_type': 'tmdb:id', 'value': 77},\n",
       "   {'provider_type': 'imdb:votes', 'value': 1259184},\n",
       "   {'provider_type': 'imdb:score', 'value': 8.4},\n",
       "   {'provider_type': 'tmdb:score', 'value': 8.19},\n",
       "   {'provider_type': 'tmdb:votes', 'value': 13256}],\n",
       "  'cinema_release_date': '2000-10-20'},\n",
       " {'jw_entity_id': 'tm439291',\n",
       "  'id': 439291,\n",
       "  'title': 'Midsommar',\n",
       "  'full_path': '/uk/movie/midsommar',\n",
       "  'full_paths': {'MOVIE_DETAIL_OVERVIEW': '/uk/movie/midsommar'},\n",
       "  'poster': '/poster/127746769/{profile}',\n",
       "  'poster_blur_hash': 'TbKJYu}qTcngoz$i1JIVagxtaKXS',\n",
       "  'object_type': 'movie',\n",
       "  'scoring': [{'provider_type': 'imdb:votes', 'value': 347832},\n",
       "   {'provider_type': 'jw:popular_180_day', 'value': 181.15},\n",
       "   {'provider_type': 'tmdb:votes', 'value': 5824},\n",
       "   {'provider_type': 'jw:popular_7_day', 'value': 189.7},\n",
       "   {'provider_type': 'tmdb:popularity', 'value': 41.249},\n",
       "   {'provider_type': 'tmdb:id', 'value': 530385},\n",
       "   {'provider_type': 'tmdb:score', 'value': 7.164},\n",
       "   {'provider_type': 'jw:trending_7_day', 'value': 62.41},\n",
       "   {'provider_type': 'jw:popular_30_day', 'value': 274.29},\n",
       "   {'provider_type': 'imdb:multiplied', 'value': 2469607.1999999997},\n",
       "   {'provider_type': 'imdb:score', 'value': 7.1},\n",
       "   {'provider_type': 'jw:popular_1_day', 'value': 86.21},\n",
       "   {'provider_type': 'imdb:popularity', 'value': 26},\n",
       "   {'provider_type': 'jw:viral', 'value': 0.04}],\n",
       "  'cinema_release_date': '2019-07-05'},\n",
       " {'jw_entity_id': 'tm1299162',\n",
       "  'id': 1299162,\n",
       "  'title': 'Murder Mystery 2',\n",
       "  'full_path': '/uk/movie/murder-mystery-2',\n",
       "  'full_paths': {'MOVIE_DETAIL_OVERVIEW': '/uk/movie/murder-mystery-2'},\n",
       "  'poster': '/poster/302625632/{profile}',\n",
       "  'poster_blur_hash': 'TcIOFJWBx[~qMykW-;WBRjx]R+M{',\n",
       "  'object_type': 'movie',\n",
       "  'scoring': [{'provider_type': 'jw:popular_30_day', 'value': 265.51},\n",
       "   {'provider_type': 'imdb:score', 'value': 5.6},\n",
       "   {'provider_type': 'imdb:votes', 'value': 47502},\n",
       "   {'provider_type': 'tmdb:score', 'value': 6.6},\n",
       "   {'provider_type': 'tmdb:popularity', 'value': 965.595},\n",
       "   {'provider_type': 'jw:popular_1_day', 'value': 72.23},\n",
       "   {'provider_type': 'jw:viral', 'value': 0.04},\n",
       "   {'provider_type': 'imdb:multiplied', 'value': 266011.2},\n",
       "   {'provider_type': 'tmdb:id', 'value': 638974},\n",
       "   {'provider_type': 'jw:popular_180_day', 'value': 118.54},\n",
       "   {'provider_type': 'jw:popular_7_day', 'value': 106.9},\n",
       "   {'provider_type': 'tmdb:votes', 'value': 1017}]},\n",
       " {'jw_entity_id': 'tm160558',\n",
       "  'id': 160558,\n",
       "  'title': 'The Equalizer',\n",
       "  'full_path': '/uk/movie/the-equalizer',\n",
       "  'full_paths': {'MOVIE_DETAIL_OVERVIEW': '/uk/movie/the-equalizer'},\n",
       "  'poster': '/poster/184977287/{profile}',\n",
       "  'poster_blur_hash': 'T67-A^0K.8%#WBxa4n?bD%VYkCNG',\n",
       "  'object_type': 'movie',\n",
       "  'scoring': [{'provider_type': 'imdb:multiplied', 'value': 2753928},\n",
       "   {'provider_type': 'imdb:votes', 'value': 382490},\n",
       "   {'provider_type': 'tmdb:votes', 'value': 7803},\n",
       "   {'provider_type': 'imdb:popularity', 'value': 471},\n",
       "   {'provider_type': 'tmdb:score', 'value': 7.238},\n",
       "   {'provider_type': 'jw:viral', 'value': 0.05},\n",
       "   {'provider_type': 'tmdb:id', 'value': 156022},\n",
       "   {'provider_type': 'jw:popular_7_day', 'value': 293.07},\n",
       "   {'provider_type': 'tmdb:popularity', 'value': 98.831},\n",
       "   {'provider_type': 'jw:popular_30_day', 'value': 266.65},\n",
       "   {'provider_type': 'jw:popular_1_day', 'value': 106.73},\n",
       "   {'provider_type': 'imdb:score', 'value': 7.2},\n",
       "   {'provider_type': 'jw:popular_180_day', 'value': 142.54},\n",
       "   {'provider_type': 'jw:trending_7_day', 'value': 187.19}],\n",
       "  'cinema_release_date': '2014-09-26'},\n",
       " {'jw_entity_id': 'tm191716',\n",
       "  'id': 191716,\n",
       "  'title': 'Good Will Hunting',\n",
       "  'full_path': '/uk/movie/good-will-hunting',\n",
       "  'full_paths': {'MOVIE_DETAIL_OVERVIEW': '/uk/movie/good-will-hunting'},\n",
       "  'poster': '/poster/8707541/{profile}',\n",
       "  'poster_blur_hash': 'TXD[t6jYS5};WBS5$yWERkxCofRk',\n",
       "  'object_type': 'movie',\n",
       "  'scoring': [{'provider_type': 'jw:popular_1_day', 'value': 143.68},\n",
       "   {'provider_type': 'jw:popular_7_day', 'value': 197.24},\n",
       "   {'provider_type': 'tmdb:popularity', 'value': 94.065},\n",
       "   {'provider_type': 'imdb:multiplied', 'value': 8286437.800000001},\n",
       "   {'provider_type': 'imdb:score', 'value': 8.3},\n",
       "   {'provider_type': 'jw:viral', 'value': 0.07},\n",
       "   {'provider_type': 'tmdb:votes', 'value': 10674},\n",
       "   {'provider_type': 'tmdb:score', 'value': 8.145},\n",
       "   {'provider_type': 'tmdb:id', 'value': 489},\n",
       "   {'provider_type': 'imdb:votes', 'value': 998366},\n",
       "   {'provider_type': 'jw:trending_7_day', 'value': 87.28},\n",
       "   {'provider_type': 'jw:popular_180_day', 'value': 233.98},\n",
       "   {'provider_type': 'jw:popular_30_day', 'value': 266.05},\n",
       "   {'provider_type': 'imdb:popularity', 'value': 286}],\n",
       "  'cinema_release_date': '1998-03-06'},\n",
       " {'jw_entity_id': 'tm1284150',\n",
       "  'id': 1284150,\n",
       "  'title': 'The Subtle Art of Not Giving a #@%!',\n",
       "  'full_path': '/uk/movie/the-subtle-art-of-not-giving-a-at',\n",
       "  'full_paths': {'MOVIE_DETAIL_OVERVIEW': '/uk/movie/the-subtle-art-of-not-giving-a-at'},\n",
       "  'poster': '/poster/302324876/{profile}',\n",
       "  'poster_blur_hash': 'TpKnPIenJC~poJW;5lt7xDtlkCso',\n",
       "  'object_type': 'movie',\n",
       "  'scoring': [{'provider_type': 'imdb:multiplied', 'value': 3172},\n",
       "   {'provider_type': 'jw:trending_7_day', 'value': 1053.85},\n",
       "   {'provider_type': 'tmdb:votes', 'value': 11},\n",
       "   {'provider_type': 'jw:popular_7_day', 'value': 917.69},\n",
       "   {'provider_type': 'imdb:score', 'value': 6.1},\n",
       "   {'provider_type': 'jw:popular_180_day', 'value': 64.98},\n",
       "   {'provider_type': 'jw:popular_30_day', 'value': 272.16},\n",
       "   {'provider_type': 'jw:popular_1_day', 'value': 147.78},\n",
       "   {'provider_type': 'tmdb:popularity', 'value': 4.816},\n",
       "   {'provider_type': 'tmdb:score', 'value': 6.182},\n",
       "   {'provider_type': 'tmdb:id', 'value': 1032696},\n",
       "   {'provider_type': 'imdb:votes', 'value': 520},\n",
       "   {'provider_type': 'jw:viral', 'value': 0.07}]},\n",
       " {'jw_entity_id': 'tm166586',\n",
       "  'id': 166586,\n",
       "  'title': 'Prisoners',\n",
       "  'full_path': '/uk/movie/prisoners',\n",
       "  'full_paths': {'MOVIE_DETAIL_OVERVIEW': '/uk/movie/prisoners'},\n",
       "  'poster': '/poster/183783880/{profile}',\n",
       "  'poster_blur_hash': 'T36axHXUtS,.00^krBIU-o^k-;n%',\n",
       "  'object_type': 'movie',\n",
       "  'scoring': [{'provider_type': 'tmdb:id', 'value': 146233},\n",
       "   {'provider_type': 'tmdb:popularity', 'value': 42.473},\n",
       "   {'provider_type': 'jw:popular_30_day', 'value': 258.99},\n",
       "   {'provider_type': 'jw:viral', 'value': 0.05},\n",
       "   {'provider_type': 'tmdb:votes', 'value': 10288},\n",
       "   {'provider_type': 'jw:popular_180_day', 'value': 180.76},\n",
       "   {'provider_type': 'jw:popular_1_day', 'value': 97.82},\n",
       "   {'provider_type': 'jw:popular_7_day', 'value': 150.84},\n",
       "   {'provider_type': 'imdb:multiplied', 'value': 6008280.3},\n",
       "   {'provider_type': 'tmdb:score', 'value': 8.08},\n",
       "   {'provider_type': 'imdb:votes', 'value': 741763},\n",
       "   {'provider_type': 'imdb:popularity', 'value': 266},\n",
       "   {'provider_type': 'jw:trending_7_day', 'value': 12.98},\n",
       "   {'provider_type': 'imdb:score', 'value': 8.1}],\n",
       "  'cinema_release_date': '2013-09-27'},\n",
       " {'jw_entity_id': 'tm57536',\n",
       "  'id': 57536,\n",
       "  'title': 'The Hunger Games',\n",
       "  'full_path': '/uk/movie/the-hunger-games',\n",
       "  'full_paths': {'MOVIE_DETAIL_OVERVIEW': '/uk/movie/the-hunger-games'},\n",
       "  'poster': '/poster/176272673/{profile}',\n",
       "  'poster_blur_hash': 'TADt%?=u5SFvxt0$R*5S9_};oe5S',\n",
       "  'object_type': 'movie',\n",
       "  'scoring': [{'provider_type': 'imdb:multiplied', 'value': 6798938.4},\n",
       "   {'provider_type': 'tmdb:id', 'value': 70160},\n",
       "   {'provider_type': 'imdb:score', 'value': 7.2},\n",
       "   {'provider_type': 'imdb:votes', 'value': 944297},\n",
       "   {'provider_type': 'jw:popular_7_day', 'value': 120.91},\n",
       "   {'provider_type': 'imdb:popularity', 'value': 241},\n",
       "   {'provider_type': 'jw:popular_30_day', 'value': 251.1},\n",
       "   {'provider_type': 'tmdb:votes', 'value': 20215},\n",
       "   {'provider_type': 'tmdb:popularity', 'value': 37.931},\n",
       "   {'provider_type': 'jw:popular_180_day', 'value': 161.56},\n",
       "   {'provider_type': 'jw:popular_1_day', 'value': 139.57},\n",
       "   {'provider_type': 'jw:viral', 'value': 0.07},\n",
       "   {'provider_type': 'tmdb:score', 'value': 7.2}],\n",
       "  'cinema_release_date': '2012-03-23'},\n",
       " {'jw_entity_id': 'tm679789',\n",
       "  'id': 679789,\n",
       "  'title': 'Another Round',\n",
       "  'full_path': '/uk/movie/another-round',\n",
       "  'full_paths': {'MOVIE_DETAIL_OVERVIEW': '/uk/movie/another-round'},\n",
       "  'poster': '/poster/240351772/{profile}',\n",
       "  'poster_blur_hash': 'TJEC%sRkaKcuxaR+T|R*IoJCNH?G',\n",
       "  'object_type': 'movie',\n",
       "  'scoring': [{'provider_type': 'tmdb:id', 'value': 580175},\n",
       "   {'provider_type': 'imdb:votes', 'value': 171709},\n",
       "   {'provider_type': 'jw:popular_180_day', 'value': 256.91},\n",
       "   {'provider_type': 'jw:popular_1_day', 'value': 147.78},\n",
       "   {'provider_type': 'jw:popular_7_day', 'value': 201.61},\n",
       "   {'provider_type': 'jw:popular_30_day', 'value': 250.24},\n",
       "   {'provider_type': 'imdb:popularity', 'value': 111},\n",
       "   {'provider_type': 'tmdb:votes', 'value': 2536},\n",
       "   {'provider_type': 'tmdb:popularity', 'value': 30.019},\n",
       "   {'provider_type': 'jw:viral', 'value': 0.07},\n",
       "   {'provider_type': 'imdb:score', 'value': 7.7},\n",
       "   {'provider_type': 'imdb:multiplied', 'value': 1322159.3},\n",
       "   {'provider_type': 'tmdb:score', 'value': 7.676},\n",
       "   {'provider_type': 'jw:trending_7_day', 'value': 92.05}],\n",
       "  'cinema_release_date': '2020-11-20'},\n",
       " {'jw_entity_id': 'tm123933',\n",
       "  'id': 123933,\n",
       "  'title': 'Jaws',\n",
       "  'full_path': '/uk/movie/jaws',\n",
       "  'full_paths': {'MOVIE_DETAIL_OVERVIEW': '/uk/movie/jaws'},\n",
       "  'poster': '/poster/8713802/{profile}',\n",
       "  'poster_blur_hash': 'T:I6QIofS$~Wj[o}+aj@tR#RayW;',\n",
       "  'object_type': 'movie',\n",
       "  'scoring': [{'provider_type': 'jw:popular_7_day', 'value': 111.39},\n",
       "   {'provider_type': 'jw:popular_180_day', 'value': 145.1},\n",
       "   {'provider_type': 'tmdb:id', 'value': 578},\n",
       "   {'provider_type': 'jw:viral', 'value': 0.15},\n",
       "   {'provider_type': 'tmdb:popularity', 'value': 37.849},\n",
       "   {'provider_type': 'imdb:votes', 'value': 620953},\n",
       "   {'provider_type': 'jw:popular_1_day', 'value': 377.67},\n",
       "   {'provider_type': 'jw:popular_30_day', 'value': 247.84},\n",
       "   {'provider_type': 'tmdb:score', 'value': 7.654},\n",
       "   {'provider_type': 'imdb:popularity', 'value': 128},\n",
       "   {'provider_type': 'tmdb:votes', 'value': 9135},\n",
       "   {'provider_type': 'imdb:multiplied', 'value': 5029719.3},\n",
       "   {'provider_type': 'imdb:score', 'value': 8.1}],\n",
       "  'cinema_release_date': '2012-06-15'},\n",
       " {'jw_entity_id': 'tm57755',\n",
       "  'id': 57755,\n",
       "  'title': 'All Quiet on the Western Front',\n",
       "  'full_path': '/uk/movie/all-quiet-on-the-western-front-2018',\n",
       "  'full_paths': {'MOVIE_DETAIL_OVERVIEW': '/uk/movie/all-quiet-on-the-western-front-2018'},\n",
       "  'poster': '/poster/301383625/{profile}',\n",
       "  'poster_blur_hash': 'TB9aN$4-kX?wIU%MIpxuofM{tRX8',\n",
       "  'object_type': 'movie',\n",
       "  'scoring': [{'provider_type': 'jw:popular_180_day', 'value': 518.49},\n",
       "   {'provider_type': 'jw:popular_7_day', 'value': 150.33},\n",
       "   {'provider_type': 'jw:viral', 'value': 0.04},\n",
       "   {'provider_type': 'imdb:multiplied', 'value': 1550546.4},\n",
       "   {'provider_type': 'tmdb:score', 'value': 7.769},\n",
       "   {'provider_type': 'imdb:votes', 'value': 198788},\n",
       "   {'provider_type': 'jw:trending_7_day', 'value': 64.31},\n",
       "   {'provider_type': 'tmdb:popularity', 'value': 151.716},\n",
       "   {'provider_type': 'tmdb:id', 'value': 49046},\n",
       "   {'provider_type': 'imdb:score', 'value': 7.8},\n",
       "   {'provider_type': 'tmdb:votes', 'value': 2641},\n",
       "   {'provider_type': 'jw:popular_30_day', 'value': 243.04},\n",
       "   {'provider_type': 'jw:popular_1_day', 'value': 78}]},\n",
       " {'jw_entity_id': 'tm327097',\n",
       "  'id': 327097,\n",
       "  'title': 'Once Upon a Time… in Hollywood',\n",
       "  'full_path': '/uk/movie/once-upon-a-time-in-hollywood',\n",
       "  'full_paths': {'MOVIE_DETAIL_OVERVIEW': '/uk/movie/once-upon-a-time-in-hollywood'},\n",
       "  'poster': '/poster/158053067/{profile}',\n",
       "  'poster_blur_hash': 'TMIqSz0MN1.Q?GM{El%1S3WEIVtR',\n",
       "  'object_type': 'movie',\n",
       "  'scoring': [{'provider_type': 'jw:popular_30_day', 'value': 245.59},\n",
       "   {'provider_type': 'jw:popular_7_day', 'value': 142.97},\n",
       "   {'provider_type': 'tmdb:id', 'value': 466272},\n",
       "   {'provider_type': 'jw:popular_180_day', 'value': 246.41},\n",
       "   {'provider_type': 'tmdb:score', 'value': 7.435},\n",
       "   {'provider_type': 'imdb:score', 'value': 7.6},\n",
       "   {'provider_type': 'tmdb:votes', 'value': 11784},\n",
       "   {'provider_type': 'imdb:votes', 'value': 773941},\n",
       "   {'provider_type': 'jw:viral', 'value': 0.08},\n",
       "   {'provider_type': 'tmdb:popularity', 'value': 39.539},\n",
       "   {'provider_type': 'jw:trending_7_day', 'value': 24.58},\n",
       "   {'provider_type': 'imdb:multiplied', 'value': 5881951.6},\n",
       "   {'provider_type': 'imdb:popularity', 'value': 30},\n",
       "   {'provider_type': 'jw:popular_1_day', 'value': 160.1}],\n",
       "  'cinema_release_date': '2019-08-14'},\n",
       " {'jw_entity_id': 'tm143861',\n",
       "  'id': 143861,\n",
       "  'title': 'Inglourious Basterds',\n",
       "  'full_path': '/uk/movie/inglourious-basterds',\n",
       "  'full_paths': {'MOVIE_DETAIL_OVERVIEW': '/uk/movie/inglourious-basterds'},\n",
       "  'poster': '/poster/121974617/{profile}',\n",
       "  'poster_blur_hash': 'T]M@7fRj_Na0a}tR-pa{WVM{fQj[',\n",
       "  'object_type': 'movie',\n",
       "  'scoring': [{'provider_type': 'tmdb:id', 'value': 16869},\n",
       "   {'provider_type': 'imdb:popularity', 'value': 149},\n",
       "   {'provider_type': 'imdb:votes', 'value': 1484642},\n",
       "   {'provider_type': 'imdb:multiplied', 'value': 12322528.600000001},\n",
       "   {'provider_type': 'jw:popular_7_day', 'value': 167.49},\n",
       "   {'provider_type': 'jw:popular_180_day', 'value': 185.25},\n",
       "   {'provider_type': 'jw:popular_30_day', 'value': 244.69},\n",
       "   {'provider_type': 'jw:viral', 'value': 0.08},\n",
       "   {'provider_type': 'jw:trending_7_day', 'value': 89.98},\n",
       "   {'provider_type': 'tmdb:popularity', 'value': 52.003},\n",
       "   {'provider_type': 'tmdb:score', 'value': 8.214},\n",
       "   {'provider_type': 'imdb:score', 'value': 8.3},\n",
       "   {'provider_type': 'tmdb:votes', 'value': 20164},\n",
       "   {'provider_type': 'jw:popular_1_day', 'value': 184.73}],\n",
       "  'cinema_release_date': '2009-08-19'},\n",
       " {'jw_entity_id': 'tm415878',\n",
       "  'id': 415878,\n",
       "  'title': 'Jumanji: The Next Level',\n",
       "  'full_path': '/uk/movie/jumanji-3',\n",
       "  'full_paths': {'MOVIE_DETAIL_OVERVIEW': '/uk/movie/jumanji-3'},\n",
       "  'poster': '/poster/157565421/{profile}',\n",
       "  'poster_blur_hash': 'TJF5mh0L%2%%ROkD5T%0R-I[xun$',\n",
       "  'object_type': 'movie',\n",
       "  'scoring': [{'provider_type': 'tmdb:score', 'value': 6.941},\n",
       "   {'provider_type': 'imdb:popularity', 'value': 365},\n",
       "   {'provider_type': 'imdb:multiplied', 'value': 1754187.3},\n",
       "   {'provider_type': 'tmdb:votes', 'value': 7657},\n",
       "   {'provider_type': 'jw:popular_1_day', 'value': 90.31},\n",
       "   {'provider_type': 'jw:popular_30_day', 'value': 214.55},\n",
       "   {'provider_type': 'tmdb:id', 'value': 512200},\n",
       "   {'provider_type': 'imdb:score', 'value': 6.7},\n",
       "   {'provider_type': 'imdb:votes', 'value': 261819},\n",
       "   {'provider_type': 'jw:popular_7_day', 'value': 150.26},\n",
       "   {'provider_type': 'jw:popular_180_day', 'value': 119.33},\n",
       "   {'provider_type': 'jw:viral', 'value': 0.05},\n",
       "   {'provider_type': 'tmdb:popularity', 'value': 55.248}],\n",
       "  'cinema_release_date': '2019-12-13'},\n",
       " {'jw_entity_id': 'tm1206608',\n",
       "  'id': 1206608,\n",
       "  'title': 'The Mother',\n",
       "  'full_path': '/uk/movie/the-mother-2022',\n",
       "  'full_paths': {'MOVIE_DETAIL_OVERVIEW': '/uk/movie/the-mother-2022'},\n",
       "  'poster': '/poster/304873173/{profile}',\n",
       "  'poster_blur_hash': 'TJBD7.xZ~W~Vs:?a-;RjxuNdWVRk',\n",
       "  'object_type': 'movie',\n",
       "  'scoring': [{'provider_type': 'jw:viral', 'value': 0.22},\n",
       "   {'provider_type': 'tmdb:score', 'value': 6.736},\n",
       "   {'provider_type': 'jw:popular_30_day', 'value': 212.34},\n",
       "   {'provider_type': 'jw:popular_1_day', 'value': 623.98},\n",
       "   {'provider_type': 'tmdb:votes', 'value': 146},\n",
       "   {'provider_type': 'tmdb:id', 'value': 552688},\n",
       "   {'provider_type': 'jw:trending_7_day', 'value': 722.52},\n",
       "   {'provider_type': 'jw:popular_180_day', 'value': 34.81},\n",
       "   {'provider_type': 'tmdb:popularity', 'value': 141.856},\n",
       "   {'provider_type': 'jw:popular_7_day', 'value': 632.38}]},\n",
       " {'jw_entity_id': 'tm166168',\n",
       "  'id': 166168,\n",
       "  'title': 'Drive',\n",
       "  'full_path': '/uk/movie/drive',\n",
       "  'full_paths': {'MOVIE_DETAIL_OVERVIEW': '/uk/movie/drive'},\n",
       "  'poster': '/poster/8646839/{profile}',\n",
       "  'poster_blur_hash': 'TOBy]V_2-:_L?b?H-V-;%MIpxut8',\n",
       "  'object_type': 'movie',\n",
       "  'scoring': [{'provider_type': 'jw:popular_7_day', 'value': 131.56},\n",
       "   {'provider_type': 'tmdb:score', 'value': 7.566},\n",
       "   {'provider_type': 'tmdb:popularity', 'value': 38.392},\n",
       "   {'provider_type': 'jw:popular_30_day', 'value': 207.04},\n",
       "   {'provider_type': 'imdb:multiplied', 'value': 5154559.8},\n",
       "   {'provider_type': 'imdb:popularity', 'value': 588},\n",
       "   {'provider_type': 'jw:viral', 'value': 0.07},\n",
       "   {'provider_type': 'jw:popular_1_day', 'value': 127.26},\n",
       "   {'provider_type': 'imdb:votes', 'value': 660841},\n",
       "   {'provider_type': 'tmdb:votes', 'value': 11338},\n",
       "   {'provider_type': 'jw:popular_180_day', 'value': 178.72},\n",
       "   {'provider_type': 'jw:trending_7_day', 'value': 54.87},\n",
       "   {'provider_type': 'tmdb:id', 'value': 64690},\n",
       "   {'provider_type': 'imdb:score', 'value': 7.8}],\n",
       "  'cinema_release_date': '2011-09-23'}]"
      ]
     },
     "execution_count": 164,
     "metadata": {},
     "output_type": "execute_result"
    }
   ],
   "source": [
    "just_watch.search_for_item(providers=['nfx'], content_types=['movie']).get('items')"
   ]
  }
 ],
 "metadata": {
  "kernelspec": {
   "display_name": "letterboxd-env",
   "language": "python",
   "name": "python3"
  },
  "language_info": {
   "codemirror_mode": {
    "name": "ipython",
    "version": 3
   },
   "file_extension": ".py",
   "mimetype": "text/x-python",
   "name": "python",
   "nbconvert_exporter": "python",
   "pygments_lexer": "ipython3",
   "version": "3.11.2"
  },
  "orig_nbformat": 4
 },
 "nbformat": 4,
 "nbformat_minor": 2
}
