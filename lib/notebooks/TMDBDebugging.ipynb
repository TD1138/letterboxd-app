{
 "cells": [
  {
   "cell_type": "code",
   "execution_count": 1,
   "metadata": {},
   "outputs": [
    {
     "data": {
      "text/plain": [
       "True"
      ]
     },
     "execution_count": 1,
     "metadata": {},
     "output_type": "execute_result"
    }
   ],
   "source": [
    "import os\n",
    "import pandas as pd\n",
    "import sys\n",
    "sys.path.insert(0, '../data_prep')\n",
    "from tmdbv3api import TMDb\n",
    "from tmdbv3api import Movie, TV, Collection, Person\n",
    "from sqlite_utils import get_from_table, delete_records, insert_record_into_table, df_to_table\n",
    "from dotenv import load_dotenv\n",
    "\n",
    "load_dotenv()"
   ]
  },
  {
   "cell_type": "code",
   "execution_count": 2,
   "metadata": {},
   "outputs": [],
   "source": [
    "tmdb_api_key = os.getenv('TMDB_API_KEY')\n",
    "tmdb = TMDb()\n",
    "tmdb.api_key = tmdb_api_key"
   ]
  },
  {
   "cell_type": "code",
   "execution_count": 3,
   "metadata": {},
   "outputs": [
    {
     "name": "stdout",
     "output_type": "stream",
     "text": [
      "Film ID is \"f_0mkbG\", film title is \"Chernobyl\", tmdb_id is \"87108\" and url is https://boxd.it/mkbG\n"
     ]
    }
   ],
   "source": [
    "film_id = 'f_0mkbG'\n",
    "film_title = get_from_table('FILM_TITLE', film_id, 'FILM_TITLE')\n",
    "tmdb_id = get_from_table('TMDB_ID', film_id, 'TMDB_ID')\n",
    "letterboxd_url = get_from_table('FILM_TITLE', film_id, 'LETTERBOXD_URL')\n",
    "print('Film ID is \"{}\", film title is \"{}\", tmdb_id is \"{}\" and url is {}'.format(film_id, film_title, tmdb_id, letterboxd_url))"
   ]
  },
  {
   "cell_type": "code",
   "execution_count": 4,
   "metadata": {},
   "outputs": [
    {
     "data": {
      "text/plain": [
       "{'adult': False, 'backdrop_path': None, 'belongs_to_collection': None, 'budget': 1, 'genres': [{'id': 80, 'name': 'Crime'}, {'id': 18, 'name': 'Drama'}], 'homepage': 'http://www.fewoptionsmovie.com/', 'id': 87108, 'imdb_id': 'tt1721494', 'original_language': 'en', 'original_title': 'Few Options', 'overview': \"When a convicted drug smuggler leaves prison after 22 years for one youthful mistake, he just wants to start over and obey the law. But, unable to find work, he's forced to take a supposedly legitimate job with his old crime partners. And they have big plans for their newest employee. Written by George A. Pappy Jr.\", 'popularity': 1.071, 'poster_path': '/znTAxltiSKa6kqAqaHpS6dsoqWf.jpg', 'production_companies': [], 'production_countries': [{'iso_3166_1': 'US', 'name': 'United States of America'}], 'release_date': '2011-07-01', 'revenue': 0, 'runtime': 90, 'spoken_languages': [{'english_name': 'English', 'iso_639_1': 'en', 'name': 'English'}, {'english_name': 'Polish', 'iso_639_1': 'pl', 'name': 'Polski'}], 'status': 'Released', 'tagline': '', 'title': 'Few Options', 'video': False, 'vote_average': 4.5, 'vote_count': 4, 'trailers': {'quicktime': [], 'youtube': []}, 'videos': {'results': []}, 'casts': {'cast': [{'adult': False, 'gender': 2, 'id': 42191, 'known_for_department': 'Acting', 'name': 'Kenny Johnson', 'original_name': 'Kenny Johnson', 'popularity': 26.657, 'profile_path': '/oFjEvGUEync0f2uiyGxMbinQkEl.jpg', 'cast_id': 1002, 'character': 'Frank Connor', 'credit_id': '52fe49b69251416c910b63c7', 'order': 0}, {'adult': False, 'gender': 1, 'id': 18662, 'known_for_department': 'Acting', 'name': 'Erin Daniels', 'original_name': 'Erin Daniels', 'popularity': 8.446, 'profile_path': '/cp4NlgaY3sXH0cRwOm7meBL4uBc.jpg', 'cast_id': 1003, 'character': 'Helen', 'credit_id': '52fe49b69251416c910b63cb', 'order': 1}, {'adult': False, 'gender': 2, 'id': 169292, 'known_for_department': 'Acting', 'name': 'David Marciano', 'original_name': 'David Marciano', 'popularity': 4.759, 'profile_path': '/dqgkHEuY3mgWI3AiBK99YN9srSt.jpg', 'cast_id': 1004, 'character': 'Russ', 'credit_id': '52fe49b69251416c910b63cf', 'order': 2}, {'adult': False, 'gender': 2, 'id': 1370, 'known_for_department': 'Acting', 'name': 'Brad Dourif', 'original_name': 'Brad Dourif', 'popularity': 38.324, 'profile_path': '/z2LYR7Ickql7g5hnWJSIAWMPD4o.jpg', 'cast_id': 1005, 'character': 'Chris Pendler', 'credit_id': '52fe49b69251416c910b63d3', 'order': 3}], 'crew': [{'adult': False, 'gender': 2, 'id': 934887, 'known_for_department': 'Directing', 'name': 'George A. Pappy Jr.', 'original_name': 'George A. Pappy Jr.', 'popularity': 0.694, 'profile_path': None, 'credit_id': '52fe49b69251416c910b63bd', 'department': 'Directing', 'job': 'Director'}, {'adult': False, 'gender': 2, 'id': 934887, 'known_for_department': 'Directing', 'name': 'George A. Pappy Jr.', 'original_name': 'George A. Pappy Jr.', 'popularity': 0.694, 'profile_path': None, 'credit_id': '5baeb20a92514150ff05d014', 'department': 'Writing', 'job': 'Writer'}]}, 'images': {'backdrops': [], 'logos': [], 'posters': []}, 'translations': {'translations': [{'iso_3166_1': 'US', 'iso_639_1': 'en', 'name': 'English', 'english_name': 'English', 'data': {'homepage': 'http://www.fewoptionsmovie.com/', 'overview': \"When a convicted drug smuggler leaves prison after 22 years for one youthful mistake, he just wants to start over and obey the law. But, unable to find work, he's forced to take a supposedly legitimate job with his old crime partners. And they have big plans for their newest employee. Written by George A. Pappy Jr.\", 'runtime': 90, 'tagline': '', 'title': ''}}, {'iso_3166_1': 'PL', 'iso_639_1': 'pl', 'name': 'Polski', 'english_name': 'Polish', 'data': {'homepage': '', 'overview': '21-letni Frank Connor  zostaje skazany za przemyt narkotyków. Dla młodego chłopaka 22 lata pobytu w więzieniu jest jak dożywocie. Teraz, jako wolny człowiek, gotów jest przestrzegać prawa i zacząć wszystko od nowa. Niestety, brak pieniędzy oraz pracy powoduje, że mieszka on w garażu swego kuzyna Dona. Gdy o sytuacji Franka dowiaduje się jego przyjaciel z dzieciństwa Russ, mający u niego dług wdzięczności, oferuje mu pracę w klubie ze striptizem. Nie wspomina on jednak, że właścicielem klubu jest Chris, morderca i gangster, który 22 lata temu, zatrudnił Franka do czarnej roboty...', 'runtime': 0, 'tagline': '', 'title': 'Bez wyboru'}}, {'iso_3166_1': 'IL', 'iso_639_1': 'he', 'name': 'עִבְרִית', 'english_name': 'Hebrew', 'data': {'homepage': '', 'overview': 'לאחר שמבריח סמים מורשע משוחרר מהכלר לאחר 22 שנים בהן היה כלוא בגין טעות אחת בצעירותו, הוא רק רוצה להתחיל מחדש ולציית לחוק. אך החיים לא כל כך ורודים, והוא מתקשה למצוא עבודה, דבר שמביא אותו לקחת עבודה כביכול חוקית יחד עם שותפיו לפשע מן העבר. מה שהוא לא יודע, זה שלשותפיו יש תוכניות גדולות עבורו...', 'runtime': 0, 'tagline': '', 'title': 'אפשרויות מועטות'}}, {'iso_3166_1': 'BG', 'iso_639_1': 'bg', 'name': 'български език', 'english_name': 'Bulgarian', 'data': {'homepage': '', 'overview': 'След 22 години прекарани зад решетките наркодилър най-сетне предусеща мириса на свободата. Мечтая само да излезе от затвора, за да започне живота си отново. Само че нещата навън съвсем не са толкова розови колкото изглеждат докато си в пандиза. Представата ти за реалността е съвсем погрешна, след като си влязъл преди да навършиш 20 и излизаш минал 40-те. Никой не те очаква, никой не ти предлага работа, няма как да преживяваш, освен ако не потърсиш старите си приятели, които на драго сърце отново ще те вкарат в подземния бизнес.', 'runtime': 90, 'tagline': '', 'title': ''}}, {'iso_3166_1': 'KR', 'iso_639_1': 'ko', 'name': '한국어/조선말', 'english_name': 'Korean', 'data': {'homepage': '', 'overview': '', 'runtime': 0, 'tagline': '', 'title': ''}}]}, 'keywords': {'keywords': []}, 'release_dates': {'results': [{'iso_3166_1': 'US', 'release_dates': [{'certification': '', 'descriptors': [], 'iso_639_1': '', 'note': '', 'release_date': '2011-07-01T00:00:00.000Z', 'type': 3}]}]}}"
      ]
     },
     "execution_count": 4,
     "metadata": {},
     "output_type": "execute_result"
    }
   ],
   "source": [
    "movie = Movie()\n",
    "details = movie.details(tmdb_id)\n",
    "details"
   ]
  },
  {
   "cell_type": "code",
   "execution_count": 48,
   "metadata": {},
   "outputs": [],
   "source": [
    "crew = [\n",
    "    'Director',\n",
    "    'Director of Photography',\n",
    "    'Original Music Composer',\n",
    "    'Screenplay',\n",
    "    'Writer'\n",
    "]"
   ]
  },
  {
   "cell_type": "code",
   "execution_count": 53,
   "metadata": {},
   "outputs": [
    {
     "data": {
      "text/plain": [
       "[{'adult': False, 'gender': 2, 'id': 2950, 'known_for_department': 'Camera', 'name': 'Robert Elswit', 'original_name': 'Robert Elswit', 'popularity': 3.042, 'profile_path': '/5urU681Z1ZyJxfjEGp6qY6XYXg1.jpg', 'credit_id': '52fe447bc3a36847f8098a33', 'department': 'Camera', 'job': 'Director of Photography'},\n",
       " {'adult': False, 'gender': 2, 'id': 4762, 'known_for_department': 'Directing', 'name': 'Paul Thomas Anderson', 'original_name': 'Paul Thomas Anderson', 'popularity': 7.012, 'profile_path': '/29DHpRKddqTwo2NU162Y49JoQYa.jpg', 'credit_id': '52fe447bc3a36847f8098a23', 'department': 'Writing', 'job': 'Screenplay'},\n",
       " {'adult': False, 'gender': 2, 'id': 4762, 'known_for_department': 'Directing', 'name': 'Paul Thomas Anderson', 'original_name': 'Paul Thomas Anderson', 'popularity': 7.012, 'profile_path': '/29DHpRKddqTwo2NU162Y49JoQYa.jpg', 'credit_id': '52fe447bc3a36847f8098a5d', 'department': 'Directing', 'job': 'Director'},\n",
       " {'adult': False, 'gender': 2, 'id': 74333, 'known_for_department': 'Sound', 'name': 'Jonny Greenwood', 'original_name': 'Jonny Greenwood', 'popularity': 3.129, 'profile_path': '/wDzFkChTvghv8Wrt3hZIYtC3uhV.jpg', 'credit_id': '59558c759251412b3105a8ee', 'department': 'Sound', 'job': 'Original Music Composer'}]"
      ]
     },
     "execution_count": 53,
     "metadata": {},
     "output_type": "execute_result"
    }
   ],
   "source": [
    "[x for x in details['casts']['crew'] if x['job'] in crew]"
   ]
  },
  {
   "cell_type": "code",
   "execution_count": 57,
   "metadata": {},
   "outputs": [],
   "source": [
    "person = Person()"
   ]
  },
  {
   "cell_type": "code",
   "execution_count": 58,
   "metadata": {},
   "outputs": [],
   "source": [
    "person_test = person.details('138')"
   ]
  },
  {
   "cell_type": "code",
   "execution_count": 60,
   "metadata": {},
   "outputs": [
    {
     "data": {
      "text/plain": [
       "dict_keys(['adult', 'also_known_as', 'biography', 'birthday', 'deathday', 'gender', 'homepage', 'id', 'imdb_id', 'known_for_department', 'name', 'place_of_birth', 'popularity', 'profile_path', 'images'])"
      ]
     },
     "execution_count": 60,
     "metadata": {},
     "output_type": "execute_result"
    }
   ],
   "source": [
    "person_test.keys()"
   ]
  },
  {
   "cell_type": "code",
   "execution_count": 69,
   "metadata": {},
   "outputs": [],
   "source": [
    "person_attrs = [\n",
    "    'id',\n",
    "    'name',\n",
    "    'imdb_id',\n",
    "    'gender',\n",
    "    'birthday',\n",
    "    'deathday',\n",
    "    'known_for_department',\n",
    "    'place_of_birth',\n",
    "    'popularity'\n",
    "]"
   ]
  },
  {
   "cell_type": "code",
   "execution_count": 70,
   "metadata": {},
   "outputs": [
    {
     "name": "stdout",
     "output_type": "stream",
     "text": [
      "id  =  138\n",
      "name  =  Quentin Tarantino\n",
      "imdb_id  =  nm0000233\n",
      "gender  =  2\n",
      "birthday  =  1963-03-27\n",
      "deathday  =  None\n",
      "known_for_department  =  Directing\n",
      "place_of_birth  =  Knoxville, Tennessee, USA\n",
      "popularity  =  20.438\n"
     ]
    }
   ],
   "source": [
    "for attr in person_attrs:\n",
    "    print(attr, ' = ', person_test.get(attr))"
   ]
  },
  {
   "cell_type": "code",
   "execution_count": 3,
   "metadata": {},
   "outputs": [],
   "source": [
    "attrs = {\n",
    "    'belongs_to_collection': None,\n",
    "    'budget': None,\n",
    "    'original_language': 'languages',\n",
    "    'popularity': 'popularity',\n",
    "    'release_date': 'first_air_date',\n",
    "    'revenue': None,\n",
    "    'runtime': ['episode_run_time', 'number_of_episodes'],\n",
    "    'status': 'status',\n",
    "    'vote_average': 'vote_average',\n",
    "    'vote_count': 'vote_count',\n",
    "    'keywords': 'keywords',\n",
    "    'casts': 'credits'\n",
    "}"
   ]
  },
  {
   "cell_type": "code",
   "execution_count": null,
   "metadata": {},
   "outputs": [],
   "source": []
  },
  {
   "cell_type": "code",
   "execution_count": 4,
   "metadata": {},
   "outputs": [],
   "source": [
    "def create_movie_metadata_dict(film_id):\n",
    "    film_title = get_from_table('FILM_TITLE', film_id, 'FILM_TITLE')\n",
    "    tmdb_id = get_from_table('TMDB_ID', film_id, 'TMDB_ID')\n",
    "    content_type = get_from_table('CONTENT_TYPE', film_id, 'CONTENT_TYPE')\n",
    "    print('Film ID is \"{}\", title is \"{}\", and TMDB id is \"{}\", while content type is \"{}\"'.format(film_id, film_title, tmdb_id, content_type))\n",
    "    movie_metadata_dict = {'FILM_ID': film_id}\n",
    "    if content_type == 'movie':\n",
    "        movie = Movie()\n",
    "        try:\n",
    "            details = movie.details(tmdb_id)\n",
    "            for k in attrs:\n",
    "                movie_metadata_dict[k] = details.get(k, None)\n",
    "        except:\n",
    "            None\n",
    "    elif content_type == 'tv':\n",
    "        tv = TV()\n",
    "        details = tv.details(tmdb_id, 'credits,keywords')\n",
    "        for k in attrs:\n",
    "            if type(attrs[k]) == list:\n",
    "                movie_metadata_dict[k] = [details.get(x, None) for x in attrs[k]]\n",
    "            else:\n",
    "                movie_metadata_dict[k] = details.get(attrs[k], None)\n",
    "        movie_metadata_dict['original_language'] = movie_metadata_dict['original_language'][0]\n",
    "        movie_metadata_dict['runtime'] = movie_metadata_dict['runtime'][0][0] * movie_metadata_dict['runtime'][1]\n",
    "        movie_metadata_dict['status'] = movie_metadata_dict['status'].replace('Returning Series', 'Released').replace('Ended', 'Released')\n",
    "        if len(movie_metadata_dict.get('keywords', {'keywords': []}).get('keywords')) == 0:\n",
    "               movie_metadata_dict['keywords']['keywords'] = [{'id': -1, 'name': 'none'}]\n",
    "    else:\n",
    "        details = {}\n",
    "    return {'film_title': film_title, 'tmdb_id': tmdb_id, 'content_type':content_type, 'movie_metadata_dict': movie_metadata_dict, 'details': details}"
   ]
  },
  {
   "cell_type": "code",
   "execution_count": 5,
   "metadata": {},
   "outputs": [
    {
     "name": "stdout",
     "output_type": "stream",
     "text": [
      "Film ID is \"f_097fO\", title is \"Wyrmwood: Road of the Dead\", and TMDB id is \"290999\", while content type is \"movie\"\n"
     ]
    },
    {
     "data": {
      "text/plain": [
       "{'film_title': 'Wyrmwood: Road of the Dead',\n",
       " 'tmdb_id': '290999',\n",
       " 'content_type': 'movie',\n",
       " 'movie_metadata_dict': {'FILM_ID': 'f_097fO',\n",
       "  'belongs_to_collection': {'id': 927812, 'name': 'Wyrmwood Collection', 'poster_path': '/tRSNW8dte5P9L8vZPaCFFkjAOnI.jpg', 'backdrop_path': '/drstxfAEQ8tR1qf9Axzg6ZnhGxn.jpg'},\n",
       "  'budget': 0,\n",
       "  'original_language': 'en',\n",
       "  'popularity': 11.539,\n",
       "  'release_date': '2014-09-19',\n",
       "  'revenue': 0,\n",
       "  'runtime': 98,\n",
       "  'status': 'Released',\n",
       "  'vote_average': 6.089,\n",
       "  'vote_count': 384,\n",
       "  'keywords': {'keywords': [{'id': 12377, 'name': 'zombie'}, {'id': 186565, 'name': 'zombie apocalypse'}]},\n",
       "  'casts': {'cast': [{'adult': False, 'gender': 0, 'id': 1262388, 'known_for_department': 'Acting', 'name': 'Jay Gallagher', 'original_name': 'Jay Gallagher', 'popularity': 1.757, 'profile_path': '/ppwekPN23qcJER0Wiih5sQi1JwW.jpg', 'cast_id': 1, 'character': 'Barry', 'credit_id': '540bbc1dc3a368799f0027f7', 'order': 0}, {'adult': False, 'gender': 1, 'id': 1326440, 'known_for_department': 'Acting', 'name': 'Bianca Bradey', 'original_name': 'Bianca Bradey', 'popularity': 2.908, 'profile_path': '/njh8eYOn052EtHoHLcU1scsahyJ.jpg', 'cast_id': 2, 'character': 'Brooke', 'credit_id': '540bbc29c3a368799f0027fa', 'order': 1}, {'adult': False, 'gender': 0, 'id': 124573, 'known_for_department': 'Acting', 'name': 'Leon Burchill', 'original_name': 'Leon Burchill', 'popularity': 0.6, 'profile_path': '/uaIHGQtIrkmpR0pkYGSYTPX6HBY.jpg', 'cast_id': 3, 'character': 'Benny', 'credit_id': '540bbc34c3a36879ab002796', 'order': 2}, {'adult': False, 'gender': 2, 'id': 1361549, 'known_for_department': 'Acting', 'name': 'Luke McKenzie', 'original_name': 'Luke McKenzie', 'popularity': 1.96, 'profile_path': '/uZWHe3vwoL7LrAZYUMgNqoCEOA5.jpg', 'cast_id': 4, 'character': 'The Captain', 'credit_id': '540bbc43c3a368799f0027ff', 'order': 3}, {'adult': False, 'gender': 2, 'id': 1361556, 'known_for_department': 'Acting', 'name': 'Yure Covich', 'original_name': 'Yure Covich', 'popularity': 1.294, 'profile_path': '/e7T3bI9mCNZPbPuMcAPvR575nn8.jpg', 'cast_id': 7, 'character': 'Chalker', 'credit_id': '540bc208c3a36879a2002aeb', 'order': 4}, {'adult': False, 'gender': 0, 'id': 1361557, 'known_for_department': 'Acting', 'name': 'Catherine Terracini', 'original_name': 'Catherine Terracini', 'popularity': 0.98, 'profile_path': None, 'cast_id': 8, 'character': 'Annie', 'credit_id': '540bc215c3a368799f0028df', 'order': 5}, {'adult': False, 'gender': 0, 'id': 88381, 'known_for_department': 'Acting', 'name': 'Keith Agius', 'original_name': 'Keith Agius', 'popularity': 1.0, 'profile_path': '/xVQbagPdPdG3S3M34cLWVqwK1RH.jpg', 'cast_id': 9, 'character': 'Frank', 'credit_id': '540bc222c3a36879ae002713', 'order': 6}, {'adult': False, 'gender': 0, 'id': 1361558, 'known_for_department': 'Acting', 'name': 'Berryn Schwerdt', 'original_name': 'Berryn Schwerdt', 'popularity': 0.6, 'profile_path': None, 'cast_id': 10, 'character': 'The Doctor', 'credit_id': '540bc230c3a36879b2002635', 'order': 7}, {'adult': False, 'gender': 2, 'id': 1361559, 'known_for_department': 'Acting', 'name': 'Cain Thompson', 'original_name': 'Cain Thompson', 'popularity': 1.425, 'profile_path': '/6Lw8MGCtcc7dIca5GUjtzUjzuvj.jpg', 'cast_id': 11, 'character': 'McGaughlin', 'credit_id': '540bc23fc3a368799c0028f9', 'order': 8}, {'adult': False, 'gender': 1, 'id': 1361560, 'known_for_department': 'Acting', 'name': 'Beth Aubrey', 'original_name': 'Beth Aubrey', 'popularity': 0.6, 'profile_path': '/xTi9UcGY0aUhejvzmqPlxYGcYf2.jpg', 'cast_id': 12, 'character': 'Charlotte', 'credit_id': '540bc24cc3a36879a800285f', 'order': 9}, {'adult': False, 'gender': 0, 'id': 1361561, 'known_for_department': 'Acting', 'name': 'Sheridan Harbridge', 'original_name': 'Sheridan Harbridge', 'popularity': 0.6, 'profile_path': None, 'cast_id': 13, 'character': 'Sherri', 'credit_id': '540bc257c3a368799c0028ff', 'order': 10}, {'adult': False, 'gender': 0, 'id': 1361562, 'known_for_department': 'Acting', 'name': 'Damian Dyke', 'original_name': 'Damian Dyke', 'popularity': 0.6, 'profile_path': None, 'cast_id': 14, 'character': 'Thompson', 'credit_id': '540bc262c3a36879b2002640', 'order': 11}, {'adult': False, 'gender': 0, 'id': 1361564, 'known_for_department': 'Acting', 'name': 'John Michael Burdon', 'original_name': 'John Michael Burdon', 'popularity': 0.6, 'profile_path': None, 'cast_id': 15, 'character': 'Zombie', 'credit_id': '540bc271c3a36879a2002af6', 'order': 12}, {'adult': False, 'gender': 0, 'id': 1861509, 'known_for_department': 'Crew', 'name': 'Jesse Rowles', 'original_name': 'Jesse Rowles', 'popularity': 1.285, 'profile_path': None, 'cast_id': 33, 'character': 'Zombie', 'credit_id': '60882732cabfe4002950a389', 'order': 13}], 'crew': [{'adult': False, 'gender': 2, 'id': 1014694, 'known_for_department': 'Sound', 'name': 'Michael Lira', 'original_name': 'Michael Lira', 'popularity': 0.6, 'profile_path': '/fQyKbUASuD3F7kv3pZZR7h8SX0v.jpg', 'credit_id': '5540b08cc3a3681da00015c6', 'department': 'Sound', 'job': 'Original Music Composer'}, {'adult': False, 'gender': 0, 'id': 1262388, 'known_for_department': 'Acting', 'name': 'Jay Gallagher', 'original_name': 'Jay Gallagher', 'popularity': 1.757, 'profile_path': '/ppwekPN23qcJER0Wiih5sQi1JwW.jpg', 'credit_id': '540bc2d1c3a36879a2002b0f', 'department': 'Production', 'job': 'Casting'}, {'adult': False, 'gender': 2, 'id': 1361546, 'known_for_department': 'Directing', 'name': 'Kiah Roache-Turner', 'original_name': 'Kiah Roache-Turner', 'popularity': 1.054, 'profile_path': '/1y2ZVFfxtKC4SR3s6IMiZB7WpnE.jpg', 'credit_id': '540bc1e9c3a36879a2002ae3', 'department': 'Writing', 'job': 'Screenplay'}, {'adult': False, 'gender': 2, 'id': 1361546, 'known_for_department': 'Directing', 'name': 'Kiah Roache-Turner', 'original_name': 'Kiah Roache-Turner', 'popularity': 1.054, 'profile_path': '/1y2ZVFfxtKC4SR3s6IMiZB7WpnE.jpg', 'credit_id': '540bbc10c3a36879ab00278f', 'department': 'Directing', 'job': 'Director'}, {'adult': False, 'gender': 2, 'id': 1361546, 'known_for_department': 'Directing', 'name': 'Kiah Roache-Turner', 'original_name': 'Kiah Roache-Turner', 'popularity': 1.054, 'profile_path': '/1y2ZVFfxtKC4SR3s6IMiZB7WpnE.jpg', 'credit_id': '5540b09cc3a3681dab00169f', 'department': 'Editing', 'job': 'Editor'}, {'adult': False, 'gender': 2, 'id': 1361546, 'known_for_department': 'Directing', 'name': 'Kiah Roache-Turner', 'original_name': 'Kiah Roache-Turner', 'popularity': 1.054, 'profile_path': '/1y2ZVFfxtKC4SR3s6IMiZB7WpnE.jpg', 'credit_id': '5540b0a99251414af900156e', 'department': 'Art', 'job': 'Production Design'}, {'adult': False, 'gender': 2, 'id': 1361546, 'known_for_department': 'Directing', 'name': 'Kiah Roache-Turner', 'original_name': 'Kiah Roache-Turner', 'popularity': 1.054, 'profile_path': '/1y2ZVFfxtKC4SR3s6IMiZB7WpnE.jpg', 'credit_id': '5540b0599251414af3001646', 'department': 'Production', 'job': 'Executive Producer'}, {'adult': False, 'gender': 0, 'id': 1361555, 'known_for_department': 'Production', 'name': 'Tristan Roache-Turner', 'original_name': 'Tristan Roache-Turner', 'popularity': 0.629, 'profile_path': None, 'credit_id': '540bc1f5c3a36879ab00284a', 'department': 'Writing', 'job': 'Screenplay'}, {'adult': False, 'gender': 0, 'id': 1361555, 'known_for_department': 'Production', 'name': 'Tristan Roache-Turner', 'original_name': 'Tristan Roache-Turner', 'popularity': 0.629, 'profile_path': None, 'credit_id': '5540b0b59251414af300164d', 'department': 'Art', 'job': 'Production Design'}, {'adult': False, 'gender': 0, 'id': 1361555, 'known_for_department': 'Production', 'name': 'Tristan Roache-Turner', 'original_name': 'Tristan Roache-Turner', 'popularity': 0.629, 'profile_path': None, 'credit_id': '5540b06e9251414af6001541', 'department': 'Production', 'job': 'Producer'}, {'adult': False, 'gender': 0, 'id': 1361555, 'known_for_department': 'Production', 'name': 'Tristan Roache-Turner', 'original_name': 'Tristan Roache-Turner', 'popularity': 0.629, 'profile_path': None, 'credit_id': '5540b067c3a36829e50012ac', 'department': 'Production', 'job': 'Executive Producer'}, {'adult': False, 'gender': 0, 'id': 1361565, 'known_for_department': 'Production', 'name': 'Jamie Hilton', 'original_name': 'Jamie Hilton', 'popularity': 0.6, 'profile_path': None, 'credit_id': '540bc292c3a368799c002909', 'department': 'Production', 'job': 'Executive Producer'}, {'adult': False, 'gender': 0, 'id': 1361566, 'known_for_department': 'Production', 'name': 'Ciaran Jordan', 'original_name': 'Ciaran Jordan', 'popularity': 0.6, 'profile_path': None, 'credit_id': '540bc29ec3a36879a2002b06', 'department': 'Production', 'job': 'Line Producer'}, {'adult': False, 'gender': 0, 'id': 1361567, 'known_for_department': 'Production', 'name': 'Josh Pomeranz', 'original_name': 'Josh Pomeranz', 'popularity': 0.98, 'profile_path': None, 'credit_id': '5540b04a9251414ae600164e', 'department': 'Production', 'job': 'Executive Producer'}, {'adult': False, 'gender': 2, 'id': 1361568, 'known_for_department': 'Camera', 'name': 'Tim Nagle', 'original_name': 'Tim Nagle', 'popularity': 0.6, 'profile_path': None, 'credit_id': '5540b07d9251413d6d001200', 'department': 'Camera', 'job': 'Director of Photography'}, {'adult': False, 'gender': 0, 'id': 1861509, 'known_for_department': 'Crew', 'name': 'Jesse Rowles', 'original_name': 'Jesse Rowles', 'popularity': 1.285, 'profile_path': None, 'credit_id': '60882a1a904f6d00587fc7af', 'department': 'Crew', 'job': 'Stunts'}, {'adult': False, 'gender': 0, 'id': 1861509, 'known_for_department': 'Crew', 'name': 'Jesse Rowles', 'original_name': 'Jesse Rowles', 'popularity': 1.285, 'profile_path': None, 'credit_id': '608825e1904f6d002a178dfa', 'department': 'Production', 'job': 'Production Coordinator'}, {'adult': False, 'gender': 2, 'id': 1871657, 'known_for_department': 'Crew', 'name': 'Spike Cherrie', 'original_name': 'Spike Cherrie', 'popularity': 1.38, 'profile_path': None, 'credit_id': '62729daf29c626187d93ae8d', 'department': 'Crew', 'job': 'Stunt Coordinator'}, {'adult': False, 'gender': 2, 'id': 2787154, 'known_for_department': 'Production', 'name': 'Matt Wilson', 'original_name': 'Matt Wilson', 'popularity': 0.6, 'profile_path': '/6tPCybKSmHKZzlX7GugYpqxIxAs.jpg', 'credit_id': '5f68e7dac1ffbd0035d29b12', 'department': 'Production', 'job': 'Production Assistant'}]}},\n",
       " 'details': {'adult': False, 'backdrop_path': '/k1KP47cnuscBPS4yYTJJ6S4PDho.jpg', 'belongs_to_collection': {'id': 927812, 'name': 'Wyrmwood Collection', 'poster_path': '/tRSNW8dte5P9L8vZPaCFFkjAOnI.jpg', 'backdrop_path': '/drstxfAEQ8tR1qf9Axzg6ZnhGxn.jpg'}, 'budget': 0, 'genres': [{'id': 27, 'name': 'Horror'}, {'id': 28, 'name': 'Action'}, {'id': 35, 'name': 'Comedy'}], 'homepage': '', 'id': 290999, 'imdb_id': 'tt2535470', 'original_language': 'en', 'original_title': 'Wyrmwood: Road of the Dead', 'overview': 'Barry is a talented mechanic and family man whose life is torn apart on the eve of a zombie apocalypse. His sister, Brooke, is kidnapped by a sinister team of gas-mask wearing soldiers & experimented on by a psychotic doctor. While Brooke plans her escape Barry goes out on the road to find her & teams up with Benny, a fellow survivor - together they must arm themselves and prepare to battle their way through hordes of flesh-eating monsters in a harsh Australian bushland.', 'popularity': 11.539, 'poster_path': '/oyF0zNkTfvodHvkSEs9E88jvQRi.jpg', 'production_companies': [{'id': 32400, 'logo_path': None, 'name': 'Guerilla Films', 'origin_country': 'AU'}], 'production_countries': [{'iso_3166_1': 'AU', 'name': 'Australia'}], 'release_date': '2014-09-19', 'revenue': 0, 'runtime': 98, 'spoken_languages': [{'english_name': 'English', 'iso_639_1': 'en', 'name': 'English'}], 'status': 'Released', 'tagline': 'Mad Max meets Dawn Of The Dead', 'title': 'Wyrmwood: Road of the Dead', 'video': False, 'vote_average': 6.089, 'vote_count': 384, 'videos': {'results': [{'iso_639_1': 'en', 'iso_3166_1': 'US', 'name': 'Wyrmwood Official Trailer 1 (2015) - Horror Movie HD', 'key': 'oJoRHFn7QRw', 'published_at': '2015-01-09T21:49:24.000Z', 'site': 'YouTube', 'size': 720, 'type': 'Trailer', 'official': False, 'id': '54b181d1925141746c00242c'}]}, 'trailers': {'quicktime': [], 'youtube': [{'name': 'Wyrmwood Official Trailer 1 (2015) - Horror Movie HD', 'size': 'HD', 'source': 'oJoRHFn7QRw', 'type': 'Trailer'}]}, 'images': {'backdrops': [], 'logos': [], 'posters': []}, 'casts': {'cast': [{'adult': False, 'gender': 0, 'id': 1262388, 'known_for_department': 'Acting', 'name': 'Jay Gallagher', 'original_name': 'Jay Gallagher', 'popularity': 1.757, 'profile_path': '/ppwekPN23qcJER0Wiih5sQi1JwW.jpg', 'cast_id': 1, 'character': 'Barry', 'credit_id': '540bbc1dc3a368799f0027f7', 'order': 0}, {'adult': False, 'gender': 1, 'id': 1326440, 'known_for_department': 'Acting', 'name': 'Bianca Bradey', 'original_name': 'Bianca Bradey', 'popularity': 2.908, 'profile_path': '/njh8eYOn052EtHoHLcU1scsahyJ.jpg', 'cast_id': 2, 'character': 'Brooke', 'credit_id': '540bbc29c3a368799f0027fa', 'order': 1}, {'adult': False, 'gender': 0, 'id': 124573, 'known_for_department': 'Acting', 'name': 'Leon Burchill', 'original_name': 'Leon Burchill', 'popularity': 0.6, 'profile_path': '/uaIHGQtIrkmpR0pkYGSYTPX6HBY.jpg', 'cast_id': 3, 'character': 'Benny', 'credit_id': '540bbc34c3a36879ab002796', 'order': 2}, {'adult': False, 'gender': 2, 'id': 1361549, 'known_for_department': 'Acting', 'name': 'Luke McKenzie', 'original_name': 'Luke McKenzie', 'popularity': 1.96, 'profile_path': '/uZWHe3vwoL7LrAZYUMgNqoCEOA5.jpg', 'cast_id': 4, 'character': 'The Captain', 'credit_id': '540bbc43c3a368799f0027ff', 'order': 3}, {'adult': False, 'gender': 2, 'id': 1361556, 'known_for_department': 'Acting', 'name': 'Yure Covich', 'original_name': 'Yure Covich', 'popularity': 1.294, 'profile_path': '/e7T3bI9mCNZPbPuMcAPvR575nn8.jpg', 'cast_id': 7, 'character': 'Chalker', 'credit_id': '540bc208c3a36879a2002aeb', 'order': 4}, {'adult': False, 'gender': 0, 'id': 1361557, 'known_for_department': 'Acting', 'name': 'Catherine Terracini', 'original_name': 'Catherine Terracini', 'popularity': 0.98, 'profile_path': None, 'cast_id': 8, 'character': 'Annie', 'credit_id': '540bc215c3a368799f0028df', 'order': 5}, {'adult': False, 'gender': 0, 'id': 88381, 'known_for_department': 'Acting', 'name': 'Keith Agius', 'original_name': 'Keith Agius', 'popularity': 1.0, 'profile_path': '/xVQbagPdPdG3S3M34cLWVqwK1RH.jpg', 'cast_id': 9, 'character': 'Frank', 'credit_id': '540bc222c3a36879ae002713', 'order': 6}, {'adult': False, 'gender': 0, 'id': 1361558, 'known_for_department': 'Acting', 'name': 'Berryn Schwerdt', 'original_name': 'Berryn Schwerdt', 'popularity': 0.6, 'profile_path': None, 'cast_id': 10, 'character': 'The Doctor', 'credit_id': '540bc230c3a36879b2002635', 'order': 7}, {'adult': False, 'gender': 2, 'id': 1361559, 'known_for_department': 'Acting', 'name': 'Cain Thompson', 'original_name': 'Cain Thompson', 'popularity': 1.425, 'profile_path': '/6Lw8MGCtcc7dIca5GUjtzUjzuvj.jpg', 'cast_id': 11, 'character': 'McGaughlin', 'credit_id': '540bc23fc3a368799c0028f9', 'order': 8}, {'adult': False, 'gender': 1, 'id': 1361560, 'known_for_department': 'Acting', 'name': 'Beth Aubrey', 'original_name': 'Beth Aubrey', 'popularity': 0.6, 'profile_path': '/xTi9UcGY0aUhejvzmqPlxYGcYf2.jpg', 'cast_id': 12, 'character': 'Charlotte', 'credit_id': '540bc24cc3a36879a800285f', 'order': 9}, {'adult': False, 'gender': 0, 'id': 1361561, 'known_for_department': 'Acting', 'name': 'Sheridan Harbridge', 'original_name': 'Sheridan Harbridge', 'popularity': 0.6, 'profile_path': None, 'cast_id': 13, 'character': 'Sherri', 'credit_id': '540bc257c3a368799c0028ff', 'order': 10}, {'adult': False, 'gender': 0, 'id': 1361562, 'known_for_department': 'Acting', 'name': 'Damian Dyke', 'original_name': 'Damian Dyke', 'popularity': 0.6, 'profile_path': None, 'cast_id': 14, 'character': 'Thompson', 'credit_id': '540bc262c3a36879b2002640', 'order': 11}, {'adult': False, 'gender': 0, 'id': 1361564, 'known_for_department': 'Acting', 'name': 'John Michael Burdon', 'original_name': 'John Michael Burdon', 'popularity': 0.6, 'profile_path': None, 'cast_id': 15, 'character': 'Zombie', 'credit_id': '540bc271c3a36879a2002af6', 'order': 12}, {'adult': False, 'gender': 0, 'id': 1861509, 'known_for_department': 'Crew', 'name': 'Jesse Rowles', 'original_name': 'Jesse Rowles', 'popularity': 1.285, 'profile_path': None, 'cast_id': 33, 'character': 'Zombie', 'credit_id': '60882732cabfe4002950a389', 'order': 13}], 'crew': [{'adult': False, 'gender': 2, 'id': 1014694, 'known_for_department': 'Sound', 'name': 'Michael Lira', 'original_name': 'Michael Lira', 'popularity': 0.6, 'profile_path': '/fQyKbUASuD3F7kv3pZZR7h8SX0v.jpg', 'credit_id': '5540b08cc3a3681da00015c6', 'department': 'Sound', 'job': 'Original Music Composer'}, {'adult': False, 'gender': 0, 'id': 1262388, 'known_for_department': 'Acting', 'name': 'Jay Gallagher', 'original_name': 'Jay Gallagher', 'popularity': 1.757, 'profile_path': '/ppwekPN23qcJER0Wiih5sQi1JwW.jpg', 'credit_id': '540bc2d1c3a36879a2002b0f', 'department': 'Production', 'job': 'Casting'}, {'adult': False, 'gender': 2, 'id': 1361546, 'known_for_department': 'Directing', 'name': 'Kiah Roache-Turner', 'original_name': 'Kiah Roache-Turner', 'popularity': 1.054, 'profile_path': '/1y2ZVFfxtKC4SR3s6IMiZB7WpnE.jpg', 'credit_id': '540bc1e9c3a36879a2002ae3', 'department': 'Writing', 'job': 'Screenplay'}, {'adult': False, 'gender': 2, 'id': 1361546, 'known_for_department': 'Directing', 'name': 'Kiah Roache-Turner', 'original_name': 'Kiah Roache-Turner', 'popularity': 1.054, 'profile_path': '/1y2ZVFfxtKC4SR3s6IMiZB7WpnE.jpg', 'credit_id': '540bbc10c3a36879ab00278f', 'department': 'Directing', 'job': 'Director'}, {'adult': False, 'gender': 2, 'id': 1361546, 'known_for_department': 'Directing', 'name': 'Kiah Roache-Turner', 'original_name': 'Kiah Roache-Turner', 'popularity': 1.054, 'profile_path': '/1y2ZVFfxtKC4SR3s6IMiZB7WpnE.jpg', 'credit_id': '5540b09cc3a3681dab00169f', 'department': 'Editing', 'job': 'Editor'}, {'adult': False, 'gender': 2, 'id': 1361546, 'known_for_department': 'Directing', 'name': 'Kiah Roache-Turner', 'original_name': 'Kiah Roache-Turner', 'popularity': 1.054, 'profile_path': '/1y2ZVFfxtKC4SR3s6IMiZB7WpnE.jpg', 'credit_id': '5540b0a99251414af900156e', 'department': 'Art', 'job': 'Production Design'}, {'adult': False, 'gender': 2, 'id': 1361546, 'known_for_department': 'Directing', 'name': 'Kiah Roache-Turner', 'original_name': 'Kiah Roache-Turner', 'popularity': 1.054, 'profile_path': '/1y2ZVFfxtKC4SR3s6IMiZB7WpnE.jpg', 'credit_id': '5540b0599251414af3001646', 'department': 'Production', 'job': 'Executive Producer'}, {'adult': False, 'gender': 0, 'id': 1361555, 'known_for_department': 'Production', 'name': 'Tristan Roache-Turner', 'original_name': 'Tristan Roache-Turner', 'popularity': 0.629, 'profile_path': None, 'credit_id': '540bc1f5c3a36879ab00284a', 'department': 'Writing', 'job': 'Screenplay'}, {'adult': False, 'gender': 0, 'id': 1361555, 'known_for_department': 'Production', 'name': 'Tristan Roache-Turner', 'original_name': 'Tristan Roache-Turner', 'popularity': 0.629, 'profile_path': None, 'credit_id': '5540b0b59251414af300164d', 'department': 'Art', 'job': 'Production Design'}, {'adult': False, 'gender': 0, 'id': 1361555, 'known_for_department': 'Production', 'name': 'Tristan Roache-Turner', 'original_name': 'Tristan Roache-Turner', 'popularity': 0.629, 'profile_path': None, 'credit_id': '5540b06e9251414af6001541', 'department': 'Production', 'job': 'Producer'}, {'adult': False, 'gender': 0, 'id': 1361555, 'known_for_department': 'Production', 'name': 'Tristan Roache-Turner', 'original_name': 'Tristan Roache-Turner', 'popularity': 0.629, 'profile_path': None, 'credit_id': '5540b067c3a36829e50012ac', 'department': 'Production', 'job': 'Executive Producer'}, {'adult': False, 'gender': 0, 'id': 1361565, 'known_for_department': 'Production', 'name': 'Jamie Hilton', 'original_name': 'Jamie Hilton', 'popularity': 0.6, 'profile_path': None, 'credit_id': '540bc292c3a368799c002909', 'department': 'Production', 'job': 'Executive Producer'}, {'adult': False, 'gender': 0, 'id': 1361566, 'known_for_department': 'Production', 'name': 'Ciaran Jordan', 'original_name': 'Ciaran Jordan', 'popularity': 0.6, 'profile_path': None, 'credit_id': '540bc29ec3a36879a2002b06', 'department': 'Production', 'job': 'Line Producer'}, {'adult': False, 'gender': 0, 'id': 1361567, 'known_for_department': 'Production', 'name': 'Josh Pomeranz', 'original_name': 'Josh Pomeranz', 'popularity': 0.98, 'profile_path': None, 'credit_id': '5540b04a9251414ae600164e', 'department': 'Production', 'job': 'Executive Producer'}, {'adult': False, 'gender': 2, 'id': 1361568, 'known_for_department': 'Camera', 'name': 'Tim Nagle', 'original_name': 'Tim Nagle', 'popularity': 0.6, 'profile_path': None, 'credit_id': '5540b07d9251413d6d001200', 'department': 'Camera', 'job': 'Director of Photography'}, {'adult': False, 'gender': 0, 'id': 1861509, 'known_for_department': 'Crew', 'name': 'Jesse Rowles', 'original_name': 'Jesse Rowles', 'popularity': 1.285, 'profile_path': None, 'credit_id': '60882a1a904f6d00587fc7af', 'department': 'Crew', 'job': 'Stunts'}, {'adult': False, 'gender': 0, 'id': 1861509, 'known_for_department': 'Crew', 'name': 'Jesse Rowles', 'original_name': 'Jesse Rowles', 'popularity': 1.285, 'profile_path': None, 'credit_id': '608825e1904f6d002a178dfa', 'department': 'Production', 'job': 'Production Coordinator'}, {'adult': False, 'gender': 2, 'id': 1871657, 'known_for_department': 'Crew', 'name': 'Spike Cherrie', 'original_name': 'Spike Cherrie', 'popularity': 1.38, 'profile_path': None, 'credit_id': '62729daf29c626187d93ae8d', 'department': 'Crew', 'job': 'Stunt Coordinator'}, {'adult': False, 'gender': 2, 'id': 2787154, 'known_for_department': 'Production', 'name': 'Matt Wilson', 'original_name': 'Matt Wilson', 'popularity': 0.6, 'profile_path': '/6tPCybKSmHKZzlX7GugYpqxIxAs.jpg', 'credit_id': '5f68e7dac1ffbd0035d29b12', 'department': 'Production', 'job': 'Production Assistant'}]}, 'translations': {'translations': [{'iso_3166_1': 'SA', 'iso_639_1': 'ar', 'name': 'العربية', 'english_name': 'Arabic', 'data': {'homepage': '', 'overview': 'مع بدء ظهور الموتى اﻷحياء، تتحطم حياة باري الميكانيكي الموهوب ورب العائلة، وذلك بعد اختطاف شقيقته بروك على يد مجموعة من الجنود الملثمين من أجل إجراء تجارب عليها على يد طبيب مهووس، وبينما تحاول بروك الهرب، يخطط باري لانقاذها مع رفيقه بيني.', 'runtime': 0, 'tagline': '', 'title': ''}}, {'iso_3166_1': 'CZ', 'iso_639_1': 'cs', 'name': 'Český', 'english_name': 'Czech', 'data': {'homepage': '', 'overview': 'Když se Benny (Leon Burchill) vypravil do buše se svými bratry lovit divoká prasata, cítil v povětří, kterým se neslo zlověstné, mrtvé ticho, něco zvláštního. Později noční oblohu rozzářil roj padajících hvězd a když se ráno Benny probudil u vyhaslého ohniště, po jeho dvou bratrech nebylo ani stopy. V ten den se Země probudila do apokalyptického rána, terorizována podivným druhem zombie, který má neuvěřitelné schopnosti. V totéž ráno Barry (Jay Gallagher) ještě netušil, že bude muset chladnokrevně popravit svou manželku s dcerou a spolu s Bennym a dvěma dalšími chlapy, se kterými vytvořili tým, vysvobodit svou unesenou sestru Brooke (Bianca Bradet) ze spárů vědce maniaka a jeho komanda v plynových maskách.', 'runtime': 0, 'tagline': '', 'title': 'Noc oživlých protinožců'}}, {'iso_3166_1': 'DK', 'iso_639_1': 'da', 'name': 'Dansk', 'english_name': 'Danish', 'data': {'homepage': '', 'overview': 'Midt i den igangværende dommedag, bliver Barry’s søster kidnappet af en gruppe soldater iført gasmasker. Barry vil selvfølgelig prøve at befri hende, men vejene er fyldt med kødædende monstre og andre lige så desperate overlevende. Velkommen til helvede på jorden!', 'runtime': 98, 'tagline': '', 'title': ''}}, {'iso_3166_1': 'DE', 'iso_639_1': 'de', 'name': 'Deutsch', 'english_name': 'German', 'data': {'homepage': '', 'overview': 'Mit dem Ausbruch einer globalen Zombie-Apokalypse hat der Mechaniker Barry so ziemlich alles außer seiner Schwester Brooke verloren. Als die eines Tages jedoch von einer Bande Maskierter entführt wird, ist Barry am Boden zerstört. Doch er beschließt, nicht untätig zu bleiben und sich auf die Suche nach ihr zu machen. Einen Verbündeten findet er in dem Draufgänger Benny, mit dem er sich durch eine Welt schlägt, in der nicht nur die wandelnden Toten, sondern auch die Überlebenden eine Bedrohung sind – schuld ist der Streit um die knappen Ressourcen. Bis an die Zähne bewaffnet, kämpfen sich Barry und Benny durch schier endlose Zombie-Horden, um Brooke aus den Fängen eines psychopathischen Arztes zu retten, der grausame Experimente durchführt, an Menschen und Zombies gleichermaßen…', 'runtime': 98, 'tagline': '', 'title': 'Wyrmwood: Road of the Dead'}}, {'iso_3166_1': 'GR', 'iso_639_1': 'el', 'name': 'ελληνικά', 'english_name': 'Greek', 'data': {'homepage': '', 'overview': 'Ο Barry είναι ένας ταλαντούχος μηχανικός και οικογενειάρχης του οποίου η ζωή διαλύεται την παραμονή του ξυπνήματος των ζόμπι. Η αδελφή του, Brooke, έχει απαχθεί από μια ομάδα στρατιωτών με μάσκες αερίων, με σκοπό να την παραδώσουν σε έναν ψυχωτικό γιατρό για πειραματόζωο. Ενώ η Brooke σχεδιάζει την απόδραση της, ο Barry ψάχνει να τη βρει και συνεργάζεται με τον Benny, έναν ακόμη επιζώντα. Μαζί πρέπει να εξοπλιστούν και να προετοιμαστούν για μάχη με τις ορδές των σαρκοφάγων τεράτων στην αχανή έρημο της Αυστραλίας.', 'runtime': 0, 'tagline': '', 'title': ''}}, {'iso_3166_1': 'US', 'iso_639_1': 'en', 'name': 'English', 'english_name': 'English', 'data': {'homepage': '', 'overview': 'Barry is a talented mechanic and family man whose life is torn apart on the eve of a zombie apocalypse. His sister, Brooke, is kidnapped by a sinister team of gas-mask wearing soldiers & experimented on by a psychotic doctor. While Brooke plans her escape Barry goes out on the road to find her & teams up with Benny, a fellow survivor - together they must arm themselves and prepare to battle their way through hordes of flesh-eating monsters in a harsh Australian bushland.', 'runtime': 98, 'tagline': 'Mad Max meets Dawn Of The Dead', 'title': ''}}, {'iso_3166_1': 'ES', 'iso_639_1': 'es', 'name': 'Español', 'english_name': 'Spanish', 'data': {'homepage': '', 'overview': 'La vida de Barry da un giro radical cuando su hermana es secuestrada por un científico loco, justo en el momento en que se desencadena un Apocalipsis zombi. Buscando aliados entre los supervivientes, el protagonista atravesará Australia para rescatar a su hermana, dando forma a una trepidante cinta de horror y acción que ha sido definida como un cruce entre Zombi y Mad Max.', 'runtime': 92, 'tagline': '', 'title': 'Wyrmwood: La carretera de los muertos'}}, {'iso_3166_1': 'MX', 'iso_639_1': 'es', 'name': 'Español', 'english_name': 'Spanish', 'data': {'homepage': '', 'overview': 'La vida de Barry da un giro radical cuando su hermana es secuestrada por un científico loco, justo en el momento en que se desencadena un Apocalipsis zombi. Buscando aliados entre los supervivientes, el protagonista atravesará Australia para rescatar a su hermana, dando forma a una trepidante cinta de horror y acción que ha sido definida como un cruce entre Zombi y Mad Max.', 'runtime': 0, 'tagline': '', 'title': 'El camino de la muerte Wyrmwood'}}, {'iso_3166_1': 'FI', 'iso_639_1': 'fi', 'name': 'suomi', 'english_name': 'Finnish', 'data': {'homepage': '', 'overview': 'Australian takamailla puhkeaa zombi-epidemia ja kaiken kukkaraksi autotkin lakkaavat toimimasta, joilla olisi kätevä huristella pakoon. Mutta ei hätää, kyllä kekseliäs mekaanikko ja jokapaikanhöylä Barry, aina keinot löytää. Maailmanlopun tapahtumien ollessa käsillä ja kaikkien - myös Barryn vaimon ja tyttären - muuttuessa zombeiksi, hän aseistaa itsensä hampaisiin asti, lastaa autonsa ja lähtee tien päälle pelastaakseen siskonsa hullun lääkärin käsistä.', 'runtime': 98, 'tagline': '', 'title': ''}}, {'iso_3166_1': 'FR', 'iso_639_1': 'fr', 'name': 'Français', 'english_name': 'French', 'data': {'homepage': '', 'overview': 'Une météorite s’est écrasée sur la planète. Elle est à l’origine d’une épidémie qui a transformé la population en zombies. Barry et sa sœur Brooke font partie des survivants. Elle se fait kidnapper par un groupe de paramilitaires. Barry part à sa recherche à travers le désert infesté de morts-vivants, au volant de sa voiture de combat.', 'runtime': 98, 'tagline': '', 'title': 'Wyrmwood: Road of the Dead'}}, {'iso_3166_1': 'HU', 'iso_639_1': 'hu', 'name': 'Magyar', 'english_name': 'Hungarian', 'data': {'homepage': '', 'overview': 'Élőholtak árasztják el az ausztrál vidéket. A családos, viszonylag nyugodt életet élő Barry is kizökken a normál kerékvágásból. Lánya és felesége is áldozatul esik. Barry talpig felfegyverzi magát, megbütyköl egy terepjárót és útnak indul. Feladata is akad, meg kell mentenie húgát egy őrült karmai közül.', 'runtime': 89, 'tagline': '', 'title': 'Wyrmwood: Road Of The Dead'}}, {'iso_3166_1': 'IT', 'iso_639_1': 'it', 'name': 'Italiano', 'english_name': 'Italian', 'data': {'homepage': '', 'overview': 'Barry, talentuoso meccanico e padre di famiglia, alla vigilia di una apocalisse zombie ha la vita sconvolta. La sorella Brooke è rapita da un gruppo di soldati che indossano maschere antigas per gli esperimenti di un medico psicotico. Mentre Brooke progetta di fuggire in qualche modo, Barry si mette alla sua ricerca alleandosi con Benny, insieme a cui dovrà combattere le orde di zombie che infestano il paesaggio australiano.', 'runtime': 92, 'tagline': '', 'title': 'Road of the Dead - Wyrmwood'}}, {'iso_3166_1': 'KR', 'iso_639_1': 'ko', 'name': '한국어/조선말', 'english_name': 'Korean', 'data': {'homepage': '', 'overview': '“좀비 필요해요? 불러 드릴게요”  갑작스러운 좀비들의 공격으로 아내와 딸을 잃은 베리(제이 갤러거)는 생존자 일행과 함께 좀비가 뿜어내는 메탄가스를 동력으로 한 전차를 만들어 동생 브룩(비앙카 브레디)을 찾아 나선다. 한편, 브룩은 군인과 미치광이 의사의 실험대상이 되어 좀비의 피를 수혈 받게 되고, 의사가 알지 못하는 사이 좀비들을 다스릴 수 있는 힘을 키워가게 된다.', 'runtime': 0, 'tagline': '극한 액션 콤비! 좀비퀸과 좀비헌터가 온다!', 'title': '웜우드 : 분노의 좀비 도로'}}, {'iso_3166_1': 'NL', 'iso_639_1': 'nl', 'name': 'Nederlands', 'english_name': 'Dutch', 'data': {'homepage': '', 'overview': 'Barry is een doodgewone automonteur die overdag werkt en de avonden doorbrengt met zijn vrouw Annie en hun dochter Meganne. Het is een rustig bestaan dat wordt omgegooid wanneer zijn zus Brooke belt met de mededeling dat er een uitbraak van zombies plaatsvindt. Een ware zombie-apocalyps is begonnen en Barry zal drastische maatregelen moeten nemen om in leven te blijven.', 'runtime': 0, 'tagline': '', 'title': ''}}, {'iso_3166_1': 'PL', 'iso_639_1': 'pl', 'name': 'Polski', 'english_name': 'Polish', 'data': {'homepage': '', 'overview': \"Mechanik samochodowy Barry (Jay Gallagher) mieszka z żoną Annie (Catherine Terracini) i córką Meganne (Meganne West) w australijskim buszu. Jego życie nieodwracalnie zmienia apokalipsa zombi. Barry traci najbliższych, a jego siostra Brooke (Bianca Bradey) zostaje porwana. Kobieta jest przetrzymywana przez szalonego naukowca (Berynn Schwerdt), który przeprowadza budzące grozę eksperymenty. Mechanik śpieszy jej na ratunek. Po drodze przyłącza się do innych ocalałych osób, w tym Benny'ego (Leon Burchill). Czeka ich mordercza walka z krwiożerczymi istotami, które zagrażają całej ludzkości. Niepozbawiony humoru obraz Kiaha Roache'a-Turnera i jego brata Tristana.\", 'runtime': 0, 'tagline': '', 'title': 'Wyrmwood: Droga do żywych trupów'}}, {'iso_3166_1': 'BR', 'iso_639_1': 'pt', 'name': 'Português', 'english_name': 'Portuguese', 'data': {'homepage': '', 'overview': 'Barry é um mecânico talentoso e homem de família que tem sua vida despedaçada às vésperas de um apocalipse zumbi. Sua irmã, Brooke, é sequestrada por um grupo sinistro que usa máscaras de gás de soldados e, é levada para um experimento de um médico psicótico. Enquanto Brooke planeja sua fuga, Barry parte para a estrada para achá-la e junta-se à Benny, um colega sobrevivente, juntos eles devem conseguir armas e preparar-se para sobreviver na mata nativa australiana em meio a vários zumbis canibais.', 'runtime': 98, 'tagline': '', 'title': ''}}, {'iso_3166_1': 'PT', 'iso_639_1': 'pt', 'name': 'Português', 'english_name': 'Portuguese', 'data': {'homepage': '', 'overview': 'MAD MAX misturado com DAWN OF THE DEAD.  Barry é um talentoso mecânico e homem de família cuja vida está despedaçada na véspera de um apocalipse zumbi. Sua irmã, Brooke, é sequestrada por uma equipe sinistra de soldados vestindo máscaras de gás &amp; experimentada por um médico psicótico. Enquanto Brooke planeja sua fuga, Barry sai na estrada para encontrá-la e se junta com Benny, um sobrevivente companheiro - juntos eles devem armar-se e preparar-se para batalhar seu caminho através de hordas de monstros comedores de carne em uma àspera mata nativa australiana.', 'runtime': 98, 'tagline': 'Estrada da Morte', 'title': 'Wyrmwood'}}, {'iso_3166_1': 'RU', 'iso_639_1': 'ru', 'name': 'Pусский', 'english_name': 'Russian', 'data': {'homepage': '', 'overview': 'Барри был талантливым механиком и семейным человеком, пока его жизнь не была разрушена в канун зомби-апокалипсиса. В дороге он объединяется с ещё одним выжившим, Чалкером, и вместе они вооружают себя, чтобы противостоять на своём пути орде плотоядных монстров, рыщущих в суровых австралийских зарослях.', 'runtime': 99, 'tagline': '', 'title': 'Полынь: Дорога мёртвых'}}, {'iso_3166_1': 'SE', 'iso_639_1': 'sv', 'name': 'svenska', 'english_name': 'Swedish', 'data': {'homepage': '', 'overview': 'Jorden har blivit träffad av en komet och en zombie-epidemi har brutit ut. Endast en liten skara har klarat sig men de måste agera snabbt för att inte bli offer för dessa köttätande monster. Utan bränsle är deras flyktchanser lika med noll, men när de upptäcker att de odöda andas ut metangas kläcks idén att skapa ett zombiesäkert fordon drivet av zombiegas.', 'runtime': 98, 'tagline': '', 'title': ''}}, {'iso_3166_1': 'TR', 'iso_639_1': 'tr', 'name': 'Türkçe', 'english_name': 'Turkish', 'data': {'homepage': '', 'overview': 'Barry yetenekli bir tamirci ve iyi bir aile adamıdır, fakat zombi kıyametiyle hayatı paramparça olur. Kız kardeşi Brooke gaz maskeli asker kıyafetli üzerinde psikolojik deneyler yapılmış adamlarca kaçırılır. Barry kaçış planı hazırlarken Barry’de hayatta kalan arkadaşı Benny ile bir takım oluşturarak Avusturalya’nın zorlu ormanlarında bir savaş vermeye hazırlanmaktadır.', 'runtime': 0, 'tagline': '', 'title': 'Ölüm Yolu'}}, {'iso_3166_1': 'CN', 'iso_639_1': 'zh', 'name': '普通话', 'english_name': 'Mandarin', 'data': {'homepage': '', 'overview': '机械工程师巴瑞（Jay Gallagher 饰）原本和妻子安妮（Catherine Terracini 饰）、女儿梅根（Meganne West 饰） 过着快乐无忧的生活，但在一个不祥之夜，他们的人生发生了翻天覆地的巨变。沉睡中的巴瑞突然接到妹妹布鲁克（Bianca Bradey 饰）的电话，妹妹声称朋友们毫无征兆的情况下甚至错乱，变成了凶恶残暴、嗜血如命的恐怖丧尸。话音未落之际，巴瑞一家也遭到丧尸们的袭击。夜幕退去，曙光降临。布鲁克被两名全副武装的士兵解救，随后则被打晕带走。与此同时，逃难中的巴瑞则不得不面对妻子女儿尸变的悲惨一幕。  \\u3000\\u3000途中他遇到了其他的幸存者，为了搭救被困的妹妹，巴瑞选择穿越丧尸群集的恐怖地带……', 'runtime': 0, 'tagline': '', 'title': '僵尸来袭'}}, {'iso_3166_1': 'TW', 'iso_639_1': 'zh', 'name': '普通话', 'english_name': 'Mandarin', 'data': {'homepage': '', 'overview': '機械工程師巴瑞（Jay Gallagher飾）原本和妻子安妮（Catherine Terracini飾）、女兒梅根（Meganne West飾）過著快樂無憂的生活，但在一個不祥之夜，他們的人生髮生了翻天覆地的巨變。沉睡中的巴瑞突然接到妹妹布魯克（Bianca Bradey飾）的電話，妹妹聲稱朋友們毫無徵兆的情況下甚至錯亂，變成了兇惡殘暴、嗜血如命的恐怖喪屍。話音未落之際，巴瑞一家也遭到喪屍們的襲擊。夜幕退去，曙光降臨。布魯克被兩名全副武裝的士兵解救，隨後則被打暈帶走。與此同時，逃難中的巴瑞則不得不面對妻子女兒屍變的悲慘一幕。  \\u3000\\u3000途中他遇到了其他的倖存者，為了搭救被困的妹妹，巴瑞選擇穿越喪屍群集的恐怖地帶……', 'runtime': 0, 'tagline': '', 'title': '殭屍來襲'}}]}, 'keywords': {'keywords': [{'id': 12377, 'name': 'zombie'}, {'id': 186565, 'name': 'zombie apocalypse'}]}, 'release_dates': {'results': [{'iso_3166_1': 'GB', 'release_dates': [{'certification': '', 'descriptors': [], 'iso_639_1': '', 'note': '', 'release_date': '2015-05-08T00:00:00.000Z', 'type': 3}]}, {'iso_3166_1': 'DE', 'release_dates': [{'certification': '18', 'descriptors': [], 'iso_639_1': '', 'note': '', 'release_date': '2015-08-06T00:00:00.000Z', 'type': 3}]}, {'iso_3166_1': 'US', 'release_dates': [{'certification': '', 'descriptors': [], 'iso_639_1': '', 'note': '', 'release_date': '2014-09-19T00:00:00.000Z', 'type': 3}]}, {'iso_3166_1': 'AU', 'release_dates': [{'certification': 'MA15+', 'descriptors': [], 'iso_639_1': '', 'note': '', 'release_date': '2015-02-13T00:00:00.000Z', 'type': 3}]}]}}}"
      ]
     },
     "execution_count": 5,
     "metadata": {},
     "output_type": "execute_result"
    }
   ],
   "source": [
    "f_097fO = create_movie_metadata_dict('f_097fO')\n",
    "f_097fO"
   ]
  },
  {
   "cell_type": "code",
   "execution_count": 9,
   "metadata": {},
   "outputs": [
    {
     "data": {
      "text/plain": [
       "{'adult': False, 'backdrop_path': '/k1KP47cnuscBPS4yYTJJ6S4PDho.jpg', 'belongs_to_collection': {'id': 927812, 'name': 'Wyrmwood Collection', 'poster_path': '/tRSNW8dte5P9L8vZPaCFFkjAOnI.jpg', 'backdrop_path': '/drstxfAEQ8tR1qf9Axzg6ZnhGxn.jpg'}, 'budget': 0, 'genres': [{'id': 27, 'name': 'Horror'}, {'id': 28, 'name': 'Action'}, {'id': 35, 'name': 'Comedy'}], 'homepage': '', 'id': 290999, 'imdb_id': 'tt2535470', 'original_language': 'en', 'original_title': 'Wyrmwood: Road of the Dead', 'overview': 'Barry is a talented mechanic and family man whose life is torn apart on the eve of a zombie apocalypse. His sister, Brooke, is kidnapped by a sinister team of gas-mask wearing soldiers & experimented on by a psychotic doctor. While Brooke plans her escape Barry goes out on the road to find her & teams up with Benny, a fellow survivor - together they must arm themselves and prepare to battle their way through hordes of flesh-eating monsters in a harsh Australian bushland.', 'popularity': 11.539, 'poster_path': '/oyF0zNkTfvodHvkSEs9E88jvQRi.jpg', 'production_companies': [{'id': 32400, 'logo_path': None, 'name': 'Guerilla Films', 'origin_country': 'AU'}], 'production_countries': [{'iso_3166_1': 'AU', 'name': 'Australia'}], 'release_date': '2014-09-19', 'revenue': 0, 'runtime': 98, 'spoken_languages': [{'english_name': 'English', 'iso_639_1': 'en', 'name': 'English'}], 'status': 'Released', 'tagline': 'Mad Max meets Dawn Of The Dead', 'title': 'Wyrmwood: Road of the Dead', 'video': False, 'vote_average': 6.089, 'vote_count': 384, 'videos': {'results': [{'iso_639_1': 'en', 'iso_3166_1': 'US', 'name': 'Wyrmwood Official Trailer 1 (2015) - Horror Movie HD', 'key': 'oJoRHFn7QRw', 'published_at': '2015-01-09T21:49:24.000Z', 'site': 'YouTube', 'size': 720, 'type': 'Trailer', 'official': False, 'id': '54b181d1925141746c00242c'}]}, 'trailers': {'quicktime': [], 'youtube': [{'name': 'Wyrmwood Official Trailer 1 (2015) - Horror Movie HD', 'size': 'HD', 'source': 'oJoRHFn7QRw', 'type': 'Trailer'}]}, 'images': {'backdrops': [], 'logos': [], 'posters': []}, 'casts': {'cast': [{'adult': False, 'gender': 0, 'id': 1262388, 'known_for_department': 'Acting', 'name': 'Jay Gallagher', 'original_name': 'Jay Gallagher', 'popularity': 1.757, 'profile_path': '/ppwekPN23qcJER0Wiih5sQi1JwW.jpg', 'cast_id': 1, 'character': 'Barry', 'credit_id': '540bbc1dc3a368799f0027f7', 'order': 0}, {'adult': False, 'gender': 1, 'id': 1326440, 'known_for_department': 'Acting', 'name': 'Bianca Bradey', 'original_name': 'Bianca Bradey', 'popularity': 2.908, 'profile_path': '/njh8eYOn052EtHoHLcU1scsahyJ.jpg', 'cast_id': 2, 'character': 'Brooke', 'credit_id': '540bbc29c3a368799f0027fa', 'order': 1}, {'adult': False, 'gender': 0, 'id': 124573, 'known_for_department': 'Acting', 'name': 'Leon Burchill', 'original_name': 'Leon Burchill', 'popularity': 0.6, 'profile_path': '/uaIHGQtIrkmpR0pkYGSYTPX6HBY.jpg', 'cast_id': 3, 'character': 'Benny', 'credit_id': '540bbc34c3a36879ab002796', 'order': 2}, {'adult': False, 'gender': 2, 'id': 1361549, 'known_for_department': 'Acting', 'name': 'Luke McKenzie', 'original_name': 'Luke McKenzie', 'popularity': 1.96, 'profile_path': '/uZWHe3vwoL7LrAZYUMgNqoCEOA5.jpg', 'cast_id': 4, 'character': 'The Captain', 'credit_id': '540bbc43c3a368799f0027ff', 'order': 3}, {'adult': False, 'gender': 2, 'id': 1361556, 'known_for_department': 'Acting', 'name': 'Yure Covich', 'original_name': 'Yure Covich', 'popularity': 1.294, 'profile_path': '/e7T3bI9mCNZPbPuMcAPvR575nn8.jpg', 'cast_id': 7, 'character': 'Chalker', 'credit_id': '540bc208c3a36879a2002aeb', 'order': 4}, {'adult': False, 'gender': 0, 'id': 1361557, 'known_for_department': 'Acting', 'name': 'Catherine Terracini', 'original_name': 'Catherine Terracini', 'popularity': 0.98, 'profile_path': None, 'cast_id': 8, 'character': 'Annie', 'credit_id': '540bc215c3a368799f0028df', 'order': 5}, {'adult': False, 'gender': 0, 'id': 88381, 'known_for_department': 'Acting', 'name': 'Keith Agius', 'original_name': 'Keith Agius', 'popularity': 1.0, 'profile_path': '/xVQbagPdPdG3S3M34cLWVqwK1RH.jpg', 'cast_id': 9, 'character': 'Frank', 'credit_id': '540bc222c3a36879ae002713', 'order': 6}, {'adult': False, 'gender': 0, 'id': 1361558, 'known_for_department': 'Acting', 'name': 'Berryn Schwerdt', 'original_name': 'Berryn Schwerdt', 'popularity': 0.6, 'profile_path': None, 'cast_id': 10, 'character': 'The Doctor', 'credit_id': '540bc230c3a36879b2002635', 'order': 7}, {'adult': False, 'gender': 2, 'id': 1361559, 'known_for_department': 'Acting', 'name': 'Cain Thompson', 'original_name': 'Cain Thompson', 'popularity': 1.425, 'profile_path': '/6Lw8MGCtcc7dIca5GUjtzUjzuvj.jpg', 'cast_id': 11, 'character': 'McGaughlin', 'credit_id': '540bc23fc3a368799c0028f9', 'order': 8}, {'adult': False, 'gender': 1, 'id': 1361560, 'known_for_department': 'Acting', 'name': 'Beth Aubrey', 'original_name': 'Beth Aubrey', 'popularity': 0.6, 'profile_path': '/xTi9UcGY0aUhejvzmqPlxYGcYf2.jpg', 'cast_id': 12, 'character': 'Charlotte', 'credit_id': '540bc24cc3a36879a800285f', 'order': 9}, {'adult': False, 'gender': 0, 'id': 1361561, 'known_for_department': 'Acting', 'name': 'Sheridan Harbridge', 'original_name': 'Sheridan Harbridge', 'popularity': 0.6, 'profile_path': None, 'cast_id': 13, 'character': 'Sherri', 'credit_id': '540bc257c3a368799c0028ff', 'order': 10}, {'adult': False, 'gender': 0, 'id': 1361562, 'known_for_department': 'Acting', 'name': 'Damian Dyke', 'original_name': 'Damian Dyke', 'popularity': 0.6, 'profile_path': None, 'cast_id': 14, 'character': 'Thompson', 'credit_id': '540bc262c3a36879b2002640', 'order': 11}, {'adult': False, 'gender': 0, 'id': 1361564, 'known_for_department': 'Acting', 'name': 'John Michael Burdon', 'original_name': 'John Michael Burdon', 'popularity': 0.6, 'profile_path': None, 'cast_id': 15, 'character': 'Zombie', 'credit_id': '540bc271c3a36879a2002af6', 'order': 12}, {'adult': False, 'gender': 0, 'id': 1861509, 'known_for_department': 'Crew', 'name': 'Jesse Rowles', 'original_name': 'Jesse Rowles', 'popularity': 1.285, 'profile_path': None, 'cast_id': 33, 'character': 'Zombie', 'credit_id': '60882732cabfe4002950a389', 'order': 13}], 'crew': [{'adult': False, 'gender': 2, 'id': 1014694, 'known_for_department': 'Sound', 'name': 'Michael Lira', 'original_name': 'Michael Lira', 'popularity': 0.6, 'profile_path': '/fQyKbUASuD3F7kv3pZZR7h8SX0v.jpg', 'credit_id': '5540b08cc3a3681da00015c6', 'department': 'Sound', 'job': 'Original Music Composer'}, {'adult': False, 'gender': 0, 'id': 1262388, 'known_for_department': 'Acting', 'name': 'Jay Gallagher', 'original_name': 'Jay Gallagher', 'popularity': 1.757, 'profile_path': '/ppwekPN23qcJER0Wiih5sQi1JwW.jpg', 'credit_id': '540bc2d1c3a36879a2002b0f', 'department': 'Production', 'job': 'Casting'}, {'adult': False, 'gender': 2, 'id': 1361546, 'known_for_department': 'Directing', 'name': 'Kiah Roache-Turner', 'original_name': 'Kiah Roache-Turner', 'popularity': 1.054, 'profile_path': '/1y2ZVFfxtKC4SR3s6IMiZB7WpnE.jpg', 'credit_id': '540bc1e9c3a36879a2002ae3', 'department': 'Writing', 'job': 'Screenplay'}, {'adult': False, 'gender': 2, 'id': 1361546, 'known_for_department': 'Directing', 'name': 'Kiah Roache-Turner', 'original_name': 'Kiah Roache-Turner', 'popularity': 1.054, 'profile_path': '/1y2ZVFfxtKC4SR3s6IMiZB7WpnE.jpg', 'credit_id': '540bbc10c3a36879ab00278f', 'department': 'Directing', 'job': 'Director'}, {'adult': False, 'gender': 2, 'id': 1361546, 'known_for_department': 'Directing', 'name': 'Kiah Roache-Turner', 'original_name': 'Kiah Roache-Turner', 'popularity': 1.054, 'profile_path': '/1y2ZVFfxtKC4SR3s6IMiZB7WpnE.jpg', 'credit_id': '5540b09cc3a3681dab00169f', 'department': 'Editing', 'job': 'Editor'}, {'adult': False, 'gender': 2, 'id': 1361546, 'known_for_department': 'Directing', 'name': 'Kiah Roache-Turner', 'original_name': 'Kiah Roache-Turner', 'popularity': 1.054, 'profile_path': '/1y2ZVFfxtKC4SR3s6IMiZB7WpnE.jpg', 'credit_id': '5540b0a99251414af900156e', 'department': 'Art', 'job': 'Production Design'}, {'adult': False, 'gender': 2, 'id': 1361546, 'known_for_department': 'Directing', 'name': 'Kiah Roache-Turner', 'original_name': 'Kiah Roache-Turner', 'popularity': 1.054, 'profile_path': '/1y2ZVFfxtKC4SR3s6IMiZB7WpnE.jpg', 'credit_id': '5540b0599251414af3001646', 'department': 'Production', 'job': 'Executive Producer'}, {'adult': False, 'gender': 0, 'id': 1361555, 'known_for_department': 'Production', 'name': 'Tristan Roache-Turner', 'original_name': 'Tristan Roache-Turner', 'popularity': 0.629, 'profile_path': None, 'credit_id': '540bc1f5c3a36879ab00284a', 'department': 'Writing', 'job': 'Screenplay'}, {'adult': False, 'gender': 0, 'id': 1361555, 'known_for_department': 'Production', 'name': 'Tristan Roache-Turner', 'original_name': 'Tristan Roache-Turner', 'popularity': 0.629, 'profile_path': None, 'credit_id': '5540b0b59251414af300164d', 'department': 'Art', 'job': 'Production Design'}, {'adult': False, 'gender': 0, 'id': 1361555, 'known_for_department': 'Production', 'name': 'Tristan Roache-Turner', 'original_name': 'Tristan Roache-Turner', 'popularity': 0.629, 'profile_path': None, 'credit_id': '5540b06e9251414af6001541', 'department': 'Production', 'job': 'Producer'}, {'adult': False, 'gender': 0, 'id': 1361555, 'known_for_department': 'Production', 'name': 'Tristan Roache-Turner', 'original_name': 'Tristan Roache-Turner', 'popularity': 0.629, 'profile_path': None, 'credit_id': '5540b067c3a36829e50012ac', 'department': 'Production', 'job': 'Executive Producer'}, {'adult': False, 'gender': 0, 'id': 1361565, 'known_for_department': 'Production', 'name': 'Jamie Hilton', 'original_name': 'Jamie Hilton', 'popularity': 0.6, 'profile_path': None, 'credit_id': '540bc292c3a368799c002909', 'department': 'Production', 'job': 'Executive Producer'}, {'adult': False, 'gender': 0, 'id': 1361566, 'known_for_department': 'Production', 'name': 'Ciaran Jordan', 'original_name': 'Ciaran Jordan', 'popularity': 0.6, 'profile_path': None, 'credit_id': '540bc29ec3a36879a2002b06', 'department': 'Production', 'job': 'Line Producer'}, {'adult': False, 'gender': 0, 'id': 1361567, 'known_for_department': 'Production', 'name': 'Josh Pomeranz', 'original_name': 'Josh Pomeranz', 'popularity': 0.98, 'profile_path': None, 'credit_id': '5540b04a9251414ae600164e', 'department': 'Production', 'job': 'Executive Producer'}, {'adult': False, 'gender': 2, 'id': 1361568, 'known_for_department': 'Camera', 'name': 'Tim Nagle', 'original_name': 'Tim Nagle', 'popularity': 0.6, 'profile_path': None, 'credit_id': '5540b07d9251413d6d001200', 'department': 'Camera', 'job': 'Director of Photography'}, {'adult': False, 'gender': 0, 'id': 1861509, 'known_for_department': 'Crew', 'name': 'Jesse Rowles', 'original_name': 'Jesse Rowles', 'popularity': 1.285, 'profile_path': None, 'credit_id': '60882a1a904f6d00587fc7af', 'department': 'Crew', 'job': 'Stunts'}, {'adult': False, 'gender': 0, 'id': 1861509, 'known_for_department': 'Crew', 'name': 'Jesse Rowles', 'original_name': 'Jesse Rowles', 'popularity': 1.285, 'profile_path': None, 'credit_id': '608825e1904f6d002a178dfa', 'department': 'Production', 'job': 'Production Coordinator'}, {'adult': False, 'gender': 2, 'id': 1871657, 'known_for_department': 'Crew', 'name': 'Spike Cherrie', 'original_name': 'Spike Cherrie', 'popularity': 1.38, 'profile_path': None, 'credit_id': '62729daf29c626187d93ae8d', 'department': 'Crew', 'job': 'Stunt Coordinator'}, {'adult': False, 'gender': 2, 'id': 2787154, 'known_for_department': 'Production', 'name': 'Matt Wilson', 'original_name': 'Matt Wilson', 'popularity': 0.6, 'profile_path': '/6tPCybKSmHKZzlX7GugYpqxIxAs.jpg', 'credit_id': '5f68e7dac1ffbd0035d29b12', 'department': 'Production', 'job': 'Production Assistant'}]}, 'translations': {'translations': [{'iso_3166_1': 'SA', 'iso_639_1': 'ar', 'name': 'العربية', 'english_name': 'Arabic', 'data': {'homepage': '', 'overview': 'مع بدء ظهور الموتى اﻷحياء، تتحطم حياة باري الميكانيكي الموهوب ورب العائلة، وذلك بعد اختطاف شقيقته بروك على يد مجموعة من الجنود الملثمين من أجل إجراء تجارب عليها على يد طبيب مهووس، وبينما تحاول بروك الهرب، يخطط باري لانقاذها مع رفيقه بيني.', 'runtime': 0, 'tagline': '', 'title': ''}}, {'iso_3166_1': 'CZ', 'iso_639_1': 'cs', 'name': 'Český', 'english_name': 'Czech', 'data': {'homepage': '', 'overview': 'Když se Benny (Leon Burchill) vypravil do buše se svými bratry lovit divoká prasata, cítil v povětří, kterým se neslo zlověstné, mrtvé ticho, něco zvláštního. Později noční oblohu rozzářil roj padajících hvězd a když se ráno Benny probudil u vyhaslého ohniště, po jeho dvou bratrech nebylo ani stopy. V ten den se Země probudila do apokalyptického rána, terorizována podivným druhem zombie, který má neuvěřitelné schopnosti. V totéž ráno Barry (Jay Gallagher) ještě netušil, že bude muset chladnokrevně popravit svou manželku s dcerou a spolu s Bennym a dvěma dalšími chlapy, se kterými vytvořili tým, vysvobodit svou unesenou sestru Brooke (Bianca Bradet) ze spárů vědce maniaka a jeho komanda v plynových maskách.', 'runtime': 0, 'tagline': '', 'title': 'Noc oživlých protinožců'}}, {'iso_3166_1': 'DK', 'iso_639_1': 'da', 'name': 'Dansk', 'english_name': 'Danish', 'data': {'homepage': '', 'overview': 'Midt i den igangværende dommedag, bliver Barry’s søster kidnappet af en gruppe soldater iført gasmasker. Barry vil selvfølgelig prøve at befri hende, men vejene er fyldt med kødædende monstre og andre lige så desperate overlevende. Velkommen til helvede på jorden!', 'runtime': 98, 'tagline': '', 'title': ''}}, {'iso_3166_1': 'DE', 'iso_639_1': 'de', 'name': 'Deutsch', 'english_name': 'German', 'data': {'homepage': '', 'overview': 'Mit dem Ausbruch einer globalen Zombie-Apokalypse hat der Mechaniker Barry so ziemlich alles außer seiner Schwester Brooke verloren. Als die eines Tages jedoch von einer Bande Maskierter entführt wird, ist Barry am Boden zerstört. Doch er beschließt, nicht untätig zu bleiben und sich auf die Suche nach ihr zu machen. Einen Verbündeten findet er in dem Draufgänger Benny, mit dem er sich durch eine Welt schlägt, in der nicht nur die wandelnden Toten, sondern auch die Überlebenden eine Bedrohung sind – schuld ist der Streit um die knappen Ressourcen. Bis an die Zähne bewaffnet, kämpfen sich Barry und Benny durch schier endlose Zombie-Horden, um Brooke aus den Fängen eines psychopathischen Arztes zu retten, der grausame Experimente durchführt, an Menschen und Zombies gleichermaßen…', 'runtime': 98, 'tagline': '', 'title': 'Wyrmwood: Road of the Dead'}}, {'iso_3166_1': 'GR', 'iso_639_1': 'el', 'name': 'ελληνικά', 'english_name': 'Greek', 'data': {'homepage': '', 'overview': 'Ο Barry είναι ένας ταλαντούχος μηχανικός και οικογενειάρχης του οποίου η ζωή διαλύεται την παραμονή του ξυπνήματος των ζόμπι. Η αδελφή του, Brooke, έχει απαχθεί από μια ομάδα στρατιωτών με μάσκες αερίων, με σκοπό να την παραδώσουν σε έναν ψυχωτικό γιατρό για πειραματόζωο. Ενώ η Brooke σχεδιάζει την απόδραση της, ο Barry ψάχνει να τη βρει και συνεργάζεται με τον Benny, έναν ακόμη επιζώντα. Μαζί πρέπει να εξοπλιστούν και να προετοιμαστούν για μάχη με τις ορδές των σαρκοφάγων τεράτων στην αχανή έρημο της Αυστραλίας.', 'runtime': 0, 'tagline': '', 'title': ''}}, {'iso_3166_1': 'US', 'iso_639_1': 'en', 'name': 'English', 'english_name': 'English', 'data': {'homepage': '', 'overview': 'Barry is a talented mechanic and family man whose life is torn apart on the eve of a zombie apocalypse. His sister, Brooke, is kidnapped by a sinister team of gas-mask wearing soldiers & experimented on by a psychotic doctor. While Brooke plans her escape Barry goes out on the road to find her & teams up with Benny, a fellow survivor - together they must arm themselves and prepare to battle their way through hordes of flesh-eating monsters in a harsh Australian bushland.', 'runtime': 98, 'tagline': 'Mad Max meets Dawn Of The Dead', 'title': ''}}, {'iso_3166_1': 'ES', 'iso_639_1': 'es', 'name': 'Español', 'english_name': 'Spanish', 'data': {'homepage': '', 'overview': 'La vida de Barry da un giro radical cuando su hermana es secuestrada por un científico loco, justo en el momento en que se desencadena un Apocalipsis zombi. Buscando aliados entre los supervivientes, el protagonista atravesará Australia para rescatar a su hermana, dando forma a una trepidante cinta de horror y acción que ha sido definida como un cruce entre Zombi y Mad Max.', 'runtime': 92, 'tagline': '', 'title': 'Wyrmwood: La carretera de los muertos'}}, {'iso_3166_1': 'MX', 'iso_639_1': 'es', 'name': 'Español', 'english_name': 'Spanish', 'data': {'homepage': '', 'overview': 'La vida de Barry da un giro radical cuando su hermana es secuestrada por un científico loco, justo en el momento en que se desencadena un Apocalipsis zombi. Buscando aliados entre los supervivientes, el protagonista atravesará Australia para rescatar a su hermana, dando forma a una trepidante cinta de horror y acción que ha sido definida como un cruce entre Zombi y Mad Max.', 'runtime': 0, 'tagline': '', 'title': 'El camino de la muerte Wyrmwood'}}, {'iso_3166_1': 'FI', 'iso_639_1': 'fi', 'name': 'suomi', 'english_name': 'Finnish', 'data': {'homepage': '', 'overview': 'Australian takamailla puhkeaa zombi-epidemia ja kaiken kukkaraksi autotkin lakkaavat toimimasta, joilla olisi kätevä huristella pakoon. Mutta ei hätää, kyllä kekseliäs mekaanikko ja jokapaikanhöylä Barry, aina keinot löytää. Maailmanlopun tapahtumien ollessa käsillä ja kaikkien - myös Barryn vaimon ja tyttären - muuttuessa zombeiksi, hän aseistaa itsensä hampaisiin asti, lastaa autonsa ja lähtee tien päälle pelastaakseen siskonsa hullun lääkärin käsistä.', 'runtime': 98, 'tagline': '', 'title': ''}}, {'iso_3166_1': 'FR', 'iso_639_1': 'fr', 'name': 'Français', 'english_name': 'French', 'data': {'homepage': '', 'overview': 'Une météorite s’est écrasée sur la planète. Elle est à l’origine d’une épidémie qui a transformé la population en zombies. Barry et sa sœur Brooke font partie des survivants. Elle se fait kidnapper par un groupe de paramilitaires. Barry part à sa recherche à travers le désert infesté de morts-vivants, au volant de sa voiture de combat.', 'runtime': 98, 'tagline': '', 'title': 'Wyrmwood: Road of the Dead'}}, {'iso_3166_1': 'HU', 'iso_639_1': 'hu', 'name': 'Magyar', 'english_name': 'Hungarian', 'data': {'homepage': '', 'overview': 'Élőholtak árasztják el az ausztrál vidéket. A családos, viszonylag nyugodt életet élő Barry is kizökken a normál kerékvágásból. Lánya és felesége is áldozatul esik. Barry talpig felfegyverzi magát, megbütyköl egy terepjárót és útnak indul. Feladata is akad, meg kell mentenie húgát egy őrült karmai közül.', 'runtime': 89, 'tagline': '', 'title': 'Wyrmwood: Road Of The Dead'}}, {'iso_3166_1': 'IT', 'iso_639_1': 'it', 'name': 'Italiano', 'english_name': 'Italian', 'data': {'homepage': '', 'overview': 'Barry, talentuoso meccanico e padre di famiglia, alla vigilia di una apocalisse zombie ha la vita sconvolta. La sorella Brooke è rapita da un gruppo di soldati che indossano maschere antigas per gli esperimenti di un medico psicotico. Mentre Brooke progetta di fuggire in qualche modo, Barry si mette alla sua ricerca alleandosi con Benny, insieme a cui dovrà combattere le orde di zombie che infestano il paesaggio australiano.', 'runtime': 92, 'tagline': '', 'title': 'Road of the Dead - Wyrmwood'}}, {'iso_3166_1': 'KR', 'iso_639_1': 'ko', 'name': '한국어/조선말', 'english_name': 'Korean', 'data': {'homepage': '', 'overview': '“좀비 필요해요? 불러 드릴게요”  갑작스러운 좀비들의 공격으로 아내와 딸을 잃은 베리(제이 갤러거)는 생존자 일행과 함께 좀비가 뿜어내는 메탄가스를 동력으로 한 전차를 만들어 동생 브룩(비앙카 브레디)을 찾아 나선다. 한편, 브룩은 군인과 미치광이 의사의 실험대상이 되어 좀비의 피를 수혈 받게 되고, 의사가 알지 못하는 사이 좀비들을 다스릴 수 있는 힘을 키워가게 된다.', 'runtime': 0, 'tagline': '극한 액션 콤비! 좀비퀸과 좀비헌터가 온다!', 'title': '웜우드 : 분노의 좀비 도로'}}, {'iso_3166_1': 'NL', 'iso_639_1': 'nl', 'name': 'Nederlands', 'english_name': 'Dutch', 'data': {'homepage': '', 'overview': 'Barry is een doodgewone automonteur die overdag werkt en de avonden doorbrengt met zijn vrouw Annie en hun dochter Meganne. Het is een rustig bestaan dat wordt omgegooid wanneer zijn zus Brooke belt met de mededeling dat er een uitbraak van zombies plaatsvindt. Een ware zombie-apocalyps is begonnen en Barry zal drastische maatregelen moeten nemen om in leven te blijven.', 'runtime': 0, 'tagline': '', 'title': ''}}, {'iso_3166_1': 'PL', 'iso_639_1': 'pl', 'name': 'Polski', 'english_name': 'Polish', 'data': {'homepage': '', 'overview': \"Mechanik samochodowy Barry (Jay Gallagher) mieszka z żoną Annie (Catherine Terracini) i córką Meganne (Meganne West) w australijskim buszu. Jego życie nieodwracalnie zmienia apokalipsa zombi. Barry traci najbliższych, a jego siostra Brooke (Bianca Bradey) zostaje porwana. Kobieta jest przetrzymywana przez szalonego naukowca (Berynn Schwerdt), który przeprowadza budzące grozę eksperymenty. Mechanik śpieszy jej na ratunek. Po drodze przyłącza się do innych ocalałych osób, w tym Benny'ego (Leon Burchill). Czeka ich mordercza walka z krwiożerczymi istotami, które zagrażają całej ludzkości. Niepozbawiony humoru obraz Kiaha Roache'a-Turnera i jego brata Tristana.\", 'runtime': 0, 'tagline': '', 'title': 'Wyrmwood: Droga do żywych trupów'}}, {'iso_3166_1': 'BR', 'iso_639_1': 'pt', 'name': 'Português', 'english_name': 'Portuguese', 'data': {'homepage': '', 'overview': 'Barry é um mecânico talentoso e homem de família que tem sua vida despedaçada às vésperas de um apocalipse zumbi. Sua irmã, Brooke, é sequestrada por um grupo sinistro que usa máscaras de gás de soldados e, é levada para um experimento de um médico psicótico. Enquanto Brooke planeja sua fuga, Barry parte para a estrada para achá-la e junta-se à Benny, um colega sobrevivente, juntos eles devem conseguir armas e preparar-se para sobreviver na mata nativa australiana em meio a vários zumbis canibais.', 'runtime': 98, 'tagline': '', 'title': ''}}, {'iso_3166_1': 'PT', 'iso_639_1': 'pt', 'name': 'Português', 'english_name': 'Portuguese', 'data': {'homepage': '', 'overview': 'MAD MAX misturado com DAWN OF THE DEAD.  Barry é um talentoso mecânico e homem de família cuja vida está despedaçada na véspera de um apocalipse zumbi. Sua irmã, Brooke, é sequestrada por uma equipe sinistra de soldados vestindo máscaras de gás &amp; experimentada por um médico psicótico. Enquanto Brooke planeja sua fuga, Barry sai na estrada para encontrá-la e se junta com Benny, um sobrevivente companheiro - juntos eles devem armar-se e preparar-se para batalhar seu caminho através de hordas de monstros comedores de carne em uma àspera mata nativa australiana.', 'runtime': 98, 'tagline': 'Estrada da Morte', 'title': 'Wyrmwood'}}, {'iso_3166_1': 'RU', 'iso_639_1': 'ru', 'name': 'Pусский', 'english_name': 'Russian', 'data': {'homepage': '', 'overview': 'Барри был талантливым механиком и семейным человеком, пока его жизнь не была разрушена в канун зомби-апокалипсиса. В дороге он объединяется с ещё одним выжившим, Чалкером, и вместе они вооружают себя, чтобы противостоять на своём пути орде плотоядных монстров, рыщущих в суровых австралийских зарослях.', 'runtime': 99, 'tagline': '', 'title': 'Полынь: Дорога мёртвых'}}, {'iso_3166_1': 'SE', 'iso_639_1': 'sv', 'name': 'svenska', 'english_name': 'Swedish', 'data': {'homepage': '', 'overview': 'Jorden har blivit träffad av en komet och en zombie-epidemi har brutit ut. Endast en liten skara har klarat sig men de måste agera snabbt för att inte bli offer för dessa köttätande monster. Utan bränsle är deras flyktchanser lika med noll, men när de upptäcker att de odöda andas ut metangas kläcks idén att skapa ett zombiesäkert fordon drivet av zombiegas.', 'runtime': 98, 'tagline': '', 'title': ''}}, {'iso_3166_1': 'TR', 'iso_639_1': 'tr', 'name': 'Türkçe', 'english_name': 'Turkish', 'data': {'homepage': '', 'overview': 'Barry yetenekli bir tamirci ve iyi bir aile adamıdır, fakat zombi kıyametiyle hayatı paramparça olur. Kız kardeşi Brooke gaz maskeli asker kıyafetli üzerinde psikolojik deneyler yapılmış adamlarca kaçırılır. Barry kaçış planı hazırlarken Barry’de hayatta kalan arkadaşı Benny ile bir takım oluşturarak Avusturalya’nın zorlu ormanlarında bir savaş vermeye hazırlanmaktadır.', 'runtime': 0, 'tagline': '', 'title': 'Ölüm Yolu'}}, {'iso_3166_1': 'CN', 'iso_639_1': 'zh', 'name': '普通话', 'english_name': 'Mandarin', 'data': {'homepage': '', 'overview': '机械工程师巴瑞（Jay Gallagher 饰）原本和妻子安妮（Catherine Terracini 饰）、女儿梅根（Meganne West 饰） 过着快乐无忧的生活，但在一个不祥之夜，他们的人生发生了翻天覆地的巨变。沉睡中的巴瑞突然接到妹妹布鲁克（Bianca Bradey 饰）的电话，妹妹声称朋友们毫无征兆的情况下甚至错乱，变成了凶恶残暴、嗜血如命的恐怖丧尸。话音未落之际，巴瑞一家也遭到丧尸们的袭击。夜幕退去，曙光降临。布鲁克被两名全副武装的士兵解救，随后则被打晕带走。与此同时，逃难中的巴瑞则不得不面对妻子女儿尸变的悲惨一幕。  \\u3000\\u3000途中他遇到了其他的幸存者，为了搭救被困的妹妹，巴瑞选择穿越丧尸群集的恐怖地带……', 'runtime': 0, 'tagline': '', 'title': '僵尸来袭'}}, {'iso_3166_1': 'TW', 'iso_639_1': 'zh', 'name': '普通话', 'english_name': 'Mandarin', 'data': {'homepage': '', 'overview': '機械工程師巴瑞（Jay Gallagher飾）原本和妻子安妮（Catherine Terracini飾）、女兒梅根（Meganne West飾）過著快樂無憂的生活，但在一個不祥之夜，他們的人生髮生了翻天覆地的巨變。沉睡中的巴瑞突然接到妹妹布魯克（Bianca Bradey飾）的電話，妹妹聲稱朋友們毫無徵兆的情況下甚至錯亂，變成了兇惡殘暴、嗜血如命的恐怖喪屍。話音未落之際，巴瑞一家也遭到喪屍們的襲擊。夜幕退去，曙光降臨。布魯克被兩名全副武裝的士兵解救，隨後則被打暈帶走。與此同時，逃難中的巴瑞則不得不面對妻子女兒屍變的悲慘一幕。  \\u3000\\u3000途中他遇到了其他的倖存者，為了搭救被困的妹妹，巴瑞選擇穿越喪屍群集的恐怖地帶……', 'runtime': 0, 'tagline': '', 'title': '殭屍來襲'}}]}, 'keywords': {'keywords': [{'id': 12377, 'name': 'zombie'}, {'id': 186565, 'name': 'zombie apocalypse'}]}, 'release_dates': {'results': [{'iso_3166_1': 'GB', 'release_dates': [{'certification': '', 'descriptors': [], 'iso_639_1': '', 'note': '', 'release_date': '2015-05-08T00:00:00.000Z', 'type': 3}]}, {'iso_3166_1': 'DE', 'release_dates': [{'certification': '18', 'descriptors': [], 'iso_639_1': '', 'note': '', 'release_date': '2015-08-06T00:00:00.000Z', 'type': 3}]}, {'iso_3166_1': 'US', 'release_dates': [{'certification': '', 'descriptors': [], 'iso_639_1': '', 'note': '', 'release_date': '2014-09-19T00:00:00.000Z', 'type': 3}]}, {'iso_3166_1': 'AU', 'release_dates': [{'certification': 'MA15+', 'descriptors': [], 'iso_639_1': '', 'note': '', 'release_date': '2015-02-13T00:00:00.000Z', 'type': 3}]}]}}"
      ]
     },
     "execution_count": 9,
     "metadata": {},
     "output_type": "execute_result"
    }
   ],
   "source": [
    "f_097fO['details']"
   ]
  },
  {
   "cell_type": "code",
   "execution_count": 20,
   "metadata": {},
   "outputs": [],
   "source": []
  },
  {
   "cell_type": "code",
   "execution_count": 21,
   "metadata": {},
   "outputs": [
    {
     "data": {
      "text/html": [
       "<div>\n",
       "<style scoped>\n",
       "    .dataframe tbody tr th:only-of-type {\n",
       "        vertical-align: middle;\n",
       "    }\n",
       "\n",
       "    .dataframe tbody tr th {\n",
       "        vertical-align: top;\n",
       "    }\n",
       "\n",
       "    .dataframe thead th {\n",
       "        text-align: right;\n",
       "    }\n",
       "</style>\n",
       "<table border=\"1\" class=\"dataframe\">\n",
       "  <thead>\n",
       "    <tr style=\"text-align: right;\">\n",
       "      <th></th>\n",
       "      <th>COLLECTION_ID</th>\n",
       "      <th>TMDB_ID</th>\n",
       "      <th>FILM_TITLE</th>\n",
       "    </tr>\n",
       "  </thead>\n",
       "  <tbody>\n",
       "    <tr>\n",
       "      <th>0</th>\n",
       "      <td>927812</td>\n",
       "      <td>290999</td>\n",
       "      <td>Wyrmwood: Road of the Dead</td>\n",
       "    </tr>\n",
       "    <tr>\n",
       "      <th>1</th>\n",
       "      <td>927812</td>\n",
       "      <td>879957</td>\n",
       "      <td>Wyrmwood: Apocalypse</td>\n",
       "    </tr>\n",
       "  </tbody>\n",
       "</table>\n",
       "</div>"
      ],
      "text/plain": [
       "  COLLECTION_ID  TMDB_ID                  FILM_TITLE\n",
       "0        927812   290999  Wyrmwood: Road of the Dead\n",
       "1        927812   879957        Wyrmwood: Apocalypse"
      ]
     },
     "execution_count": 21,
     "metadata": {},
     "output_type": "execute_result"
    }
   ],
   "source": []
  },
  {
   "cell_type": "code",
   "execution_count": 145,
   "metadata": {},
   "outputs": [
    {
     "ename": "KeyError",
     "evalue": "3",
     "output_type": "error",
     "traceback": [
      "\u001b[1;31m---------------------------------------------------------------------------\u001b[0m",
      "\u001b[1;31mKeyError\u001b[0m                                  Traceback (most recent call last)",
      "Cell \u001b[1;32mIn[145], line 1\u001b[0m\n\u001b[1;32m----> 1\u001b[0m keywords \u001b[39m=\u001b[39m f_0lrky[\u001b[39m3\u001b[39m]\u001b[39m.\u001b[39mget(\u001b[39m'\u001b[39m\u001b[39mkeywords\u001b[39m\u001b[39m'\u001b[39m, {\u001b[39m'\u001b[39m\u001b[39mkeywords\u001b[39m\u001b[39m'\u001b[39m: [{\u001b[39m'\u001b[39m\u001b[39mid\u001b[39m\u001b[39m'\u001b[39m: \u001b[39m-\u001b[39m\u001b[39m1\u001b[39m, \u001b[39m'\u001b[39m\u001b[39mname\u001b[39m\u001b[39m'\u001b[39m: \u001b[39m'\u001b[39m\u001b[39mnone\u001b[39m\u001b[39m'\u001b[39m}]})\n\u001b[0;32m      2\u001b[0m keywords\n",
      "\u001b[1;31mKeyError\u001b[0m: 3"
     ]
    }
   ],
   "source": [
    "keywords = f_0lrky[3].get('keywords', {'keywords': [{'id': -1, 'name': 'none'}]})\n",
    "keywords\n"
   ]
  },
  {
   "cell_type": "code",
   "execution_count": null,
   "metadata": {},
   "outputs": [],
   "source": [
    "if keywords:\n",
    "    keywords = keywords.get('keywords')\n",
    "    keyword_df = pd.DataFrame({\n",
    "        'FILM_ID': [film_id]*len(keywords),\n",
    "        'KEYWORD_ID':[x.get('id') for x in keywords],\n",
    "        'KEYWORD':[x.get('name') for x in keywords],\n",
    "        'CREATED_AT': [datetime.now()]*len(keywords)\n",
    "                                })"
   ]
  },
  {
   "cell_type": "code",
   "execution_count": 5,
   "metadata": {},
   "outputs": [],
   "source": [
    "tv = TV()\n",
    "details = tv.details('87108', 'credits,keywords')"
   ]
  },
  {
   "cell_type": "code",
   "execution_count": 11,
   "metadata": {},
   "outputs": [
    {
     "name": "stdout",
     "output_type": "stream",
     "text": [
      "adult : False\n",
      "backdrop_path : /20eIP9o5ebArmu2HxJutaBjhLf4.jpg\n",
      "created_by : [{'id': 35796, 'credit_id': '5ca7a5990e0a264c69f04ea8', 'name': 'Craig Mazin', 'gender': 2, 'profile_path': '/uEhna6qcMuyU5TP7irpTUZ2ZsZc.jpg'}]\n",
      "episode_run_time : []\n",
      "first_air_date : 2019-05-06\n",
      "genres : [{'id': 18, 'name': 'Drama'}]\n",
      "homepage : https://www.hbo.com/chernobyl\n",
      "id : 87108\n",
      "in_production : False\n",
      "languages : ['en']\n",
      "last_air_date : 2019-06-03\n",
      "last_episode_to_air : {'id': 1747127, 'name': 'Vichnaya Pamyat', 'overview': 'Valery Legasov, Boris Shcherbina and Ulana Khomyuk risk their lives and reputations to expose the truth about Chernobyl.', 'vote_average': 9.297, 'vote_count': 158, 'air_date': '2019-06-03', 'episode_number': 5, 'episode_type': 'finale', 'production_code': '', 'runtime': 73, 'season_number': 1, 'show_id': 87108, 'still_path': '/mgXm2Y6SOFDHtD5thi2LmS7uQBj.jpg'}\n",
      "name : Chernobyl\n",
      "next_episode_to_air : None\n",
      "networks : [{'id': 49, 'logo_path': '/tuomPhY2UtuPTqqFnKMVHvSb724.png', 'name': 'HBO', 'origin_country': 'US'}]\n",
      "number_of_episodes : 5\n",
      "number_of_seasons : 1\n",
      "origin_country : ['US']\n",
      "original_language : en\n",
      "original_name : Chernobyl\n",
      "overview : The true story of one of the worst man-made catastrophes in history: the catastrophic nuclear accident at Chernobyl. A tale of the brave men and women who sacrificed to save Europe from unimaginable disaster.\n",
      "popularity : 102.674\n",
      "poster_path : /hlLXt2tOPT6RRnjiUmoxyG1LTFi.jpg\n",
      "production_companies : [{'id': 112447, 'logo_path': '/kL6jD0jB836NqSfBusvjmYX1wAB.png', 'name': 'SISTER', 'origin_country': 'GB'}, {'id': 115241, 'logo_path': None, 'name': 'The Mighty Mint', 'origin_country': 'US'}, {'id': 119645, 'logo_path': None, 'name': 'Word Games', 'origin_country': 'US'}]\n",
      "production_countries : [{'iso_3166_1': 'GB', 'name': 'United Kingdom'}, {'iso_3166_1': 'US', 'name': 'United States of America'}]\n",
      "seasons : [{'air_date': '2019-05-06', 'episode_count': 5, 'id': 119454, 'name': 'Miniseries', 'overview': '', 'poster_path': '/hlLXt2tOPT6RRnjiUmoxyG1LTFi.jpg', 'season_number': 1, 'vote_average': 9.0}]\n",
      "spoken_languages : [{'english_name': 'English', 'iso_639_1': 'en', 'name': 'English'}]\n",
      "status : Ended\n",
      "tagline : What is the cost of lies?\n",
      "type : Miniseries\n",
      "vote_average : 8.659\n",
      "vote_count : 5745\n",
      "credits : {'cast': [{'adult': False, 'gender': 2, 'id': 15440, 'known_for_department': 'Acting', 'name': 'Jared Harris', 'original_name': 'Jared Harris', 'popularity': 32.816, 'profile_path': '/8GvXtLomIdCjROjlwKQYURKJwIq.jpg', 'character': 'Valery Legasov', 'credit_id': '5c73c35ec3a3685a3518e63e', 'order': 0}, {'adult': False, 'gender': 2, 'id': 1640, 'known_for_department': 'Acting', 'name': 'Stellan Skarsgård', 'original_name': 'Stellan Skarsgård', 'popularity': 32.871, 'profile_path': '/x78BtYHElirO7Iw8bL4m8CnzRDc.jpg', 'character': 'Boris Shcherbina', 'credit_id': '5c73c54492514119e1b0e213', 'order': 1}, {'adult': False, 'gender': 1, 'id': 1639, 'known_for_department': 'Acting', 'name': 'Emily Watson', 'original_name': 'Emily Watson', 'popularity': 20.846, 'profile_path': '/bd0qiJXHoLNpkCqABsh67AKRtjC.jpg', 'character': 'Ulana Khomyuk', 'credit_id': '5c73c567c3a3685a3518e99b', 'order': 2}, {'adult': False, 'gender': 2, 'id': 52888, 'known_for_department': 'Acting', 'name': 'Paul Ritter', 'original_name': 'Paul Ritter', 'popularity': 22.17, 'profile_path': '/hYRSjC5vxrIFZ5sx1rM6V4ZEI8G.jpg', 'character': 'Anatoly Dyatlov', 'credit_id': '5c9d494d0e0a260a2ad94aa0', 'order': 3}, {'adult': False, 'gender': 1, 'id': 1498158, 'known_for_department': 'Acting', 'name': 'Jessie Buckley', 'original_name': 'Jessie Buckley', 'popularity': 60.289, 'profile_path': '/jKhDQOMVQ1JP4gaUXCQg75gvsrm.jpg', 'character': 'Lyudmilla Ignatenko', 'credit_id': '5c9d49b00e0a260a1dd9485b', 'order': 4}, {'adult': False, 'gender': 2, 'id': 1435230, 'known_for_department': 'Acting', 'name': 'Adam Nagaitis', 'original_name': 'Adam Nagaitis', 'popularity': 14.099, 'profile_path': '/e05YxtScfLCI723ZFU6WOzLiJ6u.jpg', 'character': 'Vasily Ignatenko', 'credit_id': '5cf69ccd9251413c86b94b71', 'order': 5}, {'adult': False, 'gender': 2, 'id': 5421, 'known_for_department': 'Acting', 'name': 'Sam Troughton', 'original_name': 'Sam Troughton', 'popularity': 12.358, 'profile_path': '/7Gnt2TblEvlj0Nrzc5mQyOcHtPF.jpg', 'character': 'Alexandr Akimov', 'credit_id': '5d051689c3a3680a571f45cd', 'order': 6}, {'adult': False, 'gender': 2, 'id': 589652, 'known_for_department': 'Acting', 'name': 'Robert Emms', 'original_name': 'Robert Emms', 'popularity': 3.469, 'profile_path': '/yqXBUz5WMcuicfyp6GlKSLBdBJH.jpg', 'character': 'Leonid Toptunov', 'credit_id': '5d05169e92514163d1bd83df', 'order': 7}, {'adult': False, 'gender': 2, 'id': 96279, 'known_for_department': 'Acting', 'name': \"Con O'Neill\", 'original_name': \"Con O'Neill\", 'popularity': 38.506, 'profile_path': '/7Fnj1dB9kStTuy29eEVK4IuOxWO.jpg', 'character': 'Viktor Bryukhanov', 'credit_id': '5d05165a9251413ec5bb3a75', 'order': 8}, {'adult': False, 'gender': 2, 'id': 1643, 'known_for_department': 'Acting', 'name': 'Adrian Rawlins', 'original_name': 'Adrian Rawlins', 'popularity': 6.105, 'profile_path': '/G0PGZqTjenuVTAQiib4ScU7vAI.jpg', 'character': 'Nikolai Fomin', 'credit_id': '5d051671925141131bb98f41', 'order': 9}, {'adult': False, 'gender': 2, 'id': 122589, 'known_for_department': 'Acting', 'name': 'Alan Williams', 'original_name': 'Alan Williams', 'popularity': 15.5, 'profile_path': '/hvfjcPUtKkbBewvJdJ6uGutwS51.jpg', 'character': 'KGB Chairman Charkov', 'credit_id': '5d0516d00e0a261fbbd5e063', 'order': 10}, {'adult': False, 'gender': 2, 'id': 93236, 'known_for_department': 'Acting', 'name': 'David Dencik', 'original_name': 'David Dencik', 'popularity': 28.255, 'profile_path': '/2BPsGhw8lGhe6HNs1aLu4Q1XeVn.jpg', 'character': 'Mikhail Gorbachev', 'credit_id': '5cfbab93925141749ab92bb3', 'order': 11}, {'adult': False, 'gender': 2, 'id': 185460, 'known_for_department': 'Acting', 'name': 'Mark Lewis Jones', 'original_name': 'Mark Lewis Jones', 'popularity': 14.911, 'profile_path': '/5SAmzx40A0C3VOgzYPlcOmwqdL6.jpg', 'character': 'General Pikalov', 'credit_id': '5d0516b99251411a82c9ae4b', 'order': 12}, {'adult': False, 'gender': 2, 'id': 202032, 'known_for_department': 'Acting', 'name': 'Ralph Ineson', 'original_name': 'Ralph Ineson', 'popularity': 17.708, 'profile_path': '/sn3ONJw2pJxMHiCqPwvkaiWr5mc.jpg', 'character': 'General Tarakanov', 'credit_id': '5d0517060e0a261fbbd5e09a', 'order': 13}, {'adult': False, 'gender': 2, 'id': 1290466, 'known_for_department': 'Acting', 'name': 'Barry Keoghan', 'original_name': 'Barry Keoghan', 'popularity': 65.095, 'profile_path': '/ngoitknM6hw8fffLywyvjzy6Iti.jpg', 'character': 'Pavel', 'credit_id': '5d05171c925141131bb98fff', 'order': 14}, {'adult': False, 'gender': 2, 'id': 60416, 'known_for_department': 'Acting', 'name': 'Alex Ferns', 'original_name': 'Alex Ferns', 'popularity': 11.153, 'profile_path': '/3V3L7MJGURXU6lVaqai80zFT4Wa.jpg', 'character': 'Glukhov', 'credit_id': '5d0516ea9251416876be3aa4', 'order': 15}, {'adult': False, 'gender': 2, 'id': 57012, 'known_for_department': 'Acting', 'name': 'Fares Fares', 'original_name': 'Fares Fares', 'popularity': 13.445, 'profile_path': '/dLIVOrhSO2vSDt1gz3gURXBeOaN.jpg', 'character': 'Bacho', 'credit_id': '5d05172dc3a368445b2ad755', 'order': 16}, {'adult': False, 'gender': 2, 'id': 73288, 'known_for_department': 'Acting', 'name': 'Michael McElhatton', 'original_name': 'Michael McElhatton', 'popularity': 14.794, 'profile_path': '/aPjuV6N10zAJMr55lAIvnpdsNgE.jpg', 'character': 'Prosecutor Andrei Stepashin', 'credit_id': '5d05174892514117b4bd89f6', 'order': 17}], 'crew': [{'adult': False, 'gender': 0, 'id': 1213459, 'known_for_department': 'Production', 'name': 'Sanne Wohlenberg', 'original_name': 'Sanne Wohlenberg', 'popularity': 1.891, 'profile_path': None, 'credit_id': '5c73c4dc9251415ee8b61c55', 'department': 'Production', 'job': 'Producer'}, {'adult': False, 'gender': 2, 'id': 35796, 'known_for_department': 'Writing', 'name': 'Craig Mazin', 'original_name': 'Craig Mazin', 'popularity': 10.453, 'profile_path': '/uEhna6qcMuyU5TP7irpTUZ2ZsZc.jpg', 'credit_id': '5c73c3999251415ee2b5fb12', 'department': 'Production', 'job': 'Executive Producer'}, {'adult': False, 'gender': 2, 'id': 212408, 'known_for_department': 'Directing', 'name': 'Johan Renck', 'original_name': 'Johan Renck', 'popularity': 7.738, 'profile_path': '/pkPO6RhVFcKDiEUtbHjTkq4JjYi.jpg', 'credit_id': '5c73c3aac3a3685a4018d10d', 'department': 'Production', 'job': 'Co-Executive Producer'}, {'adult': False, 'gender': 1, 'id': 1223797, 'known_for_department': 'Production', 'name': 'Carolyn Strauss', 'original_name': 'Carolyn Strauss', 'popularity': 1.021, 'profile_path': None, 'credit_id': '5c73c38bc3a3685a4018d0dc', 'department': 'Production', 'job': 'Executive Producer'}, {'adult': False, 'gender': 1, 'id': 125248, 'known_for_department': 'Production', 'name': 'Jane Featherstone', 'original_name': 'Jane Featherstone', 'popularity': 1.649, 'profile_path': '/jYdEOebFggHs4sxg36BpXNAaAMb.jpg', 'credit_id': '5c73c37b0e0a262c1880ec62', 'department': 'Production', 'job': 'Executive Producer'}, {'adult': False, 'gender': 0, 'id': 1495142, 'known_for_department': 'Production', 'name': 'Chris Fry', 'original_name': 'Chris Fry', 'popularity': 0.6, 'profile_path': None, 'credit_id': '5c73c3d1c3a3685a3218863b', 'department': 'Production', 'job': 'Co-Executive Producer'}, {'adult': False, 'gender': 2, 'id': 71621, 'known_for_department': 'Camera', 'name': 'Jakob Ihre', 'original_name': 'Jakob Ihre', 'popularity': 1.4, 'profile_path': '/uTeNKJ0GZO2P8XDp4giSFvEV9dU.jpg', 'credit_id': '5cf5e287c3a3684eb91dda9d', 'department': 'Camera', 'job': 'Director of Photography'}, {'adult': False, 'gender': 2, 'id': 1019426, 'known_for_department': 'Production', 'name': 'Robert Sterne', 'original_name': 'Robert Sterne', 'popularity': 3.718, 'profile_path': '/mV9p5hU0N2MlcuKWnsuXbnbITdv.jpg', 'credit_id': '5cf69c1bc3a3684eb91eff89', 'department': 'Production', 'job': 'Casting'}, {'adult': False, 'gender': 1, 'id': 1178828, 'known_for_department': 'Sound', 'name': 'Hildur Guðnadóttir', 'original_name': 'Hildur Guðnadóttir', 'popularity': 1.248, 'profile_path': '/xkJTSLeYZkOqouzflrUNgLSC1lL.jpg', 'credit_id': '5cf69bf39251411882c2cec5', 'department': 'Sound', 'job': 'Original Music Composer'}, {'adult': False, 'gender': 1, 'id': 20424, 'known_for_department': 'Costume & Make-Up', 'name': 'Odile Dicks-Mireaux', 'original_name': 'Odile Dicks-Mireaux', 'popularity': 0.6, 'profile_path': '/bRaSyTCnU4BNTvjN7Z9yM0FjX9b.jpg', 'credit_id': '5cf69c8992514146dcb93a0c', 'department': 'Costume & Make-Up', 'job': 'Costume Design'}, {'adult': False, 'gender': 0, 'id': 2194810, 'known_for_department': 'Art', 'name': 'Paulius Dascioras', 'original_name': 'Paulius Dascioras', 'popularity': 0.828, 'profile_path': None, 'credit_id': '5cf69c6e9251416737b94f0f', 'department': 'Art', 'job': 'Art Direction'}, {'adult': False, 'gender': 1, 'id': 16363, 'known_for_department': 'Production', 'name': 'Nina Gold', 'original_name': 'Nina Gold', 'popularity': 8.093, 'profile_path': '/emeKuabMDN3C8x8ibby7FNtjRgu.jpg', 'credit_id': '5cf69c090e0a2665bdcadf84', 'department': 'Production', 'job': 'Casting'}, {'adult': False, 'gender': 0, 'id': 1162830, 'known_for_department': 'Art', 'name': 'Luke Hull', 'original_name': 'Luke Hull', 'popularity': 1.4, 'profile_path': '/xe3PPk6oE3e0St7r4g4sYky1GTJ.jpg', 'credit_id': '5cf69c299251411882c2cf06', 'department': 'Art', 'job': 'Production Design'}, {'adult': False, 'gender': 2, 'id': 1299324, 'known_for_department': 'Art', 'name': 'Gavin Fitch', 'original_name': 'Gavin Fitch', 'popularity': 1.73, 'profile_path': None, 'credit_id': '5cf69c350e0a2619d3d0fc63', 'department': 'Art', 'job': 'Art Direction'}, {'adult': False, 'gender': 0, 'id': 1462967, 'known_for_department': 'Art', 'name': 'Max Klaentschi', 'original_name': 'Max Klaentschi', 'popularity': 0.6, 'profile_path': None, 'credit_id': '5cf69c609251411882c2cf91', 'department': 'Art', 'job': 'Art Direction'}, {'adult': False, 'gender': 0, 'id': 2329664, 'known_for_department': 'Art', 'name': 'Claire Levinson-Gendler', 'original_name': 'Claire Levinson-Gendler', 'popularity': 0.98, 'profile_path': None, 'credit_id': '5cf69c7b9251411882c2cfb2', 'department': 'Art', 'job': 'Set Decoration'}, {'adult': False, 'gender': 0, 'id': 2341462, 'known_for_department': 'Production', 'name': 'Birute Masaityte-Judickiene', 'original_name': 'Birute Masaityte-Judickiene', 'popularity': 0.6, 'profile_path': None, 'credit_id': '5d09214292514163bab96fd9', 'department': 'Production', 'job': 'Assistant Production Coordinator'}, {'adult': False, 'gender': 0, 'id': 2341476, 'known_for_department': 'Production', 'name': 'Karolis Kasikauskas', 'original_name': 'Karolis Kasikauskas', 'popularity': 0.6, 'profile_path': None, 'credit_id': '5d0922760e0a2628abcad983', 'department': 'Production', 'job': 'Key Set Production Assistant'}, {'adult': False, 'gender': 2, 'id': 2063095, 'known_for_department': 'Art', 'name': 'Neil Floyd', 'original_name': 'Neil Floyd', 'popularity': 1.598, 'profile_path': '/zGGIfRNdCnr0lLnUTw2sql46wxw.jpg', 'credit_id': '5d09248bc3a368647c1f6257', 'department': 'Art', 'job': 'Graphic Designer'}, {'adult': False, 'gender': 2, 'id': 1727369, 'known_for_department': 'Art', 'name': \"James O'Brien\", 'original_name': \"James O'Brien\", 'popularity': 0.828, 'profile_path': None, 'credit_id': '5d09251d0e0a265ca3caeefc', 'department': 'Art', 'job': 'Sculptor'}, {'adult': False, 'gender': 0, 'id': 2341502, 'known_for_department': 'Art', 'name': 'Arturas But', 'original_name': 'Arturas But', 'popularity': 0.6, 'profile_path': None, 'credit_id': '5d09268292514135eab974f9', 'department': 'Art', 'job': 'Set Dresser'}, {'adult': False, 'gender': 0, 'id': 2341515, 'known_for_department': 'Art', 'name': 'Paulius Dranseika', 'original_name': 'Paulius Dranseika', 'popularity': 0.6, 'profile_path': None, 'credit_id': '5d09275bc3a368647c1f6c2e', 'department': 'Art', 'job': 'Standby Carpenter'}, {'adult': False, 'gender': 0, 'id': 2341539, 'known_for_department': 'Sound', 'name': 'Nicolas Fejoz', 'original_name': 'Nicolas Fejoz', 'popularity': 0.6, 'profile_path': None, 'credit_id': '5d0929740e0a267ffbcb0189', 'department': 'Sound', 'job': 'Boom Operator'}, {'adult': False, 'gender': 0, 'id': 1598655, 'known_for_department': 'Lighting', 'name': 'Vidmantas Kralikauskas', 'original_name': 'Vidmantas Kralikauskas', 'popularity': 0.73, 'profile_path': None, 'credit_id': '5d0929b30e0a2630d0cadf61', 'department': 'Lighting', 'job': 'Electrician'}, {'adult': False, 'gender': 0, 'id': 2341543, 'known_for_department': 'Lighting', 'name': 'Dmitrij Sinelscikov', 'original_name': 'Dmitrij Sinelscikov', 'popularity': 1.38, 'profile_path': None, 'credit_id': '5d0929d1c3a3687c751f4dc3', 'department': 'Lighting', 'job': 'Electrician'}, {'adult': False, 'gender': 0, 'id': 2255474, 'known_for_department': 'Writing', 'name': 'Vėjūnė Tamuliūnaitė', 'original_name': 'Vėjūnė Tamuliūnaitė', 'popularity': 0.6, 'profile_path': None, 'credit_id': '5d092b2c0e0a267fe0cb0ae2', 'department': 'Costume & Make-Up', 'job': 'Costume Assistant'}, {'adult': False, 'gender': 0, 'id': 2341558, 'known_for_department': 'Costume & Make-Up', 'name': 'Giedre Matuleviciene', 'original_name': 'Giedre Matuleviciene', 'popularity': 0.6, 'profile_path': None, 'credit_id': '5d092b830e0a2628abcaeaa8', 'department': 'Costume & Make-Up', 'job': 'Seamstress'}, {'adult': False, 'gender': 0, 'id': 1137222, 'known_for_department': 'Costume & Make-Up', 'name': 'Julio Parodi', 'original_name': 'Julio Parodi', 'popularity': 0.6, 'profile_path': None, 'credit_id': '5d092bb9c3a368647c1f72aa', 'department': 'Costume & Make-Up', 'job': 'Hair Supervisor'}, {'adult': False, 'gender': 0, 'id': 2078684, 'known_for_department': 'Costume & Make-Up', 'name': 'Victoria Money', 'original_name': 'Victoria Money', 'popularity': 0.6, 'profile_path': None, 'credit_id': '5d092d7d0e0a2630d0cae46f', 'department': 'Costume & Make-Up', 'job': 'Prosthetic Makeup Artist'}, {'adult': False, 'gender': 0, 'id': 2341592, 'known_for_department': 'Directing', 'name': 'Francesc Prat Duten', 'original_name': 'Francesc Prat Duten', 'popularity': 0.694, 'profile_path': None, 'credit_id': '5d092e9ec3a3687c751f53ff', 'department': 'Directing', 'job': 'Second Unit First Assistant Director'}, {'adult': False, 'gender': 0, 'id': 2341612, 'known_for_department': 'Crew', 'name': 'Duane Lafayette-Barton', 'original_name': 'Duane Lafayette-Barton', 'popularity': 0.6, 'profile_path': None, 'credit_id': '5d09310692514101b2b9947b', 'department': 'Crew', 'job': 'Visual Effects Editor'}, {'adult': False, 'gender': 1, 'id': 1895004, 'known_for_department': 'Production', 'name': 'Nicola Morrow', 'original_name': 'Nicola Morrow', 'popularity': 0.6, 'profile_path': None, 'credit_id': '5d092117c3a3680efe1f0efb', 'department': 'Production', 'job': 'Production Manager'}, {'adult': False, 'gender': 1, 'id': 1999385, 'known_for_department': 'Production', 'name': 'Polly Jefferies', 'original_name': 'Polly Jefferies', 'popularity': 3.473, 'profile_path': None, 'credit_id': '5d09212cc3a368647c1f59d4', 'department': 'Production', 'job': 'Production Coordinator'}, {'adult': False, 'gender': 0, 'id': 2341475, 'known_for_department': 'Directing', 'name': 'Lukas Kudapcenka', 'original_name': 'Lukas Kudapcenka', 'popularity': 1.094, 'profile_path': None, 'credit_id': '5d09226b925141170cb97984', 'department': 'Directing', 'job': 'Third Assistant Director'}, {'adult': False, 'gender': 0, 'id': 2341512, 'known_for_department': 'Art', 'name': 'Emilija Einoryte', 'original_name': 'Emilija Einoryte', 'popularity': 0.608, 'profile_path': None, 'credit_id': '5d0926fac3a3683dd81f1f21', 'department': 'Art', 'job': 'Assistant Set Dresser'}, {'adult': False, 'gender': 0, 'id': 2341519, 'known_for_department': 'Crew', 'name': 'Tadas Ustinavicius', 'original_name': 'Tadas Ustinavicius', 'popularity': 0.6, 'profile_path': None, 'credit_id': '5d0927c90e0a267fe0cb04ad', 'department': 'Crew', 'job': 'Armorer'}, {'adult': False, 'gender': 0, 'id': 2040878, 'known_for_department': 'Camera', 'name': 'Henrikas Gudlevičius', 'original_name': 'Henrikas Gudlevičius', 'popularity': 0.6, 'profile_path': None, 'credit_id': '5d0928e692514101b2b986ae', 'department': 'Camera', 'job': 'Best Boy Grip'}, {'adult': False, 'gender': 0, 'id': 2341532, 'known_for_department': 'Crew', 'name': 'Matas Jankauskas', 'original_name': 'Matas Jankauskas', 'popularity': 0.6, 'profile_path': None, 'credit_id': '5d09292d0e0a266f99cb0617', 'department': 'Crew', 'job': 'Drone Operator'}, {'adult': False, 'gender': 0, 'id': 2341566, 'known_for_department': 'Costume & Make-Up', 'name': 'Jovana Jovanavic', 'original_name': 'Jovana Jovanavic', 'popularity': 0.6, 'profile_path': None, 'credit_id': '5d092c1fc3a3684c6a1f49b8', 'department': 'Costume & Make-Up', 'job': 'Makeup & Hair'}, {'adult': False, 'gender': 0, 'id': 2341586, 'known_for_department': 'Costume & Make-Up', 'name': 'Lucy Pittard', 'original_name': 'Lucy Pittard', 'popularity': 0.6, 'profile_path': None, 'credit_id': '5d092d9492514135eab97f9b', 'department': 'Costume & Make-Up', 'job': 'Prosthetic Makeup Artist'}, {'adult': False, 'gender': 0, 'id': 2341616, 'known_for_department': 'Visual Effects', 'name': 'Ting Yu Sylvester', 'original_name': 'Ting Yu Sylvester', 'popularity': 0.6, 'profile_path': None, 'credit_id': '5d09315e9251411dbab97771', 'department': 'Visual Effects', 'job': 'Visual Effects Compositor'}, {'adult': False, 'gender': 0, 'id': 2341627, 'known_for_department': 'Visual Effects', 'name': 'George Cressey', 'original_name': 'George Cressey', 'popularity': 0.674, 'profile_path': None, 'credit_id': '5d0931c1c3a36871861f70a7', 'department': 'Visual Effects', 'job': 'Visual Effects Compositor'}, {'adult': False, 'gender': 0, 'id': 1437159, 'known_for_department': 'Sound', 'name': 'Stuart Hilliker', 'original_name': 'Stuart Hilliker', 'popularity': 0.648, 'profile_path': None, 'credit_id': '5d0934890e0a266f99cb1c9f', 'department': 'Sound', 'job': 'Sound Re-Recording Mixer'}, {'adult': False, 'gender': 0, 'id': 1784591, 'known_for_department': 'Sound', 'name': 'Philip Clements', 'original_name': 'Philip Clements', 'popularity': 1.708, 'profile_path': None, 'credit_id': '5d0934f29251411dbab97f73', 'department': 'Sound', 'job': 'Foley Mixer'}, {'adult': False, 'gender': 1, 'id': 1598441, 'known_for_department': 'Production', 'name': 'Dalia Survilaitė', 'original_name': 'Dalia Survilaitė', 'popularity': 0.693, 'profile_path': '/bfNFQ0iOCimsSwjV0aTPtl2d0bg.jpg', 'credit_id': '5d0922dec3a36871861f5a50', 'department': 'Production', 'job': 'Local Casting'}, {'adult': False, 'gender': 0, 'id': 2341483, 'known_for_department': 'Production', 'name': 'Darius Baltusis', 'original_name': 'Darius Baltusis', 'popularity': 0.6, 'profile_path': None, 'credit_id': '5d092370c3a3685fdf1f0d20', 'department': 'Production', 'job': 'Assistant Location Manager'}, {'adult': False, 'gender': 0, 'id': 2341494, 'known_for_department': 'Art', 'name': 'Justas Paliukaitis', 'original_name': 'Justas Paliukaitis', 'popularity': 0.828, 'profile_path': None, 'credit_id': '5d0924c5925141170cb97d71', 'department': 'Art', 'job': 'Draughtsman'}, {'adult': False, 'gender': 2, 'id': 1424226, 'known_for_department': 'Camera', 'name': 'Ants Martin Vahur', 'original_name': 'Ants Martin Vahur', 'popularity': 0.6, 'profile_path': '/hMTkWwkBpAlrY7zsJKN1qHJmD5q.jpg', 'credit_id': '5d0927d79251417ea0b96132', 'department': 'Camera', 'job': '\"A\" Camera Operator'}, {'adult': False, 'gender': 0, 'id': 2341521, 'known_for_department': 'Camera', 'name': 'Mantautas Klimas', 'original_name': 'Mantautas Klimas', 'popularity': 0.6, 'profile_path': None, 'credit_id': '5d09283e92514150c1b9763c', 'department': 'Camera', 'job': 'Camera Trainee'}, {'adult': False, 'gender': 0, 'id': 1800638, 'known_for_department': 'Editing', 'name': 'Craig Ferreira', 'original_name': 'Craig Ferreira', 'popularity': 0.652, 'profile_path': None, 'credit_id': '5d092f1e9251415273b98a11', 'department': 'Editing', 'job': 'First Assistant Editor'}, {'adult': False, 'gender': 0, 'id': 1432620, 'known_for_department': 'Visual Effects', 'name': 'Max Dennison', 'original_name': 'Max Dennison', 'popularity': 0.656, 'profile_path': None, 'credit_id': '5d092fedc3a3680efe1f2e76', 'department': 'Visual Effects', 'job': 'Visual Effects Supervisor'}, {'adult': False, 'gender': 0, 'id': 2341623, 'known_for_department': 'Visual Effects', 'name': 'Alicia Aguilera', 'original_name': 'Alicia Aguilera', 'popularity': 0.98, 'profile_path': None, 'credit_id': '5d09319192514101b2b9952c', 'department': 'Visual Effects', 'job': 'Visual Effects Compositor'}, {'adult': False, 'gender': 0, 'id': 2144178, 'known_for_department': 'Visual Effects', 'name': 'Emily Greeley', 'original_name': 'Emily Greeley', 'popularity': 0.6, 'profile_path': None, 'credit_id': '5d0931edc3a368647c1f7d4a', 'department': 'Visual Effects', 'job': 'Visual Effects Compositor'}, {'adult': False, 'gender': 0, 'id': 2341639, 'known_for_department': 'Visual Effects', 'name': 'Jimmy Rogers', 'original_name': 'Jimmy Rogers', 'popularity': 0.6, 'profile_path': None, 'credit_id': '5d0932c492514135eab987f0', 'department': 'Visual Effects', 'job': '3D Artist'}, {'adult': False, 'gender': 0, 'id': 2341453, 'known_for_department': 'Visual Effects', 'name': 'Lindsay McFarlane', 'original_name': 'Lindsay McFarlane', 'popularity': 0.98, 'profile_path': None, 'credit_id': '5d0920a29251411dbab95707', 'department': 'Visual Effects', 'job': 'Visual Effects Producer'}, {'adult': False, 'gender': 0, 'id': 2175150, 'known_for_department': 'Production', 'name': 'Sarah Stiff', 'original_name': 'Sarah Stiff', 'popularity': 1.7, 'profile_path': None, 'credit_id': '5d0921fd92514150c1b96b30', 'department': 'Production', 'job': 'Assistant Accountant'}, {'adult': False, 'gender': 1, 'id': 2034126, 'known_for_department': 'Costume & Make-Up', 'name': 'Dalia Daugilytė', 'original_name': 'Dalia Daugilytė', 'popularity': 0.6, 'profile_path': None, 'credit_id': '5d0922f30e0a267ffbcaf2f0', 'department': 'Production', 'job': 'Casting Assistant'}, {'adult': False, 'gender': 0, 'id': 2341481, 'known_for_department': 'Production', 'name': 'Julius Karvelis', 'original_name': 'Julius Karvelis', 'popularity': 0.98, 'profile_path': None, 'credit_id': '5d09235bc3a3685bfc1f614c', 'department': 'Production', 'job': 'Assistant Location Manager'}, {'adult': False, 'gender': 0, 'id': 1599319, 'known_for_department': 'Art', 'name': 'Gintas Matonis', 'original_name': 'Gintas Matonis', 'popularity': 0.699, 'profile_path': None, 'credit_id': '5d0925a00e0a2630d0cad992', 'department': 'Art', 'job': 'Construction Manager'}, {'adult': False, 'gender': 1, 'id': 2341511, 'known_for_department': 'Art', 'name': 'Ieva Rojute', 'original_name': 'Ieva Rojute', 'popularity': 0.98, 'profile_path': None, 'credit_id': '5d0926ea0e0a267fe0cb0261', 'department': 'Art', 'job': 'Set Dressing Buyer'}, {'adult': False, 'gender': 0, 'id': 2341528, 'known_for_department': 'Camera', 'name': 'Dovydas Strioga', 'original_name': 'Dovydas Strioga', 'popularity': 0.84, 'profile_path': None, 'credit_id': '5d0928fb0e0a26317acaee53', 'department': 'Camera', 'job': 'Grip'}, {'adult': False, 'gender': 0, 'id': 2341555, 'known_for_department': 'Costume & Make-Up', 'name': 'Giedre Girdauskaite', 'original_name': 'Giedre Girdauskaite', 'popularity': 0.6, 'profile_path': None, 'credit_id': '5d092b229251411dbab96bd0', 'department': 'Costume & Make-Up', 'job': 'Costume Assistant'}, {'adult': False, 'gender': 0, 'id': 2341557, 'known_for_department': 'Costume & Make-Up', 'name': 'Natalija Samonenko', 'original_name': 'Natalija Samonenko', 'popularity': 0.6, 'profile_path': None, 'credit_id': '5d092b79c3a3680efe1f239f', 'department': 'Costume & Make-Up', 'job': 'Seamstress'}, {'adult': False, 'gender': 0, 'id': 2341569, 'known_for_department': 'Costume & Make-Up', 'name': 'Natalie Mitchell', 'original_name': 'Natalie Mitchell', 'popularity': 0.652, 'profile_path': None, 'credit_id': '5d092c3f92514101b2b98c4e', 'department': 'Costume & Make-Up', 'job': 'Makeup & Hair'}, {'adult': False, 'gender': 1, 'id': 1558021, 'known_for_department': 'Costume & Make-Up', 'name': 'Martina Byrne', 'original_name': 'Martina Byrne', 'popularity': 4.455, 'profile_path': None, 'credit_id': '5d092d320e0a26317acafa9c', 'department': 'Costume & Make-Up', 'job': 'Prosthetic Makeup Artist'}, {'adult': False, 'gender': 0, 'id': 2341589, 'known_for_department': 'Crew', 'name': 'Mac McGeary', 'original_name': 'Mac McGeary', 'popularity': 0.6, 'profile_path': None, 'credit_id': '5d092e350e0a265ca3cb027b', 'department': 'Crew', 'job': 'Health and Safety'}, {'adult': False, 'gender': 0, 'id': 2341636, 'known_for_department': 'Visual Effects', 'name': 'Harriette Cates', 'original_name': 'Harriette Cates', 'popularity': 0.649, 'profile_path': None, 'credit_id': '5d0932819251411dbab97a8a', 'department': 'Visual Effects', 'job': '3D Artist'}, {'adult': False, 'gender': 0, 'id': 2341651, 'known_for_department': 'Editing', 'name': 'Louise Stevenson', 'original_name': 'Louise Stevenson', 'popularity': 0.6, 'profile_path': None, 'credit_id': '5d0934640e0a267ffbcb1301', 'department': 'Editing', 'job': 'Digital Intermediate Producer'}, {'adult': False, 'gender': 0, 'id': 1784593, 'known_for_department': 'Sound', 'name': 'Anna Wright', 'original_name': 'Anna Wright', 'popularity': 2.744, 'profile_path': None, 'credit_id': '5d0934e60e0a266f99cb1d62', 'department': 'Sound', 'job': 'Foley Artist'}, {'adult': False, 'gender': 0, 'id': 1869409, 'known_for_department': 'Production', 'name': 'Cheyenne Conway', 'original_name': 'Cheyenne Conway', 'popularity': 0.6, 'profile_path': None, 'credit_id': '5d09210392514135eab969dd', 'department': 'Production', 'job': 'Production Manager'}, {'adult': False, 'gender': 0, 'id': 2341466, 'known_for_department': 'Production', 'name': 'Amy Sharman', 'original_name': 'Amy Sharman', 'popularity': 0.6, 'profile_path': None, 'credit_id': '5d0921720e0a2625adcafc5e', 'department': 'Production', 'job': 'Production Secretary'}, {'adult': False, 'gender': 0, 'id': 2341482, 'known_for_department': 'Production', 'name': 'Linas Astramskas', 'original_name': 'Linas Astramskas', 'popularity': 0.6, 'profile_path': None, 'credit_id': '5d0923660e0a2630d0cad621', 'department': 'Production', 'job': 'Assistant Location Manager'}, {'adult': False, 'gender': 0, 'id': 2341485, 'known_for_department': 'Production', 'name': 'Goda Gajauskaite', 'original_name': 'Goda Gajauskaite', 'popularity': 0.704, 'profile_path': None, 'credit_id': '5d092385c3a3683dd81f1973', 'department': 'Production', 'job': 'Assistant Location Manager'}, {'adult': False, 'gender': 0, 'id': 2341487, 'known_for_department': 'Production', 'name': 'Donatas Bakanas', 'original_name': 'Donatas Bakanas', 'popularity': 0.6, 'profile_path': None, 'credit_id': '5d09239ac3a3683dd81f1982', 'department': 'Production', 'job': 'Unit Manager'}, {'adult': False, 'gender': 0, 'id': 2341499, 'known_for_department': 'Art', 'name': 'Martynas Vinciunas', 'original_name': 'Martynas Vinciunas', 'popularity': 0.6, 'profile_path': None, 'credit_id': '5d0926640e0a2630d0cadaa3', 'department': 'Art', 'job': 'Set Dresser'}, {'adult': False, 'gender': 0, 'id': 2341504, 'known_for_department': 'Art', 'name': 'Martynas Kosas', 'original_name': 'Martynas Kosas', 'popularity': 0.6, 'profile_path': None, 'credit_id': '5d0926a2c3a3683dd81f1ea0', 'department': 'Art', 'job': 'Set Dresser'}, {'adult': False, 'gender': 0, 'id': 1999135, 'known_for_department': 'Camera', 'name': 'Sofia Larsson', 'original_name': 'Sofia Larsson', 'popularity': 1.669, 'profile_path': None, 'credit_id': '5d0928010e0a265ca3caf43f', 'department': 'Camera', 'job': 'First Assistant \"A\" Camera'}, {'adult': False, 'gender': 1, 'id': 2341520, 'known_for_department': 'Camera', 'name': 'Karin Jakobsson', 'original_name': 'Karin Jakobsson', 'popularity': 0.6, 'profile_path': None, 'credit_id': '5d09282192514101b2b985ca', 'department': 'Camera', 'job': 'Second Assistant \"A\" Camera'}, {'adult': False, 'gender': 2, 'id': 1223587, 'known_for_department': 'Camera', 'name': 'Saulius Lukoševičius', 'original_name': 'Saulius Lukoševičius', 'popularity': 0.692, 'profile_path': '/eSyvyWRiHRgw25kPPgIVrCZNa0Z.jpg', 'credit_id': '5d09286dc3a3683dd81f25ff', 'department': 'Camera', 'job': 'Additional Camera'}, {'adult': False, 'gender': 0, 'id': 2030347, 'known_for_department': 'Lighting', 'name': 'Giedrius Bukaitis', 'original_name': 'Giedrius Bukaitis', 'popularity': 0.646, 'profile_path': None, 'credit_id': '5d0929a90e0a2628abcae7c6', 'department': 'Lighting', 'job': 'Best Boy Electrician'}, {'adult': False, 'gender': 0, 'id': 583081, 'known_for_department': 'Production', 'name': 'Dalia Vizgirdaite', 'original_name': 'Dalia Vizgirdaite', 'popularity': 1.176, 'profile_path': None, 'credit_id': '5d092b1792514163bab98123', 'department': 'Costume & Make-Up', 'job': 'Costume Assistant'}, {'adult': False, 'gender': 0, 'id': 1915131, 'known_for_department': 'Visual Effects', 'name': 'Luke Letkey', 'original_name': 'Luke Letkey', 'popularity': 1.993, 'profile_path': None, 'credit_id': '5d0930339251411dbab975c2', 'department': 'Visual Effects', 'job': '2D Supervisor'}, {'adult': False, 'gender': 0, 'id': 2156180, 'known_for_department': 'Crew', 'name': 'Vasco Cerqueira', 'original_name': 'Vasco Cerqueira', 'popularity': 0.694, 'profile_path': None, 'credit_id': '5d0931ccc3a3684c6a1f5535', 'department': 'Visual Effects', 'job': 'Visual Effects Compositor'}, {'adult': False, 'gender': 0, 'id': 2341642, 'known_for_department': 'Visual Effects', 'name': 'Elisenda Faustino', 'original_name': 'Elisenda Faustino', 'popularity': 0.6, 'profile_path': None, 'credit_id': '5d0932e592514150c1b98550', 'department': 'Visual Effects', 'job': '3D Artist'}, {'adult': False, 'gender': 0, 'id': 2341467, 'known_for_department': 'Production', 'name': 'Aukse Veitaite', 'original_name': 'Aukse Veitaite', 'popularity': 0.652, 'profile_path': None, 'credit_id': '5d09217c92514101b2b976f3', 'department': 'Production', 'job': 'Production Secretary'}, {'adult': False, 'gender': 0, 'id': 1458560, 'known_for_department': 'Directing', 'name': 'Chris Roufs', 'original_name': 'Chris Roufs', 'popularity': 1.438, 'profile_path': None, 'credit_id': '5d0922279251417ea0b95649', 'department': 'Directing', 'job': 'Script Supervisor'}, {'adult': False, 'gender': 0, 'id': 2341488, 'known_for_department': 'Production', 'name': 'Justinas Breimelis', 'original_name': 'Justinas Breimelis', 'popularity': 0.6, 'profile_path': None, 'credit_id': '5d0923a50e0a26317acae36d', 'department': 'Production', 'job': 'Assistant Unit Manager'}, {'adult': False, 'gender': 0, 'id': 2341498, 'known_for_department': 'Art', 'name': 'Felicity Hickman', 'original_name': 'Felicity Hickman', 'popularity': 0.6, 'profile_path': None, 'credit_id': '5d0926420e0a266f99caffe6', 'department': 'Art', 'job': 'Set Decoration Buyer'}, {'adult': False, 'gender': 0, 'id': 2341506, 'known_for_department': 'Art', 'name': 'Ona Kvintaité', 'original_name': 'Ona Kvintaité', 'popularity': 0.6, 'profile_path': None, 'credit_id': '5d0926b6c3a36871861f609e', 'department': 'Art', 'job': 'Set Dresser'}, {'adult': False, 'gender': 2, 'id': 1584092, 'known_for_department': 'Camera', 'name': 'Rolandas Joneliūkštis', 'original_name': 'Rolandas Joneliūkštis', 'popularity': 0.6, 'profile_path': '/ip5DyPwktpCtsFPvCfqvZgvxTXD.jpg', 'credit_id': '5d092812c3a3684c6a1f41d0', 'department': 'Camera', 'job': 'First Assistant \"B\" Camera'}, {'adult': False, 'gender': 0, 'id': 2033577, 'known_for_department': 'Camera', 'name': 'Aleksandr Petrovskij', 'original_name': 'Aleksandr Petrovskij', 'popularity': 0.652, 'profile_path': None, 'credit_id': '5d09282fc3a368647c1f6d72', 'department': 'Camera', 'job': 'Second Assistant \"B\" Camera'}, {'adult': False, 'gender': 2, 'id': 54259, 'known_for_department': 'Camera', 'name': 'Rimvydas Leipus', 'original_name': 'Rimvydas Leipus', 'popularity': 0.6, 'profile_path': '/8fjhX9rYD5fWcgMfmLJdBqet9Q2.jpg', 'credit_id': '5d0928879251411dbab96712', 'department': 'Camera', 'job': 'Additional Camera'}, {'adult': False, 'gender': 0, 'id': 2341527, 'known_for_department': 'Camera', 'name': 'Marius Zilenas', 'original_name': 'Marius Zilenas', 'popularity': 0.657, 'profile_path': None, 'credit_id': '5d0928f19251417ea0b96254', 'department': 'Camera', 'job': 'Grip'}, {'adult': False, 'gender': 0, 'id': 2341537, 'known_for_department': 'Crew', 'name': 'Matas Jurginis', 'original_name': 'Matas Jurginis', 'popularity': 0.6, 'profile_path': None, 'credit_id': '5d09295fc3a3683dd81f2879', 'department': 'Crew', 'job': 'Video Assist Operator'}, {'adult': False, 'gender': 0, 'id': 2341545, 'known_for_department': 'Lighting', 'name': 'Ricardas Rutkauskas', 'original_name': 'Ricardas Rutkauskas', 'popularity': 0.84, 'profile_path': None, 'credit_id': '5d0929db9251417ea0b964b3', 'department': 'Lighting', 'job': 'Electrician'}, {'adult': False, 'gender': 2, 'id': 1076269, 'known_for_department': 'Camera', 'name': 'J-P Passi', 'original_name': 'J-P Passi', 'popularity': 1.614, 'profile_path': '/onqLlpKOu6JirTzd240GK4mxCAj.jpg', 'credit_id': '5d092e609251411dbab972ac', 'department': 'Camera', 'job': 'Second Unit Director of Photography'}, {'adult': False, 'gender': 2, 'id': 1541694, 'known_for_department': 'Sound', 'name': 'Evyen Klean', 'original_name': 'Evyen Klean', 'popularity': 1.823, 'profile_path': None, 'credit_id': '5d092f0a0e0a26317acafe3a', 'department': 'Sound', 'job': 'Music Supervisor'}, {'adult': False, 'gender': 1, 'id': 2341605, 'known_for_department': 'Visual Effects', 'name': 'Clare Cheetham', 'original_name': 'Clare Cheetham', 'popularity': 0.6, 'profile_path': None, 'credit_id': '5d092ffe9251411dbab9759a', 'department': 'Visual Effects', 'job': 'Visual Effects Producer'}, {'adult': False, 'gender': 0, 'id': 1946990, 'known_for_department': 'Visual Effects', 'name': 'Paul Jones', 'original_name': 'Paul Jones', 'popularity': 0.776, 'profile_path': None, 'credit_id': '5d0930120e0a26317acb032d', 'department': 'Visual Effects', 'job': 'Visual Effects Producer'}, {'adult': False, 'gender': 0, 'id': 2341624, 'known_for_department': 'Visual Effects', 'name': 'Colin Eade', 'original_name': 'Colin Eade', 'popularity': 1.008, 'profile_path': None, 'credit_id': '5d09319c0e0a2630d0caeb17', 'department': 'Visual Effects', 'job': 'Visual Effects Compositor'}, {'adult': False, 'gender': 0, 'id': 2341625, 'known_for_department': 'Visual Effects', 'name': 'Guled Ahmed', 'original_name': 'Guled Ahmed', 'popularity': 0.6, 'profile_path': None, 'credit_id': '5d0931b50e0a267ffbcb0ecc', 'department': 'Visual Effects', 'job': 'Visual Effects Compositor'}, {'adult': False, 'gender': 0, 'id': 2341640, 'known_for_department': 'Visual Effects', 'name': 'William Carley', 'original_name': 'William Carley', 'popularity': 0.6, 'profile_path': None, 'credit_id': '5d0932ce92514163bab98f32', 'department': 'Visual Effects', 'job': '3D Artist'}, {'adult': False, 'gender': 0, 'id': 2341644, 'known_for_department': 'Visual Effects', 'name': 'Heidi Elliott', 'original_name': 'Heidi Elliott', 'popularity': 0.632, 'profile_path': None, 'credit_id': '5d0933a20e0a266f99cb1b26', 'department': 'Visual Effects', 'job': 'Animation'}, {'adult': False, 'gender': 0, 'id': 2341647, 'known_for_department': 'Visual Effects', 'name': 'Connor Kitto', 'original_name': 'Connor Kitto', 'popularity': 0.728, 'profile_path': None, 'credit_id': '5d0934000e0a266f99cb1b9e', 'department': 'Visual Effects', 'job': 'Matchmove Supervisor'}, {'adult': False, 'gender': 2, 'id': 2148424, 'known_for_department': 'Editing', 'name': 'Jean-Clement Soret', 'original_name': 'Jean-Clement Soret', 'popularity': 0.6, 'profile_path': None, 'credit_id': '5d093413c3a36871861f7749', 'department': 'Editing', 'job': 'Colorist'}, {'adult': False, 'gender': 2, 'id': 1433199, 'known_for_department': 'Costume & Make-Up', 'name': 'Daniel Parker', 'original_name': 'Daniel Parker', 'popularity': 4.329, 'profile_path': '/6R9bendPyhqzwBowOikmuSU6gKH.jpg', 'credit_id': '5d0920739251415273b97256', 'department': 'Costume & Make-Up', 'job': 'Prosthetic Designer'}, {'adult': False, 'gender': 0, 'id': 2341470, 'known_for_department': 'Production', 'name': 'Karen Walker', 'original_name': 'Karen Walker', 'popularity': 0.6, 'profile_path': None, 'credit_id': '5d0921d49251411dbab95813', 'department': 'Production', 'job': 'Second Assistant Accountant'}, {'adult': False, 'gender': 0, 'id': 2063009, 'known_for_department': 'Production', 'name': 'Jackie Gilbey', 'original_name': 'Jackie Gilbey', 'popularity': 0.84, 'profile_path': None, 'credit_id': '5d09220b9251417ea0b9563c', 'department': 'Production', 'job': 'Assistant Accountant'}, {'adult': False, 'gender': 0, 'id': 2341480, 'known_for_department': 'Production', 'name': 'Vita Survilaite', 'original_name': 'Vita Survilaite', 'popularity': 1.11, 'profile_path': None, 'credit_id': '5d0922e8925141170cb97a51', 'department': 'Production', 'job': 'Casting Assistant'}, {'adult': False, 'gender': 0, 'id': 2341490, 'known_for_department': 'Crew', 'name': 'Vasilij Kazakevic', 'original_name': 'Vasilij Kazakevic', 'popularity': 1.128, 'profile_path': None, 'credit_id': '5d0923e3c3a3685fdf1f0dd7', 'department': 'Crew', 'job': 'Transportation Captain'}, {'adult': False, 'gender': 0, 'id': 1318520, 'known_for_department': 'Art', 'name': 'Astrid Sieben', 'original_name': 'Astrid Sieben', 'popularity': 1.679, 'profile_path': None, 'credit_id': '5d0924789251417ea0b95997', 'department': 'Art', 'job': 'Standby Art Director'}, {'adult': False, 'gender': 0, 'id': 2341533, 'known_for_department': 'Crew', 'name': 'Gustav Gerdes', 'original_name': 'Gustav Gerdes', 'popularity': 0.6, 'profile_path': None, 'credit_id': '5d092938c3a3685bfc1f717f', 'department': 'Crew', 'job': 'Drone Operator'}, {'adult': False, 'gender': 0, 'id': 2341538, 'known_for_department': 'Sound', 'name': 'Vincent Piponnier', 'original_name': 'Vincent Piponnier', 'popularity': 1.14, 'profile_path': None, 'credit_id': '5d0929690e0a267fe0cb0820', 'department': 'Sound', 'job': 'Sound Recordist'}, {'adult': False, 'gender': 2, 'id': 1598502, 'known_for_department': 'Lighting', 'name': 'Egidijus Braziūnas', 'original_name': 'Egidijus Braziūnas', 'popularity': 0.652, 'profile_path': None, 'credit_id': '5d09299bc3a36871861f6557', 'department': 'Lighting', 'job': 'Rigging Gaffer'}, {'adult': False, 'gender': 0, 'id': 2341541, 'known_for_department': 'Lighting', 'name': 'Jonas Balys Paslauskas', 'original_name': 'Jonas Balys Paslauskas', 'popularity': 0.6, 'profile_path': None, 'credit_id': '5d0929bdc3a3684c6a1f4682', 'department': 'Lighting', 'job': 'Electrician'}, {'adult': False, 'gender': 0, 'id': 2307750, 'known_for_department': 'Costume & Make-Up', 'name': 'Holly McLean', 'original_name': 'Holly McLean', 'popularity': 1.231, 'profile_path': None, 'credit_id': '5d092a87c3a3684c6a1f475c', 'department': 'Costume & Make-Up', 'job': 'Assistant Costume Designer'}, {'adult': False, 'gender': 1, 'id': 2341560, 'known_for_department': 'Costume & Make-Up', 'name': 'Natasha Nikolic-Dunlop', 'original_name': 'Natasha Nikolic-Dunlop', 'popularity': 0.6, 'profile_path': None, 'credit_id': '5d092ba9c3a3687c751f5052', 'department': 'Costume & Make-Up', 'job': 'Makeup Supervisor'}, {'adult': False, 'gender': 0, 'id': 2341611, 'known_for_department': 'Visual Effects', 'name': 'George Butler', 'original_name': 'George Butler', 'popularity': 0.6, 'profile_path': None, 'credit_id': '5d09309b92514163bab98b46', 'department': 'Visual Effects', 'job': 'Visual Effects Production Assistant'}, {'adult': False, 'gender': 2, 'id': 16684, 'known_for_department': 'Sound', 'name': 'Stefan Henrix', 'original_name': 'Stefan Henrix', 'popularity': 2.588, 'profile_path': None, 'credit_id': '5d09349492514101b2b99b67', 'department': 'Sound', 'job': 'Supervising Sound Editor'}, {'adult': False, 'gender': 0, 'id': 2341516, 'known_for_department': 'Art', 'name': 'Vitalij Strigunkov', 'original_name': 'Vitalij Strigunkov', 'popularity': 1.015, 'profile_path': None, 'credit_id': '5d09276c0e0a2628abcae2de', 'department': 'Art', 'job': 'Standby Painter'}, {'adult': False, 'gender': 0, 'id': 2341529, 'known_for_department': 'Crew', 'name': 'Janne Jannsen', 'original_name': 'Janne Jannsen', 'popularity': 0.6, 'profile_path': None, 'credit_id': '5d0929050e0a2630d0cade9c', 'department': 'Crew', 'job': 'Drone Operator'}, {'adult': False, 'gender': 0, 'id': 2341550, 'known_for_department': 'Costume & Make-Up', 'name': 'Anna Munro', 'original_name': 'Anna Munro', 'popularity': 0.919, 'profile_path': None, 'credit_id': '5d092a919251411dbab96b1e', 'department': 'Costume & Make-Up', 'job': 'Costume Supervisor'}, {'adult': False, 'gender': 0, 'id': 2341554, 'known_for_department': 'Costume & Make-Up', 'name': 'Greta Vitkauskaite', 'original_name': 'Greta Vitkauskaite', 'popularity': 0.84, 'profile_path': None, 'credit_id': '5d092b0c9251411dbab96ba2', 'department': 'Costume & Make-Up', 'job': 'Costume Assistant'}, {'adult': False, 'gender': 0, 'id': 2033565, 'known_for_department': 'Costume & Make-Up', 'name': 'Rūta Padvelskytė', 'original_name': 'Rūta Padvelskytė', 'popularity': 1.38, 'profile_path': None, 'credit_id': '5d092ce50e0a2628abcaed5f', 'department': 'Costume & Make-Up', 'job': 'Makeup Trainee'}, {'adult': False, 'gender': 2, 'id': 1123761, 'known_for_department': 'Directing', 'name': 'Måns Månsson', 'original_name': 'Måns Månsson', 'popularity': 1.705, 'profile_path': '/9n1DRjOHfdRycslTDnfbgrebKAI.jpg', 'credit_id': '5d092e520e0a2625adcb15be', 'department': 'Directing', 'job': 'Second Unit Director'}, {'adult': False, 'gender': 0, 'id': 2236052, 'known_for_department': 'Visual Effects', 'name': 'Philipp Kratzer', 'original_name': 'Philipp Kratzer', 'popularity': 0.6, 'profile_path': None, 'credit_id': '5d09323c9251411dbab979f5', 'department': 'Visual Effects', 'job': 'VFX Artist'}, {'adult': False, 'gender': 0, 'id': 2341633, 'known_for_department': 'Visual Effects', 'name': 'Lukas Niemczyk', 'original_name': 'Lukas Niemczyk', 'popularity': 0.6, 'profile_path': None, 'credit_id': '5d093251c3a368647c1f7ef8', 'department': 'Visual Effects', 'job': 'VFX Artist'}, {'adult': False, 'gender': 0, 'id': 2341635, 'known_for_department': 'Visual Effects', 'name': 'Andrew Robertson', 'original_name': 'Andrew Robertson', 'popularity': 0.6, 'profile_path': None, 'credit_id': '5d09327492514150c1b984cc', 'department': 'Visual Effects', 'job': '3D Artist'}, {'adult': False, 'gender': 0, 'id': 1459880, 'known_for_department': 'Visual Effects', 'name': 'Stafford Lawrence', 'original_name': 'Stafford Lawrence', 'popularity': 2.58, 'profile_path': None, 'credit_id': '5d09336e92514163bab990a3', 'department': 'Visual Effects', 'job': 'Animation Supervisor'}, {'adult': False, 'gender': 0, 'id': 2341454, 'known_for_department': 'Directing', 'name': 'David Meanti', 'original_name': 'David Meanti', 'popularity': 1.508, 'profile_path': None, 'credit_id': '5d0920b4c3a3680efe1f0e9f', 'department': 'Directing', 'job': 'First Assistant Director'}, {'adult': False, 'gender': 0, 'id': 2313937, 'known_for_department': 'Production', 'name': 'Jacqueline Lesko', 'original_name': 'Jacqueline Lesko', 'popularity': 0.6, 'profile_path': None, 'credit_id': '5d0920c292514150c1b9693c', 'department': 'Production', 'job': 'Co-Producer'}, {'adult': False, 'gender': 0, 'id': 2341465, 'known_for_department': 'Production', 'name': 'Aiste Borjas', 'original_name': 'Aiste Borjas', 'popularity': 0.6, 'profile_path': None, 'credit_id': '5d092157c3a36871861f5770', 'department': 'Production', 'job': 'Travel Coordinator'}, {'adult': False, 'gender': 0, 'id': 2034070, 'known_for_department': 'Crew', 'name': 'Simonas Šaineris', 'original_name': 'Simonas Šaineris', 'popularity': 0.6, 'profile_path': None, 'credit_id': '5d0922820e0a2625adcafd7a', 'department': 'Crew', 'job': 'Set Production Assistant'}, {'adult': False, 'gender': 0, 'id': 1533490, 'known_for_department': 'Production', 'name': 'Martin Ware', 'original_name': 'Martin Ware', 'popularity': 4.393, 'profile_path': None, 'credit_id': '5d0922cf0e0a267fe0cafa62', 'department': 'Production', 'job': 'Casting Associate'}, {'adult': False, 'gender': 0, 'id': 1967592, 'known_for_department': 'Crew', 'name': 'Naomi Joy Todd', 'original_name': 'Naomi Joy Todd', 'popularity': 0.6, 'profile_path': None, 'credit_id': '5d092314c3a3684c6a1f36b6', 'department': 'Crew', 'job': 'Dialect Coach'}, {'adult': False, 'gender': 2, 'id': 2034053, 'known_for_department': 'Art', 'name': 'Ainis Jankauskas', 'original_name': 'Ainis Jankauskas', 'popularity': 0.608, 'profile_path': None, 'credit_id': '5d0924620e0a2628abcadc73', 'department': 'Art', 'job': 'Art Direction'}, {'adult': False, 'gender': 0, 'id': 2341517, 'known_for_department': 'Crew', 'name': 'Jo Vaughan', 'original_name': 'Jo Vaughan', 'popularity': 0.755, 'profile_path': None, 'credit_id': '5d09279ec3a36871861f61a8', 'department': 'Crew', 'job': 'Animal Wrangler'}, {'adult': False, 'gender': 2, 'id': 2341546, 'known_for_department': 'Lighting', 'name': 'Jonas Cepulis', 'original_name': 'Jonas Cepulis', 'popularity': 0.6, 'profile_path': '/4jyL2CdZdopc6ey5jCcgcehEyeJ.jpg', 'credit_id': '5d0929e592514150c1b978c3', 'department': 'Lighting', 'job': 'Electrician'}, {'adult': False, 'gender': 0, 'id': 583084, 'known_for_department': 'Costume & Make-Up', 'name': 'Daiva Petrulytė', 'original_name': 'Daiva Petrulytė', 'popularity': 0.949, 'profile_path': None, 'credit_id': '5d092a0cc3a368647c1f7028', 'department': 'Costume & Make-Up', 'job': 'Assistant Costume Designer'}, {'adult': False, 'gender': 0, 'id': 2341553, 'known_for_department': 'Costume & Make-Up', 'name': 'Greta Butrimaviciute', 'original_name': 'Greta Butrimaviciute', 'popularity': 0.6, 'profile_path': None, 'credit_id': '5d092b029251415273b984e1', 'department': 'Costume & Make-Up', 'job': 'Costume Assistant'}, {'adult': False, 'gender': 0, 'id': 2341556, 'known_for_department': 'Costume & Make-Up', 'name': 'Aliona Abasova', 'original_name': 'Aliona Abasova', 'popularity': 0.606, 'profile_path': None, 'credit_id': '5d092b680e0a2628abcaea89', 'department': 'Costume & Make-Up', 'job': 'Seamstress'}, {'adult': False, 'gender': 0, 'id': 1592210, 'known_for_department': 'Costume & Make-Up', 'name': 'Paul Spateri', 'original_name': 'Paul Spateri', 'popularity': 0.6, 'profile_path': None, 'credit_id': '5d092d0e0e0a267ffbcb075a', 'department': 'Costume & Make-Up', 'job': 'Prosthetic Supervisor'}, {'adult': False, 'gender': 0, 'id': 2019970, 'known_for_department': 'Costume & Make-Up', 'name': 'Hannah Eccleston', 'original_name': 'Hannah Eccleston', 'popularity': 0.6, 'profile_path': None, 'credit_id': '5d092d4a9251415273b9882a', 'department': 'Costume & Make-Up', 'job': 'Prosthetic Makeup Artist'}, {'adult': False, 'gender': 0, 'id': 1955042, 'known_for_department': 'Costume & Make-Up', 'name': 'Lucy Sibbick', 'original_name': 'Lucy Sibbick', 'popularity': 0.656, 'profile_path': None, 'credit_id': '5d092d890e0a266f99cb1283', 'department': 'Costume & Make-Up', 'job': 'Prosthetic Makeup Artist'}, {'adult': False, 'gender': 0, 'id': 2341591, 'known_for_department': 'Production', 'name': 'Aivaras Sidla', 'original_name': 'Aivaras Sidla', 'popularity': 0.6, 'profile_path': None, 'credit_id': '5d092e73c3a368647c1f7684', 'department': 'Production', 'job': 'Second Unit Location Manager'}, {'adult': False, 'gender': 0, 'id': 2341607, 'known_for_department': 'Visual Effects', 'name': 'Robyn Woolley', 'original_name': 'Robyn Woolley', 'popularity': 0.6, 'profile_path': None, 'credit_id': '5d09305f92514135eab98410', 'department': 'Visual Effects', 'job': 'Visual Effects Production Assistant'}, {'adult': False, 'gender': 0, 'id': 2341610, 'known_for_department': 'Visual Effects', 'name': 'Beth Hart', 'original_name': 'Beth Hart', 'popularity': 0.6, 'profile_path': None, 'credit_id': '5d09308e9251415273b98c0e', 'department': 'Visual Effects', 'job': 'Visual Effects Production Assistant'}, {'adult': False, 'gender': 2, 'id': 1433199, 'known_for_department': 'Costume & Make-Up', 'name': 'Daniel Parker', 'original_name': 'Daniel Parker', 'popularity': 4.329, 'profile_path': '/6R9bendPyhqzwBowOikmuSU6gKH.jpg', 'credit_id': '5d092063c3a3683dd81f1585', 'department': 'Costume & Make-Up', 'job': 'Makeup Designer'}, {'adult': False, 'gender': 0, 'id': 2341459, 'known_for_department': 'Production', 'name': 'Mantautas Kvedaras', 'original_name': 'Mantautas Kvedaras', 'popularity': 0.828, 'profile_path': None, 'credit_id': '5d0921220e0a2628abcad76d', 'department': 'Production', 'job': 'Production Manager'}, {'adult': False, 'gender': 0, 'id': 2341474, 'known_for_department': 'Directing', 'name': 'Tautvydas Savukaitis', 'original_name': 'Tautvydas Savukaitis', 'popularity': 0.6, 'profile_path': None, 'credit_id': '5d092243c3a3687c751f403a', 'department': 'Directing', 'job': 'Second Second Assistant Director'}, {'adult': False, 'gender': 2, 'id': 1427557, 'known_for_department': 'Camera', 'name': 'Liam Daniel', 'original_name': 'Liam Daniel', 'popularity': 3.361, 'profile_path': None, 'credit_id': '5d092303925141170cb97a79', 'department': 'Camera', 'job': 'Still Photographer'}, {'adult': False, 'gender': 0, 'id': 2341484, 'known_for_department': 'Production', 'name': 'Aurelijus Silkinis', 'original_name': 'Aurelijus Silkinis', 'popularity': 0.6, 'profile_path': None, 'credit_id': '5d09237a0e0a26317acae34f', 'department': 'Production', 'job': 'Assistant Location Manager'}, {'adult': False, 'gender': 0, 'id': 2341491, 'known_for_department': 'Art', 'name': 'Tomas Jankauskas', 'original_name': 'Tomas Jankauskas', 'popularity': 0.6, 'profile_path': None, 'credit_id': '5d0924950e0a265ca3caedd0', 'department': 'Art', 'job': 'Graphic Designer'}, {'adult': False, 'gender': 0, 'id': 2194814, 'known_for_department': 'Art', 'name': 'Ieva Buzinskaite', 'original_name': 'Ieva Buzinskaite', 'popularity': 0.6, 'profile_path': None, 'credit_id': '5d0924d10e0a2628abcadd64', 'department': 'Art', 'job': 'Art Department Coordinator'}, {'adult': False, 'gender': 1, 'id': 1599045, 'known_for_department': 'Costume & Make-Up', 'name': 'Žaneta Jasiūnienė', 'original_name': 'Žaneta Jasiūnienė', 'popularity': 0.945, 'profile_path': None, 'credit_id': '5d092c53c3a3687c751f5180', 'department': 'Costume & Make-Up', 'job': 'Makeup & Hair'}, {'adult': False, 'gender': 0, 'id': 2151295, 'known_for_department': 'Crew', 'name': 'Tom Pegg', 'original_name': 'Tom Pegg', 'popularity': 0.84, 'profile_path': None, 'credit_id': '5d093186c3a3685bfc1f8470', 'department': 'Visual Effects', 'job': 'Visual Effects Compositor'}, {'adult': False, 'gender': 0, 'id': 2156209, 'known_for_department': 'Visual Effects', 'name': 'Alistair Darby', 'original_name': 'Alistair Darby', 'popularity': 1.22, 'profile_path': None, 'credit_id': '5d09328b0e0a265ca3cb0bf0', 'department': 'Visual Effects', 'job': '3D Artist'}, {'adult': False, 'gender': 0, 'id': 2341638, 'known_for_department': 'Visual Effects', 'name': 'Nessa Zhang Mingfang', 'original_name': 'Nessa Zhang Mingfang', 'popularity': 0.6, 'profile_path': None, 'credit_id': '5d0932ac92514101b2b99829', 'department': 'Visual Effects', 'job': '3D Artist'}, {'adult': False, 'gender': 0, 'id': 2341646, 'known_for_department': 'Visual Effects', 'name': 'Terry Tsang', 'original_name': 'Terry Tsang', 'popularity': 0.648, 'profile_path': None, 'credit_id': '5d0933c50e0a267fe0cb1b19', 'department': 'Visual Effects', 'job': 'Roto Supervisor'}, {'adult': False, 'gender': 0, 'id': 2341652, 'known_for_department': 'Editing', 'name': 'Nick Timms', 'original_name': 'Nick Timms', 'popularity': 1.008, 'profile_path': None, 'credit_id': '5d09347cc3a3684c6a1f5ac4', 'department': 'Editing', 'job': 'Online Editor'}, {'adult': False, 'gender': 0, 'id': 2341472, 'known_for_department': 'Production', 'name': 'Kristina Valvoliene', 'original_name': 'Kristina Valvoliene', 'popularity': 0.6, 'profile_path': None, 'credit_id': '5d0921f3c3a3680efe1f10e4', 'department': 'Production', 'job': 'Assistant Accountant'}, {'adult': False, 'gender': 1, 'id': 2034176, 'known_for_department': 'Crew', 'name': 'Evelina Verčinskaja', 'original_name': 'Evelina Verčinskaja', 'popularity': 0.853, 'profile_path': None, 'credit_id': '5d0922539251415273b97573', 'department': 'Directing', 'job': 'Second Second Assistant Director'}, {'adult': False, 'gender': 0, 'id': 2341510, 'known_for_department': 'Art', 'name': 'Evaldas Simelevicius', 'original_name': 'Evaldas Simelevicius', 'popularity': 0.6, 'profile_path': None, 'credit_id': '5d0926e0c3a368647c1f6af0', 'department': 'Art', 'job': 'Set Dressing Buyer'}, {'adult': False, 'gender': 0, 'id': 2341513, 'known_for_department': 'Art', 'name': 'Darius Stelmokas', 'original_name': 'Darius Stelmokas', 'popularity': 0.654, 'profile_path': None, 'credit_id': '5d092705c3a3680efe1f1bbc', 'department': 'Art', 'job': 'Assistant Set Dresser'}, {'adult': False, 'gender': 0, 'id': 2341524, 'known_for_department': 'Camera', 'name': 'Titas Obelenis', 'original_name': 'Titas Obelenis', 'popularity': 0.6, 'profile_path': None, 'credit_id': '5d09289ec3a3680efe1f1fe5', 'department': 'Camera', 'job': 'Data Wrangler'}, {'adult': False, 'gender': 1, 'id': 1330910, 'known_for_department': 'Costume & Make-Up', 'name': 'Sylvie Ong', 'original_name': 'Sylvie Ong', 'popularity': 0.612, 'profile_path': None, 'credit_id': '5d092a9c9251417ea0b96650', 'department': 'Costume & Make-Up', 'job': 'Costume Supervisor'}, {'adult': False, 'gender': 0, 'id': 2341551, 'known_for_department': 'Costume & Make-Up', 'name': 'Gerda Kajeniene', 'original_name': 'Gerda Kajeniene', 'popularity': 0.694, 'profile_path': None, 'credit_id': '5d092aa7c3a3683dd81f2a74', 'department': 'Costume & Make-Up', 'job': 'Wardrobe Supervisor'}, {'adult': False, 'gender': 1, 'id': 2341567, 'known_for_department': 'Costume & Make-Up', 'name': 'Marta Skalska', 'original_name': 'Marta Skalska', 'popularity': 0.6, 'profile_path': None, 'credit_id': '5d092c32c3a3683dd81f2cd4', 'department': 'Costume & Make-Up', 'job': 'Makeup & Hair'}, {'adult': False, 'gender': 1, 'id': 2034771, 'known_for_department': 'Costume & Make-Up', 'name': 'Rūta Miglinaitė', 'original_name': 'Rūta Miglinaitė', 'popularity': 0.656, 'profile_path': None, 'credit_id': '5d092cc6c3a368647c1f74ad', 'department': 'Costume & Make-Up', 'job': 'Makeup & Hair'}, {'adult': False, 'gender': 0, 'id': 2307103, 'known_for_department': 'Directing', 'name': 'Eleanor Rogers', 'original_name': 'Eleanor Rogers', 'popularity': 0.6, 'profile_path': None, 'credit_id': '5d0931aac3a3680efe1f3406', 'department': 'Visual Effects', 'job': 'Visual Effects Compositor'}, {'adult': False, 'gender': 0, 'id': 2341632, 'known_for_department': 'Visual Effects', 'name': 'Phil Gifford', 'original_name': 'Phil Gifford', 'popularity': 0.732, 'profile_path': None, 'credit_id': '5d0932470e0a26317acb0672', 'department': 'Visual Effects', 'job': 'VFX Artist'}, {'adult': False, 'gender': 0, 'id': 2341641, 'known_for_department': 'Visual Effects', 'name': 'Mark Pascoe', 'original_name': 'Mark Pascoe', 'popularity': 0.6, 'profile_path': None, 'credit_id': '5d0932d90e0a266f99cb1a1f', 'department': 'Visual Effects', 'job': '3D Artist'}, {'adult': False, 'gender': 2, 'id': 1403459, 'known_for_department': 'Production', 'name': 'Robert How', 'original_name': 'Robert How', 'popularity': 1.9, 'profile_path': None, 'credit_id': '5d09208f9251415273b9727d', 'department': 'Production', 'job': 'Line Producer'}, {'adult': False, 'gender': 0, 'id': 2341457, 'known_for_department': 'Crew', 'name': 'Elaine Waugh', 'original_name': 'Elaine Waugh', 'popularity': 1.38, 'profile_path': None, 'credit_id': '5d0920f1c3a36871861f56f8', 'department': 'Crew', 'job': 'Post Production Supervisor'}, {'adult': False, 'gender': 0, 'id': 2095098, 'known_for_department': 'Art', 'name': 'Anita Dhillon', 'original_name': 'Anita Dhillon', 'popularity': 0.74, 'profile_path': None, 'credit_id': '5d092481c3a3684c6a1f390b', 'department': 'Art', 'job': 'Graphic Designer'}, {'adult': False, 'gender': 0, 'id': 2341493, 'known_for_department': 'Art', 'name': 'Domantas Jakucionis', 'original_name': 'Domantas Jakucionis', 'popularity': 0.6, 'profile_path': None, 'credit_id': '5d0924ba92514163bab975bb', 'department': 'Art', 'job': 'Draughtsman'}, {'adult': False, 'gender': 0, 'id': 2341495, 'known_for_department': 'Art', 'name': 'Jone Grubyte', 'original_name': 'Jone Grubyte', 'popularity': 0.6, 'profile_path': None, 'credit_id': '5d0924db0e0a26317acae65d', 'department': 'Art', 'job': 'Art Department Assistant'}, {'adult': False, 'gender': 0, 'id': 2194809, 'known_for_department': 'Art', 'name': 'Lina Geciene', 'original_name': 'Lina Geciene', 'popularity': 0.982, 'profile_path': None, 'credit_id': '5d09262ec3a3687c751f47c9', 'department': 'Art', 'job': 'Assistant Set Decoration'}, {'adult': False, 'gender': 0, 'id': 2341508, 'known_for_department': 'Art', 'name': 'Andrius Savickas', 'original_name': 'Andrius Savickas', 'popularity': 0.6, 'profile_path': None, 'credit_id': '5d0926c8c3a3687c751f482d', 'department': 'Art', 'job': 'Set Dresser'}, {'adult': False, 'gender': 0, 'id': 2341514, 'known_for_department': 'Art', 'name': 'Justin Hayzelden', 'original_name': 'Justin Hayzelden', 'popularity': 0.608, 'profile_path': None, 'credit_id': '5d0927120e0a26317acaead0', 'department': 'Art', 'job': 'Property Master'}, {'adult': False, 'gender': 0, 'id': 2132100, 'known_for_department': 'Camera', 'name': 'Jonas Burnickis', 'original_name': 'Jonas Burnickis', 'popularity': 0.6, 'profile_path': None, 'credit_id': '5d0929230e0a266f99cb05fc', 'department': 'Crew', 'job': 'Drone Operator'}, {'adult': False, 'gender': 0, 'id': 2341536, 'known_for_department': 'Crew', 'name': 'Nikolas Verseckas', 'original_name': 'Nikolas Verseckas', 'popularity': 0.6, 'profile_path': None, 'credit_id': '5d092955c3a3687c751f4ca5', 'department': 'Crew', 'job': 'Video Assist Operator'}, {'adult': False, 'gender': 0, 'id': 2341585, 'known_for_department': 'Costume & Make-Up', 'name': 'Chloe Muton-Philips', 'original_name': 'Chloe Muton-Philips', 'popularity': 0.6, 'profile_path': None, 'credit_id': '5d092d7092514163bab98666', 'department': 'Costume & Make-Up', 'job': 'Prosthetic Makeup Artist'}, {'adult': False, 'gender': 0, 'id': 2341587, 'known_for_department': 'Crew', 'name': 'Philip Braunschober', 'original_name': 'Philip Braunschober', 'popularity': 0.6, 'profile_path': None, 'credit_id': '5d092df50e0a266f99cb12fc', 'department': 'Crew', 'job': 'Special Effects Technician'}, {'adult': False, 'gender': 0, 'id': 2341606, 'known_for_department': 'Visual Effects', 'name': 'Steven Godfrey', 'original_name': 'Steven Godfrey', 'popularity': 0.6, 'profile_path': None, 'credit_id': '5d0930260e0a266f99cb15e6', 'department': 'Visual Effects', 'job': '3D Supervisor'}, {'adult': False, 'gender': 0, 'id': 2341621, 'known_for_department': 'Visual Effects', 'name': 'Alice Locuratolo', 'original_name': 'Alice Locuratolo', 'popularity': 0.6, 'profile_path': None, 'credit_id': '5d093179c3a3687c751f5fb8', 'department': 'Visual Effects', 'job': 'Visual Effects Compositor'}, {'adult': False, 'gender': 0, 'id': 2341628, 'known_for_department': 'Visual Effects', 'name': 'Jay Murray', 'original_name': 'Jay Murray', 'popularity': 0.6, 'profile_path': None, 'credit_id': '5d0931d7c3a368647c1f7d3c', 'department': 'Visual Effects', 'job': 'Visual Effects Compositor'}, {'adult': False, 'gender': 0, 'id': 2341637, 'known_for_department': 'Visual Effects', 'name': 'James Robson', 'original_name': 'James Robson', 'popularity': 0.6, 'profile_path': None, 'credit_id': '5d0932970e0a26317acb06f1', 'department': 'Visual Effects', 'job': '3D Artist'}, {'adult': False, 'gender': 0, 'id': 1860338, 'known_for_department': 'Visual Effects', 'name': 'Andy Potter', 'original_name': 'Andy Potter', 'popularity': 0.6, 'profile_path': None, 'credit_id': '5d0932b80e0a2625adcb1f92', 'department': 'Visual Effects', 'job': '3D Artist'}, {'adult': False, 'gender': 0, 'id': 2341654, 'known_for_department': 'Production', 'name': 'Magali Gibert', 'original_name': 'Magali Gibert', 'popularity': 0.884, 'profile_path': None, 'credit_id': '5d09351f0e0a2630d0caf25f', 'department': 'Production', 'job': 'Head of Production'}, {'adult': False, 'gender': 0, 'id': 2341469, 'known_for_department': 'Production', 'name': 'Rita Struziene', 'original_name': 'Rita Struziene', 'popularity': 0.6, 'profile_path': None, 'credit_id': '5d0921a90e0a266f99caf768', 'department': 'Production', 'job': 'Production Accountant'}, {'adult': False, 'gender': 0, 'id': 2341489, 'known_for_department': 'Production', 'name': 'Andrius Zvaliauskas', 'original_name': 'Andrius Zvaliauskas', 'popularity': 0.6, 'profile_path': None, 'credit_id': '5d0923b092514135eab96ed3', 'department': 'Production', 'job': 'Assistant Unit Manager'}, {'adult': False, 'gender': 1, 'id': 34005, 'known_for_department': 'Art', 'name': 'Karen Wakefield', 'original_name': 'Karen Wakefield', 'popularity': 1.432, 'profile_path': None, 'credit_id': '5d0923ffc3a36871861f5c22', 'department': 'Art', 'job': 'Supervising Art Director'}, {'adult': False, 'gender': 0, 'id': 2033562, 'known_for_department': 'Art', 'name': 'Andrius Zubkaitis', 'original_name': 'Andrius Zubkaitis', 'popularity': 0.622, 'profile_path': None, 'credit_id': '5d09264e92514101b2b982c8', 'department': 'Art', 'job': 'Leadman'}, {'adult': False, 'gender': 0, 'id': 2341505, 'known_for_department': 'Art', 'name': 'Martynas Baltrusaitis', 'original_name': 'Martynas Baltrusaitis', 'popularity': 0.728, 'profile_path': None, 'credit_id': '5d0926ac92514101b2b9833e', 'department': 'Art', 'job': 'Set Dresser'}, {'adult': False, 'gender': 0, 'id': 2341518, 'known_for_department': 'Crew', 'name': 'Gwen Griffiths', 'original_name': 'Gwen Griffiths', 'popularity': 0.607, 'profile_path': None, 'credit_id': '5d0927aac3a368647c1f6c71', 'department': 'Crew', 'job': 'Animal Wrangler'}, {'adult': False, 'gender': 0, 'id': 1366635, 'known_for_department': 'Crew', 'name': 'Filip Lyman', 'original_name': 'Filip Lyman', 'popularity': 0.6, 'profile_path': None, 'credit_id': '5d0927f00e0a2630d0cadc9d', 'department': 'Camera', 'job': '\"B\" Camera Operator'}, {'adult': False, 'gender': 2, 'id': 1076269, 'known_for_department': 'Camera', 'name': 'J-P Passi', 'original_name': 'J-P Passi', 'popularity': 1.614, 'profile_path': '/onqLlpKOu6JirTzd240GK4mxCAj.jpg', 'credit_id': '5d09284fc3a3684c6a1f420f', 'department': 'Camera', 'job': 'Additional Camera'}, {'adult': False, 'gender': 0, 'id': 2341531, 'known_for_department': 'Crew', 'name': 'Simonas Jakubauskas', 'original_name': 'Simonas Jakubauskas', 'popularity': 0.608, 'profile_path': None, 'credit_id': '5d0929190e0a267fe0cb077d', 'department': 'Crew', 'job': 'Drone Operator'}, {'adult': False, 'gender': 0, 'id': 2341561, 'known_for_department': 'Costume & Make-Up', 'name': 'Bozena Maisejenko', 'original_name': 'Bozena Maisejenko', 'popularity': 1.048, 'profile_path': None, 'credit_id': '5d092bd1c3a3685fdf1f1dc9', 'department': 'Costume & Make-Up', 'job': 'Makeup Supervisor'}, {'adult': False, 'gender': 0, 'id': 2341561, 'known_for_department': 'Costume & Make-Up', 'name': 'Bozena Maisejenko', 'original_name': 'Bozena Maisejenko', 'popularity': 1.048, 'profile_path': None, 'credit_id': '5d092be90e0a267ffbcb05a8', 'department': 'Costume & Make-Up', 'job': 'Hair Supervisor'}, {'adult': False, 'gender': 0, 'id': 2341565, 'known_for_department': 'Costume & Make-Up', 'name': 'Ula Pakalniskyte', 'original_name': 'Ula Pakalniskyte', 'popularity': 1.541, 'profile_path': None, 'credit_id': '5d092bf7c3a3685fdf1f1df0', 'department': 'Costume & Make-Up', 'job': 'Makeup Supervisor'}, {'adult': False, 'gender': 0, 'id': 2341583, 'known_for_department': 'Costume & Make-Up', 'name': 'Emma Faulkes', 'original_name': 'Emma Faulkes', 'popularity': 0.6, 'profile_path': None, 'credit_id': '5d092d560e0a26317acafadc', 'department': 'Costume & Make-Up', 'job': 'Prosthetic Makeup Artist'}, {'adult': False, 'gender': 0, 'id': 1942666, 'known_for_department': 'Costume & Make-Up', 'name': 'Kati Hood', 'original_name': 'Kati Hood', 'popularity': 1.565, 'profile_path': None, 'credit_id': '5d092d64c3a3687c751f529d', 'department': 'Costume & Make-Up', 'job': 'Prosthetic Makeup Artist'}, {'adult': False, 'gender': 2, 'id': 1554758, 'known_for_department': 'Visual Effects', 'name': 'Claudius Rauch', 'original_name': 'Claudius Rauch', 'popularity': 0.87, 'profile_path': None, 'credit_id': '5d092dccc3a3680efe1f27e2', 'department': 'Visual Effects', 'job': 'Special Effects Supervisor'}, {'adult': False, 'gender': 0, 'id': 2341588, 'known_for_department': 'Crew', 'name': 'Linas Kuzminskas', 'original_name': 'Linas Kuzminskas', 'popularity': 0.6, 'profile_path': None, 'credit_id': '5d092e06c3a3687c751f533e', 'department': 'Crew', 'job': 'Special Effects Technician'}, {'adult': False, 'gender': 0, 'id': 2153782, 'known_for_department': 'Crew', 'name': 'James Cox', 'original_name': 'James Cox', 'popularity': 0.608, 'profile_path': None, 'credit_id': '5d092e2bc3a3680efe1f2881', 'department': 'Crew', 'job': 'Health and Safety'}, {'adult': False, 'gender': 0, 'id': 2341590, 'known_for_department': 'Crew', 'name': 'Asta Cancingeriene', 'original_name': 'Asta Cancingeriene', 'popularity': 1.382, 'profile_path': None, 'credit_id': '5d092e44c3a3684c6a1f4f9e', 'department': 'Crew', 'job': 'Unit Medic'}, {'adult': False, 'gender': 0, 'id': 2341608, 'known_for_department': 'Visual Effects', 'name': 'Patrick Dean', 'original_name': 'Patrick Dean', 'popularity': 0.6, 'profile_path': None, 'credit_id': '5d0930730e0a267ffbcb0c74', 'department': 'Visual Effects', 'job': 'Visual Effects Production Assistant'}, {'adult': False, 'gender': 0, 'id': 2341629, 'known_for_department': 'Visual Effects', 'name': 'Paulo Darco', 'original_name': 'Paulo Darco', 'popularity': 1.38, 'profile_path': None, 'credit_id': '5d0931e2c3a3685bfc1f853e', 'department': 'Visual Effects', 'job': 'Visual Effects Compositor'}, {'adult': False, 'gender': 0, 'id': 2236056, 'known_for_department': 'Visual Effects', 'name': 'Jan Hrebicek', 'original_name': 'Jan Hrebicek', 'popularity': 0.6, 'profile_path': None, 'credit_id': '5d0932a1c3a3683dd81f3da9', 'department': 'Visual Effects', 'job': '3D Artist'}, {'adult': False, 'gender': 0, 'id': 2341650, 'known_for_department': 'Editing', 'name': 'Charlotte Laing', 'original_name': 'Charlotte Laing', 'popularity': 0.6, 'profile_path': None, 'credit_id': '5d093455c3a3685bfc1f8b23', 'department': 'Editing', 'job': 'Digital Intermediate Producer'}, {'adult': False, 'gender': 0, 'id': 1409295, 'known_for_department': 'Sound', 'name': 'Michael Maroussas', 'original_name': 'Michael Maroussas', 'popularity': 2.744, 'profile_path': None, 'credit_id': '5d0934aac3a3683dd81f41a4', 'department': 'Sound', 'job': 'Dialogue Editor'}, {'adult': False, 'gender': 0, 'id': 2341460, 'known_for_department': 'Production', 'name': 'Ieva Svitojute', 'original_name': 'Ieva Svitojute', 'popularity': 1.186, 'profile_path': None, 'credit_id': '5d092136c3a3685fdf1f098c', 'department': 'Production', 'job': 'Production Coordinator'}, {'adult': False, 'gender': 0, 'id': 2341468, 'known_for_department': 'Production', 'name': 'Egle Zajankauskaite', 'original_name': 'Egle Zajankauskaite', 'popularity': 0.6, 'profile_path': None, 'credit_id': '5d0921870e0a2625adcafc6e', 'department': 'Production', 'job': 'Production Assistant'}, {'adult': False, 'gender': 0, 'id': 2341473, 'known_for_department': 'Directing', 'name': 'Brett Thomas', 'original_name': 'Brett Thomas', 'popularity': 0.98, 'profile_path': None, 'credit_id': '5d09223992514163bab9716d', 'department': 'Directing', 'job': 'Second Assistant Director'}, {'adult': False, 'gender': 0, 'id': 2341486, 'known_for_department': 'Art', 'name': 'Vytautas Riabovas', 'original_name': 'Vytautas Riabovas', 'popularity': 0.608, 'profile_path': None, 'credit_id': '5d09238f9251415273b9779d', 'department': 'Art', 'job': 'Location Scout'}, {'adult': False, 'gender': 0, 'id': 2341500, 'known_for_department': 'Art', 'name': 'Marius Smailys', 'original_name': 'Marius Smailys', 'popularity': 0.6, 'profile_path': None, 'credit_id': '5d09266e92514135eab974e6', 'department': 'Art', 'job': 'Set Dresser'}, {'adult': False, 'gender': 0, 'id': 2341501, 'known_for_department': 'Art', 'name': 'Grigory Kutsenko', 'original_name': 'Grigory Kutsenko', 'popularity': 0.6, 'profile_path': None, 'credit_id': '5d0926789251411dbab96223', 'department': 'Art', 'job': 'Set Dresser'}, {'adult': False, 'gender': 0, 'id': 2341507, 'known_for_department': 'Art', 'name': 'Jurgis Paskevicius', 'original_name': 'Jurgis Paskevicius', 'popularity': 0.6, 'profile_path': None, 'credit_id': '5d0926bf0e0a265ca3caf1fa', 'department': 'Art', 'job': 'Set Dresser'}, {'adult': False, 'gender': 0, 'id': 2341530, 'known_for_department': 'Crew', 'name': 'Christian Pellving', 'original_name': 'Christian Pellving', 'popularity': 0.6, 'profile_path': None, 'credit_id': '5d09290f0e0a2630d0cadea8', 'department': 'Crew', 'job': 'Drone Operator'}, {'adult': False, 'gender': 2, 'id': 23457, 'known_for_department': 'Costume & Make-Up', 'name': 'Barrie Gower', 'original_name': 'Barrie Gower', 'popularity': 4.804, 'profile_path': '/w4aurjKq2sIGPHZSpjLDp6BIHV2.jpg', 'credit_id': '5d092cfdc3a3684c6a1f4baf', 'department': 'Costume & Make-Up', 'job': 'Prosthetic Supervisor'}, {'adult': False, 'gender': 0, 'id': 2341593, 'known_for_department': 'Crew', 'name': 'Liyana Mansor', 'original_name': 'Liyana Mansor', 'popularity': 1.214, 'profile_path': None, 'credit_id': '5d092f480e0a2630d0cae841', 'department': 'Crew', 'job': 'Visual Effects Editor'}, {'adult': False, 'gender': 0, 'id': 2341598, 'known_for_department': 'Visual Effects', 'name': 'Fay Hancocks', 'original_name': 'Fay Hancocks', 'popularity': 0.792, 'profile_path': None, 'credit_id': '5d092f8fc3a3685fdf1f22b3', 'department': 'Visual Effects', 'job': 'Visual Effects Production Manager'}, {'adult': False, 'gender': 0, 'id': 1150766, 'known_for_department': 'Art', 'name': 'Pete Baxter', 'original_name': 'Pete Baxter', 'popularity': 0.694, 'profile_path': None, 'credit_id': '5d09316f0e0a265ca3cb083a', 'department': 'Visual Effects', 'job': 'Visual Effects Compositor'}, {'adult': False, 'gender': 0, 'id': 2147083, 'known_for_department': 'Crew', 'name': 'Elena Topouzoglou', 'original_name': 'Elena Topouzoglou', 'popularity': 0.634, 'profile_path': None, 'credit_id': '5d093203c3a3685bfc1f855b', 'department': 'Visual Effects', 'job': 'Visual Effects Compositor'}, {'adult': False, 'gender': 0, 'id': 2341634, 'known_for_department': 'Visual Effects', 'name': 'Pasquale Riefoil', 'original_name': 'Pasquale Riefoil', 'popularity': 0.6, 'profile_path': None, 'credit_id': '5d09325c0e0a267ffbcb0fb9', 'department': 'Visual Effects', 'job': 'VFX Artist'}, {'adult': False, 'gender': 0, 'id': 2142857, 'known_for_department': 'Visual Effects', 'name': 'Eliot Speed', 'original_name': 'Eliot Speed', 'popularity': 0.884, 'profile_path': None, 'credit_id': '5d09337d9251411dbab97d1b', 'department': 'Visual Effects', 'job': 'Animation'}, {'adult': False, 'gender': 0, 'id': 1418322, 'known_for_department': 'Sound', 'name': 'Harry Barnes', 'original_name': 'Harry Barnes', 'popularity': 0.608, 'profile_path': None, 'credit_id': '5d0934b5c3a3687c751f659a', 'department': 'Sound', 'job': 'ADR Supervisor'}, {'adult': False, 'gender': 0, 'id': 2341464, 'known_for_department': 'Production', 'name': 'Une Liandzbergyte', 'original_name': 'Une Liandzbergyte', 'popularity': 0.6, 'profile_path': None, 'credit_id': '5d09214c92514101b2b976d0', 'department': 'Production', 'job': 'Assistant Production Coordinator'}, {'adult': False, 'gender': 0, 'id': 2341471, 'known_for_department': 'Production', 'name': 'Renata Dobrikiene', 'original_name': 'Renata Dobrikiene', 'popularity': 1.008, 'profile_path': None, 'credit_id': '5d0921e9c3a3685bfc1f5e6d', 'department': 'Production', 'job': 'Assistant Accountant'}, {'adult': False, 'gender': 0, 'id': 2341497, 'known_for_department': 'Crew', 'name': 'Nancy Connor', 'original_name': 'Nancy Connor', 'popularity': 0.6, 'profile_path': None, 'credit_id': '5d0925040e0a266f99cafc6f', 'department': 'Crew', 'job': 'Scenic Artist'}, {'adult': False, 'gender': 2, 'id': 1342653, 'known_for_department': 'Art', 'name': 'Renuaras Krivelis', 'original_name': 'Renuaras Krivelis', 'popularity': 0.766, 'profile_path': None, 'credit_id': '5d0925aa925141170cb98680', 'department': 'Art', 'job': 'Construction Manager'}, {'adult': False, 'gender': 0, 'id': 2341503, 'known_for_department': 'Art', 'name': 'Vytautas Ruminas', 'original_name': 'Vytautas Ruminas', 'popularity': 0.6, 'profile_path': None, 'credit_id': '5d0926970e0a2628abcae152', 'department': 'Art', 'job': 'Set Dresser'}, {'adult': False, 'gender': 2, 'id': 1424226, 'known_for_department': 'Camera', 'name': 'Ants Martin Vahur', 'original_name': 'Ants Martin Vahur', 'popularity': 0.6, 'profile_path': '/hMTkWwkBpAlrY7zsJKN1qHJmD5q.jpg', 'credit_id': '5d0927e2925141170cb98adf', 'department': 'Camera', 'job': 'Steadicam Operator'}, {'adult': False, 'gender': 0, 'id': 2259013, 'known_for_department': 'Camera', 'name': 'Audrius Budrys', 'original_name': 'Audrius Budrys', 'popularity': 1.094, 'profile_path': None, 'credit_id': '5d0928790e0a267ffbcaff3e', 'department': 'Camera', 'job': 'Additional Camera'}, {'adult': False, 'gender': 0, 'id': 2341525, 'known_for_department': 'Camera', 'name': 'Justinas Petravicius', 'original_name': 'Justinas Petravicius', 'popularity': 0.6, 'profile_path': None, 'credit_id': '5d0928c10e0a2628abcae56f', 'department': 'Camera', 'job': 'Data Wrangler'}, {'adult': False, 'gender': 0, 'id': 2341552, 'known_for_department': 'Costume & Make-Up', 'name': 'Jurga Kleizaitè', 'original_name': 'Jurga Kleizaitè', 'popularity': 0.828, 'profile_path': None, 'credit_id': '5d092af00e0a265ca3caf9a3', 'department': 'Costume & Make-Up', 'job': 'Costume Assistant'}, {'adult': False, 'gender': 0, 'id': 2341630, 'known_for_department': 'Visual Effects', 'name': 'Daniel Churchill', 'original_name': 'Daniel Churchill', 'popularity': 0.6, 'profile_path': None, 'credit_id': '5d0931f89251415273b98e30', 'department': 'Visual Effects', 'job': 'Visual Effects Compositor'}, {'adult': False, 'gender': 0, 'id': 2341631, 'known_for_department': 'Visual Effects', 'name': 'Jolan Auzeby', 'original_name': 'Jolan Auzeby', 'popularity': 0.6, 'profile_path': None, 'credit_id': '5d0932320e0a2628abcaf48c', 'department': 'Visual Effects', 'job': 'VFX Artist'}, {'adult': False, 'gender': 0, 'id': 1458549, 'known_for_department': 'Visual Effects', 'name': 'John Kay', 'original_name': 'John Kay', 'popularity': 0.6, 'profile_path': None, 'credit_id': '5d0933960e0a2630d0caefc4', 'department': 'Visual Effects', 'job': 'Animation'}, {'adult': False, 'gender': 0, 'id': 2341645, 'known_for_department': 'Visual Effects', 'name': 'Alex Alvarez', 'original_name': 'Alex Alvarez', 'popularity': 0.98, 'profile_path': None, 'credit_id': '5d0933b40e0a267ffbcb11df', 'department': 'Visual Effects', 'job': 'Animation'}, {'adult': False, 'gender': 0, 'id': 2341458, 'known_for_department': 'Production', 'name': 'Arnas Ringaitis', 'original_name': 'Arnas Ringaitis', 'popularity': 0.6, 'profile_path': None, 'credit_id': '5d09210dc3a3687c751f3e32', 'department': 'Production', 'job': 'Production Manager'}, {'adult': False, 'gender': 1, 'id': 1410203, 'known_for_department': 'Crew', 'name': 'Jill McCullough', 'original_name': 'Jill McCullough', 'popularity': 0.789, 'profile_path': None, 'credit_id': '5d09232a0e0a2625adcafe2a', 'department': 'Crew', 'job': 'Dialect Coach'}, {'adult': False, 'gender': 0, 'id': 2034155, 'known_for_department': 'Art', 'name': 'Evaldas Dabašinskas', 'original_name': 'Evaldas Dabašinskas', 'popularity': 0.612, 'profile_path': None, 'credit_id': '5d0923c192514163bab9746a', 'department': 'Crew', 'job': 'Transportation Coordinator'}, {'adult': False, 'gender': 0, 'id': 1713955, 'known_for_department': 'Art', 'name': 'Laura Ng', 'original_name': 'Laura Ng', 'popularity': 1.646, 'profile_path': None, 'credit_id': '5d09246e92514163bab9759e', 'department': 'Art', 'job': 'Standby Art Director'}, {'adult': False, 'gender': 0, 'id': 2341496, 'known_for_department': 'Crew', 'name': 'Dominee Reid', 'original_name': 'Dominee Reid', 'popularity': 0.658, 'profile_path': None, 'credit_id': '5d0924fa9251411dbab95d8d', 'department': 'Crew', 'job': 'Scenic Artist'}, {'adult': False, 'gender': 0, 'id': 2255279, 'known_for_department': 'Art', 'name': 'Donatas Pirstelis', 'original_name': 'Donatas Pirstelis', 'popularity': 0.835, 'profile_path': None, 'credit_id': '5d0925fa0e0a2630d0cad9df', 'department': 'Art', 'job': 'Construction Manager'}, {'adult': False, 'gender': 0, 'id': 2341509, 'known_for_department': 'Art', 'name': 'Justinas Baciuska', 'original_name': 'Justinas Baciuska', 'popularity': 0.6, 'profile_path': None, 'credit_id': '5d0926d60e0a26317acaea50', 'department': 'Art', 'job': 'Set Dressing Buyer'}, {'adult': False, 'gender': 2, 'id': 1329072, 'known_for_department': 'Camera', 'name': 'Feliksas Abrukauskas', 'original_name': 'Feliksas Abrukauskas', 'popularity': 0.617, 'profile_path': '/r3Gre3Rvo4W4iOzXRFvBVPYMeQE.jpg', 'credit_id': '5d09285cc3a3685fdf1f138e', 'department': 'Camera', 'job': 'Additional Camera'}, {'adult': False, 'gender': 0, 'id': 2341523, 'known_for_department': 'Camera', 'name': 'Marc-Jason Maier', 'original_name': 'Marc-Jason Maier', 'popularity': 1.052, 'profile_path': None, 'credit_id': '5d09289492514135eab978e5', 'department': 'Camera', 'job': 'Digital Imaging Technician'}, {'adult': False, 'gender': 0, 'id': 2341526, 'known_for_department': 'Camera', 'name': 'Vytas Gudlevicius', 'original_name': 'Vytas Gudlevicius', 'popularity': 0.995, 'profile_path': None, 'credit_id': '5d0928dc0e0a26317acaedf5', 'department': 'Camera', 'job': 'Key Grip'}, {'adult': False, 'gender': 0, 'id': 2341534, 'known_for_department': 'Crew', 'name': 'Gvido Puke', 'original_name': 'Gvido Puke', 'popularity': 1.286, 'profile_path': None, 'credit_id': '5d0929410e0a267fe0cb07ac', 'department': 'Crew', 'job': 'Drone Operator'}, {'adult': False, 'gender': 0, 'id': 927999, 'known_for_department': 'Lighting', 'name': 'Tobias Henriksson', 'original_name': 'Tobias Henriksson', 'popularity': 0.631, 'profile_path': None, 'credit_id': '5d09299192514101b2b98835', 'department': 'Lighting', 'job': 'Gaffer'}, {'adult': False, 'gender': 0, 'id': 2341542, 'known_for_department': 'Lighting', 'name': 'Zygimantas Strolia', 'original_name': 'Zygimantas Strolia', 'popularity': 0.6, 'profile_path': None, 'credit_id': '5d0929c7c3a3687c751f4db0', 'department': 'Lighting', 'job': 'Electrician'}, {'adult': False, 'gender': 0, 'id': 2341609, 'known_for_department': 'Visual Effects', 'name': 'Howard Truong', 'original_name': 'Howard Truong', 'popularity': 0.6, 'profile_path': None, 'credit_id': '5d09307e0e0a2628abcaf210', 'department': 'Visual Effects', 'job': 'Visual Effects Production Assistant'}, {'adult': False, 'gender': 1, 'id': 235811, 'known_for_department': 'Acting', 'name': 'Anita Berkhane', 'original_name': 'Anita Berkhane', 'popularity': 0.636, 'profile_path': '/6V4gqwg7KSPEFEZrCMQqwVb1KlU.jpg', 'credit_id': '5d0930f60e0a266f99cb16c8', 'department': 'Crew', 'job': 'Visual Effects Editor'}, {'adult': False, 'gender': 0, 'id': 2341643, 'known_for_department': 'Visual Effects', 'name': 'Colin Tunnicliffe', 'original_name': 'Colin Tunnicliffe', 'popularity': 0.694, 'profile_path': None, 'credit_id': '5d093388c3a3683dd81f3f5a', 'department': 'Visual Effects', 'job': 'Animation'}, {'adult': False, 'gender': 0, 'id': 1437156, 'known_for_department': 'Sound', 'name': 'Joe Beal', 'original_name': 'Joe Beal', 'popularity': 2.89, 'profile_path': None, 'credit_id': '5d0934a00e0a267ffbcb1387', 'department': 'Sound', 'job': 'Sound Designer'}, {'adult': False, 'gender': 2, 'id': 2487068, 'known_for_department': 'Sound', 'name': 'Tom Stewart', 'original_name': 'Tom Stewart', 'popularity': 0.605, 'profile_path': None, 'credit_id': '5dfd556f65686e0015912358', 'department': 'Sound', 'job': 'Foley Editor'}, {'adult': False, 'gender': 1, 'id': 2663404, 'known_for_department': 'Production', 'name': 'Yevheniia Yatsuta', 'original_name': 'Yevheniia Yatsuta', 'popularity': 1.114, 'profile_path': '/xz8nHEkMFSn3zlGVeUiHyy26KZ6.jpg', 'credit_id': '6102b59422931a0072246697', 'department': 'Production', 'job': 'Co-Producer'}, {'adult': False, 'gender': 2, 'id': 35796, 'known_for_department': 'Writing', 'name': 'Craig Mazin', 'original_name': 'Craig Mazin', 'popularity': 10.453, 'profile_path': '/uEhna6qcMuyU5TP7irpTUZ2ZsZc.jpg', 'credit_id': '61d785d9a3e4ba0019a19625', 'department': 'Writing', 'job': 'Screenplay'}, {'adult': False, 'gender': 1, 'id': 1337357, 'known_for_department': 'Art', 'name': 'Elo Soode', 'original_name': 'Elo Soode', 'popularity': 4.018, 'profile_path': None, 'credit_id': '644f8fa4124c8d02f57e5175', 'department': 'Art', 'job': 'Concept Artist'}, {'adult': False, 'gender': 1, 'id': 1337357, 'known_for_department': 'Art', 'name': 'Elo Soode', 'original_name': 'Elo Soode', 'popularity': 4.018, 'profile_path': None, 'credit_id': '64956e26d5ffcb011c5b064a', 'department': 'Art', 'job': 'Conceptual Design'}]}\n",
      "keywords : {'results': [{'name': 'based on true story', 'id': 9672}, {'name': 'miniseries', 'id': 11162}, {'name': 'nuclear catastrophe', 'id': 204146}, {'name': '1980s', 'id': 208289}, {'name': 'chernobyl', 'id': 210326}]}\n"
     ]
    }
   ],
   "source": [
    "for i in details:\n",
    "    print(i, ':', details[i])"
   ]
  },
  {
   "cell_type": "code",
   "execution_count": 87,
   "metadata": {},
   "outputs": [
    {
     "data": {
      "text/plain": [
       "'en'"
      ]
     },
     "execution_count": 87,
     "metadata": {},
     "output_type": "execute_result"
    }
   ],
   "source": [
    "f_01UTC['details']['original_language']"
   ]
  },
  {
   "cell_type": "code",
   "execution_count": 88,
   "metadata": {},
   "outputs": [
    {
     "name": "stdout",
     "output_type": "stream",
     "text": [
      "adult\n",
      "backdrop_path\n",
      "belongs_to_collection\n",
      "budget\n",
      "genres\n",
      "homepage\n",
      "id\n",
      "imdb_id\n",
      "original_language\n",
      "original_title\n",
      "overview\n",
      "popularity\n",
      "poster_path\n",
      "production_companies\n",
      "production_countries\n",
      "release_date\n",
      "revenue\n",
      "runtime\n",
      "spoken_languages\n",
      "status\n",
      "tagline\n",
      "title\n",
      "video\n",
      "vote_average\n",
      "vote_count\n",
      "videos\n",
      "trailers\n",
      "images\n",
      "casts\n",
      "translations\n",
      "keywords\n",
      "release_dates\n"
     ]
    }
   ],
   "source": [
    "for i in f_01UTC['details']:\n",
    "    print(i)"
   ]
  },
  {
   "cell_type": "code",
   "execution_count": 89,
   "metadata": {},
   "outputs": [
    {
     "data": {
      "text/plain": [
       "['en']"
      ]
     },
     "execution_count": 89,
     "metadata": {},
     "output_type": "execute_result"
    }
   ],
   "source": [
    "f_01U58['details']['languages']"
   ]
  },
  {
   "cell_type": "code",
   "execution_count": 118,
   "metadata": {},
   "outputs": [
    {
     "name": "stdout",
     "output_type": "stream",
     "text": [
      "Film ID is \"f_01U58\", title is \"Salem's Lot\", and TMDB id is \"16118\", while content type is \"tv\"\n"
     ]
    }
   ],
   "source": [
    "f_01U58_2 = create_movie_metadata_dict('f_01U58')"
   ]
  },
  {
   "cell_type": "code",
   "execution_count": 119,
   "metadata": {},
   "outputs": [
    {
     "data": {
      "text/plain": [
       "{'FILM_ID': 'f_01U58',\n",
       " 'belongs_to_collection': None,\n",
       " 'budget': None,\n",
       " 'original_language': 'en',\n",
       " 'popularity': 20.037,\n",
       " 'release_date': '1979-11-17',\n",
       " 'revenue': None,\n",
       " 'runtime': 184,\n",
       " 'status': 'Ended',\n",
       " 'vote_average': 6.9,\n",
       " 'vote_count': 383,\n",
       " 'keywords': {'results': [{'name': 'based on novel or book', 'id': 818}, {'name': 'vampire', 'id': 3133}, {'name': 'home', 'id': 1526}, {'name': 'return', 'id': 1571}, {'name': 'menace', 'id': 2250}, {'name': 'antiquary', 'id': 3095}, {'name': 'house', 'id': 6095}, {'name': 'miniseries', 'id': 11162}, {'name': 'writer', 'id': 13028}, {'name': 'new england', 'id': 41393}, {'name': 'hometown', 'id': 155808}, {'name': 'horror', 'id': 315058}]},\n",
       " 'casts': {'cast': [{'adult': False, 'gender': 2, 'id': 15956, 'known_for_department': 'Acting', 'name': 'David Soul', 'original_name': 'David Soul', 'popularity': 8.281, 'profile_path': '/y7fW77RzeqgBYeoTswsMfwy8FwI.jpg', 'character': 'Ben Mears', 'credit_id': '52584c96760ee34661008d4c', 'order': 0}, {'adult': False, 'gender': 2, 'id': 2091, 'known_for_department': 'Acting', 'name': 'James Mason', 'original_name': 'James Mason', 'popularity': 12.507, 'profile_path': '/ivmJl4jLgYoxI93EPgBehund505.jpg', 'character': 'Richard K. Straker', 'credit_id': '52584c96760ee34661008d3c', 'order': 1}, {'adult': False, 'gender': 2, 'id': 69070, 'known_for_department': 'Acting', 'name': 'Lance Kerwin', 'original_name': 'Lance Kerwin', 'popularity': 3.758, 'profile_path': '/3yg2UrvHsg7szu50kl7OggUIi2Y.jpg', 'character': 'Mark Petrie', 'credit_id': '52584c96760ee34661008dbc', 'order': 2}, {'adult': False, 'gender': 1, 'id': 7673, 'known_for_department': 'Acting', 'name': 'Bonnie Bedelia', 'original_name': 'Bonnie Bedelia', 'popularity': 15.365, 'profile_path': '/10JhoIaKHQGG0DNbQECTI4gHNn9.jpg', 'character': 'Susan Norton', 'credit_id': '52584c96760ee34661008d6c', 'order': 3}, {'adult': False, 'gender': 2, 'id': 2007, 'known_for_department': 'Acting', 'name': 'Lew Ayres', 'original_name': 'Lew Ayres', 'popularity': 3.566, 'profile_path': '/nNinKMWvSxrhiNMnMkbpUd4HEZO.jpg', 'character': 'Jason Burke', 'credit_id': '52584c96760ee34661008dac', 'order': 4}, {'adult': False, 'gender': 1, 'id': 121041, 'known_for_department': 'Acting', 'name': 'Julie Cobb', 'original_name': 'Julie Cobb', 'popularity': 3.023, 'profile_path': '/prvcvAH0v40WpdPdPBedTvEGqIA.jpg', 'character': 'Bonnie Sawyer', 'credit_id': '5a95f0179251417bd3000eca', 'order': 5}, {'adult': False, 'gender': 2, 'id': 3339, 'known_for_department': 'Acting', 'name': 'Elisha Cook Jr.', 'original_name': 'Elisha Cook Jr.', 'popularity': 2.421, 'profile_path': '/iOjQEbio1Asn19IDJqt08voTif0.jpg', 'character': \"Gordon 'Weasel' Phillips\", 'credit_id': '5a95f0179251417bd3000ecc', 'order': 6}, {'adult': False, 'gender': 2, 'id': 10477, 'known_for_department': 'Acting', 'name': 'George Dzundza', 'original_name': 'George Dzundza', 'popularity': 7.256, 'profile_path': '/wmnQQn0dFygl90M2N8tlWlpGHzV.jpg', 'character': 'Cully Sawyer', 'credit_id': '5a95f0179251417bd3000ece', 'order': 7}, {'adult': False, 'gender': 2, 'id': 70746, 'known_for_department': 'Acting', 'name': 'Ed Flanders', 'original_name': 'Ed Flanders', 'popularity': 2.061, 'profile_path': '/x88lHaesbu1ItCKIDnXn7VT8aTb.jpg', 'character': 'Dr. Bill Norton', 'credit_id': '52584c96760ee34661008d9c', 'order': 8}, {'adult': False, 'gender': 1, 'id': 124884, 'known_for_department': 'Acting', 'name': 'Clarissa Kaye-Mason', 'original_name': 'Clarissa Kaye-Mason', 'popularity': 2.222, 'profile_path': '/wlrvXursaxeqq2yGHWBBwHx5sOS.jpg', 'character': 'Majorie Glick', 'credit_id': '5a95f0179251417bd3000ed0', 'order': 9}, {'adult': False, 'gender': 2, 'id': 18071, 'known_for_department': 'Acting', 'name': 'Geoffrey Lewis', 'original_name': 'Geoffrey Lewis', 'popularity': 10.83, 'profile_path': '/codb8rrsNqnsq3e0MHkH3kAAJwg.jpg', 'character': 'Mike Ryerson', 'credit_id': '52584c96760ee34661008d8c', 'order': 10}, {'adult': False, 'gender': 2, 'id': 124885, 'known_for_department': 'Acting', 'name': 'Barney McFadden', 'original_name': 'Barney McFadden', 'popularity': 0.6, 'profile_path': None, 'character': 'Ned Tibbets', 'credit_id': '5a95f0179251417bd3000ed2', 'order': 11}, {'adult': False, 'gender': 2, 'id': 12521, 'known_for_department': 'Acting', 'name': 'Kenneth McMillan', 'original_name': 'Kenneth McMillan', 'popularity': 2.851, 'profile_path': '/iGRcxZOLPMCsgg06kYW1aVfxGqi.jpg', 'character': 'Constable Parkins Gillespie', 'credit_id': '52584c96760ee34661008d5c', 'order': 12}, {'adult': False, 'gender': 2, 'id': 20753, 'known_for_department': 'Acting', 'name': 'Fred Willard', 'original_name': 'Fred Willard', 'popularity': 4.115, 'profile_path': '/sHgg2W09DEdXB9W7bVYNGpHdLNE.jpg', 'character': 'Larry Crockett', 'credit_id': '5a95f0179251417bd3000ed4', 'order': 13}, {'adult': False, 'gender': 1, 'id': 3340, 'known_for_department': 'Acting', 'name': 'Marie Windsor', 'original_name': 'Marie Windsor', 'popularity': 8.063, 'profile_path': '/rBSWxRt3cbpg3IpCLCAiHy05DRL.jpg', 'character': 'Eva Miller', 'credit_id': '5a95f0179251417bd3000ed6', 'order': 14}, {'adult': False, 'gender': 2, 'id': 15972, 'known_for_department': 'Acting', 'name': 'Reggie Nalder', 'original_name': 'Reggie Nalder', 'popularity': 3.483, 'profile_path': '/qoBbcBYcH07KrnJ4p7CIe9BKuFM.jpg', 'character': 'Kurt Barlow', 'credit_id': '52584c96760ee34661008d7c', 'order': 15}, {'adult': False, 'gender': 1, 'id': 15746, 'known_for_department': 'Acting', 'name': 'Barbara Babcock', 'original_name': 'Barbara Babcock', 'popularity': 9.104, 'profile_path': '/wOB6OSPgFlyI3V1PtCTg7q8vrdW.jpg', 'character': 'June Petrie', 'credit_id': '63ade10bbe4b3600919ff8ed', 'order': 16}, {'adult': False, 'gender': 1, 'id': 32479, 'known_for_department': 'Acting', 'name': 'Bonnie Bartlett', 'original_name': 'Bonnie Bartlett', 'popularity': 4.533, 'profile_path': '/yz1MdbrxCAs5N1o0FouhnDWDAA7.jpg', 'character': 'Ann Norton', 'credit_id': '63ade1171f748b00c8b75726', 'order': 17}, {'adult': False, 'gender': 2, 'id': 119854, 'known_for_department': 'Acting', 'name': 'Joshua Bryant', 'original_name': 'Joshua Bryant', 'popularity': 1.914, 'profile_path': '/3BCGIAqpuoKyKHMhTlHpy7ZrJaW.jpg', 'character': 'Ted Petrie', 'credit_id': '63ade1258741c400bfdf1881', 'order': 18}, {'adult': False, 'gender': 2, 'id': 1339111, 'known_for_department': 'Acting', 'name': 'James Gallery', 'original_name': 'James Gallery', 'popularity': 0.6, 'profile_path': None, 'character': 'Father Donald Callahan', 'credit_id': '63ade1447ef3811f60859048', 'order': 19}, {'adult': False, 'gender': 2, 'id': 1392000, 'known_for_department': 'Acting', 'name': 'Robert Lussier', 'original_name': 'Robert Lussier', 'popularity': 0.756, 'profile_path': None, 'character': 'Deputy Constable Nolly Gardner', 'credit_id': '63ade15122af3e00b67d951f', 'order': 20}, {'adult': False, 'gender': 2, 'id': 19737, 'known_for_department': 'Acting', 'name': 'Brad Savage', 'original_name': 'Brad Savage', 'popularity': 4.386, 'profile_path': '/um1eexiXGXZESamRwP7omvlQHu4.jpg', 'character': 'Danny Glick', 'credit_id': '627452d151c01f005098ff3d', 'order': 21}, {'adult': False, 'gender': 2, 'id': 1217520, 'known_for_department': 'Acting', 'name': 'Ronnie Scribner', 'original_name': 'Ronnie Scribner', 'popularity': 1.96, 'profile_path': '/71ipKMJX3o9MuYWbkxEzy99fhw4.jpg', 'character': 'Ralphie Glick', 'credit_id': '63ade1605ad76b007dc69b8f', 'order': 22}, {'adult': False, 'gender': 2, 'id': 158944, 'known_for_department': 'Acting', 'name': 'Ned Wilson', 'original_name': 'Ned Wilson', 'popularity': 0.6, 'profile_path': None, 'character': 'Henry Glick', 'credit_id': '63ade16ec56d2d00f30e2acb', 'order': 23}], 'crew': [{'adult': False, 'gender': 2, 'id': 63905, 'known_for_department': 'Production', 'name': 'Richard Kobritz', 'original_name': 'Richard Kobritz', 'popularity': 0.6, 'profile_path': None, 'credit_id': '5a95f0189251417bd3000edd', 'department': 'Production', 'job': 'Producer'}, {'adult': False, 'gender': 2, 'id': 6779, 'known_for_department': 'Writing', 'name': 'Stirling Silliphant', 'original_name': 'Stirling Silliphant', 'popularity': 1.806, 'profile_path': '/iJ5AJl2CiNuSsxb94NhjFgvZDAu.jpg', 'credit_id': '5a95f0189251417bd3000edf', 'department': 'Production', 'job': 'Executive Producer'}, {'adult': False, 'gender': 2, 'id': 67492, 'known_for_department': 'Camera', 'name': 'Jules Brenner', 'original_name': 'Jules Brenner', 'popularity': 1.4, 'profile_path': None, 'credit_id': '5a95f0189251417bd3000ee3', 'department': 'Camera', 'job': 'Director of Photography'}, {'adult': False, 'gender': 0, 'id': 69071, 'known_for_department': 'Editing', 'name': 'Tom Pryor', 'original_name': 'Tom Pryor', 'popularity': 0.6, 'profile_path': None, 'credit_id': '5a95f0189251417bd3000ee5', 'department': 'Editing', 'job': 'Editor'}, {'adult': False, 'gender': 0, 'id': 46332, 'known_for_department': 'Editing', 'name': 'Carroll Sax', 'original_name': 'Carroll Sax', 'popularity': 0.6, 'profile_path': None, 'credit_id': '5a95f0189251417bd3000ee7', 'department': 'Editing', 'job': 'Editor'}, {'adult': False, 'gender': 2, 'id': 9579, 'known_for_department': 'Writing', 'name': 'Paul Monash', 'original_name': 'Paul Monash', 'popularity': 2.185, 'profile_path': None, 'credit_id': '604d775189f74900688e498d', 'department': 'Writing', 'job': 'Writer'}, {'adult': False, 'gender': 0, 'id': 1258116, 'known_for_department': 'Production', 'name': 'Anna Cottle', 'original_name': 'Anna Cottle', 'popularity': 0.6, 'profile_path': None, 'credit_id': '604d77b74284ea0028ffb50d', 'department': 'Production', 'job': 'Associate Producer'}, {'adult': False, 'gender': 0, 'id': 29330, 'known_for_department': 'Sound', 'name': 'Harry Sukman', 'original_name': 'Harry Sukman', 'popularity': 0.6, 'profile_path': None, 'credit_id': '604d77c7c3aa3f0029e77af9', 'department': 'Sound', 'job': 'Music'}, {'adult': False, 'gender': 0, 'id': 1424784, 'known_for_department': 'Art', 'name': 'Mort Rabinowitz', 'original_name': 'Mort Rabinowitz', 'popularity': 0.6, 'profile_path': None, 'credit_id': '604d77dafdf8b7004189c3e0', 'department': 'Art', 'job': 'Production Design'}, {'adult': False, 'gender': 2, 'id': 1344252, 'known_for_department': 'Art', 'name': 'Jerry Adams', 'original_name': 'Jerry Adams', 'popularity': 0.6, 'profile_path': None, 'credit_id': '604d77ed22e480006ad3c8d1', 'department': 'Art', 'job': 'Set Decoration'}, {'adult': False, 'gender': 2, 'id': 3027, 'known_for_department': 'Writing', 'name': 'Stephen King', 'original_name': 'Stephen King', 'popularity': 19.586, 'profile_path': '/7r5nEzNanuEhmxtpsKE1uCBU5Jd.jpg', 'credit_id': '5a95f0189251417bd3000ed9', 'department': 'Writing', 'job': 'Novel'}]}}"
      ]
     },
     "execution_count": 119,
     "metadata": {},
     "output_type": "execute_result"
    }
   ],
   "source": [
    "f_01U58_2['movie_metadata_dict']#['original_language']"
   ]
  },
  {
   "cell_type": "code",
   "execution_count": 90,
   "metadata": {},
   "outputs": [
    {
     "name": "stdout",
     "output_type": "stream",
     "text": [
      "Film ID is \"f_01U58\", title is \"Salem's Lot\", and TMDB id is \"16118\", while content type is \"tv\"\n",
      "adult\n",
      "backdrop_path\n",
      "created_by\n",
      "episode_run_time\n",
      "first_air_date\n",
      "genres\n",
      "homepage\n",
      "id\n",
      "in_production\n",
      "languages\n",
      "last_air_date\n",
      "last_episode_to_air\n",
      "name\n",
      "next_episode_to_air\n",
      "networks\n",
      "number_of_episodes\n",
      "number_of_seasons\n",
      "origin_country\n",
      "original_language\n",
      "original_name\n",
      "overview\n",
      "popularity\n",
      "poster_path\n",
      "production_companies\n",
      "production_countries\n",
      "seasons\n",
      "spoken_languages\n",
      "status\n",
      "tagline\n",
      "type\n",
      "vote_average\n",
      "vote_count\n",
      "credits\n",
      "keywords\n"
     ]
    }
   ],
   "source": [
    "f_01U58 = create_movie_metadata_dict('f_01U58')\n",
    "for i in f_01U58['details']:\n",
    "    print(i)"
   ]
  },
  {
   "cell_type": "code",
   "execution_count": 72,
   "metadata": {},
   "outputs": [
    {
     "data": {
      "text/plain": [
       "184"
      ]
     },
     "execution_count": 72,
     "metadata": {},
     "output_type": "execute_result"
    }
   ],
   "source": [
    "f_01U58['details']['episode_run_time'][0] * f_01U58['details']['number_of_episodes']"
   ]
  },
  {
   "cell_type": "code",
   "execution_count": 91,
   "metadata": {},
   "outputs": [
    {
     "data": {
      "text/plain": [
       "{'results': [{'name': 'based on novel or book', 'id': 818}, {'name': 'vampire', 'id': 3133}, {'name': 'home', 'id': 1526}, {'name': 'return', 'id': 1571}, {'name': 'menace', 'id': 2250}, {'name': 'antiquary', 'id': 3095}, {'name': 'house', 'id': 6095}, {'name': 'miniseries', 'id': 11162}, {'name': 'writer', 'id': 13028}, {'name': 'new england', 'id': 41393}, {'name': 'hometown', 'id': 155808}, {'name': 'horror', 'id': 315058}]}"
      ]
     },
     "execution_count": 91,
     "metadata": {},
     "output_type": "execute_result"
    }
   ],
   "source": [
    "f_01U58['details']['keywords']"
   ]
  },
  {
   "cell_type": "code",
   "execution_count": 48,
   "metadata": {},
   "outputs": [
    {
     "name": "stdout",
     "output_type": "stream",
     "text": [
      "Film ID is \"f_01U58\", title is \"Salem's Lot\", and TMDB id is \"16118\", while content type is \"tv\"\n"
     ]
    }
   ],
   "source": [
    "film_id = 'f_01U58'\n",
    "film_title = get_from_table('FILM_TITLE', film_id, 'FILM_TITLE')\n",
    "tmdb_id = get_from_table('TMDB_ID', film_id, 'TMDB_ID')\n",
    "content_type = get_from_table('CONTENT_TYPE', film_id, 'CONTENT_TYPE')\n",
    "print('Film ID is \"{}\", title is \"{}\", and TMDB id is \"{}\", while content type is \"{}\"'.format(film_id, film_title, tmdb_id, content_type))"
   ]
  },
  {
   "cell_type": "code",
   "execution_count": 92,
   "metadata": {},
   "outputs": [
    {
     "ename": "TMDbException",
     "evalue": "The resource you requested could not be found.",
     "output_type": "error",
     "traceback": [
      "\u001b[1;31m---------------------------------------------------------------------------\u001b[0m",
      "\u001b[1;31mTMDbException\u001b[0m                             Traceback (most recent call last)",
      "Cell \u001b[1;32mIn[92], line 2\u001b[0m\n\u001b[0;32m      1\u001b[0m tv \u001b[39m=\u001b[39m TV()\n\u001b[1;32m----> 2\u001b[0m details \u001b[39m=\u001b[39m tv\u001b[39m.\u001b[39mdetails(\u001b[39m'\u001b[39m\u001b[39mf_01U58\u001b[39m\u001b[39m'\u001b[39m, \u001b[39m'\u001b[39m\u001b[39mcredits,keywords,budget\u001b[39m\u001b[39m'\u001b[39m)\n",
      "File \u001b[1;32mc:\\Users\\tomdevine\\Desktop\\dev\\PersonalProjects\\letterboxd-app\\letterboxd-env\\Lib\\site-packages\\tmdbv3api\\objs\\tv.py:38\u001b[0m, in \u001b[0;36mTV.details\u001b[1;34m(self, show_id, append_to_response)\u001b[0m\n\u001b[0;32m     29\u001b[0m \u001b[39mdef\u001b[39;00m \u001b[39mdetails\u001b[39m(\n\u001b[0;32m     30\u001b[0m     \u001b[39mself\u001b[39m, show_id, append_to_response\u001b[39m=\u001b[39m\u001b[39m\"\u001b[39m\u001b[39mvideos,trailers,images,credits,translations\u001b[39m\u001b[39m\"\u001b[39m\n\u001b[0;32m     31\u001b[0m ):\n\u001b[0;32m     32\u001b[0m     \u001b[39m\"\"\"\u001b[39;00m\n\u001b[0;32m     33\u001b[0m \u001b[39m    Get the primary TV show details by id.\u001b[39;00m\n\u001b[0;32m     34\u001b[0m \u001b[39m    :param show_id:\u001b[39;00m\n\u001b[0;32m     35\u001b[0m \u001b[39m    :param append_to_response:\u001b[39;00m\n\u001b[0;32m     36\u001b[0m \u001b[39m    :return:\u001b[39;00m\n\u001b[0;32m     37\u001b[0m \u001b[39m    \"\"\"\u001b[39;00m\n\u001b[1;32m---> 38\u001b[0m     \u001b[39mreturn\u001b[39;00m AsObj(\n\u001b[0;32m     39\u001b[0m         \u001b[39m*\u001b[39m\u001b[39m*\u001b[39m\u001b[39mself\u001b[39m\u001b[39m.\u001b[39m_call(\n\u001b[0;32m     40\u001b[0m             \u001b[39mself\u001b[39m\u001b[39m.\u001b[39m_urls[\u001b[39m\"\u001b[39m\u001b[39mdetails\u001b[39m\u001b[39m\"\u001b[39m] \u001b[39m%\u001b[39m \u001b[39mstr\u001b[39m(show_id),\n\u001b[0;32m     41\u001b[0m             \u001b[39m\"\u001b[39m\u001b[39mappend_to_response=\u001b[39m\u001b[39m\"\u001b[39m \u001b[39m+\u001b[39m append_to_response,\n\u001b[0;32m     42\u001b[0m         )\n\u001b[0;32m     43\u001b[0m     )\n",
      "File \u001b[1;32mc:\\Users\\tomdevine\\Desktop\\dev\\PersonalProjects\\letterboxd-app\\letterboxd-env\\Lib\\site-packages\\tmdbv3api\\as_obj.py:9\u001b[0m, in \u001b[0;36mAsObj.__init__\u001b[1;34m(self, **entries)\u001b[0m\n\u001b[0;32m      7\u001b[0m \u001b[39mdef\u001b[39;00m \u001b[39m__init__\u001b[39m(\u001b[39mself\u001b[39m, \u001b[39m*\u001b[39m\u001b[39m*\u001b[39mentries):\n\u001b[0;32m      8\u001b[0m     \u001b[39mif\u001b[39;00m \u001b[39m\"\u001b[39m\u001b[39msuccess\u001b[39m\u001b[39m\"\u001b[39m \u001b[39min\u001b[39;00m entries \u001b[39mand\u001b[39;00m entries[\u001b[39m\"\u001b[39m\u001b[39msuccess\u001b[39m\u001b[39m\"\u001b[39m] \u001b[39mis\u001b[39;00m \u001b[39mFalse\u001b[39;00m:\n\u001b[1;32m----> 9\u001b[0m         \u001b[39mraise\u001b[39;00m TMDbException(entries[\u001b[39m\"\u001b[39m\u001b[39mstatus_message\u001b[39m\u001b[39m\"\u001b[39m])\n\u001b[0;32m     10\u001b[0m     \u001b[39mfor\u001b[39;00m key, value \u001b[39min\u001b[39;00m entries\u001b[39m.\u001b[39mitems():\n\u001b[0;32m     11\u001b[0m         \u001b[39mif\u001b[39;00m \u001b[39misinstance\u001b[39m(value, \u001b[39mlist\u001b[39m):\n",
      "\u001b[1;31mTMDbException\u001b[0m: The resource you requested could not be found."
     ]
    }
   ],
   "source": [
    "tv = TV()\n",
    "details = tv.details('f_01U58', 'credits,keywords,budget')"
   ]
  },
  {
   "cell_type": "code",
   "execution_count": 161,
   "metadata": {},
   "outputs": [],
   "source": [
    "from justwatch import JustWatch\n",
    "\n",
    "just_watch = JustWatch(country='GB')\n"
   ]
  },
  {
   "cell_type": "code",
   "execution_count": null,
   "metadata": {},
   "outputs": [],
   "source": [
    "total_pages = just_watch.search_for_item(providers=['nfx'], content_types=['movie']).get('total_pages')"
   ]
  },
  {
   "cell_type": "code",
   "execution_count": 164,
   "metadata": {},
   "outputs": [
    {
     "data": {
      "text/plain": [
       "[{'jw_entity_id': 'tm860276',\n",
       "  'id': 860276,\n",
       "  'title': 'Nobody',\n",
       "  'full_path': '/uk/movie/nobody',\n",
       "  'full_paths': {'MOVIE_DETAIL_OVERVIEW': '/uk/movie/nobody'},\n",
       "  'poster': '/poster/239506757/{profile}',\n",
       "  'poster_blur_hash': 'TE9?:,WW0errayI;tRofni9aof-o',\n",
       "  'object_type': 'movie',\n",
       "  'scoring': [{'provider_type': 'jw:popular_1_day', 'value': 377.67},\n",
       "   {'provider_type': 'imdb:votes', 'value': 280493},\n",
       "   {'provider_type': 'jw:popular_180_day', 'value': 412.99},\n",
       "   {'provider_type': 'jw:viral', 'value': 0.07},\n",
       "   {'provider_type': 'imdb:score', 'value': 7.4},\n",
       "   {'provider_type': 'tmdb:votes', 'value': 5813},\n",
       "   {'provider_type': 'tmdb:id', 'value': 615457},\n",
       "   {'provider_type': 'imdb:multiplied', 'value': 2075648.2000000002},\n",
       "   {'provider_type': 'tmdb:score', 'value': 8.055},\n",
       "   {'provider_type': 'tmdb:popularity', 'value': 83.242},\n",
       "   {'provider_type': 'imdb:popularity', 'value': 35},\n",
       "   {'provider_type': 'jw:popular_7_day', 'value': 478.3},\n",
       "   {'provider_type': 'jw:popular_30_day', 'value': 1115.23},\n",
       "   {'provider_type': 'jw:trending_7_day', 'value': 89.36}],\n",
       "  'cinema_release_date': '2021-01-29'},\n",
       " {'jw_entity_id': 'tm1307813',\n",
       "  'id': 1307813,\n",
       "  'title': 'The Last Kingdom: Seven Kings Must Die',\n",
       "  'full_path': '/uk/movie/seven-kings-must-die',\n",
       "  'full_paths': {'MOVIE_DETAIL_OVERVIEW': '/uk/movie/seven-kings-must-die'},\n",
       "  'poster': '/poster/305015413/{profile}',\n",
       "  'poster_blur_hash': 'TD9G]c%1-P_1xZs,E3WCIp0MWCI[',\n",
       "  'object_type': 'movie',\n",
       "  'scoring': [{'provider_type': 'tmdb:votes', 'value': 342},\n",
       "   {'provider_type': 'tmdb:id', 'value': 948713},\n",
       "   {'provider_type': 'imdb:multiplied', 'value': 146118},\n",
       "   {'provider_type': 'jw:viral', 'value': 0.07},\n",
       "   {'provider_type': 'jw:popular_30_day', 'value': 343.03},\n",
       "   {'provider_type': 'tmdb:popularity', 'value': 1061.049},\n",
       "   {'provider_type': 'jw:popular_7_day', 'value': 149.58},\n",
       "   {'provider_type': 'imdb:score', 'value': 7},\n",
       "   {'provider_type': 'tmdb:score', 'value': 7.278},\n",
       "   {'provider_type': 'jw:trending_7_day', 'value': 68.11},\n",
       "   {'provider_type': 'jw:popular_180_day', 'value': 87.3},\n",
       "   {'provider_type': 'imdb:votes', 'value': 20874},\n",
       "   {'provider_type': 'jw:popular_1_day', 'value': 197.05}]},\n",
       " {'jw_entity_id': 'tm205861',\n",
       "  'id': 205861,\n",
       "  'title': 'Arrival',\n",
       "  'full_path': '/uk/movie/arrival-2016',\n",
       "  'full_paths': {'MOVIE_DETAIL_OVERVIEW': '/uk/movie/arrival-2016'},\n",
       "  'poster': '/poster/8709095/{profile}',\n",
       "  'poster_blur_hash': 'TNF~gd0L~pJERjbI0L%0D%^+WBxZ',\n",
       "  'object_type': 'movie',\n",
       "  'scoring': [{'provider_type': 'imdb:votes', 'value': 715844},\n",
       "   {'provider_type': 'tmdb:score', 'value': 7.581},\n",
       "   {'provider_type': 'jw:trending_7_day', 'value': 176.57},\n",
       "   {'provider_type': 'imdb:popularity', 'value': 399},\n",
       "   {'provider_type': 'imdb:multiplied', 'value': 5655167.600000001},\n",
       "   {'provider_type': 'tmdb:votes', 'value': 16132},\n",
       "   {'provider_type': 'jw:viral', 'value': 0.12},\n",
       "   {'provider_type': 'tmdb:id', 'value': 329865},\n",
       "   {'provider_type': 'jw:popular_7_day', 'value': 292.93},\n",
       "   {'provider_type': 'tmdb:popularity', 'value': 68.876},\n",
       "   {'provider_type': 'imdb:score', 'value': 7.9},\n",
       "   {'provider_type': 'jw:popular_30_day', 'value': 346.88},\n",
       "   {'provider_type': 'jw:popular_1_day', 'value': 369.46},\n",
       "   {'provider_type': 'jw:popular_180_day', 'value': 267.16}],\n",
       "  'cinema_release_date': '2016-11-11'},\n",
       " {'jw_entity_id': 'tm431186',\n",
       "  'id': 431186,\n",
       "  'title': 'A Quiet Place Part II',\n",
       "  'full_path': '/uk/movie/a-quiet-place-part-ii',\n",
       "  'full_paths': {'MOVIE_DETAIL_OVERVIEW': '/uk/movie/a-quiet-place-part-ii'},\n",
       "  'poster': '/poster/250619161/{profile}',\n",
       "  'poster_blur_hash': 'TABU:v}YNG;g$jNHI;NHWWJ7NuNt',\n",
       "  'object_type': 'movie',\n",
       "  'scoring': [{'provider_type': 'tmdb:score', 'value': 7.527},\n",
       "   {'provider_type': 'imdb:multiplied', 'value': 1768600.8},\n",
       "   {'provider_type': 'jw:trending_7_day', 'value': 88.51},\n",
       "   {'provider_type': 'jw:popular_30_day', 'value': 326.51},\n",
       "   {'provider_type': 'imdb:popularity', 'value': 14},\n",
       "   {'provider_type': 'tmdb:popularity', 'value': 68.348},\n",
       "   {'provider_type': 'imdb:score', 'value': 7.2},\n",
       "   {'provider_type': 'tmdb:votes', 'value': 5334},\n",
       "   {'provider_type': 'jw:popular_180_day', 'value': 251.7},\n",
       "   {'provider_type': 'imdb:votes', 'value': 245639},\n",
       "   {'provider_type': 'jw:popular_7_day', 'value': 198.6},\n",
       "   {'provider_type': 'tmdb:id', 'value': 520763},\n",
       "   {'provider_type': 'jw:viral', 'value': 0.06},\n",
       "   {'provider_type': 'jw:popular_1_day', 'value': 151.89}],\n",
       "  'cinema_release_date': '2020-03-20'},\n",
       " {'jw_entity_id': 'tm915749',\n",
       "  'id': 915749,\n",
       "  'title': 'Glass Onion: A Knives Out Mystery',\n",
       "  'full_path': '/uk/movie/knives-out-2',\n",
       "  'full_paths': {'MOVIE_DETAIL_OVERVIEW': '/uk/movie/knives-out-2'},\n",
       "  'poster': '/poster/301342724/{profile}',\n",
       "  'poster_blur_hash': 'TPD,c*RNR$J@ngRl8^o#j_:}g4o2',\n",
       "  'object_type': 'movie',\n",
       "  'scoring': [{'provider_type': 'jw:popular_30_day', 'value': 323.66},\n",
       "   {'provider_type': 'tmdb:popularity', 'value': 131.918},\n",
       "   {'provider_type': 'jw:popular_1_day', 'value': 131.36},\n",
       "   {'provider_type': 'jw:popular_7_day', 'value': 151.37},\n",
       "   {'provider_type': 'imdb:score', 'value': 7.1},\n",
       "   {'provider_type': 'tmdb:id', 'value': 661374},\n",
       "   {'provider_type': 'tmdb:score', 'value': 7.078},\n",
       "   {'provider_type': 'jw:popular_180_day', 'value': 731.68},\n",
       "   {'provider_type': 'tmdb:votes', 'value': 4021},\n",
       "   {'provider_type': 'jw:trending_7_day', 'value': 26.89},\n",
       "   {'provider_type': 'imdb:multiplied', 'value': 2735977.9},\n",
       "   {'provider_type': 'jw:viral', 'value': 0.05},\n",
       "   {'provider_type': 'imdb:votes', 'value': 385349}]},\n",
       " {'jw_entity_id': 'tm11005',\n",
       "  'id': 11005,\n",
       "  'title': 'Heat',\n",
       "  'full_path': '/uk/movie/heat',\n",
       "  'full_paths': {'MOVIE_DETAIL_OVERVIEW': '/uk/movie/heat'},\n",
       "  'poster': '/poster/239897076/{profile}',\n",
       "  'poster_blur_hash': 'TA6[,dMbDhDNo$xuVVtmkDyEVqR.',\n",
       "  'object_type': 'movie',\n",
       "  'scoring': [{'provider_type': 'jw:popular_1_day', 'value': 143.68},\n",
       "   {'provider_type': 'tmdb:votes', 'value': 6234},\n",
       "   {'provider_type': 'tmdb:id', 'value': 949},\n",
       "   {'provider_type': 'jw:popular_7_day', 'value': 172.13},\n",
       "   {'provider_type': 'imdb:score', 'value': 8.3},\n",
       "   {'provider_type': 'imdb:votes', 'value': 670417},\n",
       "   {'provider_type': 'jw:popular_30_day', 'value': 326.57},\n",
       "   {'provider_type': 'jw:popular_180_day', 'value': 193.24},\n",
       "   {'provider_type': 'imdb:popularity', 'value': 260},\n",
       "   {'provider_type': 'imdb:multiplied', 'value': 5564461.100000001},\n",
       "   {'provider_type': 'tmdb:score', 'value': 7.9},\n",
       "   {'provider_type': 'jw:viral', 'value': 0.06},\n",
       "   {'provider_type': 'tmdb:popularity', 'value': 52.491}]},\n",
       " {'jw_entity_id': 'tm266641',\n",
       "  'id': 266641,\n",
       "  'title': 'Ad Astra',\n",
       "  'full_path': '/uk/movie/ad-astra',\n",
       "  'full_paths': {'MOVIE_DETAIL_OVERVIEW': '/uk/movie/ad-astra'},\n",
       "  'poster': '/poster/155519320/{profile}',\n",
       "  'poster_blur_hash': 'TjO|hERQ_Ns9R%%MW?R%M{.8s;M_',\n",
       "  'object_type': 'movie',\n",
       "  'scoring': [{'provider_type': 'tmdb:votes', 'value': 5953},\n",
       "   {'provider_type': 'tmdb:id', 'value': 419704},\n",
       "   {'provider_type': 'jw:trending_7_day', 'value': 1066.87},\n",
       "   {'provider_type': 'tmdb:popularity', 'value': 12.771},\n",
       "   {'provider_type': 'jw:popular_1_day', 'value': 492.61},\n",
       "   {'provider_type': 'jw:popular_30_day', 'value': 326.13},\n",
       "   {'provider_type': 'imdb:multiplied', 'value': 1453731.5},\n",
       "   {'provider_type': 'tmdb:score', 'value': 6.097},\n",
       "   {'provider_type': 'imdb:popularity', 'value': 832},\n",
       "   {'provider_type': 'jw:popular_180_day', 'value': 95.84},\n",
       "   {'provider_type': 'jw:viral', 'value': 0.16},\n",
       "   {'provider_type': 'imdb:votes', 'value': 223651},\n",
       "   {'provider_type': 'jw:popular_7_day', 'value': 942.64},\n",
       "   {'provider_type': 'imdb:score', 'value': 6.5}],\n",
       "  'cinema_release_date': '2019-09-20'},\n",
       " {'jw_entity_id': 'tm1196209',\n",
       "  'id': 1196209,\n",
       "  'title': 'Moonage Daydream',\n",
       "  'full_path': '/uk/movie/moonage-daydream',\n",
       "  'full_paths': {'MOVIE_DETAIL_OVERVIEW': '/uk/movie/moonage-daydream'},\n",
       "  'poster': '/poster/302423000/{profile}',\n",
       "  'poster_blur_hash': 'TcG@+1rGxu2tXmJmvNK#M|j:Vtt6',\n",
       "  'object_type': 'movie',\n",
       "  'scoring': [{'provider_type': 'imdb:multiplied', 'value': 83891.5},\n",
       "   {'provider_type': 'tmdb:score', 'value': 7.915},\n",
       "   {'provider_type': 'jw:popular_30_day', 'value': 319.43},\n",
       "   {'provider_type': 'jw:popular_180_day', 'value': 260.45},\n",
       "   {'provider_type': 'tmdb:id', 'value': 957457},\n",
       "   {'provider_type': 'jw:viral', 'value': 0.05},\n",
       "   {'provider_type': 'jw:popular_1_day', 'value': 123.15},\n",
       "   {'provider_type': 'tmdb:popularity', 'value': 9.931},\n",
       "   {'provider_type': 'imdb:votes', 'value': 10895},\n",
       "   {'provider_type': 'jw:trending_7_day', 'value': 33.96},\n",
       "   {'provider_type': 'jw:popular_7_day', 'value': 135.4},\n",
       "   {'provider_type': 'imdb:score', 'value': 7.7},\n",
       "   {'provider_type': 'tmdb:votes', 'value': 106}]},\n",
       " {'jw_entity_id': 'tm112130',\n",
       "  'id': 112130,\n",
       "  'title': 'Pulp Fiction',\n",
       "  'full_path': '/uk/movie/pulp-fiction',\n",
       "  'full_paths': {'MOVIE_DETAIL_OVERVIEW': '/uk/movie/pulp-fiction'},\n",
       "  'poster': '/poster/122820908/{profile}',\n",
       "  'poster_blur_hash': 'TSHJ~tVrI[=Y%1r?}qNGnj]#t7S5',\n",
       "  'object_type': 'movie',\n",
       "  'scoring': [{'provider_type': 'jw:popular_30_day', 'value': 309.06},\n",
       "   {'provider_type': 'imdb:votes', 'value': 2100081},\n",
       "   {'provider_type': 'jw:popular_7_day', 'value': 197.08},\n",
       "   {'provider_type': 'tmdb:votes', 'value': 25126},\n",
       "   {'provider_type': 'jw:popular_1_day', 'value': 201.15},\n",
       "   {'provider_type': 'tmdb:score', 'value': 8.491},\n",
       "   {'provider_type': 'jw:trending_7_day', 'value': 75.4},\n",
       "   {'provider_type': 'imdb:multiplied', 'value': 18690720.900000002},\n",
       "   {'provider_type': 'imdb:score', 'value': 8.9},\n",
       "   {'provider_type': 'imdb:popularity', 'value': 93},\n",
       "   {'provider_type': 'jw:viral', 'value': 0.08},\n",
       "   {'provider_type': 'jw:popular_180_day', 'value': 315.88},\n",
       "   {'provider_type': 'tmdb:id', 'value': 680},\n",
       "   {'provider_type': 'tmdb:popularity', 'value': 61.972}],\n",
       "  'cinema_release_date': '2014-05-20'},\n",
       " {'jw_entity_id': 'tm441050',\n",
       "  'id': 441050,\n",
       "  'title': 'The Gentlemen',\n",
       "  'full_path': '/uk/movie/the-gentlemen',\n",
       "  'full_paths': {'MOVIE_DETAIL_OVERVIEW': '/uk/movie/the-gentlemen'},\n",
       "  'poster': '/poster/166839313/{profile}',\n",
       "  'poster_blur_hash': 'T,M7idWCxu-;ofay~qWBWBM{j[bH',\n",
       "  'object_type': 'movie',\n",
       "  'scoring': [{'provider_type': 'tmdb:id', 'value': 522627},\n",
       "   {'provider_type': 'jw:popular_180_day', 'value': 197.8},\n",
       "   {'provider_type': 'tmdb:score', 'value': 7.684},\n",
       "   {'provider_type': 'jw:popular_1_day', 'value': 172.41},\n",
       "   {'provider_type': 'tmdb:votes', 'value': 4847},\n",
       "   {'provider_type': 'jw:viral', 'value': 0.07},\n",
       "   {'provider_type': 'imdb:score', 'value': 7.8},\n",
       "   {'provider_type': 'imdb:popularity', 'value': 137},\n",
       "   {'provider_type': 'imdb:multiplied', 'value': 2795933.4},\n",
       "   {'provider_type': 'imdb:votes', 'value': 358453},\n",
       "   {'provider_type': 'jw:popular_30_day', 'value': 304.83},\n",
       "   {'provider_type': 'jw:trending_7_day', 'value': 38.8},\n",
       "   {'provider_type': 'jw:popular_7_day', 'value': 182.82},\n",
       "   {'provider_type': 'tmdb:popularity', 'value': 39.698}],\n",
       "  'cinema_release_date': '2020-01-01'},\n",
       " {'jw_entity_id': 'tm435901',\n",
       "  'id': 435901,\n",
       "  'title': 'Freaky',\n",
       "  'full_path': '/uk/movie/freaky',\n",
       "  'full_paths': {'MOVIE_DETAIL_OVERVIEW': '/uk/movie/freaky'},\n",
       "  'poster': '/poster/235058992/{profile}',\n",
       "  'poster_blur_hash': 'TFCX]Ioz5QGFoLr?0ejFxu+vSgSg',\n",
       "  'object_type': 'movie',\n",
       "  'scoring': [{'provider_type': 'imdb:multiplied', 'value': 401347.8},\n",
       "   {'provider_type': 'imdb:votes', 'value': 63706},\n",
       "   {'provider_type': 'imdb:popularity', 'value': 461},\n",
       "   {'provider_type': 'jw:popular_1_day', 'value': 197.05},\n",
       "   {'provider_type': 'jw:popular_30_day', 'value': 300.99},\n",
       "   {'provider_type': 'tmdb:popularity', 'value': 18.646},\n",
       "   {'provider_type': 'jw:viral', 'value': 0.08},\n",
       "   {'provider_type': 'jw:popular_180_day', 'value': 86.78},\n",
       "   {'provider_type': 'tmdb:votes', 'value': 1313},\n",
       "   {'provider_type': 'tmdb:id', 'value': 551804},\n",
       "   {'provider_type': 'imdb:score', 'value': 6.3},\n",
       "   {'provider_type': 'jw:popular_7_day', 'value': 241.93},\n",
       "   {'provider_type': 'tmdb:score', 'value': 6.598}],\n",
       "  'cinema_release_date': '2020-11-27'},\n",
       " {'jw_entity_id': 'tm1221988',\n",
       "  'id': 1221988,\n",
       "  'title': 'Fall',\n",
       "  'full_path': '/uk/movie/fall-2022',\n",
       "  'full_paths': {'MOVIE_DETAIL_OVERVIEW': '/uk/movie/fall-2022'},\n",
       "  'poster': '/poster/284148754/{profile}',\n",
       "  'poster_blur_hash': 'TvJu},-5og0.pJj[VDRkjYs:V@ae',\n",
       "  'object_type': 'movie',\n",
       "  'scoring': [{'provider_type': 'jw:popular_30_day', 'value': 275.34},\n",
       "   {'provider_type': 'imdb:votes', 'value': 78299},\n",
       "   {'provider_type': 'jw:viral', 'value': 0.04},\n",
       "   {'provider_type': 'imdb:multiplied', 'value': 501113.60000000003},\n",
       "   {'provider_type': 'tmdb:popularity', 'value': 322.496},\n",
       "   {'provider_type': 'jw:trending_7_day', 'value': 78.36},\n",
       "   {'provider_type': 'jw:popular_1_day', 'value': 82.1},\n",
       "   {'provider_type': 'tmdb:id', 'value': 985939},\n",
       "   {'provider_type': 'jw:popular_180_day', 'value': 403.78},\n",
       "   {'provider_type': 'jw:popular_7_day', 'value': 171.35},\n",
       "   {'provider_type': 'tmdb:score', 'value': 7.282},\n",
       "   {'provider_type': 'imdb:score', 'value': 6.4},\n",
       "   {'provider_type': 'tmdb:votes', 'value': 2843}]},\n",
       " {'jw_entity_id': 'tm432043',\n",
       "  'id': 432043,\n",
       "  'title': 'Knives Out',\n",
       "  'full_path': '/uk/movie/knives-out',\n",
       "  'full_paths': {'MOVIE_DETAIL_OVERVIEW': '/uk/movie/knives-out'},\n",
       "  'poster': '/poster/154373248/{profile}',\n",
       "  'poster_blur_hash': 'TIDu9xS{5D?VxGIr0zw{xVD;Na$|',\n",
       "  'object_type': 'movie',\n",
       "  'scoring': [{'provider_type': 'jw:popular_180_day', 'value': 705.99},\n",
       "   {'provider_type': 'jw:trending_7_day', 'value': 42.09},\n",
       "   {'provider_type': 'imdb:score', 'value': 7.9},\n",
       "   {'provider_type': 'jw:viral', 'value': 0.05},\n",
       "   {'provider_type': 'jw:popular_1_day', 'value': 102.63},\n",
       "   {'provider_type': 'imdb:popularity', 'value': 131},\n",
       "   {'provider_type': 'tmdb:score', 'value': 7.852},\n",
       "   {'provider_type': 'tmdb:votes', 'value': 10677},\n",
       "   {'provider_type': 'tmdb:id', 'value': 546554},\n",
       "   {'provider_type': 'imdb:votes', 'value': 724044},\n",
       "   {'provider_type': 'tmdb:popularity', 'value': 42.316},\n",
       "   {'provider_type': 'imdb:multiplied', 'value': 5719947.600000001},\n",
       "   {'provider_type': 'jw:popular_7_day', 'value': 139.93},\n",
       "   {'provider_type': 'jw:popular_30_day', 'value': 280.43}],\n",
       "  'cinema_release_date': '2019-11-29'},\n",
       " {'jw_entity_id': 'tm458468',\n",
       "  'id': 458468,\n",
       "  'title': 'I See You',\n",
       "  'full_path': '/uk/movie/i-see-you-2019',\n",
       "  'full_paths': {'MOVIE_DETAIL_OVERVIEW': '/uk/movie/i-see-you-2019'},\n",
       "  'poster': '/poster/166095369/{profile}',\n",
       "  'poster_blur_hash': 'T54xlC9FIU00?bt7_3D%WB9Gxuxu',\n",
       "  'object_type': 'movie',\n",
       "  'scoring': [{'provider_type': 'jw:popular_1_day', 'value': 35.23},\n",
       "   {'provider_type': 'tmdb:votes', 'value': 1171},\n",
       "   {'provider_type': 'jw:popular_7_day', 'value': 129.57},\n",
       "   {'provider_type': 'imdb:score', 'value': 6.8},\n",
       "   {'provider_type': 'tmdb:popularity', 'value': 35.073},\n",
       "   {'provider_type': 'imdb:popularity', 'value': 800},\n",
       "   {'provider_type': 'jw:popular_180_day', 'value': 101.04},\n",
       "   {'provider_type': 'imdb:votes', 'value': 56356},\n",
       "   {'provider_type': 'jw:popular_30_day', 'value': 277.32},\n",
       "   {'provider_type': 'jw:trending_7_day', 'value': 34.3},\n",
       "   {'provider_type': 'imdb:multiplied', 'value': 383220.8},\n",
       "   {'provider_type': 'tmdb:score', 'value': 7.034},\n",
       "   {'provider_type': 'tmdb:id', 'value': 524251},\n",
       "   {'provider_type': 'jw:viral', 'value': 0.02}]},\n",
       " {'jw_entity_id': 'tm19313',\n",
       "  'id': 19313,\n",
       "  'title': 'Memento',\n",
       "  'full_path': '/uk/movie/memento',\n",
       "  'full_paths': {'MOVIE_DETAIL_OVERVIEW': '/uk/movie/memento'},\n",
       "  'poster': '/poster/8711516/{profile}',\n",
       "  'poster_blur_hash': 'TPKT}Sq[xa}?IAR-g4x]D*Xnx[ae',\n",
       "  'object_type': 'movie',\n",
       "  'scoring': [{'provider_type': 'jw:trending_7_day', 'value': 31.62},\n",
       "   {'provider_type': 'jw:popular_180_day', 'value': 243.1},\n",
       "   {'provider_type': 'jw:popular_1_day', 'value': 160.1},\n",
       "   {'provider_type': 'tmdb:popularity', 'value': 24.667},\n",
       "   {'provider_type': 'jw:popular_7_day', 'value': 171.81},\n",
       "   {'provider_type': 'imdb:popularity', 'value': 439},\n",
       "   {'provider_type': 'jw:popular_30_day', 'value': 277.05},\n",
       "   {'provider_type': 'imdb:multiplied', 'value': 10577145.6},\n",
       "   {'provider_type': 'jw:viral', 'value': 0.07},\n",
       "   {'provider_type': 'tmdb:id', 'value': 77},\n",
       "   {'provider_type': 'imdb:votes', 'value': 1259184},\n",
       "   {'provider_type': 'imdb:score', 'value': 8.4},\n",
       "   {'provider_type': 'tmdb:score', 'value': 8.19},\n",
       "   {'provider_type': 'tmdb:votes', 'value': 13256}],\n",
       "  'cinema_release_date': '2000-10-20'},\n",
       " {'jw_entity_id': 'tm439291',\n",
       "  'id': 439291,\n",
       "  'title': 'Midsommar',\n",
       "  'full_path': '/uk/movie/midsommar',\n",
       "  'full_paths': {'MOVIE_DETAIL_OVERVIEW': '/uk/movie/midsommar'},\n",
       "  'poster': '/poster/127746769/{profile}',\n",
       "  'poster_blur_hash': 'TbKJYu}qTcngoz$i1JIVagxtaKXS',\n",
       "  'object_type': 'movie',\n",
       "  'scoring': [{'provider_type': 'imdb:votes', 'value': 347832},\n",
       "   {'provider_type': 'jw:popular_180_day', 'value': 181.15},\n",
       "   {'provider_type': 'tmdb:votes', 'value': 5824},\n",
       "   {'provider_type': 'jw:popular_7_day', 'value': 189.7},\n",
       "   {'provider_type': 'tmdb:popularity', 'value': 41.249},\n",
       "   {'provider_type': 'tmdb:id', 'value': 530385},\n",
       "   {'provider_type': 'tmdb:score', 'value': 7.164},\n",
       "   {'provider_type': 'jw:trending_7_day', 'value': 62.41},\n",
       "   {'provider_type': 'jw:popular_30_day', 'value': 274.29},\n",
       "   {'provider_type': 'imdb:multiplied', 'value': 2469607.1999999997},\n",
       "   {'provider_type': 'imdb:score', 'value': 7.1},\n",
       "   {'provider_type': 'jw:popular_1_day', 'value': 86.21},\n",
       "   {'provider_type': 'imdb:popularity', 'value': 26},\n",
       "   {'provider_type': 'jw:viral', 'value': 0.04}],\n",
       "  'cinema_release_date': '2019-07-05'},\n",
       " {'jw_entity_id': 'tm1299162',\n",
       "  'id': 1299162,\n",
       "  'title': 'Murder Mystery 2',\n",
       "  'full_path': '/uk/movie/murder-mystery-2',\n",
       "  'full_paths': {'MOVIE_DETAIL_OVERVIEW': '/uk/movie/murder-mystery-2'},\n",
       "  'poster': '/poster/302625632/{profile}',\n",
       "  'poster_blur_hash': 'TcIOFJWBx[~qMykW-;WBRjx]R+M{',\n",
       "  'object_type': 'movie',\n",
       "  'scoring': [{'provider_type': 'jw:popular_30_day', 'value': 265.51},\n",
       "   {'provider_type': 'imdb:score', 'value': 5.6},\n",
       "   {'provider_type': 'imdb:votes', 'value': 47502},\n",
       "   {'provider_type': 'tmdb:score', 'value': 6.6},\n",
       "   {'provider_type': 'tmdb:popularity', 'value': 965.595},\n",
       "   {'provider_type': 'jw:popular_1_day', 'value': 72.23},\n",
       "   {'provider_type': 'jw:viral', 'value': 0.04},\n",
       "   {'provider_type': 'imdb:multiplied', 'value': 266011.2},\n",
       "   {'provider_type': 'tmdb:id', 'value': 638974},\n",
       "   {'provider_type': 'jw:popular_180_day', 'value': 118.54},\n",
       "   {'provider_type': 'jw:popular_7_day', 'value': 106.9},\n",
       "   {'provider_type': 'tmdb:votes', 'value': 1017}]},\n",
       " {'jw_entity_id': 'tm160558',\n",
       "  'id': 160558,\n",
       "  'title': 'The Equalizer',\n",
       "  'full_path': '/uk/movie/the-equalizer',\n",
       "  'full_paths': {'MOVIE_DETAIL_OVERVIEW': '/uk/movie/the-equalizer'},\n",
       "  'poster': '/poster/184977287/{profile}',\n",
       "  'poster_blur_hash': 'T67-A^0K.8%#WBxa4n?bD%VYkCNG',\n",
       "  'object_type': 'movie',\n",
       "  'scoring': [{'provider_type': 'imdb:multiplied', 'value': 2753928},\n",
       "   {'provider_type': 'imdb:votes', 'value': 382490},\n",
       "   {'provider_type': 'tmdb:votes', 'value': 7803},\n",
       "   {'provider_type': 'imdb:popularity', 'value': 471},\n",
       "   {'provider_type': 'tmdb:score', 'value': 7.238},\n",
       "   {'provider_type': 'jw:viral', 'value': 0.05},\n",
       "   {'provider_type': 'tmdb:id', 'value': 156022},\n",
       "   {'provider_type': 'jw:popular_7_day', 'value': 293.07},\n",
       "   {'provider_type': 'tmdb:popularity', 'value': 98.831},\n",
       "   {'provider_type': 'jw:popular_30_day', 'value': 266.65},\n",
       "   {'provider_type': 'jw:popular_1_day', 'value': 106.73},\n",
       "   {'provider_type': 'imdb:score', 'value': 7.2},\n",
       "   {'provider_type': 'jw:popular_180_day', 'value': 142.54},\n",
       "   {'provider_type': 'jw:trending_7_day', 'value': 187.19}],\n",
       "  'cinema_release_date': '2014-09-26'},\n",
       " {'jw_entity_id': 'tm191716',\n",
       "  'id': 191716,\n",
       "  'title': 'Good Will Hunting',\n",
       "  'full_path': '/uk/movie/good-will-hunting',\n",
       "  'full_paths': {'MOVIE_DETAIL_OVERVIEW': '/uk/movie/good-will-hunting'},\n",
       "  'poster': '/poster/8707541/{profile}',\n",
       "  'poster_blur_hash': 'TXD[t6jYS5};WBS5$yWERkxCofRk',\n",
       "  'object_type': 'movie',\n",
       "  'scoring': [{'provider_type': 'jw:popular_1_day', 'value': 143.68},\n",
       "   {'provider_type': 'jw:popular_7_day', 'value': 197.24},\n",
       "   {'provider_type': 'tmdb:popularity', 'value': 94.065},\n",
       "   {'provider_type': 'imdb:multiplied', 'value': 8286437.800000001},\n",
       "   {'provider_type': 'imdb:score', 'value': 8.3},\n",
       "   {'provider_type': 'jw:viral', 'value': 0.07},\n",
       "   {'provider_type': 'tmdb:votes', 'value': 10674},\n",
       "   {'provider_type': 'tmdb:score', 'value': 8.145},\n",
       "   {'provider_type': 'tmdb:id', 'value': 489},\n",
       "   {'provider_type': 'imdb:votes', 'value': 998366},\n",
       "   {'provider_type': 'jw:trending_7_day', 'value': 87.28},\n",
       "   {'provider_type': 'jw:popular_180_day', 'value': 233.98},\n",
       "   {'provider_type': 'jw:popular_30_day', 'value': 266.05},\n",
       "   {'provider_type': 'imdb:popularity', 'value': 286}],\n",
       "  'cinema_release_date': '1998-03-06'},\n",
       " {'jw_entity_id': 'tm1284150',\n",
       "  'id': 1284150,\n",
       "  'title': 'The Subtle Art of Not Giving a #@%!',\n",
       "  'full_path': '/uk/movie/the-subtle-art-of-not-giving-a-at',\n",
       "  'full_paths': {'MOVIE_DETAIL_OVERVIEW': '/uk/movie/the-subtle-art-of-not-giving-a-at'},\n",
       "  'poster': '/poster/302324876/{profile}',\n",
       "  'poster_blur_hash': 'TpKnPIenJC~poJW;5lt7xDtlkCso',\n",
       "  'object_type': 'movie',\n",
       "  'scoring': [{'provider_type': 'imdb:multiplied', 'value': 3172},\n",
       "   {'provider_type': 'jw:trending_7_day', 'value': 1053.85},\n",
       "   {'provider_type': 'tmdb:votes', 'value': 11},\n",
       "   {'provider_type': 'jw:popular_7_day', 'value': 917.69},\n",
       "   {'provider_type': 'imdb:score', 'value': 6.1},\n",
       "   {'provider_type': 'jw:popular_180_day', 'value': 64.98},\n",
       "   {'provider_type': 'jw:popular_30_day', 'value': 272.16},\n",
       "   {'provider_type': 'jw:popular_1_day', 'value': 147.78},\n",
       "   {'provider_type': 'tmdb:popularity', 'value': 4.816},\n",
       "   {'provider_type': 'tmdb:score', 'value': 6.182},\n",
       "   {'provider_type': 'tmdb:id', 'value': 1032696},\n",
       "   {'provider_type': 'imdb:votes', 'value': 520},\n",
       "   {'provider_type': 'jw:viral', 'value': 0.07}]},\n",
       " {'jw_entity_id': 'tm166586',\n",
       "  'id': 166586,\n",
       "  'title': 'Prisoners',\n",
       "  'full_path': '/uk/movie/prisoners',\n",
       "  'full_paths': {'MOVIE_DETAIL_OVERVIEW': '/uk/movie/prisoners'},\n",
       "  'poster': '/poster/183783880/{profile}',\n",
       "  'poster_blur_hash': 'T36axHXUtS,.00^krBIU-o^k-;n%',\n",
       "  'object_type': 'movie',\n",
       "  'scoring': [{'provider_type': 'tmdb:id', 'value': 146233},\n",
       "   {'provider_type': 'tmdb:popularity', 'value': 42.473},\n",
       "   {'provider_type': 'jw:popular_30_day', 'value': 258.99},\n",
       "   {'provider_type': 'jw:viral', 'value': 0.05},\n",
       "   {'provider_type': 'tmdb:votes', 'value': 10288},\n",
       "   {'provider_type': 'jw:popular_180_day', 'value': 180.76},\n",
       "   {'provider_type': 'jw:popular_1_day', 'value': 97.82},\n",
       "   {'provider_type': 'jw:popular_7_day', 'value': 150.84},\n",
       "   {'provider_type': 'imdb:multiplied', 'value': 6008280.3},\n",
       "   {'provider_type': 'tmdb:score', 'value': 8.08},\n",
       "   {'provider_type': 'imdb:votes', 'value': 741763},\n",
       "   {'provider_type': 'imdb:popularity', 'value': 266},\n",
       "   {'provider_type': 'jw:trending_7_day', 'value': 12.98},\n",
       "   {'provider_type': 'imdb:score', 'value': 8.1}],\n",
       "  'cinema_release_date': '2013-09-27'},\n",
       " {'jw_entity_id': 'tm57536',\n",
       "  'id': 57536,\n",
       "  'title': 'The Hunger Games',\n",
       "  'full_path': '/uk/movie/the-hunger-games',\n",
       "  'full_paths': {'MOVIE_DETAIL_OVERVIEW': '/uk/movie/the-hunger-games'},\n",
       "  'poster': '/poster/176272673/{profile}',\n",
       "  'poster_blur_hash': 'TADt%?=u5SFvxt0$R*5S9_};oe5S',\n",
       "  'object_type': 'movie',\n",
       "  'scoring': [{'provider_type': 'imdb:multiplied', 'value': 6798938.4},\n",
       "   {'provider_type': 'tmdb:id', 'value': 70160},\n",
       "   {'provider_type': 'imdb:score', 'value': 7.2},\n",
       "   {'provider_type': 'imdb:votes', 'value': 944297},\n",
       "   {'provider_type': 'jw:popular_7_day', 'value': 120.91},\n",
       "   {'provider_type': 'imdb:popularity', 'value': 241},\n",
       "   {'provider_type': 'jw:popular_30_day', 'value': 251.1},\n",
       "   {'provider_type': 'tmdb:votes', 'value': 20215},\n",
       "   {'provider_type': 'tmdb:popularity', 'value': 37.931},\n",
       "   {'provider_type': 'jw:popular_180_day', 'value': 161.56},\n",
       "   {'provider_type': 'jw:popular_1_day', 'value': 139.57},\n",
       "   {'provider_type': 'jw:viral', 'value': 0.07},\n",
       "   {'provider_type': 'tmdb:score', 'value': 7.2}],\n",
       "  'cinema_release_date': '2012-03-23'},\n",
       " {'jw_entity_id': 'tm679789',\n",
       "  'id': 679789,\n",
       "  'title': 'Another Round',\n",
       "  'full_path': '/uk/movie/another-round',\n",
       "  'full_paths': {'MOVIE_DETAIL_OVERVIEW': '/uk/movie/another-round'},\n",
       "  'poster': '/poster/240351772/{profile}',\n",
       "  'poster_blur_hash': 'TJEC%sRkaKcuxaR+T|R*IoJCNH?G',\n",
       "  'object_type': 'movie',\n",
       "  'scoring': [{'provider_type': 'tmdb:id', 'value': 580175},\n",
       "   {'provider_type': 'imdb:votes', 'value': 171709},\n",
       "   {'provider_type': 'jw:popular_180_day', 'value': 256.91},\n",
       "   {'provider_type': 'jw:popular_1_day', 'value': 147.78},\n",
       "   {'provider_type': 'jw:popular_7_day', 'value': 201.61},\n",
       "   {'provider_type': 'jw:popular_30_day', 'value': 250.24},\n",
       "   {'provider_type': 'imdb:popularity', 'value': 111},\n",
       "   {'provider_type': 'tmdb:votes', 'value': 2536},\n",
       "   {'provider_type': 'tmdb:popularity', 'value': 30.019},\n",
       "   {'provider_type': 'jw:viral', 'value': 0.07},\n",
       "   {'provider_type': 'imdb:score', 'value': 7.7},\n",
       "   {'provider_type': 'imdb:multiplied', 'value': 1322159.3},\n",
       "   {'provider_type': 'tmdb:score', 'value': 7.676},\n",
       "   {'provider_type': 'jw:trending_7_day', 'value': 92.05}],\n",
       "  'cinema_release_date': '2020-11-20'},\n",
       " {'jw_entity_id': 'tm123933',\n",
       "  'id': 123933,\n",
       "  'title': 'Jaws',\n",
       "  'full_path': '/uk/movie/jaws',\n",
       "  'full_paths': {'MOVIE_DETAIL_OVERVIEW': '/uk/movie/jaws'},\n",
       "  'poster': '/poster/8713802/{profile}',\n",
       "  'poster_blur_hash': 'T:I6QIofS$~Wj[o}+aj@tR#RayW;',\n",
       "  'object_type': 'movie',\n",
       "  'scoring': [{'provider_type': 'jw:popular_7_day', 'value': 111.39},\n",
       "   {'provider_type': 'jw:popular_180_day', 'value': 145.1},\n",
       "   {'provider_type': 'tmdb:id', 'value': 578},\n",
       "   {'provider_type': 'jw:viral', 'value': 0.15},\n",
       "   {'provider_type': 'tmdb:popularity', 'value': 37.849},\n",
       "   {'provider_type': 'imdb:votes', 'value': 620953},\n",
       "   {'provider_type': 'jw:popular_1_day', 'value': 377.67},\n",
       "   {'provider_type': 'jw:popular_30_day', 'value': 247.84},\n",
       "   {'provider_type': 'tmdb:score', 'value': 7.654},\n",
       "   {'provider_type': 'imdb:popularity', 'value': 128},\n",
       "   {'provider_type': 'tmdb:votes', 'value': 9135},\n",
       "   {'provider_type': 'imdb:multiplied', 'value': 5029719.3},\n",
       "   {'provider_type': 'imdb:score', 'value': 8.1}],\n",
       "  'cinema_release_date': '2012-06-15'},\n",
       " {'jw_entity_id': 'tm57755',\n",
       "  'id': 57755,\n",
       "  'title': 'All Quiet on the Western Front',\n",
       "  'full_path': '/uk/movie/all-quiet-on-the-western-front-2018',\n",
       "  'full_paths': {'MOVIE_DETAIL_OVERVIEW': '/uk/movie/all-quiet-on-the-western-front-2018'},\n",
       "  'poster': '/poster/301383625/{profile}',\n",
       "  'poster_blur_hash': 'TB9aN$4-kX?wIU%MIpxuofM{tRX8',\n",
       "  'object_type': 'movie',\n",
       "  'scoring': [{'provider_type': 'jw:popular_180_day', 'value': 518.49},\n",
       "   {'provider_type': 'jw:popular_7_day', 'value': 150.33},\n",
       "   {'provider_type': 'jw:viral', 'value': 0.04},\n",
       "   {'provider_type': 'imdb:multiplied', 'value': 1550546.4},\n",
       "   {'provider_type': 'tmdb:score', 'value': 7.769},\n",
       "   {'provider_type': 'imdb:votes', 'value': 198788},\n",
       "   {'provider_type': 'jw:trending_7_day', 'value': 64.31},\n",
       "   {'provider_type': 'tmdb:popularity', 'value': 151.716},\n",
       "   {'provider_type': 'tmdb:id', 'value': 49046},\n",
       "   {'provider_type': 'imdb:score', 'value': 7.8},\n",
       "   {'provider_type': 'tmdb:votes', 'value': 2641},\n",
       "   {'provider_type': 'jw:popular_30_day', 'value': 243.04},\n",
       "   {'provider_type': 'jw:popular_1_day', 'value': 78}]},\n",
       " {'jw_entity_id': 'tm327097',\n",
       "  'id': 327097,\n",
       "  'title': 'Once Upon a Time… in Hollywood',\n",
       "  'full_path': '/uk/movie/once-upon-a-time-in-hollywood',\n",
       "  'full_paths': {'MOVIE_DETAIL_OVERVIEW': '/uk/movie/once-upon-a-time-in-hollywood'},\n",
       "  'poster': '/poster/158053067/{profile}',\n",
       "  'poster_blur_hash': 'TMIqSz0MN1.Q?GM{El%1S3WEIVtR',\n",
       "  'object_type': 'movie',\n",
       "  'scoring': [{'provider_type': 'jw:popular_30_day', 'value': 245.59},\n",
       "   {'provider_type': 'jw:popular_7_day', 'value': 142.97},\n",
       "   {'provider_type': 'tmdb:id', 'value': 466272},\n",
       "   {'provider_type': 'jw:popular_180_day', 'value': 246.41},\n",
       "   {'provider_type': 'tmdb:score', 'value': 7.435},\n",
       "   {'provider_type': 'imdb:score', 'value': 7.6},\n",
       "   {'provider_type': 'tmdb:votes', 'value': 11784},\n",
       "   {'provider_type': 'imdb:votes', 'value': 773941},\n",
       "   {'provider_type': 'jw:viral', 'value': 0.08},\n",
       "   {'provider_type': 'tmdb:popularity', 'value': 39.539},\n",
       "   {'provider_type': 'jw:trending_7_day', 'value': 24.58},\n",
       "   {'provider_type': 'imdb:multiplied', 'value': 5881951.6},\n",
       "   {'provider_type': 'imdb:popularity', 'value': 30},\n",
       "   {'provider_type': 'jw:popular_1_day', 'value': 160.1}],\n",
       "  'cinema_release_date': '2019-08-14'},\n",
       " {'jw_entity_id': 'tm143861',\n",
       "  'id': 143861,\n",
       "  'title': 'Inglourious Basterds',\n",
       "  'full_path': '/uk/movie/inglourious-basterds',\n",
       "  'full_paths': {'MOVIE_DETAIL_OVERVIEW': '/uk/movie/inglourious-basterds'},\n",
       "  'poster': '/poster/121974617/{profile}',\n",
       "  'poster_blur_hash': 'T]M@7fRj_Na0a}tR-pa{WVM{fQj[',\n",
       "  'object_type': 'movie',\n",
       "  'scoring': [{'provider_type': 'tmdb:id', 'value': 16869},\n",
       "   {'provider_type': 'imdb:popularity', 'value': 149},\n",
       "   {'provider_type': 'imdb:votes', 'value': 1484642},\n",
       "   {'provider_type': 'imdb:multiplied', 'value': 12322528.600000001},\n",
       "   {'provider_type': 'jw:popular_7_day', 'value': 167.49},\n",
       "   {'provider_type': 'jw:popular_180_day', 'value': 185.25},\n",
       "   {'provider_type': 'jw:popular_30_day', 'value': 244.69},\n",
       "   {'provider_type': 'jw:viral', 'value': 0.08},\n",
       "   {'provider_type': 'jw:trending_7_day', 'value': 89.98},\n",
       "   {'provider_type': 'tmdb:popularity', 'value': 52.003},\n",
       "   {'provider_type': 'tmdb:score', 'value': 8.214},\n",
       "   {'provider_type': 'imdb:score', 'value': 8.3},\n",
       "   {'provider_type': 'tmdb:votes', 'value': 20164},\n",
       "   {'provider_type': 'jw:popular_1_day', 'value': 184.73}],\n",
       "  'cinema_release_date': '2009-08-19'},\n",
       " {'jw_entity_id': 'tm415878',\n",
       "  'id': 415878,\n",
       "  'title': 'Jumanji: The Next Level',\n",
       "  'full_path': '/uk/movie/jumanji-3',\n",
       "  'full_paths': {'MOVIE_DETAIL_OVERVIEW': '/uk/movie/jumanji-3'},\n",
       "  'poster': '/poster/157565421/{profile}',\n",
       "  'poster_blur_hash': 'TJF5mh0L%2%%ROkD5T%0R-I[xun$',\n",
       "  'object_type': 'movie',\n",
       "  'scoring': [{'provider_type': 'tmdb:score', 'value': 6.941},\n",
       "   {'provider_type': 'imdb:popularity', 'value': 365},\n",
       "   {'provider_type': 'imdb:multiplied', 'value': 1754187.3},\n",
       "   {'provider_type': 'tmdb:votes', 'value': 7657},\n",
       "   {'provider_type': 'jw:popular_1_day', 'value': 90.31},\n",
       "   {'provider_type': 'jw:popular_30_day', 'value': 214.55},\n",
       "   {'provider_type': 'tmdb:id', 'value': 512200},\n",
       "   {'provider_type': 'imdb:score', 'value': 6.7},\n",
       "   {'provider_type': 'imdb:votes', 'value': 261819},\n",
       "   {'provider_type': 'jw:popular_7_day', 'value': 150.26},\n",
       "   {'provider_type': 'jw:popular_180_day', 'value': 119.33},\n",
       "   {'provider_type': 'jw:viral', 'value': 0.05},\n",
       "   {'provider_type': 'tmdb:popularity', 'value': 55.248}],\n",
       "  'cinema_release_date': '2019-12-13'},\n",
       " {'jw_entity_id': 'tm1206608',\n",
       "  'id': 1206608,\n",
       "  'title': 'The Mother',\n",
       "  'full_path': '/uk/movie/the-mother-2022',\n",
       "  'full_paths': {'MOVIE_DETAIL_OVERVIEW': '/uk/movie/the-mother-2022'},\n",
       "  'poster': '/poster/304873173/{profile}',\n",
       "  'poster_blur_hash': 'TJBD7.xZ~W~Vs:?a-;RjxuNdWVRk',\n",
       "  'object_type': 'movie',\n",
       "  'scoring': [{'provider_type': 'jw:viral', 'value': 0.22},\n",
       "   {'provider_type': 'tmdb:score', 'value': 6.736},\n",
       "   {'provider_type': 'jw:popular_30_day', 'value': 212.34},\n",
       "   {'provider_type': 'jw:popular_1_day', 'value': 623.98},\n",
       "   {'provider_type': 'tmdb:votes', 'value': 146},\n",
       "   {'provider_type': 'tmdb:id', 'value': 552688},\n",
       "   {'provider_type': 'jw:trending_7_day', 'value': 722.52},\n",
       "   {'provider_type': 'jw:popular_180_day', 'value': 34.81},\n",
       "   {'provider_type': 'tmdb:popularity', 'value': 141.856},\n",
       "   {'provider_type': 'jw:popular_7_day', 'value': 632.38}]},\n",
       " {'jw_entity_id': 'tm166168',\n",
       "  'id': 166168,\n",
       "  'title': 'Drive',\n",
       "  'full_path': '/uk/movie/drive',\n",
       "  'full_paths': {'MOVIE_DETAIL_OVERVIEW': '/uk/movie/drive'},\n",
       "  'poster': '/poster/8646839/{profile}',\n",
       "  'poster_blur_hash': 'TOBy]V_2-:_L?b?H-V-;%MIpxut8',\n",
       "  'object_type': 'movie',\n",
       "  'scoring': [{'provider_type': 'jw:popular_7_day', 'value': 131.56},\n",
       "   {'provider_type': 'tmdb:score', 'value': 7.566},\n",
       "   {'provider_type': 'tmdb:popularity', 'value': 38.392},\n",
       "   {'provider_type': 'jw:popular_30_day', 'value': 207.04},\n",
       "   {'provider_type': 'imdb:multiplied', 'value': 5154559.8},\n",
       "   {'provider_type': 'imdb:popularity', 'value': 588},\n",
       "   {'provider_type': 'jw:viral', 'value': 0.07},\n",
       "   {'provider_type': 'jw:popular_1_day', 'value': 127.26},\n",
       "   {'provider_type': 'imdb:votes', 'value': 660841},\n",
       "   {'provider_type': 'tmdb:votes', 'value': 11338},\n",
       "   {'provider_type': 'jw:popular_180_day', 'value': 178.72},\n",
       "   {'provider_type': 'jw:trending_7_day', 'value': 54.87},\n",
       "   {'provider_type': 'tmdb:id', 'value': 64690},\n",
       "   {'provider_type': 'imdb:score', 'value': 7.8}],\n",
       "  'cinema_release_date': '2011-09-23'}]"
      ]
     },
     "execution_count": 164,
     "metadata": {},
     "output_type": "execute_result"
    }
   ],
   "source": [
    "just_watch.search_for_item(providers=['nfx'], content_types=['movie']).get('items')"
   ]
  }
 ],
 "metadata": {
  "kernelspec": {
   "display_name": "letterboxd-env",
   "language": "python",
   "name": "python3"
  },
  "language_info": {
   "codemirror_mode": {
    "name": "ipython",
    "version": 3
   },
   "file_extension": ".py",
   "mimetype": "text/x-python",
   "name": "python",
   "nbconvert_exporter": "python",
   "pygments_lexer": "ipython3",
   "version": "3.11.2"
  },
  "orig_nbformat": 4
 },
 "nbformat": 4,
 "nbformat_minor": 2
}
