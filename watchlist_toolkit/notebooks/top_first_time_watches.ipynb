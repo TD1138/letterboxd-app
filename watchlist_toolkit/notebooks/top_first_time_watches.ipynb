{
 "cells": [
  {
   "cell_type": "code",
   "execution_count": 11,
   "id": "fe533e44-e521-4f96-8b73-bc64e4288f9e",
   "metadata": {},
   "outputs": [],
   "source": [
    "import numpy as np, pandas as pd\n",
    "import sqlite3 as sql\n",
    "import os\n",
    "import seaborn as sns\n",
    "import plotly.graph_objs as go\n",
    "from dotenv import load_dotenv\n",
    "import sys\n",
    "sys.path.insert(0, '../data_prep')\n",
    "from sqlite_utils import db_info, db_table_samples, select_statement_to_df, get_from_table"
   ]
  },
  {
   "cell_type": "code",
   "execution_count": 12,
   "id": "7eb5e687-bf17-448b-bd47-64ca23aba8d8",
   "metadata": {},
   "outputs": [
    {
     "data": {
      "text/plain": [
       "True"
      ]
     },
     "execution_count": 12,
     "metadata": {},
     "output_type": "execute_result"
    }
   ],
   "source": [
    "load_dotenv()"
   ]
  },
  {
   "cell_type": "code",
   "execution_count": 13,
   "id": "6148093d",
   "metadata": {},
   "outputs": [],
   "source": [
    "pd.set_option('display.max_rows', 999)\n",
    "pd.set_option('display.max_columns', 99)"
   ]
  },
  {
   "cell_type": "code",
   "execution_count": 14,
   "id": "193973bc",
   "metadata": {},
   "outputs": [],
   "source": [
    "def top_n_rated_timeframe(top_n, diary_date_from, diary_date_to, min_film_year=1800, max_film_year=2099, first_time_watch=True, film_genre=None, bottom=False):\n",
    "    \n",
    "    select_statement_a = \"\"\"\n",
    "    \n",
    "    SELECT\n",
    "\n",
    "         a.FILM_ID\n",
    "        ,b.FILM_TITLE\n",
    "        ,d.FILM_YEAR\n",
    "        ,c.FILM_RATING_SCALED\n",
    "        ,a.WATCH_DATE\n",
    "\t    ,e.FILM_GENRE\n",
    "        \n",
    "    FROM DIARY a\n",
    "    LEFT JOIN FILM_TITLE b\n",
    "    ON a.FILM_ID = b.FILM_ID\n",
    "    LEFT JOIN PERSONAL_RATING c\n",
    "    ON a.FILM_ID = c.FILM_ID\n",
    "    LEFT JOIN FILM_YEAR d\n",
    "    ON a.FILM_ID = d.FILM_ID\n",
    "    LEFT JOIN FILM_GENRE e\n",
    "    ON a.FILM_ID = e.FILM_ID\n",
    "\n",
    "    WHERE a.WATCH_DATE >= \"{}\"\n",
    "    AND a.WATCH_DATE <= \"{}\"\n",
    "    AND a.IS_NARRATIVE_FEATURE = 1\n",
    "    AND a.FIRST_TIME_WATCH = {}\n",
    "    AND d.FILM_YEAR >= {}\n",
    "    AND d.FILM_YEAR <= {}\n",
    "    \"\"\".format(diary_date_from, diary_date_to, first_time_watch, min_film_year, max_film_year)\n",
    "\n",
    "    if film_genre:\n",
    "        select_statement_b = \"\"\"\n",
    "        AND e.FILM_GENRE LIKE \"{}\"\n",
    "        \"\"\".format(film_genre)\n",
    "    else:\n",
    "        select_statement_b = \"\"\n",
    "    if bottom:\n",
    "        sort_order = 'ASC'\n",
    "    else:\n",
    "        sort_order = 'DESC'\n",
    "    select_statement_c = \"\"\"\n",
    "    ORDER BY c.FILM_RATING_SCALED {}\n",
    "    LIMIT {}\n",
    "    \"\"\".format(sort_order, top_n)\n",
    "    select_statement = select_statement_a + select_statement_b + select_statement_c\n",
    "    return select_statement_to_df(select_statement)"
   ]
  },
  {
   "cell_type": "code",
   "execution_count": 16,
   "id": "1fd5c2f4",
   "metadata": {},
   "outputs": [
    {
     "data": {
      "text/html": [
       "<div>\n",
       "<style scoped>\n",
       "    .dataframe tbody tr th:only-of-type {\n",
       "        vertical-align: middle;\n",
       "    }\n",
       "\n",
       "    .dataframe tbody tr th {\n",
       "        vertical-align: top;\n",
       "    }\n",
       "\n",
       "    .dataframe thead th {\n",
       "        text-align: right;\n",
       "    }\n",
       "</style>\n",
       "<table border=\"1\" class=\"dataframe\">\n",
       "  <thead>\n",
       "    <tr style=\"text-align: right;\">\n",
       "      <th></th>\n",
       "      <th>FILM_ID</th>\n",
       "      <th>FILM_TITLE</th>\n",
       "      <th>FILM_YEAR</th>\n",
       "      <th>FILM_RATING_SCALED</th>\n",
       "      <th>WATCH_DATE</th>\n",
       "      <th>FILM_GENRE</th>\n",
       "    </tr>\n",
       "  </thead>\n",
       "  <tbody>\n",
       "    <tr>\n",
       "      <th>0</th>\n",
       "      <td>f_0tFwE</td>\n",
       "      <td>Lamb</td>\n",
       "      <td>2021</td>\n",
       "      <td>3.548982</td>\n",
       "      <td>2025-01-01</td>\n",
       "      <td>fantasy</td>\n",
       "    </tr>\n",
       "  </tbody>\n",
       "</table>\n",
       "</div>"
      ],
      "text/plain": [
       "   FILM_ID FILM_TITLE  FILM_YEAR  FILM_RATING_SCALED  WATCH_DATE FILM_GENRE\n",
       "0  f_0tFwE       Lamb       2021            3.548982  2025-01-01    fantasy"
      ]
     },
     "execution_count": 16,
     "metadata": {},
     "output_type": "execute_result"
    }
   ],
   "source": [
    "top_n_rated_timeframe(top_n=50, diary_date_from='2025-01-01', diary_date_to='2025-12-31', min_film_year=1900, max_film_year=2023, first_time_watch=True, bottom=False)"
   ]
  },
  {
   "cell_type": "code",
   "execution_count": null,
   "id": "87c64ae0",
   "metadata": {},
   "outputs": [],
   "source": []
  }
 ],
 "metadata": {
  "kernelspec": {
   "display_name": "letterboxd-env",
   "language": "python",
   "name": "python3"
  },
  "language_info": {
   "codemirror_mode": {
    "name": "ipython",
    "version": 3
   },
   "file_extension": ".py",
   "mimetype": "text/x-python",
   "name": "python",
   "nbconvert_exporter": "python",
   "pygments_lexer": "ipython3",
   "version": "3.10.11"
  }
 },
 "nbformat": 4,
 "nbformat_minor": 5
}
